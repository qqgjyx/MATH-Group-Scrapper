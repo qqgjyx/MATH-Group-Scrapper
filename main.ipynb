{
 "cells": [
  {
   "metadata": {
    "ExecuteTime": {
     "end_time": "2024-05-29T20:01:47.983797Z",
     "start_time": "2024-05-29T20:01:44.858239Z"
    }
   },
   "cell_type": "code",
   "source": [
    "import requests\n",
    "from bs4 import BeautifulSoup\n",
    "import pandas as pd\n",
    "import time\n",
    "from tqdm import tqdm"
   ],
   "id": "de78276f8ea21c8b",
   "execution_count": 1,
   "outputs": []
  },
  {
   "metadata": {
    "ExecuteTime": {
     "end_time": "2024-05-29T20:01:49.305942Z",
     "start_time": "2024-05-29T20:01:49.303739Z"
    }
   },
   "cell_type": "code",
   "source": [
    "# Base URL of the webpage\n",
    "base_url = \"https://mediadive.dsmz.de\""
   ],
   "id": "2cf409d0c5caa8b6",
   "execution_count": 2,
   "outputs": []
  },
  {
   "metadata": {
    "ExecuteTime": {
     "end_time": "2024-05-29T20:01:49.954808Z",
     "start_time": "2024-05-29T20:01:49.951475Z"
    }
   },
   "cell_type": "code",
   "source": [
    "# Function to extract data from a single page\n",
    "def extract_data_from_page(url, page):\n",
    "    params = {\"p\": page}\n",
    "    response = requests.get(url, params=params)\n",
    "    response.raise_for_status()\n",
    "    soup = BeautifulSoup(response.content, 'html.parser')\n",
    "    \n",
    "    data = []\n",
    "    table_rows = soup.find_all('tr')[1:]  # Skip the header row\n",
    "    for row in table_rows:\n",
    "        columns = row.find_all('td')\n",
    "        row_data = []\n",
    "        \n",
    "        # Organism Group\n",
    "        organism_group = columns[0].get_text(strip=True)\n",
    "        row_data.append(organism_group)\n",
    "        \n",
    "        # Name and link\n",
    "        name_tag = columns[1].find('a')\n",
    "        name = name_tag.get_text(strip=True)\n",
    "        name_link = base_url + name_tag['href']\n",
    "        row_data.append(name)\n",
    "        row_data.append(name_link)\n",
    "        \n",
    "        # Taxonomy link\n",
    "        taxonomy_tag = columns[2].find('a')\n",
    "        taxonomy_link = base_url + taxonomy_tag['href'] if taxonomy_tag else None\n",
    "        row_data.append(taxonomy_link)\n",
    "        \n",
    "        # Growth Media links\n",
    "        growth_media_links = [base_url + a['href'] for a in columns[3].find_all('a')]\n",
    "        row_data.append(growth_media_links)\n",
    "        \n",
    "        # External links\n",
    "        external_links = [a['href'] for a in columns[4].find_all('a')]\n",
    "        row_data.append(external_links)\n",
    "        \n",
    "        data.append(row_data)\n",
    "    \n",
    "    return data, soup"
   ],
   "id": "e7f9e24231e0f1af",
   "execution_count": 3,
   "outputs": []
  },
  {
   "metadata": {
    "ExecuteTime": {
     "end_time": "2024-05-29T20:01:50.525848Z",
     "start_time": "2024-05-29T20:01:50.523392Z"
    }
   },
   "cell_type": "code",
   "source": [
    "# Function to fetch and print the HTML structure of a given URL\n",
    "def fetch_html_structure(url):\n",
    "    try:\n",
    "        response = requests.get(url)\n",
    "        response.raise_for_status()\n",
    "        soup = BeautifulSoup(response.content, 'html.parser')\n",
    "        return soup\n",
    "    except requests.exceptions.RequestException as e:\n",
    "        print(f\"Error fetching HTML content from {url}: {e}\")\n",
    "        return None"
   ],
   "id": "f4b44818ee04a863",
   "execution_count": 4,
   "outputs": []
  },
  {
   "metadata": {
    "ExecuteTime": {
     "end_time": "2024-05-29T20:01:51.086524Z",
     "start_time": "2024-05-29T20:01:51.082955Z"
    }
   },
   "cell_type": "code",
   "source": [
    "# Function to extract key data from the HTML structure\n",
    "def extract_key_data(soup):\n",
    "    if not soup:\n",
    "        return None\n",
    "    \n",
    "    # Extracting the title\n",
    "    title = soup.find('title').text.strip() if soup.find('title') else 'N/A'\n",
    "\n",
    "    # Extracting the strain name\n",
    "    strain_name = soup.find('h2').text.strip() if soup.find('h2') else 'N/A'\n",
    "\n",
    "    # Extracting the synonyms\n",
    "    synonyms = []\n",
    "    paragraphs = soup.find_all('p')\n",
    "    for p in paragraphs:\n",
    "        bold_text = p.find('b', string='Synonyms:')\n",
    "        if bold_text:\n",
    "            for content in p.contents:\n",
    "                if content.name == 'a':\n",
    "                    synonyms.append(content.get_text(strip=True))\n",
    "                    synonyms.append('href: '+content.get('href'))\n",
    "                elif isinstance(content, str) and content.strip():\n",
    "                    synonyms.extend(content.split(', '))\n",
    "            break\n",
    "    \n",
    "    # Extracting growth media details\n",
    "    media_details = []\n",
    "    media_boxes = soup.find_all('div', class_='box')\n",
    "\n",
    "    for box in media_boxes:\n",
    "        media_title = box.find('h3', class_='title').text.strip() if box.find('h3', class_='title') else 'N/A'\n",
    "        media_link = box.find('a', class_='link colorless')['href'] if box.find('a', 'link colorless') else 'N/A'\n",
    "        \n",
    "        # Corrected logic to check for growth observation\n",
    "        growth_observed = 'Yes' if box.find('i', class_='ph ph-lg ph-check text-success') else 'No'\n",
    "        \n",
    "        growth_conditions = box.find('span', class_='badge danger').text.strip() if box.find('span', 'badge danger') else 'N/A'\n",
    "        \n",
    "        media_details.append({\n",
    "            'media_title': media_title,\n",
    "            'media_link': media_link,\n",
    "            'growth_observed': growth_observed,\n",
    "            'growth_conditions': growth_conditions\n",
    "        })\n",
    "\n",
    "    return {\n",
    "        'title': title,\n",
    "        'strain_name': strain_name,\n",
    "        'synonyms': synonyms,\n",
    "        'media_details': media_details\n",
    "    }"
   ],
   "id": "591bcabce2ced0ba",
   "execution_count": 5,
   "outputs": []
  },
  {
   "metadata": {
    "ExecuteTime": {
     "end_time": "2024-05-29T20:01:51.816442Z",
     "start_time": "2024-05-29T20:01:51.814843Z"
    }
   },
   "cell_type": "code",
   "source": [
    "# Function to extract detailed strain information\n",
    "def extract_strain_details(url):\n",
    "    soup = fetch_html_structure(url)\n",
    "    return extract_key_data(soup)"
   ],
   "id": "b685551939bab512",
   "execution_count": 6,
   "outputs": []
  },
  {
   "metadata": {
    "ExecuteTime": {
     "end_time": "2024-05-29T20:01:52.577576Z",
     "start_time": "2024-05-29T20:01:52.574919Z"
    }
   },
   "cell_type": "code",
   "source": [
    "# Function to extract medium information\n",
    "def extract_medium_details(url):\n",
    "    retries = 3\n",
    "    for i in range(retries):\n",
    "        try:\n",
    "            response = requests.get(url)\n",
    "            response.raise_for_status()\n",
    "            soup = BeautifulSoup(response.content, 'html.parser')\n",
    "\n",
    "            medium_details = {}\n",
    "            # Extract medium name and components\n",
    "            medium_details['Medium Name'] = soup.find('h1').get_text(strip=True)\n",
    "            medium_details['Components'] = {item.find('span', class_='compound-name').get_text(strip=True): item.find('span', class_='compound-amount').get_text(strip=True) for item in soup.find_all('div', class_='compound')}\n",
    "            return medium_details\n",
    "        except (requests.exceptions.RequestException, ConnectionResetError) as e:\n",
    "            print(f\"Error fetching medium details from {url}: {e}. Retrying ({i+1}/{retries})...\")\n",
    "            time.sleep(5)\n",
    "    return {\"Medium Name\": \"\", \"Components\": {}}"
   ],
   "id": "7daeb30dd6b7e029",
   "execution_count": 7,
   "outputs": []
  },
  {
   "metadata": {
    "ExecuteTime": {
     "end_time": "2024-05-29T20:02:33.597731Z",
     "start_time": "2024-05-29T20:01:53.756715Z"
    }
   },
   "cell_type": "code",
   "source": [
    "# Main scraping process\n",
    "all_data = []\n",
    "\n",
    "# Scrape data from the first 20 pages\n",
    "for page in range(1, 21):\n",
    "    try:\n",
    "        # Extract data from the current page\n",
    "        page_data, soup = extract_data_from_page(base_url + \"/strains\", page)\n",
    "        all_data.extend(page_data)\n",
    "        \n",
    "        # Print the current page number\n",
    "        print(f\"Processing page {page}\")\n",
    "    except (requests.exceptions.RequestException, ConnectionResetError) as e:\n",
    "        print(f\"Error fetching data from page {page}: {e}. Skipping this page...\")\n",
    "        time.sleep(5)\n",
    "        continue\n",
    "\n",
    "# Create a DataFrame from the extracted data\n",
    "columns = [\"Organism Group\", \"Name\", \"Name Link\", \"Taxonomy Link\", \"Growth Media Links\", \"External Links\"]\n",
    "df = pd.DataFrame(all_data, columns=columns)"
   ],
   "id": "481ed68258a2ef01",
   "execution_count": 8,
   "outputs": []
  },
  {
   "metadata": {
    "ExecuteTime": {
     "end_time": "2024-05-29T20:02:46.744714Z",
     "start_time": "2024-05-29T20:02:37.318846Z"
    }
   },
   "cell_type": "code",
   "source": [
    "# Extract detailed information for each strain and medium\n",
    "detailed_data = []\n",
    "for index, row in tqdm(df.iterrows(), total=df.shape[0], desc=\"Extracting strain details\"):\n",
    "    strain_details = extract_strain_details(row['Name Link'])\n",
    "    if strain_details:\n",
    "        for medium_link in tqdm(row['Growth Media Links'], desc=f\"Extracting media for {row['Name']}\", leave=False):\n",
    "            medium_details = extract_medium_details(medium_link)\n",
    "            detailed_data.append({\n",
    "                \"Organism Group\": row['Organism Group'],\n",
    "                \"Name\": row['Name'],\n",
    "                \"Synonyms\": ', '.join(strain_details['synonyms']),\n",
    "                \"Growth Conditions\": strain_details['media_details'],\n",
    "                \"Medium Name\": medium_details['Medium Name'],\n",
    "                \"Components\": medium_details['Components']\n",
    "            })\n",
    "    # Save progress periodically\n",
    "    if (index + 1) % 10 == 0:\n",
    "        df_detailed = pd.DataFrame(detailed_data)\n",
    "        df_detailed.to_csv('dsmz_detailed_strains_partial.csv', index=False)"
   ],
   "id": "b51a2247d4d683e",
   "execution_count": 9,
   "outputs": []
  },
  {
   "metadata": {
    "ExecuteTime": {
     "end_time": "2024-05-29T19:44:20.412968Z",
     "start_time": "2024-05-29T19:44:20.408927Z"
    }
   },
   "cell_type": "code",
   "source": [
    "# Create a detailed DataFrame\n",
    "df_detailed = pd.DataFrame(detailed_data)\n",
    "\n",
    "# Save the detailed DataFrame to a CSV file\n",
    "df_detailed.to_csv('dsmz_detailed_strains.csv', index=False)\n",
    "\n",
    "print(\"Detailed data scraped and saved to dsmz_detailed_strains.csv\")"
   ],
   "id": "55f518bc34aa7013",
   "execution_count": 22,
   "outputs": []
  },
  {
   "metadata": {},
   "cell_type": "code",
   "execution_count": null,
   "source": "",
   "id": "738e18c8e8f3d150",
   "outputs": []
  }
 ],
 "metadata": {
  "kernelspec": {
   "display_name": "Python 3",
   "language": "python",
   "name": "python3"
  },
  "language_info": {
   "codemirror_mode": {
    "name": "ipython",
    "version": 2
   },
   "file_extension": ".py",
   "mimetype": "text/x-python",
   "name": "python",
   "nbconvert_exporter": "python",
   "pygments_lexer": "ipython2",
   "version": "2.7.6"
  }
 },
 "nbformat": 4,
 "nbformat_minor": 5
}
