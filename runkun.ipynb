{
 "cells": [
  {
   "metadata": {
    "ExecuteTime": {
     "end_time": "2024-05-30T07:05:14.550899Z",
     "start_time": "2024-05-30T07:04:15.597022Z"
    }
   },
   "cell_type": "code",
   "source": [
    "import requests\n",
    "from bs4 import BeautifulSoup\n",
    "import pandas as pd\n",
    "\n",
    "# Base URL of the page to scrape\n",
    "base_url = 'https://mediadive.dsmz.de/gas'\n",
    "\n",
    "# Prepare lists to hold the data\n",
    "N2 = []\n",
    "O2 = []\n",
    "CO2 = []\n",
    "H2 = []\n",
    "CH4 = []\n",
    "CO = []\n",
    "Air = []\n",
    "mediums = []\n",
    "\n",
    "# Function to scrape a single page\n",
    "def scrape_page(page_url):\n",
    "    response = requests.get(page_url)\n",
    "    response.raise_for_status()  # Check if the request was successful\n",
    "    \n",
    "    # Parse the page content\n",
    "    soup = BeautifulSoup(response.text, 'html.parser')\n",
    "    \n",
    "    # Find the table rows\n",
    "    rows = soup.find_all('tr')\n",
    "\n",
    "    # Check if rows are empty (end of pagination)\n",
    "    if not rows:\n",
    "        return False\n",
    "    \n",
    "    table_rows = soup.find('div', class_=\"table-responsive my-15\").find_all('tr')[1:]  # Skip the header row\n",
    "    # print(table_rows)\n",
    "    # Loop through the rows and extract data\n",
    "    for row in table_rows:\n",
    "        columns = row.find_all('td')\n",
    "        Medium = columns[0].get_text(strip=True)\n",
    "        mediums.append(Medium)\n",
    "        N_2 = columns[1].get_text(strip=True)\n",
    "        N2.append(N_2)\n",
    "        O_2 = columns[2].get_text(strip=True)\n",
    "        O2.append(O_2)\n",
    "        CO_2 = columns[3].get_text(strip=True)\n",
    "        CO2.append(CO_2)\n",
    "        # print(Medium)\n",
    "        H_2 = columns[4].get_text(strip=True)\n",
    "        H2.append(H_2)\n",
    "        CH_4 = columns[5].get_text(strip=True)\n",
    "        CH4.append(CH_4)\n",
    "        CO1 = columns[6].get_text(strip=True)\n",
    "        CO.append(CO1)\n",
    "        air = columns[7].get_text(strip=True)\n",
    "        Air.append(air)\n",
    "    return True\n",
    "\n",
    "# Loop through the first 100 pages\n",
    "for page in range(1, 49):\n",
    "    page_url = f'{base_url}?p={page}'\n",
    "    print(f'Scraping page: {page}')\n",
    "    if not scrape_page(page_url):\n",
    "        break\n",
    "\n",
    "\n",
    "# Create a DataFrame\n",
    "df = pd.DataFrame({\n",
    "    'Medium': mediums,\n",
    "    'N2':N2,\n",
    "    'O2':O2,\n",
    "    'CO2':CO2,\n",
    "    'H2':H2,\n",
    "    'CH4':CH4,\n",
    "    'CO':CO,\n",
    "    'Air':Air\n",
    "})\n",
    "\n",
    "df\n",
    "df.to_csv('data.csv')"
   ],
   "id": "73d2d473739d9e95",
   "outputs": [
    {
     "name": "stdout",
     "output_type": "stream",
     "text": [
      "Scraping page: 1\n",
      "Scraping page: 2\n",
      "Scraping page: 3\n",
      "Scraping page: 4\n",
      "Scraping page: 5\n",
      "Scraping page: 6\n",
      "Scraping page: 7\n",
      "Scraping page: 8\n",
      "Scraping page: 9\n",
      "Scraping page: 10\n",
      "Scraping page: 11\n",
      "Scraping page: 12\n",
      "Scraping page: 13\n",
      "Scraping page: 14\n",
      "Scraping page: 15\n",
      "Scraping page: 16\n",
      "Scraping page: 17\n",
      "Scraping page: 18\n",
      "Scraping page: 19\n",
      "Scraping page: 20\n",
      "Scraping page: 21\n",
      "Scraping page: 22\n",
      "Scraping page: 23\n",
      "Scraping page: 24\n",
      "Scraping page: 25\n",
      "Scraping page: 26\n",
      "Scraping page: 27\n",
      "Scraping page: 28\n",
      "Scraping page: 29\n",
      "Scraping page: 30\n",
      "Scraping page: 31\n",
      "Scraping page: 32\n",
      "Scraping page: 33\n",
      "Scraping page: 34\n",
      "Scraping page: 35\n",
      "Scraping page: 36\n",
      "Scraping page: 37\n",
      "Scraping page: 38\n",
      "Scraping page: 39\n",
      "Scraping page: 40\n",
      "Scraping page: 41\n",
      "Scraping page: 42\n",
      "Scraping page: 43\n",
      "Scraping page: 44\n",
      "Scraping page: 45\n",
      "Scraping page: 46\n",
      "Scraping page: 47\n",
      "Scraping page: 48\n"
     ]
    }
   ],
   "execution_count": 12
  },
  {
   "metadata": {
    "ExecuteTime": {
     "end_time": "2024-05-30T07:37:45.853484Z",
     "start_time": "2024-05-30T07:37:07.197722Z"
    }
   },
   "cell_type": "code",
   "source": [
    "import requests\n",
    "from bs4 import BeautifulSoup\n",
    "import pandas as pd\n",
    "from concurrent.futures import ThreadPoolExecutor, as_completed\n",
    "from tqdm import tqdm\n",
    "\n",
    "# Base URL of the page to scrape\n",
    "base_url = 'https://mediadive.dsmz.de/steps'\n",
    "\n",
    "# Function to scrape a single page\n",
    "def scrape_page(page):\n",
    "    page_url = f'{base_url}?p={page}'\n",
    "    response = requests.get(page_url)\n",
    "    response.raise_for_status()  # Check if the request was successful\n",
    "    \n",
    "    # Parse the page content\n",
    "    soup = BeautifulSoup(response.text, 'html.parser')\n",
    "    \n",
    "    # Find the table rows\n",
    "    rows = soup.find_all('tr')\n",
    "\n",
    "    # Check if rows are empty (end of pagination)\n",
    "    if not rows:\n",
    "        return None, page\n",
    "    \n",
    "    table_rows = soup.find('div', class_=\"table-responsive my-15\").find_all('tr')[1:]  # Skip the header row\n",
    "\n",
    "    # Temporary lists to hold data for this page\n",
    "    temp_ids = []\n",
    "    temp_steps = []\n",
    "    temp_solutions = []\n",
    "    temp_solutions_link = []\n",
    "    temp_mediums = []\n",
    "    temp_mediums_link = []\n",
    "\n",
    "    # Loop through the rows and extract data\n",
    "    for row in table_rows:\n",
    "        id = row.get('id')\n",
    "        temp_ids.append(id)\n",
    "        \n",
    "        columns = row.find_all('td')\n",
    "        \n",
    "        Step = columns[0].get_text(strip=True)\n",
    "        temp_steps.append(Step)\n",
    "        \n",
    "        Solution = columns[1].get_text(strip=True)\n",
    "        temp_solutions.append(Solution)\n",
    "        Solution_link = columns[1].find('a')['href'] if columns[1].find('a') else None\n",
    "        temp_solutions_link.append(Solution_link)\n",
    "        \n",
    "        Medium = columns[2].get_text(strip=True)\n",
    "        temp_mediums.append(Medium)\n",
    "        Medium_link = columns[2].find('a')['href'] if columns[2].find('a') else None\n",
    "        temp_mediums_link.append(Medium_link)\n",
    "    \n",
    "    return (temp_ids, temp_steps, temp_solutions, temp_solutions_link, temp_mediums, temp_mediums_link), page\n",
    "\n",
    "# Number of threads\n",
    "num_threads = 10\n",
    "\n",
    "# Dictionary to hold the results from each page\n",
    "results_dict = {}\n",
    "\n",
    "# Using ThreadPoolExecutor to parallelize the scraping process\n",
    "with ThreadPoolExecutor(max_workers=num_threads) as executor:\n",
    "    futures = {executor.submit(scrape_page, page): page for page in range(1, 308)}\n",
    "    with tqdm(total=307, desc=\"Scraping pages\", position=0, leave=True) as pbar:\n",
    "        for future in as_completed(futures):\n",
    "            result, page = future.result()\n",
    "            if result:\n",
    "                results_dict[page] = result\n",
    "            pbar.update(1)\n",
    "\n",
    "# Lists to hold the final results in order\n",
    "ids = []\n",
    "Steps = []\n",
    "Solutions = []\n",
    "Solutions_link = []\n",
    "Mediums = []\n",
    "Mediums_link = []\n",
    "\n",
    "# Concatenate results in the order of pages\n",
    "with tqdm(total=307, desc=\"Concatenating results\", position=1, leave=True) as pbar:\n",
    "    for page in range(1, 308):\n",
    "        if page in results_dict:\n",
    "            temp_ids, temp_steps, temp_solutions, temp_solutions_link, temp_mediums, temp_mediums_link = results_dict[page]\n",
    "            ids.extend(temp_ids)\n",
    "            Steps.extend(temp_steps)\n",
    "            Solutions.extend(temp_solutions)\n",
    "            Solutions_link.extend(temp_solutions_link)\n",
    "            Mediums.extend(temp_mediums)\n",
    "            Mediums_link.extend(temp_mediums_link)\n",
    "        pbar.update(1)\n",
    "\n",
    "# Create a DataFrame\n",
    "df = pd.DataFrame({\n",
    "    'ID': ids,\n",
    "    'Step': Steps,\n",
    "    'Solution': Solutions,\n",
    "    'Solution_link': Solutions_link,\n",
    "    'Medium': Mediums,\n",
    "    'Mediums_link': Mediums_link\n",
    "})\n",
    "\n",
    "# Save the DataFrame to a CSV file\n",
    "df.to_csv('Steps_new.csv', index=False)\n",
    "\n",
    "print('Scraping complete. Data saved to Steps_new.csv')"
   ],
   "id": "ac9baaaa6b3015ad",
   "outputs": [
    {
     "name": "stderr",
     "output_type": "stream",
     "text": [
      "Scraping pages: 100%|██████████| 307/307 [00:38<00:00,  7.95it/s]\n",
      "\n",
      "Concatenating results: 100%|██████████| 307/307 [00:00<00:00, 224095.25it/s]"
     ]
    },
    {
     "name": "stdout",
     "output_type": "stream",
     "text": [
      "Scraping complete. Data saved to Steps_new.csv\n"
     ]
    },
    {
     "name": "stderr",
     "output_type": "stream",
     "text": [
      "\n"
     ]
    }
   ],
   "execution_count": 11
  },
  {
   "metadata": {},
   "cell_type": "markdown",
   "source": [
    "\\textbf{MEDIA\n",
    "}"
   ],
   "id": "a9b831b6a9331116"
  },
  {
   "metadata": {
    "ExecuteTime": {
     "end_time": "2024-06-11T20:01:21.137726Z",
     "start_time": "2024-06-11T20:00:50.704292Z"
    }
   },
   "cell_type": "code",
   "source": [
    "import requests\n",
    "from bs4 import BeautifulSoup\n",
    "import pandas as pd\n",
    "import time\n",
    "from tqdm import tqdm\n",
    "from concurrent.futures import ThreadPoolExecutor, as_completed\n",
    "import re\n",
    "\n",
    "# Base URL of the webpage\n",
    "base_url = \"https://mediadive.dsmz.de\"\n",
    "\n",
    "# Function to extract data from a single page\n",
    "def extract_data_from_page(url, page, pbar, retries=5):\n",
    "    params = {\"p\": page}\n",
    "    for attempt in range(retries):\n",
    "        try:\n",
    "            response = requests.get(url, params=params)\n",
    "            response.raise_for_status()\n",
    "            soup = BeautifulSoup(response.content, 'html.parser')\n",
    "            data = []\n",
    "            table_rows = soup.find_all('tr')[1:]  # Skip the header row\n",
    "            for row in table_rows:\n",
    "                row_data = extract_data_from_row(row, pbar)\n",
    "                data.append(row_data)\n",
    "            return data\n",
    "        except (requests.exceptions.RequestException, ConnectionResetError) as e:\n",
    "            print(f\"Error fetching page {page}: {e}. Retrying {attempt + 1}/{retries}...\")\n",
    "            time.sleep(1)  # Wait before retrying\n",
    "    return []\n",
    "\n",
    "def extract_data_from_row(row, pbar, retries=5):\n",
    "    for attempt in range(retries):\n",
    "        try:\n",
    "            columns = row.find_all('td')\n",
    "            row_data = []\n",
    "                \n",
    "            # ID\n",
    "            ID_group = columns[1].get_text(strip=True)\n",
    "            row_data.append(ID_group)\n",
    "                \n",
    "            # Source\n",
    "            Source_group = columns[2].get_text(strip=True)\n",
    "            row_data.append(Source_group)\n",
    "                \n",
    "            # Name and link\n",
    "            name_tag = columns[3].find('a')\n",
    "            name = name_tag.get_text(strip=True)\n",
    "            name_link = base_url + name_tag['href']\n",
    "            row_data.append(name)\n",
    "            row_data.append(name_link)\n",
    "                \n",
    "            #Type\n",
    "            type = columns[4].find('span').get_text(strip=True)\n",
    "            row_data.append(type)\n",
    "            \n",
    "            if type == 'complex':\n",
    "                complex_medium = 'yes'\n",
    "            else:\n",
    "                complex_medium = 'no'\n",
    "            row_data.append(complex_medium)\n",
    "                \n",
    "            # Final pH\n",
    "            ph = columns[5].get_text(strip=True)\n",
    "            row_data.append(ph)\n",
    "                \n",
    "            if \"-\" in ph:\n",
    "                min_ph = ph.split(\" - \")[0]\n",
    "                max_ph = ph.split(\" - \")[1]\n",
    "            else:\n",
    "                min_ph = ph\n",
    "                max_ph = ph\n",
    "            row_data.append(min_ph)\n",
    "            row_data.append(max_ph)\n",
    "                \n",
    "            # Tax range\n",
    "            tax_ranges = [a['title'] for a in columns[6].find_all('span', class_=None)] \n",
    "            row_data.append(tax_ranges)\n",
    "            \n",
    "            # Strains\n",
    "            Strains_num = columns[7].find('a').get_text(strip=True) if columns[7].find('a') else None\n",
    "            Strains_link = base_url + columns[7].find('a')['href'] if columns[7].find('a') else None\n",
    "            row_data.append(Strains_num)\n",
    "            row_data.append(Strains_link)\n",
    "            \n",
    "            # PDF\n",
    "            pdf = base_url + columns[8].find('a')['href'] if columns[8].find('a') else None\n",
    "            row_data.append(pdf)\n",
    "            \n",
    "            pbar.update(1)\n",
    "            return row_data\n",
    "        except (requests.exceptions.RequestException, ConnectionResetError) as e:\n",
    "            print(f\"Error fetching: {e}. Retrying {attempt + 1}/{retries}...\")\n",
    "            time.sleep(1)  # Wait before retrying\n",
    "    return []\n",
    "\n",
    "\n",
    "\n",
    "def extract_data_from_strainslink(strainslink, retries=5):\n",
    "    for attempt in range(retries):\n",
    "        try:\n",
    "            response = requests.get(strainslink)\n",
    "            response.raise_for_status()\n",
    "            soup_n = BeautifulSoup(response.content, 'html.parser')\n",
    "            return []\n",
    "        except (requests.exceptions.RequestException, ConnectionResetError) as e:\n",
    "            print(f\"Error fetching strains link: {strainslink}. Retrying {attempt + 1}/{retries}...\")\n",
    "            time.sleep(1)\n",
    "    return []\n",
    "\n",
    "# Function to calculate total number of pages for all solution and media links\n",
    "def calculate_page_rows(url, page, retries=5):\n",
    "    params = {\"p\": page}\n",
    "    for attempt in range(retries):\n",
    "        try:\n",
    "            response = requests.get(url, params=params)\n",
    "            response.raise_for_status()\n",
    "            soup = BeautifulSoup(response.content, 'html.parser')\n",
    "            page_rows = len(soup.find_all('tr')[1:])  # Skip the header row\n",
    "            return page_rows\n",
    "        except (requests.exceptions.RequestException, ConnectionResetError) as e:\n",
    "                print(f\"Error fetching page {page}: {e}. Retrying {attempt + 1}/{retries}...\")\n",
    "                time.sleep(1)\n",
    "    return 0\n",
    "\n",
    "# Main scraping process\n",
    "all_data = []\n",
    "num_pages = 166  # Adjust the number of pages you want to scrape\n",
    "\n",
    "max_workers = 32  # Adjust based on the MacBook M3 Pro capabilities\n",
    "\n",
    "page_data_segments = [None] * num_pages  # Initialize a list to hold data for each page\n",
    "\n",
    "# Calculate the total number of pages for all solution and media links\n",
    "total_rows = 0\n",
    "with tqdm(total=num_pages, desc=\"Calculating total pages\") as pbar:\n",
    "    with ThreadPoolExecutor(max_workers=max_workers) as executor:\n",
    "        future_to_name_link = {executor.submit(calculate_page_rows, base_url + \"/media\", page): page for page in range(1, num_pages + 1)}\n",
    "        for future in as_completed(future_to_name_link):\n",
    "            total_rows += future.result()\n",
    "            pbar.update(1)\n",
    "\n",
    "with tqdm(total=total_rows, desc=\"Rows Progress\") as pbar:\n",
    "    with ThreadPoolExecutor(max_workers=max_workers) as executor:\n",
    "        future_to_page = {executor.submit(extract_data_from_page, base_url + \"/media\", page, pbar): page for page in range(1, num_pages + 1)}\n",
    "        for future in as_completed(future_to_page):\n",
    "            page = future_to_page[future]\n",
    "            page_data = future.result()\n",
    "            if page_data:\n",
    "                page_data_segments[page-1] = page_data  # Store the data segment for the corresponding page\n",
    "\n",
    "# Concatenate all page data segments in order\n",
    "for segment in page_data_segments:\n",
    "    if segment:\n",
    "        all_data.extend(segment)\n",
    "\n",
    "# Create a DataFrame from the extracted data\n",
    "columns = [\"ID\", \"Source\", \"Name\", \"Name Link\", \"Type\", \"Complex Medium\", \"Final PH\", \"min pH\", \"max pH\", \"Tax.range type\", \"Strains number\", \"Strains links\", \"PDF\"]\n",
    "df = pd.DataFrame(all_data, columns=columns)\n",
    "\n",
    "df\n",
    "\n"
   ],
   "id": "21c8c26fc81fe8b7",
   "outputs": [
    {
     "name": "stderr",
     "output_type": "stream",
     "text": [
      "Calculating total pages: 100%|██████████| 166/166 [00:15<00:00, 10.87it/s]\n",
      "Rows Progress: 100%|██████████| 3313/3313 [00:14<00:00, 222.91it/s]\n"
     ]
    },
    {
     "data": {
      "text/plain": [
       "      ID  Source                                        Name  \\\n",
       "0      1    DSMZ                               NUTRIENT AGAR   \n",
       "1     1a    DSMZ           REACTIVATION WITH LIQUID MEDIUM 1   \n",
       "2      2    DSMZ                   BACILLUS PASTEURII MEDIUM   \n",
       "3      3    DSMZ                          AZOTOBACTER MEDIUM   \n",
       "4      6    DSMZ                    ALLANTOIN MINERAL MEDIUM   \n",
       "...   ..     ...                                         ...   \n",
       "3308  P5  public  RS Medium - Nutrient Medium (NM) Component   \n",
       "3309  P6  public                                       mTA10   \n",
       "3310  P7  public     N27 RHODOSPIRILLACEAE MEDIUM (modified)   \n",
       "3311  P8  public                               M9-SNG medium   \n",
       "3312  P9  public                              PDB-SNG medium   \n",
       "\n",
       "                                Name Link     Type Complex Medium Final PH  \\\n",
       "0      https://mediadive.dsmz.de/medium/1  complex            yes      7.0   \n",
       "1     https://mediadive.dsmz.de/medium/1a  complex            yes      7.0   \n",
       "2      https://mediadive.dsmz.de/medium/2  complex            yes            \n",
       "3      https://mediadive.dsmz.de/medium/3  defined             no      7.3   \n",
       "4      https://mediadive.dsmz.de/medium/6  complex            yes            \n",
       "...                                   ...      ...            ...      ...   \n",
       "3308  https://mediadive.dsmz.de/medium/P5  complex            yes      7.0   \n",
       "3309  https://mediadive.dsmz.de/medium/P6  complex            yes      7.2   \n",
       "3310  https://mediadive.dsmz.de/medium/P7  complex            yes      6.8   \n",
       "3311  https://mediadive.dsmz.de/medium/P8  complex            yes      7.2   \n",
       "3312  https://mediadive.dsmz.de/medium/P9  complex            yes      7.2   \n",
       "\n",
       "     min pH max pH      Tax.range type Strains number  \\\n",
       "0       7.0    7.0  [Bacteria, Phages]           2305   \n",
       "1       7.0    7.0          [Bacteria]            209   \n",
       "2                           [Bacteria]              9   \n",
       "3       7.3    7.3          [Bacteria]             40   \n",
       "4                           [Bacteria]             22   \n",
       "...     ...    ...                 ...            ...   \n",
       "3308    7.0    7.0                  []           None   \n",
       "3309    7.2    7.2                  []           None   \n",
       "3310    6.8    6.8                  []           None   \n",
       "3311    7.2    7.2                  []           None   \n",
       "3312    7.2    7.2                  []           None   \n",
       "\n",
       "                                    Strains links  \\\n",
       "0      https://mediadive.dsmz.de/strains/medium/1   \n",
       "1     https://mediadive.dsmz.de/strains/medium/1a   \n",
       "2      https://mediadive.dsmz.de/strains/medium/2   \n",
       "3      https://mediadive.dsmz.de/strains/medium/3   \n",
       "4      https://mediadive.dsmz.de/strains/medium/6   \n",
       "...                                           ...   \n",
       "3308                                         None   \n",
       "3309                                         None   \n",
       "3310                                         None   \n",
       "3311                                         None   \n",
       "3312                                         None   \n",
       "\n",
       "                                   PDF  \n",
       "0      https://mediadive.dsmz.de/pdf/1  \n",
       "1     https://mediadive.dsmz.de/pdf/1a  \n",
       "2      https://mediadive.dsmz.de/pdf/2  \n",
       "3      https://mediadive.dsmz.de/pdf/3  \n",
       "4      https://mediadive.dsmz.de/pdf/6  \n",
       "...                                ...  \n",
       "3308  https://mediadive.dsmz.de/pdf/P5  \n",
       "3309  https://mediadive.dsmz.de/pdf/P6  \n",
       "3310  https://mediadive.dsmz.de/pdf/P7  \n",
       "3311  https://mediadive.dsmz.de/pdf/P8  \n",
       "3312  https://mediadive.dsmz.de/pdf/P9  \n",
       "\n",
       "[3313 rows x 13 columns]"
      ],
      "text/html": [
       "<div>\n",
       "<style scoped>\n",
       "    .dataframe tbody tr th:only-of-type {\n",
       "        vertical-align: middle;\n",
       "    }\n",
       "\n",
       "    .dataframe tbody tr th {\n",
       "        vertical-align: top;\n",
       "    }\n",
       "\n",
       "    .dataframe thead th {\n",
       "        text-align: right;\n",
       "    }\n",
       "</style>\n",
       "<table border=\"1\" class=\"dataframe\">\n",
       "  <thead>\n",
       "    <tr style=\"text-align: right;\">\n",
       "      <th></th>\n",
       "      <th>ID</th>\n",
       "      <th>Source</th>\n",
       "      <th>Name</th>\n",
       "      <th>Name Link</th>\n",
       "      <th>Type</th>\n",
       "      <th>Complex Medium</th>\n",
       "      <th>Final PH</th>\n",
       "      <th>min pH</th>\n",
       "      <th>max pH</th>\n",
       "      <th>Tax.range type</th>\n",
       "      <th>Strains number</th>\n",
       "      <th>Strains links</th>\n",
       "      <th>PDF</th>\n",
       "    </tr>\n",
       "  </thead>\n",
       "  <tbody>\n",
       "    <tr>\n",
       "      <th>0</th>\n",
       "      <td>1</td>\n",
       "      <td>DSMZ</td>\n",
       "      <td>NUTRIENT AGAR</td>\n",
       "      <td>https://mediadive.dsmz.de/medium/1</td>\n",
       "      <td>complex</td>\n",
       "      <td>yes</td>\n",
       "      <td>7.0</td>\n",
       "      <td>7.0</td>\n",
       "      <td>7.0</td>\n",
       "      <td>[Bacteria, Phages]</td>\n",
       "      <td>2305</td>\n",
       "      <td>https://mediadive.dsmz.de/strains/medium/1</td>\n",
       "      <td>https://mediadive.dsmz.de/pdf/1</td>\n",
       "    </tr>\n",
       "    <tr>\n",
       "      <th>1</th>\n",
       "      <td>1a</td>\n",
       "      <td>DSMZ</td>\n",
       "      <td>REACTIVATION WITH LIQUID MEDIUM 1</td>\n",
       "      <td>https://mediadive.dsmz.de/medium/1a</td>\n",
       "      <td>complex</td>\n",
       "      <td>yes</td>\n",
       "      <td>7.0</td>\n",
       "      <td>7.0</td>\n",
       "      <td>7.0</td>\n",
       "      <td>[Bacteria]</td>\n",
       "      <td>209</td>\n",
       "      <td>https://mediadive.dsmz.de/strains/medium/1a</td>\n",
       "      <td>https://mediadive.dsmz.de/pdf/1a</td>\n",
       "    </tr>\n",
       "    <tr>\n",
       "      <th>2</th>\n",
       "      <td>2</td>\n",
       "      <td>DSMZ</td>\n",
       "      <td>BACILLUS PASTEURII MEDIUM</td>\n",
       "      <td>https://mediadive.dsmz.de/medium/2</td>\n",
       "      <td>complex</td>\n",
       "      <td>yes</td>\n",
       "      <td></td>\n",
       "      <td></td>\n",
       "      <td></td>\n",
       "      <td>[Bacteria]</td>\n",
       "      <td>9</td>\n",
       "      <td>https://mediadive.dsmz.de/strains/medium/2</td>\n",
       "      <td>https://mediadive.dsmz.de/pdf/2</td>\n",
       "    </tr>\n",
       "    <tr>\n",
       "      <th>3</th>\n",
       "      <td>3</td>\n",
       "      <td>DSMZ</td>\n",
       "      <td>AZOTOBACTER MEDIUM</td>\n",
       "      <td>https://mediadive.dsmz.de/medium/3</td>\n",
       "      <td>defined</td>\n",
       "      <td>no</td>\n",
       "      <td>7.3</td>\n",
       "      <td>7.3</td>\n",
       "      <td>7.3</td>\n",
       "      <td>[Bacteria]</td>\n",
       "      <td>40</td>\n",
       "      <td>https://mediadive.dsmz.de/strains/medium/3</td>\n",
       "      <td>https://mediadive.dsmz.de/pdf/3</td>\n",
       "    </tr>\n",
       "    <tr>\n",
       "      <th>4</th>\n",
       "      <td>6</td>\n",
       "      <td>DSMZ</td>\n",
       "      <td>ALLANTOIN MINERAL MEDIUM</td>\n",
       "      <td>https://mediadive.dsmz.de/medium/6</td>\n",
       "      <td>complex</td>\n",
       "      <td>yes</td>\n",
       "      <td></td>\n",
       "      <td></td>\n",
       "      <td></td>\n",
       "      <td>[Bacteria]</td>\n",
       "      <td>22</td>\n",
       "      <td>https://mediadive.dsmz.de/strains/medium/6</td>\n",
       "      <td>https://mediadive.dsmz.de/pdf/6</td>\n",
       "    </tr>\n",
       "    <tr>\n",
       "      <th>...</th>\n",
       "      <td>...</td>\n",
       "      <td>...</td>\n",
       "      <td>...</td>\n",
       "      <td>...</td>\n",
       "      <td>...</td>\n",
       "      <td>...</td>\n",
       "      <td>...</td>\n",
       "      <td>...</td>\n",
       "      <td>...</td>\n",
       "      <td>...</td>\n",
       "      <td>...</td>\n",
       "      <td>...</td>\n",
       "      <td>...</td>\n",
       "    </tr>\n",
       "    <tr>\n",
       "      <th>3308</th>\n",
       "      <td>P5</td>\n",
       "      <td>public</td>\n",
       "      <td>RS Medium - Nutrient Medium (NM) Component</td>\n",
       "      <td>https://mediadive.dsmz.de/medium/P5</td>\n",
       "      <td>complex</td>\n",
       "      <td>yes</td>\n",
       "      <td>7.0</td>\n",
       "      <td>7.0</td>\n",
       "      <td>7.0</td>\n",
       "      <td>[]</td>\n",
       "      <td>None</td>\n",
       "      <td>None</td>\n",
       "      <td>https://mediadive.dsmz.de/pdf/P5</td>\n",
       "    </tr>\n",
       "    <tr>\n",
       "      <th>3309</th>\n",
       "      <td>P6</td>\n",
       "      <td>public</td>\n",
       "      <td>mTA10</td>\n",
       "      <td>https://mediadive.dsmz.de/medium/P6</td>\n",
       "      <td>complex</td>\n",
       "      <td>yes</td>\n",
       "      <td>7.2</td>\n",
       "      <td>7.2</td>\n",
       "      <td>7.2</td>\n",
       "      <td>[]</td>\n",
       "      <td>None</td>\n",
       "      <td>None</td>\n",
       "      <td>https://mediadive.dsmz.de/pdf/P6</td>\n",
       "    </tr>\n",
       "    <tr>\n",
       "      <th>3310</th>\n",
       "      <td>P7</td>\n",
       "      <td>public</td>\n",
       "      <td>N27 RHODOSPIRILLACEAE MEDIUM (modified)</td>\n",
       "      <td>https://mediadive.dsmz.de/medium/P7</td>\n",
       "      <td>complex</td>\n",
       "      <td>yes</td>\n",
       "      <td>6.8</td>\n",
       "      <td>6.8</td>\n",
       "      <td>6.8</td>\n",
       "      <td>[]</td>\n",
       "      <td>None</td>\n",
       "      <td>None</td>\n",
       "      <td>https://mediadive.dsmz.de/pdf/P7</td>\n",
       "    </tr>\n",
       "    <tr>\n",
       "      <th>3311</th>\n",
       "      <td>P8</td>\n",
       "      <td>public</td>\n",
       "      <td>M9-SNG medium</td>\n",
       "      <td>https://mediadive.dsmz.de/medium/P8</td>\n",
       "      <td>complex</td>\n",
       "      <td>yes</td>\n",
       "      <td>7.2</td>\n",
       "      <td>7.2</td>\n",
       "      <td>7.2</td>\n",
       "      <td>[]</td>\n",
       "      <td>None</td>\n",
       "      <td>None</td>\n",
       "      <td>https://mediadive.dsmz.de/pdf/P8</td>\n",
       "    </tr>\n",
       "    <tr>\n",
       "      <th>3312</th>\n",
       "      <td>P9</td>\n",
       "      <td>public</td>\n",
       "      <td>PDB-SNG medium</td>\n",
       "      <td>https://mediadive.dsmz.de/medium/P9</td>\n",
       "      <td>complex</td>\n",
       "      <td>yes</td>\n",
       "      <td>7.2</td>\n",
       "      <td>7.2</td>\n",
       "      <td>7.2</td>\n",
       "      <td>[]</td>\n",
       "      <td>None</td>\n",
       "      <td>None</td>\n",
       "      <td>https://mediadive.dsmz.de/pdf/P9</td>\n",
       "    </tr>\n",
       "  </tbody>\n",
       "</table>\n",
       "<p>3313 rows × 13 columns</p>\n",
       "</div>"
      ]
     },
     "execution_count": 1,
     "metadata": {},
     "output_type": "execute_result"
    }
   ],
   "execution_count": 1
  },
  {
   "metadata": {
    "ExecuteTime": {
     "end_time": "2024-06-11T20:03:43.454738Z",
     "start_time": "2024-06-11T20:01:22.875503Z"
    }
   },
   "cell_type": "code",
   "source": [
    "# Function to extract data from a single page\n",
    "def extract_data_from_namelink(namelink, pbar ,retries=5):\n",
    "    for attempt in range(retries):\n",
    "        try:\n",
    "            response = requests.get(namelink)\n",
    "            response.raise_for_status()\n",
    "            soup_n = BeautifulSoup(response.content, 'html.parser')\n",
    "            \n",
    "            metadata_table = soup_n.find('table', class_='table small', id=\"metadata-box\") if soup_n.find('table', class_='table small', id=\"metadata-box\") else None\n",
    "            if metadata_table:\n",
    "                last_modified = soup_n.select_one(\"td:contains('Last modified:')\").find_next_sibling('td').get_text(strip=True) if soup_n.select_one(\"td:contains('Last modified:')\") else None\n",
    "            else:\n",
    "                last_modified = None\n",
    "            \n",
    "            related_table = soup_n.find('div', class_=\"box\", id=\"related-media-box\") if soup_n.find('div', class_=\"box\", id=\"related-media-box\") else None\n",
    "            related_ids = []\n",
    "            related_names = []\n",
    "            if related_table:\n",
    "                related_ids = [tr.find_all('td')[0].find('a').get_text(strip=True) for tr in related_table.find_all('tr')]\n",
    "                related_names = ['\"' + tr.find_all('td')[1].get_text(strip=True) + '\"' for tr in related_table.find_all('tr')]\n",
    "            \n",
    "            strains_with_mod = soup_n.select_one(\"td:contains('Strains with modifications:')\").find_next_sibling('td').get_text(strip=True) if soup_n.select_one(\"td:contains('Strains with modifications:')\") else None\n",
    "           \n",
    "            div_responsive = soup_n.find('div', class_='box', id=\"bacdive-box\") if soup_n.find('div', class_='box', id=\"bacdive-box\") else None\n",
    "            if div_responsive:\n",
    "                table_responsive = div_responsive.find('div', class_=\"table-responsive\") if soup_n.find('div', class_=\"table-responsive\") else None\n",
    "            else:\n",
    "                table_responsive = None\n",
    "            cultivation_metadata = []\n",
    "            if table_responsive:\n",
    "                for row in table_responsive.find_all('tr'):\n",
    "                    cultivation_metadata.append([re.sub(r'\\s+', ' ', td.get_text(strip=True)) for td in row.find_all('td')])\n",
    "    \n",
    "            pbar.update(1)\n",
    "            return [namelink, last_modified, related_ids, related_names, strains_with_mod, cultivation_metadata]\n",
    "        except (requests.exceptions.RequestException, ConnectionResetError) as e:\n",
    "            print(f\"Error fetching name link {namelink}: {e}. Retrying {attempt + 1}/{retries}...\")\n",
    "            time.sleep(1)  # Wait before retrying\n",
    "    return [namelink, None, ]\n",
    "\n",
    "# Extract additional data from all Name links\n",
    "namelink_data = []\n",
    "name_links = df['Name Link'].dropna().unique()\n",
    "\n",
    "with tqdm(total=len(name_links), desc=\"Namelink Progress\") as pbar:\n",
    "    with ThreadPoolExecutor(max_workers=max_workers) as executor:\n",
    "        future_to_name_link = {executor.submit(extract_data_from_namelink, name_link, pbar): name_link for name_link in name_links}\n",
    "        for future in as_completed(future_to_name_link):\n",
    "            link_data = future.result()\n",
    "            namelink_data.append(link_data)\n",
    "\n",
    "    namelink_data_columns = [\"Name Link\", \"Last modified\", \"Related media ID for medium\", \"Related media name for medium\", \"Strains with modifications\", \"Cultivation metadata from strains\"]\n",
    "    namelink_df = pd.DataFrame(namelink_data, columns=namelink_data_columns)\n",
    "    \n",
    "    merged_df = pd.merge(df, namelink_df, on='Name Link', how='left').fillna(\"\")\n",
    "\n",
    "merged_df"
   ],
   "id": "f5af7b6986f271f6",
   "outputs": [
    {
     "name": "stderr",
     "output_type": "stream",
     "text": [
      "Namelink Progress:   0%|          | 6/3313 [00:01<14:40,  3.76it/s]/Users/juntangwang/PycharmProjects/MATH 302 HWs/.venv/lib/python3.10/site-packages/soupsieve/css_parser.py:856: FutureWarning: The pseudo class ':contains' is deprecated, ':-soup-contains' should be used moving forward.\n",
      "  warnings.warn(  # noqa: B028\n",
      "Namelink Progress: 100%|██████████| 3313/3313 [02:20<00:00, 23.57it/s]\n"
     ]
    },
    {
     "data": {
      "text/plain": [
       "      ID  Source                                        Name  \\\n",
       "0      1    DSMZ                               NUTRIENT AGAR   \n",
       "1     1a    DSMZ           REACTIVATION WITH LIQUID MEDIUM 1   \n",
       "2      2    DSMZ                   BACILLUS PASTEURII MEDIUM   \n",
       "3      3    DSMZ                          AZOTOBACTER MEDIUM   \n",
       "4      6    DSMZ                    ALLANTOIN MINERAL MEDIUM   \n",
       "...   ..     ...                                         ...   \n",
       "3308  P5  public  RS Medium - Nutrient Medium (NM) Component   \n",
       "3309  P6  public                                       mTA10   \n",
       "3310  P7  public     N27 RHODOSPIRILLACEAE MEDIUM (modified)   \n",
       "3311  P8  public                               M9-SNG medium   \n",
       "3312  P9  public                              PDB-SNG medium   \n",
       "\n",
       "                                Name Link     Type Complex Medium Final PH  \\\n",
       "0      https://mediadive.dsmz.de/medium/1  complex            yes      7.0   \n",
       "1     https://mediadive.dsmz.de/medium/1a  complex            yes      7.0   \n",
       "2      https://mediadive.dsmz.de/medium/2  complex            yes            \n",
       "3      https://mediadive.dsmz.de/medium/3  defined             no      7.3   \n",
       "4      https://mediadive.dsmz.de/medium/6  complex            yes            \n",
       "...                                   ...      ...            ...      ...   \n",
       "3308  https://mediadive.dsmz.de/medium/P5  complex            yes      7.0   \n",
       "3309  https://mediadive.dsmz.de/medium/P6  complex            yes      7.2   \n",
       "3310  https://mediadive.dsmz.de/medium/P7  complex            yes      6.8   \n",
       "3311  https://mediadive.dsmz.de/medium/P8  complex            yes      7.2   \n",
       "3312  https://mediadive.dsmz.de/medium/P9  complex            yes      7.2   \n",
       "\n",
       "     min pH max pH      Tax.range type Strains number  \\\n",
       "0       7.0    7.0  [Bacteria, Phages]           2305   \n",
       "1       7.0    7.0          [Bacteria]            209   \n",
       "2                           [Bacteria]              9   \n",
       "3       7.3    7.3          [Bacteria]             40   \n",
       "4                           [Bacteria]             22   \n",
       "...     ...    ...                 ...            ...   \n",
       "3308    7.0    7.0                  []                  \n",
       "3309    7.2    7.2                  []                  \n",
       "3310    6.8    6.8                  []                  \n",
       "3311    7.2    7.2                  []                  \n",
       "3312    7.2    7.2                  []                  \n",
       "\n",
       "                                    Strains links  \\\n",
       "0      https://mediadive.dsmz.de/strains/medium/1   \n",
       "1     https://mediadive.dsmz.de/strains/medium/1a   \n",
       "2      https://mediadive.dsmz.de/strains/medium/2   \n",
       "3      https://mediadive.dsmz.de/strains/medium/3   \n",
       "4      https://mediadive.dsmz.de/strains/medium/6   \n",
       "...                                           ...   \n",
       "3308                                                \n",
       "3309                                                \n",
       "3310                                                \n",
       "3311                                                \n",
       "3312                                                \n",
       "\n",
       "                                   PDF Last modified  \\\n",
       "0      https://mediadive.dsmz.de/pdf/1      20.09.22   \n",
       "1     https://mediadive.dsmz.de/pdf/1a      22.02.22   \n",
       "2      https://mediadive.dsmz.de/pdf/2      04.02.22   \n",
       "3      https://mediadive.dsmz.de/pdf/3      22.02.22   \n",
       "4      https://mediadive.dsmz.de/pdf/6      30.11.23   \n",
       "...                                ...           ...   \n",
       "3308  https://mediadive.dsmz.de/pdf/P5      30.06.23   \n",
       "3309  https://mediadive.dsmz.de/pdf/P6      01.11.23   \n",
       "3310  https://mediadive.dsmz.de/pdf/P7      02.11.23   \n",
       "3311  https://mediadive.dsmz.de/pdf/P8      09.01.24   \n",
       "3312  https://mediadive.dsmz.de/pdf/P9      09.01.24   \n",
       "\n",
       "                            Related media ID for medium  \\\n",
       "0     [1, a, 2, 114, 115, a, 118, 238, 241, 258, 302...   \n",
       "1     [1, a, 2, 114, 115, a, 118, 238, 241, 258, 302...   \n",
       "2     [1, a, 2, 114, 115, a, 118, 238, 241, 258, 302...   \n",
       "3                                                    []   \n",
       "4                                                    []   \n",
       "...                                                 ...   \n",
       "3308                                                 []   \n",
       "3309                                                 []   \n",
       "3310                                                 []   \n",
       "3311                                                 []   \n",
       "3312                                                 []   \n",
       "\n",
       "                          Related media name for medium  \\\n",
       "0     [\"NUTRIENT AGAR\", \"REACTIVATION WITH LIQUID ME...   \n",
       "1     [\"NUTRIENT AGAR\", \"REACTIVATION WITH LIQUID ME...   \n",
       "2     [\"NUTRIENT AGAR\", \"REACTIVATION WITH LIQUID ME...   \n",
       "3                                                    []   \n",
       "4                                                    []   \n",
       "...                                                 ...   \n",
       "3308                                                 []   \n",
       "3309                                                 []   \n",
       "3310                                                 []   \n",
       "3311                                                 []   \n",
       "3312                                                 []   \n",
       "\n",
       "     Strains with modifications  \\\n",
       "0                           183   \n",
       "1                             9   \n",
       "2                                 \n",
       "3                                 \n",
       "4                             1   \n",
       "...                         ...   \n",
       "3308                              \n",
       "3309                              \n",
       "3310                              \n",
       "3311                              \n",
       "3312                              \n",
       "\n",
       "                      Cultivation metadata from strains  \n",
       "0     [[halophily, non-halophilic, 7 strains], [halo...  \n",
       "1     [[pH, 6 - 8, 20 strains], [pH, 4 - 6, 14 strai...  \n",
       "2     [[phyla, 1, 9 strains], [temperature, mesophil...  \n",
       "3     [[phyla, 1, 40 strains], [temperature, mesophi...  \n",
       "4     [[phyla, 2, 22 strains], [temperature, mesophi...  \n",
       "...                                                 ...  \n",
       "3308                                                 []  \n",
       "3309                                                 []  \n",
       "3310                                                 []  \n",
       "3311                                                 []  \n",
       "3312                                                 []  \n",
       "\n",
       "[3313 rows x 18 columns]"
      ],
      "text/html": [
       "<div>\n",
       "<style scoped>\n",
       "    .dataframe tbody tr th:only-of-type {\n",
       "        vertical-align: middle;\n",
       "    }\n",
       "\n",
       "    .dataframe tbody tr th {\n",
       "        vertical-align: top;\n",
       "    }\n",
       "\n",
       "    .dataframe thead th {\n",
       "        text-align: right;\n",
       "    }\n",
       "</style>\n",
       "<table border=\"1\" class=\"dataframe\">\n",
       "  <thead>\n",
       "    <tr style=\"text-align: right;\">\n",
       "      <th></th>\n",
       "      <th>ID</th>\n",
       "      <th>Source</th>\n",
       "      <th>Name</th>\n",
       "      <th>Name Link</th>\n",
       "      <th>Type</th>\n",
       "      <th>Complex Medium</th>\n",
       "      <th>Final PH</th>\n",
       "      <th>min pH</th>\n",
       "      <th>max pH</th>\n",
       "      <th>Tax.range type</th>\n",
       "      <th>Strains number</th>\n",
       "      <th>Strains links</th>\n",
       "      <th>PDF</th>\n",
       "      <th>Last modified</th>\n",
       "      <th>Related media ID for medium</th>\n",
       "      <th>Related media name for medium</th>\n",
       "      <th>Strains with modifications</th>\n",
       "      <th>Cultivation metadata from strains</th>\n",
       "    </tr>\n",
       "  </thead>\n",
       "  <tbody>\n",
       "    <tr>\n",
       "      <th>0</th>\n",
       "      <td>1</td>\n",
       "      <td>DSMZ</td>\n",
       "      <td>NUTRIENT AGAR</td>\n",
       "      <td>https://mediadive.dsmz.de/medium/1</td>\n",
       "      <td>complex</td>\n",
       "      <td>yes</td>\n",
       "      <td>7.0</td>\n",
       "      <td>7.0</td>\n",
       "      <td>7.0</td>\n",
       "      <td>[Bacteria, Phages]</td>\n",
       "      <td>2305</td>\n",
       "      <td>https://mediadive.dsmz.de/strains/medium/1</td>\n",
       "      <td>https://mediadive.dsmz.de/pdf/1</td>\n",
       "      <td>20.09.22</td>\n",
       "      <td>[1, a, 2, 114, 115, a, 118, 238, 241, 258, 302...</td>\n",
       "      <td>[\"NUTRIENT AGAR\", \"REACTIVATION WITH LIQUID ME...</td>\n",
       "      <td>183</td>\n",
       "      <td>[[halophily, non-halophilic, 7 strains], [halo...</td>\n",
       "    </tr>\n",
       "    <tr>\n",
       "      <th>1</th>\n",
       "      <td>1a</td>\n",
       "      <td>DSMZ</td>\n",
       "      <td>REACTIVATION WITH LIQUID MEDIUM 1</td>\n",
       "      <td>https://mediadive.dsmz.de/medium/1a</td>\n",
       "      <td>complex</td>\n",
       "      <td>yes</td>\n",
       "      <td>7.0</td>\n",
       "      <td>7.0</td>\n",
       "      <td>7.0</td>\n",
       "      <td>[Bacteria]</td>\n",
       "      <td>209</td>\n",
       "      <td>https://mediadive.dsmz.de/strains/medium/1a</td>\n",
       "      <td>https://mediadive.dsmz.de/pdf/1a</td>\n",
       "      <td>22.02.22</td>\n",
       "      <td>[1, a, 2, 114, 115, a, 118, 238, 241, 258, 302...</td>\n",
       "      <td>[\"NUTRIENT AGAR\", \"REACTIVATION WITH LIQUID ME...</td>\n",
       "      <td>9</td>\n",
       "      <td>[[pH, 6 - 8, 20 strains], [pH, 4 - 6, 14 strai...</td>\n",
       "    </tr>\n",
       "    <tr>\n",
       "      <th>2</th>\n",
       "      <td>2</td>\n",
       "      <td>DSMZ</td>\n",
       "      <td>BACILLUS PASTEURII MEDIUM</td>\n",
       "      <td>https://mediadive.dsmz.de/medium/2</td>\n",
       "      <td>complex</td>\n",
       "      <td>yes</td>\n",
       "      <td></td>\n",
       "      <td></td>\n",
       "      <td></td>\n",
       "      <td>[Bacteria]</td>\n",
       "      <td>9</td>\n",
       "      <td>https://mediadive.dsmz.de/strains/medium/2</td>\n",
       "      <td>https://mediadive.dsmz.de/pdf/2</td>\n",
       "      <td>04.02.22</td>\n",
       "      <td>[1, a, 2, 114, 115, a, 118, 238, 241, 258, 302...</td>\n",
       "      <td>[\"NUTRIENT AGAR\", \"REACTIVATION WITH LIQUID ME...</td>\n",
       "      <td></td>\n",
       "      <td>[[phyla, 1, 9 strains], [temperature, mesophil...</td>\n",
       "    </tr>\n",
       "    <tr>\n",
       "      <th>3</th>\n",
       "      <td>3</td>\n",
       "      <td>DSMZ</td>\n",
       "      <td>AZOTOBACTER MEDIUM</td>\n",
       "      <td>https://mediadive.dsmz.de/medium/3</td>\n",
       "      <td>defined</td>\n",
       "      <td>no</td>\n",
       "      <td>7.3</td>\n",
       "      <td>7.3</td>\n",
       "      <td>7.3</td>\n",
       "      <td>[Bacteria]</td>\n",
       "      <td>40</td>\n",
       "      <td>https://mediadive.dsmz.de/strains/medium/3</td>\n",
       "      <td>https://mediadive.dsmz.de/pdf/3</td>\n",
       "      <td>22.02.22</td>\n",
       "      <td>[]</td>\n",
       "      <td>[]</td>\n",
       "      <td></td>\n",
       "      <td>[[phyla, 1, 40 strains], [temperature, mesophi...</td>\n",
       "    </tr>\n",
       "    <tr>\n",
       "      <th>4</th>\n",
       "      <td>6</td>\n",
       "      <td>DSMZ</td>\n",
       "      <td>ALLANTOIN MINERAL MEDIUM</td>\n",
       "      <td>https://mediadive.dsmz.de/medium/6</td>\n",
       "      <td>complex</td>\n",
       "      <td>yes</td>\n",
       "      <td></td>\n",
       "      <td></td>\n",
       "      <td></td>\n",
       "      <td>[Bacteria]</td>\n",
       "      <td>22</td>\n",
       "      <td>https://mediadive.dsmz.de/strains/medium/6</td>\n",
       "      <td>https://mediadive.dsmz.de/pdf/6</td>\n",
       "      <td>30.11.23</td>\n",
       "      <td>[]</td>\n",
       "      <td>[]</td>\n",
       "      <td>1</td>\n",
       "      <td>[[phyla, 2, 22 strains], [temperature, mesophi...</td>\n",
       "    </tr>\n",
       "    <tr>\n",
       "      <th>...</th>\n",
       "      <td>...</td>\n",
       "      <td>...</td>\n",
       "      <td>...</td>\n",
       "      <td>...</td>\n",
       "      <td>...</td>\n",
       "      <td>...</td>\n",
       "      <td>...</td>\n",
       "      <td>...</td>\n",
       "      <td>...</td>\n",
       "      <td>...</td>\n",
       "      <td>...</td>\n",
       "      <td>...</td>\n",
       "      <td>...</td>\n",
       "      <td>...</td>\n",
       "      <td>...</td>\n",
       "      <td>...</td>\n",
       "      <td>...</td>\n",
       "      <td>...</td>\n",
       "    </tr>\n",
       "    <tr>\n",
       "      <th>3308</th>\n",
       "      <td>P5</td>\n",
       "      <td>public</td>\n",
       "      <td>RS Medium - Nutrient Medium (NM) Component</td>\n",
       "      <td>https://mediadive.dsmz.de/medium/P5</td>\n",
       "      <td>complex</td>\n",
       "      <td>yes</td>\n",
       "      <td>7.0</td>\n",
       "      <td>7.0</td>\n",
       "      <td>7.0</td>\n",
       "      <td>[]</td>\n",
       "      <td></td>\n",
       "      <td></td>\n",
       "      <td>https://mediadive.dsmz.de/pdf/P5</td>\n",
       "      <td>30.06.23</td>\n",
       "      <td>[]</td>\n",
       "      <td>[]</td>\n",
       "      <td></td>\n",
       "      <td>[]</td>\n",
       "    </tr>\n",
       "    <tr>\n",
       "      <th>3309</th>\n",
       "      <td>P6</td>\n",
       "      <td>public</td>\n",
       "      <td>mTA10</td>\n",
       "      <td>https://mediadive.dsmz.de/medium/P6</td>\n",
       "      <td>complex</td>\n",
       "      <td>yes</td>\n",
       "      <td>7.2</td>\n",
       "      <td>7.2</td>\n",
       "      <td>7.2</td>\n",
       "      <td>[]</td>\n",
       "      <td></td>\n",
       "      <td></td>\n",
       "      <td>https://mediadive.dsmz.de/pdf/P6</td>\n",
       "      <td>01.11.23</td>\n",
       "      <td>[]</td>\n",
       "      <td>[]</td>\n",
       "      <td></td>\n",
       "      <td>[]</td>\n",
       "    </tr>\n",
       "    <tr>\n",
       "      <th>3310</th>\n",
       "      <td>P7</td>\n",
       "      <td>public</td>\n",
       "      <td>N27 RHODOSPIRILLACEAE MEDIUM (modified)</td>\n",
       "      <td>https://mediadive.dsmz.de/medium/P7</td>\n",
       "      <td>complex</td>\n",
       "      <td>yes</td>\n",
       "      <td>6.8</td>\n",
       "      <td>6.8</td>\n",
       "      <td>6.8</td>\n",
       "      <td>[]</td>\n",
       "      <td></td>\n",
       "      <td></td>\n",
       "      <td>https://mediadive.dsmz.de/pdf/P7</td>\n",
       "      <td>02.11.23</td>\n",
       "      <td>[]</td>\n",
       "      <td>[]</td>\n",
       "      <td></td>\n",
       "      <td>[]</td>\n",
       "    </tr>\n",
       "    <tr>\n",
       "      <th>3311</th>\n",
       "      <td>P8</td>\n",
       "      <td>public</td>\n",
       "      <td>M9-SNG medium</td>\n",
       "      <td>https://mediadive.dsmz.de/medium/P8</td>\n",
       "      <td>complex</td>\n",
       "      <td>yes</td>\n",
       "      <td>7.2</td>\n",
       "      <td>7.2</td>\n",
       "      <td>7.2</td>\n",
       "      <td>[]</td>\n",
       "      <td></td>\n",
       "      <td></td>\n",
       "      <td>https://mediadive.dsmz.de/pdf/P8</td>\n",
       "      <td>09.01.24</td>\n",
       "      <td>[]</td>\n",
       "      <td>[]</td>\n",
       "      <td></td>\n",
       "      <td>[]</td>\n",
       "    </tr>\n",
       "    <tr>\n",
       "      <th>3312</th>\n",
       "      <td>P9</td>\n",
       "      <td>public</td>\n",
       "      <td>PDB-SNG medium</td>\n",
       "      <td>https://mediadive.dsmz.de/medium/P9</td>\n",
       "      <td>complex</td>\n",
       "      <td>yes</td>\n",
       "      <td>7.2</td>\n",
       "      <td>7.2</td>\n",
       "      <td>7.2</td>\n",
       "      <td>[]</td>\n",
       "      <td></td>\n",
       "      <td></td>\n",
       "      <td>https://mediadive.dsmz.de/pdf/P9</td>\n",
       "      <td>09.01.24</td>\n",
       "      <td>[]</td>\n",
       "      <td>[]</td>\n",
       "      <td></td>\n",
       "      <td>[]</td>\n",
       "    </tr>\n",
       "  </tbody>\n",
       "</table>\n",
       "<p>3313 rows × 18 columns</p>\n",
       "</div>"
      ]
     },
     "execution_count": 2,
     "metadata": {},
     "output_type": "execute_result"
    }
   ],
   "execution_count": 2
  },
  {
   "metadata": {
    "ExecuteTime": {
     "end_time": "2024-06-11T23:42:13.029342Z",
     "start_time": "2024-06-11T20:03:46.742229Z"
    }
   },
   "cell_type": "code",
   "source": [
    "# Function to extract data from a single page\n",
    "def extract_data_from_strainslink(strainslink, pbar, retries=5):\n",
    "    for attempt in range(retries):\n",
    "        try:\n",
    "            response = requests.get(strainslink)\n",
    "            response.raise_for_status()\n",
    "            soup_s = BeautifulSoup(response.content, 'html.parser').find('div', class_=\"content-wrapper\")\n",
    "            page_num = int(soup_s.find('button', title=\"last\")['value']) if soup_s.find('button', title=\"last\") else 1\n",
    "            strain_names = []\n",
    "            for p in range(1, page_num + 1):\n",
    "                strain_names.extend(extract_strainslink_page(strainslink + \"?p=\" + str(p), pbar))\n",
    "            return [strainslink, strain_names]\n",
    "        except (requests.exceptions.RequestException, ConnectionResetError) as e:\n",
    "            print(f\"Error fetching strains link {strainslink}: {e}. Retrying {attempt + 1}/{retries}...\")\n",
    "            time.sleep(1)  # Wait before retrying\n",
    "    return [strainslink, None]\n",
    "\n",
    "def extract_strainslink_page(strainslink, pbar, retries=5):\n",
    "    for attempt in range(retries):\n",
    "        try:\n",
    "            response = requests.get(strainslink)\n",
    "            response.raise_for_status()\n",
    "            soup = BeautifulSoup(response.content, 'html.parser').find('div', class_=\"content-wrapper\")\n",
    "            page_names = []\n",
    "            rows = soup.find('div', class_=\"table-responsive my-15\").find_all('tr')[1:] if soup.find('div', class_=\"table-responsive my-15\") else None\n",
    "            if rows:\n",
    "                for row in rows:\n",
    "                    page_names.append(row.find('a').get_text(strip=True))\n",
    "                pbar.update(len(rows))\n",
    "            return page_names\n",
    "        except (requests.exceptions.RequestException, ConnectionResetError) as e:\n",
    "            print(f\"Error fetching {strainslink}: {e}. Retrying {attempt + 1}/{retries}...\")\n",
    "            time.sleep(1)\n",
    "    return []\n",
    "\n",
    "# Assuming df and merged_df are predefined DataFrames\n",
    "strainslink_data = []\n",
    "strains_links = df['Strains links'].dropna().unique()\n",
    "\n",
    "merged_df['Strains number'] = pd.to_numeric(df['Strains number'])\n",
    "\n",
    "with tqdm(total=int(merged_df['Strains number'].sum()), desc=\"Strains link Progress\") as pbar:\n",
    "    with ThreadPoolExecutor(max_workers=max_workers) as executor:\n",
    "        future_to_strains_link = {executor.submit(extract_data_from_strainslink, strains_link, pbar): strains_link for strains_link in strains_links}\n",
    "        for future in as_completed(future_to_strains_link):\n",
    "            link_data = future.result()\n",
    "            strainslink_data.append(link_data)\n",
    "\n",
    "strainslink_data_columns = [\"Strains links\", \"Strains Name\"]\n",
    "strainslink_df = pd.DataFrame(strainslink_data, columns=strainslink_data_columns)\n",
    "\n",
    "merged_merged_df = pd.merge(merged_df, strainslink_df, on='Strains links', how='left').fillna(\"\")\n",
    "\n",
    "merged_merged_df"
   ],
   "id": "168675326a588ab9",
   "outputs": [
    {
     "name": "stderr",
     "output_type": "stream",
     "text": [
      "Strains link Progress:   0%|          | 0/68617 [00:00<?, ?it/s]"
     ]
    },
    {
     "name": "stdout",
     "output_type": "stream",
     "text": [
      "Error fetching strains link https://mediadive.dsmz.de/strains/medium/26: Response ended prematurely. Retrying 1/5...\n"
     ]
    },
    {
     "name": "stderr",
     "output_type": "stream",
     "text": [
      "Strains link Progress:   1%|          | 384/68617 [00:45<1:34:00, 12.10it/s]"
     ]
    },
    {
     "name": "stdout",
     "output_type": "stream",
     "text": [
      "Error fetching strains link https://mediadive.dsmz.de/strains/medium/54a: Response ended prematurely. Retrying 1/5...\n"
     ]
    },
    {
     "name": "stderr",
     "output_type": "stream",
     "text": [
      "Strains link Progress:   1%|          | 701/68617 [01:11<1:00:07, 18.83it/s]"
     ]
    },
    {
     "name": "stdout",
     "output_type": "stream",
     "text": [
      "Error fetching https://mediadive.dsmz.de/strains/medium/31?p=3: Response ended prematurely. Retrying 1/5...\n"
     ]
    },
    {
     "name": "stderr",
     "output_type": "stream",
     "text": [
      "Strains link Progress:   2%|▏         | 1031/68617 [01:36<1:19:25, 14.18it/s]"
     ]
    },
    {
     "name": "stdout",
     "output_type": "stream",
     "text": [
      "Error fetching https://mediadive.dsmz.de/strains/medium/68?p=1: ('Connection broken: IncompleteRead(6138 bytes read, 4102 more expected)', IncompleteRead(6138 bytes read, 4102 more expected)). Retrying 1/5...\n",
      "Error fetching https://mediadive.dsmz.de/strains/medium/1a?p=5: Response ended prematurely. Retrying 1/5...\n"
     ]
    },
    {
     "name": "stderr",
     "output_type": "stream",
     "text": [
      "Strains link Progress:   3%|▎         | 1737/68617 [02:20<1:14:53, 14.88it/s]"
     ]
    },
    {
     "name": "stdout",
     "output_type": "stream",
     "text": [
      "Error fetching https://mediadive.dsmz.de/strains/medium/78?p=3: Response ended prematurely. Retrying 1/5...\n"
     ]
    },
    {
     "name": "stderr",
     "output_type": "stream",
     "text": [
      "Strains link Progress:   3%|▎         | 1779/68617 [02:24<1:30:04, 12.37it/s]"
     ]
    },
    {
     "name": "stdout",
     "output_type": "stream",
     "text": [
      "Error fetching https://mediadive.dsmz.de/strains/medium/83?p=2: Response ended prematurely. Retrying 1/5...\n",
      "Error fetching https://mediadive.dsmz.de/strains/medium/91?p=1: Response ended prematurely. Retrying 1/5...\n"
     ]
    },
    {
     "name": "stderr",
     "output_type": "stream",
     "text": [
      "Strains link Progress:   3%|▎         | 2001/68617 [02:33<1:03:33, 17.47it/s]"
     ]
    },
    {
     "name": "stdout",
     "output_type": "stream",
     "text": [
      "Error fetching strains link https://mediadive.dsmz.de/strains/medium/104b: Response ended prematurely. Retrying 1/5...\n"
     ]
    },
    {
     "name": "stderr",
     "output_type": "stream",
     "text": [
      "Strains link Progress:   3%|▎         | 2041/68617 [02:37<1:25:35, 12.96it/s]"
     ]
    },
    {
     "name": "stdout",
     "output_type": "stream",
     "text": [
      "Error fetching https://mediadive.dsmz.de/strains/medium/83?p=2: ('Connection broken: IncompleteRead(6138 bytes read, 4102 more expected)', IncompleteRead(6138 bytes read, 4102 more expected)). Retrying 2/5...\n"
     ]
    },
    {
     "name": "stderr",
     "output_type": "stream",
     "text": [
      "Strains link Progress:   4%|▎         | 2443/68617 [02:58<55:47, 19.77it/s]  "
     ]
    },
    {
     "name": "stdout",
     "output_type": "stream",
     "text": [
      "Error fetching strains link https://mediadive.dsmz.de/strains/medium/111: Response ended prematurely. Retrying 1/5...\n"
     ]
    },
    {
     "name": "stderr",
     "output_type": "stream",
     "text": [
      "Strains link Progress:   4%|▍         | 2766/68617 [03:11<34:56, 31.42it/s]  "
     ]
    },
    {
     "name": "stdout",
     "output_type": "stream",
     "text": [
      "Error fetching https://mediadive.dsmz.de/strains/medium/98?p=3: Response ended prematurely. Retrying 1/5...\n"
     ]
    },
    {
     "name": "stderr",
     "output_type": "stream",
     "text": [
      "Strains link Progress:   5%|▌         | 3577/68617 [03:49<1:06:51, 16.21it/s]"
     ]
    },
    {
     "name": "stdout",
     "output_type": "stream",
     "text": [
      "Error fetching strains link https://mediadive.dsmz.de/strains/medium/129: Response ended prematurely. Retrying 1/5...\n"
     ]
    },
    {
     "name": "stderr",
     "output_type": "stream",
     "text": [
      "Strains link Progress:   6%|▌         | 3894/68617 [04:06<1:30:45, 11.89it/s]"
     ]
    },
    {
     "name": "stdout",
     "output_type": "stream",
     "text": [
      "Error fetching https://mediadive.dsmz.de/strains/medium/104b?p=4: Response ended prematurely. Retrying 1/5...\n"
     ]
    },
    {
     "name": "stderr",
     "output_type": "stream",
     "text": [
      "Strains link Progress:   7%|▋         | 4532/68617 [04:41<1:42:09, 10.45it/s]"
     ]
    },
    {
     "name": "stdout",
     "output_type": "stream",
     "text": [
      "Error fetching strains link https://mediadive.dsmz.de/strains/medium/142: Response ended prematurely. Retrying 1/5...\n"
     ]
    },
    {
     "name": "stderr",
     "output_type": "stream",
     "text": [
      "Strains link Progress:   7%|▋         | 4636/68617 [04:48<1:03:07, 16.89it/s]"
     ]
    },
    {
     "name": "stdout",
     "output_type": "stream",
     "text": [
      "Error fetching https://mediadive.dsmz.de/strains/medium/98?p=6: Response ended prematurely. Retrying 1/5...\n"
     ]
    },
    {
     "name": "stderr",
     "output_type": "stream",
     "text": [
      "Strains link Progress:   8%|▊         | 5613/68617 [05:47<1:08:27, 15.34it/s]"
     ]
    },
    {
     "name": "stdout",
     "output_type": "stream",
     "text": [
      "Error fetching https://mediadive.dsmz.de/strains/medium/11?p=17: ('Connection broken: IncompleteRead(6138 bytes read, 4102 more expected)', IncompleteRead(6138 bytes read, 4102 more expected)). Retrying 1/5...\n"
     ]
    },
    {
     "name": "stderr",
     "output_type": "stream",
     "text": [
      "Strains link Progress:   9%|▉         | 6280/68617 [06:36<1:33:25, 11.12it/s]"
     ]
    },
    {
     "name": "stdout",
     "output_type": "stream",
     "text": [
      "Error fetching strains link https://mediadive.dsmz.de/strains/medium/194: ('Connection broken: IncompleteRead(6138 bytes read, 4102 more expected)', IncompleteRead(6138 bytes read, 4102 more expected)). Retrying 1/5...\n"
     ]
    },
    {
     "name": "stderr",
     "output_type": "stream",
     "text": [
      "Strains link Progress:  10%|▉         | 6527/68617 [06:51<40:38, 25.47it/s]  "
     ]
    },
    {
     "name": "stdout",
     "output_type": "stream",
     "text": [
      "Error fetching https://mediadive.dsmz.de/strains/medium/84?p=16: ('Connection broken: IncompleteRead(6138 bytes read, 4102 more expected)', IncompleteRead(6138 bytes read, 4102 more expected)). Retrying 1/5...\n"
     ]
    },
    {
     "name": "stderr",
     "output_type": "stream",
     "text": [
      "Strains link Progress:  10%|▉         | 6619/68617 [07:00<1:08:16, 15.13it/s]"
     ]
    },
    {
     "name": "stdout",
     "output_type": "stream",
     "text": [
      "Error fetching strains link https://mediadive.dsmz.de/strains/medium/212: ('Connection broken: IncompleteRead(6138 bytes read, 4102 more expected)', IncompleteRead(6138 bytes read, 4102 more expected)). Retrying 1/5...\n"
     ]
    },
    {
     "name": "stderr",
     "output_type": "stream",
     "text": [
      "Strains link Progress:  10%|▉         | 6745/68617 [07:07<1:07:17, 15.32it/s]"
     ]
    },
    {
     "name": "stdout",
     "output_type": "stream",
     "text": [
      "Error fetching https://mediadive.dsmz.de/strains/medium/129?p=10: ('Connection broken: IncompleteRead(2042 bytes read, 8198 more expected)', IncompleteRead(2042 bytes read, 8198 more expected)). Retrying 1/5...\n"
     ]
    },
    {
     "name": "stderr",
     "output_type": "stream",
     "text": [
      "Strains link Progress:  10%|█         | 7137/68617 [07:31<1:17:01, 13.30it/s]"
     ]
    },
    {
     "name": "stdout",
     "output_type": "stream",
     "text": [
      "Error fetching https://mediadive.dsmz.de/strains/medium/215c?p=1: ('Connection broken: IncompleteRead(6138 bytes read, 4102 more expected)', IncompleteRead(6138 bytes read, 4102 more expected)). Retrying 1/5...\n"
     ]
    },
    {
     "name": "stderr",
     "output_type": "stream",
     "text": [
      "Strains link Progress:  11%|█         | 7371/68617 [07:43<39:31, 25.82it/s]  "
     ]
    },
    {
     "name": "stdout",
     "output_type": "stream",
     "text": [
      "Error fetching https://mediadive.dsmz.de/strains/medium/215?p=2: ('Connection broken: IncompleteRead(6138 bytes read, 4102 more expected)', IncompleteRead(6138 bytes read, 4102 more expected)). Retrying 1/5...\n"
     ]
    },
    {
     "name": "stderr",
     "output_type": "stream",
     "text": [
      "Strains link Progress:  12%|█▏        | 8263/68617 [08:31<48:16, 20.83it/s]  "
     ]
    },
    {
     "name": "stdout",
     "output_type": "stream",
     "text": [
      "Error fetching strains link https://mediadive.dsmz.de/strains/medium/255: ('Connection broken: IncompleteRead(6138 bytes read, 4102 more expected)', IncompleteRead(6138 bytes read, 4102 more expected)). Retrying 1/5...\n"
     ]
    },
    {
     "name": "stderr",
     "output_type": "stream",
     "text": [
      "Strains link Progress:  12%|█▏        | 8528/68617 [08:46<1:39:09, 10.10it/s]"
     ]
    },
    {
     "name": "stdout",
     "output_type": "stream",
     "text": [
      "Error fetching https://mediadive.dsmz.de/strains/medium/186?p=9: ('Connection broken: IncompleteRead(6138 bytes read, 4102 more expected)', IncompleteRead(6138 bytes read, 4102 more expected)). Retrying 1/5...\n"
     ]
    },
    {
     "name": "stderr",
     "output_type": "stream",
     "text": [
      "Strains link Progress:  13%|█▎        | 8670/68617 [08:53<53:45, 18.59it/s]  "
     ]
    },
    {
     "name": "stdout",
     "output_type": "stream",
     "text": [
      "Error fetching https://mediadive.dsmz.de/strains/medium/90?p=22: ('Connection broken: IncompleteRead(6138 bytes read, 4102 more expected)', IncompleteRead(6138 bytes read, 4102 more expected)). Retrying 1/5...\n"
     ]
    },
    {
     "name": "stderr",
     "output_type": "stream",
     "text": [
      "Strains link Progress:  13%|█▎        | 8827/68617 [09:01<58:48, 16.94it/s]  "
     ]
    },
    {
     "name": "stdout",
     "output_type": "stream",
     "text": [
      "Error fetching https://mediadive.dsmz.de/strains/medium/186?p=9: ('Connection broken: IncompleteRead(6138 bytes read, 4102 more expected)', IncompleteRead(6138 bytes read, 4102 more expected)). Retrying 2/5...\n"
     ]
    },
    {
     "name": "stderr",
     "output_type": "stream",
     "text": [
      "Strains link Progress:  13%|█▎        | 9233/68617 [09:29<1:08:44, 14.40it/s]"
     ]
    },
    {
     "name": "stdout",
     "output_type": "stream",
     "text": [
      "Error fetching https://mediadive.dsmz.de/strains/medium/90?p=23: ('Connection broken: IncompleteRead(6138 bytes read, 4102 more expected)', IncompleteRead(6138 bytes read, 4102 more expected)). Retrying 1/5...\n"
     ]
    },
    {
     "name": "stderr",
     "output_type": "stream",
     "text": [
      "Strains link Progress:  13%|█▎        | 9253/68617 [09:30<52:52, 18.71it/s]  "
     ]
    },
    {
     "name": "stdout",
     "output_type": "stream",
     "text": [
      "Error fetching https://mediadive.dsmz.de/strains/medium/129?p=17: ('Connection broken: IncompleteRead(6138 bytes read, 4102 more expected)', IncompleteRead(6138 bytes read, 4102 more expected)). Retrying 1/5...\n"
     ]
    },
    {
     "name": "stderr",
     "output_type": "stream",
     "text": [
      "Strains link Progress:  14%|█▍        | 9843/68617 [10:18<1:59:35,  8.19it/s]"
     ]
    },
    {
     "name": "stdout",
     "output_type": "stream",
     "text": [
      "Error fetching https://mediadive.dsmz.de/strains/medium/220?p=9: ('Connection broken: IncompleteRead(6138 bytes read, 4102 more expected)', IncompleteRead(6138 bytes read, 4102 more expected)). Retrying 1/5...\n"
     ]
    },
    {
     "name": "stderr",
     "output_type": "stream",
     "text": [
      "Strains link Progress:  16%|█▌        | 11049/68617 [11:40<1:02:23, 15.38it/s]"
     ]
    },
    {
     "name": "stdout",
     "output_type": "stream",
     "text": [
      "Error fetching strains link https://mediadive.dsmz.de/strains/medium/354: ('Connection broken: IncompleteRead(6138 bytes read, 4102 more expected)', IncompleteRead(6138 bytes read, 4102 more expected)). Retrying 1/5...\n"
     ]
    },
    {
     "name": "stderr",
     "output_type": "stream",
     "text": [
      "Strains link Progress:  16%|█▋        | 11174/68617 [11:47<48:41, 19.66it/s]  "
     ]
    },
    {
     "name": "stdout",
     "output_type": "stream",
     "text": [
      "Error fetching https://mediadive.dsmz.de/strains/medium/215?p=13: ('Connection broken: IncompleteRead(6138 bytes read, 4102 more expected)', IncompleteRead(6138 bytes read, 4102 more expected)). Retrying 1/5...\n",
      "Error fetching https://mediadive.dsmz.de/strains/medium/220?p=12: Response ended prematurely. Retrying 1/5...\n"
     ]
    },
    {
     "name": "stderr",
     "output_type": "stream",
     "text": [
      "Strains link Progress:  16%|█▋        | 11219/68617 [11:53<1:38:54,  9.67it/s]"
     ]
    },
    {
     "name": "stdout",
     "output_type": "stream",
     "text": [
      "Error fetching strains link https://mediadive.dsmz.de/strains/medium/364: ('Connection broken: IncompleteRead(6138 bytes read, 4102 more expected)', IncompleteRead(6138 bytes read, 4102 more expected)). Retrying 1/5...\n"
     ]
    },
    {
     "name": "stderr",
     "output_type": "stream",
     "text": [
      "Strains link Progress:  16%|█▋        | 11237/68617 [11:56<1:54:49,  8.33it/s]"
     ]
    },
    {
     "name": "stdout",
     "output_type": "stream",
     "text": [
      "Error fetching strains link https://mediadive.dsmz.de/strains/medium/370: ('Connection broken: IncompleteRead(6138 bytes read, 4102 more expected)', IncompleteRead(6138 bytes read, 4102 more expected)). Retrying 1/5...\n"
     ]
    },
    {
     "name": "stderr",
     "output_type": "stream",
     "text": [
      "Strains link Progress:  17%|█▋        | 11520/68617 [12:13<1:25:03, 11.19it/s]"
     ]
    },
    {
     "name": "stdout",
     "output_type": "stream",
     "text": [
      "Error fetching https://mediadive.dsmz.de/strains/medium/220?p=12: ('Connection broken: IncompleteRead(6138 bytes read, 4102 more expected)', IncompleteRead(6138 bytes read, 4102 more expected)). Retrying 2/5...\n"
     ]
    },
    {
     "name": "stderr",
     "output_type": "stream",
     "text": [
      "Strains link Progress:  17%|█▋        | 11642/68617 [12:20<42:58, 22.10it/s]  "
     ]
    },
    {
     "name": "stdout",
     "output_type": "stream",
     "text": [
      "Error fetching https://mediadive.dsmz.de/strains/medium/372?p=1: Response ended prematurely. Retrying 1/5...\n"
     ]
    },
    {
     "name": "stderr",
     "output_type": "stream",
     "text": [
      "Strains link Progress:  18%|█▊        | 12629/68617 [13:22<1:36:13,  9.70it/s]"
     ]
    },
    {
     "name": "stdout",
     "output_type": "stream",
     "text": [
      "Error fetching https://mediadive.dsmz.de/strains/medium/215?p=17: ('Connection broken: IncompleteRead(6138 bytes read, 4102 more expected)', IncompleteRead(6138 bytes read, 4102 more expected)). Retrying 1/5...\n"
     ]
    },
    {
     "name": "stderr",
     "output_type": "stream",
     "text": [
      "Strains link Progress:  20%|██        | 13910/68617 [14:34<1:36:54,  9.41it/s]"
     ]
    },
    {
     "name": "stdout",
     "output_type": "stream",
     "text": [
      "Error fetching strains link https://mediadive.dsmz.de/strains/medium/441: ('Connection broken: IncompleteRead(6138 bytes read, 4102 more expected)', IncompleteRead(6138 bytes read, 4102 more expected)). Retrying 1/5...\n"
     ]
    },
    {
     "name": "stderr",
     "output_type": "stream",
     "text": [
      "Strains link Progress:  22%|██▏       | 15266/68617 [15:49<55:58, 15.89it/s]  "
     ]
    },
    {
     "name": "stdout",
     "output_type": "stream",
     "text": [
      "Error fetching https://mediadive.dsmz.de/strains/medium/84?p=44: ('Connection broken: IncompleteRead(6138 bytes read, 4102 more expected)', IncompleteRead(6138 bytes read, 4102 more expected)). Retrying 1/5...\n",
      "Error fetching https://mediadive.dsmz.de/strains/medium/461?p=1: ('Connection broken: IncompleteRead(6138 bytes read, 4102 more expected)', IncompleteRead(6138 bytes read, 4102 more expected)). Retrying 1/5...\n"
     ]
    },
    {
     "name": "stderr",
     "output_type": "stream",
     "text": [
      "Strains link Progress:  24%|██▎       | 16295/68617 [16:57<1:24:39, 10.30it/s]"
     ]
    },
    {
     "name": "stdout",
     "output_type": "stream",
     "text": [
      "Error fetching https://mediadive.dsmz.de/strains/medium/220?p=26: ('Connection broken: IncompleteRead(6138 bytes read, 4102 more expected)', IncompleteRead(6138 bytes read, 4102 more expected)). Retrying 1/5...\n"
     ]
    },
    {
     "name": "stderr",
     "output_type": "stream",
     "text": [
      "Strains link Progress:  24%|██▍       | 16805/68617 [17:39<1:39:19,  8.69it/s]"
     ]
    },
    {
     "name": "stdout",
     "output_type": "stream",
     "text": [
      "Error fetching https://mediadive.dsmz.de/strains/medium/1?p=57: ('Connection broken: IncompleteRead(6138 bytes read, 4102 more expected)', IncompleteRead(6138 bytes read, 4102 more expected)). Retrying 1/5...\n"
     ]
    },
    {
     "name": "stderr",
     "output_type": "stream",
     "text": [
      "Strains link Progress:  25%|██▍       | 17047/68617 [17:57<57:25, 14.97it/s]  "
     ]
    },
    {
     "name": "stdout",
     "output_type": "stream",
     "text": [
      "Error fetching https://mediadive.dsmz.de/strains/medium/504?p=1: ('Connection broken: IncompleteRead(6138 bytes read, 4102 more expected)', IncompleteRead(6138 bytes read, 4102 more expected)). Retrying 1/5...\n"
     ]
    },
    {
     "name": "stderr",
     "output_type": "stream",
     "text": [
      "Strains link Progress:  25%|██▌       | 17460/68617 [18:26<44:51, 19.00it/s]  "
     ]
    },
    {
     "name": "stdout",
     "output_type": "stream",
     "text": [
      "Error fetching https://mediadive.dsmz.de/strains/medium/381?p=18: ('Connection broken: IncompleteRead(6138 bytes read, 4102 more expected)', IncompleteRead(6138 bytes read, 4102 more expected)). Retrying 1/5...\n"
     ]
    },
    {
     "name": "stderr",
     "output_type": "stream",
     "text": [
      "Strains link Progress:  26%|██▋       | 18081/68617 [19:06<53:11, 15.83it/s]  "
     ]
    },
    {
     "name": "stdout",
     "output_type": "stream",
     "text": [
      "Error fetching https://mediadive.dsmz.de/strains/medium/84?p=53: ('Connection broken: IncompleteRead(6138 bytes read, 4102 more expected)', IncompleteRead(6138 bytes read, 4102 more expected)). Retrying 1/5...\n"
     ]
    },
    {
     "name": "stderr",
     "output_type": "stream",
     "text": [
      "Strains link Progress:  27%|██▋       | 18205/68617 [19:15<54:37, 15.38it/s]  "
     ]
    },
    {
     "name": "stdout",
     "output_type": "stream",
     "text": [
      "Error fetching https://mediadive.dsmz.de/strains/medium/514?p=4: ('Connection broken: IncompleteRead(6138 bytes read, 4102 more expected)', IncompleteRead(6138 bytes read, 4102 more expected)). Retrying 1/5...\n"
     ]
    },
    {
     "name": "stderr",
     "output_type": "stream",
     "text": [
      "Strains link Progress:  28%|██▊       | 19056/68617 [20:08<48:51, 16.91it/s]  "
     ]
    },
    {
     "name": "stdout",
     "output_type": "stream",
     "text": [
      "Error fetching https://mediadive.dsmz.de/strains/medium/514?p=6: ('Connection broken: IncompleteRead(6138 bytes read, 4102 more expected)', IncompleteRead(6138 bytes read, 4102 more expected)). Retrying 1/5...\n"
     ]
    },
    {
     "name": "stderr",
     "output_type": "stream",
     "text": [
      "Strains link Progress:  28%|██▊       | 19273/68617 [20:26<1:02:45, 13.11it/s]"
     ]
    },
    {
     "name": "stdout",
     "output_type": "stream",
     "text": [
      "Error fetching strains link https://mediadive.dsmz.de/strains/medium/593: ('Connection broken: IncompleteRead(6138 bytes read, 4102 more expected)', IncompleteRead(6138 bytes read, 4102 more expected)). Retrying 1/5...\n"
     ]
    },
    {
     "name": "stderr",
     "output_type": "stream",
     "text": [
      "Strains link Progress:  28%|██▊       | 19355/68617 [20:30<59:23, 13.82it/s]  "
     ]
    },
    {
     "name": "stdout",
     "output_type": "stream",
     "text": [
      "Error fetching https://mediadive.dsmz.de/strains/medium/535a?p=5: ('Connection broken: IncompleteRead(6138 bytes read, 4102 more expected)', IncompleteRead(6138 bytes read, 4102 more expected)). Retrying 1/5...\n"
     ]
    },
    {
     "name": "stderr",
     "output_type": "stream",
     "text": [
      "Strains link Progress:  29%|██▊       | 19723/68617 [20:51<42:29, 19.18it/s]  "
     ]
    },
    {
     "name": "stdout",
     "output_type": "stream",
     "text": [
      "Error fetching https://mediadive.dsmz.de/strains/medium/381?p=25: ('Connection broken: IncompleteRead(6138 bytes read, 4102 more expected)', IncompleteRead(6138 bytes read, 4102 more expected)). Retrying 1/5...\n"
     ]
    },
    {
     "name": "stderr",
     "output_type": "stream",
     "text": [
      "Strains link Progress:  30%|██▉       | 20407/68617 [21:38<1:20:38,  9.96it/s]"
     ]
    },
    {
     "name": "stdout",
     "output_type": "stream",
     "text": [
      "Error fetching https://mediadive.dsmz.de/strains/medium/613?p=1: ('Connection broken: IncompleteRead(6138 bytes read, 4102 more expected)', IncompleteRead(6138 bytes read, 4102 more expected)). Retrying 1/5...\n"
     ]
    },
    {
     "name": "stderr",
     "output_type": "stream",
     "text": [
      "Strains link Progress:  31%|███       | 20943/68617 [22:09<46:58, 16.92it/s]  "
     ]
    },
    {
     "name": "stdout",
     "output_type": "stream",
     "text": [
      "Error fetching https://mediadive.dsmz.de/strains/medium/634?p=1: Response ended prematurely. Retrying 1/5...\n"
     ]
    },
    {
     "name": "stderr",
     "output_type": "stream",
     "text": [
      "Strains link Progress:  31%|███       | 20966/68617 [22:11<1:13:01, 10.88it/s]"
     ]
    },
    {
     "name": "stdout",
     "output_type": "stream",
     "text": [
      "Error fetching https://mediadive.dsmz.de/strains/medium/220?p=42: ('Connection broken: IncompleteRead(6138 bytes read, 4102 more expected)', IncompleteRead(6138 bytes read, 4102 more expected)). Retrying 1/5...\n"
     ]
    },
    {
     "name": "stderr",
     "output_type": "stream",
     "text": [
      "Strains link Progress:  31%|███       | 21154/68617 [22:24<57:10, 13.84it/s]  "
     ]
    },
    {
     "name": "stdout",
     "output_type": "stream",
     "text": [
      "Error fetching https://mediadive.dsmz.de/strains/medium/514?p=13: ('Connection broken: IncompleteRead(6138 bytes read, 4102 more expected)', IncompleteRead(6138 bytes read, 4102 more expected)). Retrying 1/5...\n"
     ]
    },
    {
     "name": "stderr",
     "output_type": "stream",
     "text": [
      "Strains link Progress:  31%|███▏      | 21481/68617 [22:46<1:11:30, 10.99it/s]"
     ]
    },
    {
     "name": "stdout",
     "output_type": "stream",
     "text": [
      "Error fetching strains link https://mediadive.dsmz.de/strains/medium/656: ('Connection broken: IncompleteRead(6138 bytes read, 4102 more expected)', IncompleteRead(6138 bytes read, 4102 more expected)). Retrying 1/5...\n"
     ]
    },
    {
     "name": "stderr",
     "output_type": "stream",
     "text": [
      "Strains link Progress:  33%|███▎      | 22659/68617 [24:07<1:07:09, 11.40it/s]"
     ]
    },
    {
     "name": "stdout",
     "output_type": "stream",
     "text": [
      "Error fetching https://mediadive.dsmz.de/strains/medium/683?p=1: ('Connection broken: IncompleteRead(6138 bytes read, 4102 more expected)', IncompleteRead(6138 bytes read, 4102 more expected)). Retrying 1/5...\n"
     ]
    },
    {
     "name": "stderr",
     "output_type": "stream",
     "text": [
      "Strains link Progress:  34%|███▍      | 23329/68617 [24:52<1:14:57, 10.07it/s]"
     ]
    },
    {
     "name": "stdout",
     "output_type": "stream",
     "text": [
      "Error fetching https://mediadive.dsmz.de/strains/medium/714?p=1: ('Connection broken: IncompleteRead(6138 bytes read, 4102 more expected)', IncompleteRead(6138 bytes read, 4102 more expected)). Retrying 1/5...\n"
     ]
    },
    {
     "name": "stderr",
     "output_type": "stream",
     "text": [
      "Strains link Progress:  36%|███▌      | 24598/68617 [26:24<1:42:29,  7.16it/s]"
     ]
    },
    {
     "name": "stdout",
     "output_type": "stream",
     "text": [
      "Error fetching https://mediadive.dsmz.de/strains/medium/84?p=74: ('Connection broken: IncompleteRead(6138 bytes read, 4102 more expected)', IncompleteRead(6138 bytes read, 4102 more expected)). Retrying 1/5..."
     ]
    },
    {
     "name": "stderr",
     "output_type": "stream",
     "text": [
      "Strains link Progress:  36%|███▌      | 24618/68617 [26:27<1:51:41,  6.57it/s]"
     ]
    },
    {
     "name": "stdout",
     "output_type": "stream",
     "text": [
      "\n"
     ]
    },
    {
     "name": "stderr",
     "output_type": "stream",
     "text": [
      "Strains link Progress:  37%|███▋      | 25492/68617 [27:33<36:28, 19.70it/s]  "
     ]
    },
    {
     "name": "stdout",
     "output_type": "stream",
     "text": [
      "Error fetching https://mediadive.dsmz.de/strains/medium/9?p=87: ('Connection broken: IncompleteRead(6138 bytes read, 4102 more expected)', IncompleteRead(6138 bytes read, 4102 more expected)). Retrying 1/5...\n"
     ]
    },
    {
     "name": "stderr",
     "output_type": "stream",
     "text": [
      "Strains link Progress:  38%|███▊      | 25936/68617 [28:14<55:18, 12.86it/s]  "
     ]
    },
    {
     "name": "stdout",
     "output_type": "stream",
     "text": [
      "Error fetching https://mediadive.dsmz.de/strains/medium/815?p=1: ('Connection broken: IncompleteRead(6138 bytes read, 4102 more expected)', IncompleteRead(6138 bytes read, 4102 more expected)). Retrying 1/5...\n"
     ]
    },
    {
     "name": "stderr",
     "output_type": "stream",
     "text": [
      "Strains link Progress:  38%|███▊      | 26060/68617 [28:27<1:00:38, 11.69it/s]"
     ]
    },
    {
     "name": "stdout",
     "output_type": "stream",
     "text": [
      "Error fetching https://mediadive.dsmz.de/strains/medium/514?p=31: ('Connection broken: IncompleteRead(6138 bytes read, 4102 more expected)', IncompleteRead(6138 bytes read, 4102 more expected)). Retrying 1/5...\n",
      "Error fetching https://mediadive.dsmz.de/strains/medium/1?p=90: ('Connection broken: IncompleteRead(6138 bytes read, 4102 more expected)', IncompleteRead(6138 bytes read, 4102 more expected)). Retrying 1/5...\n"
     ]
    },
    {
     "name": "stderr",
     "output_type": "stream",
     "text": [
      "Strains link Progress:  38%|███▊      | 26366/68617 [28:57<1:34:37,  7.44it/s]"
     ]
    },
    {
     "name": "stdout",
     "output_type": "stream",
     "text": [
      "Error fetching https://mediadive.dsmz.de/strains/medium/220?p=62: ('Connection broken: IncompleteRead(6138 bytes read, 4102 more expected)', IncompleteRead(6138 bytes read, 4102 more expected)). Retrying 1/5...\n"
     ]
    },
    {
     "name": "stderr",
     "output_type": "stream",
     "text": [
      "Strains link Progress:  39%|███▉      | 26764/68617 [29:28<41:33, 16.78it/s]  "
     ]
    },
    {
     "name": "stdout",
     "output_type": "stream",
     "text": [
      "Error fetching https://mediadive.dsmz.de/strains/medium/693?p=18: ('Connection broken: IncompleteRead(6138 bytes read, 4102 more expected)', IncompleteRead(6138 bytes read, 4102 more expected)). Retrying 1/5...\n"
     ]
    },
    {
     "name": "stderr",
     "output_type": "stream",
     "text": [
      "Strains link Progress:  40%|███▉      | 27143/68617 [30:01<1:02:33, 11.05it/s]"
     ]
    },
    {
     "name": "stdout",
     "output_type": "stream",
     "text": [
      "Error fetching https://mediadive.dsmz.de/strains/medium/874?p=1: ('Connection broken: IncompleteRead(6138 bytes read, 4102 more expected)', IncompleteRead(6138 bytes read, 4102 more expected)). Retrying 1/5...\n"
     ]
    },
    {
     "name": "stderr",
     "output_type": "stream",
     "text": [
      "Strains link Progress:  42%|████▏     | 28552/68617 [32:02<1:18:47,  8.48it/s]"
     ]
    },
    {
     "name": "stdout",
     "output_type": "stream",
     "text": [
      "Error fetching strains link https://mediadive.dsmz.de/strains/medium/944a: ('Connection broken: IncompleteRead(6138 bytes read, 4102 more expected)', IncompleteRead(6138 bytes read, 4102 more expected)). Retrying 1/5...\n"
     ]
    },
    {
     "name": "stderr",
     "output_type": "stream",
     "text": [
      "Strains link Progress:  43%|████▎     | 29405/68617 [33:17<35:49, 18.25it/s]  "
     ]
    },
    {
     "name": "stdout",
     "output_type": "stream",
     "text": [
      "Error fetching https://mediadive.dsmz.de/strains/medium/514?p=46: ('Connection broken: IncompleteRead(6138 bytes read, 4102 more expected)', IncompleteRead(6138 bytes read, 4102 more expected)). Retrying 1/5...\n"
     ]
    },
    {
     "name": "stderr",
     "output_type": "stream",
     "text": [
      "Strains link Progress:  43%|████▎     | 29548/68617 [33:36<58:27, 11.14it/s]  "
     ]
    },
    {
     "name": "stdout",
     "output_type": "stream",
     "text": [
      "Error fetching https://mediadive.dsmz.de/strains/medium/514?p=46: ('Connection broken: IncompleteRead(6138 bytes read, 4102 more expected)', IncompleteRead(6138 bytes read, 4102 more expected)). Retrying 2/5...\n"
     ]
    },
    {
     "name": "stderr",
     "output_type": "stream",
     "text": [
      "Strains link Progress:  43%|████▎     | 29639/68617 [33:47<2:00:22,  5.40it/s]"
     ]
    },
    {
     "name": "stdout",
     "output_type": "stream",
     "text": [
      "Error fetching https://mediadive.dsmz.de/strains/medium/65?p=110: ('Connection broken: IncompleteRead(2042 bytes read, 8198 more expected)', IncompleteRead(2042 bytes read, 8198 more expected)). Retrying 1/5...\n"
     ]
    },
    {
     "name": "stderr",
     "output_type": "stream",
     "text": [
      "Strains link Progress:  43%|████▎     | 29703/68617 [33:51<1:04:40, 10.03it/s]"
     ]
    },
    {
     "name": "stdout",
     "output_type": "stream",
     "text": [
      "Error fetching https://mediadive.dsmz.de/strains/medium/535?p=46: ('Connection broken: IncompleteRead(6138 bytes read, 4102 more expected)', IncompleteRead(6138 bytes read, 4102 more expected)). Retrying 1/5...\n"
     ]
    },
    {
     "name": "stderr",
     "output_type": "stream",
     "text": [
      "Strains link Progress:  44%|████▎     | 30007/68617 [34:20<1:09:29,  9.26it/s]"
     ]
    },
    {
     "name": "stdout",
     "output_type": "stream",
     "text": [
      "Error fetching https://mediadive.dsmz.de/strains/medium/1?p=108: ('Connection broken: IncompleteRead(6138 bytes read, 4102 more expected)', IncompleteRead(6138 bytes read, 4102 more expected)). Retrying 1/5...\n"
     ]
    },
    {
     "name": "stderr",
     "output_type": "stream",
     "text": [
      "Strains link Progress:  44%|████▍     | 30401/68617 [34:54<38:29, 16.54it/s]  "
     ]
    },
    {
     "name": "stdout",
     "output_type": "stream",
     "text": [
      "Error fetching https://mediadive.dsmz.de/strains/medium/1027?p=1: ('Connection broken: IncompleteRead(6138 bytes read, 4102 more expected)', IncompleteRead(6138 bytes read, 4102 more expected)). Retrying 1/5...\n",
      "Error fetching https://mediadive.dsmz.de/strains/medium/1029?p=1: ('Connection broken: IncompleteRead(6138 bytes read, 4102 more expected)', IncompleteRead(6138 bytes read, 4102 more expected)). Retrying 1/5...\n"
     ]
    },
    {
     "name": "stderr",
     "output_type": "stream",
     "text": [
      "Strains link Progress:  44%|████▍     | 30462/68617 [35:02<1:16:06,  8.35it/s]"
     ]
    },
    {
     "name": "stdout",
     "output_type": "stream",
     "text": [
      "Error fetching https://mediadive.dsmz.de/strains/medium/535?p=49: ('Connection broken: IncompleteRead(6138 bytes read, 4102 more expected)', IncompleteRead(6138 bytes read, 4102 more expected)). Retrying 1/5...\n"
     ]
    },
    {
     "name": "stderr",
     "output_type": "stream",
     "text": [
      "Strains link Progress:  45%|████▍     | 30644/68617 [35:19<47:39, 13.28it/s]  "
     ]
    },
    {
     "name": "stdout",
     "output_type": "stream",
     "text": [
      "Error fetching https://mediadive.dsmz.de/strains/medium/535?p=49: ('Connection broken: IncompleteRead(6138 bytes read, 4102 more expected)', IncompleteRead(6138 bytes read, 4102 more expected)). Retrying 2/5...\n"
     ]
    },
    {
     "name": "stderr",
     "output_type": "stream",
     "text": [
      "Strains link Progress:  45%|████▍     | 30792/68617 [35:30<34:55, 18.05it/s]  "
     ]
    },
    {
     "name": "stdout",
     "output_type": "stream",
     "text": [
      "Error fetching strains link https://mediadive.dsmz.de/strains/medium/1054: ('Connection broken: IncompleteRead(6138 bytes read, 4102 more expected)', IncompleteRead(6138 bytes read, 4102 more expected)). Retrying 1/5...\n"
     ]
    },
    {
     "name": "stderr",
     "output_type": "stream",
     "text": [
      "Strains link Progress:  45%|████▌     | 31037/68617 [35:54<55:06, 11.36it/s]  "
     ]
    },
    {
     "name": "stdout",
     "output_type": "stream",
     "text": [
      "Error fetching https://mediadive.dsmz.de/strains/medium/1058d?p=1: ('Connection broken: IncompleteRead(6138 bytes read, 4102 more expected)', IncompleteRead(6138 bytes read, 4102 more expected)). Retrying 1/5...\n"
     ]
    },
    {
     "name": "stderr",
     "output_type": "stream",
     "text": [
      "Strains link Progress:  46%|████▌     | 31336/68617 [36:19<51:39, 12.03it/s]  "
     ]
    },
    {
     "name": "stdout",
     "output_type": "stream",
     "text": [
      "Error fetching strains link https://mediadive.dsmz.de/strains/medium/1091: ('Connection broken: IncompleteRead(6138 bytes read, 4102 more expected)', IncompleteRead(6138 bytes read, 4102 more expected)). Retrying 1/5...\n"
     ]
    },
    {
     "name": "stderr",
     "output_type": "stream",
     "text": [
      "Strains link Progress:  46%|████▌     | 31339/68617 [36:22<1:23:39,  7.43it/s]"
     ]
    },
    {
     "name": "stdout",
     "output_type": "stream",
     "text": [
      "Error fetching strains link https://mediadive.dsmz.de/strains/medium/1081: ('Connection broken: IncompleteRead(6138 bytes read, 4102 more expected)', IncompleteRead(6138 bytes read, 4102 more expected)). Retrying 1/5...\n"
     ]
    },
    {
     "name": "stderr",
     "output_type": "stream",
     "text": [
      "Strains link Progress:  46%|████▌     | 31400/68617 [36:25<46:53, 13.23it/s]  "
     ]
    },
    {
     "name": "stdout",
     "output_type": "stream",
     "text": [
      "Error fetching strains link https://mediadive.dsmz.de/strains/medium/1095: ('Connection broken: IncompleteRead(6138 bytes read, 4102 more expected)', IncompleteRead(6138 bytes read, 4102 more expected)). Retrying 1/5...\n"
     ]
    },
    {
     "name": "stderr",
     "output_type": "stream",
     "text": [
      "Strains link Progress:  46%|████▌     | 31469/68617 [36:31<1:01:09, 10.12it/s]"
     ]
    },
    {
     "name": "stdout",
     "output_type": "stream",
     "text": [
      "Error fetching https://mediadive.dsmz.de/strains/medium/514?p=55: ('Connection broken: IncompleteRead(6138 bytes read, 4102 more expected)', IncompleteRead(6138 bytes read, 4102 more expected)). Retrying 1/5...\n"
     ]
    },
    {
     "name": "stderr",
     "output_type": "stream",
     "text": [
      "Strains link Progress:  46%|████▋     | 31807/68617 [37:02<52:12, 11.75it/s]  "
     ]
    },
    {
     "name": "stdout",
     "output_type": "stream",
     "text": [
      "Error fetching https://mediadive.dsmz.de/strains/medium/1101?p=1: ('Connection broken: IncompleteRead(6138 bytes read, 4102 more expected)', IncompleteRead(6138 bytes read, 4102 more expected)). Retrying 1/5...\n"
     ]
    },
    {
     "name": "stderr",
     "output_type": "stream",
     "text": [
      "Strains link Progress:  49%|████▊     | 33422/68617 [39:45<58:51,  9.97it/s]  "
     ]
    },
    {
     "name": "stdout",
     "output_type": "stream",
     "text": [
      "Error fetching https://mediadive.dsmz.de/strains/medium/1203?p=1: ('Connection broken: IncompleteRead(6138 bytes read, 4102 more expected)', IncompleteRead(6138 bytes read, 4102 more expected)). Retrying 1/5...\n"
     ]
    },
    {
     "name": "stderr",
     "output_type": "stream",
     "text": [
      "Strains link Progress:  50%|████▉     | 33969/68617 [40:44<1:45:33,  5.47it/s]"
     ]
    },
    {
     "name": "stdout",
     "output_type": "stream",
     "text": [
      "Error fetching strains link https://mediadive.dsmz.de/strains/medium/1250: ('Connection broken: IncompleteRead(6138 bytes read, 4102 more expected)', IncompleteRead(6138 bytes read, 4102 more expected)). Retrying 1/5...\n"
     ]
    },
    {
     "name": "stderr",
     "output_type": "stream",
     "text": [
      "Strains link Progress:  50%|████▉     | 34009/68617 [40:45<51:54, 11.11it/s]  "
     ]
    },
    {
     "name": "stdout",
     "output_type": "stream",
     "text": [
      "Error fetching https://mediadive.dsmz.de/strains/medium/1240?p=1: Response ended prematurely. Retrying 1/5...\n"
     ]
    },
    {
     "name": "stderr",
     "output_type": "stream",
     "text": [
      "Strains link Progress:  50%|████▉     | 34262/68617 [41:06<23:55, 23.94it/s]  "
     ]
    },
    {
     "name": "stdout",
     "output_type": "stream",
     "text": [
      "Error fetching strains link https://mediadive.dsmz.de/strains/medium/1266: Response ended prematurely. Retrying 1/5...\n"
     ]
    },
    {
     "name": "stderr",
     "output_type": "stream",
     "text": [
      "Strains link Progress:  50%|█████     | 34413/68617 [41:18<46:58, 12.13it/s]  "
     ]
    },
    {
     "name": "stdout",
     "output_type": "stream",
     "text": [
      "Error fetching https://mediadive.dsmz.de/strains/medium/1203?p=5: ('Connection broken: IncompleteRead(6138 bytes read, 4102 more expected)', IncompleteRead(6138 bytes read, 4102 more expected)). Retrying 1/5...\n"
     ]
    },
    {
     "name": "stderr",
     "output_type": "stream",
     "text": [
      "Strains link Progress:  50%|█████     | 34568/68617 [41:31<37:22, 15.19it/s]  "
     ]
    },
    {
     "name": "stdout",
     "output_type": "stream",
     "text": [
      "Error fetching https://mediadive.dsmz.de/strains/medium/1255?p=1: ('Connection broken: IncompleteRead(6138 bytes read, 4102 more expected)', IncompleteRead(6138 bytes read, 4102 more expected)). Retrying 1/5...\n"
     ]
    },
    {
     "name": "stderr",
     "output_type": "stream",
     "text": [
      "Strains link Progress:  50%|█████     | 34612/68617 [41:39<56:02, 10.11it/s]  "
     ]
    },
    {
     "name": "stdout",
     "output_type": "stream",
     "text": [
      "Error fetching https://mediadive.dsmz.de/strains/medium/1277a?p=1: ('Connection broken: IncompleteRead(6138 bytes read, 4102 more expected)', IncompleteRead(6138 bytes read, 4102 more expected)). Retrying 1/5...\n"
     ]
    },
    {
     "name": "stderr",
     "output_type": "stream",
     "text": [
      "Strains link Progress:  51%|█████     | 34917/68617 [42:05<34:52, 16.11it/s]  "
     ]
    },
    {
     "name": "stdout",
     "output_type": "stream",
     "text": [
      "Error fetching https://mediadive.dsmz.de/strains/medium/1293?p=1: ('Connection broken: IncompleteRead(6138 bytes read, 4102 more expected)', IncompleteRead(6138 bytes read, 4102 more expected)). Retrying 1/5...\n"
     ]
    },
    {
     "name": "stderr",
     "output_type": "stream",
     "text": [
      "Strains link Progress:  51%|█████     | 34958/68617 [42:10<56:39,  9.90it/s]  "
     ]
    },
    {
     "name": "stdout",
     "output_type": "stream",
     "text": [
      "Error fetching https://mediadive.dsmz.de/strains/medium/1295?p=1: Response ended prematurely. Retrying 1/5...\n",
      "Error fetching https://mediadive.dsmz.de/strains/medium/830?p=44: Response ended prematurely. Retrying 1/5...\n"
     ]
    },
    {
     "name": "stderr",
     "output_type": "stream",
     "text": [
      "Strains link Progress:  51%|█████     | 35067/68617 [42:22<40:43, 13.73it/s]  "
     ]
    },
    {
     "name": "stdout",
     "output_type": "stream",
     "text": [
      "Error fetching https://mediadive.dsmz.de/strains/medium/1293?p=1: ('Connection broken: IncompleteRead(6138 bytes read, 4102 more expected)', IncompleteRead(6138 bytes read, 4102 more expected)). Retrying 2/5...\n"
     ]
    },
    {
     "name": "stderr",
     "output_type": "stream",
     "text": [
      "Strains link Progress:  53%|█████▎    | 36344/68617 [44:59<38:58, 13.80it/s]  "
     ]
    },
    {
     "name": "stdout",
     "output_type": "stream",
     "text": [
      "Error fetching strains link https://mediadive.dsmz.de/strains/medium/1429: ('Connection broken: IncompleteRead(6138 bytes read, 4102 more expected)', IncompleteRead(6138 bytes read, 4102 more expected)). Retrying 1/5...\n"
     ]
    },
    {
     "name": "stderr",
     "output_type": "stream",
     "text": [
      "Strains link Progress:  53%|█████▎    | 36656/68617 [45:37<1:03:41,  8.36it/s]"
     ]
    },
    {
     "name": "stdout",
     "output_type": "stream",
     "text": [
      "Error fetching strains link https://mediadive.dsmz.de/strains/medium/1467: ('Connection broken: IncompleteRead(6138 bytes read, 4102 more expected)', IncompleteRead(6138 bytes read, 4102 more expected)). Retrying 1/5...\n"
     ]
    },
    {
     "name": "stderr",
     "output_type": "stream",
     "text": [
      "Strains link Progress:  54%|█████▍    | 36889/68617 [46:10<1:03:01,  8.39it/s]"
     ]
    },
    {
     "name": "stdout",
     "output_type": "stream",
     "text": [
      "Error fetching https://mediadive.dsmz.de/strains/medium/514?p=83: ('Connection broken: IncompleteRead(6138 bytes read, 4102 more expected)', IncompleteRead(6138 bytes read, 4102 more expected)). Retrying 1/5...\n"
     ]
    },
    {
     "name": "stderr",
     "output_type": "stream",
     "text": [
      "Strains link Progress:  54%|█████▍    | 36938/68617 [46:18<1:00:15,  8.76it/s]"
     ]
    },
    {
     "name": "stdout",
     "output_type": "stream",
     "text": [
      "Error fetching https://mediadive.dsmz.de/strains/medium/1484?p=1: ('Connection broken: IncompleteRead(6138 bytes read, 4102 more expected)', IncompleteRead(6138 bytes read, 4102 more expected)). Retrying 1/5...\n"
     ]
    },
    {
     "name": "stderr",
     "output_type": "stream",
     "text": [
      "Strains link Progress:  54%|█████▍    | 36979/68617 [46:23<55:45,  9.46it/s]  "
     ]
    },
    {
     "name": "stdout",
     "output_type": "stream",
     "text": [
      "Error fetching https://mediadive.dsmz.de/strains/medium/514?p=83: ('Connection broken: IncompleteRead(6138 bytes read, 4102 more expected)', IncompleteRead(6138 bytes read, 4102 more expected)). Retrying 2/5...\n"
     ]
    },
    {
     "name": "stderr",
     "output_type": "stream",
     "text": [
      "Strains link Progress:  56%|█████▌    | 38186/68617 [49:11<41:58, 12.08it/s]  "
     ]
    },
    {
     "name": "stdout",
     "output_type": "stream",
     "text": [
      "Error fetching https://mediadive.dsmz.de/strains/medium/1613?p=1: ('Connection broken: IncompleteRead(6138 bytes read, 4102 more expected)', IncompleteRead(6138 bytes read, 4102 more expected)). Retrying 1/5...\n"
     ]
    },
    {
     "name": "stderr",
     "output_type": "stream",
     "text": [
      "Strains link Progress:  56%|█████▌    | 38191/68617 [49:11<44:06, 11.50it/s]"
     ]
    },
    {
     "name": "stdout",
     "output_type": "stream",
     "text": [
      "Error fetching strains link https://mediadive.dsmz.de/strains/medium/1630: ('Connection broken: IncompleteRead(6138 bytes read, 4102 more expected)', IncompleteRead(6138 bytes read, 4102 more expected)). Retrying 1/5...\n",
      "Error fetching strains link https://mediadive.dsmz.de/strains/medium/1629: ('Connection broken: IncompleteRead(6138 bytes read, 4102 more expected)', IncompleteRead(6138 bytes read, 4102 more expected)). Retrying 1/5...\n"
     ]
    },
    {
     "name": "stderr",
     "output_type": "stream",
     "text": [
      "Strains link Progress:  56%|█████▌    | 38212/68617 [49:15<1:01:03,  8.30it/s]"
     ]
    },
    {
     "name": "stdout",
     "output_type": "stream",
     "text": [
      "Error fetching https://mediadive.dsmz.de/strains/medium/1619?p=1: Response ended prematurely. Retrying 1/5...\n"
     ]
    },
    {
     "name": "stderr",
     "output_type": "stream",
     "text": [
      "Strains link Progress:  56%|█████▌    | 38503/68617 [50:37<35:52, 13.99it/s]  "
     ]
    },
    {
     "name": "stdout",
     "output_type": "stream",
     "text": [
      "Error fetching strains link https://mediadive.dsmz.de/strains/medium/1665: ('Connection broken: IncompleteRead(6138 bytes read, 4102 more expected)', IncompleteRead(6138 bytes read, 4102 more expected)). Retrying 1/5...\n"
     ]
    },
    {
     "name": "stderr",
     "output_type": "stream",
     "text": [
      "Strains link Progress:  57%|█████▋    | 38843/68617 [51:24<56:47,  8.74it/s]  "
     ]
    },
    {
     "name": "stdout",
     "output_type": "stream",
     "text": [
      "Error fetching https://mediadive.dsmz.de/strains/medium/1715?p=1: ('Connection broken: IncompleteRead(6138 bytes read, 4102 more expected)', IncompleteRead(6138 bytes read, 4102 more expected)). Retrying 1/5...\n"
     ]
    },
    {
     "name": "stderr",
     "output_type": "stream",
     "text": [
      "Strains link Progress:  57%|█████▋    | 38920/68617 [51:37<1:29:43,  5.52it/s]"
     ]
    },
    {
     "name": "stdout",
     "output_type": "stream",
     "text": [
      "Error fetching strains link https://mediadive.dsmz.de/strains/medium/1757: ('Connection broken: IncompleteRead(6138 bytes read, 4102 more expected)', IncompleteRead(6138 bytes read, 4102 more expected)). Retrying 1/5...\n"
     ]
    },
    {
     "name": "stderr",
     "output_type": "stream",
     "text": [
      "Strains link Progress:  57%|█████▋    | 38985/68617 [51:47<1:42:06,  4.84it/s]"
     ]
    },
    {
     "name": "stdout",
     "output_type": "stream",
     "text": [
      "Error fetching https://mediadive.dsmz.de/strains/medium/1749?p=1: ('Connection broken: IncompleteRead(6138 bytes read, 4102 more expected)', IncompleteRead(6138 bytes read, 4102 more expected)). Retrying 1/5...\n"
     ]
    },
    {
     "name": "stderr",
     "output_type": "stream",
     "text": [
      "Strains link Progress:  57%|█████▋    | 39030/68617 [51:56<1:08:51,  7.16it/s]"
     ]
    },
    {
     "name": "stdout",
     "output_type": "stream",
     "text": [
      "Error fetching strains link https://mediadive.dsmz.de/strains/medium/1801: ('Connection broken: IncompleteRead(6138 bytes read, 3811 more expected)', IncompleteRead(6138 bytes read, 3811 more expected)). Retrying 1/5...\n"
     ]
    },
    {
     "name": "stderr",
     "output_type": "stream",
     "text": [
      "Strains link Progress:  57%|█████▋    | 39172/68617 [52:21<3:19:01,  2.47it/s]"
     ]
    },
    {
     "name": "stdout",
     "output_type": "stream",
     "text": [
      "Error fetching strains link https://mediadive.dsmz.de/strains/medium/J19: ('Connection broken: IncompleteRead(6138 bytes read, 4102 more expected)', IncompleteRead(6138 bytes read, 4102 more expected)). Retrying 1/5...\n"
     ]
    },
    {
     "name": "stderr",
     "output_type": "stream",
     "text": [
      "Strains link Progress:  57%|█████▋    | 39238/68617 [52:30<1:02:51,  7.79it/s]"
     ]
    },
    {
     "name": "stdout",
     "output_type": "stream",
     "text": [
      "Error fetching https://mediadive.dsmz.de/strains/medium/J11?p=1: ('Connection broken: IncompleteRead(2042 bytes read, 8198 more expected)', IncompleteRead(2042 bytes read, 8198 more expected)). Retrying 1/5...\n"
     ]
    },
    {
     "name": "stderr",
     "output_type": "stream",
     "text": [
      "Strains link Progress:  59%|█████▉    | 40368/68617 [53:27<19:43, 23.88it/s]  "
     ]
    },
    {
     "name": "stdout",
     "output_type": "stream",
     "text": [
      "Error fetching strains link https://mediadive.dsmz.de/strains/medium/J50: ('Connection broken: IncompleteRead(6138 bytes read, 4102 more expected)', IncompleteRead(6138 bytes read, 4102 more expected)). Retrying 1/5...\n"
     ]
    },
    {
     "name": "stderr",
     "output_type": "stream",
     "text": [
      "Strains link Progress:  59%|█████▉    | 40390/68617 [53:31<37:36, 12.51it/s]"
     ]
    },
    {
     "name": "stdout",
     "output_type": "stream",
     "text": [
      "Error fetching https://mediadive.dsmz.de/strains/medium/J13?p=4: Response ended prematurely. Retrying 1/5...\n"
     ]
    },
    {
     "name": "stderr",
     "output_type": "stream",
     "text": [
      "Strains link Progress:  59%|█████▉    | 40615/68617 [53:38<24:32, 19.01it/s]"
     ]
    },
    {
     "name": "stdout",
     "output_type": "stream",
     "text": [
      "Error fetching strains link https://mediadive.dsmz.de/strains/medium/J54: ('Connection broken: IncompleteRead(6138 bytes read, 4102 more expected)', IncompleteRead(6138 bytes read, 4102 more expected)). Retrying 1/5...\n"
     ]
    },
    {
     "name": "stderr",
     "output_type": "stream",
     "text": [
      "Strains link Progress:  62%|██████▏   | 42720/68617 [55:02<23:07, 18.66it/s]"
     ]
    },
    {
     "name": "stdout",
     "output_type": "stream",
     "text": [
      "Error fetching https://mediadive.dsmz.de/strains/medium/J58?p=3: ('Connection broken: IncompleteRead(6138 bytes read, 4102 more expected)', IncompleteRead(6138 bytes read, 4102 more expected)). Retrying 1/5...\n"
     ]
    },
    {
     "name": "stderr",
     "output_type": "stream",
     "text": [
      "Strains link Progress:  64%|██████▎   | 43703/68617 [55:36<08:17, 50.11it/s]"
     ]
    },
    {
     "name": "stdout",
     "output_type": "stream",
     "text": [
      "Error fetching strains link https://mediadive.dsmz.de/strains/medium/J81: ('Connection broken: IncompleteRead(6138 bytes read, 4102 more expected)', IncompleteRead(6138 bytes read, 4102 more expected)). Retrying 1/5...\n"
     ]
    },
    {
     "name": "stderr",
     "output_type": "stream",
     "text": [
      "Strains link Progress:  64%|██████▍   | 43803/68617 [55:39<08:29, 48.72it/s]"
     ]
    },
    {
     "name": "stdout",
     "output_type": "stream",
     "text": [
      "Error fetching https://mediadive.dsmz.de/strains/medium/J57?p=5: ('Connection broken: IncompleteRead(6138 bytes read, 4102 more expected)', IncompleteRead(6138 bytes read, 4102 more expected)). Retrying 1/5...\n",
      "Error fetching https://mediadive.dsmz.de/strains/medium/J77?p=1: ('Connection broken: IncompleteRead(6138 bytes read, 4102 more expected)', IncompleteRead(6138 bytes read, 4102 more expected)). Retrying 1/5...\n"
     ]
    },
    {
     "name": "stderr",
     "output_type": "stream",
     "text": [
      "Strains link Progress:  64%|██████▍   | 43923/68617 [55:45<18:10, 22.65it/s]"
     ]
    },
    {
     "name": "stdout",
     "output_type": "stream",
     "text": [
      "Error fetching https://mediadive.dsmz.de/strains/medium/J70?p=4: ('Connection broken: IncompleteRead(6138 bytes read, 4102 more expected)', IncompleteRead(6138 bytes read, 4102 more expected)). Retrying 1/5...\n"
     ]
    },
    {
     "name": "stderr",
     "output_type": "stream",
     "text": [
      "Strains link Progress:  65%|██████▌   | 44665/68617 [56:11<18:19, 21.79it/s]"
     ]
    },
    {
     "name": "stdout",
     "output_type": "stream",
     "text": [
      "Error fetching https://mediadive.dsmz.de/strains/medium/J81?p=1: ('Connection broken: IncompleteRead(6138 bytes read, 4102 more expected)', IncompleteRead(6138 bytes read, 4102 more expected)). Retrying 1/5...\n"
     ]
    },
    {
     "name": "stderr",
     "output_type": "stream",
     "text": [
      "Strains link Progress:  65%|██████▌   | 44833/68617 [56:17<18:56, 20.92it/s]"
     ]
    },
    {
     "name": "stdout",
     "output_type": "stream",
     "text": [
      "Error fetching https://mediadive.dsmz.de/strains/medium/J58?p=5: ('Connection broken: IncompleteRead(6138 bytes read, 4102 more expected)', IncompleteRead(6138 bytes read, 4102 more expected)). Retrying 1/5...\n"
     ]
    },
    {
     "name": "stderr",
     "output_type": "stream",
     "text": [
      "Strains link Progress:  67%|██████▋   | 45845/68617 [57:00<14:50, 25.59it/s]"
     ]
    },
    {
     "name": "stdout",
     "output_type": "stream",
     "text": [
      "Error fetching https://mediadive.dsmz.de/strains/medium/J93?p=1: ('Connection broken: IncompleteRead(6138 bytes read, 4102 more expected)', IncompleteRead(6138 bytes read, 4102 more expected)). Retrying 1/5...\n"
     ]
    },
    {
     "name": "stderr",
     "output_type": "stream",
     "text": [
      "Strains link Progress:  69%|██████▉   | 47456/68617 [58:16<17:00, 20.75it/s]"
     ]
    },
    {
     "name": "stdout",
     "output_type": "stream",
     "text": [
      "Error fetching strains link https://mediadive.dsmz.de/strains/medium/J129: ('Connection broken: IncompleteRead(6138 bytes read, 4102 more expected)', IncompleteRead(6138 bytes read, 4102 more expected)). Retrying 1/5...\n"
     ]
    },
    {
     "name": "stderr",
     "output_type": "stream",
     "text": [
      "Strains link Progress:  69%|██████▉   | 47577/68617 [58:22<17:42, 19.81it/s]"
     ]
    },
    {
     "name": "stdout",
     "output_type": "stream",
     "text": [
      "Error fetching https://mediadive.dsmz.de/strains/medium/J13?p=18: ('Connection broken: IncompleteRead(6138 bytes read, 4102 more expected)', IncompleteRead(6138 bytes read, 4102 more expected)). Retrying 1/5...\n"
     ]
    },
    {
     "name": "stderr",
     "output_type": "stream",
     "text": [
      "Strains link Progress:  70%|██████▉   | 47809/68617 [58:34<13:16, 26.12it/s]"
     ]
    },
    {
     "name": "stdout",
     "output_type": "stream",
     "text": [
      "Error fetching strains link https://mediadive.dsmz.de/strains/medium/J129: ('Connection broken: IncompleteRead(6138 bytes read, 4102 more expected)', IncompleteRead(6138 bytes read, 4102 more expected)). Retrying 2/5...\n"
     ]
    },
    {
     "name": "stderr",
     "output_type": "stream",
     "text": [
      "Strains link Progress:  70%|██████▉   | 47858/68617 [58:38<17:33, 19.71it/s]"
     ]
    },
    {
     "name": "stdout",
     "output_type": "stream",
     "text": [
      "Error fetching https://mediadive.dsmz.de/strains/medium/J13?p=18: ('Connection broken: IncompleteRead(6138 bytes read, 4102 more expected)', IncompleteRead(6138 bytes read, 4102 more expected)). Retrying 2/5...\n"
     ]
    },
    {
     "name": "stderr",
     "output_type": "stream",
     "text": [
      "Strains link Progress:  70%|███████   | 48075/68617 [58:48<32:23, 10.57it/s]"
     ]
    },
    {
     "name": "stdout",
     "output_type": "stream",
     "text": [
      "Error fetching https://mediadive.dsmz.de/strains/medium/J124?p=2: ('Connection broken: IncompleteRead(6138 bytes read, 4102 more expected)', IncompleteRead(6138 bytes read, 4102 more expected)). Retrying 1/5...\n"
     ]
    },
    {
     "name": "stderr",
     "output_type": "stream",
     "text": [
      "Strains link Progress:  71%|███████   | 48440/68617 [59:04<11:32, 29.13it/s]"
     ]
    },
    {
     "name": "stdout",
     "output_type": "stream",
     "text": [
      "Error fetching https://mediadive.dsmz.de/strains/medium/J148?p=2: ('Connection broken: IncompleteRead(6138 bytes read, 4102 more expected)', IncompleteRead(6138 bytes read, 4102 more expected)). Retrying 1/5...\n"
     ]
    },
    {
     "name": "stderr",
     "output_type": "stream",
     "text": [
      "Strains link Progress:  71%|███████   | 48504/68617 [59:07<14:21, 23.35it/s]"
     ]
    },
    {
     "name": "stdout",
     "output_type": "stream",
     "text": [
      "Error fetching https://mediadive.dsmz.de/strains/medium/J124?p=2: ('Connection broken: IncompleteRead(6138 bytes read, 4102 more expected)', IncompleteRead(6138 bytes read, 4102 more expected)). Retrying 2/5...\n",
      "Error fetching https://mediadive.dsmz.de/strains/medium/J42?p=19: ('Connection broken: IncompleteRead(6138 bytes read, 4102 more expected)', IncompleteRead(6138 bytes read, 4102 more expected)). Retrying 1/5...\n"
     ]
    },
    {
     "name": "stderr",
     "output_type": "stream",
     "text": [
      "Strains link Progress:  71%|███████   | 48871/68617 [59:31<35:44,  9.21it/s]"
     ]
    },
    {
     "name": "stdout",
     "output_type": "stream",
     "text": [
      "Error fetching https://mediadive.dsmz.de/strains/medium/J26?p=22: ('Connection broken: IncompleteRead(6138 bytes read, 4102 more expected)', IncompleteRead(6138 bytes read, 4102 more expected)). Retrying 1/5...\n"
     ]
    },
    {
     "name": "stderr",
     "output_type": "stream",
     "text": [
      "Strains link Progress:  71%|███████▏  | 48931/68617 [59:34<23:30, 13.96it/s]"
     ]
    },
    {
     "name": "stdout",
     "output_type": "stream",
     "text": [
      "Error fetching strains link https://mediadive.dsmz.de/strains/medium/J168: ('Connection broken: IncompleteRead(6138 bytes read, 4102 more expected)', IncompleteRead(6138 bytes read, 4102 more expected)). Retrying 1/5...\n"
     ]
    },
    {
     "name": "stderr",
     "output_type": "stream",
     "text": [
      "Strains link Progress:  71%|███████▏  | 49032/68617 [59:47<39:09,  8.34it/s]"
     ]
    },
    {
     "name": "stdout",
     "output_type": "stream",
     "text": [
      "Error fetching https://mediadive.dsmz.de/strains/medium/J42?p=19: ('Connection broken: IncompleteRead(6138 bytes read, 4102 more expected)', IncompleteRead(6138 bytes read, 4102 more expected)). Retrying 2/5...\n",
      "Error fetching https://mediadive.dsmz.de/strains/medium/J25?p=23: ('Connection broken: IncompleteRead(6138 bytes read, 4102 more expected)', IncompleteRead(6138 bytes read, 4102 more expected)). Retrying 1/5...\n"
     ]
    },
    {
     "name": "stderr",
     "output_type": "stream",
     "text": [
      "Strains link Progress:  72%|███████▏  | 49075/68617 [59:50<26:51, 12.13it/s]"
     ]
    },
    {
     "name": "stdout",
     "output_type": "stream",
     "text": [
      "Error fetching https://mediadive.dsmz.de/strains/medium/J156?p=1: ('Connection broken: IncompleteRead(6138 bytes read, 4102 more expected)', IncompleteRead(6138 bytes read, 4102 more expected)). Retrying 1/5...\n"
     ]
    },
    {
     "name": "stderr",
     "output_type": "stream",
     "text": [
      "Strains link Progress:  72%|███████▏  | 49118/68617 [59:57<53:10,  6.11it/s]"
     ]
    },
    {
     "name": "stdout",
     "output_type": "stream",
     "text": [
      "Error fetching https://mediadive.dsmz.de/strains/medium/J58?p=14: ('Connection broken: IncompleteRead(6138 bytes read, 4102 more expected)', IncompleteRead(6138 bytes read, 4102 more expected)). Retrying 1/5...\n",
      "Error fetching https://mediadive.dsmz.de/strains/medium/J26?p=23: ('Connection broken: IncompleteRead(6138 bytes read, 4102 more expected)', IncompleteRead(6138 bytes read, 4102 more expected)). Retrying 1/5...\n"
     ]
    },
    {
     "name": "stderr",
     "output_type": "stream",
     "text": [
      "Strains link Progress:  72%|███████▏  | 49239/68617 [1:00:01<18:56, 17.04it/s]"
     ]
    },
    {
     "name": "stdout",
     "output_type": "stream",
     "text": [
      "Error fetching strains link https://mediadive.dsmz.de/strains/medium/J177: ('Connection broken: IncompleteRead(6138 bytes read, 4102 more expected)', IncompleteRead(6138 bytes read, 4102 more expected)). Retrying 1/5...\n"
     ]
    },
    {
     "name": "stderr",
     "output_type": "stream",
     "text": [
      "Strains link Progress:  72%|███████▏  | 49474/68617 [1:00:17<28:21, 11.25it/s]"
     ]
    },
    {
     "name": "stdout",
     "output_type": "stream",
     "text": [
      "Error fetching strains link https://mediadive.dsmz.de/strains/medium/J177: ('Connection broken: IncompleteRead(8186 bytes read, 2054 more expected)', IncompleteRead(8186 bytes read, 2054 more expected)). Retrying 2/5...\n"
     ]
    },
    {
     "name": "stderr",
     "output_type": "stream",
     "text": [
      "Strains link Progress:  73%|███████▎  | 49900/68617 [1:00:36<13:11, 23.65it/s]"
     ]
    },
    {
     "name": "stdout",
     "output_type": "stream",
     "text": [
      "Error fetching https://mediadive.dsmz.de/strains/medium/J181?p=1: ('Connection broken: IncompleteRead(6138 bytes read, 4102 more expected)', IncompleteRead(6138 bytes read, 4102 more expected)). Retrying 1/5...\n"
     ]
    },
    {
     "name": "stderr",
     "output_type": "stream",
     "text": [
      "Strains link Progress:  73%|███████▎  | 49971/68617 [1:00:47<30:57, 10.04it/s]"
     ]
    },
    {
     "name": "stdout",
     "output_type": "stream",
     "text": [
      "Error fetching strains link https://mediadive.dsmz.de/strains/medium/J190: ('Connection broken: IncompleteRead(6138 bytes read, 4102 more expected)', IncompleteRead(6138 bytes read, 4102 more expected)). Retrying 1/5...\n"
     ]
    },
    {
     "name": "stderr",
     "output_type": "stream",
     "text": [
      "Strains link Progress:  73%|███████▎  | 50064/68617 [1:01:16<54:35,  5.66it/s]  "
     ]
    },
    {
     "name": "stdout",
     "output_type": "stream",
     "text": [
      "Error fetching https://mediadive.dsmz.de/strains/medium/J42?p=22: ('Connection broken: IncompleteRead(6138 bytes read, 4102 more expected)', IncompleteRead(6138 bytes read, 4102 more expected)). Retrying 1/5...\n",
      "Error fetching https://mediadive.dsmz.de/strains/medium/J168?p=3: ('Connection broken: IncompleteRead(6138 bytes read, 4102 more expected)', IncompleteRead(6138 bytes read, 4102 more expected)). Retrying 1/5...\n"
     ]
    },
    {
     "name": "stderr",
     "output_type": "stream",
     "text": [
      "Strains link Progress:  73%|███████▎  | 50084/68617 [1:01:18<49:31,  6.24it/s]"
     ]
    },
    {
     "name": "stdout",
     "output_type": "stream",
     "text": [
      "Error fetching https://mediadive.dsmz.de/strains/medium/J26?p=25: ('Connection broken: IncompleteRead(6138 bytes read, 4102 more expected)', IncompleteRead(6138 bytes read, 4102 more expected)). Retrying 1/5...\n"
     ]
    },
    {
     "name": "stderr",
     "output_type": "stream",
     "text": [
      "Strains link Progress:  73%|███████▎  | 50189/68617 [1:01:24<18:16, 16.81it/s]"
     ]
    },
    {
     "name": "stdout",
     "output_type": "stream",
     "text": [
      "Error fetching https://mediadive.dsmz.de/strains/medium/J156?p=4: ('Connection broken: IncompleteRead(6138 bytes read, 4102 more expected)', IncompleteRead(6138 bytes read, 4102 more expected)). Retrying 1/5...\n"
     ]
    },
    {
     "name": "stderr",
     "output_type": "stream",
     "text": [
      "Strains link Progress:  73%|███████▎  | 50281/68617 [1:01:32<44:03,  6.94it/s]"
     ]
    },
    {
     "name": "stdout",
     "output_type": "stream",
     "text": [
      "Error fetching strains link https://mediadive.dsmz.de/strains/medium/J207: ('Connection broken: IncompleteRead(6138 bytes read, 4102 more expected)', IncompleteRead(6138 bytes read, 4102 more expected)). Retrying 1/5...\n"
     ]
    },
    {
     "name": "stderr",
     "output_type": "stream",
     "text": [
      "Strains link Progress:  74%|███████▎  | 50535/68617 [1:01:48<25:33, 11.79it/s]"
     ]
    },
    {
     "name": "stdout",
     "output_type": "stream",
     "text": [
      "Error fetching strains link https://mediadive.dsmz.de/strains/medium/J207: ('Connection broken: IncompleteRead(6138 bytes read, 4102 more expected)', IncompleteRead(6138 bytes read, 4102 more expected)). Retrying 2/5...\n"
     ]
    },
    {
     "name": "stderr",
     "output_type": "stream",
     "text": [
      "Strains link Progress:  74%|███████▍  | 50891/68617 [1:02:04<11:31, 25.63it/s]"
     ]
    },
    {
     "name": "stdout",
     "output_type": "stream",
     "text": [
      "Error fetching https://mediadive.dsmz.de/strains/medium/J42?p=24: ('Connection broken: IncompleteRead(6138 bytes read, 4102 more expected)', IncompleteRead(6138 bytes read, 4102 more expected)). Retrying 1/5...\n"
     ]
    },
    {
     "name": "stderr",
     "output_type": "stream",
     "text": [
      "Strains link Progress:  74%|███████▍  | 51079/68617 [1:02:17<13:11, 22.17it/s]"
     ]
    },
    {
     "name": "stdout",
     "output_type": "stream",
     "text": [
      "Error fetching https://mediadive.dsmz.de/strains/medium/J207?p=1: ('Connection broken: IncompleteRead(6138 bytes read, 4102 more expected)', IncompleteRead(6138 bytes read, 4102 more expected)). Retrying 1/5...\n"
     ]
    },
    {
     "name": "stderr",
     "output_type": "stream",
     "text": [
      "Strains link Progress:  75%|███████▍  | 51205/68617 [1:02:37<37:23,  7.76it/s]  "
     ]
    },
    {
     "name": "stdout",
     "output_type": "stream",
     "text": [
      "Error fetching strains link https://mediadive.dsmz.de/strains/medium/J232: ('Connection broken: IncompleteRead(6138 bytes read, 4102 more expected)', IncompleteRead(6138 bytes read, 4102 more expected)). Retrying 1/5...\n"
     ]
    },
    {
     "name": "stderr",
     "output_type": "stream",
     "text": [
      "Strains link Progress:  75%|███████▍  | 51226/68617 [1:02:39<34:54,  8.30it/s]"
     ]
    },
    {
     "name": "stdout",
     "output_type": "stream",
     "text": [
      "Error fetching https://mediadive.dsmz.de/strains/medium/J30?p=29: ('Connection broken: IncompleteRead(6138 bytes read, 4102 more expected)', IncompleteRead(6138 bytes read, 4102 more expected)). Retrying 1/5...\n"
     ]
    },
    {
     "name": "stderr",
     "output_type": "stream",
     "text": [
      "Strains link Progress:  75%|███████▍  | 51258/68617 [1:02:44<42:45,  6.77it/s]"
     ]
    },
    {
     "name": "stdout",
     "output_type": "stream",
     "text": [
      "Error fetching https://mediadive.dsmz.de/strains/medium/J26?p=28: ('Connection broken: IncompleteRead(6138 bytes read, 4102 more expected)', IncompleteRead(6138 bytes read, 4102 more expected)). Retrying 1/5...\n"
     ]
    },
    {
     "name": "stderr",
     "output_type": "stream",
     "text": [
      "Strains link Progress:  75%|███████▍  | 51279/68617 [1:02:47<46:13,  6.25it/s]"
     ]
    },
    {
     "name": "stdout",
     "output_type": "stream",
     "text": [
      "Error fetching strains link https://mediadive.dsmz.de/strains/medium/J246: ('Connection broken: IncompleteRead(6138 bytes read, 4102 more expected)', IncompleteRead(6138 bytes read, 4102 more expected)). Retrying 1/5...\n",
      "Error fetching https://mediadive.dsmz.de/strains/medium/J207?p=1: ('Connection broken: IncompleteRead(6138 bytes read, 4102 more expected)', IncompleteRead(6138 bytes read, 4102 more expected)). Retrying 2/5...\n",
      "Error fetching https://mediadive.dsmz.de/strains/medium/J13?p=24: ('Connection broken: IncompleteRead(6138 bytes read, 4102 more expected)', IncompleteRead(6138 bytes read, 4102 more expected)). Retrying 1/5...\n"
     ]
    },
    {
     "name": "stderr",
     "output_type": "stream",
     "text": [
      "Strains link Progress:  75%|███████▍  | 51339/68617 [1:02:50<23:59, 12.01it/s]"
     ]
    },
    {
     "name": "stdout",
     "output_type": "stream",
     "text": [
      "Error fetching https://mediadive.dsmz.de/strains/medium/J222?p=1: ('Connection broken: IncompleteRead(6138 bytes read, 4102 more expected)', IncompleteRead(6138 bytes read, 4102 more expected)). Retrying 1/5...\n",
      "Error fetching https://mediadive.dsmz.de/strains/medium/J43?p=31: ('Connection broken: IncompleteRead(6138 bytes read, 4102 more expected)', IncompleteRead(6138 bytes read, 4102 more expected)). Retrying 1/5...\n"
     ]
    },
    {
     "name": "stderr",
     "output_type": "stream",
     "text": [
      "Strains link Progress:  75%|███████▍  | 51429/68617 [1:02:57<25:09, 11.39it/s]"
     ]
    },
    {
     "name": "stdout",
     "output_type": "stream",
     "text": [
      "Error fetching strains link https://mediadive.dsmz.de/strains/medium/J255: ('Connection broken: IncompleteRead(6138 bytes read, 4102 more expected)', IncompleteRead(6138 bytes read, 4102 more expected)). Retrying 1/5...\n"
     ]
    },
    {
     "name": "stderr",
     "output_type": "stream",
     "text": [
      "Strains link Progress:  75%|███████▍  | 51455/68617 [1:03:01<43:53,  6.52it/s]"
     ]
    },
    {
     "name": "stdout",
     "output_type": "stream",
     "text": [
      "Error fetching strains link https://mediadive.dsmz.de/strains/medium/J232: ('Connection broken: IncompleteRead(6138 bytes read, 4102 more expected)', IncompleteRead(6138 bytes read, 4102 more expected)). Retrying 2/5...\n"
     ]
    },
    {
     "name": "stderr",
     "output_type": "stream",
     "text": [
      "Strains link Progress:  76%|███████▌  | 51807/68617 [1:03:29<36:21,  7.71it/s]"
     ]
    },
    {
     "name": "stdout",
     "output_type": "stream",
     "text": [
      "Error fetching https://mediadive.dsmz.de/strains/medium/J42?p=27: ('Connection broken: IncompleteRead(6138 bytes read, 4102 more expected)', IncompleteRead(6138 bytes read, 4102 more expected)). Retrying 1/5...\n"
     ]
    },
    {
     "name": "stderr",
     "output_type": "stream",
     "text": [
      "Strains link Progress:  76%|███████▌  | 51877/68617 [1:03:51<58:17,  4.79it/s]  "
     ]
    },
    {
     "name": "stdout",
     "output_type": "stream",
     "text": [
      "Error fetching https://mediadive.dsmz.de/strains/medium/J148?p=14: ('Connection broken: IncompleteRead(6138 bytes read, 4102 more expected)', IncompleteRead(6138 bytes read, 4102 more expected)). Retrying 1/5...\n"
     ]
    },
    {
     "name": "stderr",
     "output_type": "stream",
     "text": [
      "Strains link Progress:  76%|███████▌  | 51917/68617 [1:03:59<58:56,  4.72it/s]"
     ]
    },
    {
     "name": "stdout",
     "output_type": "stream",
     "text": [
      "Error fetching strains link https://mediadive.dsmz.de/strains/medium/J256: ('Connection broken: IncompleteRead(6138 bytes read, 4102 more expected)', IncompleteRead(6138 bytes read, 4102 more expected)). Retrying 1/5...\n",
      "Error fetching https://mediadive.dsmz.de/strains/medium/J84?p=20: ('Connection broken: IncompleteRead(6138 bytes read, 4102 more expected)', IncompleteRead(6138 bytes read, 4102 more expected)). Retrying 1/5...\n"
     ]
    },
    {
     "name": "stderr",
     "output_type": "stream",
     "text": [
      "Strains link Progress:  76%|███████▌  | 51943/68617 [1:04:02<50:16,  5.53it/s]  "
     ]
    },
    {
     "name": "stdout",
     "output_type": "stream",
     "text": [
      "Error fetching https://mediadive.dsmz.de/strains/medium/J26?p=30: ('Connection broken: IncompleteRead(6138 bytes read, 4102 more expected)', IncompleteRead(6138 bytes read, 4102 more expected)). Retrying 1/5...\n"
     ]
    },
    {
     "name": "stderr",
     "output_type": "stream",
     "text": [
      "Strains link Progress:  76%|███████▌  | 52059/68617 [1:04:12<16:04, 17.17it/s]  "
     ]
    },
    {
     "name": "stdout",
     "output_type": "stream",
     "text": [
      "Error fetching https://mediadive.dsmz.de/strains/medium/J280?p=2: ('Connection broken: IncompleteRead(6138 bytes read, 4102 more expected)', IncompleteRead(6138 bytes read, 4102 more expected)). Retrying 1/5...\n"
     ]
    },
    {
     "name": "stderr",
     "output_type": "stream",
     "text": [
      "Strains link Progress:  76%|███████▌  | 52149/68617 [1:04:23<18:39, 14.71it/s]"
     ]
    },
    {
     "name": "stdout",
     "output_type": "stream",
     "text": [
      "Error fetching strains link https://mediadive.dsmz.de/strains/medium/J291: ('Connection broken: IncompleteRead(6138 bytes read, 4102 more expected)', IncompleteRead(6138 bytes read, 4102 more expected)). Retrying 1/5...\n"
     ]
    },
    {
     "name": "stderr",
     "output_type": "stream",
     "text": [
      "Strains link Progress:  76%|███████▋  | 52364/68617 [1:04:39<18:08, 14.94it/s]"
     ]
    },
    {
     "name": "stdout",
     "output_type": "stream",
     "text": [
      "Error fetching https://mediadive.dsmz.de/strains/medium/J25?p=36: ('Connection broken: IncompleteRead(6138 bytes read, 4102 more expected)', IncompleteRead(6138 bytes read, 4102 more expected)). Retrying 1/5...\n"
     ]
    },
    {
     "name": "stderr",
     "output_type": "stream",
     "text": [
      "Strains link Progress:  76%|███████▋  | 52385/68617 [1:04:40<16:22, 16.53it/s]"
     ]
    },
    {
     "name": "stdout",
     "output_type": "stream",
     "text": [
      "Error fetching https://mediadive.dsmz.de/strains/medium/J282?p=1: ('Connection broken: IncompleteRead(6138 bytes read, 4102 more expected)', IncompleteRead(6138 bytes read, 4102 more expected)). Retrying 1/5...\n"
     ]
    },
    {
     "name": "stderr",
     "output_type": "stream",
     "text": [
      "Strains link Progress:  76%|███████▋  | 52468/68617 [1:04:44<12:59, 20.71it/s]"
     ]
    },
    {
     "name": "stdout",
     "output_type": "stream",
     "text": [
      "Error fetching https://mediadive.dsmz.de/strains/medium/J148?p=15: ('Connection broken: IncompleteRead(6138 bytes read, 4102 more expected)', IncompleteRead(6138 bytes read, 4102 more expected)). Retrying 1/5...\n"
     ]
    },
    {
     "name": "stderr",
     "output_type": "stream",
     "text": [
      "Strains link Progress:  77%|███████▋  | 52615/68617 [1:04:58<26:11, 10.18it/s]"
     ]
    },
    {
     "name": "stdout",
     "output_type": "stream",
     "text": [
      "Error fetching https://mediadive.dsmz.de/strains/medium/J226?p=3: ('Connection broken: IncompleteRead(6138 bytes read, 4102 more expected)', IncompleteRead(6138 bytes read, 4102 more expected)). Retrying 1/5...\n"
     ]
    },
    {
     "name": "stderr",
     "output_type": "stream",
     "text": [
      "Strains link Progress:  77%|███████▋  | 52695/68617 [1:05:08<26:30, 10.01it/s]"
     ]
    },
    {
     "name": "stdout",
     "output_type": "stream",
     "text": [
      "Error fetching https://mediadive.dsmz.de/strains/medium/J42?p=29: ('Connection broken: IncompleteRead(6138 bytes read, 4102 more expected)', IncompleteRead(6138 bytes read, 4102 more expected)). Retrying 1/5...\n"
     ]
    },
    {
     "name": "stderr",
     "output_type": "stream",
     "text": [
      "Strains link Progress:  77%|███████▋  | 52729/68617 [1:05:11<26:58,  9.82it/s]"
     ]
    },
    {
     "name": "stdout",
     "output_type": "stream",
     "text": [
      "Error fetching https://mediadive.dsmz.de/strains/medium/J291?p=1: ('Connection broken: IncompleteRead(6138 bytes read, 4102 more expected)', IncompleteRead(6138 bytes read, 4102 more expected)). Retrying 1/5...\n"
     ]
    },
    {
     "name": "stderr",
     "output_type": "stream",
     "text": [
      "Strains link Progress:  77%|███████▋  | 52769/68617 [1:05:13<18:33, 14.23it/s]"
     ]
    },
    {
     "name": "stdout",
     "output_type": "stream",
     "text": [
      "Error fetching https://mediadive.dsmz.de/strains/medium/J84?p=23: ('Connection broken: IncompleteRead(6138 bytes read, 4102 more expected)', IncompleteRead(6138 bytes read, 4102 more expected)). Retrying 1/5...\n"
     ]
    },
    {
     "name": "stderr",
     "output_type": "stream",
     "text": [
      "Strains link Progress:  77%|███████▋  | 52820/68617 [1:05:18<16:12, 16.25it/s]"
     ]
    },
    {
     "name": "stdout",
     "output_type": "stream",
     "text": [
      "Error fetching https://mediadive.dsmz.de/strains/medium/J26?p=34: ('Connection broken: IncompleteRead(6138 bytes read, 4102 more expected)', IncompleteRead(6138 bytes read, 4102 more expected)). Retrying 1/5...\n"
     ]
    },
    {
     "name": "stderr",
     "output_type": "stream",
     "text": [
      "Strains link Progress:  77%|███████▋  | 52904/68617 [1:05:36<33:55,  7.72it/s]  "
     ]
    },
    {
     "name": "stdout",
     "output_type": "stream",
     "text": [
      "Error fetching https://mediadive.dsmz.de/strains/medium/J25?p=38: ('Connection broken: IncompleteRead(6138 bytes read, 4102 more expected)', IncompleteRead(6138 bytes read, 4102 more expected)). Retrying 1/5...\n",
      "Error fetching https://mediadive.dsmz.de/strains/medium/J42?p=29: ('Connection broken: IncompleteRead(6138 bytes read, 4102 more expected)', IncompleteRead(6138 bytes read, 4102 more expected)). Retrying 2/5...\n"
     ]
    },
    {
     "name": "stderr",
     "output_type": "stream",
     "text": [
      "Strains link Progress:  77%|███████▋  | 53101/68617 [1:05:47<16:17, 15.87it/s]"
     ]
    },
    {
     "name": "stdout",
     "output_type": "stream",
     "text": [
      "Error fetching https://mediadive.dsmz.de/strains/medium/J256?p=4: ('Connection broken: IncompleteRead(6138 bytes read, 4102 more expected)', IncompleteRead(6138 bytes read, 4102 more expected)). Retrying 1/5...\n"
     ]
    },
    {
     "name": "stderr",
     "output_type": "stream",
     "text": [
      "Strains link Progress:  78%|███████▊  | 53242/68617 [1:05:57<13:54, 18.42it/s]"
     ]
    },
    {
     "name": "stdout",
     "output_type": "stream",
     "text": [
      "Error fetching strains link https://mediadive.dsmz.de/strains/medium/J333: ('Connection broken: IncompleteRead(2042 bytes read, 8198 more expected)', IncompleteRead(2042 bytes read, 8198 more expected)). Retrying 1/5...\n"
     ]
    },
    {
     "name": "stderr",
     "output_type": "stream",
     "text": [
      "Strains link Progress:  78%|███████▊  | 53262/68617 [1:05:58<15:08, 16.90it/s]"
     ]
    },
    {
     "name": "stdout",
     "output_type": "stream",
     "text": [
      "Error fetching https://mediadive.dsmz.de/strains/medium/J30?p=37: ('Connection broken: IncompleteRead(2042 bytes read, 8198 more expected)', IncompleteRead(2042 bytes read, 8198 more expected)). Retrying 1/5...\n"
     ]
    },
    {
     "name": "stderr",
     "output_type": "stream",
     "text": [
      "Strains link Progress:  78%|███████▊  | 53349/68617 [1:06:15<54:01,  4.71it/s]"
     ]
    },
    {
     "name": "stdout",
     "output_type": "stream",
     "text": [
      "Error fetching https://mediadive.dsmz.de/strains/medium/J256?p=5: ('Connection broken: IncompleteRead(6138 bytes read, 4102 more expected)', IncompleteRead(6138 bytes read, 4102 more expected)). Retrying 1/5...\n"
     ]
    },
    {
     "name": "stderr",
     "output_type": "stream",
     "text": [
      "Strains link Progress:  78%|███████▊  | 53369/68617 [1:06:23<1:09:04,  3.68it/s]"
     ]
    },
    {
     "name": "stdout",
     "output_type": "stream",
     "text": [
      "Error fetching https://mediadive.dsmz.de/strains/medium/J148?p=20: ('Connection broken: IncompleteRead(6138 bytes read, 4102 more expected)', IncompleteRead(6138 bytes read, 4102 more expected)). Retrying 1/5...\n"
     ]
    },
    {
     "name": "stderr",
     "output_type": "stream",
     "text": [
      "Strains link Progress:  78%|███████▊  | 53395/68617 [1:06:53<2:51:29,  1.48it/s]"
     ]
    },
    {
     "name": "stdout",
     "output_type": "stream",
     "text": [
      "Error fetching https://mediadive.dsmz.de/strains/medium/J42?p=30: ('Connection broken: IncompleteRead(6138 bytes read, 4102 more expected)', IncompleteRead(6138 bytes read, 4102 more expected)). Retrying 1/5...\n"
     ]
    },
    {
     "name": "stderr",
     "output_type": "stream",
     "text": [
      "Strains link Progress:  78%|███████▊  | 53458/68617 [1:06:58<36:12,  6.98it/s]  "
     ]
    },
    {
     "name": "stdout",
     "output_type": "stream",
     "text": [
      "Error fetching https://mediadive.dsmz.de/strains/medium/J342?p=1: ('Connection broken: IncompleteRead(2042 bytes read, 8198 more expected)', IncompleteRead(2042 bytes read, 8198 more expected)). Retrying 1/5...\n"
     ]
    },
    {
     "name": "stderr",
     "output_type": "stream",
     "text": [
      "Strains link Progress:  79%|███████▊  | 53867/68617 [1:07:27<19:11, 12.81it/s]"
     ]
    },
    {
     "name": "stdout",
     "output_type": "stream",
     "text": [
      "Error fetching https://mediadive.dsmz.de/strains/medium/J343?p=1: ('Connection broken: IncompleteRead(6138 bytes read, 4102 more expected)', IncompleteRead(6138 bytes read, 4102 more expected)). Retrying 1/5...\n"
     ]
    },
    {
     "name": "stderr",
     "output_type": "stream",
     "text": [
      "Strains link Progress:  79%|███████▊  | 53972/68617 [1:07:34<19:47, 12.33it/s]"
     ]
    },
    {
     "name": "stdout",
     "output_type": "stream",
     "text": [
      "Error fetching https://mediadive.dsmz.de/strains/medium/J13?p=31: ('Connection broken: IncompleteRead(6138 bytes read, 4102 more expected)', IncompleteRead(6138 bytes read, 4102 more expected)). Retrying 1/5...\n"
     ]
    },
    {
     "name": "stderr",
     "output_type": "stream",
     "text": [
      "Strains link Progress:  79%|███████▊  | 54034/68617 [1:07:42<42:00,  5.79it/s]"
     ]
    },
    {
     "name": "stdout",
     "output_type": "stream",
     "text": [
      "Error fetching https://mediadive.dsmz.de/strains/medium/J30?p=42: ('Connection broken: IncompleteRead(6138 bytes read, 4102 more expected)', IncompleteRead(6138 bytes read, 4102 more expected)). Retrying 1/5...\n"
     ]
    },
    {
     "name": "stderr",
     "output_type": "stream",
     "text": [
      "Strains link Progress:  79%|███████▉  | 54114/68617 [1:07:47<19:32, 12.37it/s]"
     ]
    },
    {
     "name": "stdout",
     "output_type": "stream",
     "text": [
      "Error fetching https://mediadive.dsmz.de/strains/medium/J342?p=1: ('Connection broken: IncompleteRead(6138 bytes read, 4102 more expected)', IncompleteRead(6138 bytes read, 4102 more expected)). Retrying 2/5...\n"
     ]
    },
    {
     "name": "stderr",
     "output_type": "stream",
     "text": [
      "Strains link Progress:  79%|███████▉  | 54270/68617 [1:08:01<24:45,  9.66it/s]"
     ]
    },
    {
     "name": "stdout",
     "output_type": "stream",
     "text": [
      "Error fetching https://mediadive.dsmz.de/strains/medium/J371?p=1: ('Connection broken: IncompleteRead(6138 bytes read, 4102 more expected)', IncompleteRead(6138 bytes read, 4102 more expected)). Retrying 1/5...\n"
     ]
    },
    {
     "name": "stderr",
     "output_type": "stream",
     "text": [
      "Strains link Progress:  79%|███████▉  | 54290/68617 [1:08:03<23:31, 10.15it/s]"
     ]
    },
    {
     "name": "stdout",
     "output_type": "stream",
     "text": [
      "Error fetching https://mediadive.dsmz.de/strains/medium/J377?p=1: ('Connection broken: IncompleteRead(6138 bytes read, 4102 more expected)', IncompleteRead(6138 bytes read, 4102 more expected)). Retrying 1/5...\n"
     ]
    },
    {
     "name": "stderr",
     "output_type": "stream",
     "text": [
      "Strains link Progress:  79%|███████▉  | 54330/68617 [1:08:04<15:46, 15.09it/s]"
     ]
    },
    {
     "name": "stdout",
     "output_type": "stream",
     "text": [
      "Error fetching strains link https://mediadive.dsmz.de/strains/medium/J372: ('Connection broken: IncompleteRead(6138 bytes read, 4102 more expected)', IncompleteRead(6138 bytes read, 4102 more expected)). Retrying 1/5...\n",
      "Error fetching https://mediadive.dsmz.de/strains/medium/J368?p=1: ('Connection broken: IncompleteRead(6138 bytes read, 4102 more expected)', IncompleteRead(6138 bytes read, 4102 more expected)). Retrying 1/5...\n"
     ]
    },
    {
     "name": "stderr",
     "output_type": "stream",
     "text": [
      "Strains link Progress:  79%|███████▉  | 54371/68617 [1:08:06<12:00, 19.76it/s]"
     ]
    },
    {
     "name": "stdout",
     "output_type": "stream",
     "text": [
      "Error fetching https://mediadive.dsmz.de/strains/medium/J25?p=42: ('Connection broken: IncompleteRead(6138 bytes read, 4102 more expected)', IncompleteRead(6138 bytes read, 4102 more expected)). Retrying 1/5...\n"
     ]
    },
    {
     "name": "stderr",
     "output_type": "stream",
     "text": [
      "Strains link Progress:  79%|███████▉  | 54391/68617 [1:08:08<14:54, 15.90it/s]"
     ]
    },
    {
     "name": "stdout",
     "output_type": "stream",
     "text": [
      "Error fetching https://mediadive.dsmz.de/strains/medium/J226?p=11: ('Connection broken: IncompleteRead(6138 bytes read, 4102 more expected)', IncompleteRead(6138 bytes read, 4102 more expected)). Retrying 1/5...\n"
     ]
    },
    {
     "name": "stderr",
     "output_type": "stream",
     "text": [
      "Strains link Progress:  79%|███████▉  | 54462/68617 [1:08:17<22:21, 10.56it/s]"
     ]
    },
    {
     "name": "stdout",
     "output_type": "stream",
     "text": [
      "Error fetching https://mediadive.dsmz.de/strains/medium/J22?p=41: Response ended prematurely. Retrying 1/5...\n"
     ]
    },
    {
     "name": "stderr",
     "output_type": "stream",
     "text": [
      "Strains link Progress:  80%|███████▉  | 54657/68617 [1:08:36<15:52, 14.65it/s]"
     ]
    },
    {
     "name": "stdout",
     "output_type": "stream",
     "text": [
      "Error fetching strains link https://mediadive.dsmz.de/strains/medium/J388: ('Connection broken: IncompleteRead(6138 bytes read, 4102 more expected)', IncompleteRead(6138 bytes read, 4102 more expected)). Retrying 1/5...\n"
     ]
    },
    {
     "name": "stderr",
     "output_type": "stream",
     "text": [
      "Strains link Progress:  80%|███████▉  | 54677/68617 [1:08:37<14:00, 16.59it/s]"
     ]
    },
    {
     "name": "stdout",
     "output_type": "stream",
     "text": [
      "Error fetching https://mediadive.dsmz.de/strains/medium/J148?p=25: ('Connection broken: IncompleteRead(6138 bytes read, 4102 more expected)', IncompleteRead(6138 bytes read, 4102 more expected)). Retrying 1/5...\n"
     ]
    },
    {
     "name": "stderr",
     "output_type": "stream",
     "text": [
      "Strains link Progress:  80%|███████▉  | 54697/68617 [1:08:41<22:50, 10.16it/s]"
     ]
    },
    {
     "name": "stdout",
     "output_type": "stream",
     "text": [
      "Error fetching strains link https://mediadive.dsmz.de/strains/medium/J393: Response ended prematurely. Retrying 1/5...\n",
      "Error fetching strains link https://mediadive.dsmz.de/strains/medium/J389: ('Connection broken: IncompleteRead(6138 bytes read, 4102 more expected)', IncompleteRead(6138 bytes read, 4102 more expected)). Retrying 1/5...\n"
     ]
    },
    {
     "name": "stderr",
     "output_type": "stream",
     "text": [
      "Strains link Progress:  81%|████████  | 55450/68617 [1:09:52<15:59, 13.72it/s]"
     ]
    },
    {
     "name": "stdout",
     "output_type": "stream",
     "text": [
      "Error fetching strains link https://mediadive.dsmz.de/strains/medium/J442: ('Connection broken: IncompleteRead(6138 bytes read, 4102 more expected)', IncompleteRead(6138 bytes read, 4102 more expected)). Retrying 1/5...\n"
     ]
    },
    {
     "name": "stderr",
     "output_type": "stream",
     "text": [
      "Strains link Progress:  81%|████████  | 55577/68617 [1:10:01<10:32, 20.63it/s]"
     ]
    },
    {
     "name": "stdout",
     "output_type": "stream",
     "text": [
      "Error fetching strains link https://mediadive.dsmz.de/strains/medium/J457: ('Connection broken: IncompleteRead(6138 bytes read, 4102 more expected)', IncompleteRead(6138 bytes read, 4102 more expected)). Retrying 1/5...\n"
     ]
    },
    {
     "name": "stderr",
     "output_type": "stream",
     "text": [
      "Strains link Progress:  81%|████████  | 55597/68617 [1:10:03<13:59, 15.51it/s]"
     ]
    },
    {
     "name": "stdout",
     "output_type": "stream",
     "text": [
      "Error fetching https://mediadive.dsmz.de/strains/medium/J437?p=1: ('Connection broken: IncompleteRead(6138 bytes read, 4102 more expected)', IncompleteRead(6138 bytes read, 4102 more expected)). Retrying 1/5...\n"
     ]
    },
    {
     "name": "stderr",
     "output_type": "stream",
     "text": [
      "Strains link Progress:  81%|████████  | 55619/68617 [1:10:04<12:33, 17.25it/s]"
     ]
    },
    {
     "name": "stdout",
     "output_type": "stream",
     "text": [
      "Error fetching https://mediadive.dsmz.de/strains/medium/J30?p=47: ('Connection broken: IncompleteRead(6138 bytes read, 4102 more expected)', IncompleteRead(6138 bytes read, 4102 more expected)). Retrying 1/5...\n"
     ]
    },
    {
     "name": "stderr",
     "output_type": "stream",
     "text": [
      "Strains link Progress:  81%|████████  | 55641/68617 [1:10:09<23:51,  9.06it/s]"
     ]
    },
    {
     "name": "stdout",
     "output_type": "stream",
     "text": [
      "Error fetching https://mediadive.dsmz.de/strains/medium/J346?p=11: ('Connection broken: IncompleteRead(6138 bytes read, 4102 more expected)', IncompleteRead(6138 bytes read, 4102 more expected)). Retrying 1/5...\n"
     ]
    },
    {
     "name": "stderr",
     "output_type": "stream",
     "text": [
      "Strains link Progress:  81%|████████  | 55662/68617 [1:10:11<24:08,  8.94it/s]"
     ]
    },
    {
     "name": "stdout",
     "output_type": "stream",
     "text": [
      "Error fetching strains link https://mediadive.dsmz.de/strains/medium/J455: ('Connection broken: IncompleteRead(6138 bytes read, 4102 more expected)', IncompleteRead(6138 bytes read, 4102 more expected)). Retrying 1/5...\n"
     ]
    },
    {
     "name": "stderr",
     "output_type": "stream",
     "text": [
      "Strains link Progress:  81%|████████▏ | 55763/68617 [1:10:20<15:58, 13.42it/s]"
     ]
    },
    {
     "name": "stdout",
     "output_type": "stream",
     "text": [
      "Error fetching https://mediadive.dsmz.de/strains/medium/J25?p=47: ('Connection broken: IncompleteRead(6138 bytes read, 4102 more expected)', IncompleteRead(6138 bytes read, 4102 more expected)). Retrying 1/5...\n"
     ]
    },
    {
     "name": "stderr",
     "output_type": "stream",
     "text": [
      "Strains link Progress:  82%|████████▏ | 55981/68617 [1:10:38<14:03, 14.98it/s]"
     ]
    },
    {
     "name": "stdout",
     "output_type": "stream",
     "text": [
      "Error fetching https://mediadive.dsmz.de/strains/medium/J346?p=12: ('Connection broken: IncompleteRead(6138 bytes read, 4102 more expected)', IncompleteRead(6138 bytes read, 4102 more expected)). Retrying 1/5...\n"
     ]
    },
    {
     "name": "stderr",
     "output_type": "stream",
     "text": [
      "Strains link Progress:  82%|████████▏ | 56021/68617 [1:10:41<14:04, 14.91it/s]"
     ]
    },
    {
     "name": "stdout",
     "output_type": "stream",
     "text": [
      "Error fetching strains link https://mediadive.dsmz.de/strains/medium/J475: ('Connection broken: IncompleteRead(6138 bytes read, 4102 more expected)', IncompleteRead(6138 bytes read, 4102 more expected)). Retrying 1/5...\n"
     ]
    },
    {
     "name": "stderr",
     "output_type": "stream",
     "text": [
      "Strains link Progress:  82%|████████▏ | 56036/68617 [1:10:43<20:00, 10.48it/s]"
     ]
    },
    {
     "name": "stdout",
     "output_type": "stream",
     "text": [
      "Error fetching https://mediadive.dsmz.de/strains/medium/J25?p=47: Response ended prematurely. Retrying 2/5...\n"
     ]
    },
    {
     "name": "stderr",
     "output_type": "stream",
     "text": [
      "Strains link Progress:  82%|████████▏ | 56145/68617 [1:10:54<15:32, 13.37it/s]"
     ]
    },
    {
     "name": "stdout",
     "output_type": "stream",
     "text": [
      "Error fetching https://mediadive.dsmz.de/strains/medium/J443?p=4: ('Connection broken: IncompleteRead(6138 bytes read, 4102 more expected)', IncompleteRead(6138 bytes read, 4102 more expected)). Retrying 1/5...\n"
     ]
    },
    {
     "name": "stderr",
     "output_type": "stream",
     "text": [
      "Strains link Progress:  82%|████████▏ | 56229/68617 [1:11:06<31:11,  6.62it/s]"
     ]
    },
    {
     "name": "stdout",
     "output_type": "stream",
     "text": [
      "Error fetching https://mediadive.dsmz.de/strains/medium/J346?p=14: ('Connection broken: IncompleteRead(6138 bytes read, 4102 more expected)', IncompleteRead(6138 bytes read, 4102 more expected)). Retrying 1/5...\n"
     ]
    },
    {
     "name": "stderr",
     "output_type": "stream",
     "text": [
      "Strains link Progress:  82%|████████▏ | 56467/68617 [1:11:29<15:25, 13.13it/s]  "
     ]
    },
    {
     "name": "stdout",
     "output_type": "stream",
     "text": [
      "Error fetching strains link https://mediadive.dsmz.de/strains/medium/J509: ('Connection broken: IncompleteRead(6138 bytes read, 4102 more expected)', IncompleteRead(6138 bytes read, 4102 more expected)). Retrying 1/5...\n"
     ]
    },
    {
     "name": "stderr",
     "output_type": "stream",
     "text": [
      "Strains link Progress:  83%|████████▎ | 56859/68617 [1:12:17<32:54,  5.95it/s]"
     ]
    },
    {
     "name": "stdout",
     "output_type": "stream",
     "text": [
      "Error fetching https://mediadive.dsmz.de/strains/medium/J443?p=8: ('Connection broken: IncompleteRead(6138 bytes read, 4102 more expected)', IncompleteRead(6138 bytes read, 4102 more expected)). Retrying 1/5...\n"
     ]
    },
    {
     "name": "stderr",
     "output_type": "stream",
     "text": [
      "Strains link Progress:  83%|████████▎ | 57095/68617 [1:12:37<17:24, 11.03it/s]"
     ]
    },
    {
     "name": "stdout",
     "output_type": "stream",
     "text": [
      "Error fetching https://mediadive.dsmz.de/strains/medium/J346?p=18: ('Connection broken: IncompleteRead(6138 bytes read, 4102 more expected)', IncompleteRead(6138 bytes read, 4102 more expected)). Retrying 1/5...\n",
      "Error fetching https://mediadive.dsmz.de/strains/medium/J25?p=52: ('Connection broken: IncompleteRead(6138 bytes read, 4102 more expected)', IncompleteRead(6138 bytes read, 4102 more expected)). Retrying 1/5...\n"
     ]
    },
    {
     "name": "stderr",
     "output_type": "stream",
     "text": [
      "Strains link Progress:  83%|████████▎ | 57192/68617 [1:12:50<15:23, 12.37it/s]"
     ]
    },
    {
     "name": "stdout",
     "output_type": "stream",
     "text": [
      "Error fetching https://mediadive.dsmz.de/strains/medium/J527?p=1: ('Connection broken: IncompleteRead(6138 bytes read, 4102 more expected)', IncompleteRead(6138 bytes read, 4102 more expected)). Retrying 1/5...\n"
     ]
    },
    {
     "name": "stderr",
     "output_type": "stream",
     "text": [
      "Strains link Progress:  83%|████████▎ | 57221/68617 [1:12:52<11:22, 16.70it/s]"
     ]
    },
    {
     "name": "stdout",
     "output_type": "stream",
     "text": [
      "Error fetching https://mediadive.dsmz.de/strains/medium/J346?p=18: ('Connection broken: IncompleteRead(6138 bytes read, 4102 more expected)', IncompleteRead(6138 bytes read, 4102 more expected)). Retrying 2/5...\n"
     ]
    },
    {
     "name": "stderr",
     "output_type": "stream",
     "text": [
      "Strains link Progress:  83%|████████▎ | 57242/68617 [1:12:55<18:39, 10.16it/s]"
     ]
    },
    {
     "name": "stdout",
     "output_type": "stream",
     "text": [
      "Error fetching strains link https://mediadive.dsmz.de/strains/medium/J572: ('Connection broken: IncompleteRead(6138 bytes read, 4102 more expected)', IncompleteRead(6138 bytes read, 4102 more expected)). Retrying 1/5...\n"
     ]
    },
    {
     "name": "stderr",
     "output_type": "stream",
     "text": [
      "Strains link Progress:  84%|████████▎ | 57430/68617 [1:13:12<13:51, 13.45it/s]"
     ]
    },
    {
     "name": "stdout",
     "output_type": "stream",
     "text": [
      "Error fetching strains link https://mediadive.dsmz.de/strains/medium/J586: ('Connection broken: IncompleteRead(6138 bytes read, 4102 more expected)', IncompleteRead(6138 bytes read, 4102 more expected)). Retrying 1/5...\n"
     ]
    },
    {
     "name": "stderr",
     "output_type": "stream",
     "text": [
      "Strains link Progress:  84%|████████▍ | 57709/68617 [1:13:42<22:29,  8.09it/s]"
     ]
    },
    {
     "name": "stdout",
     "output_type": "stream",
     "text": [
      "Error fetching https://mediadive.dsmz.de/strains/medium/J572?p=1: Response ended prematurely. Retrying 1/5...\n"
     ]
    },
    {
     "name": "stderr",
     "output_type": "stream",
     "text": [
      "Strains link Progress:  85%|████████▍ | 57998/68617 [1:14:27<29:40,  5.96it/s]"
     ]
    },
    {
     "name": "stdout",
     "output_type": "stream",
     "text": [
      "Error fetching https://mediadive.dsmz.de/strains/medium/J608?p=1: ('Connection broken: IncompleteRead(6138 bytes read, 4102 more expected)', IncompleteRead(6138 bytes read, 4102 more expected)). Retrying 1/5...\n",
      "Error fetching https://mediadive.dsmz.de/strains/medium/J25?p=56: ('Connection broken: IncompleteRead(6138 bytes read, 4102 more expected)', IncompleteRead(6138 bytes read, 4102 more expected)). Retrying 1/5...\n"
     ]
    },
    {
     "name": "stderr",
     "output_type": "stream",
     "text": [
      "Strains link Progress:  85%|████████▍ | 58087/68617 [1:14:42<43:45,  4.01it/s]"
     ]
    },
    {
     "name": "stdout",
     "output_type": "stream",
     "text": [
      "Error fetching https://mediadive.dsmz.de/strains/medium/J597?p=2: ('Connection broken: IncompleteRead(6138 bytes read, 4102 more expected)', IncompleteRead(6138 bytes read, 4102 more expected)). Retrying 1/5...\n"
     ]
    },
    {
     "name": "stderr",
     "output_type": "stream",
     "text": [
      "Strains link Progress:  85%|████████▍ | 58109/68617 [1:14:48<46:19,  3.78it/s]"
     ]
    },
    {
     "name": "stdout",
     "output_type": "stream",
     "text": [
      "Error fetching https://mediadive.dsmz.de/strains/medium/J226?p=28: ('Connection broken: IncompleteRead(6138 bytes read, 4102 more expected)', IncompleteRead(6138 bytes read, 4102 more expected)). Retrying 1/5...\n",
      "Error fetching https://mediadive.dsmz.de/strains/medium/J30?p=61: ('Connection broken: IncompleteRead(6138 bytes read, 4102 more expected)', IncompleteRead(6138 bytes read, 4102 more expected)). Retrying 1/5...\n"
     ]
    },
    {
     "name": "stderr",
     "output_type": "stream",
     "text": [
      "Strains link Progress:  85%|████████▌ | 58391/68617 [1:16:09<48:30,  3.51it/s]  "
     ]
    },
    {
     "name": "stdout",
     "output_type": "stream",
     "text": [
      "Error fetching strains link https://mediadive.dsmz.de/strains/medium/J651: ('Connection broken: IncompleteRead(6138 bytes read, 4102 more expected)', IncompleteRead(6138 bytes read, 4102 more expected)). Retrying 1/5...\n"
     ]
    },
    {
     "name": "stderr",
     "output_type": "stream",
     "text": [
      "Strains link Progress:  85%|████████▌ | 58532/68617 [1:16:21<13:02, 12.89it/s]"
     ]
    },
    {
     "name": "stdout",
     "output_type": "stream",
     "text": [
      "Error fetching strains link https://mediadive.dsmz.de/strains/medium/J674: ('Connection broken: IncompleteRead(6138 bytes read, 4102 more expected)', IncompleteRead(6138 bytes read, 4102 more expected)). Retrying 1/5...\n"
     ]
    },
    {
     "name": "stderr",
     "output_type": "stream",
     "text": [
      "Strains link Progress:  86%|████████▌ | 59113/68617 [1:17:36<17:42,  8.95it/s]"
     ]
    },
    {
     "name": "stdout",
     "output_type": "stream",
     "text": [
      "Error fetching https://mediadive.dsmz.de/strains/medium/J30?p=67: ('Connection broken: IncompleteRead(6138 bytes read, 4102 more expected)', IncompleteRead(6138 bytes read, 4102 more expected)). Retrying 1/5...\n",
      "Error fetching https://mediadive.dsmz.de/strains/medium/J722?p=1: ('Connection broken: IncompleteRead(6138 bytes read, 4102 more expected)', IncompleteRead(6138 bytes read, 4102 more expected)). Retrying 1/5...\n"
     ]
    },
    {
     "name": "stderr",
     "output_type": "stream",
     "text": [
      "Strains link Progress:  86%|████████▋ | 59331/68617 [1:18:01<19:02,  8.13it/s]"
     ]
    },
    {
     "name": "stdout",
     "output_type": "stream",
     "text": [
      "Error fetching strains link https://mediadive.dsmz.de/strains/medium/J758: ('Connection broken: IncompleteRead(6138 bytes read, 4102 more expected)', IncompleteRead(6138 bytes read, 4102 more expected)). Retrying 1/5...\n"
     ]
    },
    {
     "name": "stderr",
     "output_type": "stream",
     "text": [
      "Strains link Progress:  87%|████████▋ | 59448/68617 [1:18:16<17:05,  8.94it/s]"
     ]
    },
    {
     "name": "stdout",
     "output_type": "stream",
     "text": [
      "Error fetching https://mediadive.dsmz.de/strains/medium/J736?p=1: ('Connection broken: IncompleteRead(6138 bytes read, 4102 more expected)', IncompleteRead(6138 bytes read, 4102 more expected)). Retrying 1/5...\n"
     ]
    },
    {
     "name": "stderr",
     "output_type": "stream",
     "text": [
      "Strains link Progress:  87%|████████▋ | 59548/68617 [1:18:36<33:09,  4.56it/s]  "
     ]
    },
    {
     "name": "stdout",
     "output_type": "stream",
     "text": [
      "Error fetching https://mediadive.dsmz.de/strains/medium/J768?p=1: ('Connection broken: IncompleteRead(6138 bytes read, 4102 more expected)', IncompleteRead(6138 bytes read, 4102 more expected)). Retrying 1/5...\n"
     ]
    },
    {
     "name": "stderr",
     "output_type": "stream",
     "text": [
      "Strains link Progress:  87%|████████▋ | 59725/68617 [1:19:10<1:21:47,  1.81it/s]"
     ]
    },
    {
     "name": "stdout",
     "output_type": "stream",
     "text": [
      "Error fetching https://mediadive.dsmz.de/strains/medium/J804?p=1: ('Connection broken: IncompleteRead(6138 bytes read, 4102 more expected)', IncompleteRead(6138 bytes read, 4102 more expected)). Retrying 1/5...\n"
     ]
    },
    {
     "name": "stderr",
     "output_type": "stream",
     "text": [
      "Strains link Progress:  87%|████████▋ | 59806/68617 [1:19:16<19:22,  7.58it/s]  "
     ]
    },
    {
     "name": "stdout",
     "output_type": "stream",
     "text": [
      "Error fetching strains link https://mediadive.dsmz.de/strains/medium/J835: ('Connection broken: IncompleteRead(6138 bytes read, 4102 more expected)', IncompleteRead(6138 bytes read, 4102 more expected)). Retrying 1/5...\n"
     ]
    },
    {
     "name": "stderr",
     "output_type": "stream",
     "text": [
      "Strains link Progress:  87%|████████▋ | 59984/68617 [1:19:41<21:40,  6.64it/s]"
     ]
    },
    {
     "name": "stdout",
     "output_type": "stream",
     "text": [
      "Error fetching https://mediadive.dsmz.de/strains/medium/J820?p=1: ('Connection broken: IncompleteRead(6138 bytes read, 4102 more expected)', IncompleteRead(6138 bytes read, 4102 more expected)). Retrying 1/5...\n"
     ]
    },
    {
     "name": "stderr",
     "output_type": "stream",
     "text": [
      "Strains link Progress:  87%|████████▋ | 59989/68617 [1:19:45<38:18,  3.75it/s]"
     ]
    },
    {
     "name": "stdout",
     "output_type": "stream",
     "text": [
      "Error fetching strains link https://mediadive.dsmz.de/strains/medium/J841: ('Connection broken: IncompleteRead(6138 bytes read, 4102 more expected)', IncompleteRead(6138 bytes read, 4102 more expected)). Retrying 1/5...\n"
     ]
    },
    {
     "name": "stderr",
     "output_type": "stream",
     "text": [
      "Strains link Progress:  88%|████████▊ | 60055/68617 [1:19:56<19:35,  7.29it/s]"
     ]
    },
    {
     "name": "stdout",
     "output_type": "stream",
     "text": [
      "Error fetching https://mediadive.dsmz.de/strains/medium/J25?p=72: ('Connection broken: IncompleteRead(6138 bytes read, 4102 more expected)', IncompleteRead(6138 bytes read, 4102 more expected)). Retrying 1/5...\n"
     ]
    },
    {
     "name": "stderr",
     "output_type": "stream",
     "text": [
      "Strains link Progress:  88%|████████▊ | 60382/68617 [1:21:01<13:18, 10.32it/s]  "
     ]
    },
    {
     "name": "stdout",
     "output_type": "stream",
     "text": [
      "Error fetching https://mediadive.dsmz.de/strains/medium/J915?p=1: ('Connection broken: IncompleteRead(6138 bytes read, 4102 more expected)', IncompleteRead(6138 bytes read, 4102 more expected)). Retrying 1/5...\n"
     ]
    },
    {
     "name": "stderr",
     "output_type": "stream",
     "text": [
      "Strains link Progress:  88%|████████▊ | 60471/68617 [1:21:28<1:15:58,  1.79it/s]"
     ]
    },
    {
     "name": "stdout",
     "output_type": "stream",
     "text": [
      "Error fetching https://mediadive.dsmz.de/strains/medium/J25?p=76: ('Connection broken: IncompleteRead(6138 bytes read, 4102 more expected)', IncompleteRead(6138 bytes read, 4102 more expected)). Retrying 1/5...\n"
     ]
    },
    {
     "name": "stderr",
     "output_type": "stream",
     "text": [
      "Strains link Progress:  88%|████████▊ | 60507/68617 [1:21:45<2:18:18,  1.02s/it]"
     ]
    },
    {
     "name": "stdout",
     "output_type": "stream",
     "text": [
      "Error fetching https://mediadive.dsmz.de/strains/medium/J958?p=1: ('Connection broken: IncompleteRead(6138 bytes read, 4102 more expected)', IncompleteRead(6138 bytes read, 4102 more expected)). Retrying 1/5...\n"
     ]
    },
    {
     "name": "stderr",
     "output_type": "stream",
     "text": [
      "Strains link Progress:  88%|████████▊ | 60527/68617 [1:21:46<31:20,  4.30it/s]  "
     ]
    },
    {
     "name": "stdout",
     "output_type": "stream",
     "text": [
      "Error fetching strains link https://mediadive.dsmz.de/strains/medium/J981: ('Connection broken: IncompleteRead(6138 bytes read, 4102 more expected)', IncompleteRead(6138 bytes read, 4102 more expected)). Retrying 1/5...\n"
     ]
    },
    {
     "name": "stderr",
     "output_type": "stream",
     "text": [
      "Strains link Progress:  88%|████████▊ | 60712/68617 [1:22:43<57:22,  2.30it/s]  "
     ]
    },
    {
     "name": "stdout",
     "output_type": "stream",
     "text": [
      "Error fetching https://mediadive.dsmz.de/strains/medium/J1002?p=1: ('Connection broken: IncompleteRead(6138 bytes read, 4102 more expected)', IncompleteRead(6138 bytes read, 4102 more expected)). Retrying 1/5...\n"
     ]
    },
    {
     "name": "stderr",
     "output_type": "stream",
     "text": [
      "Strains link Progress:  89%|████████▊ | 60736/68617 [1:22:49<32:58,  3.98it/s]"
     ]
    },
    {
     "name": "stdout",
     "output_type": "stream",
     "text": [
      "Error fetching strains link https://mediadive.dsmz.de/strains/medium/J1037: Response ended prematurely. Retrying 1/5...\n"
     ]
    },
    {
     "name": "stderr",
     "output_type": "stream",
     "text": [
      "Strains link Progress:  89%|████████▊ | 60776/68617 [1:23:00<52:52,  2.47it/s]"
     ]
    },
    {
     "name": "stdout",
     "output_type": "stream",
     "text": [
      "Error fetching https://mediadive.dsmz.de/strains/medium/J30?p=86: ('Connection broken: IncompleteRead(6138 bytes read, 4102 more expected)', IncompleteRead(6138 bytes read, 4102 more expected)). Retrying 1/5...\n"
     ]
    },
    {
     "name": "stderr",
     "output_type": "stream",
     "text": [
      "Strains link Progress:  89%|████████▊ | 60780/68617 [1:23:04<1:37:00,  1.35it/s]"
     ]
    },
    {
     "name": "stdout",
     "output_type": "stream",
     "text": [
      "Error fetching strains link https://mediadive.dsmz.de/strains/medium/J1054: ('Connection broken: IncompleteRead(6138 bytes read, 4102 more expected)', IncompleteRead(6138 bytes read, 4102 more expected)). Retrying 1/5...\n"
     ]
    },
    {
     "name": "stderr",
     "output_type": "stream",
     "text": [
      "Strains link Progress:  89%|████████▊ | 60799/68617 [1:23:14<1:22:27,  1.58it/s]"
     ]
    },
    {
     "name": "stdout",
     "output_type": "stream",
     "text": [
      "Error fetching https://mediadive.dsmz.de/strains/medium/J1046?p=1: ('Connection broken: IncompleteRead(6138 bytes read, 4102 more expected)', IncompleteRead(6138 bytes read, 4102 more expected)). Retrying 1/5...\n"
     ]
    },
    {
     "name": "stderr",
     "output_type": "stream",
     "text": [
      "Strains link Progress:  89%|████████▉ | 60976/68617 [1:24:10<1:20:45,  1.58it/s]"
     ]
    },
    {
     "name": "stdout",
     "output_type": "stream",
     "text": [
      "Error fetching https://mediadive.dsmz.de/strains/medium/J25?p=83: ('Connection broken: IncompleteRead(6138 bytes read, 4102 more expected)', IncompleteRead(6138 bytes read, 4102 more expected)). Retrying 1/5...\n"
     ]
    },
    {
     "name": "stderr",
     "output_type": "stream",
     "text": [
      "Strains link Progress:  89%|████████▉ | 61013/68617 [1:24:20<28:10,  4.50it/s]  "
     ]
    },
    {
     "name": "stdout",
     "output_type": "stream",
     "text": [
      "Error fetching strains link https://mediadive.dsmz.de/strains/medium/J1106: ('Connection broken: IncompleteRead(6138 bytes read, 4102 more expected)', IncompleteRead(6138 bytes read, 4102 more expected)). Retrying 1/5...\n"
     ]
    },
    {
     "name": "stderr",
     "output_type": "stream",
     "text": [
      "Strains link Progress:  89%|████████▉ | 61051/68617 [1:24:43<1:21:30,  1.55it/s]"
     ]
    },
    {
     "name": "stdout",
     "output_type": "stream",
     "text": [
      "Error fetching https://mediadive.dsmz.de/strains/medium/J25?p=84: ('Connection broken: IncompleteRead(6138 bytes read, 4102 more expected)', IncompleteRead(6138 bytes read, 4102 more expected)). Retrying 1/5...\n"
     ]
    },
    {
     "name": "stderr",
     "output_type": "stream",
     "text": [
      "Strains link Progress:  89%|████████▉ | 61055/68617 [1:24:45<1:07:45,  1.86it/s]"
     ]
    },
    {
     "name": "stdout",
     "output_type": "stream",
     "text": [
      "Error fetching https://mediadive.dsmz.de/strains/medium/J30?p=90: ('Connection broken: IncompleteRead(6138 bytes read, 4102 more expected)', IncompleteRead(6138 bytes read, 4102 more expected)). Retrying 1/5...\n"
     ]
    },
    {
     "name": "stderr",
     "output_type": "stream",
     "text": [
      "Strains link Progress:  89%|████████▉ | 61056/68617 [1:24:47<1:45:24,  1.20it/s]"
     ]
    },
    {
     "name": "stdout",
     "output_type": "stream",
     "text": [
      "Error fetching strains link https://mediadive.dsmz.de/strains/medium/J1154: ('Connection broken: IncompleteRead(2042 bytes read, 8198 more expected)', IncompleteRead(2042 bytes read, 8198 more expected)). Retrying 1/5...\n"
     ]
    },
    {
     "name": "stderr",
     "output_type": "stream",
     "text": [
      "Strains link Progress:  89%|████████▉ | 61176/68617 [1:25:14<14:12,  8.72it/s]  "
     ]
    },
    {
     "name": "stdout",
     "output_type": "stream",
     "text": [
      "Error fetching https://mediadive.dsmz.de/strains/medium/J30?p=91: ('Connection broken: IncompleteRead(6138 bytes read, 4102 more expected)', IncompleteRead(6138 bytes read, 4102 more expected)). Retrying 1/5...\n"
     ]
    },
    {
     "name": "stderr",
     "output_type": "stream",
     "text": [
      "Strains link Progress:  89%|████████▉ | 61233/68617 [1:25:32<27:11,  4.53it/s]"
     ]
    },
    {
     "name": "stdout",
     "output_type": "stream",
     "text": [
      "Error fetching https://mediadive.dsmz.de/strains/medium/J1125?p=1: ('Connection broken: IncompleteRead(6138 bytes read, 4102 more expected)', IncompleteRead(6138 bytes read, 4102 more expected)). Retrying 1/5...\n"
     ]
    },
    {
     "name": "stderr",
     "output_type": "stream",
     "text": [
      "Strains link Progress:  89%|████████▉ | 61328/68617 [1:25:53<09:07, 13.32it/s]  "
     ]
    },
    {
     "name": "stdout",
     "output_type": "stream",
     "text": [
      "Error fetching strains link https://mediadive.dsmz.de/strains/medium/J1234: ('Connection broken: IncompleteRead(6138 bytes read, 4102 more expected)', IncompleteRead(6138 bytes read, 4102 more expected)). Retrying 1/5...\n"
     ]
    },
    {
     "name": "stderr",
     "output_type": "stream",
     "text": [
      "Strains link Progress:  90%|████████▉ | 61459/68617 [1:26:31<16:51,  7.08it/s]  "
     ]
    },
    {
     "name": "stdout",
     "output_type": "stream",
     "text": [
      "Error fetching strains link https://mediadive.dsmz.de/strains/medium/J1296: ('Connection broken: IncompleteRead(6138 bytes read, 4102 more expected)', IncompleteRead(6138 bytes read, 4102 more expected)). Retrying 1/5...\n",
      "Error fetching https://mediadive.dsmz.de/strains/medium/J25?p=89: ('Connection broken: IncompleteRead(2042 bytes read, 8198 more expected)', IncompleteRead(2042 bytes read, 8198 more expected)). Retrying 1/5...\n"
     ]
    },
    {
     "name": "stderr",
     "output_type": "stream",
     "text": [
      "Strains link Progress:  90%|████████▉ | 61461/68617 [1:26:36<45:21,  2.63it/s]"
     ]
    },
    {
     "name": "stdout",
     "output_type": "stream",
     "text": [
      "Error fetching https://mediadive.dsmz.de/strains/medium/J1274?p=1: ('Connection broken: IncompleteRead(6138 bytes read, 4102 more expected)', IncompleteRead(6138 bytes read, 4102 more expected)). Retrying 1/5...\n"
     ]
    },
    {
     "name": "stderr",
     "output_type": "stream",
     "text": [
      "Strains link Progress:  90%|████████▉ | 61524/68617 [1:26:54<29:43,  3.98it/s]  "
     ]
    },
    {
     "name": "stdout",
     "output_type": "stream",
     "text": [
      "Error fetching strains link https://mediadive.dsmz.de/strains/medium/C27: ('Connection broken: IncompleteRead(6138 bytes read, 4102 more expected)', IncompleteRead(6138 bytes read, 4102 more expected)). Retrying 1/5...\n",
      "Error fetching strains link https://mediadive.dsmz.de/strains/medium/C34: ('Connection broken: IncompleteRead(6138 bytes read, 4102 more expected)', IncompleteRead(6138 bytes read, 4102 more expected)). Retrying 1/5...\n"
     ]
    },
    {
     "name": "stderr",
     "output_type": "stream",
     "text": [
      "Strains link Progress:  90%|████████▉ | 61544/68617 [1:26:55<15:30,  7.60it/s]"
     ]
    },
    {
     "name": "stdout",
     "output_type": "stream",
     "text": [
      "Error fetching strains link https://mediadive.dsmz.de/strains/medium/C14: ('Connection broken: IncompleteRead(6138 bytes read, 4102 more expected)', IncompleteRead(6138 bytes read, 4102 more expected)). Retrying 1/5...\n",
      "Error fetching https://mediadive.dsmz.de/strains/medium/J1221?p=1: ('Connection broken: IncompleteRead(6138 bytes read, 4102 more expected)', IncompleteRead(6138 bytes read, 4102 more expected)). Retrying 1/5...\n"
     ]
    },
    {
     "name": "stderr",
     "output_type": "stream",
     "text": [
      "Strains link Progress:  90%|████████▉ | 61556/68617 [1:26:56<12:08,  9.69it/s]"
     ]
    },
    {
     "name": "stdout",
     "output_type": "stream",
     "text": [
      "Error fetching https://mediadive.dsmz.de/strains/medium/C10?p=1: ('Connection broken: IncompleteRead(6138 bytes read, 4102 more expected)', IncompleteRead(6138 bytes read, 4102 more expected)). Retrying 1/5...\n"
     ]
    },
    {
     "name": "stderr",
     "output_type": "stream",
     "text": [
      "Strains link Progress:  90%|████████▉ | 61656/68617 [1:27:06<08:25, 13.78it/s]"
     ]
    },
    {
     "name": "stdout",
     "output_type": "stream",
     "text": [
      "Error fetching strains link https://mediadive.dsmz.de/strains/medium/C47: ('Connection broken: IncompleteRead(6138 bytes read, 4102 more expected)', IncompleteRead(6138 bytes read, 4102 more expected)). Retrying 1/5...\n"
     ]
    },
    {
     "name": "stderr",
     "output_type": "stream",
     "text": [
      "Strains link Progress:  90%|█████████ | 61815/68617 [1:27:15<04:58, 22.79it/s]"
     ]
    },
    {
     "name": "stdout",
     "output_type": "stream",
     "text": [
      "Error fetching https://mediadive.dsmz.de/strains/medium/J30?p=98: ('Connection broken: IncompleteRead(6138 bytes read, 4102 more expected)', IncompleteRead(6138 bytes read, 4102 more expected)). Retrying 1/5...\n"
     ]
    },
    {
     "name": "stderr",
     "output_type": "stream",
     "text": [
      "Strains link Progress:  91%|█████████ | 62501/68617 [1:28:15<39:12,  2.60it/s]"
     ]
    },
    {
     "name": "stdout",
     "output_type": "stream",
     "text": [
      "Error fetching https://mediadive.dsmz.de/strains/medium/C56?p=2: ('Connection broken: IncompleteRead(6138 bytes read, 4102 more expected)', IncompleteRead(6138 bytes read, 4102 more expected)). Retrying 1/5...\n"
     ]
    },
    {
     "name": "stderr",
     "output_type": "stream",
     "text": [
      "Strains link Progress:  91%|█████████ | 62521/68617 [1:28:32<1:02:07,  1.64it/s]"
     ]
    },
    {
     "name": "stdout",
     "output_type": "stream",
     "text": [
      "Error fetching https://mediadive.dsmz.de/strains/medium/C58?p=2: ('Connection broken: IncompleteRead(6138 bytes read, 4102 more expected)', IncompleteRead(6138 bytes read, 4102 more expected)). Retrying 1/5...\n"
     ]
    },
    {
     "name": "stderr",
     "output_type": "stream",
     "text": [
      "Strains link Progress:  91%|█████████ | 62543/68617 [1:28:45<49:45,  2.03it/s]  "
     ]
    },
    {
     "name": "stdout",
     "output_type": "stream",
     "text": [
      "Error fetching https://mediadive.dsmz.de/strains/medium/C76?p=1: ('Connection broken: IncompleteRead(6138 bytes read, 4102 more expected)', IncompleteRead(6138 bytes read, 4102 more expected)). Retrying 1/5...\n"
     ]
    },
    {
     "name": "stderr",
     "output_type": "stream",
     "text": [
      "Strains link Progress:  92%|█████████▏| 62920/68617 [1:29:50<21:02,  4.51it/s]"
     ]
    },
    {
     "name": "stdout",
     "output_type": "stream",
     "text": [
      "Error fetching https://mediadive.dsmz.de/strains/medium/C56?p=4: ('Connection broken: IncompleteRead(6138 bytes read, 4102 more expected)', IncompleteRead(6138 bytes read, 4102 more expected)). Retrying 1/5...\n"
     ]
    },
    {
     "name": "stderr",
     "output_type": "stream",
     "text": [
      "Strains link Progress:  92%|█████████▏| 62941/68617 [1:29:57<24:25,  3.87it/s]"
     ]
    },
    {
     "name": "stdout",
     "output_type": "stream",
     "text": [
      "Error fetching https://mediadive.dsmz.de/strains/medium/C68?p=3: ('Connection broken: IncompleteRead(6138 bytes read, 4102 more expected)', IncompleteRead(6138 bytes read, 4102 more expected)). Retrying 1/5...\n"
     ]
    },
    {
     "name": "stderr",
     "output_type": "stream",
     "text": [
      "Strains link Progress:  92%|█████████▏| 63075/68617 [1:30:05<07:09, 12.91it/s]"
     ]
    },
    {
     "name": "stdout",
     "output_type": "stream",
     "text": [
      "Error fetching https://mediadive.dsmz.de/strains/medium/C81?p=1: ('Connection broken: IncompleteRead(6138 bytes read, 4102 more expected)', IncompleteRead(6138 bytes read, 4102 more expected)). Retrying 1/5...\n"
     ]
    },
    {
     "name": "stderr",
     "output_type": "stream",
     "text": [
      "Strains link Progress:  92%|█████████▏| 63254/68617 [1:30:20<07:49, 11.41it/s]"
     ]
    },
    {
     "name": "stdout",
     "output_type": "stream",
     "text": [
      "Error fetching https://mediadive.dsmz.de/strains/medium/C63?p=3: ('Connection broken: IncompleteRead(6138 bytes read, 4102 more expected)', IncompleteRead(6138 bytes read, 4102 more expected)). Retrying 1/5...\n"
     ]
    },
    {
     "name": "stderr",
     "output_type": "stream",
     "text": [
      "Strains link Progress:  93%|█████████▎| 63487/68617 [1:31:03<16:17,  5.25it/s]"
     ]
    },
    {
     "name": "stdout",
     "output_type": "stream",
     "text": [
      "Error fetching https://mediadive.dsmz.de/strains/medium/C37?p=7: ('Connection broken: IncompleteRead(6138 bytes read, 4102 more expected)', IncompleteRead(6138 bytes read, 4102 more expected)). Retrying 1/5...\n"
     ]
    },
    {
     "name": "stderr",
     "output_type": "stream",
     "text": [
      "Strains link Progress:  93%|█████████▎| 63527/68617 [1:31:13<17:58,  4.72it/s]"
     ]
    },
    {
     "name": "stdout",
     "output_type": "stream",
     "text": [
      "Error fetching https://mediadive.dsmz.de/strains/medium/C37?p=7: ('Connection broken: IncompleteRead(6138 bytes read, 4102 more expected)', IncompleteRead(6138 bytes read, 4102 more expected)). Retrying 2/5...\n"
     ]
    },
    {
     "name": "stderr",
     "output_type": "stream",
     "text": [
      "Strains link Progress:  93%|█████████▎| 63803/68617 [1:31:59<08:10,  9.81it/s]"
     ]
    },
    {
     "name": "stdout",
     "output_type": "stream",
     "text": [
      "Error fetching https://mediadive.dsmz.de/strains/medium/C79?p=8: ('Connection broken: IncompleteRead(6138 bytes read, 4102 more expected)', IncompleteRead(6138 bytes read, 4102 more expected)). Retrying 1/5...\n",
      "Error fetching https://mediadive.dsmz.de/strains/medium/J30?p=111: ('Connection broken: IncompleteRead(6138 bytes read, 4102 more expected)', IncompleteRead(6138 bytes read, 4102 more expected)). Retrying 1/5...\n"
     ]
    },
    {
     "name": "stderr",
     "output_type": "stream",
     "text": [
      "Strains link Progress:  93%|█████████▎| 63843/68617 [1:32:19<25:05,  3.17it/s]"
     ]
    },
    {
     "name": "stdout",
     "output_type": "stream",
     "text": [
      "Error fetching https://mediadive.dsmz.de/strains/medium/C37?p=8: ('Connection broken: IncompleteRead(6138 bytes read, 4102 more expected)', IncompleteRead(6138 bytes read, 4102 more expected)). Retrying 1/5...\n"
     ]
    },
    {
     "name": "stderr",
     "output_type": "stream",
     "text": [
      "Strains link Progress:  93%|█████████▎| 64004/68617 [1:33:13<19:45,  3.89it/s]"
     ]
    },
    {
     "name": "stdout",
     "output_type": "stream",
     "text": [
      "Error fetching https://mediadive.dsmz.de/strains/medium/J30?p=112: ('Connection broken: IncompleteRead(6138 bytes read, 4102 more expected)', IncompleteRead(6138 bytes read, 4102 more expected)). Retrying 1/5...\n",
      "Error fetching https://mediadive.dsmz.de/strains/medium/C56?p=10: ('Connection broken: IncompleteRead(6138 bytes read, 4102 more expected)', IncompleteRead(6138 bytes read, 4102 more expected)). Retrying 1/5...\n"
     ]
    },
    {
     "name": "stderr",
     "output_type": "stream",
     "text": [
      "Strains link Progress:  94%|█████████▎| 64324/68617 [1:35:46<28:34,  2.50it/s]"
     ]
    },
    {
     "name": "stdout",
     "output_type": "stream",
     "text": [
      "Error fetching https://mediadive.dsmz.de/strains/medium/J25?p=108: ('Connection broken: IncompleteRead(6138 bytes read, 4102 more expected)', IncompleteRead(6138 bytes read, 4102 more expected)). Retrying 1/5...\n"
     ]
    },
    {
     "name": "stderr",
     "output_type": "stream",
     "text": [
      "Strains link Progress:  94%|█████████▍| 64424/68617 [1:36:42<21:19,  3.28it/s]"
     ]
    },
    {
     "name": "stdout",
     "output_type": "stream",
     "text": [
      "Error fetching https://mediadive.dsmz.de/strains/medium/C56?p=16: ('Connection broken: IncompleteRead(8186 bytes read, 2054 more expected)', IncompleteRead(8186 bytes read, 2054 more expected)). Retrying 1/5...\n"
     ]
    },
    {
     "name": "stderr",
     "output_type": "stream",
     "text": [
      "Strains link Progress:  94%|█████████▍| 64644/68617 [1:38:02<19:48,  3.34it/s]"
     ]
    },
    {
     "name": "stdout",
     "output_type": "stream",
     "text": [
      "Error fetching https://mediadive.dsmz.de/strains/medium/C56?p=17: ('Connection broken: IncompleteRead(6138 bytes read, 4102 more expected)', IncompleteRead(6138 bytes read, 4102 more expected)). Retrying 1/5...\n"
     ]
    },
    {
     "name": "stderr",
     "output_type": "stream",
     "text": [
      "Strains link Progress:  95%|█████████▌| 65524/68617 [1:45:05<18:39,  2.76it/s]"
     ]
    },
    {
     "name": "stdout",
     "output_type": "stream",
     "text": [
      "Error fetching https://mediadive.dsmz.de/strains/medium/J25?p=124: Response ended prematurely. Retrying 1/5...\n"
     ]
    },
    {
     "name": "stderr",
     "output_type": "stream",
     "text": [
      "Strains link Progress:  96%|█████████▌| 65564/68617 [1:45:14<14:55,  3.41it/s]"
     ]
    },
    {
     "name": "stdout",
     "output_type": "stream",
     "text": [
      "Error fetching https://mediadive.dsmz.de/strains/medium/C56?p=29: Response ended prematurely. Retrying 1/5...\n"
     ]
    },
    {
     "name": "stderr",
     "output_type": "stream",
     "text": [
      "Strains link Progress:  96%|█████████▌| 65704/68617 [1:46:08<16:07,  3.01it/s]"
     ]
    },
    {
     "name": "stdout",
     "output_type": "stream",
     "text": [
      "Error fetching https://mediadive.dsmz.de/strains/medium/C14?p=34: ('Connection broken: IncompleteRead(6138 bytes read, 4102 more expected)', IncompleteRead(6138 bytes read, 4102 more expected)). Retrying 1/5...\n"
     ]
    },
    {
     "name": "stderr",
     "output_type": "stream",
     "text": [
      "Strains link Progress:  96%|█████████▌| 65864/68617 [1:46:36<09:52,  4.65it/s]"
     ]
    },
    {
     "name": "stdout",
     "output_type": "stream",
     "text": [
      "Error fetching https://mediadive.dsmz.de/strains/medium/J25?p=127: ('Connection broken: IncompleteRead(6138 bytes read, 4102 more expected)', IncompleteRead(6138 bytes read, 4102 more expected)). Retrying 1/5...\n"
     ]
    },
    {
     "name": "stderr",
     "output_type": "stream",
     "text": [
      "Strains link Progress:  96%|█████████▌| 66026/68617 [1:47:50<19:30,  2.21it/s]"
     ]
    },
    {
     "name": "stdout",
     "output_type": "stream",
     "text": [
      "Error fetching https://mediadive.dsmz.de/strains/medium/J30?p=139: ('Connection broken: IncompleteRead(6138 bytes read, 4102 more expected)', IncompleteRead(6138 bytes read, 4102 more expected)). Retrying 1/5...\n"
     ]
    },
    {
     "name": "stderr",
     "output_type": "stream",
     "text": [
      "Strains link Progress:  96%|█████████▋| 66146/68617 [1:48:38<18:50,  2.18it/s]"
     ]
    },
    {
     "name": "stdout",
     "output_type": "stream",
     "text": [
      "Error fetching https://mediadive.dsmz.de/strains/medium/J25?p=130: ('Connection broken: IncompleteRead(6138 bytes read, 4102 more expected)', IncompleteRead(6138 bytes read, 4102 more expected)). Retrying 1/5...\n"
     ]
    },
    {
     "name": "stderr",
     "output_type": "stream",
     "text": [
      "Strains link Progress:  96%|█████████▋| 66186/68617 [1:48:47<13:31,  3.00it/s]"
     ]
    },
    {
     "name": "stdout",
     "output_type": "stream",
     "text": [
      "Error fetching https://mediadive.dsmz.de/strains/medium/J25?p=130: ('Connection broken: IncompleteRead(6138 bytes read, 4102 more expected)', IncompleteRead(6138 bytes read, 4102 more expected)). Retrying 2/5...\n"
     ]
    },
    {
     "name": "stderr",
     "output_type": "stream",
     "text": [
      "Strains link Progress:  97%|█████████▋| 66511/68617 [1:53:00<27:17,  1.29it/s]"
     ]
    },
    {
     "name": "stdout",
     "output_type": "stream",
     "text": [
      "Error fetching https://mediadive.dsmz.de/strains/medium/J30?p=153: ('Connection broken: IncompleteRead(2042 bytes read, 8198 more expected)', IncompleteRead(2042 bytes read, 8198 more expected)). Retrying 1/5...\n"
     ]
    },
    {
     "name": "stderr",
     "output_type": "stream",
     "text": [
      "Strains link Progress:  98%|█████████▊| 66951/68617 [2:15:12<1:03:21,  2.28s/it]"
     ]
    },
    {
     "name": "stdout",
     "output_type": "stream",
     "text": [
      "Error fetching https://mediadive.dsmz.de/strains/medium/J30?p=175: ('Connection broken: IncompleteRead(6138 bytes read, 4102 more expected)', IncompleteRead(6138 bytes read, 4102 more expected)). Retrying 1/5...\n"
     ]
    },
    {
     "name": "stderr",
     "output_type": "stream",
     "text": [
      "Strains link Progress:  98%|█████████▊| 67111/68617 [2:23:22<1:01:13,  2.44s/it]"
     ]
    },
    {
     "name": "stdout",
     "output_type": "stream",
     "text": [
      "Error fetching https://mediadive.dsmz.de/strains/medium/J30?p=183: ('Connection broken: IncompleteRead(6138 bytes read, 4102 more expected)', IncompleteRead(6138 bytes read, 4102 more expected)). Retrying 1/5...\n"
     ]
    },
    {
     "name": "stderr",
     "output_type": "stream",
     "text": [
      "Strains link Progress:  98%|█████████▊| 67211/68617 [3:38:25<04:34,  5.13it/s]  \n"
     ]
    },
    {
     "ename": "KeyboardInterrupt",
     "evalue": "",
     "output_type": "error",
     "traceback": [
      "\u001B[0;31m---------------------------------------------------------------------------\u001B[0m",
      "\u001B[0;31mKeyboardInterrupt\u001B[0m                         Traceback (most recent call last)",
      "Cell \u001B[0;32mIn[3], line 45\u001B[0m\n\u001B[1;32m     44\u001B[0m future_to_strains_link \u001B[38;5;241m=\u001B[39m {executor\u001B[38;5;241m.\u001B[39msubmit(extract_data_from_strainslink, strains_link, pbar): strains_link \u001B[38;5;28;01mfor\u001B[39;00m strains_link \u001B[38;5;129;01min\u001B[39;00m strains_links}\n\u001B[0;32m---> 45\u001B[0m \u001B[38;5;28;01mfor\u001B[39;00m future \u001B[38;5;129;01min\u001B[39;00m as_completed(future_to_strains_link):\n\u001B[1;32m     46\u001B[0m     link_data \u001B[38;5;241m=\u001B[39m future\u001B[38;5;241m.\u001B[39mresult()\n",
      "File \u001B[0;32m/Library/Frameworks/Python.framework/Versions/3.10/lib/python3.10/concurrent/futures/_base.py:245\u001B[0m, in \u001B[0;36mas_completed\u001B[0;34m(fs, timeout)\u001B[0m\n\u001B[1;32m    241\u001B[0m         \u001B[38;5;28;01mraise\u001B[39;00m \u001B[38;5;167;01mTimeoutError\u001B[39;00m(\n\u001B[1;32m    242\u001B[0m                 \u001B[38;5;124m'\u001B[39m\u001B[38;5;132;01m%d\u001B[39;00m\u001B[38;5;124m (of \u001B[39m\u001B[38;5;132;01m%d\u001B[39;00m\u001B[38;5;124m) futures unfinished\u001B[39m\u001B[38;5;124m'\u001B[39m \u001B[38;5;241m%\u001B[39m (\n\u001B[1;32m    243\u001B[0m                 \u001B[38;5;28mlen\u001B[39m(pending), total_futures))\n\u001B[0;32m--> 245\u001B[0m \u001B[43mwaiter\u001B[49m\u001B[38;5;241;43m.\u001B[39;49m\u001B[43mevent\u001B[49m\u001B[38;5;241;43m.\u001B[39;49m\u001B[43mwait\u001B[49m\u001B[43m(\u001B[49m\u001B[43mwait_timeout\u001B[49m\u001B[43m)\u001B[49m\n\u001B[1;32m    247\u001B[0m \u001B[38;5;28;01mwith\u001B[39;00m waiter\u001B[38;5;241m.\u001B[39mlock:\n",
      "File \u001B[0;32m/Library/Frameworks/Python.framework/Versions/3.10/lib/python3.10/threading.py:600\u001B[0m, in \u001B[0;36mEvent.wait\u001B[0;34m(self, timeout)\u001B[0m\n\u001B[1;32m    599\u001B[0m \u001B[38;5;28;01mif\u001B[39;00m \u001B[38;5;129;01mnot\u001B[39;00m signaled:\n\u001B[0;32m--> 600\u001B[0m     signaled \u001B[38;5;241m=\u001B[39m \u001B[38;5;28;43mself\u001B[39;49m\u001B[38;5;241;43m.\u001B[39;49m\u001B[43m_cond\u001B[49m\u001B[38;5;241;43m.\u001B[39;49m\u001B[43mwait\u001B[49m\u001B[43m(\u001B[49m\u001B[43mtimeout\u001B[49m\u001B[43m)\u001B[49m\n\u001B[1;32m    601\u001B[0m \u001B[38;5;28;01mreturn\u001B[39;00m signaled\n",
      "File \u001B[0;32m/Library/Frameworks/Python.framework/Versions/3.10/lib/python3.10/threading.py:320\u001B[0m, in \u001B[0;36mCondition.wait\u001B[0;34m(self, timeout)\u001B[0m\n\u001B[1;32m    319\u001B[0m \u001B[38;5;28;01mif\u001B[39;00m timeout \u001B[38;5;129;01mis\u001B[39;00m \u001B[38;5;28;01mNone\u001B[39;00m:\n\u001B[0;32m--> 320\u001B[0m     \u001B[43mwaiter\u001B[49m\u001B[38;5;241;43m.\u001B[39;49m\u001B[43macquire\u001B[49m\u001B[43m(\u001B[49m\u001B[43m)\u001B[49m\n\u001B[1;32m    321\u001B[0m     gotit \u001B[38;5;241m=\u001B[39m \u001B[38;5;28;01mTrue\u001B[39;00m\n",
      "\u001B[0;31mKeyboardInterrupt\u001B[0m: ",
      "\nDuring handling of the above exception, another exception occurred:\n",
      "\u001B[0;31mKeyboardInterrupt\u001B[0m                         Traceback (most recent call last)",
      "Cell \u001B[0;32mIn[3], line 43\u001B[0m\n\u001B[1;32m     40\u001B[0m merged_df[\u001B[38;5;124m'\u001B[39m\u001B[38;5;124mStrains number\u001B[39m\u001B[38;5;124m'\u001B[39m] \u001B[38;5;241m=\u001B[39m pd\u001B[38;5;241m.\u001B[39mto_numeric(df[\u001B[38;5;124m'\u001B[39m\u001B[38;5;124mStrains number\u001B[39m\u001B[38;5;124m'\u001B[39m])\n\u001B[1;32m     42\u001B[0m \u001B[38;5;28;01mwith\u001B[39;00m tqdm(total\u001B[38;5;241m=\u001B[39m\u001B[38;5;28mint\u001B[39m(merged_df[\u001B[38;5;124m'\u001B[39m\u001B[38;5;124mStrains number\u001B[39m\u001B[38;5;124m'\u001B[39m]\u001B[38;5;241m.\u001B[39msum()), desc\u001B[38;5;241m=\u001B[39m\u001B[38;5;124m\"\u001B[39m\u001B[38;5;124mStrains link Progress\u001B[39m\u001B[38;5;124m\"\u001B[39m) \u001B[38;5;28;01mas\u001B[39;00m pbar:\n\u001B[0;32m---> 43\u001B[0m     \u001B[38;5;28;01mwith\u001B[39;00m ThreadPoolExecutor(max_workers\u001B[38;5;241m=\u001B[39mmax_workers) \u001B[38;5;28;01mas\u001B[39;00m executor:\n\u001B[1;32m     44\u001B[0m         future_to_strains_link \u001B[38;5;241m=\u001B[39m {executor\u001B[38;5;241m.\u001B[39msubmit(extract_data_from_strainslink, strains_link, pbar): strains_link \u001B[38;5;28;01mfor\u001B[39;00m strains_link \u001B[38;5;129;01min\u001B[39;00m strains_links}\n\u001B[1;32m     45\u001B[0m         \u001B[38;5;28;01mfor\u001B[39;00m future \u001B[38;5;129;01min\u001B[39;00m as_completed(future_to_strains_link):\n",
      "File \u001B[0;32m/Library/Frameworks/Python.framework/Versions/3.10/lib/python3.10/concurrent/futures/_base.py:636\u001B[0m, in \u001B[0;36mExecutor.__exit__\u001B[0;34m(self, exc_type, exc_val, exc_tb)\u001B[0m\n\u001B[1;32m    635\u001B[0m \u001B[38;5;28;01mdef\u001B[39;00m \u001B[38;5;21m__exit__\u001B[39m(\u001B[38;5;28mself\u001B[39m, exc_type, exc_val, exc_tb):\n\u001B[0;32m--> 636\u001B[0m     \u001B[38;5;28;43mself\u001B[39;49m\u001B[38;5;241;43m.\u001B[39;49m\u001B[43mshutdown\u001B[49m\u001B[43m(\u001B[49m\u001B[43mwait\u001B[49m\u001B[38;5;241;43m=\u001B[39;49m\u001B[38;5;28;43;01mTrue\u001B[39;49;00m\u001B[43m)\u001B[49m\n\u001B[1;32m    637\u001B[0m     \u001B[38;5;28;01mreturn\u001B[39;00m \u001B[38;5;28;01mFalse\u001B[39;00m\n",
      "File \u001B[0;32m/Library/Frameworks/Python.framework/Versions/3.10/lib/python3.10/concurrent/futures/thread.py:229\u001B[0m, in \u001B[0;36mThreadPoolExecutor.shutdown\u001B[0;34m(self, wait, cancel_futures)\u001B[0m\n\u001B[1;32m    227\u001B[0m \u001B[38;5;28;01mif\u001B[39;00m wait:\n\u001B[1;32m    228\u001B[0m     \u001B[38;5;28;01mfor\u001B[39;00m t \u001B[38;5;129;01min\u001B[39;00m \u001B[38;5;28mself\u001B[39m\u001B[38;5;241m.\u001B[39m_threads:\n\u001B[0;32m--> 229\u001B[0m         \u001B[43mt\u001B[49m\u001B[38;5;241;43m.\u001B[39;49m\u001B[43mjoin\u001B[49m\u001B[43m(\u001B[49m\u001B[43m)\u001B[49m\n",
      "File \u001B[0;32m/Library/Frameworks/Python.framework/Versions/3.10/lib/python3.10/threading.py:1089\u001B[0m, in \u001B[0;36mThread.join\u001B[0;34m(self, timeout)\u001B[0m\n\u001B[1;32m   1086\u001B[0m     \u001B[38;5;28;01mraise\u001B[39;00m \u001B[38;5;167;01mRuntimeError\u001B[39;00m(\u001B[38;5;124m\"\u001B[39m\u001B[38;5;124mcannot join current thread\u001B[39m\u001B[38;5;124m\"\u001B[39m)\n\u001B[1;32m   1088\u001B[0m \u001B[38;5;28;01mif\u001B[39;00m timeout \u001B[38;5;129;01mis\u001B[39;00m \u001B[38;5;28;01mNone\u001B[39;00m:\n\u001B[0;32m-> 1089\u001B[0m     \u001B[38;5;28;43mself\u001B[39;49m\u001B[38;5;241;43m.\u001B[39;49m\u001B[43m_wait_for_tstate_lock\u001B[49m\u001B[43m(\u001B[49m\u001B[43m)\u001B[49m\n\u001B[1;32m   1090\u001B[0m \u001B[38;5;28;01melse\u001B[39;00m:\n\u001B[1;32m   1091\u001B[0m     \u001B[38;5;66;03m# the behavior of a negative timeout isn't documented, but\u001B[39;00m\n\u001B[1;32m   1092\u001B[0m     \u001B[38;5;66;03m# historically .join(timeout=x) for x<0 has acted as if timeout=0\u001B[39;00m\n\u001B[1;32m   1093\u001B[0m     \u001B[38;5;28mself\u001B[39m\u001B[38;5;241m.\u001B[39m_wait_for_tstate_lock(timeout\u001B[38;5;241m=\u001B[39m\u001B[38;5;28mmax\u001B[39m(timeout, \u001B[38;5;241m0\u001B[39m))\n",
      "File \u001B[0;32m/Library/Frameworks/Python.framework/Versions/3.10/lib/python3.10/threading.py:1105\u001B[0m, in \u001B[0;36mThread._wait_for_tstate_lock\u001B[0;34m(self, block, timeout)\u001B[0m\n\u001B[1;32m   1103\u001B[0m \u001B[38;5;28;01mif\u001B[39;00m lock \u001B[38;5;129;01mis\u001B[39;00m \u001B[38;5;28;01mNone\u001B[39;00m:  \u001B[38;5;66;03m# already determined that the C code is done\u001B[39;00m\n\u001B[1;32m   1104\u001B[0m     \u001B[38;5;28;01massert\u001B[39;00m \u001B[38;5;28mself\u001B[39m\u001B[38;5;241m.\u001B[39m_is_stopped\n\u001B[0;32m-> 1105\u001B[0m \u001B[38;5;28;01melif\u001B[39;00m \u001B[43mlock\u001B[49m\u001B[38;5;241;43m.\u001B[39;49m\u001B[43macquire\u001B[49m\u001B[43m(\u001B[49m\u001B[43mblock\u001B[49m\u001B[43m,\u001B[49m\u001B[43m \u001B[49m\u001B[43mtimeout\u001B[49m\u001B[43m)\u001B[49m:\n\u001B[1;32m   1106\u001B[0m     lock\u001B[38;5;241m.\u001B[39mrelease()\n\u001B[1;32m   1107\u001B[0m     \u001B[38;5;28mself\u001B[39m\u001B[38;5;241m.\u001B[39m_stop()\n",
      "\u001B[0;31mKeyboardInterrupt\u001B[0m: "
     ]
    }
   ],
   "execution_count": 3
  },
  {
   "metadata": {
    "ExecuteTime": {
     "end_time": "2024-06-11T23:43:02.134927Z",
     "start_time": "2024-06-11T23:43:02.115562Z"
    }
   },
   "cell_type": "code",
   "source": [
    "strainslink_data_columns = [\"Strains links\", \"Strains Name\"]\n",
    "strainslink_df = pd.DataFrame(strainslink_data, columns=strainslink_data_columns)\n",
    "\n",
    "merged_merged_df = pd.merge(merged_df, strainslink_df, on='Strains links', how='left').fillna(\"\")\n",
    "\n",
    "merged_merged_df"
   ],
   "id": "82affaa804f54412",
   "outputs": [
    {
     "data": {
      "text/plain": [
       "      ID  Source                                        Name  \\\n",
       "0      1    DSMZ                               NUTRIENT AGAR   \n",
       "1     1a    DSMZ           REACTIVATION WITH LIQUID MEDIUM 1   \n",
       "2      2    DSMZ                   BACILLUS PASTEURII MEDIUM   \n",
       "3      3    DSMZ                          AZOTOBACTER MEDIUM   \n",
       "4      6    DSMZ                    ALLANTOIN MINERAL MEDIUM   \n",
       "...   ..     ...                                         ...   \n",
       "3308  P5  public  RS Medium - Nutrient Medium (NM) Component   \n",
       "3309  P6  public                                       mTA10   \n",
       "3310  P7  public     N27 RHODOSPIRILLACEAE MEDIUM (modified)   \n",
       "3311  P8  public                               M9-SNG medium   \n",
       "3312  P9  public                              PDB-SNG medium   \n",
       "\n",
       "                                Name Link     Type Complex Medium Final PH  \\\n",
       "0      https://mediadive.dsmz.de/medium/1  complex            yes      7.0   \n",
       "1     https://mediadive.dsmz.de/medium/1a  complex            yes      7.0   \n",
       "2      https://mediadive.dsmz.de/medium/2  complex            yes            \n",
       "3      https://mediadive.dsmz.de/medium/3  defined             no      7.3   \n",
       "4      https://mediadive.dsmz.de/medium/6  complex            yes            \n",
       "...                                   ...      ...            ...      ...   \n",
       "3308  https://mediadive.dsmz.de/medium/P5  complex            yes      7.0   \n",
       "3309  https://mediadive.dsmz.de/medium/P6  complex            yes      7.2   \n",
       "3310  https://mediadive.dsmz.de/medium/P7  complex            yes      6.8   \n",
       "3311  https://mediadive.dsmz.de/medium/P8  complex            yes      7.2   \n",
       "3312  https://mediadive.dsmz.de/medium/P9  complex            yes      7.2   \n",
       "\n",
       "     min pH max pH      Tax.range type Strains number  \\\n",
       "0       7.0    7.0  [Bacteria, Phages]         2305.0   \n",
       "1       7.0    7.0          [Bacteria]          209.0   \n",
       "2                           [Bacteria]            9.0   \n",
       "3       7.3    7.3          [Bacteria]           40.0   \n",
       "4                           [Bacteria]           22.0   \n",
       "...     ...    ...                 ...            ...   \n",
       "3308    7.0    7.0                  []                  \n",
       "3309    7.2    7.2                  []                  \n",
       "3310    6.8    6.8                  []                  \n",
       "3311    7.2    7.2                  []                  \n",
       "3312    7.2    7.2                  []                  \n",
       "\n",
       "                                    Strains links  \\\n",
       "0      https://mediadive.dsmz.de/strains/medium/1   \n",
       "1     https://mediadive.dsmz.de/strains/medium/1a   \n",
       "2      https://mediadive.dsmz.de/strains/medium/2   \n",
       "3      https://mediadive.dsmz.de/strains/medium/3   \n",
       "4      https://mediadive.dsmz.de/strains/medium/6   \n",
       "...                                           ...   \n",
       "3308                                                \n",
       "3309                                                \n",
       "3310                                                \n",
       "3311                                                \n",
       "3312                                                \n",
       "\n",
       "                                   PDF Last modified  \\\n",
       "0      https://mediadive.dsmz.de/pdf/1      20.09.22   \n",
       "1     https://mediadive.dsmz.de/pdf/1a      22.02.22   \n",
       "2      https://mediadive.dsmz.de/pdf/2      04.02.22   \n",
       "3      https://mediadive.dsmz.de/pdf/3      22.02.22   \n",
       "4      https://mediadive.dsmz.de/pdf/6      30.11.23   \n",
       "...                                ...           ...   \n",
       "3308  https://mediadive.dsmz.de/pdf/P5      30.06.23   \n",
       "3309  https://mediadive.dsmz.de/pdf/P6      01.11.23   \n",
       "3310  https://mediadive.dsmz.de/pdf/P7      02.11.23   \n",
       "3311  https://mediadive.dsmz.de/pdf/P8      09.01.24   \n",
       "3312  https://mediadive.dsmz.de/pdf/P9      09.01.24   \n",
       "\n",
       "                            Related media ID for medium  \\\n",
       "0     [1, a, 2, 114, 115, a, 118, 238, 241, 258, 302...   \n",
       "1     [1, a, 2, 114, 115, a, 118, 238, 241, 258, 302...   \n",
       "2     [1, a, 2, 114, 115, a, 118, 238, 241, 258, 302...   \n",
       "3                                                    []   \n",
       "4                                                    []   \n",
       "...                                                 ...   \n",
       "3308                                                 []   \n",
       "3309                                                 []   \n",
       "3310                                                 []   \n",
       "3311                                                 []   \n",
       "3312                                                 []   \n",
       "\n",
       "                          Related media name for medium  \\\n",
       "0     [\"NUTRIENT AGAR\", \"REACTIVATION WITH LIQUID ME...   \n",
       "1     [\"NUTRIENT AGAR\", \"REACTIVATION WITH LIQUID ME...   \n",
       "2     [\"NUTRIENT AGAR\", \"REACTIVATION WITH LIQUID ME...   \n",
       "3                                                    []   \n",
       "4                                                    []   \n",
       "...                                                 ...   \n",
       "3308                                                 []   \n",
       "3309                                                 []   \n",
       "3310                                                 []   \n",
       "3311                                                 []   \n",
       "3312                                                 []   \n",
       "\n",
       "     Strains with modifications  \\\n",
       "0                           183   \n",
       "1                             9   \n",
       "2                                 \n",
       "3                                 \n",
       "4                             1   \n",
       "...                         ...   \n",
       "3308                              \n",
       "3309                              \n",
       "3310                              \n",
       "3311                              \n",
       "3312                              \n",
       "\n",
       "                      Cultivation metadata from strains  \\\n",
       "0     [[halophily, non-halophilic, 7 strains], [halo...   \n",
       "1     [[pH, 6 - 8, 20 strains], [pH, 4 - 6, 14 strai...   \n",
       "2     [[phyla, 1, 9 strains], [temperature, mesophil...   \n",
       "3     [[phyla, 1, 40 strains], [temperature, mesophi...   \n",
       "4     [[phyla, 2, 22 strains], [temperature, mesophi...   \n",
       "...                                                 ...   \n",
       "3308                                                 []   \n",
       "3309                                                 []   \n",
       "3310                                                 []   \n",
       "3311                                                 []   \n",
       "3312                                                 []   \n",
       "\n",
       "                                           Strains Name  \n",
       "0     ['Gottschalkia' methylica DSM 21470, Acerihabi...  \n",
       "1     [Achromobacter sp. DSM 26587, Acidovorax avena...  \n",
       "2     [Sporosarcina pasteurii DSM 276, Sporosarcina ...  \n",
       "3     [Azomonas agilis DSM 89, Azomonas agilis DSM 3...  \n",
       "4     [Bacillus sp. DSM 1302, Bacillus sp. DSM 1303,...  \n",
       "...                                                 ...  \n",
       "3308                                                     \n",
       "3309                                                     \n",
       "3310                                                     \n",
       "3311                                                     \n",
       "3312                                                     \n",
       "\n",
       "[3313 rows x 19 columns]"
      ],
      "text/html": [
       "<div>\n",
       "<style scoped>\n",
       "    .dataframe tbody tr th:only-of-type {\n",
       "        vertical-align: middle;\n",
       "    }\n",
       "\n",
       "    .dataframe tbody tr th {\n",
       "        vertical-align: top;\n",
       "    }\n",
       "\n",
       "    .dataframe thead th {\n",
       "        text-align: right;\n",
       "    }\n",
       "</style>\n",
       "<table border=\"1\" class=\"dataframe\">\n",
       "  <thead>\n",
       "    <tr style=\"text-align: right;\">\n",
       "      <th></th>\n",
       "      <th>ID</th>\n",
       "      <th>Source</th>\n",
       "      <th>Name</th>\n",
       "      <th>Name Link</th>\n",
       "      <th>Type</th>\n",
       "      <th>Complex Medium</th>\n",
       "      <th>Final PH</th>\n",
       "      <th>min pH</th>\n",
       "      <th>max pH</th>\n",
       "      <th>Tax.range type</th>\n",
       "      <th>Strains number</th>\n",
       "      <th>Strains links</th>\n",
       "      <th>PDF</th>\n",
       "      <th>Last modified</th>\n",
       "      <th>Related media ID for medium</th>\n",
       "      <th>Related media name for medium</th>\n",
       "      <th>Strains with modifications</th>\n",
       "      <th>Cultivation metadata from strains</th>\n",
       "      <th>Strains Name</th>\n",
       "    </tr>\n",
       "  </thead>\n",
       "  <tbody>\n",
       "    <tr>\n",
       "      <th>0</th>\n",
       "      <td>1</td>\n",
       "      <td>DSMZ</td>\n",
       "      <td>NUTRIENT AGAR</td>\n",
       "      <td>https://mediadive.dsmz.de/medium/1</td>\n",
       "      <td>complex</td>\n",
       "      <td>yes</td>\n",
       "      <td>7.0</td>\n",
       "      <td>7.0</td>\n",
       "      <td>7.0</td>\n",
       "      <td>[Bacteria, Phages]</td>\n",
       "      <td>2305.0</td>\n",
       "      <td>https://mediadive.dsmz.de/strains/medium/1</td>\n",
       "      <td>https://mediadive.dsmz.de/pdf/1</td>\n",
       "      <td>20.09.22</td>\n",
       "      <td>[1, a, 2, 114, 115, a, 118, 238, 241, 258, 302...</td>\n",
       "      <td>[\"NUTRIENT AGAR\", \"REACTIVATION WITH LIQUID ME...</td>\n",
       "      <td>183</td>\n",
       "      <td>[[halophily, non-halophilic, 7 strains], [halo...</td>\n",
       "      <td>['Gottschalkia' methylica DSM 21470, Acerihabi...</td>\n",
       "    </tr>\n",
       "    <tr>\n",
       "      <th>1</th>\n",
       "      <td>1a</td>\n",
       "      <td>DSMZ</td>\n",
       "      <td>REACTIVATION WITH LIQUID MEDIUM 1</td>\n",
       "      <td>https://mediadive.dsmz.de/medium/1a</td>\n",
       "      <td>complex</td>\n",
       "      <td>yes</td>\n",
       "      <td>7.0</td>\n",
       "      <td>7.0</td>\n",
       "      <td>7.0</td>\n",
       "      <td>[Bacteria]</td>\n",
       "      <td>209.0</td>\n",
       "      <td>https://mediadive.dsmz.de/strains/medium/1a</td>\n",
       "      <td>https://mediadive.dsmz.de/pdf/1a</td>\n",
       "      <td>22.02.22</td>\n",
       "      <td>[1, a, 2, 114, 115, a, 118, 238, 241, 258, 302...</td>\n",
       "      <td>[\"NUTRIENT AGAR\", \"REACTIVATION WITH LIQUID ME...</td>\n",
       "      <td>9</td>\n",
       "      <td>[[pH, 6 - 8, 20 strains], [pH, 4 - 6, 14 strai...</td>\n",
       "      <td>[Achromobacter sp. DSM 26587, Acidovorax avena...</td>\n",
       "    </tr>\n",
       "    <tr>\n",
       "      <th>2</th>\n",
       "      <td>2</td>\n",
       "      <td>DSMZ</td>\n",
       "      <td>BACILLUS PASTEURII MEDIUM</td>\n",
       "      <td>https://mediadive.dsmz.de/medium/2</td>\n",
       "      <td>complex</td>\n",
       "      <td>yes</td>\n",
       "      <td></td>\n",
       "      <td></td>\n",
       "      <td></td>\n",
       "      <td>[Bacteria]</td>\n",
       "      <td>9.0</td>\n",
       "      <td>https://mediadive.dsmz.de/strains/medium/2</td>\n",
       "      <td>https://mediadive.dsmz.de/pdf/2</td>\n",
       "      <td>04.02.22</td>\n",
       "      <td>[1, a, 2, 114, 115, a, 118, 238, 241, 258, 302...</td>\n",
       "      <td>[\"NUTRIENT AGAR\", \"REACTIVATION WITH LIQUID ME...</td>\n",
       "      <td></td>\n",
       "      <td>[[phyla, 1, 9 strains], [temperature, mesophil...</td>\n",
       "      <td>[Sporosarcina pasteurii DSM 276, Sporosarcina ...</td>\n",
       "    </tr>\n",
       "    <tr>\n",
       "      <th>3</th>\n",
       "      <td>3</td>\n",
       "      <td>DSMZ</td>\n",
       "      <td>AZOTOBACTER MEDIUM</td>\n",
       "      <td>https://mediadive.dsmz.de/medium/3</td>\n",
       "      <td>defined</td>\n",
       "      <td>no</td>\n",
       "      <td>7.3</td>\n",
       "      <td>7.3</td>\n",
       "      <td>7.3</td>\n",
       "      <td>[Bacteria]</td>\n",
       "      <td>40.0</td>\n",
       "      <td>https://mediadive.dsmz.de/strains/medium/3</td>\n",
       "      <td>https://mediadive.dsmz.de/pdf/3</td>\n",
       "      <td>22.02.22</td>\n",
       "      <td>[]</td>\n",
       "      <td>[]</td>\n",
       "      <td></td>\n",
       "      <td>[[phyla, 1, 40 strains], [temperature, mesophi...</td>\n",
       "      <td>[Azomonas agilis DSM 89, Azomonas agilis DSM 3...</td>\n",
       "    </tr>\n",
       "    <tr>\n",
       "      <th>4</th>\n",
       "      <td>6</td>\n",
       "      <td>DSMZ</td>\n",
       "      <td>ALLANTOIN MINERAL MEDIUM</td>\n",
       "      <td>https://mediadive.dsmz.de/medium/6</td>\n",
       "      <td>complex</td>\n",
       "      <td>yes</td>\n",
       "      <td></td>\n",
       "      <td></td>\n",
       "      <td></td>\n",
       "      <td>[Bacteria]</td>\n",
       "      <td>22.0</td>\n",
       "      <td>https://mediadive.dsmz.de/strains/medium/6</td>\n",
       "      <td>https://mediadive.dsmz.de/pdf/6</td>\n",
       "      <td>30.11.23</td>\n",
       "      <td>[]</td>\n",
       "      <td>[]</td>\n",
       "      <td>1</td>\n",
       "      <td>[[phyla, 2, 22 strains], [temperature, mesophi...</td>\n",
       "      <td>[Bacillus sp. DSM 1302, Bacillus sp. DSM 1303,...</td>\n",
       "    </tr>\n",
       "    <tr>\n",
       "      <th>...</th>\n",
       "      <td>...</td>\n",
       "      <td>...</td>\n",
       "      <td>...</td>\n",
       "      <td>...</td>\n",
       "      <td>...</td>\n",
       "      <td>...</td>\n",
       "      <td>...</td>\n",
       "      <td>...</td>\n",
       "      <td>...</td>\n",
       "      <td>...</td>\n",
       "      <td>...</td>\n",
       "      <td>...</td>\n",
       "      <td>...</td>\n",
       "      <td>...</td>\n",
       "      <td>...</td>\n",
       "      <td>...</td>\n",
       "      <td>...</td>\n",
       "      <td>...</td>\n",
       "      <td>...</td>\n",
       "    </tr>\n",
       "    <tr>\n",
       "      <th>3308</th>\n",
       "      <td>P5</td>\n",
       "      <td>public</td>\n",
       "      <td>RS Medium - Nutrient Medium (NM) Component</td>\n",
       "      <td>https://mediadive.dsmz.de/medium/P5</td>\n",
       "      <td>complex</td>\n",
       "      <td>yes</td>\n",
       "      <td>7.0</td>\n",
       "      <td>7.0</td>\n",
       "      <td>7.0</td>\n",
       "      <td>[]</td>\n",
       "      <td></td>\n",
       "      <td></td>\n",
       "      <td>https://mediadive.dsmz.de/pdf/P5</td>\n",
       "      <td>30.06.23</td>\n",
       "      <td>[]</td>\n",
       "      <td>[]</td>\n",
       "      <td></td>\n",
       "      <td>[]</td>\n",
       "      <td></td>\n",
       "    </tr>\n",
       "    <tr>\n",
       "      <th>3309</th>\n",
       "      <td>P6</td>\n",
       "      <td>public</td>\n",
       "      <td>mTA10</td>\n",
       "      <td>https://mediadive.dsmz.de/medium/P6</td>\n",
       "      <td>complex</td>\n",
       "      <td>yes</td>\n",
       "      <td>7.2</td>\n",
       "      <td>7.2</td>\n",
       "      <td>7.2</td>\n",
       "      <td>[]</td>\n",
       "      <td></td>\n",
       "      <td></td>\n",
       "      <td>https://mediadive.dsmz.de/pdf/P6</td>\n",
       "      <td>01.11.23</td>\n",
       "      <td>[]</td>\n",
       "      <td>[]</td>\n",
       "      <td></td>\n",
       "      <td>[]</td>\n",
       "      <td></td>\n",
       "    </tr>\n",
       "    <tr>\n",
       "      <th>3310</th>\n",
       "      <td>P7</td>\n",
       "      <td>public</td>\n",
       "      <td>N27 RHODOSPIRILLACEAE MEDIUM (modified)</td>\n",
       "      <td>https://mediadive.dsmz.de/medium/P7</td>\n",
       "      <td>complex</td>\n",
       "      <td>yes</td>\n",
       "      <td>6.8</td>\n",
       "      <td>6.8</td>\n",
       "      <td>6.8</td>\n",
       "      <td>[]</td>\n",
       "      <td></td>\n",
       "      <td></td>\n",
       "      <td>https://mediadive.dsmz.de/pdf/P7</td>\n",
       "      <td>02.11.23</td>\n",
       "      <td>[]</td>\n",
       "      <td>[]</td>\n",
       "      <td></td>\n",
       "      <td>[]</td>\n",
       "      <td></td>\n",
       "    </tr>\n",
       "    <tr>\n",
       "      <th>3311</th>\n",
       "      <td>P8</td>\n",
       "      <td>public</td>\n",
       "      <td>M9-SNG medium</td>\n",
       "      <td>https://mediadive.dsmz.de/medium/P8</td>\n",
       "      <td>complex</td>\n",
       "      <td>yes</td>\n",
       "      <td>7.2</td>\n",
       "      <td>7.2</td>\n",
       "      <td>7.2</td>\n",
       "      <td>[]</td>\n",
       "      <td></td>\n",
       "      <td></td>\n",
       "      <td>https://mediadive.dsmz.de/pdf/P8</td>\n",
       "      <td>09.01.24</td>\n",
       "      <td>[]</td>\n",
       "      <td>[]</td>\n",
       "      <td></td>\n",
       "      <td>[]</td>\n",
       "      <td></td>\n",
       "    </tr>\n",
       "    <tr>\n",
       "      <th>3312</th>\n",
       "      <td>P9</td>\n",
       "      <td>public</td>\n",
       "      <td>PDB-SNG medium</td>\n",
       "      <td>https://mediadive.dsmz.de/medium/P9</td>\n",
       "      <td>complex</td>\n",
       "      <td>yes</td>\n",
       "      <td>7.2</td>\n",
       "      <td>7.2</td>\n",
       "      <td>7.2</td>\n",
       "      <td>[]</td>\n",
       "      <td></td>\n",
       "      <td></td>\n",
       "      <td>https://mediadive.dsmz.de/pdf/P9</td>\n",
       "      <td>09.01.24</td>\n",
       "      <td>[]</td>\n",
       "      <td>[]</td>\n",
       "      <td></td>\n",
       "      <td>[]</td>\n",
       "      <td></td>\n",
       "    </tr>\n",
       "  </tbody>\n",
       "</table>\n",
       "<p>3313 rows × 19 columns</p>\n",
       "</div>"
      ]
     },
     "execution_count": 5,
     "metadata": {},
     "output_type": "execute_result"
    }
   ],
   "execution_count": 5
  },
  {
   "metadata": {
    "ExecuteTime": {
     "end_time": "2024-06-11T23:43:05.021721Z",
     "start_time": "2024-06-11T23:43:04.959350Z"
    }
   },
   "cell_type": "code",
   "source": "merged_merged_df.to_csv('media.csv', index=False)",
   "id": "6a833cddb9c89f6e",
   "outputs": [],
   "execution_count": 6
  },
  {
   "metadata": {
    "ExecuteTime": {
     "end_time": "2024-06-12T00:06:59.532204Z",
     "start_time": "2024-06-12T00:06:59.495019Z"
    }
   },
   "cell_type": "code",
   "source": [
    "# Define a function to check if the row is undone\n",
    "def is_undone(row):\n",
    "    if len(row['Strains links']) == 0:\n",
    "        return False  # If there is no link, we don't consider it\n",
    "    if len(row['Strains Name']) == 0:\n",
    "        return True  # If the name is NA but there's a link, it's undone\n",
    "    if isinstance(row['Strains Name'], list) and len(row['Strains Name']) != int(row['Strains number']):\n",
    "        return True\n",
    "    return False  # If the name is not a list, it's undone\n",
    "\n",
    "# Create a list of undone Strains links\n",
    "undone_strains_links = merged_merged_df[merged_merged_df.apply(is_undone, axis=1)]['Strains links'].tolist()\n",
    "undone_strains_nums = merged_merged_df[merged_merged_df.apply(is_undone, axis=1)]['Strains number'].tolist()\n",
    "\n",
    "print(undone_strains_links)\n",
    "print(undone_strains_nums)"
   ],
   "id": "b33a02291c31964b",
   "outputs": [
    {
     "name": "stdout",
     "output_type": "stream",
     "text": [
      "['https://mediadive.dsmz.de/strains/medium/J30', 'https://mediadive.dsmz.de/strains/medium/J254', 'https://mediadive.dsmz.de/strains/medium/J417', 'https://mediadive.dsmz.de/strains/medium/J511', 'https://mediadive.dsmz.de/strains/medium/J595']\n",
      "[5097.0, 66.0, 1.0, 1.0, 1.0]\n"
     ]
    }
   ],
   "execution_count": 23
  },
  {
   "metadata": {
    "ExecuteTime": {
     "end_time": "2024-06-12T00:34:47.682570Z",
     "start_time": "2024-06-12T00:15:46.450718Z"
    }
   },
   "cell_type": "code",
   "source": [
    "import numpy as np\n",
    "\n",
    "# Assuming df and merged_df are predefined DataFrames\n",
    "strainslink_data_new = []\n",
    "strains_links_new = undone_strains_links\n",
    "\n",
    "with tqdm(total=int(np.array(undone_strains_nums).sum()), desc=\"MakeUp Strains link Progress\") as pbar:\n",
    "    with ThreadPoolExecutor(max_workers=max_workers) as executor:\n",
    "        future_to_strains_link_new = {executor.submit(extract_data_from_strainslink, strains_link_new, pbar): strains_link_new for strains_link_new in strains_links_new}\n",
    "        for future in as_completed(future_to_strains_link_new):\n",
    "            link_data = future.result()\n",
    "            strainslink_data_new.append(link_data)\n",
    "\n",
    "strainslink_data_columns_new = [\"Strains links\", \"Strains Name\"]\n",
    "strainslink_df_new = pd.DataFrame(strainslink_data_new, columns=strainslink_data_columns_new)\n",
    "strainslink_df_new\n"
   ],
   "id": "75d23c822aad5275",
   "outputs": [
    {
     "name": "stderr",
     "output_type": "stream",
     "text": [
      "MakeUp Strains link Progress: 100%|██████████| 5166/5166 [19:01<00:00,  4.53it/s]\n"
     ]
    },
    {
     "data": {
      "text/plain": [
       "                                   Strains links  \\\n",
       "0  https://mediadive.dsmz.de/strains/medium/J511   \n",
       "1  https://mediadive.dsmz.de/strains/medium/J417   \n",
       "2  https://mediadive.dsmz.de/strains/medium/J595   \n",
       "3  https://mediadive.dsmz.de/strains/medium/J254   \n",
       "4   https://mediadive.dsmz.de/strains/medium/J30   \n",
       "\n",
       "                                        Strains Name  \n",
       "0                   [Desulfogranum marinum DSM 2058]  \n",
       "1                 [Lebetimonas acidiphila DSM 16356]  \n",
       "2            [Acetivibrio straminisolvens DSM 16021]  \n",
       "3  [Agrobacterium pusense DSM 22668, Allorhizobiu...  \n",
       "4  [Absidia coerulea JCM 5545, Absidia coerulea J...  "
      ],
      "text/html": [
       "<div>\n",
       "<style scoped>\n",
       "    .dataframe tbody tr th:only-of-type {\n",
       "        vertical-align: middle;\n",
       "    }\n",
       "\n",
       "    .dataframe tbody tr th {\n",
       "        vertical-align: top;\n",
       "    }\n",
       "\n",
       "    .dataframe thead th {\n",
       "        text-align: right;\n",
       "    }\n",
       "</style>\n",
       "<table border=\"1\" class=\"dataframe\">\n",
       "  <thead>\n",
       "    <tr style=\"text-align: right;\">\n",
       "      <th></th>\n",
       "      <th>Strains links</th>\n",
       "      <th>Strains Name</th>\n",
       "    </tr>\n",
       "  </thead>\n",
       "  <tbody>\n",
       "    <tr>\n",
       "      <th>0</th>\n",
       "      <td>https://mediadive.dsmz.de/strains/medium/J511</td>\n",
       "      <td>[Desulfogranum marinum DSM 2058]</td>\n",
       "    </tr>\n",
       "    <tr>\n",
       "      <th>1</th>\n",
       "      <td>https://mediadive.dsmz.de/strains/medium/J417</td>\n",
       "      <td>[Lebetimonas acidiphila DSM 16356]</td>\n",
       "    </tr>\n",
       "    <tr>\n",
       "      <th>2</th>\n",
       "      <td>https://mediadive.dsmz.de/strains/medium/J595</td>\n",
       "      <td>[Acetivibrio straminisolvens DSM 16021]</td>\n",
       "    </tr>\n",
       "    <tr>\n",
       "      <th>3</th>\n",
       "      <td>https://mediadive.dsmz.de/strains/medium/J254</td>\n",
       "      <td>[Agrobacterium pusense DSM 22668, Allorhizobiu...</td>\n",
       "    </tr>\n",
       "    <tr>\n",
       "      <th>4</th>\n",
       "      <td>https://mediadive.dsmz.de/strains/medium/J30</td>\n",
       "      <td>[Absidia coerulea JCM 5545, Absidia coerulea J...</td>\n",
       "    </tr>\n",
       "  </tbody>\n",
       "</table>\n",
       "</div>"
      ]
     },
     "execution_count": 29,
     "metadata": {},
     "output_type": "execute_result"
    }
   ],
   "execution_count": 29
  },
  {
   "metadata": {
    "ExecuteTime": {
     "end_time": "2024-06-12T06:26:04.885237Z",
     "start_time": "2024-06-12T06:26:04.847451Z"
    }
   },
   "cell_type": "code",
   "source": [
    "merged_merged_merged_df = pd.merge(merged_merged_df, strainslink_df_new, on='Strains links', how='left').fillna(\"\")\n",
    "# Clean up the resulting columns\n",
    "merged_merged_merged_df['Strains Name'] = merged_merged_merged_df.apply(\n",
    "    lambda row: row['Strains Name_y'] if row['Strains links'] in undone_strains_links else row['Strains Name_x'],\n",
    "    axis=1\n",
    ")\n",
    "merged_merged_merged_df"
   ],
   "id": "edc9308efc07e957",
   "outputs": [
    {
     "data": {
      "text/plain": [
       "      ID  Source                                        Name  \\\n",
       "0      1    DSMZ                               NUTRIENT AGAR   \n",
       "1     1a    DSMZ           REACTIVATION WITH LIQUID MEDIUM 1   \n",
       "2      2    DSMZ                   BACILLUS PASTEURII MEDIUM   \n",
       "3      3    DSMZ                          AZOTOBACTER MEDIUM   \n",
       "4      6    DSMZ                    ALLANTOIN MINERAL MEDIUM   \n",
       "...   ..     ...                                         ...   \n",
       "3308  P5  public  RS Medium - Nutrient Medium (NM) Component   \n",
       "3309  P6  public                                       mTA10   \n",
       "3310  P7  public     N27 RHODOSPIRILLACEAE MEDIUM (modified)   \n",
       "3311  P8  public                               M9-SNG medium   \n",
       "3312  P9  public                              PDB-SNG medium   \n",
       "\n",
       "                                Name Link     Type Complex Medium Final PH  \\\n",
       "0      https://mediadive.dsmz.de/medium/1  complex            yes      7.0   \n",
       "1     https://mediadive.dsmz.de/medium/1a  complex            yes      7.0   \n",
       "2      https://mediadive.dsmz.de/medium/2  complex            yes            \n",
       "3      https://mediadive.dsmz.de/medium/3  defined             no      7.3   \n",
       "4      https://mediadive.dsmz.de/medium/6  complex            yes            \n",
       "...                                   ...      ...            ...      ...   \n",
       "3308  https://mediadive.dsmz.de/medium/P5  complex            yes      7.0   \n",
       "3309  https://mediadive.dsmz.de/medium/P6  complex            yes      7.2   \n",
       "3310  https://mediadive.dsmz.de/medium/P7  complex            yes      6.8   \n",
       "3311  https://mediadive.dsmz.de/medium/P8  complex            yes      7.2   \n",
       "3312  https://mediadive.dsmz.de/medium/P9  complex            yes      7.2   \n",
       "\n",
       "     min pH max pH      Tax.range type  ...  \\\n",
       "0       7.0    7.0  [Bacteria, Phages]  ...   \n",
       "1       7.0    7.0          [Bacteria]  ...   \n",
       "2                           [Bacteria]  ...   \n",
       "3       7.3    7.3          [Bacteria]  ...   \n",
       "4                           [Bacteria]  ...   \n",
       "...     ...    ...                 ...  ...   \n",
       "3308    7.0    7.0                  []  ...   \n",
       "3309    7.2    7.2                  []  ...   \n",
       "3310    6.8    6.8                  []  ...   \n",
       "3311    7.2    7.2                  []  ...   \n",
       "3312    7.2    7.2                  []  ...   \n",
       "\n",
       "                                    Strains links  \\\n",
       "0      https://mediadive.dsmz.de/strains/medium/1   \n",
       "1     https://mediadive.dsmz.de/strains/medium/1a   \n",
       "2      https://mediadive.dsmz.de/strains/medium/2   \n",
       "3      https://mediadive.dsmz.de/strains/medium/3   \n",
       "4      https://mediadive.dsmz.de/strains/medium/6   \n",
       "...                                           ...   \n",
       "3308                                                \n",
       "3309                                                \n",
       "3310                                                \n",
       "3311                                                \n",
       "3312                                                \n",
       "\n",
       "                                   PDF Last modified  \\\n",
       "0      https://mediadive.dsmz.de/pdf/1      20.09.22   \n",
       "1     https://mediadive.dsmz.de/pdf/1a      22.02.22   \n",
       "2      https://mediadive.dsmz.de/pdf/2      04.02.22   \n",
       "3      https://mediadive.dsmz.de/pdf/3      22.02.22   \n",
       "4      https://mediadive.dsmz.de/pdf/6      30.11.23   \n",
       "...                                ...           ...   \n",
       "3308  https://mediadive.dsmz.de/pdf/P5      30.06.23   \n",
       "3309  https://mediadive.dsmz.de/pdf/P6      01.11.23   \n",
       "3310  https://mediadive.dsmz.de/pdf/P7      02.11.23   \n",
       "3311  https://mediadive.dsmz.de/pdf/P8      09.01.24   \n",
       "3312  https://mediadive.dsmz.de/pdf/P9      09.01.24   \n",
       "\n",
       "                            Related media ID for medium  \\\n",
       "0     [1, a, 2, 114, 115, a, 118, 238, 241, 258, 302...   \n",
       "1     [1, a, 2, 114, 115, a, 118, 238, 241, 258, 302...   \n",
       "2     [1, a, 2, 114, 115, a, 118, 238, 241, 258, 302...   \n",
       "3                                                    []   \n",
       "4                                                    []   \n",
       "...                                                 ...   \n",
       "3308                                                 []   \n",
       "3309                                                 []   \n",
       "3310                                                 []   \n",
       "3311                                                 []   \n",
       "3312                                                 []   \n",
       "\n",
       "                          Related media name for medium  \\\n",
       "0     [\"NUTRIENT AGAR\", \"REACTIVATION WITH LIQUID ME...   \n",
       "1     [\"NUTRIENT AGAR\", \"REACTIVATION WITH LIQUID ME...   \n",
       "2     [\"NUTRIENT AGAR\", \"REACTIVATION WITH LIQUID ME...   \n",
       "3                                                    []   \n",
       "4                                                    []   \n",
       "...                                                 ...   \n",
       "3308                                                 []   \n",
       "3309                                                 []   \n",
       "3310                                                 []   \n",
       "3311                                                 []   \n",
       "3312                                                 []   \n",
       "\n",
       "     Strains with modifications  \\\n",
       "0                           183   \n",
       "1                             9   \n",
       "2                                 \n",
       "3                                 \n",
       "4                             1   \n",
       "...                         ...   \n",
       "3308                              \n",
       "3309                              \n",
       "3310                              \n",
       "3311                              \n",
       "3312                              \n",
       "\n",
       "                      Cultivation metadata from strains  \\\n",
       "0     [[halophily, non-halophilic, 7 strains], [halo...   \n",
       "1     [[pH, 6 - 8, 20 strains], [pH, 4 - 6, 14 strai...   \n",
       "2     [[phyla, 1, 9 strains], [temperature, mesophil...   \n",
       "3     [[phyla, 1, 40 strains], [temperature, mesophi...   \n",
       "4     [[phyla, 2, 22 strains], [temperature, mesophi...   \n",
       "...                                                 ...   \n",
       "3308                                                 []   \n",
       "3309                                                 []   \n",
       "3310                                                 []   \n",
       "3311                                                 []   \n",
       "3312                                                 []   \n",
       "\n",
       "                                         Strains Name_x Strains Name_y  \\\n",
       "0     ['Gottschalkia' methylica DSM 21470, Acerihabi...                  \n",
       "1     [Achromobacter sp. DSM 26587, Acidovorax avena...                  \n",
       "2     [Sporosarcina pasteurii DSM 276, Sporosarcina ...                  \n",
       "3     [Azomonas agilis DSM 89, Azomonas agilis DSM 3...                  \n",
       "4     [Bacillus sp. DSM 1302, Bacillus sp. DSM 1303,...                  \n",
       "...                                                 ...            ...   \n",
       "3308                                                                     \n",
       "3309                                                                     \n",
       "3310                                                                     \n",
       "3311                                                                     \n",
       "3312                                                                     \n",
       "\n",
       "                                           Strains Name  \n",
       "0     ['Gottschalkia' methylica DSM 21470, Acerihabi...  \n",
       "1     [Achromobacter sp. DSM 26587, Acidovorax avena...  \n",
       "2     [Sporosarcina pasteurii DSM 276, Sporosarcina ...  \n",
       "3     [Azomonas agilis DSM 89, Azomonas agilis DSM 3...  \n",
       "4     [Bacillus sp. DSM 1302, Bacillus sp. DSM 1303,...  \n",
       "...                                                 ...  \n",
       "3308                                                     \n",
       "3309                                                     \n",
       "3310                                                     \n",
       "3311                                                     \n",
       "3312                                                     \n",
       "\n",
       "[3313 rows x 21 columns]"
      ],
      "text/html": [
       "<div>\n",
       "<style scoped>\n",
       "    .dataframe tbody tr th:only-of-type {\n",
       "        vertical-align: middle;\n",
       "    }\n",
       "\n",
       "    .dataframe tbody tr th {\n",
       "        vertical-align: top;\n",
       "    }\n",
       "\n",
       "    .dataframe thead th {\n",
       "        text-align: right;\n",
       "    }\n",
       "</style>\n",
       "<table border=\"1\" class=\"dataframe\">\n",
       "  <thead>\n",
       "    <tr style=\"text-align: right;\">\n",
       "      <th></th>\n",
       "      <th>ID</th>\n",
       "      <th>Source</th>\n",
       "      <th>Name</th>\n",
       "      <th>Name Link</th>\n",
       "      <th>Type</th>\n",
       "      <th>Complex Medium</th>\n",
       "      <th>Final PH</th>\n",
       "      <th>min pH</th>\n",
       "      <th>max pH</th>\n",
       "      <th>Tax.range type</th>\n",
       "      <th>...</th>\n",
       "      <th>Strains links</th>\n",
       "      <th>PDF</th>\n",
       "      <th>Last modified</th>\n",
       "      <th>Related media ID for medium</th>\n",
       "      <th>Related media name for medium</th>\n",
       "      <th>Strains with modifications</th>\n",
       "      <th>Cultivation metadata from strains</th>\n",
       "      <th>Strains Name_x</th>\n",
       "      <th>Strains Name_y</th>\n",
       "      <th>Strains Name</th>\n",
       "    </tr>\n",
       "  </thead>\n",
       "  <tbody>\n",
       "    <tr>\n",
       "      <th>0</th>\n",
       "      <td>1</td>\n",
       "      <td>DSMZ</td>\n",
       "      <td>NUTRIENT AGAR</td>\n",
       "      <td>https://mediadive.dsmz.de/medium/1</td>\n",
       "      <td>complex</td>\n",
       "      <td>yes</td>\n",
       "      <td>7.0</td>\n",
       "      <td>7.0</td>\n",
       "      <td>7.0</td>\n",
       "      <td>[Bacteria, Phages]</td>\n",
       "      <td>...</td>\n",
       "      <td>https://mediadive.dsmz.de/strains/medium/1</td>\n",
       "      <td>https://mediadive.dsmz.de/pdf/1</td>\n",
       "      <td>20.09.22</td>\n",
       "      <td>[1, a, 2, 114, 115, a, 118, 238, 241, 258, 302...</td>\n",
       "      <td>[\"NUTRIENT AGAR\", \"REACTIVATION WITH LIQUID ME...</td>\n",
       "      <td>183</td>\n",
       "      <td>[[halophily, non-halophilic, 7 strains], [halo...</td>\n",
       "      <td>['Gottschalkia' methylica DSM 21470, Acerihabi...</td>\n",
       "      <td></td>\n",
       "      <td>['Gottschalkia' methylica DSM 21470, Acerihabi...</td>\n",
       "    </tr>\n",
       "    <tr>\n",
       "      <th>1</th>\n",
       "      <td>1a</td>\n",
       "      <td>DSMZ</td>\n",
       "      <td>REACTIVATION WITH LIQUID MEDIUM 1</td>\n",
       "      <td>https://mediadive.dsmz.de/medium/1a</td>\n",
       "      <td>complex</td>\n",
       "      <td>yes</td>\n",
       "      <td>7.0</td>\n",
       "      <td>7.0</td>\n",
       "      <td>7.0</td>\n",
       "      <td>[Bacteria]</td>\n",
       "      <td>...</td>\n",
       "      <td>https://mediadive.dsmz.de/strains/medium/1a</td>\n",
       "      <td>https://mediadive.dsmz.de/pdf/1a</td>\n",
       "      <td>22.02.22</td>\n",
       "      <td>[1, a, 2, 114, 115, a, 118, 238, 241, 258, 302...</td>\n",
       "      <td>[\"NUTRIENT AGAR\", \"REACTIVATION WITH LIQUID ME...</td>\n",
       "      <td>9</td>\n",
       "      <td>[[pH, 6 - 8, 20 strains], [pH, 4 - 6, 14 strai...</td>\n",
       "      <td>[Achromobacter sp. DSM 26587, Acidovorax avena...</td>\n",
       "      <td></td>\n",
       "      <td>[Achromobacter sp. DSM 26587, Acidovorax avena...</td>\n",
       "    </tr>\n",
       "    <tr>\n",
       "      <th>2</th>\n",
       "      <td>2</td>\n",
       "      <td>DSMZ</td>\n",
       "      <td>BACILLUS PASTEURII MEDIUM</td>\n",
       "      <td>https://mediadive.dsmz.de/medium/2</td>\n",
       "      <td>complex</td>\n",
       "      <td>yes</td>\n",
       "      <td></td>\n",
       "      <td></td>\n",
       "      <td></td>\n",
       "      <td>[Bacteria]</td>\n",
       "      <td>...</td>\n",
       "      <td>https://mediadive.dsmz.de/strains/medium/2</td>\n",
       "      <td>https://mediadive.dsmz.de/pdf/2</td>\n",
       "      <td>04.02.22</td>\n",
       "      <td>[1, a, 2, 114, 115, a, 118, 238, 241, 258, 302...</td>\n",
       "      <td>[\"NUTRIENT AGAR\", \"REACTIVATION WITH LIQUID ME...</td>\n",
       "      <td></td>\n",
       "      <td>[[phyla, 1, 9 strains], [temperature, mesophil...</td>\n",
       "      <td>[Sporosarcina pasteurii DSM 276, Sporosarcina ...</td>\n",
       "      <td></td>\n",
       "      <td>[Sporosarcina pasteurii DSM 276, Sporosarcina ...</td>\n",
       "    </tr>\n",
       "    <tr>\n",
       "      <th>3</th>\n",
       "      <td>3</td>\n",
       "      <td>DSMZ</td>\n",
       "      <td>AZOTOBACTER MEDIUM</td>\n",
       "      <td>https://mediadive.dsmz.de/medium/3</td>\n",
       "      <td>defined</td>\n",
       "      <td>no</td>\n",
       "      <td>7.3</td>\n",
       "      <td>7.3</td>\n",
       "      <td>7.3</td>\n",
       "      <td>[Bacteria]</td>\n",
       "      <td>...</td>\n",
       "      <td>https://mediadive.dsmz.de/strains/medium/3</td>\n",
       "      <td>https://mediadive.dsmz.de/pdf/3</td>\n",
       "      <td>22.02.22</td>\n",
       "      <td>[]</td>\n",
       "      <td>[]</td>\n",
       "      <td></td>\n",
       "      <td>[[phyla, 1, 40 strains], [temperature, mesophi...</td>\n",
       "      <td>[Azomonas agilis DSM 89, Azomonas agilis DSM 3...</td>\n",
       "      <td></td>\n",
       "      <td>[Azomonas agilis DSM 89, Azomonas agilis DSM 3...</td>\n",
       "    </tr>\n",
       "    <tr>\n",
       "      <th>4</th>\n",
       "      <td>6</td>\n",
       "      <td>DSMZ</td>\n",
       "      <td>ALLANTOIN MINERAL MEDIUM</td>\n",
       "      <td>https://mediadive.dsmz.de/medium/6</td>\n",
       "      <td>complex</td>\n",
       "      <td>yes</td>\n",
       "      <td></td>\n",
       "      <td></td>\n",
       "      <td></td>\n",
       "      <td>[Bacteria]</td>\n",
       "      <td>...</td>\n",
       "      <td>https://mediadive.dsmz.de/strains/medium/6</td>\n",
       "      <td>https://mediadive.dsmz.de/pdf/6</td>\n",
       "      <td>30.11.23</td>\n",
       "      <td>[]</td>\n",
       "      <td>[]</td>\n",
       "      <td>1</td>\n",
       "      <td>[[phyla, 2, 22 strains], [temperature, mesophi...</td>\n",
       "      <td>[Bacillus sp. DSM 1302, Bacillus sp. DSM 1303,...</td>\n",
       "      <td></td>\n",
       "      <td>[Bacillus sp. DSM 1302, Bacillus sp. DSM 1303,...</td>\n",
       "    </tr>\n",
       "    <tr>\n",
       "      <th>...</th>\n",
       "      <td>...</td>\n",
       "      <td>...</td>\n",
       "      <td>...</td>\n",
       "      <td>...</td>\n",
       "      <td>...</td>\n",
       "      <td>...</td>\n",
       "      <td>...</td>\n",
       "      <td>...</td>\n",
       "      <td>...</td>\n",
       "      <td>...</td>\n",
       "      <td>...</td>\n",
       "      <td>...</td>\n",
       "      <td>...</td>\n",
       "      <td>...</td>\n",
       "      <td>...</td>\n",
       "      <td>...</td>\n",
       "      <td>...</td>\n",
       "      <td>...</td>\n",
       "      <td>...</td>\n",
       "      <td>...</td>\n",
       "      <td>...</td>\n",
       "    </tr>\n",
       "    <tr>\n",
       "      <th>3308</th>\n",
       "      <td>P5</td>\n",
       "      <td>public</td>\n",
       "      <td>RS Medium - Nutrient Medium (NM) Component</td>\n",
       "      <td>https://mediadive.dsmz.de/medium/P5</td>\n",
       "      <td>complex</td>\n",
       "      <td>yes</td>\n",
       "      <td>7.0</td>\n",
       "      <td>7.0</td>\n",
       "      <td>7.0</td>\n",
       "      <td>[]</td>\n",
       "      <td>...</td>\n",
       "      <td></td>\n",
       "      <td>https://mediadive.dsmz.de/pdf/P5</td>\n",
       "      <td>30.06.23</td>\n",
       "      <td>[]</td>\n",
       "      <td>[]</td>\n",
       "      <td></td>\n",
       "      <td>[]</td>\n",
       "      <td></td>\n",
       "      <td></td>\n",
       "      <td></td>\n",
       "    </tr>\n",
       "    <tr>\n",
       "      <th>3309</th>\n",
       "      <td>P6</td>\n",
       "      <td>public</td>\n",
       "      <td>mTA10</td>\n",
       "      <td>https://mediadive.dsmz.de/medium/P6</td>\n",
       "      <td>complex</td>\n",
       "      <td>yes</td>\n",
       "      <td>7.2</td>\n",
       "      <td>7.2</td>\n",
       "      <td>7.2</td>\n",
       "      <td>[]</td>\n",
       "      <td>...</td>\n",
       "      <td></td>\n",
       "      <td>https://mediadive.dsmz.de/pdf/P6</td>\n",
       "      <td>01.11.23</td>\n",
       "      <td>[]</td>\n",
       "      <td>[]</td>\n",
       "      <td></td>\n",
       "      <td>[]</td>\n",
       "      <td></td>\n",
       "      <td></td>\n",
       "      <td></td>\n",
       "    </tr>\n",
       "    <tr>\n",
       "      <th>3310</th>\n",
       "      <td>P7</td>\n",
       "      <td>public</td>\n",
       "      <td>N27 RHODOSPIRILLACEAE MEDIUM (modified)</td>\n",
       "      <td>https://mediadive.dsmz.de/medium/P7</td>\n",
       "      <td>complex</td>\n",
       "      <td>yes</td>\n",
       "      <td>6.8</td>\n",
       "      <td>6.8</td>\n",
       "      <td>6.8</td>\n",
       "      <td>[]</td>\n",
       "      <td>...</td>\n",
       "      <td></td>\n",
       "      <td>https://mediadive.dsmz.de/pdf/P7</td>\n",
       "      <td>02.11.23</td>\n",
       "      <td>[]</td>\n",
       "      <td>[]</td>\n",
       "      <td></td>\n",
       "      <td>[]</td>\n",
       "      <td></td>\n",
       "      <td></td>\n",
       "      <td></td>\n",
       "    </tr>\n",
       "    <tr>\n",
       "      <th>3311</th>\n",
       "      <td>P8</td>\n",
       "      <td>public</td>\n",
       "      <td>M9-SNG medium</td>\n",
       "      <td>https://mediadive.dsmz.de/medium/P8</td>\n",
       "      <td>complex</td>\n",
       "      <td>yes</td>\n",
       "      <td>7.2</td>\n",
       "      <td>7.2</td>\n",
       "      <td>7.2</td>\n",
       "      <td>[]</td>\n",
       "      <td>...</td>\n",
       "      <td></td>\n",
       "      <td>https://mediadive.dsmz.de/pdf/P8</td>\n",
       "      <td>09.01.24</td>\n",
       "      <td>[]</td>\n",
       "      <td>[]</td>\n",
       "      <td></td>\n",
       "      <td>[]</td>\n",
       "      <td></td>\n",
       "      <td></td>\n",
       "      <td></td>\n",
       "    </tr>\n",
       "    <tr>\n",
       "      <th>3312</th>\n",
       "      <td>P9</td>\n",
       "      <td>public</td>\n",
       "      <td>PDB-SNG medium</td>\n",
       "      <td>https://mediadive.dsmz.de/medium/P9</td>\n",
       "      <td>complex</td>\n",
       "      <td>yes</td>\n",
       "      <td>7.2</td>\n",
       "      <td>7.2</td>\n",
       "      <td>7.2</td>\n",
       "      <td>[]</td>\n",
       "      <td>...</td>\n",
       "      <td></td>\n",
       "      <td>https://mediadive.dsmz.de/pdf/P9</td>\n",
       "      <td>09.01.24</td>\n",
       "      <td>[]</td>\n",
       "      <td>[]</td>\n",
       "      <td></td>\n",
       "      <td>[]</td>\n",
       "      <td></td>\n",
       "      <td></td>\n",
       "      <td></td>\n",
       "    </tr>\n",
       "  </tbody>\n",
       "</table>\n",
       "<p>3313 rows × 21 columns</p>\n",
       "</div>"
      ]
     },
     "execution_count": 34,
     "metadata": {},
     "output_type": "execute_result"
    }
   ],
   "execution_count": 34
  },
  {
   "metadata": {},
   "cell_type": "code",
   "outputs": [],
   "execution_count": null,
   "source": "",
   "id": "e31c18ef03e86505"
  },
  {
   "metadata": {
    "ExecuteTime": {
     "end_time": "2024-06-12T06:26:12.574194Z",
     "start_time": "2024-06-12T06:26:12.507350Z"
    }
   },
   "cell_type": "code",
   "source": [
    "\n",
    "\n",
    "merged_merged_merged_df.to_csv('media.csv', index=False)"
   ],
   "id": "a6231c5aff47116a",
   "outputs": [],
   "execution_count": 35
  },
  {
   "metadata": {
    "ExecuteTime": {
     "end_time": "2024-06-12T06:26:16.236379Z",
     "start_time": "2024-06-12T06:26:16.190906Z"
    }
   },
   "cell_type": "code",
   "source": [
    "# Create a list of undone Strains links\n",
    "undone_strains_links = merged_merged_merged_df[merged_merged_merged_df.apply(is_undone, axis=1)]['Strains links'].tolist()\n",
    "undone_strains_nums = merged_merged_merged_df[merged_merged_merged_df.apply(is_undone, axis=1)]['Strains number'].tolist()\n",
    "\n",
    "print(undone_strains_links)\n",
    "print(undone_strains_nums)"
   ],
   "id": "2d249cb84081aeeb",
   "outputs": [
    {
     "name": "stdout",
     "output_type": "stream",
     "text": [
      "[]\n",
      "[]\n"
     ]
    }
   ],
   "execution_count": 36
  },
  {
   "metadata": {},
   "cell_type": "code",
   "outputs": [],
   "execution_count": null,
   "source": "",
   "id": "4f97062794226724"
  }
 ],
 "metadata": {
  "kernelspec": {
   "display_name": "Python 3",
   "language": "python",
   "name": "python3"
  },
  "language_info": {
   "codemirror_mode": {
    "name": "ipython",
    "version": 2
   },
   "file_extension": ".py",
   "mimetype": "text/x-python",
   "name": "python",
   "nbconvert_exporter": "python",
   "pygments_lexer": "ipython2",
   "version": "2.7.6"
  }
 },
 "nbformat": 4,
 "nbformat_minor": 5
}
