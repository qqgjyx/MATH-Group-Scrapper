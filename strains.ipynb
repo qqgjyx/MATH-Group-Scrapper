{
 "cells": [
  {
   "cell_type": "code",
   "id": "initial_id",
   "metadata": {
    "collapsed": true,
    "ExecuteTime": {
     "end_time": "2024-06-14T12:28:30.876102Z",
     "start_time": "2024-06-14T12:28:30.603341Z"
    }
   },
   "source": [
    "import requests\n",
    "from bs4 import BeautifulSoup\n",
    "import pandas as pd\n",
    "import time\n",
    "from tqdm import tqdm\n",
    "from concurrent.futures import ThreadPoolExecutor, as_completed\n",
    "import re"
   ],
   "outputs": [],
   "execution_count": 1
  },
  {
   "metadata": {
    "ExecuteTime": {
     "end_time": "2024-06-14T12:30:58.673049Z",
     "start_time": "2024-06-14T12:28:30.879705Z"
    }
   },
   "cell_type": "code",
   "source": [
    "# Base URL of the webpage\n",
    "base_url = \"https://mediadive.dsmz.de\"\n",
    "\n",
    "\n",
    "# Function to extract data from a single page\n",
    "def extract_data_from_page(url, page, retries=5):\n",
    "    params = {\"p\": page}\n",
    "    for attempt in range(retries):\n",
    "        try:\n",
    "            response = requests.get(url, params=params)\n",
    "            response.raise_for_status()\n",
    "            soup = BeautifulSoup(response.content, 'html.parser')\n",
    "\n",
    "            data = []\n",
    "            table_rows = soup.find_all('tr')[1:]  # Skip the header row\n",
    "            for row in table_rows:\n",
    "                columns = row.find_all('td')\n",
    "                row_data = [page]  # Add the page number\n",
    "                \n",
    "                # Organism Group\n",
    "                organism_group = columns[0].get_text(strip=True)\n",
    "                row_data.append(organism_group)\n",
    "                \n",
    "                # Name and link\n",
    "                name_tag = columns[1].find('a')\n",
    "                name = name_tag.get_text(strip=True)\n",
    "                name_link = base_url + name_tag['href']\n",
    "                row_data.append(name)\n",
    "                row_data.append(name_link)\n",
    "                \n",
    "                dsm_no = name.split(' ')[-1]\n",
    "                row_data.append(dsm_no)\n",
    "                \n",
    "                # Taxonomy link\n",
    "                taxonomy_tag = columns[2].find('a')\n",
    "                taxonomy_link = base_url + taxonomy_tag['href'] if taxonomy_tag else None\n",
    "                row_data.append(taxonomy_link)\n",
    "                \n",
    "                # Growth Media links\n",
    "                growth_media = [a.get_text(strip=True) for a in columns[3].find_all('a')]\n",
    "                growth_media_links = [base_url + a['href'] for a in columns[3].find_all('a')]\n",
    "                row_data.append(growth_media)\n",
    "                row_data.append(growth_media_links)\n",
    "                \n",
    "                # External links\n",
    "                external_links = [a['href'] for a in columns[4].find_all('a')] if columns[4].find('a') else None\n",
    "                row_data.append(external_links)\n",
    "                dsmz_catalogue = columns[4].find_all('a')[0]['href'] if \"dsmz\" in columns[4].find_all('a')[0]['href'] else None\n",
    "                bacdive_link = columns[4].find_all('a')[1]['href'] if len(columns[4].find_all('a')) > 1 and \"bacdive\" in columns[4].find_all('a')[1]['href'] else None\n",
    "                row_data.append(dsmz_catalogue)\n",
    "                row_data.append(bacdive_link)\n",
    "                \n",
    "                data.append(row_data)\n",
    "\n",
    "            return data\n",
    "        except (requests.exceptions.RequestException, ConnectionResetError) as e:\n",
    "            print(f\"Error fetching page {page}: {e}. Retrying {attempt + 1}/{retries}...\")\n",
    "            time.sleep(1)  # Wait before retrying\n",
    "    return []\n",
    "\n",
    "\n",
    "# Main scraping process\n",
    "all_data = []\n",
    "num_pages = 2314  # Adjust the number of pages you want to scrape\n",
    "\n",
    "max_workers = 128  # Adjust based on the MacBook M3 Pro capabilities\n",
    "\n",
    "with ThreadPoolExecutor(max_workers=max_workers) as executor:\n",
    "    future_to_page = {executor.submit(extract_data_from_page, base_url + \"/strains\", page): page for page in\n",
    "                      range(1, num_pages + 1)}\n",
    "\n",
    "    for future in tqdm(as_completed(future_to_page), total=num_pages, desc=\"Extracting data from pages\"):\n",
    "        page_data = future.result()\n",
    "        all_data.extend(page_data)\n",
    "\n",
    "# Sort the data based on the page number to maintain the order\n",
    "all_data.sort(key=lambda x: x[0])\n",
    "\n",
    "# Create a DataFrame from the extracted data\n",
    "columns = [\"Page\", \"Organism Group\", \"Name\", \"Name Link\", \"DSM No.\",\"Taxonomy Link\", \"Growth media\", \"Growth Media Links\", \"external links\", \"DSMZ Catalogue\", \"Bacdive Link\"]\n",
    "df = pd.DataFrame(all_data, columns=columns)\n",
    "df.drop(columns=[\"Page\"], inplace=True)  # Remove the page column if not needed\n",
    "\n",
    "df"
   ],
   "id": "48871918fa4020fb",
   "outputs": [
    {
     "name": "stderr",
     "output_type": "stream",
     "text": [
      "Extracting data from pages: 100%|██████████| 2314/2314 [02:27<00:00, 15.68it/s]\n"
     ]
    },
    {
     "data": {
      "text/plain": [
       "      Organism Group                                               Name  \\\n",
       "0          Bacterium                       Heyndrickxia coagulans DSM 1   \n",
       "1          Bacterium  Paenibacillus macquariensis subsp. macquariens...   \n",
       "2          Bacterium                    Sporosarcina psychrophila DSM 3   \n",
       "3          Bacterium                      Sporosarcina globispora DSM 4   \n",
       "4          Bacterium                    Psychrobacillus insolitus DSM 5   \n",
       "...              ...                                                ...   \n",
       "46258                                         Phage (phagum) DSM 117437   \n",
       "46259                                         Phage (phagum) DSM 117679   \n",
       "46260                                         Phage (phagum) DSM 117680   \n",
       "46261                             Staphylococcus epidermidis DSM 117681   \n",
       "46262                             Staphylococcus epidermidis DSM 117682   \n",
       "\n",
       "                                               Name Link DSM No.  \\\n",
       "0           https://mediadive.dsmz.de/strains/view/DSM 1       1   \n",
       "1           https://mediadive.dsmz.de/strains/view/DSM 2       2   \n",
       "2           https://mediadive.dsmz.de/strains/view/DSM 3       3   \n",
       "3           https://mediadive.dsmz.de/strains/view/DSM 4       4   \n",
       "4           https://mediadive.dsmz.de/strains/view/DSM 5       5   \n",
       "...                                                  ...     ...   \n",
       "46258  https://mediadive.dsmz.de/strains/view/DSM 117437  117437   \n",
       "46259  https://mediadive.dsmz.de/strains/view/DSM 117679  117679   \n",
       "46260  https://mediadive.dsmz.de/strains/view/DSM 117680  117680   \n",
       "46261  https://mediadive.dsmz.de/strains/view/DSM 117681  117681   \n",
       "46262  https://mediadive.dsmz.de/strains/view/DSM 117682  117682   \n",
       "\n",
       "                                           Taxonomy Link   Growth media  \\\n",
       "0      https://mediadive.dsmz.de/taxonomy?level=speci...  [453, 1, J22]   \n",
       "1      https://mediadive.dsmz.de/taxonomy?level=speci...            [1]   \n",
       "2      https://mediadive.dsmz.de/taxonomy?level=speci...       [1, J22]   \n",
       "3      https://mediadive.dsmz.de/taxonomy?level=speci...     [514, J22]   \n",
       "4      https://mediadive.dsmz.de/taxonomy?level=speci...          [123]   \n",
       "...                                                  ...            ...   \n",
       "46258                                               None          [381]   \n",
       "46259                                               None           [92]   \n",
       "46260                                               None           [92]   \n",
       "46261                                               None           [92]   \n",
       "46262                                               None           [92]   \n",
       "\n",
       "                                      Growth Media Links  \\\n",
       "0      [https://mediadive.dsmz.de/medium/453, https:/...   \n",
       "1                   [https://mediadive.dsmz.de/medium/1]   \n",
       "2      [https://mediadive.dsmz.de/medium/1, https://m...   \n",
       "3      [https://mediadive.dsmz.de/medium/514, https:/...   \n",
       "4                 [https://mediadive.dsmz.de/medium/123]   \n",
       "...                                                  ...   \n",
       "46258             [https://mediadive.dsmz.de/medium/381]   \n",
       "46259              [https://mediadive.dsmz.de/medium/92]   \n",
       "46260              [https://mediadive.dsmz.de/medium/92]   \n",
       "46261              [https://mediadive.dsmz.de/medium/92]   \n",
       "46262              [https://mediadive.dsmz.de/medium/92]   \n",
       "\n",
       "                                          external links  \\\n",
       "0      [https://www.dsmz.de/collection/catalogue/deta...   \n",
       "1      [https://www.dsmz.de/collection/catalogue/deta...   \n",
       "2      [https://www.dsmz.de/collection/catalogue/deta...   \n",
       "3      [https://www.dsmz.de/collection/catalogue/deta...   \n",
       "4      [https://www.dsmz.de/collection/catalogue/deta...   \n",
       "...                                                  ...   \n",
       "46258  [https://www.dsmz.de/collection/catalogue/deta...   \n",
       "46259  [https://www.dsmz.de/collection/catalogue/deta...   \n",
       "46260  [https://www.dsmz.de/collection/catalogue/deta...   \n",
       "46261  [https://www.dsmz.de/collection/catalogue/deta...   \n",
       "46262  [https://www.dsmz.de/collection/catalogue/deta...   \n",
       "\n",
       "                                          DSMZ Catalogue  \\\n",
       "0      https://www.dsmz.de/collection/catalogue/detai...   \n",
       "1      https://www.dsmz.de/collection/catalogue/detai...   \n",
       "2      https://www.dsmz.de/collection/catalogue/detai...   \n",
       "3      https://www.dsmz.de/collection/catalogue/detai...   \n",
       "4      https://www.dsmz.de/collection/catalogue/detai...   \n",
       "...                                                  ...   \n",
       "46258  https://www.dsmz.de/collection/catalogue/detai...   \n",
       "46259  https://www.dsmz.de/collection/catalogue/detai...   \n",
       "46260  https://www.dsmz.de/collection/catalogue/detai...   \n",
       "46261  https://www.dsmz.de/collection/catalogue/detai...   \n",
       "46262  https://www.dsmz.de/collection/catalogue/detai...   \n",
       "\n",
       "                               Bacdive Link  \n",
       "0        https://bacdive.dsmz.de/strain/654  \n",
       "1      https://bacdive.dsmz.de/strain/11477  \n",
       "2      https://bacdive.dsmz.de/strain/11984  \n",
       "3      https://bacdive.dsmz.de/strain/11976  \n",
       "4       https://bacdive.dsmz.de/strain/1565  \n",
       "...                                     ...  \n",
       "46258                                  None  \n",
       "46259                                  None  \n",
       "46260                                  None  \n",
       "46261                                  None  \n",
       "46262                                  None  \n",
       "\n",
       "[46263 rows x 10 columns]"
      ],
      "text/html": [
       "<div>\n",
       "<style scoped>\n",
       "    .dataframe tbody tr th:only-of-type {\n",
       "        vertical-align: middle;\n",
       "    }\n",
       "\n",
       "    .dataframe tbody tr th {\n",
       "        vertical-align: top;\n",
       "    }\n",
       "\n",
       "    .dataframe thead th {\n",
       "        text-align: right;\n",
       "    }\n",
       "</style>\n",
       "<table border=\"1\" class=\"dataframe\">\n",
       "  <thead>\n",
       "    <tr style=\"text-align: right;\">\n",
       "      <th></th>\n",
       "      <th>Organism Group</th>\n",
       "      <th>Name</th>\n",
       "      <th>Name Link</th>\n",
       "      <th>DSM No.</th>\n",
       "      <th>Taxonomy Link</th>\n",
       "      <th>Growth media</th>\n",
       "      <th>Growth Media Links</th>\n",
       "      <th>external links</th>\n",
       "      <th>DSMZ Catalogue</th>\n",
       "      <th>Bacdive Link</th>\n",
       "    </tr>\n",
       "  </thead>\n",
       "  <tbody>\n",
       "    <tr>\n",
       "      <th>0</th>\n",
       "      <td>Bacterium</td>\n",
       "      <td>Heyndrickxia coagulans DSM 1</td>\n",
       "      <td>https://mediadive.dsmz.de/strains/view/DSM 1</td>\n",
       "      <td>1</td>\n",
       "      <td>https://mediadive.dsmz.de/taxonomy?level=speci...</td>\n",
       "      <td>[453, 1, J22]</td>\n",
       "      <td>[https://mediadive.dsmz.de/medium/453, https:/...</td>\n",
       "      <td>[https://www.dsmz.de/collection/catalogue/deta...</td>\n",
       "      <td>https://www.dsmz.de/collection/catalogue/detai...</td>\n",
       "      <td>https://bacdive.dsmz.de/strain/654</td>\n",
       "    </tr>\n",
       "    <tr>\n",
       "      <th>1</th>\n",
       "      <td>Bacterium</td>\n",
       "      <td>Paenibacillus macquariensis subsp. macquariens...</td>\n",
       "      <td>https://mediadive.dsmz.de/strains/view/DSM 2</td>\n",
       "      <td>2</td>\n",
       "      <td>https://mediadive.dsmz.de/taxonomy?level=speci...</td>\n",
       "      <td>[1]</td>\n",
       "      <td>[https://mediadive.dsmz.de/medium/1]</td>\n",
       "      <td>[https://www.dsmz.de/collection/catalogue/deta...</td>\n",
       "      <td>https://www.dsmz.de/collection/catalogue/detai...</td>\n",
       "      <td>https://bacdive.dsmz.de/strain/11477</td>\n",
       "    </tr>\n",
       "    <tr>\n",
       "      <th>2</th>\n",
       "      <td>Bacterium</td>\n",
       "      <td>Sporosarcina psychrophila DSM 3</td>\n",
       "      <td>https://mediadive.dsmz.de/strains/view/DSM 3</td>\n",
       "      <td>3</td>\n",
       "      <td>https://mediadive.dsmz.de/taxonomy?level=speci...</td>\n",
       "      <td>[1, J22]</td>\n",
       "      <td>[https://mediadive.dsmz.de/medium/1, https://m...</td>\n",
       "      <td>[https://www.dsmz.de/collection/catalogue/deta...</td>\n",
       "      <td>https://www.dsmz.de/collection/catalogue/detai...</td>\n",
       "      <td>https://bacdive.dsmz.de/strain/11984</td>\n",
       "    </tr>\n",
       "    <tr>\n",
       "      <th>3</th>\n",
       "      <td>Bacterium</td>\n",
       "      <td>Sporosarcina globispora DSM 4</td>\n",
       "      <td>https://mediadive.dsmz.de/strains/view/DSM 4</td>\n",
       "      <td>4</td>\n",
       "      <td>https://mediadive.dsmz.de/taxonomy?level=speci...</td>\n",
       "      <td>[514, J22]</td>\n",
       "      <td>[https://mediadive.dsmz.de/medium/514, https:/...</td>\n",
       "      <td>[https://www.dsmz.de/collection/catalogue/deta...</td>\n",
       "      <td>https://www.dsmz.de/collection/catalogue/detai...</td>\n",
       "      <td>https://bacdive.dsmz.de/strain/11976</td>\n",
       "    </tr>\n",
       "    <tr>\n",
       "      <th>4</th>\n",
       "      <td>Bacterium</td>\n",
       "      <td>Psychrobacillus insolitus DSM 5</td>\n",
       "      <td>https://mediadive.dsmz.de/strains/view/DSM 5</td>\n",
       "      <td>5</td>\n",
       "      <td>https://mediadive.dsmz.de/taxonomy?level=speci...</td>\n",
       "      <td>[123]</td>\n",
       "      <td>[https://mediadive.dsmz.de/medium/123]</td>\n",
       "      <td>[https://www.dsmz.de/collection/catalogue/deta...</td>\n",
       "      <td>https://www.dsmz.de/collection/catalogue/detai...</td>\n",
       "      <td>https://bacdive.dsmz.de/strain/1565</td>\n",
       "    </tr>\n",
       "    <tr>\n",
       "      <th>...</th>\n",
       "      <td>...</td>\n",
       "      <td>...</td>\n",
       "      <td>...</td>\n",
       "      <td>...</td>\n",
       "      <td>...</td>\n",
       "      <td>...</td>\n",
       "      <td>...</td>\n",
       "      <td>...</td>\n",
       "      <td>...</td>\n",
       "      <td>...</td>\n",
       "    </tr>\n",
       "    <tr>\n",
       "      <th>46258</th>\n",
       "      <td></td>\n",
       "      <td>Phage (phagum) DSM 117437</td>\n",
       "      <td>https://mediadive.dsmz.de/strains/view/DSM 117437</td>\n",
       "      <td>117437</td>\n",
       "      <td>None</td>\n",
       "      <td>[381]</td>\n",
       "      <td>[https://mediadive.dsmz.de/medium/381]</td>\n",
       "      <td>[https://www.dsmz.de/collection/catalogue/deta...</td>\n",
       "      <td>https://www.dsmz.de/collection/catalogue/detai...</td>\n",
       "      <td>None</td>\n",
       "    </tr>\n",
       "    <tr>\n",
       "      <th>46259</th>\n",
       "      <td></td>\n",
       "      <td>Phage (phagum) DSM 117679</td>\n",
       "      <td>https://mediadive.dsmz.de/strains/view/DSM 117679</td>\n",
       "      <td>117679</td>\n",
       "      <td>None</td>\n",
       "      <td>[92]</td>\n",
       "      <td>[https://mediadive.dsmz.de/medium/92]</td>\n",
       "      <td>[https://www.dsmz.de/collection/catalogue/deta...</td>\n",
       "      <td>https://www.dsmz.de/collection/catalogue/detai...</td>\n",
       "      <td>None</td>\n",
       "    </tr>\n",
       "    <tr>\n",
       "      <th>46260</th>\n",
       "      <td></td>\n",
       "      <td>Phage (phagum) DSM 117680</td>\n",
       "      <td>https://mediadive.dsmz.de/strains/view/DSM 117680</td>\n",
       "      <td>117680</td>\n",
       "      <td>None</td>\n",
       "      <td>[92]</td>\n",
       "      <td>[https://mediadive.dsmz.de/medium/92]</td>\n",
       "      <td>[https://www.dsmz.de/collection/catalogue/deta...</td>\n",
       "      <td>https://www.dsmz.de/collection/catalogue/detai...</td>\n",
       "      <td>None</td>\n",
       "    </tr>\n",
       "    <tr>\n",
       "      <th>46261</th>\n",
       "      <td></td>\n",
       "      <td>Staphylococcus epidermidis DSM 117681</td>\n",
       "      <td>https://mediadive.dsmz.de/strains/view/DSM 117681</td>\n",
       "      <td>117681</td>\n",
       "      <td>None</td>\n",
       "      <td>[92]</td>\n",
       "      <td>[https://mediadive.dsmz.de/medium/92]</td>\n",
       "      <td>[https://www.dsmz.de/collection/catalogue/deta...</td>\n",
       "      <td>https://www.dsmz.de/collection/catalogue/detai...</td>\n",
       "      <td>None</td>\n",
       "    </tr>\n",
       "    <tr>\n",
       "      <th>46262</th>\n",
       "      <td></td>\n",
       "      <td>Staphylococcus epidermidis DSM 117682</td>\n",
       "      <td>https://mediadive.dsmz.de/strains/view/DSM 117682</td>\n",
       "      <td>117682</td>\n",
       "      <td>None</td>\n",
       "      <td>[92]</td>\n",
       "      <td>[https://mediadive.dsmz.de/medium/92]</td>\n",
       "      <td>[https://www.dsmz.de/collection/catalogue/deta...</td>\n",
       "      <td>https://www.dsmz.de/collection/catalogue/detai...</td>\n",
       "      <td>None</td>\n",
       "    </tr>\n",
       "  </tbody>\n",
       "</table>\n",
       "<p>46263 rows × 10 columns</p>\n",
       "</div>"
      ]
     },
     "execution_count": 2,
     "metadata": {},
     "output_type": "execute_result"
    }
   ],
   "execution_count": 2
  },
  {
   "metadata": {
    "ExecuteTime": {
     "end_time": "2024-06-14T12:47:33.983499Z",
     "start_time": "2024-06-14T12:30:58.673790Z"
    }
   },
   "cell_type": "code",
   "source": [
    "# Function to fetch HTML content and parse it with BeautifulSoup\n",
    "def fetch_html_structure(url, retries=5):\n",
    "    for attempt in range(retries):\n",
    "        try:\n",
    "            response = requests.get(url)\n",
    "            response.raise_for_status()\n",
    "            soup = BeautifulSoup(response.content, 'html.parser')\n",
    "            return soup\n",
    "        except (requests.exceptions.RequestException, ConnectionResetError) as e:\n",
    "            print(f\"Error fetching HTML content from {url}: {e}. Retrying {attempt + 1}/{retries}...\")\n",
    "            time.sleep(5)  # Wait before retrying\n",
    "    return None\n",
    "\n",
    "\n",
    "# Function to extract key data from the parsed HTML content\n",
    "def extract_key_data(soup):\n",
    "    if not soup:\n",
    "        return None\n",
    "    \n",
    "    title = soup.find('title').text.strip() if soup.find('title') else 'N/A'\n",
    "    strain_name = soup.find('h2').text.strip() if soup.find('h2') else 'N/A'\n",
    "    synonyms = []\n",
    "    paragraphs = soup.find_all('p')\n",
    "    for p in paragraphs:\n",
    "        bold_text = p.find('b', string='Synonyms:')\n",
    "        if bold_text:\n",
    "            for content in p.contents:\n",
    "                if content.name == 'a':\n",
    "                    synonyms.append(content.get_text(strip=True))\n",
    "                    synonyms.append('href: ' + content.get('href'))\n",
    "                elif isinstance(content, str) and content.strip():\n",
    "                    synonyms.extend(content.strip().split(', '))\n",
    "            break\n",
    "    \n",
    "    media_details = []\n",
    "    media_boxes = soup.find_all('div', class_='box')\n",
    "    for box in media_boxes:\n",
    "        media_title = box.find('h3', class_='title').text.strip() if box.find('h3', 'title') else 'N/A'\n",
    "        media_link = box.find('a', class_='link colorless')['href'] if box.find('a', 'link colorless') else 'N/A'\n",
    "        growth_observed = 'Yes' if box.find('i', class_='ph ph-lg ph-check text-success') else 'No'\n",
    "        growth_conditions = box.find('span', class_='badge danger').text.strip() if box.find('span', 'badge danger') else 'N/A'\n",
    "        \n",
    "        media_details.append({\n",
    "            'media_title': media_title,\n",
    "            'media_link': media_link,\n",
    "            'growth_observed': growth_observed,\n",
    "            'growth_conditions': growth_conditions\n",
    "        })\n",
    "\n",
    "    return {\n",
    "        'title': title,\n",
    "        'strain_name': strain_name,\n",
    "        'synonyms': synonyms,\n",
    "        'media_details': media_details\n",
    "    }\n",
    "\n",
    "# Function to extract strain details from a row of the DataFrame\n",
    "def extract_strain_details(row):\n",
    "    url = row['Name Link']\n",
    "    soup = fetch_html_structure(url)\n",
    "    return extract_key_data(soup)\n",
    "\n",
    "# Load the initial DataFrame (assuming it's loaded in variable df)\n",
    "# df = pd.read_csv('initial_data.csv')  # Load your initial DataFrame here\n",
    "\n",
    "# Initialize an empty list to hold detailed data\n",
    "detailed_data = []\n",
    "num_strains = df.shape[0]\n",
    "max_workers = 128  # Adjust the number of workers as needed\n",
    "\n",
    "# Extract detailed information for each strain with ThreadPoolExecutor\n",
    "with ThreadPoolExecutor(max_workers=max_workers) as executor:\n",
    "    future_to_index = {executor.submit(extract_strain_details, row): index for index, row in df.iterrows()}\n",
    "    \n",
    "    for future in tqdm(as_completed(future_to_index), total=num_strains, desc=\"Extracting strain details\"):\n",
    "        index = future_to_index[future]\n",
    "        strain_details = future.result()\n",
    "        if strain_details:\n",
    "            detailed_data.append({\n",
    "                \"Name\": df.loc[index, 'Name'],\n",
    "                \"Synonyms\": ', '.join(strain_details['synonyms']),\n",
    "                \"Growth Conditions\": strain_details['media_details']\n",
    "            })\n",
    "            \n",
    "\n",
    "# # Sort the detailed data based on the Name to maintain order\n",
    "# detailed_data.sort(key=lambda x: int(x['Name'].split(' ')[-1]))\n",
    "\n",
    "# Create the final detailed DataFrame\n",
    "df_detailed = pd.DataFrame(detailed_data)\n",
    "merged_df = pd.merge(df, df_detailed, on=\"Name\", how='left')\n",
    "\n",
    "merged_df"
   ],
   "id": "b1f2394e09dfeda9",
   "outputs": [
    {
     "name": "stderr",
     "output_type": "stream",
     "text": [
      "Extracting strain details:  11%|█▏        | 5251/46263 [01:48<24:22, 28.05it/s]"
     ]
    },
    {
     "name": "stdout",
     "output_type": "stream",
     "text": [
      "Error fetching HTML content from https://mediadive.dsmz.de/strains/view/DSM 10125: HTTPSConnectionPool(host='mediadive.dsmz.de', port=443): Max retries exceeded with url: /strains/view/DSM%2010125 (Caused by NameResolutionError(\"<urllib3.connection.HTTPSConnection object at 0x1310358d0>: Failed to resolve 'mediadive.dsmz.de' ([Errno 8] nodename nor servname provided, or not known)\")). Retrying 1/5...\n"
     ]
    },
    {
     "name": "stderr",
     "output_type": "stream",
     "text": [
      "Extracting strain details:  17%|█▋        | 7653/46263 [02:37<10:13, 62.98it/s]"
     ]
    },
    {
     "name": "stdout",
     "output_type": "stream",
     "text": [
      "Error fetching HTML content from https://mediadive.dsmz.de/strains/view/DSM 15300: HTTPSConnectionPool(host='mediadive.dsmz.de', port=443): Max retries exceeded with url: /strains/view/DSM%2015300 (Caused by NameResolutionError(\"<urllib3.connection.HTTPSConnection object at 0x15c45a860>: Failed to resolve 'mediadive.dsmz.de' ([Errno 8] nodename nor servname provided, or not known)\")). Retrying 1/5...\n"
     ]
    },
    {
     "name": "stderr",
     "output_type": "stream",
     "text": [
      "Extracting strain details:  41%|████      | 18849/46263 [06:34<09:26, 48.41it/s]"
     ]
    },
    {
     "name": "stdout",
     "output_type": "stream",
     "text": [
      "Error fetching HTML content from https://mediadive.dsmz.de/strains/view/DSM 43185: HTTPSConnectionPool(host='mediadive.dsmz.de', port=443): Max retries exceeded with url: /strains/view/DSM%2043185 (Caused by NameResolutionError(\"<urllib3.connection.HTTPSConnection object at 0x169c34be0>: Failed to resolve 'mediadive.dsmz.de' ([Errno 8] nodename nor servname provided, or not known)\")). Retrying 1/5...\n"
     ]
    },
    {
     "name": "stderr",
     "output_type": "stream",
     "text": [
      "Extracting strain details:  45%|████▌     | 20875/46263 [07:17<10:48, 39.13it/s]"
     ]
    },
    {
     "name": "stdout",
     "output_type": "stream",
     "text": [
      "Error fetching HTML content from https://mediadive.dsmz.de/strains/view/DSM 45416: ('Connection aborted.', ConnectionResetError(54, 'Connection reset by peer')). Retrying 1/5...\n"
     ]
    },
    {
     "name": "stderr",
     "output_type": "stream",
     "text": [
      "Extracting strain details:  62%|██████▏   | 28591/46263 [10:02<04:51, 60.73it/s]"
     ]
    },
    {
     "name": "stdout",
     "output_type": "stream",
     "text": [
      "Error fetching HTML content from https://mediadive.dsmz.de/strains/view/DSM 109652: HTTPSConnectionPool(host='mediadive.dsmz.de', port=443): Max retries exceeded with url: /strains/view/DSM%20109652 (Caused by NameResolutionError(\"<urllib3.connection.HTTPSConnection object at 0x16c820130>: Failed to resolve 'mediadive.dsmz.de' ([Errno 8] nodename nor servname provided, or not known)\")). Retrying 1/5...\n"
     ]
    },
    {
     "name": "stderr",
     "output_type": "stream",
     "text": [
      "Extracting strain details:  66%|██████▌   | 30593/46263 [10:46<04:25, 58.98it/s]"
     ]
    },
    {
     "name": "stdout",
     "output_type": "stream",
     "text": [
      "Error fetching HTML content from https://mediadive.dsmz.de/strains/view/JCM 3909: HTTPSConnectionPool(host='mediadive.dsmz.de', port=443): Max retries exceeded with url: /strains/view/JCM%203909 (Caused by NameResolutionError(\"<urllib3.connection.HTTPSConnection object at 0x16bdca6b0>: Failed to resolve 'mediadive.dsmz.de' ([Errno 8] nodename nor servname provided, or not known)\")). Retrying 1/5...\n"
     ]
    },
    {
     "name": "stderr",
     "output_type": "stream",
     "text": [
      "Extracting strain details:  68%|██████▊   | 31585/46263 [11:07<03:50, 63.77it/s]"
     ]
    },
    {
     "name": "stdout",
     "output_type": "stream",
     "text": [
      "Error fetching HTML content from https://mediadive.dsmz.de/strains/view/JCM 6473: HTTPSConnectionPool(host='mediadive.dsmz.de', port=443): Max retries exceeded with url: /strains/view/JCM%206473 (Caused by NameResolutionError(\"<urllib3.connection.HTTPSConnection object at 0x377954ac0>: Failed to resolve 'mediadive.dsmz.de' ([Errno 8] nodename nor servname provided, or not known)\")). Retrying 1/5...\n"
     ]
    },
    {
     "name": "stderr",
     "output_type": "stream",
     "text": [
      "Extracting strain details:  88%|████████▊ | 40580/46263 [14:28<02:09, 43.80it/s]"
     ]
    },
    {
     "name": "stdout",
     "output_type": "stream",
     "text": [
      "Error fetching HTML content from https://mediadive.dsmz.de/strains/view/JCM 33351: HTTPSConnectionPool(host='mediadive.dsmz.de', port=443): Max retries exceeded with url: /strains/view/JCM%2033351 (Caused by NameResolutionError(\"<urllib3.connection.HTTPSConnection object at 0x3a1c8c640>: Failed to resolve 'mediadive.dsmz.de' ([Errno 8] nodename nor servname provided, or not known)\")). Retrying 1/5...\n"
     ]
    },
    {
     "name": "stderr",
     "output_type": "stream",
     "text": [
      "Extracting strain details: 100%|██████████| 46263/46263 [16:33<00:00, 46.57it/s]\n"
     ]
    },
    {
     "data": {
      "text/plain": [
       "      Organism Group                                               Name  \\\n",
       "0          Bacterium                       Heyndrickxia coagulans DSM 1   \n",
       "1          Bacterium  Paenibacillus macquariensis subsp. macquariens...   \n",
       "2          Bacterium                    Sporosarcina psychrophila DSM 3   \n",
       "3          Bacterium                      Sporosarcina globispora DSM 4   \n",
       "4          Bacterium                    Psychrobacillus insolitus DSM 5   \n",
       "...              ...                                                ...   \n",
       "46258                                         Phage (phagum) DSM 117437   \n",
       "46259                                         Phage (phagum) DSM 117679   \n",
       "46260                                         Phage (phagum) DSM 117680   \n",
       "46261                             Staphylococcus epidermidis DSM 117681   \n",
       "46262                             Staphylococcus epidermidis DSM 117682   \n",
       "\n",
       "                                               Name Link DSM No.  \\\n",
       "0           https://mediadive.dsmz.de/strains/view/DSM 1       1   \n",
       "1           https://mediadive.dsmz.de/strains/view/DSM 2       2   \n",
       "2           https://mediadive.dsmz.de/strains/view/DSM 3       3   \n",
       "3           https://mediadive.dsmz.de/strains/view/DSM 4       4   \n",
       "4           https://mediadive.dsmz.de/strains/view/DSM 5       5   \n",
       "...                                                  ...     ...   \n",
       "46258  https://mediadive.dsmz.de/strains/view/DSM 117437  117437   \n",
       "46259  https://mediadive.dsmz.de/strains/view/DSM 117679  117679   \n",
       "46260  https://mediadive.dsmz.de/strains/view/DSM 117680  117680   \n",
       "46261  https://mediadive.dsmz.de/strains/view/DSM 117681  117681   \n",
       "46262  https://mediadive.dsmz.de/strains/view/DSM 117682  117682   \n",
       "\n",
       "                                           Taxonomy Link   Growth media  \\\n",
       "0      https://mediadive.dsmz.de/taxonomy?level=speci...  [453, 1, J22]   \n",
       "1      https://mediadive.dsmz.de/taxonomy?level=speci...            [1]   \n",
       "2      https://mediadive.dsmz.de/taxonomy?level=speci...       [1, J22]   \n",
       "3      https://mediadive.dsmz.de/taxonomy?level=speci...     [514, J22]   \n",
       "4      https://mediadive.dsmz.de/taxonomy?level=speci...          [123]   \n",
       "...                                                  ...            ...   \n",
       "46258                                               None          [381]   \n",
       "46259                                               None           [92]   \n",
       "46260                                               None           [92]   \n",
       "46261                                               None           [92]   \n",
       "46262                                               None           [92]   \n",
       "\n",
       "                                      Growth Media Links  \\\n",
       "0      [https://mediadive.dsmz.de/medium/453, https:/...   \n",
       "1                   [https://mediadive.dsmz.de/medium/1]   \n",
       "2      [https://mediadive.dsmz.de/medium/1, https://m...   \n",
       "3      [https://mediadive.dsmz.de/medium/514, https:/...   \n",
       "4                 [https://mediadive.dsmz.de/medium/123]   \n",
       "...                                                  ...   \n",
       "46258             [https://mediadive.dsmz.de/medium/381]   \n",
       "46259              [https://mediadive.dsmz.de/medium/92]   \n",
       "46260              [https://mediadive.dsmz.de/medium/92]   \n",
       "46261              [https://mediadive.dsmz.de/medium/92]   \n",
       "46262              [https://mediadive.dsmz.de/medium/92]   \n",
       "\n",
       "                                          external links  \\\n",
       "0      [https://www.dsmz.de/collection/catalogue/deta...   \n",
       "1      [https://www.dsmz.de/collection/catalogue/deta...   \n",
       "2      [https://www.dsmz.de/collection/catalogue/deta...   \n",
       "3      [https://www.dsmz.de/collection/catalogue/deta...   \n",
       "4      [https://www.dsmz.de/collection/catalogue/deta...   \n",
       "...                                                  ...   \n",
       "46258  [https://www.dsmz.de/collection/catalogue/deta...   \n",
       "46259  [https://www.dsmz.de/collection/catalogue/deta...   \n",
       "46260  [https://www.dsmz.de/collection/catalogue/deta...   \n",
       "46261  [https://www.dsmz.de/collection/catalogue/deta...   \n",
       "46262  [https://www.dsmz.de/collection/catalogue/deta...   \n",
       "\n",
       "                                          DSMZ Catalogue  \\\n",
       "0      https://www.dsmz.de/collection/catalogue/detai...   \n",
       "1      https://www.dsmz.de/collection/catalogue/detai...   \n",
       "2      https://www.dsmz.de/collection/catalogue/detai...   \n",
       "3      https://www.dsmz.de/collection/catalogue/detai...   \n",
       "4      https://www.dsmz.de/collection/catalogue/detai...   \n",
       "...                                                  ...   \n",
       "46258  https://www.dsmz.de/collection/catalogue/detai...   \n",
       "46259  https://www.dsmz.de/collection/catalogue/detai...   \n",
       "46260  https://www.dsmz.de/collection/catalogue/detai...   \n",
       "46261  https://www.dsmz.de/collection/catalogue/detai...   \n",
       "46262  https://www.dsmz.de/collection/catalogue/detai...   \n",
       "\n",
       "                               Bacdive Link  \\\n",
       "0        https://bacdive.dsmz.de/strain/654   \n",
       "1      https://bacdive.dsmz.de/strain/11477   \n",
       "2      https://bacdive.dsmz.de/strain/11984   \n",
       "3      https://bacdive.dsmz.de/strain/11976   \n",
       "4       https://bacdive.dsmz.de/strain/1565   \n",
       "...                                     ...   \n",
       "46258                                  None   \n",
       "46259                                  None   \n",
       "46260                                  None   \n",
       "46261                                  None   \n",
       "46262                                  None   \n",
       "\n",
       "                                                Synonyms  \\\n",
       "0      ATCC 7050, BCRC 10606, CCM 2013, CCUG 7417, CE...   \n",
       "1      ATCC 23464, CCUG 37394, CIP 103269,, DSM 2, hr...   \n",
       "2      ATCC 23304, BCRC 11738, CCM 2117, CCUG 28886, ...   \n",
       "3      ATCC 23301, CCM 2119, CCUG 7419, CGMCC 1.3607,...   \n",
       "4      ATCC 23299, CCM 2175, CCUG 7420,, DSM 5, href:...   \n",
       "...                                                  ...   \n",
       "46258                                                      \n",
       "46259                                                      \n",
       "46260                                                      \n",
       "46261                                                      \n",
       "46262                                                      \n",
       "\n",
       "                                       Growth Conditions  \n",
       "0      [{'media_title': '1: NUTRIENT AGAR', 'media_li...  \n",
       "1      [{'media_title': '1: NUTRIENT AGAR', 'media_li...  \n",
       "2      [{'media_title': '1: NUTRIENT AGAR', 'media_li...  \n",
       "3      [{'media_title': '514: BACTO MARINE BROTH (DIF...  \n",
       "4      [{'media_title': '123: MARINE AGAR', 'media_li...  \n",
       "...                                                  ...  \n",
       "46258  [{'media_title': '381: LB (Luria-Bertani) MEDI...  \n",
       "46259  [{'media_title': '92: TRYPTICASE SOY YEAST EXT...  \n",
       "46260  [{'media_title': '92: TRYPTICASE SOY YEAST EXT...  \n",
       "46261  [{'media_title': '92: TRYPTICASE SOY YEAST EXT...  \n",
       "46262  [{'media_title': '92: TRYPTICASE SOY YEAST EXT...  \n",
       "\n",
       "[46263 rows x 12 columns]"
      ],
      "text/html": [
       "<div>\n",
       "<style scoped>\n",
       "    .dataframe tbody tr th:only-of-type {\n",
       "        vertical-align: middle;\n",
       "    }\n",
       "\n",
       "    .dataframe tbody tr th {\n",
       "        vertical-align: top;\n",
       "    }\n",
       "\n",
       "    .dataframe thead th {\n",
       "        text-align: right;\n",
       "    }\n",
       "</style>\n",
       "<table border=\"1\" class=\"dataframe\">\n",
       "  <thead>\n",
       "    <tr style=\"text-align: right;\">\n",
       "      <th></th>\n",
       "      <th>Organism Group</th>\n",
       "      <th>Name</th>\n",
       "      <th>Name Link</th>\n",
       "      <th>DSM No.</th>\n",
       "      <th>Taxonomy Link</th>\n",
       "      <th>Growth media</th>\n",
       "      <th>Growth Media Links</th>\n",
       "      <th>external links</th>\n",
       "      <th>DSMZ Catalogue</th>\n",
       "      <th>Bacdive Link</th>\n",
       "      <th>Synonyms</th>\n",
       "      <th>Growth Conditions</th>\n",
       "    </tr>\n",
       "  </thead>\n",
       "  <tbody>\n",
       "    <tr>\n",
       "      <th>0</th>\n",
       "      <td>Bacterium</td>\n",
       "      <td>Heyndrickxia coagulans DSM 1</td>\n",
       "      <td>https://mediadive.dsmz.de/strains/view/DSM 1</td>\n",
       "      <td>1</td>\n",
       "      <td>https://mediadive.dsmz.de/taxonomy?level=speci...</td>\n",
       "      <td>[453, 1, J22]</td>\n",
       "      <td>[https://mediadive.dsmz.de/medium/453, https:/...</td>\n",
       "      <td>[https://www.dsmz.de/collection/catalogue/deta...</td>\n",
       "      <td>https://www.dsmz.de/collection/catalogue/detai...</td>\n",
       "      <td>https://bacdive.dsmz.de/strain/654</td>\n",
       "      <td>ATCC 7050, BCRC 10606, CCM 2013, CCUG 7417, CE...</td>\n",
       "      <td>[{'media_title': '1: NUTRIENT AGAR', 'media_li...</td>\n",
       "    </tr>\n",
       "    <tr>\n",
       "      <th>1</th>\n",
       "      <td>Bacterium</td>\n",
       "      <td>Paenibacillus macquariensis subsp. macquariens...</td>\n",
       "      <td>https://mediadive.dsmz.de/strains/view/DSM 2</td>\n",
       "      <td>2</td>\n",
       "      <td>https://mediadive.dsmz.de/taxonomy?level=speci...</td>\n",
       "      <td>[1]</td>\n",
       "      <td>[https://mediadive.dsmz.de/medium/1]</td>\n",
       "      <td>[https://www.dsmz.de/collection/catalogue/deta...</td>\n",
       "      <td>https://www.dsmz.de/collection/catalogue/detai...</td>\n",
       "      <td>https://bacdive.dsmz.de/strain/11477</td>\n",
       "      <td>ATCC 23464, CCUG 37394, CIP 103269,, DSM 2, hr...</td>\n",
       "      <td>[{'media_title': '1: NUTRIENT AGAR', 'media_li...</td>\n",
       "    </tr>\n",
       "    <tr>\n",
       "      <th>2</th>\n",
       "      <td>Bacterium</td>\n",
       "      <td>Sporosarcina psychrophila DSM 3</td>\n",
       "      <td>https://mediadive.dsmz.de/strains/view/DSM 3</td>\n",
       "      <td>3</td>\n",
       "      <td>https://mediadive.dsmz.de/taxonomy?level=speci...</td>\n",
       "      <td>[1, J22]</td>\n",
       "      <td>[https://mediadive.dsmz.de/medium/1, https://m...</td>\n",
       "      <td>[https://www.dsmz.de/collection/catalogue/deta...</td>\n",
       "      <td>https://www.dsmz.de/collection/catalogue/detai...</td>\n",
       "      <td>https://bacdive.dsmz.de/strain/11984</td>\n",
       "      <td>ATCC 23304, BCRC 11738, CCM 2117, CCUG 28886, ...</td>\n",
       "      <td>[{'media_title': '1: NUTRIENT AGAR', 'media_li...</td>\n",
       "    </tr>\n",
       "    <tr>\n",
       "      <th>3</th>\n",
       "      <td>Bacterium</td>\n",
       "      <td>Sporosarcina globispora DSM 4</td>\n",
       "      <td>https://mediadive.dsmz.de/strains/view/DSM 4</td>\n",
       "      <td>4</td>\n",
       "      <td>https://mediadive.dsmz.de/taxonomy?level=speci...</td>\n",
       "      <td>[514, J22]</td>\n",
       "      <td>[https://mediadive.dsmz.de/medium/514, https:/...</td>\n",
       "      <td>[https://www.dsmz.de/collection/catalogue/deta...</td>\n",
       "      <td>https://www.dsmz.de/collection/catalogue/detai...</td>\n",
       "      <td>https://bacdive.dsmz.de/strain/11976</td>\n",
       "      <td>ATCC 23301, CCM 2119, CCUG 7419, CGMCC 1.3607,...</td>\n",
       "      <td>[{'media_title': '514: BACTO MARINE BROTH (DIF...</td>\n",
       "    </tr>\n",
       "    <tr>\n",
       "      <th>4</th>\n",
       "      <td>Bacterium</td>\n",
       "      <td>Psychrobacillus insolitus DSM 5</td>\n",
       "      <td>https://mediadive.dsmz.de/strains/view/DSM 5</td>\n",
       "      <td>5</td>\n",
       "      <td>https://mediadive.dsmz.de/taxonomy?level=speci...</td>\n",
       "      <td>[123]</td>\n",
       "      <td>[https://mediadive.dsmz.de/medium/123]</td>\n",
       "      <td>[https://www.dsmz.de/collection/catalogue/deta...</td>\n",
       "      <td>https://www.dsmz.de/collection/catalogue/detai...</td>\n",
       "      <td>https://bacdive.dsmz.de/strain/1565</td>\n",
       "      <td>ATCC 23299, CCM 2175, CCUG 7420,, DSM 5, href:...</td>\n",
       "      <td>[{'media_title': '123: MARINE AGAR', 'media_li...</td>\n",
       "    </tr>\n",
       "    <tr>\n",
       "      <th>...</th>\n",
       "      <td>...</td>\n",
       "      <td>...</td>\n",
       "      <td>...</td>\n",
       "      <td>...</td>\n",
       "      <td>...</td>\n",
       "      <td>...</td>\n",
       "      <td>...</td>\n",
       "      <td>...</td>\n",
       "      <td>...</td>\n",
       "      <td>...</td>\n",
       "      <td>...</td>\n",
       "      <td>...</td>\n",
       "    </tr>\n",
       "    <tr>\n",
       "      <th>46258</th>\n",
       "      <td></td>\n",
       "      <td>Phage (phagum) DSM 117437</td>\n",
       "      <td>https://mediadive.dsmz.de/strains/view/DSM 117437</td>\n",
       "      <td>117437</td>\n",
       "      <td>None</td>\n",
       "      <td>[381]</td>\n",
       "      <td>[https://mediadive.dsmz.de/medium/381]</td>\n",
       "      <td>[https://www.dsmz.de/collection/catalogue/deta...</td>\n",
       "      <td>https://www.dsmz.de/collection/catalogue/detai...</td>\n",
       "      <td>None</td>\n",
       "      <td></td>\n",
       "      <td>[{'media_title': '381: LB (Luria-Bertani) MEDI...</td>\n",
       "    </tr>\n",
       "    <tr>\n",
       "      <th>46259</th>\n",
       "      <td></td>\n",
       "      <td>Phage (phagum) DSM 117679</td>\n",
       "      <td>https://mediadive.dsmz.de/strains/view/DSM 117679</td>\n",
       "      <td>117679</td>\n",
       "      <td>None</td>\n",
       "      <td>[92]</td>\n",
       "      <td>[https://mediadive.dsmz.de/medium/92]</td>\n",
       "      <td>[https://www.dsmz.de/collection/catalogue/deta...</td>\n",
       "      <td>https://www.dsmz.de/collection/catalogue/detai...</td>\n",
       "      <td>None</td>\n",
       "      <td></td>\n",
       "      <td>[{'media_title': '92: TRYPTICASE SOY YEAST EXT...</td>\n",
       "    </tr>\n",
       "    <tr>\n",
       "      <th>46260</th>\n",
       "      <td></td>\n",
       "      <td>Phage (phagum) DSM 117680</td>\n",
       "      <td>https://mediadive.dsmz.de/strains/view/DSM 117680</td>\n",
       "      <td>117680</td>\n",
       "      <td>None</td>\n",
       "      <td>[92]</td>\n",
       "      <td>[https://mediadive.dsmz.de/medium/92]</td>\n",
       "      <td>[https://www.dsmz.de/collection/catalogue/deta...</td>\n",
       "      <td>https://www.dsmz.de/collection/catalogue/detai...</td>\n",
       "      <td>None</td>\n",
       "      <td></td>\n",
       "      <td>[{'media_title': '92: TRYPTICASE SOY YEAST EXT...</td>\n",
       "    </tr>\n",
       "    <tr>\n",
       "      <th>46261</th>\n",
       "      <td></td>\n",
       "      <td>Staphylococcus epidermidis DSM 117681</td>\n",
       "      <td>https://mediadive.dsmz.de/strains/view/DSM 117681</td>\n",
       "      <td>117681</td>\n",
       "      <td>None</td>\n",
       "      <td>[92]</td>\n",
       "      <td>[https://mediadive.dsmz.de/medium/92]</td>\n",
       "      <td>[https://www.dsmz.de/collection/catalogue/deta...</td>\n",
       "      <td>https://www.dsmz.de/collection/catalogue/detai...</td>\n",
       "      <td>None</td>\n",
       "      <td></td>\n",
       "      <td>[{'media_title': '92: TRYPTICASE SOY YEAST EXT...</td>\n",
       "    </tr>\n",
       "    <tr>\n",
       "      <th>46262</th>\n",
       "      <td></td>\n",
       "      <td>Staphylococcus epidermidis DSM 117682</td>\n",
       "      <td>https://mediadive.dsmz.de/strains/view/DSM 117682</td>\n",
       "      <td>117682</td>\n",
       "      <td>None</td>\n",
       "      <td>[92]</td>\n",
       "      <td>[https://mediadive.dsmz.de/medium/92]</td>\n",
       "      <td>[https://www.dsmz.de/collection/catalogue/deta...</td>\n",
       "      <td>https://www.dsmz.de/collection/catalogue/detai...</td>\n",
       "      <td>None</td>\n",
       "      <td></td>\n",
       "      <td>[{'media_title': '92: TRYPTICASE SOY YEAST EXT...</td>\n",
       "    </tr>\n",
       "  </tbody>\n",
       "</table>\n",
       "<p>46263 rows × 12 columns</p>\n",
       "</div>"
      ]
     },
     "execution_count": 3,
     "metadata": {},
     "output_type": "execute_result"
    }
   ],
   "execution_count": 3
  },
  {
   "metadata": {
    "ExecuteTime": {
     "end_time": "2024-06-14T18:36:35.259060Z",
     "start_time": "2024-06-14T16:55:36.604437Z"
    }
   },
   "cell_type": "code",
   "source": [
    "link_data_temp = list\n",
    "\n",
    "# Function to extract data from a single page\n",
    "def extract_data_from_link(link, extractor_method, pbar, new_names, retries=5):\n",
    "    for attempt in range(retries):\n",
    "        try:\n",
    "            response = requests.get(link)\n",
    "            response.raise_for_status()\n",
    "            soup = BeautifulSoup(response.content, 'html.parser')\n",
    "            extractor = Extractor(link, soup, extractor_method)\n",
    "            data = extractor.extract()\n",
    "            if data is None:\n",
    "                print('No soup for {}'.format(link))\n",
    "                # pbar.set_description('Failed to extract data from {}'.format(link))\n",
    "                data = [link]\n",
    "                data.extend([None]*(len(new_names)-1))\n",
    "            pbar.update(1)\n",
    "            return data\n",
    "        except (requests.exceptions.RequestException, ConnectionResetError) as e:\n",
    "            print(f\"Error fetching link {link}: {e}. Retrying {attempt + 1}/{retries}...\")\n",
    "            time.sleep(1)  # Wait before retrying\n",
    "    return [link].extend([None]*(len(new_names)-1))\n",
    "\n",
    "def scrape_link(old_df, on_old_name, extractor_method, new_names):\n",
    "    global link_data_temp\n",
    "    link_data_temp = []\n",
    "    links = old_df[on_old_name].dropna().unique()\n",
    "    \n",
    "    with tqdm(total=len(links), desc=on_old_name+\" link Progress\") as pbar:\n",
    "        with ThreadPoolExecutor(max_workers=max_workers) as executor:\n",
    "            future_to_link = {executor.submit(extract_data_from_link, link, extractor_method, pbar, new_names): link for link in links}\n",
    "            for future in as_completed(future_to_link):\n",
    "                data = future.result()\n",
    "                link_data_temp.append(data)\n",
    "        link_df = pd.DataFrame(link_data_temp, columns=new_names)\n",
    "        merged_df = pd.merge(old_df, link_df, on=on_old_name, how='left')\n",
    "    return merged_df\n",
    "\n",
    "class Extractor:\n",
    "    def __init__(self, link, soup, method):\n",
    "        self.link = link\n",
    "        self.soup = soup\n",
    "        self.method = method\n",
    "    \n",
    "    def extract(self):\n",
    "        return self.method(self.link, self.soup)\n",
    "\n",
    "def dsmzlink_method(dsmzlink, soup):\n",
    "    soup = soup.find('div', class_='product-detail') if soup.find('div', class_='product-detail') else None\n",
    "    if soup is None:\n",
    "        return None\n",
    "    \n",
    "    def get_field_value(soup, label):\n",
    "        field = soup.find('div', class_='label', string=lambda x: x and label in x)\n",
    "        if field:\n",
    "            return '\"' + field.find_next_sibling('div', class_='value').get_text(strip=True) + '\"'\n",
    "        return None\n",
    "        \n",
    "    name_value = get_field_value(soup, 'Name: ')\n",
    "    sd_value = get_field_value(soup, 'Strain designation: ')\n",
    "    \n",
    "    dsm_field = soup.find('div', class_='label', string=lambda x: x and 'DSM No.: ' in x) if soup.find('div', class_='label', string=lambda x: x and 'DSM No.: ' in x) else None\n",
    "    if dsm_field:\n",
    "        dsm_value = dsm_field.find_next_sibling('div', class_='value').get_text(strip=True) \n",
    "        type_strain = \"yes\" if \"Type strain\" in dsm_value else \"no\"\n",
    "    else:\n",
    "        type_strain = \"No\"\n",
    "        \n",
    "    def get_comp_value(soup, label):\n",
    "        field = soup.select_one('div.label:-soup-contains(\"'+label+'\")')\n",
    "        if field:\n",
    "            return field.find_next_sibling('div', class_='value')\n",
    "        else:\n",
    "            return None\n",
    "        \n",
    "    other_value = get_comp_value(soup,\"Other collection no.\" )\n",
    "    if other_value:\n",
    "        other_value = '\"'+other_value.get_text(strip=True)+'\"'\n",
    "        \n",
    "    iso_value = get_field_value(soup, 'Isolated from: ')\n",
    "    country_value = get_field_value(soup, 'Country: ')\n",
    "    date_value = get_field_value(soup, 'Date of sampling: ')\n",
    "    \n",
    "    risk_tag = get_comp_value(soup, 'Risk group: ')\n",
    "    if risk_tag:\n",
    "        risk_value = '\"' + risk_tag.get_text(strip=True) + '\"'\n",
    "        risk_group = risk_tag.get_text(strip=True).split(' ')[0].split('(')[0] if risk_tag else None\n",
    "        class_by = risk_tag.find('a').get_text(strip=True) if risk_tag.find('a') else risk_tag.get_text(strip=True).split(' ')[-1].replace(')','')\n",
    "    else:\n",
    "        risk_value = None\n",
    "        risk_group = None\n",
    "        class_by = None\n",
    "    \n",
    "    \n",
    "    nagoya_value = get_field_value(soup, 'Nagoya Protocol Restrictions: ')\n",
    "    history_value = get_field_value(soup, 'History: ')\n",
    "    \n",
    "    genbank_tag = get_comp_value(soup, 'Genbank accession numbers: ')\n",
    "    if genbank_tag:\n",
    "        genbank_value = '\"' + genbank_tag.get_text(strip=True) + '\"'\n",
    "    else:\n",
    "        genbank_value = None\n",
    "    \n",
    "    # Initialize the dictionary\n",
    "    sequence_dict = {}\n",
    "    # Extract information\n",
    "    if genbank_tag:\n",
    "        text_taw = genbank_tag.get_text(separator=\"|\").split(\"|\")\n",
    "        text = [s for s in text_taw if \":\" in s]\n",
    "        links = genbank_tag.find_all('a')\n",
    "        for i, part in enumerate(text):\n",
    "            if ':' in part:\n",
    "                key = part.strip()\n",
    "                if i > len(links) - 1:\n",
    "                    print(\"more genbank key than value in {}\".format(name_value))\n",
    "                else:\n",
    "                    value = [links[i].text, links[i]['href']]\n",
    "                    sequence_dict[key] = value\n",
    "    whole_genome_tag = sequence_dict.get(\"whole genome shotgun sequence:\")\n",
    "    if whole_genome_tag:\n",
    "        whole_genome = whole_genome_tag[0]\n",
    "        whole_genome_link = whole_genome_tag[1]\n",
    "    else:\n",
    "        whole_genome = None\n",
    "        whole_genome_link = None\n",
    "    sixteens_rrna_tag = sequence_dict.get(\"16S rRNA gene:\")\n",
    "    if sixteens_rrna_tag:\n",
    "        sixteens_rrna = sixteens_rrna_tag[0]\n",
    "        sixteens_rrna_link = sixteens_rrna_tag[1]\n",
    "        if sixteens_rrna_link != '' and sixteens_rrna_link is not None:\n",
    "            sixteens_rrna_link = sixteens_rrna_link + '.1?report=fasta'\n",
    "    else:\n",
    "        sixteens_rrna = None\n",
    "        sixteens_rrna_link = None\n",
    "        \n",
    "    additional_tag = get_comp_value(soup, 'additional information: ')\n",
    "    if additional_tag:\n",
    "        additional_value = '\"' + additional_tag.get_text(strip=True) + '\"'\n",
    "    else:\n",
    "        additional_value = None\n",
    "        \n",
    "    literature_value = get_field_value(soup, \"Literature: \")\n",
    "    \n",
    "    wink_tag = get_comp_value(soup, \"Wink compendium: \")\n",
    "    if wink_tag:\n",
    "        wink_value = '\"' + wink_tag.get_text(strip=True) + '\"'\n",
    "        wink_link = wink_tag.find('a')['href']\n",
    "    else:\n",
    "        wink_value = None\n",
    "        wink_link = None\n",
    "    \n",
    "    supplied_tag = get_comp_value(soup, \"Supplied as: \")\n",
    "    supplied_dic = {}\n",
    "    price_category = None\n",
    "    if supplied_tag:\n",
    "        supplied_value = '\"' + supplied_tag.get_text(strip=True) + '\"'\n",
    "        table = supplied_tag.find('table')\n",
    "        trs = table.find_all('tr')[2:]\n",
    "        for tr in trs:\n",
    "            td = tr.find_all('td')\n",
    "            if len(td) == 4:\n",
    "                delivery_form = td[0].get_text(strip=True)\n",
    "                prices = td[-2].get_text(strip=True)\n",
    "                supplied_dic[delivery_form] = prices\n",
    "            if len(td) == 3:\n",
    "                delivery_form = td[0].get_text(strip=True)\n",
    "                prices = td[-1].get_text(strip=True)\n",
    "                supplied_dic[delivery_form] = prices\n",
    "            if len(td) == 1:\n",
    "                price_category = td[0].find('b').get_text(strip=True) if td[0].find('b') else None\n",
    "    else:\n",
    "        supplied_value = None\n",
    "        price_category = None\n",
    "    freeze_dried = supplied_dic.get(\"Freeze Dried\")\n",
    "    active_culture = supplied_dic.get(\"Active culture on request\")\n",
    "    dna_price = supplied_dic.get(\"DNA\")\n",
    "    \n",
    "    culture_tag = get_comp_value(soup, \"Other cultures:\")\n",
    "    if culture_tag:\n",
    "        culture_link = culture_tag.find('a')['href']\n",
    "    else:\n",
    "        culture_link = None\n",
    "    \n",
    "    return [dsmzlink, name_value, sd_value, type_strain, other_value, iso_value, country_value, date_value, risk_value, risk_group, class_by, nagoya_value, history_value, genbank_value, sequence_dict, whole_genome, whole_genome_link, sixteens_rrna, sixteens_rrna_link, additional_value, literature_value, wink_value, wink_link, supplied_value, supplied_dic, freeze_dried, active_culture, dna_price, price_category, culture_link]\n",
    "\n",
    "merged_merged_df = scrape_link(merged_df, 'DSMZ Catalogue', dsmzlink_method, [\"DSMZ Catalogue\", \"Full Stain Name\", \"Strain Designation\", \"Type Strain\", \"Other collection no./WDCM no.\", \"Isolated from\", \"Country\", \"Date of sampling\", \"Risk group raw\", \"Risk group\", \"classification by\", \"Nagoya Protocol Restrictions\", \"History\", \"Genbank accession raw\", \"Genbank dict\", \"whole genome shotgun sequence no.\", \"whole genome shotgun sequence no. link\", \"16S rRNA gene no.\", \"16S rRNA gene no. link\", \"Summary and additional information\", \"Literature\", \"Wink compendium\", \"Wink compendium link\", \"Supplied as raw\", \"Supplied as dict\", \"Price of Freeze Dried\", \"Price of Active culture on request\", \"Price of DNA\", \"Price Category\", \"Culture link\"])\n",
    "\n",
    "merged_merged_df"
   ],
   "id": "22e4d4c5f724ca36",
   "outputs": [
    {
     "name": "stderr",
     "output_type": "stream",
     "text": [
      "DSMZ Catalogue link Progress:   1%|          | 199/37746 [00:35<1:38:47,  6.33it/s]"
     ]
    },
    {
     "name": "stdout",
     "output_type": "stream",
     "text": [
      "No soup for https://www.dsmz.de/collection/catalogue/details/culture/DSM-236\n"
     ]
    },
    {
     "name": "stderr",
     "output_type": "stream",
     "text": [
      "DSMZ Catalogue link Progress:   1%|          | 223/37746 [00:39<1:22:23,  7.59it/s]"
     ]
    },
    {
     "name": "stdout",
     "output_type": "stream",
     "text": [
      "No soup for https://www.dsmz.de/collection/catalogue/details/culture/DSM-175\n"
     ]
    },
    {
     "name": "stderr",
     "output_type": "stream",
     "text": [
      "DSMZ Catalogue link Progress:   1%|          | 233/37746 [00:41<1:34:15,  6.63it/s]"
     ]
    },
    {
     "name": "stdout",
     "output_type": "stream",
     "text": [
      "No soup for https://www.dsmz.de/collection/catalogue/details/culture/DSM-196\n"
     ]
    },
    {
     "name": "stderr",
     "output_type": "stream",
     "text": [
      "DSMZ Catalogue link Progress:   5%|▌         | 1945/37746 [05:30<1:33:49,  6.36it/s]"
     ]
    },
    {
     "name": "stdout",
     "output_type": "stream",
     "text": [
      "No soup for https://www.dsmz.de/collection/catalogue/details/culture/DSM-2532\n"
     ]
    },
    {
     "name": "stderr",
     "output_type": "stream",
     "text": [
      "DSMZ Catalogue link Progress:   6%|▌         | 2229/37746 [06:24<3:42:25,  2.66it/s]"
     ]
    },
    {
     "name": "stdout",
     "output_type": "stream",
     "text": [
      "No soup for https://www.dsmz.de/collection/catalogue/details/culture/DSM-3098\n"
     ]
    },
    {
     "name": "stderr",
     "output_type": "stream",
     "text": [
      "DSMZ Catalogue link Progress:   6%|▌         | 2283/37746 [06:37<1:56:38,  5.07it/s]"
     ]
    },
    {
     "name": "stdout",
     "output_type": "stream",
     "text": [
      "No soup for https://www.dsmz.de/collection/catalogue/details/culture/DSM-3245\n"
     ]
    },
    {
     "name": "stderr",
     "output_type": "stream",
     "text": [
      "DSMZ Catalogue link Progress:   7%|▋         | 2617/37746 [08:01<1:36:12,  6.09it/s]"
     ]
    },
    {
     "name": "stdout",
     "output_type": "stream",
     "text": [
      "No soup for https://www.dsmz.de/collection/catalogue/details/culture/DSM-3870\n"
     ]
    },
    {
     "name": "stderr",
     "output_type": "stream",
     "text": [
      "DSMZ Catalogue link Progress:   7%|▋         | 2642/37746 [08:07<2:15:33,  4.32it/s]"
     ]
    },
    {
     "name": "stdout",
     "output_type": "stream",
     "text": [
      "No soup for https://www.dsmz.de/collection/catalogue/details/culture/DSM-3918\n"
     ]
    },
    {
     "name": "stderr",
     "output_type": "stream",
     "text": [
      "DSMZ Catalogue link Progress:   8%|▊         | 2831/37746 [08:56<1:54:06,  5.10it/s]"
     ]
    },
    {
     "name": "stdout",
     "output_type": "stream",
     "text": [
      "No soup for https://www.dsmz.de/collection/catalogue/details/culture/DSM-4409\n"
     ]
    },
    {
     "name": "stderr",
     "output_type": "stream",
     "text": [
      "DSMZ Catalogue link Progress:   8%|▊         | 2932/37746 [09:21<2:02:53,  4.72it/s]"
     ]
    },
    {
     "name": "stdout",
     "output_type": "stream",
     "text": [
      "No soup for https://www.dsmz.de/collection/catalogue/details/culture/DSM-4562\n"
     ]
    },
    {
     "name": "stderr",
     "output_type": "stream",
     "text": [
      "DSMZ Catalogue link Progress:   8%|▊         | 2939/37746 [09:23<2:11:13,  4.42it/s]"
     ]
    },
    {
     "name": "stdout",
     "output_type": "stream",
     "text": [
      "Error fetching link https://www.dsmz.de/collection/catalogue/details/culture/DSM-4941: ('Connection aborted.', ConnectionResetError(54, 'Connection reset by peer')). Retrying 1/5...\n"
     ]
    },
    {
     "name": "stderr",
     "output_type": "stream",
     "text": [
      "DSMZ Catalogue link Progress:   8%|▊         | 3026/37746 [09:47<2:12:44,  4.36it/s]"
     ]
    },
    {
     "name": "stdout",
     "output_type": "stream",
     "text": [
      "Error fetching link https://www.dsmz.de/collection/catalogue/details/culture/DSM-4830: ('Connection aborted.', RemoteDisconnected('Remote end closed connection without response')). Retrying 1/5...\n"
     ]
    },
    {
     "name": "stderr",
     "output_type": "stream",
     "text": [
      "DSMZ Catalogue link Progress:   8%|▊         | 3142/37746 [10:17<2:36:28,  3.69it/s]"
     ]
    },
    {
     "name": "stdout",
     "output_type": "stream",
     "text": [
      "Error fetching link https://www.dsmz.de/collection/catalogue/details/culture/DSM-5237: ('Connection aborted.', ConnectionResetError(54, 'Connection reset by peer')). Retrying 1/5...\n"
     ]
    },
    {
     "name": "stderr",
     "output_type": "stream",
     "text": [
      "DSMZ Catalogue link Progress:   8%|▊         | 3160/37746 [10:22<2:34:50,  3.72it/s]"
     ]
    },
    {
     "name": "stdout",
     "output_type": "stream",
     "text": [
      "Error fetching link https://www.dsmz.de/collection/catalogue/details/culture/DSM-5271: ('Connection aborted.', ConnectionResetError(54, 'Connection reset by peer')). Retrying 1/5...\n"
     ]
    },
    {
     "name": "stderr",
     "output_type": "stream",
     "text": [
      "DSMZ Catalogue link Progress:   9%|▊         | 3223/37746 [10:37<1:38:16,  5.85it/s]"
     ]
    },
    {
     "name": "stdout",
     "output_type": "stream",
     "text": [
      "No soup for https://www.dsmz.de/collection/catalogue/details/culture/DSM-5032\n"
     ]
    },
    {
     "name": "stderr",
     "output_type": "stream",
     "text": [
      "DSMZ Catalogue link Progress:   9%|▊         | 3250/37746 [10:45<2:26:54,  3.91it/s]"
     ]
    },
    {
     "name": "stdout",
     "output_type": "stream",
     "text": [
      "Error fetching link https://www.dsmz.de/collection/catalogue/details/culture/DSM-4831: ('Connection aborted.', RemoteDisconnected('Remote end closed connection without response')). Retrying 1/5...\n"
     ]
    },
    {
     "name": "stderr",
     "output_type": "stream",
     "text": [
      "DSMZ Catalogue link Progress:   9%|▉         | 3340/37746 [11:08<2:44:07,  3.49it/s]"
     ]
    },
    {
     "name": "stdout",
     "output_type": "stream",
     "text": [
      "Error fetching link https://www.dsmz.de/collection/catalogue/details/culture/DSM-4771: ('Connection aborted.', RemoteDisconnected('Remote end closed connection without response')). Retrying 1/5...\n"
     ]
    },
    {
     "name": "stderr",
     "output_type": "stream",
     "text": [
      "DSMZ Catalogue link Progress:   9%|▉         | 3352/37746 [11:11<3:28:25,  2.75it/s]"
     ]
    },
    {
     "name": "stdout",
     "output_type": "stream",
     "text": [
      "Error fetching link https://www.dsmz.de/collection/catalogue/details/culture/DSM-4807: ('Connection aborted.', RemoteDisconnected('Remote end closed connection without response')). Retrying 1/5...\n",
      "Error fetching link https://www.dsmz.de/collection/catalogue/details/culture/DSM-4808: ('Connection aborted.', RemoteDisconnected('Remote end closed connection without response')). Retrying 1/5...\n"
     ]
    },
    {
     "name": "stderr",
     "output_type": "stream",
     "text": [
      "DSMZ Catalogue link Progress:   9%|▉         | 3369/37746 [11:16<2:30:30,  3.81it/s]"
     ]
    },
    {
     "name": "stdout",
     "output_type": "stream",
     "text": [
      "Error fetching link https://www.dsmz.de/collection/catalogue/details/culture/DSM-4834: ('Connection aborted.', RemoteDisconnected('Remote end closed connection without response')). Retrying 1/5...\n"
     ]
    },
    {
     "name": "stderr",
     "output_type": "stream",
     "text": [
      "DSMZ Catalogue link Progress:  10%|█         | 3864/37746 [13:18<2:40:47,  3.51it/s]"
     ]
    },
    {
     "name": "stdout",
     "output_type": "stream",
     "text": [
      "No soup for https://www.dsmz.de/collection/catalogue/details/culture/DSM-6194\n"
     ]
    },
    {
     "name": "stderr",
     "output_type": "stream",
     "text": [
      "DSMZ Catalogue link Progress:  11%|█         | 4178/37746 [14:36<2:37:16,  3.56it/s]"
     ]
    },
    {
     "name": "stdout",
     "output_type": "stream",
     "text": [
      "No soup for https://www.dsmz.de/collection/catalogue/details/culture/DSM-6752\n"
     ]
    },
    {
     "name": "stderr",
     "output_type": "stream",
     "text": [
      "DSMZ Catalogue link Progress:  12%|█▏        | 4454/37746 [15:45<1:47:33,  5.16it/s]"
     ]
    },
    {
     "name": "stdout",
     "output_type": "stream",
     "text": [
      "No soup for https://www.dsmz.de/collection/catalogue/details/culture/DSM-7212\n"
     ]
    },
    {
     "name": "stderr",
     "output_type": "stream",
     "text": [
      "DSMZ Catalogue link Progress:  12%|█▏        | 4565/37746 [16:09<1:48:59,  5.07it/s]"
     ]
    },
    {
     "name": "stdout",
     "output_type": "stream",
     "text": [
      "No soup for https://www.dsmz.de/collection/catalogue/details/culture/DSM-7380\n"
     ]
    },
    {
     "name": "stderr",
     "output_type": "stream",
     "text": [
      "DSMZ Catalogue link Progress:  14%|█▎        | 5138/37746 [17:47<1:45:44,  5.14it/s]"
     ]
    },
    {
     "name": "stdout",
     "output_type": "stream",
     "text": [
      "Error fetching link https://www.dsmz.de/collection/catalogue/details/culture/DSM-9643: ('Connection aborted.', RemoteDisconnected('Remote end closed connection without response')). Retrying 1/5...\n"
     ]
    },
    {
     "name": "stderr",
     "output_type": "stream",
     "text": [
      "DSMZ Catalogue link Progress:  14%|█▍        | 5234/37746 [18:03<2:24:26,  3.75it/s]"
     ]
    },
    {
     "name": "stdout",
     "output_type": "stream",
     "text": [
      "No soup for https://www.dsmz.de/collection/catalogue/details/culture/DSM-9621\n",
      "No soup for https://www.dsmz.de/collection/catalogue/details/culture/DSM-9631\n"
     ]
    },
    {
     "name": "stderr",
     "output_type": "stream",
     "text": [
      "DSMZ Catalogue link Progress:  14%|█▍        | 5239/37746 [18:03<1:24:39,  6.40it/s]"
     ]
    },
    {
     "name": "stdout",
     "output_type": "stream",
     "text": [
      "No soup for https://www.dsmz.de/collection/catalogue/details/culture/DSM-9633\n",
      "No soup for https://www.dsmz.de/collection/catalogue/details/culture/DSM-9635\n"
     ]
    },
    {
     "name": "stderr",
     "output_type": "stream",
     "text": [
      "DSMZ Catalogue link Progress:  14%|█▍        | 5244/37746 [18:04<46:22, 11.68it/s]  "
     ]
    },
    {
     "name": "stdout",
     "output_type": "stream",
     "text": [
      "No soup for https://www.dsmz.de/collection/catalogue/details/culture/DSM-9638\n",
      "No soup for https://www.dsmz.de/collection/catalogue/details/culture/DSM-9640\n",
      "No soup for https://www.dsmz.de/collection/catalogue/details/culture/DSM-9636\n",
      "No soup for https://www.dsmz.de/collection/catalogue/details/culture/DSM-9642\n"
     ]
    },
    {
     "name": "stderr",
     "output_type": "stream",
     "text": [
      "DSMZ Catalogue link Progress:  14%|█▍        | 5247/37746 [18:04<38:17, 14.14it/s]"
     ]
    },
    {
     "name": "stdout",
     "output_type": "stream",
     "text": [
      "No soup for https://www.dsmz.de/collection/catalogue/details/culture/DSM-9641\n",
      "No soup for https://www.dsmz.de/collection/catalogue/details/culture/DSM-9637\n"
     ]
    },
    {
     "name": "stderr",
     "output_type": "stream",
     "text": [
      "DSMZ Catalogue link Progress:  14%|█▍        | 5250/37746 [18:04<1:06:51,  8.10it/s]"
     ]
    },
    {
     "name": "stdout",
     "output_type": "stream",
     "text": [
      "No soup for https://www.dsmz.de/collection/catalogue/details/culture/DSM-9645\n",
      "No soup for https://www.dsmz.de/collection/catalogue/details/culture/DSM-9647\n",
      "No soup for https://www.dsmz.de/collection/catalogue/details/culture/DSM-9646\n"
     ]
    },
    {
     "name": "stderr",
     "output_type": "stream",
     "text": [
      "DSMZ Catalogue link Progress:  14%|█▍        | 5255/37746 [18:05<51:25, 10.53it/s]  "
     ]
    },
    {
     "name": "stdout",
     "output_type": "stream",
     "text": [
      "No soup for https://www.dsmz.de/collection/catalogue/details/culture/DSM-9639\n",
      "No soup for https://www.dsmz.de/collection/catalogue/details/culture/DSM-9634\n",
      "No soup for https://www.dsmz.de/collection/catalogue/details/culture/DSM-9649\n",
      "No soup for https://www.dsmz.de/collection/catalogue/details/culture/DSM-9648\n",
      "No soup for https://www.dsmz.de/collection/catalogue/details/culture/DSM-9650\n"
     ]
    },
    {
     "name": "stderr",
     "output_type": "stream",
     "text": [
      "DSMZ Catalogue link Progress:  14%|█▍        | 5275/37746 [18:08<1:03:32,  8.52it/s]"
     ]
    },
    {
     "name": "stdout",
     "output_type": "stream",
     "text": [
      "Error fetching link https://www.dsmz.de/collection/catalogue/details/culture/DSM-9643: ('Connection aborted.', RemoteDisconnected('Remote end closed connection without response')). Retrying 2/5...\n"
     ]
    },
    {
     "name": "stderr",
     "output_type": "stream",
     "text": [
      "DSMZ Catalogue link Progress:  15%|█▍        | 5519/37746 [18:50<1:40:37,  5.34it/s]"
     ]
    },
    {
     "name": "stdout",
     "output_type": "stream",
     "text": [
      "No soup for https://www.dsmz.de/collection/catalogue/details/culture/DSM-9643\n"
     ]
    },
    {
     "name": "stderr",
     "output_type": "stream",
     "text": [
      "DSMZ Catalogue link Progress:  16%|█▌        | 5936/37746 [19:58<1:09:09,  7.67it/s]"
     ]
    },
    {
     "name": "stdout",
     "output_type": "stream",
     "text": [
      "No soup for https://www.dsmz.de/collection/catalogue/details/culture/DSM-11113\n"
     ]
    },
    {
     "name": "stderr",
     "output_type": "stream",
     "text": [
      "DSMZ Catalogue link Progress:  16%|█▌        | 5962/37746 [20:02<1:12:15,  7.33it/s]"
     ]
    },
    {
     "name": "stdout",
     "output_type": "stream",
     "text": [
      "No soup for https://www.dsmz.de/collection/catalogue/details/culture/DSM-11204\n"
     ]
    },
    {
     "name": "stderr",
     "output_type": "stream",
     "text": [
      "DSMZ Catalogue link Progress:  17%|█▋        | 6403/37746 [21:16<1:47:01,  4.88it/s]"
     ]
    },
    {
     "name": "stdout",
     "output_type": "stream",
     "text": [
      "Error fetching link https://www.dsmz.de/collection/catalogue/details/culture/DSM-12255: ('Connection aborted.', RemoteDisconnected('Remote end closed connection without response')). Retrying 1/5...\n"
     ]
    },
    {
     "name": "stderr",
     "output_type": "stream",
     "text": [
      "DSMZ Catalogue link Progress:  17%|█▋        | 6598/37746 [21:49<1:11:15,  7.29it/s]"
     ]
    },
    {
     "name": "stdout",
     "output_type": "stream",
     "text": [
      "No soup for https://www.dsmz.de/collection/catalogue/details/culture/DSM-12427\n"
     ]
    },
    {
     "name": "stderr",
     "output_type": "stream",
     "text": [
      "DSMZ Catalogue link Progress:  18%|█▊        | 6655/37746 [21:58<1:05:52,  7.87it/s]"
     ]
    },
    {
     "name": "stdout",
     "output_type": "stream",
     "text": [
      "No soup for https://www.dsmz.de/collection/catalogue/details/culture/DSM-12255\n"
     ]
    },
    {
     "name": "stderr",
     "output_type": "stream",
     "text": [
      "DSMZ Catalogue link Progress:  18%|█▊        | 6808/37746 [22:22<58:05,  8.88it/s]  "
     ]
    },
    {
     "name": "stdout",
     "output_type": "stream",
     "text": [
      "No soup for https://www.dsmz.de/collection/catalogue/details/culture/DSM-12924\n"
     ]
    },
    {
     "name": "stderr",
     "output_type": "stream",
     "text": [
      "DSMZ Catalogue link Progress:  19%|█▉        | 7340/37746 [23:51<1:02:21,  8.13it/s]"
     ]
    },
    {
     "name": "stdout",
     "output_type": "stream",
     "text": [
      "No soup for https://www.dsmz.de/collection/catalogue/details/culture/DSM-14351\n"
     ]
    },
    {
     "name": "stderr",
     "output_type": "stream",
     "text": [
      "DSMZ Catalogue link Progress:  20%|██        | 7690/37746 [24:50<1:14:05,  6.76it/s]"
     ]
    },
    {
     "name": "stdout",
     "output_type": "stream",
     "text": [
      "Error fetching link https://www.dsmz.de/collection/catalogue/details/culture/DSM-15338: ('Connection aborted.', ConnectionResetError(54, 'Connection reset by peer')). Retrying 1/5...\n"
     ]
    },
    {
     "name": "stderr",
     "output_type": "stream",
     "text": [
      "DSMZ Catalogue link Progress:  20%|██        | 7712/37746 [24:53<1:00:36,  8.26it/s]"
     ]
    },
    {
     "name": "stdout",
     "output_type": "stream",
     "text": [
      "Error fetching link https://www.dsmz.de/collection/catalogue/details/culture/DSM-15353: ('Connection aborted.', ConnectionResetError(54, 'Connection reset by peer')). Retrying 1/5...\n"
     ]
    },
    {
     "name": "stderr",
     "output_type": "stream",
     "text": [
      "DSMZ Catalogue link Progress:  22%|██▏       | 8451/37746 [26:55<1:19:44,  6.12it/s]"
     ]
    },
    {
     "name": "stdout",
     "output_type": "stream",
     "text": [
      "No soup for https://www.dsmz.de/collection/catalogue/details/culture/DSM-16182\n"
     ]
    },
    {
     "name": "stderr",
     "output_type": "stream",
     "text": [
      "DSMZ Catalogue link Progress:  23%|██▎       | 8862/37746 [28:05<1:38:16,  4.90it/s]"
     ]
    },
    {
     "name": "stdout",
     "output_type": "stream",
     "text": [
      "No soup for https://www.dsmz.de/collection/catalogue/details/culture/DSM-16959\n"
     ]
    },
    {
     "name": "stderr",
     "output_type": "stream",
     "text": [
      "DSMZ Catalogue link Progress:  25%|██▍       | 9351/37746 [29:27<1:24:27,  5.60it/s]"
     ]
    },
    {
     "name": "stdout",
     "output_type": "stream",
     "text": [
      "No soup for https://www.dsmz.de/collection/catalogue/details/culture/DSM-17640\n"
     ]
    },
    {
     "name": "stderr",
     "output_type": "stream",
     "text": [
      "DSMZ Catalogue link Progress:  30%|███       | 11383/37746 [35:09<51:48,  8.48it/s]  "
     ]
    },
    {
     "name": "stdout",
     "output_type": "stream",
     "text": [
      "No soup for https://www.dsmz.de/collection/catalogue/details/culture/DSM-20537\n"
     ]
    },
    {
     "name": "stderr",
     "output_type": "stream",
     "text": [
      "DSMZ Catalogue link Progress:  31%|███       | 11625/37746 [35:50<1:23:07,  5.24it/s]"
     ]
    },
    {
     "name": "stdout",
     "output_type": "stream",
     "text": [
      "No soup for https://www.dsmz.de/collection/catalogue/details/culture/DSM-21041\n"
     ]
    },
    {
     "name": "stderr",
     "output_type": "stream",
     "text": [
      "DSMZ Catalogue link Progress:  34%|███▍      | 12909/37746 [39:28<56:25,  7.34it/s]  "
     ]
    },
    {
     "name": "stdout",
     "output_type": "stream",
     "text": [
      "No soup for https://www.dsmz.de/collection/catalogue/details/culture/DSM-22928\n"
     ]
    },
    {
     "name": "stderr",
     "output_type": "stream",
     "text": [
      "DSMZ Catalogue link Progress:  37%|███▋      | 13845/37746 [42:10<1:09:23,  5.74it/s]"
     ]
    },
    {
     "name": "stdout",
     "output_type": "stream",
     "text": [
      "Error fetching link https://www.dsmz.de/collection/catalogue/details/culture/DSM-24851: 503 Server Error: Service Unavailable for url: https://www.dsmz.de/collection/catalogue/details/culture/DSM-24851. Retrying 1/5...\n",
      "Error fetching link https://www.dsmz.de/collection/catalogue/details/culture/DSM-24850: 503 Server Error: Service Unavailable for url: https://www.dsmz.de/collection/catalogue/details/culture/DSM-24850. Retrying 1/5...\n",
      "Error fetching link https://www.dsmz.de/collection/catalogue/details/culture/DSM-24842: 503 Server Error: Service Unavailable for url: https://www.dsmz.de/collection/catalogue/details/culture/DSM-24842. Retrying 1/5...\n"
     ]
    },
    {
     "name": "stderr",
     "output_type": "stream",
     "text": [
      "DSMZ Catalogue link Progress:  37%|███▋      | 13850/37746 [42:11<1:14:29,  5.35it/s]"
     ]
    },
    {
     "name": "stdout",
     "output_type": "stream",
     "text": [
      "Error fetching link https://www.dsmz.de/collection/catalogue/details/culture/DSM-24860: 503 Server Error: Service Unavailable for url: https://www.dsmz.de/collection/catalogue/details/culture/DSM-24860. Retrying 1/5...\n",
      "Error fetching link https://www.dsmz.de/collection/catalogue/details/culture/DSM-24859: 503 Server Error: Service Unavailable for url: https://www.dsmz.de/collection/catalogue/details/culture/DSM-24859. Retrying 1/5...\n",
      "Error fetching link https://www.dsmz.de/collection/catalogue/details/culture/DSM-24864: 503 Server Error: Service Unavailable for url: https://www.dsmz.de/collection/catalogue/details/culture/DSM-24864. Retrying 1/5...\n"
     ]
    },
    {
     "name": "stderr",
     "output_type": "stream",
     "text": [
      "DSMZ Catalogue link Progress:  37%|███▋      | 13854/37746 [42:11<52:05,  7.64it/s]  "
     ]
    },
    {
     "name": "stdout",
     "output_type": "stream",
     "text": [
      "Error fetching link https://www.dsmz.de/collection/catalogue/details/culture/DSM-24856: 503 Server Error: Service Unavailable for url: https://www.dsmz.de/collection/catalogue/details/culture/DSM-24856. Retrying 1/5...\n",
      "Error fetching link https://www.dsmz.de/collection/catalogue/details/culture/DSM-24866: 503 Server Error: Service Unavailable for url: https://www.dsmz.de/collection/catalogue/details/culture/DSM-24866. Retrying 1/5...\n",
      "Error fetching link https://www.dsmz.de/collection/catalogue/details/culture/DSM-24857: 503 Server Error: Service Unavailable for url: https://www.dsmz.de/collection/catalogue/details/culture/DSM-24857. Retrying 1/5...\n",
      "Error fetching link https://www.dsmz.de/collection/catalogue/details/culture/DSM-24865: 503 Server Error: Service Unavailable for url: https://www.dsmz.de/collection/catalogue/details/culture/DSM-24865. Retrying 1/5...\n",
      "Error fetching link https://www.dsmz.de/collection/catalogue/details/culture/DSM-24867: 503 Server Error: Service Unavailable for url: https://www.dsmz.de/collection/catalogue/details/culture/DSM-24867. Retrying 1/5...\n"
     ]
    },
    {
     "name": "stderr",
     "output_type": "stream",
     "text": [
      "DSMZ Catalogue link Progress:  37%|███▋      | 13857/37746 [42:12<1:38:18,  4.05it/s]"
     ]
    },
    {
     "name": "stdout",
     "output_type": "stream",
     "text": [
      "Error fetching link https://www.dsmz.de/collection/catalogue/details/culture/DSM-24869: 503 Server Error: Service Unavailable for url: https://www.dsmz.de/collection/catalogue/details/culture/DSM-24869. Retrying 1/5...\n",
      "Error fetching link https://www.dsmz.de/collection/catalogue/details/culture/DSM-24868: 503 Server Error: Service Unavailable for url: https://www.dsmz.de/collection/catalogue/details/culture/DSM-24868. Retrying 1/5...\n"
     ]
    },
    {
     "name": "stderr",
     "output_type": "stream",
     "text": [
      "DSMZ Catalogue link Progress:  37%|███▋      | 13858/37746 [42:12<1:35:46,  4.16it/s]"
     ]
    },
    {
     "name": "stdout",
     "output_type": "stream",
     "text": [
      "Error fetching link https://www.dsmz.de/collection/catalogue/details/culture/DSM-24875: 503 Server Error: Service Unavailable for url: https://www.dsmz.de/collection/catalogue/details/culture/DSM-24875. Retrying 1/5...\n",
      "Error fetching link https://www.dsmz.de/collection/catalogue/details/culture/DSM-24874: 503 Server Error: Service Unavailable for url: https://www.dsmz.de/collection/catalogue/details/culture/DSM-24874. Retrying 1/5...\n",
      "Error fetching link https://www.dsmz.de/collection/catalogue/details/culture/DSM-24851: 503 Server Error: Service Unavailable for url: https://www.dsmz.de/collection/catalogue/details/culture/DSM-24851. Retrying 2/5...\n",
      "Error fetching link https://www.dsmz.de/collection/catalogue/details/culture/DSM-24850: 503 Server Error: Service Unavailable for url: https://www.dsmz.de/collection/catalogue/details/culture/DSM-24850. Retrying 2/5...\n"
     ]
    },
    {
     "name": "stderr",
     "output_type": "stream",
     "text": [
      "DSMZ Catalogue link Progress:  37%|███▋      | 13860/37746 [42:12<1:16:06,  5.23it/s]"
     ]
    },
    {
     "name": "stdout",
     "output_type": "stream",
     "text": [
      "Error fetching link https://www.dsmz.de/collection/catalogue/details/culture/DSM-24842: 503 Server Error: Service Unavailable for url: https://www.dsmz.de/collection/catalogue/details/culture/DSM-24842. Retrying 2/5...\n",
      "Error fetching link https://www.dsmz.de/collection/catalogue/details/culture/DSM-24880: 503 Server Error: Service Unavailable for url: https://www.dsmz.de/collection/catalogue/details/culture/DSM-24880. Retrying 1/5...\n"
     ]
    },
    {
     "name": "stderr",
     "output_type": "stream",
     "text": [
      "DSMZ Catalogue link Progress:  37%|███▋      | 13861/37746 [42:13<1:21:26,  4.89it/s]"
     ]
    },
    {
     "name": "stdout",
     "output_type": "stream",
     "text": [
      "Error fetching link https://www.dsmz.de/collection/catalogue/details/culture/DSM-24849: 503 Server Error: Service Unavailable for url: https://www.dsmz.de/collection/catalogue/details/culture/DSM-24849. Retrying 1/5...\n",
      "Error fetching link https://www.dsmz.de/collection/catalogue/details/culture/DSM-24879: 503 Server Error: Service Unavailable for url: https://www.dsmz.de/collection/catalogue/details/culture/DSM-24879. Retrying 1/5...\n",
      "Error fetching link https://www.dsmz.de/collection/catalogue/details/culture/DSM-24881: 503 Server Error: Service Unavailable for url: https://www.dsmz.de/collection/catalogue/details/culture/DSM-24881. Retrying 1/5...\n",
      "Error fetching link https://www.dsmz.de/collection/catalogue/details/culture/DSM-24827: 503 Server Error: Service Unavailable for url: https://www.dsmz.de/collection/catalogue/details/culture/DSM-24827. Retrying 1/5...\n"
     ]
    },
    {
     "name": "stderr",
     "output_type": "stream",
     "text": [
      "DSMZ Catalogue link Progress:  37%|███▋      | 13862/37746 [42:13<1:33:25,  4.26it/s]"
     ]
    },
    {
     "name": "stdout",
     "output_type": "stream",
     "text": [
      "Error fetching link https://www.dsmz.de/collection/catalogue/details/culture/DSM-24793: 503 Server Error: Service Unavailable for url: https://www.dsmz.de/collection/catalogue/details/culture/DSM-24793. Retrying 1/5...\n",
      "Error fetching link https://www.dsmz.de/collection/catalogue/details/culture/DSM-24859: 503 Server Error: Service Unavailable for url: https://www.dsmz.de/collection/catalogue/details/culture/DSM-24859. Retrying 2/5...\n",
      "No soup for https://www.dsmz.de/collection/catalogue/details/culture/DSM-24515\n",
      "Error fetching link https://www.dsmz.de/collection/catalogue/details/culture/DSM-24860: 503 Server Error: Service Unavailable for url: https://www.dsmz.de/collection/catalogue/details/culture/DSM-24860. Retrying 2/5...\n",
      "Error fetching link https://www.dsmz.de/collection/catalogue/details/culture/DSM-24882: 503 Server Error: Service Unavailable for url: https://www.dsmz.de/collection/catalogue/details/culture/DSM-24882. Retrying 1/5...\n",
      "Error fetching link https://www.dsmz.de/collection/catalogue/details/culture/DSM-24864: 503 Server Error: Service Unavailable for url: https://www.dsmz.de/collection/catalogue/details/culture/DSM-24864. Retrying 2/5...\n",
      "Error fetching link https://www.dsmz.de/collection/catalogue/details/culture/DSM-24883: 503 Server Error: Service Unavailable for url: https://www.dsmz.de/collection/catalogue/details/culture/DSM-24883. Retrying 1/5...\n",
      "Error fetching link https://www.dsmz.de/collection/catalogue/details/culture/DSM-24756: 503 Server Error: Service Unavailable for url: https://www.dsmz.de/collection/catalogue/details/culture/DSM-24756. Retrying 1/5...\n",
      "Error fetching link https://www.dsmz.de/collection/catalogue/details/culture/DSM-24856: 503 Server Error: Service Unavailable for url: https://www.dsmz.de/collection/catalogue/details/culture/DSM-24856. Retrying 2/5...\n",
      "Error fetching link https://www.dsmz.de/collection/catalogue/details/culture/DSM-24867: 503 Server Error: Service Unavailable for url: https://www.dsmz.de/collection/catalogue/details/culture/DSM-24867. Retrying 2/5...\n",
      "Error fetching link https://www.dsmz.de/collection/catalogue/details/culture/DSM-24865: 503 Server Error: Service Unavailable for url: https://www.dsmz.de/collection/catalogue/details/culture/DSM-24865. Retrying 2/5...\n",
      "Error fetching link https://www.dsmz.de/collection/catalogue/details/culture/DSM-24838: 503 Server Error: Service Unavailable for url: https://www.dsmz.de/collection/catalogue/details/culture/DSM-24838. Retrying 1/5...\n",
      "Error fetching link https://www.dsmz.de/collection/catalogue/details/culture/DSM-24885: 503 Server Error: Service Unavailable for url: https://www.dsmz.de/collection/catalogue/details/culture/DSM-24885. Retrying 1/5...\n"
     ]
    },
    {
     "name": "stderr",
     "output_type": "stream",
     "text": [
      "DSMZ Catalogue link Progress:  37%|███▋      | 13866/37746 [42:14<1:31:04,  4.37it/s]"
     ]
    },
    {
     "name": "stdout",
     "output_type": "stream",
     "text": [
      "Error fetching link https://www.dsmz.de/collection/catalogue/details/culture/DSM-24876: 503 Server Error: Service Unavailable for url: https://www.dsmz.de/collection/catalogue/details/culture/DSM-24876. Retrying 1/5...\n",
      "Error fetching link https://www.dsmz.de/collection/catalogue/details/culture/DSM-24884: 503 Server Error: Service Unavailable for url: https://www.dsmz.de/collection/catalogue/details/culture/DSM-24884. Retrying 1/5...\n",
      "Error fetching link https://www.dsmz.de/collection/catalogue/details/culture/DSM-24804: 503 Server Error: Service Unavailable for url: https://www.dsmz.de/collection/catalogue/details/culture/DSM-24804. Retrying 1/5...\n",
      "Error fetching link https://www.dsmz.de/collection/catalogue/details/culture/DSM-24878: 503 Server Error: Service Unavailable for url: https://www.dsmz.de/collection/catalogue/details/culture/DSM-24878. Retrying 1/5...\n",
      "Error fetching link https://www.dsmz.de/collection/catalogue/details/culture/DSM-24866: 503 Server Error: Service Unavailable for url: https://www.dsmz.de/collection/catalogue/details/culture/DSM-24866. Retrying 2/5...\n",
      "Error fetching link https://www.dsmz.de/collection/catalogue/details/culture/DSM-24887: 503 Server Error: Service Unavailable for url: https://www.dsmz.de/collection/catalogue/details/culture/DSM-24887. Retrying 1/5...\n",
      "Error fetching link https://www.dsmz.de/collection/catalogue/details/culture/DSM-24868: 503 Server Error: Service Unavailable for url: https://www.dsmz.de/collection/catalogue/details/culture/DSM-24868. Retrying 2/5...\n",
      "Error fetching link https://www.dsmz.de/collection/catalogue/details/culture/DSM-24869: 503 Server Error: Service Unavailable for url: https://www.dsmz.de/collection/catalogue/details/culture/DSM-24869. Retrying 2/5...\n",
      "Error fetching link https://www.dsmz.de/collection/catalogue/details/culture/DSM-24844: 503 Server Error: Service Unavailable for url: https://www.dsmz.de/collection/catalogue/details/culture/DSM-24844. Retrying 1/5...\n",
      "Error fetching link https://www.dsmz.de/collection/catalogue/details/culture/DSM-24875: 503 Server Error: Service Unavailable for url: https://www.dsmz.de/collection/catalogue/details/culture/DSM-24875. Retrying 2/5...\n",
      "Error fetching link https://www.dsmz.de/collection/catalogue/details/culture/DSM-24890: 503 Server Error: Service Unavailable for url: https://www.dsmz.de/collection/catalogue/details/culture/DSM-24890. Retrying 1/5...\n",
      "Error fetching link https://www.dsmz.de/collection/catalogue/details/culture/DSM-24889: 503 Server Error: Service Unavailable for url: https://www.dsmz.de/collection/catalogue/details/culture/DSM-24889. Retrying 1/5...\n",
      "Error fetching link https://www.dsmz.de/collection/catalogue/details/culture/DSM-24874: 503 Server Error: Service Unavailable for url: https://www.dsmz.de/collection/catalogue/details/culture/DSM-24874. Retrying 2/5...\n",
      "Error fetching link https://www.dsmz.de/collection/catalogue/details/culture/DSM-24851: 503 Server Error: Service Unavailable for url: https://www.dsmz.de/collection/catalogue/details/culture/DSM-24851. Retrying 3/5...\n"
     ]
    },
    {
     "name": "stderr",
     "output_type": "stream",
     "text": [
      "DSMZ Catalogue link Progress:  37%|███▋      | 13869/37746 [42:14<1:34:33,  4.21it/s]"
     ]
    },
    {
     "name": "stdout",
     "output_type": "stream",
     "text": [
      "Error fetching link https://www.dsmz.de/collection/catalogue/details/culture/DSM-24888: 503 Server Error: Service Unavailable for url: https://www.dsmz.de/collection/catalogue/details/culture/DSM-24888. Retrying 1/5...Error fetching link https://www.dsmz.de/collection/catalogue/details/culture/DSM-24857: 503 Server Error: Service Unavailable for url: https://www.dsmz.de/collection/catalogue/details/culture/DSM-24857. Retrying 2/5...\n",
      "Error fetching link https://www.dsmz.de/collection/catalogue/details/culture/DSM-24842: 503 Server Error: Service Unavailable for url: https://www.dsmz.de/collection/catalogue/details/culture/DSM-24842. Retrying 3/5...\n",
      "\n"
     ]
    },
    {
     "name": "stderr",
     "output_type": "stream",
     "text": [
      "DSMZ Catalogue link Progress:  37%|███▋      | 13874/37746 [42:15<1:29:32,  4.44it/s]"
     ]
    },
    {
     "name": "stdout",
     "output_type": "stream",
     "text": [
      "Error fetching link https://www.dsmz.de/collection/catalogue/details/culture/DSM-24886: 503 Server Error: Service Unavailable for url: https://www.dsmz.de/collection/catalogue/details/culture/DSM-24886. Retrying 1/5...Error fetching link https://www.dsmz.de/collection/catalogue/details/culture/DSM-24879: 503 Server Error: Service Unavailable for url: https://www.dsmz.de/collection/catalogue/details/culture/DSM-24879. Retrying 2/5...\n",
      "Error fetching link https://www.dsmz.de/collection/catalogue/details/culture/DSM-24881: 503 Server Error: Service Unavailable for url: https://www.dsmz.de/collection/catalogue/details/culture/DSM-24881. Retrying 2/5...\n",
      "\n",
      "Error fetching link https://www.dsmz.de/collection/catalogue/details/culture/DSM-24850: 503 Server Error: Service Unavailable for url: https://www.dsmz.de/collection/catalogue/details/culture/DSM-24850. Retrying 3/5...\n",
      "Error fetching link https://www.dsmz.de/collection/catalogue/details/culture/DSM-24880: 503 Server Error: Service Unavailable for url: https://www.dsmz.de/collection/catalogue/details/culture/DSM-24880. Retrying 2/5...\n",
      "Error fetching link https://www.dsmz.de/collection/catalogue/details/culture/DSM-24849: 503 Server Error: Service Unavailable for url: https://www.dsmz.de/collection/catalogue/details/culture/DSM-24849. Retrying 2/5...\n"
     ]
    },
    {
     "name": "stderr",
     "output_type": "stream",
     "text": [
      "DSMZ Catalogue link Progress:  37%|███▋      | 13876/37746 [42:16<1:25:55,  4.63it/s]"
     ]
    },
    {
     "name": "stdout",
     "output_type": "stream",
     "text": [
      "Error fetching link https://www.dsmz.de/collection/catalogue/details/culture/DSM-24882: 503 Server Error: Service Unavailable for url: https://www.dsmz.de/collection/catalogue/details/culture/DSM-24882. Retrying 2/5...\n",
      "Error fetching link https://www.dsmz.de/collection/catalogue/details/culture/DSM-24892: 503 Server Error: Service Unavailable for url: https://www.dsmz.de/collection/catalogue/details/culture/DSM-24892. Retrying 1/5...\n",
      "Error fetching link https://www.dsmz.de/collection/catalogue/details/culture/DSM-24864: 503 Server Error: Service Unavailable for url: https://www.dsmz.de/collection/catalogue/details/culture/DSM-24864. Retrying 3/5...\n",
      "Error fetching link https://www.dsmz.de/collection/catalogue/details/culture/DSM-24856: 503 Server Error: Service Unavailable for url: https://www.dsmz.de/collection/catalogue/details/culture/DSM-24856. Retrying 3/5...\n",
      "Error fetching link https://www.dsmz.de/collection/catalogue/details/culture/DSM-24827: 503 Server Error: Service Unavailable for url: https://www.dsmz.de/collection/catalogue/details/culture/DSM-24827. Retrying 2/5...\n",
      "Error fetching link https://www.dsmz.de/collection/catalogue/details/culture/DSM-24859: 503 Server Error: Service Unavailable for url: https://www.dsmz.de/collection/catalogue/details/culture/DSM-24859. Retrying 3/5...\n",
      "Error fetching link https://www.dsmz.de/collection/catalogue/details/culture/DSM-24756: 503 Server Error: Service Unavailable for url: https://www.dsmz.de/collection/catalogue/details/culture/DSM-24756. Retrying 2/5...\n",
      "Error fetching link https://www.dsmz.de/collection/catalogue/details/culture/DSM-24793: 503 Server Error: Service Unavailable for url: https://www.dsmz.de/collection/catalogue/details/culture/DSM-24793. Retrying 2/5...\n",
      "Error fetching link https://www.dsmz.de/collection/catalogue/details/culture/DSM-24891: 503 Server Error: Service Unavailable for url: https://www.dsmz.de/collection/catalogue/details/culture/DSM-24891. Retrying 1/5...\n",
      "Error fetching link https://www.dsmz.de/collection/catalogue/details/culture/DSM-24865: 503 Server Error: Service Unavailable for url: https://www.dsmz.de/collection/catalogue/details/culture/DSM-24865. Retrying 3/5...\n",
      "Error fetching link https://www.dsmz.de/collection/catalogue/details/culture/DSM-24899: 503 Server Error: Service Unavailable for url: https://www.dsmz.de/collection/catalogue/details/culture/DSM-24899. Retrying 1/5...\n",
      "Error fetching link https://www.dsmz.de/collection/catalogue/details/culture/DSM-24885: 503 Server Error: Service Unavailable for url: https://www.dsmz.de/collection/catalogue/details/culture/DSM-24885. Retrying 2/5...\n"
     ]
    },
    {
     "name": "stderr",
     "output_type": "stream",
     "text": [
      "DSMZ Catalogue link Progress:  37%|███▋      | 13878/37746 [42:16<1:19:39,  4.99it/s]"
     ]
    },
    {
     "name": "stdout",
     "output_type": "stream",
     "text": [
      "Error fetching link https://www.dsmz.de/collection/catalogue/details/culture/DSM-24883: 503 Server Error: Service Unavailable for url: https://www.dsmz.de/collection/catalogue/details/culture/DSM-24883. Retrying 2/5...\n",
      "Error fetching link https://www.dsmz.de/collection/catalogue/details/culture/DSM-24838: 503 Server Error: Service Unavailable for url: https://www.dsmz.de/collection/catalogue/details/culture/DSM-24838. Retrying 2/5...\n"
     ]
    },
    {
     "name": "stderr",
     "output_type": "stream",
     "text": [
      "DSMZ Catalogue link Progress:  37%|███▋      | 13881/37746 [42:16<1:02:27,  6.37it/s]"
     ]
    },
    {
     "name": "stdout",
     "output_type": "stream",
     "text": [
      "Error fetching link https://www.dsmz.de/collection/catalogue/details/culture/DSM-24893: 503 Server Error: Service Unavailable for url: https://www.dsmz.de/collection/catalogue/details/culture/DSM-24893. Retrying 1/5...\n",
      "Error fetching link https://www.dsmz.de/collection/catalogue/details/culture/DSM-24860: 503 Server Error: Service Unavailable for url: https://www.dsmz.de/collection/catalogue/details/culture/DSM-24860. Retrying 3/5...\n",
      "Error fetching link https://www.dsmz.de/collection/catalogue/details/culture/DSM-24867: 503 Server Error: Service Unavailable for url: https://www.dsmz.de/collection/catalogue/details/culture/DSM-24867. Retrying 3/5...\n"
     ]
    },
    {
     "name": "stderr",
     "output_type": "stream",
     "text": [
      "DSMZ Catalogue link Progress:  37%|███▋      | 13883/37746 [42:17<1:13:30,  5.41it/s]"
     ]
    },
    {
     "name": "stdout",
     "output_type": "stream",
     "text": [
      "Error fetching link https://www.dsmz.de/collection/catalogue/details/culture/DSM-24878: 503 Server Error: Service Unavailable for url: https://www.dsmz.de/collection/catalogue/details/culture/DSM-24878. Retrying 2/5...\n",
      "Error fetching link https://www.dsmz.de/collection/catalogue/details/culture/DSM-24901: 503 Server Error: Service Unavailable for url: https://www.dsmz.de/collection/catalogue/details/culture/DSM-24901. Retrying 1/5...\n",
      "Error fetching link https://www.dsmz.de/collection/catalogue/details/culture/DSM-24876: 503 Server Error: Service Unavailable for url: https://www.dsmz.de/collection/catalogue/details/culture/DSM-24876. Retrying 2/5...\n",
      "Error fetching link https://www.dsmz.de/collection/catalogue/details/culture/DSM-24874: 503 Server Error: Service Unavailable for url: https://www.dsmz.de/collection/catalogue/details/culture/DSM-24874. Retrying 3/5...\n",
      "Error fetching link https://www.dsmz.de/collection/catalogue/details/culture/DSM-24844: 503 Server Error: Service Unavailable for url: https://www.dsmz.de/collection/catalogue/details/culture/DSM-24844. Retrying 2/5...\n",
      "Error fetching link https://www.dsmz.de/collection/catalogue/details/culture/DSM-24887: 503 Server Error: Service Unavailable for url: https://www.dsmz.de/collection/catalogue/details/culture/DSM-24887. Retrying 2/5...\n",
      "Error fetching link https://www.dsmz.de/collection/catalogue/details/culture/DSM-24851: 503 Server Error: Service Unavailable for url: https://www.dsmz.de/collection/catalogue/details/culture/DSM-24851. Retrying 4/5...\n",
      "Error fetching link https://www.dsmz.de/collection/catalogue/details/culture/DSM-24869: 503 Server Error: Service Unavailable for url: https://www.dsmz.de/collection/catalogue/details/culture/DSM-24869. Retrying 3/5...\n",
      "Error fetching link https://www.dsmz.de/collection/catalogue/details/culture/DSM-24868: 503 Server Error: Service Unavailable for url: https://www.dsmz.de/collection/catalogue/details/culture/DSM-24868. Retrying 3/5...\n",
      "Error fetching link https://www.dsmz.de/collection/catalogue/details/culture/DSM-24875: 503 Server Error: Service Unavailable for url: https://www.dsmz.de/collection/catalogue/details/culture/DSM-24875. Retrying 3/5...\n",
      "Error fetching link https://www.dsmz.de/collection/catalogue/details/culture/DSM-24866: 503 Server Error: Service Unavailable for url: https://www.dsmz.de/collection/catalogue/details/culture/DSM-24866. Retrying 3/5...\n",
      "Error fetching link https://www.dsmz.de/collection/catalogue/details/culture/DSM-24908: 503 Server Error: Service Unavailable for url: https://www.dsmz.de/collection/catalogue/details/culture/DSM-24908. Retrying 1/5...\n",
      "Error fetching link https://www.dsmz.de/collection/catalogue/details/culture/DSM-24905: 503 Server Error: Service Unavailable for url: https://www.dsmz.de/collection/catalogue/details/culture/DSM-24905. Retrying 1/5...\n",
      "Error fetching link https://www.dsmz.de/collection/catalogue/details/culture/DSM-24909: 503 Server Error: Service Unavailable for url: https://www.dsmz.de/collection/catalogue/details/culture/DSM-24909. Retrying 1/5...\n",
      "Error fetching link https://www.dsmz.de/collection/catalogue/details/culture/DSM-24912: 503 Server Error: Service Unavailable for url: https://www.dsmz.de/collection/catalogue/details/culture/DSM-24912. Retrying 1/5...\n",
      "Error fetching link https://www.dsmz.de/collection/catalogue/details/culture/DSM-24842: 503 Server Error: Service Unavailable for url: https://www.dsmz.de/collection/catalogue/details/culture/DSM-24842. Retrying 4/5...\n",
      "Error fetching link https://www.dsmz.de/collection/catalogue/details/culture/DSM-24894: 503 Server Error: Service Unavailable for url: https://www.dsmz.de/collection/catalogue/details/culture/DSM-24894. Retrying 1/5...\n"
     ]
    },
    {
     "name": "stderr",
     "output_type": "stream",
     "text": [
      "DSMZ Catalogue link Progress:  37%|███▋      | 13886/37746 [42:17<55:17,  7.19it/s]  "
     ]
    },
    {
     "name": "stdout",
     "output_type": "stream",
     "text": [
      "Error fetching link https://www.dsmz.de/collection/catalogue/details/culture/DSM-24857: 503 Server Error: Service Unavailable for url: https://www.dsmz.de/collection/catalogue/details/culture/DSM-24857. Retrying 3/5...\n",
      "Error fetching link https://www.dsmz.de/collection/catalogue/details/culture/DSM-24888: 503 Server Error: Service Unavailable for url: https://www.dsmz.de/collection/catalogue/details/culture/DSM-24888. Retrying 2/5...\n",
      "Error fetching link https://www.dsmz.de/collection/catalogue/details/culture/DSM-24884: 503 Server Error: Service Unavailable for url: https://www.dsmz.de/collection/catalogue/details/culture/DSM-24884. Retrying 2/5...\n",
      "Error fetching link https://www.dsmz.de/collection/catalogue/details/culture/DSM-24913: 503 Server Error: Service Unavailable for url: https://www.dsmz.de/collection/catalogue/details/culture/DSM-24913. Retrying 1/5...\n",
      "Error fetching link https://www.dsmz.de/collection/catalogue/details/culture/DSM-24804: 503 Server Error: Service Unavailable for url: https://www.dsmz.de/collection/catalogue/details/culture/DSM-24804. Retrying 2/5...\n",
      "Error fetching link https://www.dsmz.de/collection/catalogue/details/culture/DSM-24915: 503 Server Error: Service Unavailable for url: https://www.dsmz.de/collection/catalogue/details/culture/DSM-24915. Retrying 1/5...\n"
     ]
    },
    {
     "name": "stderr",
     "output_type": "stream",
     "text": [
      "DSMZ Catalogue link Progress:  37%|███▋      | 13887/37746 [42:17<59:00,  6.74it/s]"
     ]
    },
    {
     "name": "stdout",
     "output_type": "stream",
     "text": [
      "Error fetching link https://www.dsmz.de/collection/catalogue/details/culture/DSM-24889: 503 Server Error: Service Unavailable for url: https://www.dsmz.de/collection/catalogue/details/culture/DSM-24889. Retrying 2/5...\n"
     ]
    },
    {
     "name": "stderr",
     "output_type": "stream",
     "text": [
      "DSMZ Catalogue link Progress:  39%|███▊      | 14620/37746 [44:23<1:12:39,  5.30it/s]"
     ]
    },
    {
     "name": "stdout",
     "output_type": "stream",
     "text": [
      "No soup for https://www.dsmz.de/collection/catalogue/details/culture/DSM-25820\n"
     ]
    },
    {
     "name": "stderr",
     "output_type": "stream",
     "text": [
      "DSMZ Catalogue link Progress:  39%|███▉      | 14798/37746 [44:52<45:13,  8.46it/s]  "
     ]
    },
    {
     "name": "stdout",
     "output_type": "stream",
     "text": [
      "No soup for https://www.dsmz.de/collection/catalogue/details/culture/DSM-26149\n"
     ]
    },
    {
     "name": "stderr",
     "output_type": "stream",
     "text": [
      "DSMZ Catalogue link Progress:  39%|███▉      | 14881/37746 [45:06<54:00,  7.06it/s]  "
     ]
    },
    {
     "name": "stdout",
     "output_type": "stream",
     "text": [
      "No soup for https://www.dsmz.de/collection/catalogue/details/culture/DSM-26289\n"
     ]
    },
    {
     "name": "stderr",
     "output_type": "stream",
     "text": [
      "DSMZ Catalogue link Progress:  40%|███▉      | 14975/37746 [45:21<46:22,  8.18it/s]  "
     ]
    },
    {
     "name": "stdout",
     "output_type": "stream",
     "text": [
      "No soup for https://www.dsmz.de/collection/catalogue/details/culture/DSM-26483\n"
     ]
    },
    {
     "name": "stderr",
     "output_type": "stream",
     "text": [
      "DSMZ Catalogue link Progress:  40%|███▉      | 15026/37746 [45:30<56:39,  6.68it/s]  "
     ]
    },
    {
     "name": "stdout",
     "output_type": "stream",
     "text": [
      "No soup for https://www.dsmz.de/collection/catalogue/details/culture/DSM-26535\n"
     ]
    },
    {
     "name": "stderr",
     "output_type": "stream",
     "text": [
      "DSMZ Catalogue link Progress:  40%|███▉      | 15082/37746 [45:40<1:22:32,  4.58it/s]"
     ]
    },
    {
     "name": "stdout",
     "output_type": "stream",
     "text": [
      "No soup for https://www.dsmz.de/collection/catalogue/details/culture/DSM-26617\n"
     ]
    },
    {
     "name": "stderr",
     "output_type": "stream",
     "text": [
      "DSMZ Catalogue link Progress:  40%|████      | 15240/37746 [46:07<1:01:59,  6.05it/s]"
     ]
    },
    {
     "name": "stdout",
     "output_type": "stream",
     "text": [
      "No soup for https://www.dsmz.de/collection/catalogue/details/culture/DSM-26994\n"
     ]
    },
    {
     "name": "stderr",
     "output_type": "stream",
     "text": [
      "DSMZ Catalogue link Progress:  41%|████      | 15461/37746 [46:43<54:27,  6.82it/s]  "
     ]
    },
    {
     "name": "stdout",
     "output_type": "stream",
     "text": [
      "No soup for https://www.dsmz.de/collection/catalogue/details/culture/DSM-27412\n"
     ]
    },
    {
     "name": "stderr",
     "output_type": "stream",
     "text": [
      "DSMZ Catalogue link Progress:  41%|████      | 15466/37746 [46:44<59:07,  6.28it/s]  "
     ]
    },
    {
     "name": "stdout",
     "output_type": "stream",
     "text": [
      "No soup for https://www.dsmz.de/collection/catalogue/details/culture/DSM-27411\n"
     ]
    },
    {
     "name": "stderr",
     "output_type": "stream",
     "text": [
      "DSMZ Catalogue link Progress:  43%|████▎     | 16300/37746 [49:03<31:23, 11.39it/s]  "
     ]
    },
    {
     "name": "stdout",
     "output_type": "stream",
     "text": [
      "No soup for https://www.dsmz.de/collection/catalogue/details/culture/DSM-29370\n"
     ]
    },
    {
     "name": "stderr",
     "output_type": "stream",
     "text": [
      "DSMZ Catalogue link Progress:  52%|█████▏    | 19718/37746 [58:53<51:39,  5.82it/s]  "
     ]
    },
    {
     "name": "stdout",
     "output_type": "stream",
     "text": [
      "No soup for https://www.dsmz.de/collection/catalogue/details/culture/DSM-44096\n"
     ]
    },
    {
     "name": "stderr",
     "output_type": "stream",
     "text": [
      "DSMZ Catalogue link Progress:  53%|█████▎    | 19857/37746 [59:17<53:23,  5.58it/s]  "
     ]
    },
    {
     "name": "stdout",
     "output_type": "stream",
     "text": [
      "No soup for https://www.dsmz.de/collection/catalogue/details/culture/DSM-44252\n"
     ]
    },
    {
     "name": "stderr",
     "output_type": "stream",
     "text": [
      "DSMZ Catalogue link Progress:  61%|██████▏   | 23146/37746 [1:08:51<44:14,  5.50it/s]  "
     ]
    },
    {
     "name": "stdout",
     "output_type": "stream",
     "text": [
      "Error fetching link https://www.dsmz.de/collection/catalogue/details/culture/DSM-52526: HTTPSConnectionPool(host='www.dsmz.de', port=443): Max retries exceeded with url: /collection/catalogue/details/culture/DSM-52526 (Caused by NameResolutionError(\"<urllib3.connection.HTTPSConnection object at 0x3a2939b10>: Failed to resolve 'www.dsmz.de' ([Errno 8] nodename nor servname provided, or not known)\")). Retrying 1/5...\n"
     ]
    },
    {
     "name": "stderr",
     "output_type": "stream",
     "text": [
      "DSMZ Catalogue link Progress:  66%|██████▌   | 24780/37746 [1:13:24<32:06,  6.73it/s]  "
     ]
    },
    {
     "name": "stdout",
     "output_type": "stream",
     "text": [
      "No soup for https://www.dsmz.de/collection/catalogue/details/culture/DSM-62534\n"
     ]
    },
    {
     "name": "stderr",
     "output_type": "stream",
     "text": [
      "DSMZ Catalogue link Progress:  66%|██████▌   | 24814/37746 [1:13:30<40:07,  5.37it/s]  "
     ]
    },
    {
     "name": "stdout",
     "output_type": "stream",
     "text": [
      "No soup for https://www.dsmz.de/collection/catalogue/details/culture/DSM-62635\n"
     ]
    },
    {
     "name": "stderr",
     "output_type": "stream",
     "text": [
      "DSMZ Catalogue link Progress:  67%|██████▋   | 25456/37746 [1:15:21<30:22,  6.74it/s]  "
     ]
    },
    {
     "name": "stdout",
     "output_type": "stream",
     "text": [
      "No soup for https://www.dsmz.de/collection/catalogue/details/culture/DSM-100352\n"
     ]
    },
    {
     "name": "stderr",
     "output_type": "stream",
     "text": [
      "DSMZ Catalogue link Progress:  67%|██████▋   | 25460/37746 [1:15:22<23:42,  8.64it/s]"
     ]
    },
    {
     "name": "stdout",
     "output_type": "stream",
     "text": [
      "No soup for https://www.dsmz.de/collection/catalogue/details/culture/DSM-100351\n",
      "No soup for https://www.dsmz.de/collection/catalogue/details/culture/DSM-100355\n",
      "No soup for https://www.dsmz.de/collection/catalogue/details/culture/DSM-100354\n"
     ]
    },
    {
     "name": "stderr",
     "output_type": "stream",
     "text": [
      "DSMZ Catalogue link Progress:  70%|██████▉   | 26262/37746 [1:17:35<28:02,  6.83it/s]  "
     ]
    },
    {
     "name": "stdout",
     "output_type": "stream",
     "text": [
      "No soup for https://www.dsmz.de/collection/catalogue/details/culture/DSM-102177\n"
     ]
    },
    {
     "name": "stderr",
     "output_type": "stream",
     "text": [
      "DSMZ Catalogue link Progress:  71%|███████▏  | 26933/37746 [1:19:32<32:48,  5.49it/s]  "
     ]
    },
    {
     "name": "stdout",
     "output_type": "stream",
     "text": [
      "No soup for https://www.dsmz.de/collection/catalogue/details/culture/DSM-103221\n"
     ]
    },
    {
     "name": "stderr",
     "output_type": "stream",
     "text": [
      "DSMZ Catalogue link Progress:  72%|███████▏  | 27087/37746 [1:19:59<35:01,  5.07it/s]"
     ]
    },
    {
     "name": "stdout",
     "output_type": "stream",
     "text": [
      "No soup for https://www.dsmz.de/collection/catalogue/details/culture/DSM-103579\n"
     ]
    },
    {
     "name": "stderr",
     "output_type": "stream",
     "text": [
      "DSMZ Catalogue link Progress:  74%|███████▍  | 27990/37746 [1:22:29<24:59,  6.51it/s]  "
     ]
    },
    {
     "name": "stdout",
     "output_type": "stream",
     "text": [
      "No soup for https://www.dsmz.de/collection/catalogue/details/culture/DSM-106271\n"
     ]
    },
    {
     "name": "stderr",
     "output_type": "stream",
     "text": [
      "DSMZ Catalogue link Progress:  74%|███████▍  | 27994/37746 [1:22:29<18:49,  8.64it/s]"
     ]
    },
    {
     "name": "stdout",
     "output_type": "stream",
     "text": [
      "No soup for https://www.dsmz.de/collection/catalogue/details/culture/DSM-106269\n"
     ]
    },
    {
     "name": "stderr",
     "output_type": "stream",
     "text": [
      "DSMZ Catalogue link Progress:  75%|███████▍  | 28153/37746 [1:22:56<21:12,  7.54it/s]  "
     ]
    },
    {
     "name": "stdout",
     "output_type": "stream",
     "text": [
      "No soup for https://www.dsmz.de/collection/catalogue/details/culture/DSM-107180\n"
     ]
    },
    {
     "name": "stderr",
     "output_type": "stream",
     "text": [
      "DSMZ Catalogue link Progress:  76%|███████▌  | 28594/37746 [1:24:09<27:46,  5.49it/s]"
     ]
    },
    {
     "name": "stdout",
     "output_type": "stream",
     "text": [
      "Error fetching link https://www.dsmz.de/collection/catalogue/details/culture/DSM-109528: ('Connection aborted.', ConnectionResetError(54, 'Connection reset by peer')). Retrying 1/5...\n"
     ]
    },
    {
     "name": "stderr",
     "output_type": "stream",
     "text": [
      "DSMZ Catalogue link Progress:  76%|███████▋  | 28856/37746 [1:24:54<35:24,  4.19it/s]"
     ]
    },
    {
     "name": "stdout",
     "output_type": "stream",
     "text": [
      "Error fetching link https://www.dsmz.de/collection/catalogue/details/culture/DSM-110961: ('Connection aborted.', ConnectionResetError(54, 'Connection reset by peer')). Retrying 1/5...\n"
     ]
    },
    {
     "name": "stderr",
     "output_type": "stream",
     "text": [
      "DSMZ Catalogue link Progress:  77%|███████▋  | 28883/37746 [1:24:58<25:39,  5.76it/s]"
     ]
    },
    {
     "name": "stdout",
     "output_type": "stream",
     "text": [
      "No soup for https://www.dsmz.de/collection/catalogue/details/culture/DSM-110005\n"
     ]
    },
    {
     "name": "stderr",
     "output_type": "stream",
     "text": [
      "DSMZ Catalogue link Progress:  77%|███████▋  | 29085/37746 [1:25:32<29:47,  4.84it/s]"
     ]
    },
    {
     "name": "stdout",
     "output_type": "stream",
     "text": [
      "No soup for https://bacdive.dsmz.de/strain/160835\n"
     ]
    },
    {
     "name": "stderr",
     "output_type": "stream",
     "text": [
      "DSMZ Catalogue link Progress:  77%|███████▋  | 29089/37746 [1:25:32<17:26,  8.27it/s]"
     ]
    },
    {
     "name": "stdout",
     "output_type": "stream",
     "text": [
      "No soup for https://bacdive.dsmz.de/strain/160849\n",
      "No soup for https://bacdive.dsmz.de/strain/134852\n",
      "No soup for https://bacdive.dsmz.de/strain/139090\n"
     ]
    },
    {
     "name": "stderr",
     "output_type": "stream",
     "text": [
      "DSMZ Catalogue link Progress:  77%|███████▋  | 29093/37746 [1:25:33<09:04, 15.89it/s]"
     ]
    },
    {
     "name": "stdout",
     "output_type": "stream",
     "text": [
      "No soup for https://bacdive.dsmz.de/strain/160862\n"
     ]
    },
    {
     "name": "stderr",
     "output_type": "stream",
     "text": [
      "DSMZ Catalogue link Progress:  77%|███████▋  | 29098/37746 [1:25:33<18:24,  7.83it/s]"
     ]
    },
    {
     "name": "stdout",
     "output_type": "stream",
     "text": [
      "No soup for https://bacdive.dsmz.de/strain/160882\n",
      "No soup for https://bacdive.dsmz.de/strain/160853\n",
      "No soup for https://bacdive.dsmz.de/strain/160865\n",
      "No soup for https://bacdive.dsmz.de/strain/160878\n"
     ]
    },
    {
     "name": "stderr",
     "output_type": "stream",
     "text": [
      "DSMZ Catalogue link Progress:  77%|███████▋  | 29107/37746 [1:25:34<14:08, 10.18it/s]"
     ]
    },
    {
     "name": "stdout",
     "output_type": "stream",
     "text": [
      "No soup for https://www.dsmz.de/collection/catalogue/details/culture/DSM-111079\n",
      "No soup for https://bacdive.dsmz.de/strain/160897\n",
      "No soup for https://bacdive.dsmz.de/strain/136237\n"
     ]
    },
    {
     "name": "stderr",
     "output_type": "stream",
     "text": [
      "DSMZ Catalogue link Progress:  77%|███████▋  | 29110/37746 [1:25:34<12:04, 11.92it/s]"
     ]
    },
    {
     "name": "stdout",
     "output_type": "stream",
     "text": [
      "No soup for https://bacdive.dsmz.de/strain/160879\n",
      "No soup for https://bacdive.dsmz.de/strain/160903\n",
      "No soup for https://bacdive.dsmz.de/strain/160902\n",
      "No soup for https://bacdive.dsmz.de/strain/160899\n",
      "No soup for https://bacdive.dsmz.de/strain/160874\n"
     ]
    },
    {
     "name": "stderr",
     "output_type": "stream",
     "text": [
      "DSMZ Catalogue link Progress:  77%|███████▋  | 29116/37746 [1:25:34<08:31, 16.88it/s]"
     ]
    },
    {
     "name": "stdout",
     "output_type": "stream",
     "text": [
      "No soup for https://bacdive.dsmz.de/strain/135306\n",
      "No soup for https://bacdive.dsmz.de/strain/138080\n",
      "No soup for https://bacdive.dsmz.de/strain/135293\n",
      "No soup for https://bacdive.dsmz.de/strain/160906\n"
     ]
    },
    {
     "name": "stderr",
     "output_type": "stream",
     "text": [
      "DSMZ Catalogue link Progress:  77%|███████▋  | 29121/37746 [1:25:35<09:17, 15.47it/s]"
     ]
    },
    {
     "name": "stdout",
     "output_type": "stream",
     "text": [
      "No soup for https://bacdive.dsmz.de/strain/160905\n",
      "No soup for https://bacdive.dsmz.de/strain/160908\n"
     ]
    },
    {
     "name": "stderr",
     "output_type": "stream",
     "text": [
      "DSMZ Catalogue link Progress:  77%|███████▋  | 29125/37746 [1:25:35<11:18, 12.70it/s]"
     ]
    },
    {
     "name": "stdout",
     "output_type": "stream",
     "text": [
      "No soup for https://bacdive.dsmz.de/strain/160943\n",
      "No soup for https://bacdive.dsmz.de/strain/160944\n",
      "No soup for https://bacdive.dsmz.de/strain/160898\n"
     ]
    },
    {
     "name": "stderr",
     "output_type": "stream",
     "text": [
      "DSMZ Catalogue link Progress:  77%|███████▋  | 29130/37746 [1:25:35<12:05, 11.88it/s]"
     ]
    },
    {
     "name": "stdout",
     "output_type": "stream",
     "text": [
      "No soup for https://bacdive.dsmz.de/strain/160950\n",
      "No soup for https://bacdive.dsmz.de/strain/160964\n"
     ]
    },
    {
     "name": "stderr",
     "output_type": "stream",
     "text": [
      "DSMZ Catalogue link Progress:  77%|███████▋  | 29133/37746 [1:25:36<10:09, 14.13it/s]"
     ]
    },
    {
     "name": "stdout",
     "output_type": "stream",
     "text": [
      "No soup for https://bacdive.dsmz.de/strain/160967\n",
      "No soup for https://bacdive.dsmz.de/strain/160960\n",
      "No soup for https://bacdive.dsmz.de/strain/160956\n"
     ]
    },
    {
     "name": "stderr",
     "output_type": "stream",
     "text": [
      "DSMZ Catalogue link Progress:  77%|███████▋  | 29144/37746 [1:25:36<06:10, 23.24it/s]"
     ]
    },
    {
     "name": "stdout",
     "output_type": "stream",
     "text": [
      "No soup for https://bacdive.dsmz.de/strain/161008\n",
      "No soup for https://bacdive.dsmz.de/strain/161016\n",
      "No soup for https://bacdive.dsmz.de/strain/160907\n",
      "No soup for https://bacdive.dsmz.de/strain/137290\n",
      "No soup for https://bacdive.dsmz.de/strain/160925\n",
      "No soup for https://bacdive.dsmz.de/strain/161004\n",
      "No soup for https://bacdive.dsmz.de/strain/160894\n",
      "No soup for https://bacdive.dsmz.de/strain/161019\n",
      "No soup for https://bacdive.dsmz.de/strain/161017\n"
     ]
    },
    {
     "name": "stderr",
     "output_type": "stream",
     "text": [
      "DSMZ Catalogue link Progress:  77%|███████▋  | 29148/37746 [1:25:36<02:59, 48.03it/s]"
     ]
    },
    {
     "name": "stdout",
     "output_type": "stream",
     "text": [
      "No soup for https://bacdive.dsmz.de/strain/160915\n",
      "No soup for https://bacdive.dsmz.de/strain/161020\n"
     ]
    },
    {
     "name": "stderr",
     "output_type": "stream",
     "text": [
      "DSMZ Catalogue link Progress:  77%|███████▋  | 29167/37746 [1:25:37<09:00, 15.86it/s]"
     ]
    },
    {
     "name": "stdout",
     "output_type": "stream",
     "text": [
      "No soup for https://bacdive.dsmz.de/strain/161126No soup for https://bacdive.dsmz.de/strain/138474\n",
      "No soup for https://bacdive.dsmz.de/strain/161078\n",
      "No soup for https://bacdive.dsmz.de/strain/161122\n",
      "No soup for https://bacdive.dsmz.de/strain/161080\n",
      "\n",
      "No soup for https://bacdive.dsmz.de/strain/160981\n",
      "No soup for https://bacdive.dsmz.de/strain/160959\n",
      "No soup for https://bacdive.dsmz.de/strain/160955\n",
      "No soup for https://bacdive.dsmz.de/strain/161074\n",
      "No soup for https://bacdive.dsmz.de/strain/160961\n",
      "No soup for https://bacdive.dsmz.de/strain/137310\n",
      "No soup for https://bacdive.dsmz.de/strain/139036\n"
     ]
    },
    {
     "name": "stderr",
     "output_type": "stream",
     "text": [
      "DSMZ Catalogue link Progress:  77%|███████▋  | 29178/37746 [1:25:38<06:08, 23.26it/s]"
     ]
    },
    {
     "name": "stdout",
     "output_type": "stream",
     "text": [
      "No soup for https://bacdive.dsmz.de/strain/161129\n",
      "No soup for https://bacdive.dsmz.de/strain/162860\n",
      "No soup for https://bacdive.dsmz.de/strain/161283\n",
      "No soup for https://bacdive.dsmz.de/strain/161174\n",
      "No soup for https://bacdive.dsmz.de/strain/161212\n",
      "No soup for https://bacdive.dsmz.de/strain/161314\n",
      "No soup for https://bacdive.dsmz.de/strain/161128\n",
      "No soup for https://bacdive.dsmz.de/strain/161272\n",
      "No soup for https://bacdive.dsmz.de/strain/161313\n"
     ]
    },
    {
     "name": "stderr",
     "output_type": "stream",
     "text": [
      "DSMZ Catalogue link Progress:  77%|███████▋  | 29186/37746 [1:25:38<06:42, 21.26it/s]"
     ]
    },
    {
     "name": "stdout",
     "output_type": "stream",
     "text": [
      "No soup for https://bacdive.dsmz.de/strain/135189\n",
      "No soup for https://bacdive.dsmz.de/strain/136238\n",
      "No soup for https://bacdive.dsmz.de/strain/137682\n",
      "No soup for https://bacdive.dsmz.de/strain/161271\n",
      "No soup for https://bacdive.dsmz.de/strain/138772\n"
     ]
    },
    {
     "name": "stderr",
     "output_type": "stream",
     "text": [
      "DSMZ Catalogue link Progress:  77%|███████▋  | 29190/37746 [1:25:38<08:15, 17.28it/s]"
     ]
    },
    {
     "name": "stdout",
     "output_type": "stream",
     "text": [
      "No soup for https://bacdive.dsmz.de/strain/143571No soup for https://bacdive.dsmz.de/strain/138176\n",
      "\n",
      "No soup for https://bacdive.dsmz.de/strain/138175\n",
      "No soup for https://bacdive.dsmz.de/strain/161246\n",
      "No soup for https://bacdive.dsmz.de/strain/161188\n",
      "Error fetching link https://www.dsmz.de/collection/catalogue/details/culture/DSM-108803: ('Connection aborted.', RemoteDisconnected('Remote end closed connection without response')). Retrying 1/5...\n"
     ]
    },
    {
     "name": "stderr",
     "output_type": "stream",
     "text": [
      "DSMZ Catalogue link Progress:  77%|███████▋  | 29198/37746 [1:25:39<07:00, 20.33it/s]"
     ]
    },
    {
     "name": "stdout",
     "output_type": "stream",
     "text": [
      "No soup for https://bacdive.dsmz.de/strain/161336\n",
      "No soup for https://bacdive.dsmz.de/strain/161209\n",
      "No soup for https://bacdive.dsmz.de/strain/161315\n",
      "No soup for https://bacdive.dsmz.de/strain/161334\n",
      "No soup for https://bacdive.dsmz.de/strain/161348\n"
     ]
    },
    {
     "name": "stderr",
     "output_type": "stream",
     "text": [
      "DSMZ Catalogue link Progress:  77%|███████▋  | 29211/37746 [1:25:39<04:21, 32.64it/s]"
     ]
    },
    {
     "name": "stdout",
     "output_type": "stream",
     "text": [
      "No soup for https://bacdive.dsmz.de/strain/161317\n",
      "No soup for https://bacdive.dsmz.de/strain/161380\n",
      "No soup for https://bacdive.dsmz.de/strain/161332\n",
      "No soup for https://bacdive.dsmz.de/strain/161395\n",
      "No soup for https://bacdive.dsmz.de/strain/161394\n",
      "No soup for https://bacdive.dsmz.de/strain/161386\n",
      "No soup for https://bacdive.dsmz.de/strain/161273\n",
      "No soup for https://bacdive.dsmz.de/strain/161383\n",
      "No soup for https://bacdive.dsmz.de/strain/161349\n",
      "No soup for https://bacdive.dsmz.de/strain/161385\n",
      "No soup for https://bacdive.dsmz.de/strain/161360\n",
      "No soup for https://bacdive.dsmz.de/strain/161384\n",
      "No soup for https://bacdive.dsmz.de/strain/161393\n",
      "No soup for https://bacdive.dsmz.de/strain/161549\n",
      "No soup for https://bacdive.dsmz.de/strain/161396\n",
      "No soup for https://bacdive.dsmz.de/strain/161397\n",
      "No soup for https://bacdive.dsmz.de/strain/161548\n",
      "No soup for https://bacdive.dsmz.de/strain/161544\n"
     ]
    },
    {
     "name": "stderr",
     "output_type": "stream",
     "text": [
      "DSMZ Catalogue link Progress:  77%|███████▋  | 29236/37746 [1:25:40<17:41,  8.02it/s]"
     ]
    },
    {
     "name": "stdout",
     "output_type": "stream",
     "text": [
      "No soup for https://bacdive.dsmz.de/strain/161547No soup for https://bacdive.dsmz.de/strain/161366\n",
      "No soup for https://bacdive.dsmz.de/strain/161381\n",
      "No soup for https://bacdive.dsmz.de/strain/161559\n",
      "No soup for https://bacdive.dsmz.de/strain/161375\n",
      "No soup for https://bacdive.dsmz.de/strain/161600\n",
      "No soup for https://bacdive.dsmz.de/strain/161398\n",
      "No soup for https://bacdive.dsmz.de/strain/161555\n",
      "No soup for https://bacdive.dsmz.de/strain/161603\n",
      "\n",
      "No soup for https://bacdive.dsmz.de/strain/137173\n",
      "No soup for https://bacdive.dsmz.de/strain/137106\n"
     ]
    },
    {
     "name": "stderr",
     "output_type": "stream",
     "text": [
      "DSMZ Catalogue link Progress:  77%|███████▋  | 29241/37746 [1:25:40<12:22, 11.45it/s]"
     ]
    },
    {
     "name": "stdout",
     "output_type": "stream",
     "text": [
      "No soup for https://bacdive.dsmz.de/strain/161868\n",
      "No soup for https://bacdive.dsmz.de/strain/161886\n"
     ]
    },
    {
     "name": "stderr",
     "output_type": "stream",
     "text": [
      "DSMZ Catalogue link Progress:  77%|███████▋  | 29245/37746 [1:25:41<12:15, 11.55it/s]"
     ]
    },
    {
     "name": "stdout",
     "output_type": "stream",
     "text": [
      "No soup for https://bacdive.dsmz.de/strain/162612\n",
      "No soup for https://bacdive.dsmz.de/strain/161869\n",
      "No soup for https://bacdive.dsmz.de/strain/162007\n",
      "No soup for https://bacdive.dsmz.de/strain/161546\n",
      "No soup for https://bacdive.dsmz.de/strain/161533\n",
      "No soup for https://bacdive.dsmz.de/strain/161875\n",
      "No soup for https://bacdive.dsmz.de/strain/161557\n",
      "No soup for https://bacdive.dsmz.de/strain/161612\n",
      "No soup for https://bacdive.dsmz.de/strain/162625\n"
     ]
    },
    {
     "name": "stderr",
     "output_type": "stream",
     "text": [
      "DSMZ Catalogue link Progress:  78%|███████▊  | 29257/37746 [1:25:41<04:43, 29.92it/s]"
     ]
    },
    {
     "name": "stdout",
     "output_type": "stream",
     "text": [
      "No soup for https://bacdive.dsmz.de/strain/161560No soup for https://bacdive.dsmz.de/strain/162590\n",
      "No soup for https://bacdive.dsmz.de/strain/162008\n",
      "\n",
      "No soup for https://bacdive.dsmz.de/strain/162623\n",
      "No soup for https://bacdive.dsmz.de/strain/161872\n",
      "No soup for https://bacdive.dsmz.de/strain/162608\n",
      "No soup for https://bacdive.dsmz.de/strain/162581\n",
      "No soup for https://bacdive.dsmz.de/strain/162620\n"
     ]
    },
    {
     "name": "stderr",
     "output_type": "stream",
     "text": [
      "DSMZ Catalogue link Progress:  78%|███████▊  | 29268/37746 [1:25:41<04:14, 33.32it/s]"
     ]
    },
    {
     "name": "stdout",
     "output_type": "stream",
     "text": [
      "No soup for https://bacdive.dsmz.de/strain/162579No soup for https://bacdive.dsmz.de/strain/162613\n",
      "\n",
      "No soup for https://bacdive.dsmz.de/strain/138177\n",
      "No soup for https://bacdive.dsmz.de/strain/162621\n",
      "No soup for https://bacdive.dsmz.de/strain/162602\n",
      "No soup for https://bacdive.dsmz.de/strain/137315\n"
     ]
    },
    {
     "name": "stderr",
     "output_type": "stream",
     "text": [
      "DSMZ Catalogue link Progress:  78%|███████▊  | 29272/37746 [1:25:41<05:37, 25.13it/s]"
     ]
    },
    {
     "name": "stdout",
     "output_type": "stream",
     "text": [
      "No soup for https://bacdive.dsmz.de/strain/162631\n",
      "No soup for https://bacdive.dsmz.de/strain/162786\n",
      "No soup for https://bacdive.dsmz.de/strain/162637\n",
      "No soup for https://bacdive.dsmz.de/strain/162644\n",
      "No soup for https://bacdive.dsmz.de/strain/162648\n"
     ]
    },
    {
     "name": "stderr",
     "output_type": "stream",
     "text": [
      "DSMZ Catalogue link Progress:  78%|███████▊  | 29280/37746 [1:25:42<05:14, 26.88it/s]"
     ]
    },
    {
     "name": "stdout",
     "output_type": "stream",
     "text": [
      "No soup for https://bacdive.dsmz.de/strain/162809\n",
      "No soup for https://bacdive.dsmz.de/strain/162801\n",
      "No soup for https://bacdive.dsmz.de/strain/162742\n",
      "No soup for https://bacdive.dsmz.de/strain/162954\n",
      "No soup for https://bacdive.dsmz.de/strain/162874\n"
     ]
    },
    {
     "name": "stderr",
     "output_type": "stream",
     "text": [
      "DSMZ Catalogue link Progress:  78%|███████▊  | 29295/37746 [1:25:42<02:41, 52.24it/s]"
     ]
    },
    {
     "name": "stdout",
     "output_type": "stream",
     "text": [
      "No soup for https://bacdive.dsmz.de/strain/162812\n",
      "No soup for https://bacdive.dsmz.de/strain/163121\n",
      "No soup for https://bacdive.dsmz.de/strain/162843\n",
      "No soup for https://bacdive.dsmz.de/strain/162855\n",
      "No soup for https://bacdive.dsmz.de/strain/162847\n",
      "No soup for https://bacdive.dsmz.de/strain/162839\n",
      "No soup for https://bacdive.dsmz.de/strain/163125\n",
      "No soup for https://bacdive.dsmz.de/strain/162865\n",
      "No soup for https://bacdive.dsmz.de/strain/162816\n",
      "No soup for https://bacdive.dsmz.de/strain/163127\n",
      "No soup for https://bacdive.dsmz.de/strain/163143\n",
      "No soup for https://bacdive.dsmz.de/strain/162818\n",
      "No soup for https://bacdive.dsmz.de/strain/163124\n",
      "No soup for https://bacdive.dsmz.de/strain/163122\n",
      "No soup for https://bacdive.dsmz.de/strain/163108\n",
      "No soup for https://bacdive.dsmz.de/strain/163151\n",
      "No soup for https://bacdive.dsmz.de/strain/162795\n",
      "No soup for https://bacdive.dsmz.de/strain/163132\n",
      "No soup for https://bacdive.dsmz.de/strain/163206\n",
      "No soup for https://bacdive.dsmz.de/strain/163160\n",
      "No soup for https://bacdive.dsmz.de/strain/100236\n",
      "No soup for https://bacdive.dsmz.de/strain/163209\n",
      "No soup for https://bacdive.dsmz.de/strain/163184\n",
      "No soup for https://bacdive.dsmz.de/strain/162831\n",
      "No soup for https://bacdive.dsmz.de/strain/163174\n",
      "No soup for https://bacdive.dsmz.de/strain/163164\n",
      "No soup for https://bacdive.dsmz.de/strain/163129\n",
      "No soup for https://bacdive.dsmz.de/strain/163227\n",
      "No soup for https://bacdive.dsmz.de/strain/163252\n",
      "No soup for https://bacdive.dsmz.de/strain/163257\n",
      "No soup for https://bacdive.dsmz.de/strain/163196\n",
      "No soup for https://bacdive.dsmz.de/strain/163186\n",
      "No soup for https://bacdive.dsmz.de/strain/163208\n",
      "No soup for https://bacdive.dsmz.de/strain/163188\n",
      "No soup for https://bacdive.dsmz.de/strain/163183\n",
      "No soup for https://bacdive.dsmz.de/strain/162780\n"
     ]
    },
    {
     "name": "stderr",
     "output_type": "stream",
     "text": [
      "DSMZ Catalogue link Progress:  78%|███████▊  | 29343/37746 [1:25:43<14:07,  9.91it/s]"
     ]
    },
    {
     "name": "stdout",
     "output_type": "stream",
     "text": [
      "No soup for https://bacdive.dsmz.de/strain/136227No soup for https://bacdive.dsmz.de/strain/162805\n",
      "\n",
      "No soup for https://bacdive.dsmz.de/strain/163259\n",
      "No soup for https://bacdive.dsmz.de/strain/162790\n",
      "No soup for https://bacdive.dsmz.de/strain/139137\n",
      "No soup for https://bacdive.dsmz.de/strain/163266\n",
      "No soup for https://bacdive.dsmz.de/strain/163264\n",
      "No soup for https://bacdive.dsmz.de/strain/135307\n",
      "No soup for https://bacdive.dsmz.de/strain/163262\n",
      "No soup for https://bacdive.dsmz.de/strain/163263\n",
      "No soup for https://bacdive.dsmz.de/strain/163265\n",
      "No soup for https://bacdive.dsmz.de/strain/163273\n",
      "No soup for https://bacdive.dsmz.de/strain/163260\n",
      "No soup for https://bacdive.dsmz.de/strain/163267\n",
      "No soup for https://bacdive.dsmz.de/strain/163261\n",
      "No soup for https://bacdive.dsmz.de/strain/163272\n",
      "No soup for https://bacdive.dsmz.de/strain/163276\n",
      "No soup for https://bacdive.dsmz.de/strain/163275\n"
     ]
    },
    {
     "name": "stderr",
     "output_type": "stream",
     "text": [
      "DSMZ Catalogue link Progress:  78%|███████▊  | 29355/37746 [1:25:44<07:16, 19.21it/s]"
     ]
    },
    {
     "name": "stdout",
     "output_type": "stream",
     "text": [
      "No soup for https://bacdive.dsmz.de/strain/163181\n",
      "No soup for https://bacdive.dsmz.de/strain/163290\n",
      "No soup for https://bacdive.dsmz.de/strain/163288\n",
      "No soup for https://bacdive.dsmz.de/strain/163277\n",
      "No soup for https://bacdive.dsmz.de/strain/163294\n",
      "No soup for https://bacdive.dsmz.de/strain/163287\n",
      "No soup for https://bacdive.dsmz.de/strain/163258\n",
      "No soup for https://bacdive.dsmz.de/strain/163167\n",
      "No soup for https://bacdive.dsmz.de/strain/142755\n",
      "No soup for https://bacdive.dsmz.de/strain/163289\n",
      "No soup for https://bacdive.dsmz.de/strain/137687\n"
     ]
    },
    {
     "name": "stderr",
     "output_type": "stream",
     "text": [
      "DSMZ Catalogue link Progress:  78%|███████▊  | 29369/37746 [1:25:44<05:27, 25.58it/s]"
     ]
    },
    {
     "name": "stdout",
     "output_type": "stream",
     "text": [
      "No soup for https://bacdive.dsmz.de/strain/163292No soup for https://bacdive.dsmz.de/strain/143292\n",
      "\n",
      "No soup for https://bacdive.dsmz.de/strain/163278\n",
      "No soup for https://bacdive.dsmz.de/strain/143973\n",
      "No soup for https://bacdive.dsmz.de/strain/163270\n",
      "No soup for https://bacdive.dsmz.de/strain/163232\n",
      "No soup for https://bacdive.dsmz.de/strain/163249\n",
      "No soup for https://bacdive.dsmz.de/strain/163293\n",
      "No soup for https://bacdive.dsmz.de/strain/163271\n",
      "No soup for https://bacdive.dsmz.de/strain/163268\n"
     ]
    },
    {
     "name": "stderr",
     "output_type": "stream",
     "text": [
      "DSMZ Catalogue link Progress:  78%|███████▊  | 29373/37746 [1:25:44<08:03, 17.33it/s]"
     ]
    },
    {
     "name": "stdout",
     "output_type": "stream",
     "text": [
      "No soup for https://bacdive.dsmz.de/strain/163295\n",
      "No soup for https://bacdive.dsmz.de/strain/163297\n",
      "No soup for https://bacdive.dsmz.de/strain/163296\n",
      "No soup for https://bacdive.dsmz.de/strain/163291\n",
      "No soup for https://bacdive.dsmz.de/strain/141250\n"
     ]
    },
    {
     "name": "stderr",
     "output_type": "stream",
     "text": [
      "DSMZ Catalogue link Progress:  78%|███████▊  | 29380/37746 [1:25:44<06:54, 20.20it/s]"
     ]
    },
    {
     "name": "stdout",
     "output_type": "stream",
     "text": [
      "No soup for https://bacdive.dsmz.de/strain/163336\n",
      "No soup for https://bacdive.dsmz.de/strain/163347\n",
      "No soup for https://bacdive.dsmz.de/strain/163345\n",
      "No soup for https://bacdive.dsmz.de/strain/163343\n",
      "No soup for https://bacdive.dsmz.de/strain/163339\n"
     ]
    },
    {
     "name": "stderr",
     "output_type": "stream",
     "text": [
      "DSMZ Catalogue link Progress:  78%|███████▊  | 29427/37746 [1:25:46<04:00, 34.66it/s]"
     ]
    },
    {
     "name": "stdout",
     "output_type": "stream",
     "text": [
      "No soup for https://bacdive.dsmz.de/strain/163366\n",
      "No soup for https://bacdive.dsmz.de/strain/163361\n",
      "No soup for https://bacdive.dsmz.de/strain/163340\n",
      "No soup for https://bacdive.dsmz.de/strain/163352\n",
      "No soup for https://bacdive.dsmz.de/strain/163371\n",
      "No soup for https://bacdive.dsmz.de/strain/163367\n",
      "No soup for https://bacdive.dsmz.de/strain/163355\n",
      "No soup for https://bacdive.dsmz.de/strain/163342\n",
      "No soup for https://bacdive.dsmz.de/strain/163386\n",
      "No soup for https://bacdive.dsmz.de/strain/163368\n",
      "No soup for https://bacdive.dsmz.de/strain/163350\n",
      "No soup for https://bacdive.dsmz.de/strain/163373\n",
      "No soup for https://bacdive.dsmz.de/strain/137823\n",
      "No soup for https://bacdive.dsmz.de/strain/163360\n",
      "No soup for https://bacdive.dsmz.de/strain/163395\n",
      "No soup for https://bacdive.dsmz.de/strain/163388\n",
      "No soup for https://bacdive.dsmz.de/strain/163375\n",
      "No soup for https://bacdive.dsmz.de/strain/163400\n",
      "No soup for https://bacdive.dsmz.de/strain/163376\n",
      "No soup for https://bacdive.dsmz.de/strain/163356\n",
      "No soup for https://bacdive.dsmz.de/strain/163379\n",
      "No soup for https://bacdive.dsmz.de/strain/163377\n",
      "No soup for https://bacdive.dsmz.de/strain/163380\n",
      "No soup for https://bacdive.dsmz.de/strain/163383\n",
      "No soup for https://bacdive.dsmz.de/strain/163398\n",
      "No soup for https://bacdive.dsmz.de/strain/163393\n",
      "No soup for https://bacdive.dsmz.de/strain/163389\n",
      "No soup for https://bacdive.dsmz.de/strain/163387\n",
      "No soup for https://bacdive.dsmz.de/strain/163382\n",
      "No soup for https://bacdive.dsmz.de/strain/163374\n",
      "No soup for https://bacdive.dsmz.de/strain/163401\n",
      "No soup for https://bacdive.dsmz.de/strain/163370\n",
      "No soup for https://bacdive.dsmz.de/strain/163394\n",
      "No soup for https://bacdive.dsmz.de/strain/163396\n",
      "No soup for https://bacdive.dsmz.de/strain/163381\n",
      "No soup for https://bacdive.dsmz.de/strain/163364\n"
     ]
    },
    {
     "name": "stderr",
     "output_type": "stream",
     "text": [
      "DSMZ Catalogue link Progress:  78%|███████▊  | 29434/37746 [1:25:46<04:31, 30.57it/s]"
     ]
    },
    {
     "name": "stdout",
     "output_type": "stream",
     "text": [
      "No soup for https://bacdive.dsmz.de/strain/163411\n",
      "No soup for https://bacdive.dsmz.de/strain/163417\n",
      "No soup for https://bacdive.dsmz.de/strain/163403\n",
      "No soup for https://bacdive.dsmz.de/strain/163412\n",
      "No soup for https://bacdive.dsmz.de/strain/163369\n",
      "No soup for https://bacdive.dsmz.de/strain/163423\n"
     ]
    },
    {
     "name": "stderr",
     "output_type": "stream",
     "text": [
      "DSMZ Catalogue link Progress:  78%|███████▊  | 29445/37746 [1:25:47<04:01, 34.33it/s]"
     ]
    },
    {
     "name": "stdout",
     "output_type": "stream",
     "text": [
      "No soup for https://bacdive.dsmz.de/strain/163406\n",
      "No soup for https://bacdive.dsmz.de/strain/163363\n",
      "No soup for https://bacdive.dsmz.de/strain/163424\n",
      "Error fetching link https://bacdive.dsmz.de/strain/163720: HTTPSConnectionPool(host='bacdive.dsmz.de', port=443): Max retries exceeded with url: /strain/163720 (Caused by NameResolutionError(\"<urllib3.connection.HTTPSConnection object at 0x37590faf0>: Failed to resolve 'bacdive.dsmz.de' ([Errno 8] nodename nor servname provided, or not known)\")). Retrying 1/5...\n",
      "No soup for https://bacdive.dsmz.de/strain/163404\n",
      "No soup for https://bacdive.dsmz.de/strain/163409\n",
      "No soup for https://bacdive.dsmz.de/strain/163359\n",
      "No soup for https://bacdive.dsmz.de/strain/163422\n",
      "No soup for https://bacdive.dsmz.de/strain/163362\n",
      "No soup for https://bacdive.dsmz.de/strain/163419\n",
      "No soup for https://bacdive.dsmz.de/strain/163429\n",
      "No soup for https://bacdive.dsmz.de/strain/163372\n",
      "No soup for https://bacdive.dsmz.de/strain/163418\n",
      "No soup for https://bacdive.dsmz.de/strain/163341\n",
      "No soup for https://bacdive.dsmz.de/strain/163405\n"
     ]
    },
    {
     "name": "stderr",
     "output_type": "stream",
     "text": [
      "DSMZ Catalogue link Progress:  78%|███████▊  | 29459/37746 [1:25:47<03:18, 41.72it/s]"
     ]
    },
    {
     "name": "stdout",
     "output_type": "stream",
     "text": [
      "No soup for https://bacdive.dsmz.de/strain/163415\n",
      "No soup for https://bacdive.dsmz.de/strain/163378\n",
      "No soup for https://bacdive.dsmz.de/strain/163408\n",
      "No soup for https://bacdive.dsmz.de/strain/163410\n",
      "No soup for https://bacdive.dsmz.de/strain/163427\n",
      "No soup for https://bacdive.dsmz.de/strain/163420\n",
      "No soup for https://bacdive.dsmz.de/strain/163416\n",
      "No soup for https://bacdive.dsmz.de/strain/163385\n",
      "No soup for https://bacdive.dsmz.de/strain/163421\n",
      "No soup for https://bacdive.dsmz.de/strain/163365\n",
      "No soup for https://bacdive.dsmz.de/strain/163407\n",
      "No soup for https://bacdive.dsmz.de/strain/163392\n",
      "No soup for https://bacdive.dsmz.de/strain/163390\n",
      "No soup for https://bacdive.dsmz.de/strain/163414\n",
      "No soup for https://bacdive.dsmz.de/strain/163428\n",
      "No soup for https://bacdive.dsmz.de/strain/163384\n"
     ]
    },
    {
     "name": "stderr",
     "output_type": "stream",
     "text": [
      "DSMZ Catalogue link Progress:  78%|███████▊  | 29477/37746 [1:25:47<01:48, 76.52it/s]"
     ]
    },
    {
     "name": "stdout",
     "output_type": "stream",
     "text": [
      "No soup for https://bacdive.dsmz.de/strain/163402No soup for https://bacdive.dsmz.de/strain/163397\n",
      "No soup for https://bacdive.dsmz.de/strain/163391\n",
      "No soup for https://bacdive.dsmz.de/strain/163399\n",
      "\n",
      "No soup for https://bacdive.dsmz.de/strain/163430\n",
      "No soup for https://bacdive.dsmz.de/strain/163425\n",
      "No soup for https://bacdive.dsmz.de/strain/163426\n",
      "No soup for https://bacdive.dsmz.de/strain/136549\n",
      "No soup for https://bacdive.dsmz.de/strain/163509\n",
      "No soup for https://bacdive.dsmz.de/strain/163434\n",
      "No soup for https://bacdive.dsmz.de/strain/163525\n",
      "No soup for https://bacdive.dsmz.de/strain/163433\n",
      "No soup for https://bacdive.dsmz.de/strain/163432\n",
      "No soup for https://bacdive.dsmz.de/strain/163438\n",
      "No soup for https://bacdive.dsmz.de/strain/163436\n",
      "No soup for https://bacdive.dsmz.de/strain/163437\n",
      "No soup for https://bacdive.dsmz.de/strain/163515\n",
      "No soup for https://bacdive.dsmz.de/strain/163506\n",
      "No soup for https://bacdive.dsmz.de/strain/163564\n",
      "No soup for https://bacdive.dsmz.de/strain/163413\n",
      "No soup for https://bacdive.dsmz.de/strain/163488\n"
     ]
    },
    {
     "name": "stderr",
     "output_type": "stream",
     "text": [
      "DSMZ Catalogue link Progress:  78%|███████▊  | 29523/37746 [1:25:49<03:32, 38.71it/s]"
     ]
    },
    {
     "name": "stdout",
     "output_type": "stream",
     "text": [
      "No soup for https://bacdive.dsmz.de/strain/163522No soup for https://bacdive.dsmz.de/strain/163511\n",
      "No soup for https://bacdive.dsmz.de/strain/163578\n",
      "No soup for https://bacdive.dsmz.de/strain/163514\n",
      "No soup for https://bacdive.dsmz.de/strain/163570\n",
      "\n",
      "No soup for https://bacdive.dsmz.de/strain/163567\n",
      "No soup for https://bacdive.dsmz.de/strain/163540\n",
      "No soup for https://bacdive.dsmz.de/strain/163440\n",
      "No soup for https://bacdive.dsmz.de/strain/163521\n",
      "No soup for https://bacdive.dsmz.de/strain/163524\n",
      "No soup for https://bacdive.dsmz.de/strain/163523\n",
      "No soup for https://bacdive.dsmz.de/strain/163545\n",
      "No soup for https://bacdive.dsmz.de/strain/163615\n",
      "No soup for https://bacdive.dsmz.de/strain/163532\n",
      "No soup for https://bacdive.dsmz.de/strain/163507\n",
      "No soup for https://bacdive.dsmz.de/strain/163655\n",
      "No soup for https://bacdive.dsmz.de/strain/163679\n",
      "No soup for https://bacdive.dsmz.de/strain/163444\n",
      "No soup for https://bacdive.dsmz.de/strain/163435\n",
      "No soup for https://bacdive.dsmz.de/strain/163460\n",
      "No soup for https://bacdive.dsmz.de/strain/163512\n",
      "No soup for https://bacdive.dsmz.de/strain/163519\n",
      "No soup for https://bacdive.dsmz.de/strain/137083\n",
      "No soup for https://bacdive.dsmz.de/strain/138358\n",
      "No soup for https://bacdive.dsmz.de/strain/163681\n"
     ]
    },
    {
     "name": "stderr",
     "output_type": "stream",
     "text": [
      "DSMZ Catalogue link Progress:  78%|███████▊  | 29532/37746 [1:25:49<04:24, 31.03it/s]"
     ]
    },
    {
     "name": "stdout",
     "output_type": "stream",
     "text": [
      "No soup for https://bacdive.dsmz.de/strain/163513\n",
      "No soup for https://bacdive.dsmz.de/strain/163817\n",
      "No soup for https://bacdive.dsmz.de/strain/164184\n",
      "No soup for https://bacdive.dsmz.de/strain/163844\n",
      "No soup for https://bacdive.dsmz.de/strain/164244\n"
     ]
    },
    {
     "name": "stderr",
     "output_type": "stream",
     "text": [
      "DSMZ Catalogue link Progress:  78%|███████▊  | 29536/37746 [1:25:49<05:00, 27.30it/s]"
     ]
    },
    {
     "name": "stdout",
     "output_type": "stream",
     "text": [
      "No soup for https://bacdive.dsmz.de/strain/163510\n",
      "No soup for https://bacdive.dsmz.de/strain/163505\n",
      "No soup for https://bacdive.dsmz.de/strain/163517\n",
      "No soup for https://bacdive.dsmz.de/strain/163452\n"
     ]
    },
    {
     "name": "stderr",
     "output_type": "stream",
     "text": [
      "DSMZ Catalogue link Progress:  78%|███████▊  | 29546/37746 [1:25:49<04:02, 33.86it/s]"
     ]
    },
    {
     "name": "stdout",
     "output_type": "stream",
     "text": [
      "No soup for https://bacdive.dsmz.de/strain/138102\n",
      "No soup for https://bacdive.dsmz.de/strain/164503\n",
      "No soup for https://bacdive.dsmz.de/strain/163999\n",
      "No soup for https://bacdive.dsmz.de/strain/163877\n",
      "No soup for https://bacdive.dsmz.de/strain/164196\n",
      "No soup for https://bacdive.dsmz.de/strain/164304\n",
      "No soup for https://bacdive.dsmz.de/strain/164293\n",
      "No soup for https://bacdive.dsmz.de/strain/163431\n",
      "No soup for https://bacdive.dsmz.de/strain/163965\n",
      "No soup for https://bacdive.dsmz.de/strain/102939\n",
      "No soup for https://bacdive.dsmz.de/strain/163520\n",
      "No soup for https://bacdive.dsmz.de/strain/163829\n",
      "No soup for https://bacdive.dsmz.de/strain/163869\n",
      "No soup for https://bacdive.dsmz.de/strain/163439\n"
     ]
    },
    {
     "name": "stderr",
     "output_type": "stream",
     "text": [
      "DSMZ Catalogue link Progress:  78%|███████▊  | 29570/37746 [1:25:50<02:01, 67.45it/s]"
     ]
    },
    {
     "name": "stdout",
     "output_type": "stream",
     "text": [
      "No soup for https://bacdive.dsmz.de/strain/163518No soup for https://bacdive.dsmz.de/strain/164303\n",
      "\n",
      "No soup for https://bacdive.dsmz.de/strain/163516\n",
      "No soup for https://bacdive.dsmz.de/strain/163724\n",
      "No soup for https://bacdive.dsmz.de/strain/163971\n",
      "No soup for https://bacdive.dsmz.de/strain/163508\n",
      "No soup for https://bacdive.dsmz.de/strain/164474\n",
      "No soup for https://bacdive.dsmz.de/strain/163796\n",
      "No soup for https://bacdive.dsmz.de/strain/164330\n",
      "No soup for https://bacdive.dsmz.de/strain/163858\n",
      "No soup for https://bacdive.dsmz.de/strain/163584\n",
      "No soup for https://bacdive.dsmz.de/strain/137088\n",
      "No soup for https://bacdive.dsmz.de/strain/164307\n",
      "No soup for https://bacdive.dsmz.de/strain/164361\n",
      "No soup for https://bacdive.dsmz.de/strain/163678\n",
      "No soup for https://bacdive.dsmz.de/strain/164511\n",
      "No soup for https://bacdive.dsmz.de/strain/163682\n",
      "No soup for https://bacdive.dsmz.de/strain/163996\n",
      "No soup for https://bacdive.dsmz.de/strain/164292\n",
      "No soup for https://bacdive.dsmz.de/strain/163683\n",
      "No soup for https://bacdive.dsmz.de/strain/164471\n",
      "No soup for https://bacdive.dsmz.de/strain/164260\n",
      "No soup for https://bacdive.dsmz.de/strain/137086\n",
      "No soup for https://bacdive.dsmz.de/strain/163975\n",
      "No soup for https://bacdive.dsmz.de/strain/164499\n",
      "No soup for https://bacdive.dsmz.de/strain/138104\n",
      "No soup for https://bacdive.dsmz.de/strain/164765\n",
      "No soup for https://bacdive.dsmz.de/strain/163709\n",
      "No soup for https://bacdive.dsmz.de/strain/164768\n",
      "No soup for https://bacdive.dsmz.de/strain/163964\n",
      "No soup for https://bacdive.dsmz.de/strain/164788\n",
      "No soup for https://bacdive.dsmz.de/strain/164769\n",
      "No soup for https://bacdive.dsmz.de/strain/164557\n",
      "No soup for https://bacdive.dsmz.de/strain/164756\n",
      "No soup for https://bacdive.dsmz.de/strain/164753\n"
     ]
    },
    {
     "name": "stderr",
     "output_type": "stream",
     "text": [
      "DSMZ Catalogue link Progress:  79%|███████▊  | 29634/37746 [1:25:51<10:33, 12.80it/s]"
     ]
    },
    {
     "name": "stdout",
     "output_type": "stream",
     "text": [
      "No soup for https://bacdive.dsmz.de/strain/163680No soup for https://bacdive.dsmz.de/strain/163794\n",
      "\n",
      "No soup for https://bacdive.dsmz.de/strain/164773\n",
      "No soup for https://bacdive.dsmz.de/strain/164652\n",
      "No soup for https://bacdive.dsmz.de/strain/164620\n",
      "No soup for https://bacdive.dsmz.de/strain/164780\n",
      "No soup for https://bacdive.dsmz.de/strain/164763\n",
      "No soup for https://bacdive.dsmz.de/strain/136349\n",
      "No soup for https://bacdive.dsmz.de/strain/138103\n",
      "No soup for https://bacdive.dsmz.de/strain/164762\n",
      "No soup for https://bacdive.dsmz.de/strain/164785\n",
      "No soup for https://bacdive.dsmz.de/strain/164764\n",
      "No soup for https://bacdive.dsmz.de/strain/164770\n",
      "No soup for https://bacdive.dsmz.de/strain/164775\n",
      "No soup for https://bacdive.dsmz.de/strain/136348\n",
      "No soup for https://bacdive.dsmz.de/strain/164776\n",
      "No soup for https://bacdive.dsmz.de/strain/164697\n",
      "No soup for https://bacdive.dsmz.de/strain/164771\n",
      "No soup for https://bacdive.dsmz.de/strain/164774\n",
      "No soup for https://bacdive.dsmz.de/strain/164601\n",
      "No soup for https://bacdive.dsmz.de/strain/136347\n",
      "No soup for https://bacdive.dsmz.de/strain/164787\n",
      "No soup for https://bacdive.dsmz.de/strain/137669\n",
      "No soup for https://bacdive.dsmz.de/strain/164792\n",
      "No soup for https://bacdive.dsmz.de/strain/164783\n",
      "No soup for https://bacdive.dsmz.de/strain/164570\n",
      "No soup for https://bacdive.dsmz.de/strain/164781\n",
      "No soup for https://bacdive.dsmz.de/strain/164789\n",
      "No soup for https://bacdive.dsmz.de/strain/164699\n",
      "No soup for https://bacdive.dsmz.de/strain/164795\n",
      "No soup for https://bacdive.dsmz.de/strain/164736\n",
      "No soup for https://bacdive.dsmz.de/strain/164786\n",
      "No soup for https://bacdive.dsmz.de/strain/164794\n",
      "No soup for https://bacdive.dsmz.de/strain/164778\n",
      "No soup for https://bacdive.dsmz.de/strain/138105\n"
     ]
    },
    {
     "name": "stderr",
     "output_type": "stream",
     "text": [
      "DSMZ Catalogue link Progress:  79%|███████▊  | 29665/37746 [1:25:53<37:00,  3.64it/s]"
     ]
    },
    {
     "name": "stdout",
     "output_type": "stream",
     "text": [
      "No soup for https://bacdive.dsmz.de/strain/164577\n",
      "No soup for https://bacdive.dsmz.de/strain/164812\n",
      "No soup for https://bacdive.dsmz.de/strain/139218\n",
      "No soup for https://bacdive.dsmz.de/strain/164805\n",
      "No soup for https://bacdive.dsmz.de/strain/164782\n",
      "No soup for https://bacdive.dsmz.de/strain/164767\n",
      "No soup for https://bacdive.dsmz.de/strain/164816\n",
      "No soup for https://bacdive.dsmz.de/strain/164804\n",
      "No soup for https://bacdive.dsmz.de/strain/164801\n",
      "No soup for https://bacdive.dsmz.de/strain/164819\n",
      "No soup for https://bacdive.dsmz.de/strain/164790\n",
      "No soup for https://bacdive.dsmz.de/strain/164597\n",
      "No soup for https://bacdive.dsmz.de/strain/164766\n",
      "No soup for https://bacdive.dsmz.de/strain/164784\n",
      "No soup for https://bacdive.dsmz.de/strain/164817\n",
      "No soup for https://bacdive.dsmz.de/strain/164809\n",
      "No soup for https://bacdive.dsmz.de/strain/164808\n",
      "No soup for https://bacdive.dsmz.de/strain/164828\n",
      "No soup for https://bacdive.dsmz.de/strain/164803\n",
      "No soup for https://bacdive.dsmz.de/strain/164810\n",
      "No soup for https://bacdive.dsmz.de/strain/164826\n",
      "No soup for https://bacdive.dsmz.de/strain/164806\n",
      "No soup for https://bacdive.dsmz.de/strain/164807\n",
      "No soup for https://bacdive.dsmz.de/strain/164802\n",
      "No soup for https://bacdive.dsmz.de/strain/164798\n",
      "No soup for https://bacdive.dsmz.de/strain/164791\n",
      "No soup for https://bacdive.dsmz.de/strain/164793\n",
      "No soup for https://bacdive.dsmz.de/strain/164779\n",
      "No soup for https://bacdive.dsmz.de/strain/164799\n",
      "No soup for https://bacdive.dsmz.de/strain/164796\n",
      "No soup for https://bacdive.dsmz.de/strain/164822\n",
      "No soup for https://bacdive.dsmz.de/strain/164772\n",
      "No soup for https://bacdive.dsmz.de/strain/164813\n",
      "No soup for https://bacdive.dsmz.de/strain/164777\n",
      "No soup for https://bacdive.dsmz.de/strain/164818\n",
      "No soup for https://bacdive.dsmz.de/strain/164815\n",
      "No soup for https://bacdive.dsmz.de/strain/164797\n",
      "No soup for https://bacdive.dsmz.de/strain/164821\n",
      "No soup for https://bacdive.dsmz.de/strain/164814\n",
      "No soup for https://bacdive.dsmz.de/strain/164827\n",
      "No soup for https://bacdive.dsmz.de/strain/164602\n",
      "No soup for https://bacdive.dsmz.de/strain/164820\n",
      "No soup for https://www.dsmz.de/collection/catalogue/details/culture/DSM-20269\n",
      "No soup for https://bacdive.dsmz.de/strain/164824\n",
      "No soup for https://bacdive.dsmz.de/strain/164800\n",
      "No soup for https://bacdive.dsmz.de/strain/164811\n"
     ]
    },
    {
     "name": "stderr",
     "output_type": "stream",
     "text": [
      "DSMZ Catalogue link Progress:  79%|███████▊  | 29686/37746 [1:25:53<11:59, 11.20it/s]"
     ]
    },
    {
     "name": "stdout",
     "output_type": "stream",
     "text": [
      "No soup for https://bacdive.dsmz.de/strain/164823\n",
      "No soup for https://bacdive.dsmz.de/strain/164847\n",
      "No soup for https://bacdive.dsmz.de/strain/164853\n"
     ]
    },
    {
     "name": "stderr",
     "output_type": "stream",
     "text": [
      "DSMZ Catalogue link Progress:  79%|███████▊  | 29691/37746 [1:25:53<24:13,  5.54it/s]"
     ]
    },
    {
     "name": "stdout",
     "output_type": "stream",
     "text": [
      "No soup for https://bacdive.dsmz.de/strain/164850\n",
      "No soup for https://bacdive.dsmz.de/strain/164840\n",
      "No soup for https://bacdive.dsmz.de/strain/164845\n",
      "No soup for https://bacdive.dsmz.de/strain/164864\n",
      "No soup for https://bacdive.dsmz.de/strain/164833\n",
      "No soup for https://bacdive.dsmz.de/strain/164837\n",
      "No soup for https://bacdive.dsmz.de/strain/164858\n",
      "No soup for https://bacdive.dsmz.de/strain/164863\n",
      "No soup for https://bacdive.dsmz.de/strain/164862\n",
      "No soup for https://bacdive.dsmz.de/strain/164842\n",
      "No soup for https://bacdive.dsmz.de/strain/164839\n",
      "No soup for https://bacdive.dsmz.de/strain/164849\n",
      "No soup for https://bacdive.dsmz.de/strain/164871\n",
      "No soup for https://bacdive.dsmz.de/strain/164854\n"
     ]
    },
    {
     "name": "stderr",
     "output_type": "stream",
     "text": [
      "DSMZ Catalogue link Progress:  79%|███████▉  | 29729/37746 [1:25:55<54:13,  2.46it/s]"
     ]
    },
    {
     "name": "stdout",
     "output_type": "stream",
     "text": [
      "No soup for https://bacdive.dsmz.de/strain/164866No soup for https://bacdive.dsmz.de/strain/164834\n",
      "\n",
      "No soup for https://bacdive.dsmz.de/strain/164838\n",
      "No soup for https://bacdive.dsmz.de/strain/164841\n",
      "No soup for https://bacdive.dsmz.de/strain/164830\n",
      "No soup for https://bacdive.dsmz.de/strain/164836\n",
      "No soup for https://bacdive.dsmz.de/strain/164857\n",
      "No soup for https://bacdive.dsmz.de/strain/164856\n",
      "No soup for https://bacdive.dsmz.de/strain/164844\n",
      "No soup for https://bacdive.dsmz.de/strain/164846\n",
      "No soup for https://bacdive.dsmz.de/strain/164843\n",
      "No soup for https://bacdive.dsmz.de/strain/164829\n",
      "No soup for https://bacdive.dsmz.de/strain/164859\n",
      "No soup for https://bacdive.dsmz.de/strain/164851\n",
      "No soup for https://bacdive.dsmz.de/strain/164835\n",
      "No soup for https://bacdive.dsmz.de/strain/164831\n",
      "No soup for https://bacdive.dsmz.de/strain/164848\n",
      "No soup for https://bacdive.dsmz.de/strain/164852\n",
      "No soup for https://bacdive.dsmz.de/strain/164855\n",
      "No soup for https://bacdive.dsmz.de/strain/164832\n",
      "No soup for https://bacdive.dsmz.de/strain/164825\n",
      "No soup for https://bacdive.dsmz.de/strain/164861\n",
      "No soup for https://bacdive.dsmz.de/strain/164876\n",
      "No soup for https://bacdive.dsmz.de/strain/164860\n",
      "No soup for https://bacdive.dsmz.de/strain/164874\n",
      "No soup for https://bacdive.dsmz.de/strain/164872\n",
      "No soup for https://bacdive.dsmz.de/strain/164865\n",
      "No soup for https://bacdive.dsmz.de/strain/166296\n",
      "No soup for https://bacdive.dsmz.de/strain/138452\n"
     ]
    },
    {
     "name": "stderr",
     "output_type": "stream",
     "text": [
      "DSMZ Catalogue link Progress:  79%|███████▉  | 29743/37746 [1:25:56<2:25:57,  1.09s/it]"
     ]
    },
    {
     "name": "stdout",
     "output_type": "stream",
     "text": [
      "No soup for https://bacdive.dsmz.de/strain/164882\n",
      "No soup for https://bacdive.dsmz.de/strain/164885\n",
      "No soup for https://bacdive.dsmz.de/strain/164883\n",
      "No soup for https://bacdive.dsmz.de/strain/164873\n",
      "No soup for https://bacdive.dsmz.de/strain/164877\n",
      "No soup for https://bacdive.dsmz.de/strain/164884\n",
      "No soup for https://bacdive.dsmz.de/strain/164886\n",
      "No soup for https://bacdive.dsmz.de/strain/164881\n",
      "No soup for https://bacdive.dsmz.de/strain/164879\n",
      "No soup for https://bacdive.dsmz.de/strain/164880\n",
      "No soup for https://bacdive.dsmz.de/strain/164878\n",
      "No soup for https://bacdive.dsmz.de/strain/164875\n",
      "No soup for https://bacdive.dsmz.de/strain/164888\n"
     ]
    },
    {
     "name": "stderr",
     "output_type": "stream",
     "text": [
      "DSMZ Catalogue link Progress:  79%|███████▉  | 29745/37746 [1:25:56<2:25:55,  1.09s/it]"
     ]
    },
    {
     "name": "stdout",
     "output_type": "stream",
     "text": [
      "No soup for https://bacdive.dsmz.de/strain/164889\n",
      "No soup for https://bacdive.dsmz.de/strain/164887\n",
      "No soup for https://bacdive.dsmz.de/strain/164892\n",
      "No soup for https://bacdive.dsmz.de/strain/164890\n"
     ]
    },
    {
     "name": "stderr",
     "output_type": "stream",
     "text": [
      "DSMZ Catalogue link Progress:  79%|███████▉  | 29756/37746 [1:25:58<6:15:03,  2.82s/it]"
     ]
    },
    {
     "name": "stdout",
     "output_type": "stream",
     "text": [
      "No soup for https://bacdive.dsmz.de/strain/164893\n",
      "No soup for https://bacdive.dsmz.de/strain/164891\n",
      "No soup for https://bacdive.dsmz.de/strain/164894\n",
      "No soup for https://bacdive.dsmz.de/strain/164895\n",
      "No soup for https://bacdive.dsmz.de/strain/164896\n",
      "No soup for https://bacdive.dsmz.de/strain/164897\n",
      "No soup for https://bacdive.dsmz.de/strain/164900\n",
      "No soup for https://bacdive.dsmz.de/strain/164901\n",
      "No soup for https://bacdive.dsmz.de/strain/164898\n",
      "No soup for https://bacdive.dsmz.de/strain/164905\n",
      "No soup for https://bacdive.dsmz.de/strain/164904\n",
      "No soup for https://bacdive.dsmz.de/strain/164902\n",
      "No soup for https://bacdive.dsmz.de/strain/164907\n"
     ]
    },
    {
     "name": "stderr",
     "output_type": "stream",
     "text": [
      "DSMZ Catalogue link Progress:  79%|███████▉  | 29772/37746 [1:26:00<4:46:16,  2.15s/it]"
     ]
    },
    {
     "name": "stdout",
     "output_type": "stream",
     "text": [
      "No soup for https://bacdive.dsmz.de/strain/164910\n",
      "No soup for https://bacdive.dsmz.de/strain/164909\n",
      "No soup for https://bacdive.dsmz.de/strain/164899\n",
      "No soup for https://bacdive.dsmz.de/strain/164912\n",
      "No soup for https://bacdive.dsmz.de/strain/164908\n",
      "No soup for https://bacdive.dsmz.de/strain/164911\n",
      "No soup for https://bacdive.dsmz.de/strain/164913\n",
      "No soup for https://bacdive.dsmz.de/strain/164914\n",
      "No soup for https://bacdive.dsmz.de/strain/164903\n",
      "No soup for https://bacdive.dsmz.de/strain/164906\n",
      "No soup for https://bacdive.dsmz.de/strain/164915\n"
     ]
    },
    {
     "name": "stderr",
     "output_type": "stream",
     "text": [
      "DSMZ Catalogue link Progress:  79%|███████▉  | 29775/37746 [1:26:02<4:46:10,  2.15s/it]"
     ]
    },
    {
     "name": "stdout",
     "output_type": "stream",
     "text": [
      "No soup for https://bacdive.dsmz.de/strain/164916\n",
      "No soup for https://bacdive.dsmz.de/strain/164917\n",
      "No soup for https://bacdive.dsmz.de/strain/164919\n"
     ]
    },
    {
     "name": "stderr",
     "output_type": "stream",
     "text": [
      "DSMZ Catalogue link Progress:  79%|███████▉  | 29777/37746 [1:26:02<7:29:58,  3.39s/it]"
     ]
    },
    {
     "name": "stdout",
     "output_type": "stream",
     "text": [
      "No soup for https://bacdive.dsmz.de/strain/164924\n",
      "No soup for https://bacdive.dsmz.de/strain/164918\n"
     ]
    },
    {
     "name": "stderr",
     "output_type": "stream",
     "text": [
      "DSMZ Catalogue link Progress:  79%|███████▉  | 29779/37746 [1:26:03<10:16:11,  4.64s/it]"
     ]
    },
    {
     "name": "stdout",
     "output_type": "stream",
     "text": [
      "No soup for https://bacdive.dsmz.de/strain/164926\n",
      "No soup for https://bacdive.dsmz.de/strain/164922\n"
     ]
    },
    {
     "name": "stderr",
     "output_type": "stream",
     "text": [
      "DSMZ Catalogue link Progress:  79%|███████▉  | 29782/37746 [1:26:04<10:46:09,  4.87s/it]"
     ]
    },
    {
     "name": "stdout",
     "output_type": "stream",
     "text": [
      "No soup for https://bacdive.dsmz.de/strain/164931\n",
      "No soup for https://bacdive.dsmz.de/strain/164930\n",
      "No soup for https://bacdive.dsmz.de/strain/164925\n",
      "No soup for https://bacdive.dsmz.de/strain/164932\n"
     ]
    },
    {
     "name": "stderr",
     "output_type": "stream",
     "text": [
      "DSMZ Catalogue link Progress:  79%|███████▉  | 29787/37746 [1:26:05<15:36:03,  7.06s/it]"
     ]
    },
    {
     "name": "stdout",
     "output_type": "stream",
     "text": [
      "No soup for https://bacdive.dsmz.de/strain/164935\n",
      "No soup for https://bacdive.dsmz.de/strain/164928\n",
      "No soup for https://bacdive.dsmz.de/strain/164929\n",
      "No soup for https://bacdive.dsmz.de/strain/164936\n",
      "No soup for https://bacdive.dsmz.de/strain/164938\n"
     ]
    },
    {
     "name": "stderr",
     "output_type": "stream",
     "text": [
      "DSMZ Catalogue link Progress:  79%|███████▉  | 29790/37746 [1:26:07<18:43:55,  8.48s/it]"
     ]
    },
    {
     "name": "stdout",
     "output_type": "stream",
     "text": [
      "No soup for https://bacdive.dsmz.de/strain/164344\n",
      "No soup for https://bacdive.dsmz.de/strain/164942\n",
      "No soup for https://bacdive.dsmz.de/strain/164943\n"
     ]
    },
    {
     "name": "stderr",
     "output_type": "stream",
     "text": [
      "DSMZ Catalogue link Progress:  79%|███████▉  | 29794/37746 [1:26:08<16:49:14,  7.62s/it]"
     ]
    },
    {
     "name": "stdout",
     "output_type": "stream",
     "text": [
      "No soup for https://bacdive.dsmz.de/strain/164945No soup for https://bacdive.dsmz.de/strain/164946\n",
      "\n",
      "No soup for https://bacdive.dsmz.de/strain/164947\n"
     ]
    },
    {
     "name": "stderr",
     "output_type": "stream",
     "text": [
      "DSMZ Catalogue link Progress:  79%|███████▉  | 29797/37746 [1:26:11<17:21:43,  7.86s/it]"
     ]
    },
    {
     "name": "stdout",
     "output_type": "stream",
     "text": [
      "No soup for https://bacdive.dsmz.de/strain/163720\n",
      "No soup for https://bacdive.dsmz.de/strain/164707\n",
      "No soup for https://bacdive.dsmz.de/strain/164951\n",
      "No soup for https://bacdive.dsmz.de/strain/164952\n"
     ]
    },
    {
     "name": "stderr",
     "output_type": "stream",
     "text": [
      "DSMZ Catalogue link Progress:  79%|███████▉  | 29799/37746 [1:26:13<26:02:30, 11.80s/it]"
     ]
    },
    {
     "name": "stdout",
     "output_type": "stream",
     "text": [
      "No soup for https://bacdive.dsmz.de/strain/164953\n",
      "No soup for https://bacdive.dsmz.de/strain/164954\n"
     ]
    },
    {
     "name": "stderr",
     "output_type": "stream",
     "text": [
      "DSMZ Catalogue link Progress:  79%|███████▉  | 29803/37746 [1:26:17<24:43:56, 11.21s/it]"
     ]
    },
    {
     "name": "stdout",
     "output_type": "stream",
     "text": [
      "No soup for https://bacdive.dsmz.de/strain/164956\n",
      "No soup for https://bacdive.dsmz.de/strain/164955\n",
      "No soup for https://bacdive.dsmz.de/strain/164957\n",
      "No soup for https://bacdive.dsmz.de/strain/164958\n"
     ]
    },
    {
     "name": "stderr",
     "output_type": "stream",
     "text": [
      "DSMZ Catalogue link Progress:  79%|███████▉  | 29805/37746 [1:26:27<39:11:25, 17.77s/it]"
     ]
    },
    {
     "name": "stdout",
     "output_type": "stream",
     "text": [
      "No soup for https://bacdive.dsmz.de/strain/164964\n",
      "No soup for https://bacdive.dsmz.de/strain/164967\n"
     ]
    },
    {
     "name": "stderr",
     "output_type": "stream",
     "text": [
      "DSMZ Catalogue link Progress:  79%|███████▉  | 29808/37746 [1:26:29<48:42:04, 22.09s/it]"
     ]
    },
    {
     "name": "stdout",
     "output_type": "stream",
     "text": [
      "No soup for https://bacdive.dsmz.de/strain/164966\n",
      "No soup for https://bacdive.dsmz.de/strain/164968\n",
      "No soup for https://bacdive.dsmz.de/strain/164970\n"
     ]
    },
    {
     "name": "stderr",
     "output_type": "stream",
     "text": [
      "DSMZ Catalogue link Progress:  79%|███████▉  | 29811/37746 [1:26:35<53:00:33, 24.05s/it]"
     ]
    },
    {
     "name": "stdout",
     "output_type": "stream",
     "text": [
      "No soup for https://bacdive.dsmz.de/strain/164971\n",
      "No soup for https://bacdive.dsmz.de/strain/164973\n",
      "No soup for https://bacdive.dsmz.de/strain/164974\n",
      "No soup for https://bacdive.dsmz.de/strain/164975\n"
     ]
    },
    {
     "name": "stderr",
     "output_type": "stream",
     "text": [
      "DSMZ Catalogue link Progress:  79%|███████▉  | 29814/37746 [1:26:39<65:00:41, 29.51s/it]"
     ]
    },
    {
     "name": "stdout",
     "output_type": "stream",
     "text": [
      "No soup for https://bacdive.dsmz.de/strain/164976\n",
      "No soup for https://bacdive.dsmz.de/strain/164977\n"
     ]
    },
    {
     "name": "stderr",
     "output_type": "stream",
     "text": [
      "DSMZ Catalogue link Progress:  79%|███████▉  | 29816/37746 [1:26:47<82:44:08, 37.56s/it]"
     ]
    },
    {
     "name": "stdout",
     "output_type": "stream",
     "text": [
      "No soup for https://bacdive.dsmz.de/strain/136922\n",
      "No soup for https://bacdive.dsmz.de/strain/136561\n",
      "No soup for https://bacdive.dsmz.de/strain/164978\n",
      "No soup for https://bacdive.dsmz.de/strain/164980\n"
     ]
    },
    {
     "name": "stderr",
     "output_type": "stream",
     "text": [
      "DSMZ Catalogue link Progress:  79%|███████▉  | 29821/37746 [1:26:51<67:42:21, 30.76s/it]"
     ]
    },
    {
     "name": "stdout",
     "output_type": "stream",
     "text": [
      "No soup for https://bacdive.dsmz.de/strain/164920\n",
      "No soup for https://bacdive.dsmz.de/strain/164981\n",
      "No soup for https://bacdive.dsmz.de/strain/164982\n",
      "No soup for https://bacdive.dsmz.de/strain/164983\n"
     ]
    },
    {
     "name": "stderr",
     "output_type": "stream",
     "text": [
      "DSMZ Catalogue link Progress:  79%|███████▉  | 29825/37746 [1:26:58<81:26:16, 37.01s/it]"
     ]
    },
    {
     "name": "stdout",
     "output_type": "stream",
     "text": [
      "No soup for https://bacdive.dsmz.de/strain/164923No soup for https://bacdive.dsmz.de/strain/164985\n",
      "\n",
      "No soup for https://bacdive.dsmz.de/strain/164921\n",
      "No soup for https://bacdive.dsmz.de/strain/164986\n"
     ]
    },
    {
     "name": "stderr",
     "output_type": "stream",
     "text": [
      "DSMZ Catalogue link Progress:  79%|███████▉  | 29829/37746 [1:27:02<110:41:46, 50.34s/it]"
     ]
    },
    {
     "name": "stdout",
     "output_type": "stream",
     "text": [
      "No soup for https://bacdive.dsmz.de/strain/164987\n",
      "No soup for https://bacdive.dsmz.de/strain/164988\n"
     ]
    },
    {
     "name": "stderr",
     "output_type": "stream",
     "text": [
      "DSMZ Catalogue link Progress:  79%|███████▉  | 29834/37746 [1:27:08<47:34:33, 21.65s/it] "
     ]
    },
    {
     "name": "stdout",
     "output_type": "stream",
     "text": [
      "No soup for https://bacdive.dsmz.de/strain/164989\n",
      "No soup for https://bacdive.dsmz.de/strain/164934\n",
      "No soup for https://bacdive.dsmz.de/strain/134593\n",
      "No soup for https://bacdive.dsmz.de/strain/164939\n",
      "No soup for https://bacdive.dsmz.de/strain/164990\n"
     ]
    },
    {
     "name": "stderr",
     "output_type": "stream",
     "text": [
      "DSMZ Catalogue link Progress:  79%|███████▉  | 29840/37746 [1:27:11<93:02:36, 42.37s/it]"
     ]
    },
    {
     "name": "stdout",
     "output_type": "stream",
     "text": [
      "No soup for https://bacdive.dsmz.de/strain/164940No soup for https://bacdive.dsmz.de/strain/164927\n",
      "\n",
      "No soup for https://bacdive.dsmz.de/strain/164991\n",
      "No soup for https://bacdive.dsmz.de/strain/164933\n",
      "No soup for https://bacdive.dsmz.de/strain/164993\n",
      "No soup for https://bacdive.dsmz.de/strain/164992\n",
      "No soup for https://bacdive.dsmz.de/strain/164944\n"
     ]
    },
    {
     "name": "stderr",
     "output_type": "stream",
     "text": [
      "DSMZ Catalogue link Progress:  79%|███████▉  | 29844/37746 [1:27:14<104:54:51, 47.80s/it]"
     ]
    },
    {
     "name": "stdout",
     "output_type": "stream",
     "text": [
      "No soup for https://bacdive.dsmz.de/strain/164994\n",
      "No soup for https://bacdive.dsmz.de/strain/164941\n",
      "No soup for https://bacdive.dsmz.de/strain/164995\n"
     ]
    },
    {
     "name": "stderr",
     "output_type": "stream",
     "text": [
      "DSMZ Catalogue link Progress:  79%|███████▉  | 29845/37746 [1:27:17<120:46:43, 55.03s/it]"
     ]
    },
    {
     "name": "stdout",
     "output_type": "stream",
     "text": [
      "No soup for https://bacdive.dsmz.de/strain/164998\n",
      "No soup for https://bacdive.dsmz.de/strain/164999\n"
     ]
    },
    {
     "name": "stderr",
     "output_type": "stream",
     "text": [
      "DSMZ Catalogue link Progress:  79%|███████▉  | 29846/37746 [1:27:18<135:03:19, 61.54s/it]"
     ]
    },
    {
     "name": "stdout",
     "output_type": "stream",
     "text": [
      "No soup for https://bacdive.dsmz.de/strain/164948\n"
     ]
    },
    {
     "name": "stderr",
     "output_type": "stream",
     "text": [
      "DSMZ Catalogue link Progress:  79%|███████▉  | 29851/37746 [1:27:22<116:32:59, 53.14s/it]"
     ]
    },
    {
     "name": "stdout",
     "output_type": "stream",
     "text": [
      "No soup for https://bacdive.dsmz.de/strain/165001\n",
      "No soup for https://bacdive.dsmz.de/strain/164949\n",
      "No soup for https://bacdive.dsmz.de/strain/165002\n",
      "No soup for https://bacdive.dsmz.de/strain/165003\n",
      "No soup for https://bacdive.dsmz.de/strain/164950\n"
     ]
    },
    {
     "name": "stderr",
     "output_type": "stream",
     "text": [
      "DSMZ Catalogue link Progress:  79%|███████▉  | 29853/37746 [1:27:25<147:16:48, 67.17s/it]"
     ]
    },
    {
     "name": "stdout",
     "output_type": "stream",
     "text": [
      "No soup for https://bacdive.dsmz.de/strain/165004\n",
      "No soup for https://bacdive.dsmz.de/strain/165005\n"
     ]
    },
    {
     "name": "stderr",
     "output_type": "stream",
     "text": [
      "DSMZ Catalogue link Progress:  79%|███████▉  | 29857/37746 [1:27:28<145:25:28, 66.36s/it]"
     ]
    },
    {
     "name": "stdout",
     "output_type": "stream",
     "text": [
      "No soup for https://bacdive.dsmz.de/strain/165006\n",
      "No soup for https://bacdive.dsmz.de/strain/165007\n",
      "No soup for https://bacdive.dsmz.de/strain/165008\n"
     ]
    },
    {
     "name": "stderr",
     "output_type": "stream",
     "text": [
      "DSMZ Catalogue link Progress:  79%|███████▉  | 29862/37746 [1:27:32<117:46:47, 53.78s/it]"
     ]
    },
    {
     "name": "stdout",
     "output_type": "stream",
     "text": [
      "No soup for https://bacdive.dsmz.de/strain/165009No soup for https://bacdive.dsmz.de/strain/165010\n",
      "\n",
      "No soup for https://bacdive.dsmz.de/strain/164959\n",
      "No soup for https://bacdive.dsmz.de/strain/164960\n",
      "No soup for https://bacdive.dsmz.de/strain/165011\n",
      "No soup for https://bacdive.dsmz.de/strain/165012\n",
      "No soup for https://bacdive.dsmz.de/strain/164961\n"
     ]
    },
    {
     "name": "stderr",
     "output_type": "stream",
     "text": [
      "DSMZ Catalogue link Progress:  79%|███████▉  | 29870/37746 [1:27:36<115:08:58, 52.63s/it]"
     ]
    },
    {
     "name": "stdout",
     "output_type": "stream",
     "text": [
      "No soup for https://bacdive.dsmz.de/strain/164963\n",
      "No soup for https://bacdive.dsmz.de/strain/164962\n",
      "No soup for https://bacdive.dsmz.de/strain/165013\n",
      "No soup for https://bacdive.dsmz.de/strain/165014\n",
      "No soup for https://bacdive.dsmz.de/strain/165015\n",
      "No soup for https://bacdive.dsmz.de/strain/164965\n",
      "No soup for https://bacdive.dsmz.de/strain/165016\n"
     ]
    },
    {
     "name": "stderr",
     "output_type": "stream",
     "text": [
      "DSMZ Catalogue link Progress:  79%|███████▉  | 29872/37746 [1:27:37<152:55:05, 69.91s/it]"
     ]
    },
    {
     "name": "stdout",
     "output_type": "stream",
     "text": [
      "No soup for https://bacdive.dsmz.de/strain/165017\n",
      "No soup for https://bacdive.dsmz.de/strain/165018\n"
     ]
    },
    {
     "name": "stderr",
     "output_type": "stream",
     "text": [
      "DSMZ Catalogue link Progress:  79%|███████▉  | 29879/37746 [1:27:40<178:44:58, 81.80s/it]"
     ]
    },
    {
     "name": "stdout",
     "output_type": "stream",
     "text": [
      "No soup for https://bacdive.dsmz.de/strain/165019\n",
      "No soup for https://bacdive.dsmz.de/strain/165020\n",
      "No soup for https://bacdive.dsmz.de/strain/164969\n",
      "No soup for https://bacdive.dsmz.de/strain/165021\n",
      "No soup for https://bacdive.dsmz.de/strain/165022\n",
      "No soup for https://bacdive.dsmz.de/strain/164972\n",
      "No soup for https://bacdive.dsmz.de/strain/165023\n"
     ]
    },
    {
     "name": "stderr",
     "output_type": "stream",
     "text": [
      "DSMZ Catalogue link Progress:  79%|███████▉  | 29884/37746 [1:27:42<188:52:03, 86.48s/it]"
     ]
    },
    {
     "name": "stdout",
     "output_type": "stream",
     "text": [
      "No soup for https://bacdive.dsmz.de/strain/165025\n",
      "No soup for https://bacdive.dsmz.de/strain/165024\n",
      "No soup for https://bacdive.dsmz.de/strain/165026\n",
      "No soup for https://bacdive.dsmz.de/strain/165027\n",
      "No soup for https://bacdive.dsmz.de/strain/165028\n"
     ]
    },
    {
     "name": "stderr",
     "output_type": "stream",
     "text": [
      "DSMZ Catalogue link Progress:  79%|███████▉  | 29888/37746 [1:27:43<180:11:47, 82.55s/it]"
     ]
    },
    {
     "name": "stdout",
     "output_type": "stream",
     "text": [
      "No soup for https://bacdive.dsmz.de/strain/164979\n",
      "No soup for https://bacdive.dsmz.de/strain/165029\n",
      "No soup for https://bacdive.dsmz.de/strain/165030\n",
      "No soup for https://bacdive.dsmz.de/strain/165031\n"
     ]
    },
    {
     "name": "stderr",
     "output_type": "stream",
     "text": [
      "DSMZ Catalogue link Progress:  79%|███████▉  | 29889/37746 [1:27:44<153:14:57, 70.22s/it]"
     ]
    },
    {
     "name": "stdout",
     "output_type": "stream",
     "text": [
      "No soup for https://bacdive.dsmz.de/strain/164984\n"
     ]
    },
    {
     "name": "stderr",
     "output_type": "stream",
     "text": [
      "DSMZ Catalogue link Progress:  79%|███████▉  | 29893/37746 [1:27:45<161:33:04, 74.06s/it]"
     ]
    },
    {
     "name": "stdout",
     "output_type": "stream",
     "text": [
      "No soup for https://bacdive.dsmz.de/strain/165033\n",
      "No soup for https://bacdive.dsmz.de/strain/165034\n",
      "No soup for https://bacdive.dsmz.de/strain/165035\n",
      "No soup for https://bacdive.dsmz.de/strain/165036\n"
     ]
    },
    {
     "name": "stderr",
     "output_type": "stream",
     "text": [
      "DSMZ Catalogue link Progress:  79%|███████▉  | 29895/37746 [1:27:45<188:56:48, 86.64s/it]"
     ]
    },
    {
     "name": "stdout",
     "output_type": "stream",
     "text": [
      "No soup for https://bacdive.dsmz.de/strain/165037\n",
      "No soup for https://bacdive.dsmz.de/strain/165038\n",
      "No soup for https://bacdive.dsmz.de/strain/165039\n"
     ]
    },
    {
     "name": "stderr",
     "output_type": "stream",
     "text": [
      "DSMZ Catalogue link Progress:  79%|███████▉  | 29900/37746 [1:27:47<156:27:35, 71.79s/it]"
     ]
    },
    {
     "name": "stdout",
     "output_type": "stream",
     "text": [
      "No soup for https://bacdive.dsmz.de/strain/165040\n",
      "No soup for https://bacdive.dsmz.de/strain/165041\n",
      "No soup for https://bacdive.dsmz.de/strain/165042\n",
      "No soup for https://bacdive.dsmz.de/strain/164997\n",
      "No soup for https://bacdive.dsmz.de/strain/165043\n"
     ]
    },
    {
     "name": "stderr",
     "output_type": "stream",
     "text": [
      "DSMZ Catalogue link Progress:  79%|███████▉  | 29904/37746 [1:27:48<87:29:55, 40.17s/it] "
     ]
    },
    {
     "name": "stdout",
     "output_type": "stream",
     "text": [
      "No soup for https://bacdive.dsmz.de/strain/165044\n",
      "No soup for https://bacdive.dsmz.de/strain/165045\n",
      "No soup for https://bacdive.dsmz.de/strain/165046\n",
      "No soup for https://bacdive.dsmz.de/strain/165047\n"
     ]
    },
    {
     "name": "stderr",
     "output_type": "stream",
     "text": [
      "DSMZ Catalogue link Progress:  79%|███████▉  | 29909/37746 [1:27:49<142:14:52, 65.34s/it]"
     ]
    },
    {
     "name": "stdout",
     "output_type": "stream",
     "text": [
      "No soup for https://bacdive.dsmz.de/strain/165048\n",
      "No soup for https://bacdive.dsmz.de/strain/164996\n",
      "No soup for https://bacdive.dsmz.de/strain/165049\n"
     ]
    },
    {
     "name": "stderr",
     "output_type": "stream",
     "text": [
      "DSMZ Catalogue link Progress:  79%|███████▉  | 29911/37746 [1:27:49<172:54:14, 79.45s/it]"
     ]
    },
    {
     "name": "stdout",
     "output_type": "stream",
     "text": [
      "No soup for https://bacdive.dsmz.de/strain/165000\n",
      "No soup for https://bacdive.dsmz.de/strain/165050\n",
      "No soup for https://bacdive.dsmz.de/strain/165051\n"
     ]
    },
    {
     "name": "stderr",
     "output_type": "stream",
     "text": [
      "DSMZ Catalogue link Progress:  79%|███████▉  | 29917/37746 [1:27:50<171:38:23, 78.92s/it]"
     ]
    },
    {
     "name": "stdout",
     "output_type": "stream",
     "text": [
      "No soup for https://bacdive.dsmz.de/strain/165054\n",
      "No soup for https://bacdive.dsmz.de/strain/165056\n",
      "No soup for https://bacdive.dsmz.de/strain/165057\n",
      "No soup for https://bacdive.dsmz.de/strain/165058\n",
      "No soup for https://bacdive.dsmz.de/strain/165059\n"
     ]
    },
    {
     "name": "stderr",
     "output_type": "stream",
     "text": [
      "DSMZ Catalogue link Progress:  79%|███████▉  | 29924/37746 [1:27:51<115:24:36, 53.12s/it]"
     ]
    },
    {
     "name": "stdout",
     "output_type": "stream",
     "text": [
      "No soup for https://bacdive.dsmz.de/strain/165061\n",
      "No soup for https://bacdive.dsmz.de/strain/165062\n",
      "No soup for https://bacdive.dsmz.de/strain/165063\n",
      "No soup for https://bacdive.dsmz.de/strain/165064\n",
      "No soup for https://bacdive.dsmz.de/strain/165055\n",
      "No soup for https://bacdive.dsmz.de/strain/165065\n",
      "No soup for https://bacdive.dsmz.de/strain/165069\n"
     ]
    },
    {
     "name": "stderr",
     "output_type": "stream",
     "text": [
      "DSMZ Catalogue link Progress:  79%|███████▉  | 29931/37746 [1:27:52<58:41:49, 27.04s/it] "
     ]
    },
    {
     "name": "stdout",
     "output_type": "stream",
     "text": [
      "No soup for https://bacdive.dsmz.de/strain/165076\n",
      "No soup for https://bacdive.dsmz.de/strain/165078\n",
      "No soup for https://bacdive.dsmz.de/strain/165077\n",
      "No soup for https://bacdive.dsmz.de/strain/165081\n",
      "No soup for https://bacdive.dsmz.de/strain/165082\n",
      "No soup for https://bacdive.dsmz.de/strain/165083\n",
      "No soup for https://bacdive.dsmz.de/strain/165084\n",
      "No soup for https://bacdive.dsmz.de/strain/165085\n"
     ]
    },
    {
     "name": "stderr",
     "output_type": "stream",
     "text": [
      "DSMZ Catalogue link Progress:  79%|███████▉  | 29940/37746 [1:27:54<55:14:05, 25.47s/it]"
     ]
    },
    {
     "name": "stdout",
     "output_type": "stream",
     "text": [
      "No soup for https://bacdive.dsmz.de/strain/165087\n",
      "No soup for https://bacdive.dsmz.de/strain/165086\n",
      "No soup for https://bacdive.dsmz.de/strain/165088\n",
      "No soup for https://bacdive.dsmz.de/strain/165089\n",
      "No soup for https://bacdive.dsmz.de/strain/165032\n",
      "No soup for https://bacdive.dsmz.de/strain/165090\n",
      "No soup for https://bacdive.dsmz.de/strain/165091\n",
      "No soup for https://bacdive.dsmz.de/strain/165092\n"
     ]
    },
    {
     "name": "stderr",
     "output_type": "stream",
     "text": [
      "DSMZ Catalogue link Progress:  79%|███████▉  | 29946/37746 [1:27:57<59:59:48, 27.69s/it]"
     ]
    },
    {
     "name": "stdout",
     "output_type": "stream",
     "text": [
      "No soup for https://bacdive.dsmz.de/strain/165093\n",
      "No soup for https://bacdive.dsmz.de/strain/165094\n",
      "No soup for https://bacdive.dsmz.de/strain/165095\n",
      "No soup for https://bacdive.dsmz.de/strain/165096\n",
      "No soup for https://bacdive.dsmz.de/strain/165098\n",
      "No soup for https://bacdive.dsmz.de/strain/165097\n",
      "No soup for https://bacdive.dsmz.de/strain/165100\n",
      "No soup for https://bacdive.dsmz.de/strain/165099\n"
     ]
    },
    {
     "name": "stderr",
     "output_type": "stream",
     "text": [
      "DSMZ Catalogue link Progress:  79%|███████▉  | 29955/37746 [1:28:07<81:28:45, 37.65s/it]"
     ]
    },
    {
     "name": "stdout",
     "output_type": "stream",
     "text": [
      "No soup for https://bacdive.dsmz.de/strain/165101\n",
      "No soup for https://bacdive.dsmz.de/strain/165102\n",
      "No soup for https://bacdive.dsmz.de/strain/165104\n",
      "No soup for https://bacdive.dsmz.de/strain/165103\n",
      "No soup for https://bacdive.dsmz.de/strain/165105\n",
      "No soup for https://bacdive.dsmz.de/strain/165106\n",
      "No soup for https://bacdive.dsmz.de/strain/165107\n",
      "No soup for https://bacdive.dsmz.de/strain/165108\n"
     ]
    },
    {
     "name": "stderr",
     "output_type": "stream",
     "text": [
      "DSMZ Catalogue link Progress:  79%|███████▉  | 29963/37746 [1:28:18<100:50:59, 46.65s/it]"
     ]
    },
    {
     "name": "stdout",
     "output_type": "stream",
     "text": [
      "No soup for https://bacdive.dsmz.de/strain/165109\n",
      "No soup for https://bacdive.dsmz.de/strain/165111\n",
      "No soup for https://bacdive.dsmz.de/strain/134646\n",
      "No soup for https://bacdive.dsmz.de/strain/165112\n",
      "No soup for https://bacdive.dsmz.de/strain/165113\n",
      "No soup for https://bacdive.dsmz.de/strain/165115\n",
      "No soup for https://bacdive.dsmz.de/strain/165116\n"
     ]
    },
    {
     "name": "stderr",
     "output_type": "stream",
     "text": [
      "DSMZ Catalogue link Progress:  79%|███████▉  | 29965/37746 [1:28:21<108:24:47, 50.16s/it]"
     ]
    },
    {
     "name": "stdout",
     "output_type": "stream",
     "text": [
      "No soup for https://bacdive.dsmz.de/strain/165117\n",
      "No soup for https://bacdive.dsmz.de/strain/165118\n",
      "No soup for https://bacdive.dsmz.de/strain/165119\n"
     ]
    },
    {
     "name": "stderr",
     "output_type": "stream",
     "text": [
      "DSMZ Catalogue link Progress:  79%|███████▉  | 29976/37746 [1:28:32<96:19:12, 44.63s/it] "
     ]
    },
    {
     "name": "stdout",
     "output_type": "stream",
     "text": [
      "No soup for https://bacdive.dsmz.de/strain/165121\n",
      "No soup for https://bacdive.dsmz.de/strain/165122\n",
      "No soup for https://bacdive.dsmz.de/strain/165120\n",
      "No soup for https://bacdive.dsmz.de/strain/165123\n",
      "No soup for https://bacdive.dsmz.de/strain/165124\n",
      "No soup for https://bacdive.dsmz.de/strain/165125\n",
      "No soup for https://bacdive.dsmz.de/strain/139525\n",
      "No soup for https://bacdive.dsmz.de/strain/165126\n",
      "No soup for https://bacdive.dsmz.de/strain/165127\n",
      "No soup for https://bacdive.dsmz.de/strain/165128\n",
      "No soup for https://bacdive.dsmz.de/strain/165129\n"
     ]
    },
    {
     "name": "stderr",
     "output_type": "stream",
     "text": [
      "DSMZ Catalogue link Progress:  79%|███████▉  | 29985/37746 [1:28:42<127:43:18, 59.24s/it]"
     ]
    },
    {
     "name": "stdout",
     "output_type": "stream",
     "text": [
      "No soup for https://bacdive.dsmz.de/strain/165052\n",
      "No soup for https://bacdive.dsmz.de/strain/165130\n",
      "No soup for https://bacdive.dsmz.de/strain/165131\n",
      "No soup for https://bacdive.dsmz.de/strain/165132\n",
      "No soup for https://bacdive.dsmz.de/strain/165133\n",
      "No soup for https://bacdive.dsmz.de/strain/165134\n",
      "No soup for https://bacdive.dsmz.de/strain/165135\n",
      "No soup for https://bacdive.dsmz.de/strain/165136\n",
      "No soup for https://bacdive.dsmz.de/strain/165137\n"
     ]
    },
    {
     "name": "stderr",
     "output_type": "stream",
     "text": [
      "DSMZ Catalogue link Progress:  79%|███████▉  | 29990/37746 [1:28:47<87:35:47, 40.66s/it] "
     ]
    },
    {
     "name": "stdout",
     "output_type": "stream",
     "text": [
      "No soup for https://bacdive.dsmz.de/strain/165138\n",
      "No soup for https://bacdive.dsmz.de/strain/165139\n",
      "No soup for https://bacdive.dsmz.de/strain/165053\n",
      "No soup for https://bacdive.dsmz.de/strain/165140\n",
      "No soup for https://bacdive.dsmz.de/strain/165060\n"
     ]
    },
    {
     "name": "stderr",
     "output_type": "stream",
     "text": [
      "DSMZ Catalogue link Progress:  79%|███████▉  | 30008/37746 [1:28:53<86:55:37, 40.44s/it]"
     ]
    },
    {
     "name": "stdout",
     "output_type": "stream",
     "text": [
      "No soup for https://bacdive.dsmz.de/strain/165067No soup for https://bacdive.dsmz.de/strain/159797\n",
      "\n",
      "No soup for https://bacdive.dsmz.de/strain/137642\n",
      "No soup for https://bacdive.dsmz.de/strain/165142\n",
      "No soup for https://bacdive.dsmz.de/strain/165141\n",
      "No soup for https://bacdive.dsmz.de/strain/165143\n",
      "No soup for https://bacdive.dsmz.de/strain/165070\n",
      "No soup for https://bacdive.dsmz.de/strain/152207\n",
      "No soup for https://bacdive.dsmz.de/strain/165071\n",
      "No soup for https://bacdive.dsmz.de/strain/165068\n",
      "No soup for https://bacdive.dsmz.de/strain/165075\n",
      "No soup for https://bacdive.dsmz.de/strain/165072\n",
      "No soup for https://bacdive.dsmz.de/strain/165144\n",
      "No soup for https://bacdive.dsmz.de/strain/165074\n",
      "No soup for https://bacdive.dsmz.de/strain/165066\n",
      "No soup for https://bacdive.dsmz.de/strain/165073\n",
      "No soup for https://bacdive.dsmz.de/strain/165079\n"
     ]
    },
    {
     "name": "stderr",
     "output_type": "stream",
     "text": [
      "DSMZ Catalogue link Progress:  80%|███████▉  | 30012/37746 [1:28:54<56:16:36, 26.20s/it]"
     ]
    },
    {
     "name": "stdout",
     "output_type": "stream",
     "text": [
      "No soup for https://bacdive.dsmz.de/strain/165145\n",
      "No soup for https://bacdive.dsmz.de/strain/165146\n",
      "No soup for https://bacdive.dsmz.de/strain/165147\n",
      "No soup for https://bacdive.dsmz.de/strain/165080\n",
      "No soup for https://bacdive.dsmz.de/strain/165148\n"
     ]
    },
    {
     "name": "stderr",
     "output_type": "stream",
     "text": [
      "DSMZ Catalogue link Progress:  80%|███████▉  | 30015/37746 [1:28:55<94:30:18, 44.01s/it]"
     ]
    },
    {
     "name": "stdout",
     "output_type": "stream",
     "text": [
      "No soup for https://bacdive.dsmz.de/strain/165149\n",
      "No soup for https://bacdive.dsmz.de/strain/165150\n",
      "No soup for https://bacdive.dsmz.de/strain/165151\n"
     ]
    },
    {
     "name": "stderr",
     "output_type": "stream",
     "text": [
      "DSMZ Catalogue link Progress:  80%|███████▉  | 30017/37746 [1:28:55<115:09:40, 53.64s/it]"
     ]
    },
    {
     "name": "stdout",
     "output_type": "stream",
     "text": [
      "No soup for https://bacdive.dsmz.de/strain/165152\n",
      "No soup for https://bacdive.dsmz.de/strain/165153\n"
     ]
    },
    {
     "name": "stderr",
     "output_type": "stream",
     "text": [
      "DSMZ Catalogue link Progress:  80%|███████▉  | 30019/37746 [1:28:55<129:13:29, 60.21s/it]"
     ]
    },
    {
     "name": "stdout",
     "output_type": "stream",
     "text": [
      "No soup for https://bacdive.dsmz.de/strain/165154\n",
      "No soup for https://bacdive.dsmz.de/strain/165155\n"
     ]
    },
    {
     "name": "stderr",
     "output_type": "stream",
     "text": [
      "DSMZ Catalogue link Progress:  80%|███████▉  | 30030/37746 [1:28:57<84:33:58, 39.46s/it] "
     ]
    },
    {
     "name": "stdout",
     "output_type": "stream",
     "text": [
      "No soup for https://bacdive.dsmz.de/strain/165156No soup for https://bacdive.dsmz.de/strain/165158\n",
      "\n",
      "No soup for https://bacdive.dsmz.de/strain/165157\n",
      "No soup for https://bacdive.dsmz.de/strain/165160\n",
      "No soup for https://bacdive.dsmz.de/strain/165159\n",
      "No soup for https://bacdive.dsmz.de/strain/165161\n",
      "No soup for https://bacdive.dsmz.de/strain/165110\n",
      "No soup for https://bacdive.dsmz.de/strain/165162\n",
      "No soup for https://bacdive.dsmz.de/strain/165163\n",
      "No soup for https://bacdive.dsmz.de/strain/165164\n",
      "No soup for https://bacdive.dsmz.de/strain/165114\n"
     ]
    },
    {
     "name": "stderr",
     "output_type": "stream",
     "text": [
      "DSMZ Catalogue link Progress:  80%|███████▉  | 30032/37746 [1:28:57<105:07:50, 49.06s/it]"
     ]
    },
    {
     "name": "stdout",
     "output_type": "stream",
     "text": [
      "No soup for https://bacdive.dsmz.de/strain/165165\n"
     ]
    },
    {
     "name": "stderr",
     "output_type": "stream",
     "text": [
      "DSMZ Catalogue link Progress:  80%|███████▉  | 30034/37746 [1:28:57<59:36:44, 27.83s/it] "
     ]
    },
    {
     "name": "stdout",
     "output_type": "stream",
     "text": [
      "No soup for https://bacdive.dsmz.de/strain/165166\n",
      "No soup for https://bacdive.dsmz.de/strain/165167\n"
     ]
    },
    {
     "name": "stderr",
     "output_type": "stream",
     "text": [
      "DSMZ Catalogue link Progress:  80%|███████▉  | 30036/37746 [1:28:58<31:43:22, 14.81s/it]"
     ]
    },
    {
     "name": "stdout",
     "output_type": "stream",
     "text": [
      "No soup for https://bacdive.dsmz.de/strain/165168\n",
      "No soup for https://bacdive.dsmz.de/strain/165169\n",
      "No soup for https://bacdive.dsmz.de/strain/165170\n"
     ]
    },
    {
     "name": "stderr",
     "output_type": "stream",
     "text": [
      "DSMZ Catalogue link Progress:  80%|███████▉  | 30039/37746 [1:28:58<13:35:15,  6.35s/it]"
     ]
    },
    {
     "name": "stdout",
     "output_type": "stream",
     "text": [
      "No soup for https://bacdive.dsmz.de/strain/165171\n",
      "No soup for https://bacdive.dsmz.de/strain/165172\n"
     ]
    },
    {
     "name": "stderr",
     "output_type": "stream",
     "text": [
      "DSMZ Catalogue link Progress:  80%|███████▉  | 30042/37746 [1:28:58<5:57:13,  2.78s/it] "
     ]
    },
    {
     "name": "stdout",
     "output_type": "stream",
     "text": [
      "No soup for https://bacdive.dsmz.de/strain/165173\n",
      "No soup for https://bacdive.dsmz.de/strain/165174\n",
      "No soup for https://bacdive.dsmz.de/strain/165175\n",
      "No soup for https://bacdive.dsmz.de/strain/165176\n"
     ]
    },
    {
     "name": "stderr",
     "output_type": "stream",
     "text": [
      "DSMZ Catalogue link Progress:  80%|███████▉  | 30044/37746 [1:28:58<3:46:09,  1.76s/it]"
     ]
    },
    {
     "name": "stdout",
     "output_type": "stream",
     "text": [
      "No soup for https://bacdive.dsmz.de/strain/165185\n",
      "No soup for https://bacdive.dsmz.de/strain/165178\n"
     ]
    },
    {
     "name": "stderr",
     "output_type": "stream",
     "text": [
      "DSMZ Catalogue link Progress:  80%|███████▉  | 30050/37746 [1:28:59<1:20:24,  1.60it/s]"
     ]
    },
    {
     "name": "stdout",
     "output_type": "stream",
     "text": [
      "No soup for https://bacdive.dsmz.de/strain/165180\n",
      "No soup for https://bacdive.dsmz.de/strain/165197\n",
      "No soup for https://bacdive.dsmz.de/strain/165183\n",
      "No soup for https://bacdive.dsmz.de/strain/165187\n",
      "No soup for https://bacdive.dsmz.de/strain/165186\n"
     ]
    },
    {
     "name": "stderr",
     "output_type": "stream",
     "text": [
      "DSMZ Catalogue link Progress:  80%|███████▉  | 30057/37746 [1:28:59<33:58,  3.77it/s]  "
     ]
    },
    {
     "name": "stdout",
     "output_type": "stream",
     "text": [
      "No soup for https://bacdive.dsmz.de/strain/165196\n",
      "No soup for https://bacdive.dsmz.de/strain/165225\n",
      "No soup for https://bacdive.dsmz.de/strain/165195\n",
      "No soup for https://bacdive.dsmz.de/strain/165177\n",
      "No soup for https://bacdive.dsmz.de/strain/165190\n",
      "No soup for https://bacdive.dsmz.de/strain/165202\n",
      "No soup for https://bacdive.dsmz.de/strain/165214\n",
      "No soup for https://bacdive.dsmz.de/strain/165184\n"
     ]
    },
    {
     "name": "stderr",
     "output_type": "stream",
     "text": [
      "DSMZ Catalogue link Progress:  80%|███████▉  | 30069/37746 [1:28:59<03:54, 32.67it/s]"
     ]
    },
    {
     "name": "stdout",
     "output_type": "stream",
     "text": [
      "No soup for https://bacdive.dsmz.de/strain/165200\n",
      "No soup for https://bacdive.dsmz.de/strain/165194\n",
      "No soup for https://bacdive.dsmz.de/strain/165205\n",
      "No soup for https://bacdive.dsmz.de/strain/165192\n",
      "No soup for https://bacdive.dsmz.de/strain/165181\n",
      "No soup for https://bacdive.dsmz.de/strain/165206\n",
      "No soup for https://bacdive.dsmz.de/strain/165215\n",
      "No soup for https://bacdive.dsmz.de/strain/165212\n",
      "No soup for https://bacdive.dsmz.de/strain/165193\n",
      "No soup for https://bacdive.dsmz.de/strain/165211\n",
      "No soup for https://bacdive.dsmz.de/strain/165191\n",
      "No soup for https://bacdive.dsmz.de/strain/165179\n",
      "No soup for https://bacdive.dsmz.de/strain/165204\n",
      "No soup for https://bacdive.dsmz.de/strain/165210\n",
      "No soup for https://bacdive.dsmz.de/strain/165226\n",
      "No soup for https://bacdive.dsmz.de/strain/165189\n",
      "No soup for https://bacdive.dsmz.de/strain/165182\n",
      "No soup for https://bacdive.dsmz.de/strain/165199\n"
     ]
    },
    {
     "name": "stderr",
     "output_type": "stream",
     "text": [
      "DSMZ Catalogue link Progress:  80%|███████▉  | 30089/37746 [1:29:04<48:13,  2.65it/s]"
     ]
    },
    {
     "name": "stdout",
     "output_type": "stream",
     "text": [
      "No soup for https://bacdive.dsmz.de/strain/165188\n",
      "No soup for https://bacdive.dsmz.de/strain/165198\n",
      "No soup for https://bacdive.dsmz.de/strain/165217\n",
      "No soup for https://bacdive.dsmz.de/strain/165207\n",
      "No soup for https://bacdive.dsmz.de/strain/165213\n",
      "No soup for https://bacdive.dsmz.de/strain/165203\n",
      "No soup for https://bacdive.dsmz.de/strain/165201\n",
      "No soup for https://bacdive.dsmz.de/strain/165303\n",
      "No soup for https://bacdive.dsmz.de/strain/165243\n",
      "No soup for https://bacdive.dsmz.de/strain/165235\n",
      "No soup for https://bacdive.dsmz.de/strain/165267\n",
      "No soup for https://bacdive.dsmz.de/strain/165218\n",
      "No soup for https://bacdive.dsmz.de/strain/165232\n",
      "No soup for https://bacdive.dsmz.de/strain/165254\n",
      "No soup for https://bacdive.dsmz.de/strain/165222No soup for https://bacdive.dsmz.de/strain/165280\n",
      "No soup for https://bacdive.dsmz.de/strain/165275\n",
      "No soup for https://bacdive.dsmz.de/strain/165279No soup for https://bacdive.dsmz.de/strain/165276No soup for https://bacdive.dsmz.de/strain/165268\n",
      "No soup for https://bacdive.dsmz.de/strain/165297\n",
      "No soup for https://bacdive.dsmz.de/strain/165302No soup for https://bacdive.dsmz.de/strain/165240\n",
      "No soup for https://bacdive.dsmz.de/strain/165258No soup for https://bacdive.dsmz.de/strain/165221No soup for https://bacdive.dsmz.de/strain/165278\n",
      "No soup for https://bacdive.dsmz.de/strain/165209\n",
      "No soup for https://bacdive.dsmz.de/strain/165251No soup for https://bacdive.dsmz.de/strain/165244\n",
      "No soup for https://bacdive.dsmz.de/strain/165299\n",
      "No soup for https://bacdive.dsmz.de/strain/165224\n",
      "No soup for https://bacdive.dsmz.de/strain/165270\n",
      "No soup for https://bacdive.dsmz.de/strain/165260\n",
      "No soup for https://bacdive.dsmz.de/strain/165287\n",
      "No soup for https://bacdive.dsmz.de/strain/165255No soup for https://bacdive.dsmz.de/strain/165246\n",
      "No soup for https://bacdive.dsmz.de/strain/165231\n",
      "No soup for https://bacdive.dsmz.de/strain/165300No soup for https://bacdive.dsmz.de/strain/165236\n",
      "No soup for https://bacdive.dsmz.de/strain/165229\n",
      "No soup for https://bacdive.dsmz.de/strain/165248\n",
      "No soup for https://bacdive.dsmz.de/strain/165272\n",
      "No soup for https://bacdive.dsmz.de/strain/165264No soup for https://bacdive.dsmz.de/strain/165292\n",
      "No soup for https://bacdive.dsmz.de/strain/165262\n",
      "No soup for https://bacdive.dsmz.de/strain/165273\n",
      "No soup for https://bacdive.dsmz.de/strain/165296\n",
      "No soup for https://bacdive.dsmz.de/strain/165238\n",
      "No soup for https://bacdive.dsmz.de/strain/165328\n",
      "No soup for https://bacdive.dsmz.de/strain/165247\n",
      "No soup for https://bacdive.dsmz.de/strain/165252No soup for https://bacdive.dsmz.de/strain/165219\n",
      "No soup for https://bacdive.dsmz.de/strain/165227\n",
      "No soup for https://bacdive.dsmz.de/strain/165266No soup for https://bacdive.dsmz.de/strain/165288No soup for https://bacdive.dsmz.de/strain/165277No soup for https://bacdive.dsmz.de/strain/165234\n",
      "No soup for https://bacdive.dsmz.de/strain/165316No soup for https://bacdive.dsmz.de/strain/138078\n",
      "No soup for https://bacdive.dsmz.de/strain/100035No soup for https://bacdive.dsmz.de/strain/165317\n",
      "No soup for https://bacdive.dsmz.de/strain/165312\n",
      "No soup for https://bacdive.dsmz.de/strain/138079\n",
      "No soup for https://bacdive.dsmz.de/strain/165307No soup for https://bacdive.dsmz.de/strain/165259No soup for https://bacdive.dsmz.de/strain/100040\n",
      "No soup for https://bacdive.dsmz.de/strain/100050\n",
      "No soup for https://bacdive.dsmz.de/strain/165286No soup for https://bacdive.dsmz.de/strain/165314\n",
      "No soup for https://bacdive.dsmz.de/strain/165291No soup for https://bacdive.dsmz.de/strain/165324No soup for https://bacdive.dsmz.de/strain/165308\n",
      "No soup for https://bacdive.dsmz.de/strain/138212\n",
      "No soup for https://bacdive.dsmz.de/strain/165294\n",
      "No soup for https://bacdive.dsmz.de/strain/165289No soup for https://bacdive.dsmz.de/strain/100052No soup for https://bacdive.dsmz.de/strain/165245\n",
      "No soup for https://bacdive.dsmz.de/strain/143374\n",
      "No soup for https://bacdive.dsmz.de/strain/165304\n",
      "No soup for https://bacdive.dsmz.de/strain/143670No soup for https://bacdive.dsmz.de/strain/165306\n"
     ]
    },
    {
     "name": "stderr",
     "output_type": "stream",
     "text": [
      "DSMZ Catalogue link Progress:  80%|████████  | 30210/37746 [1:29:06<04:35, 27.36it/s]  "
     ]
    },
    {
     "name": "stdout",
     "output_type": "stream",
     "text": [
      "\n",
      "No soup for https://bacdive.dsmz.de/strain/100039No soup for https://bacdive.dsmz.de/strain/139286\n",
      "\n",
      "No soup for https://bacdive.dsmz.de/strain/165315\n",
      "No soup for https://bacdive.dsmz.de/strain/165319\n",
      "No soup for https://bacdive.dsmz.de/strain/165320No soup for https://bacdive.dsmz.de/strain/165327No soup for https://bacdive.dsmz.de/strain/165239No soup for https://bacdive.dsmz.de/strain/165269No soup for https://bacdive.dsmz.de/strain/165237\n",
      "No soup for https://bacdive.dsmz.de/strain/165325No soup for https://bacdive.dsmz.de/strain/138107\n",
      "\n",
      "\n",
      "No soup for https://bacdive.dsmz.de/strain/165257\n",
      "No soup for https://bacdive.dsmz.de/strain/165256No soup for https://bacdive.dsmz.de/strain/138106\n",
      "No soup for https://bacdive.dsmz.de/strain/165241\n",
      "No soup for https://bacdive.dsmz.de/strain/165230\n",
      "No soup for https://bacdive.dsmz.de/strain/165216No soup for https://bacdive.dsmz.de/strain/165274No soup for https://bacdive.dsmz.de/strain/165283\n",
      "\n",
      "No soup for https://bacdive.dsmz.de/strain/165271No soup for https://bacdive.dsmz.de/strain/165250No soup for https://bacdive.dsmz.de/strain/165208\n",
      "No soup for https://bacdive.dsmz.de/strain/165242No soup for https://bacdive.dsmz.de/strain/165301\n",
      "\n",
      "No soup for https://bacdive.dsmz.de/strain/165310No soup for https://bacdive.dsmz.de/strain/165253\n",
      "\n",
      "No soup for https://bacdive.dsmz.de/strain/165322\n",
      "No soup for https://bacdive.dsmz.de/strain/165311No soup for https://bacdive.dsmz.de/strain/165284\n",
      "\n",
      "No soup for https://bacdive.dsmz.de/strain/165261\n",
      "\n",
      "No soup for https://bacdive.dsmz.de/strain/165321No soup for https://bacdive.dsmz.de/strain/165313\n",
      "\n",
      "\n",
      "No soup for https://bacdive.dsmz.de/strain/165295\n",
      "No soup for https://bacdive.dsmz.de/strain/165285No soup for https://bacdive.dsmz.de/strain/165309\n",
      "\n",
      "\n",
      "No soup for https://bacdive.dsmz.de/strain/165318\n",
      "\n",
      "No soup for https://bacdive.dsmz.de/strain/165281\n",
      "No soup for https://bacdive.dsmz.de/strain/165282\n",
      "No soup for https://bacdive.dsmz.de/strain/165233No soup for https://bacdive.dsmz.de/strain/165293No soup for https://bacdive.dsmz.de/strain/165249\n",
      "\n",
      "No soup for https://bacdive.dsmz.de/strain/165305\n",
      "No soup for https://bacdive.dsmz.de/strain/136159\n",
      "\n",
      "\n",
      "\n",
      "\n",
      "No soup for https://bacdive.dsmz.de/strain/165265\n",
      "\n",
      "No soup for https://bacdive.dsmz.de/strain/165228\n",
      "\n",
      "\n",
      "\n",
      "No soup for https://bacdive.dsmz.de/strain/165263\n",
      "\n",
      "\n",
      "\n",
      "\n",
      "No soup for https://bacdive.dsmz.de/strain/165298No soup for https://bacdive.dsmz.de/strain/139287\n",
      "\n",
      "\n",
      "\n",
      "\n",
      "No soup for https://bacdive.dsmz.de/strain/165220\n",
      "\n",
      "No soup for https://bacdive.dsmz.de/strain/165223No soup for https://bacdive.dsmz.de/strain/165326\n",
      "\n",
      "\n",
      "\n",
      "No soup for https://bacdive.dsmz.de/strain/165323\n",
      "\n",
      "\n",
      "No soup for https://bacdive.dsmz.de/strain/165290\n",
      "\n",
      "\n",
      "\n",
      "\n",
      "\n",
      "\n",
      "\n"
     ]
    },
    {
     "name": "stderr",
     "output_type": "stream",
     "text": [
      "DSMZ Catalogue link Progress:  80%|████████  | 30213/37746 [1:29:07<11:49, 10.62it/s]"
     ]
    },
    {
     "name": "stdout",
     "output_type": "stream",
     "text": [
      "No soup for https://bacdive.dsmz.de/strain/165329\n",
      "No soup for https://bacdive.dsmz.de/strain/165331\n",
      "No soup for https://bacdive.dsmz.de/strain/165330\n",
      "No soup for https://bacdive.dsmz.de/strain/165332\n"
     ]
    },
    {
     "name": "stderr",
     "output_type": "stream",
     "text": [
      "DSMZ Catalogue link Progress:  80%|████████  | 30216/37746 [1:29:08<19:26,  6.46it/s]"
     ]
    },
    {
     "name": "stdout",
     "output_type": "stream",
     "text": [
      "No soup for https://bacdive.dsmz.de/strain/165334No soup for https://bacdive.dsmz.de/strain/165333\n",
      "\n",
      "No soup for https://bacdive.dsmz.de/strain/165363\n"
     ]
    },
    {
     "name": "stderr",
     "output_type": "stream",
     "text": [
      "DSMZ Catalogue link Progress:  80%|████████  | 30220/37746 [1:29:08<15:58,  7.85it/s]"
     ]
    },
    {
     "name": "stdout",
     "output_type": "stream",
     "text": [
      "No soup for https://bacdive.dsmz.de/strain/165345\n",
      "No soup for https://bacdive.dsmz.de/strain/165336\n",
      "No soup for https://bacdive.dsmz.de/strain/165365\n",
      "No soup for https://bacdive.dsmz.de/strain/165350\n"
     ]
    },
    {
     "name": "stderr",
     "output_type": "stream",
     "text": [
      "DSMZ Catalogue link Progress:  80%|████████  | 30224/37746 [1:29:08<11:58, 10.47it/s]"
     ]
    },
    {
     "name": "stdout",
     "output_type": "stream",
     "text": [
      "No soup for https://bacdive.dsmz.de/strain/165358\n",
      "No soup for https://bacdive.dsmz.de/strain/165359\n",
      "No soup for https://bacdive.dsmz.de/strain/165342\n",
      "No soup for https://bacdive.dsmz.de/strain/165352\n",
      "No soup for https://bacdive.dsmz.de/strain/165341\n",
      "No soup for https://bacdive.dsmz.de/strain/165346\n"
     ]
    },
    {
     "name": "stderr",
     "output_type": "stream",
     "text": [
      "DSMZ Catalogue link Progress:  80%|████████  | 30276/37746 [1:29:10<06:37, 18.81it/s]"
     ]
    },
    {
     "name": "stdout",
     "output_type": "stream",
     "text": [
      "No soup for https://bacdive.dsmz.de/strain/165362\n",
      "No soup for https://bacdive.dsmz.de/strain/165356\n",
      "No soup for https://bacdive.dsmz.de/strain/165385\n",
      "No soup for https://bacdive.dsmz.de/strain/165351\n",
      "No soup for https://bacdive.dsmz.de/strain/135029\n",
      "No soup for https://bacdive.dsmz.de/strain/165339\n",
      "No soup for https://bacdive.dsmz.de/strain/165366\n",
      "No soup for https://bacdive.dsmz.de/strain/165355\n",
      "No soup for https://bacdive.dsmz.de/strain/165384\n",
      "No soup for https://bacdive.dsmz.de/strain/165368\n",
      "No soup for https://bacdive.dsmz.de/strain/165369\n",
      "No soup for https://bacdive.dsmz.de/strain/165340\n",
      "No soup for https://bacdive.dsmz.de/strain/165338\n",
      "No soup for https://bacdive.dsmz.de/strain/165353\n",
      "No soup for https://bacdive.dsmz.de/strain/165354\n",
      "No soup for https://bacdive.dsmz.de/strain/165377\n",
      "No soup for https://bacdive.dsmz.de/strain/165364\n",
      "No soup for https://bacdive.dsmz.de/strain/165344\n",
      "No soup for https://bacdive.dsmz.de/strain/165343\n",
      "No soup for https://bacdive.dsmz.de/strain/165349\n",
      "No soup for https://bacdive.dsmz.de/strain/165361\n",
      "No soup for https://bacdive.dsmz.de/strain/165335\n",
      "No soup for https://bacdive.dsmz.de/strain/165413\n",
      "No soup for https://bacdive.dsmz.de/strain/165347\n",
      "No soup for https://bacdive.dsmz.de/strain/165391\n",
      "No soup for https://bacdive.dsmz.de/strain/137089\n",
      "No soup for https://bacdive.dsmz.de/strain/165374\n",
      "No soup for https://bacdive.dsmz.de/strain/137090\n",
      "No soup for https://bacdive.dsmz.de/strain/165371\n",
      "No soup for https://bacdive.dsmz.de/strain/165382\n",
      "No soup for https://bacdive.dsmz.de/strain/165337\n",
      "No soup for https://bacdive.dsmz.de/strain/165381\n",
      "No soup for https://bacdive.dsmz.de/strain/165357\n",
      "No soup for https://bacdive.dsmz.de/strain/165370\n",
      "No soup for https://bacdive.dsmz.de/strain/165376\n",
      "No soup for https://bacdive.dsmz.de/strain/165404\n",
      "No soup for https://bacdive.dsmz.de/strain/165367\n",
      "No soup for https://bacdive.dsmz.de/strain/165383\n",
      "No soup for https://bacdive.dsmz.de/strain/165373\n",
      "No soup for https://bacdive.dsmz.de/strain/165360\n",
      "No soup for https://bacdive.dsmz.de/strain/165379\n",
      "No soup for https://bacdive.dsmz.de/strain/165378\n",
      "No soup for https://bacdive.dsmz.de/strain/165375\n",
      "No soup for https://bacdive.dsmz.de/strain/165389\n",
      "No soup for https://bacdive.dsmz.de/strain/165398\n",
      "No soup for https://bacdive.dsmz.de/strain/134786\n",
      "No soup for https://bacdive.dsmz.de/strain/142448\n",
      "No soup for https://bacdive.dsmz.de/strain/165388\n",
      "No soup for https://bacdive.dsmz.de/strain/165394\n",
      "No soup for https://bacdive.dsmz.de/strain/142852\n",
      "No soup for https://bacdive.dsmz.de/strain/165393\n",
      "No soup for https://bacdive.dsmz.de/strain/165405\n",
      "No soup for https://bacdive.dsmz.de/strain/165386\n",
      "No soup for https://bacdive.dsmz.de/strain/138900\n",
      "No soup for https://bacdive.dsmz.de/strain/165399\n",
      "No soup for https://bacdive.dsmz.de/strain/165400\n",
      "No soup for https://bacdive.dsmz.de/strain/165387\n",
      "No soup for https://bacdive.dsmz.de/strain/165395\n",
      "No soup for https://bacdive.dsmz.de/strain/165380\n",
      "No soup for https://bacdive.dsmz.de/strain/165402\n",
      "No soup for https://bacdive.dsmz.de/strain/165372\n",
      "No soup for https://bacdive.dsmz.de/strain/165403\n",
      "No soup for https://bacdive.dsmz.de/strain/165390\n",
      "No soup for https://bacdive.dsmz.de/strain/165401\n",
      "No soup for https://bacdive.dsmz.de/strain/165396\n",
      "No soup for https://bacdive.dsmz.de/strain/165392\n",
      "No soup for https://bacdive.dsmz.de/strain/165406\n",
      "No soup for https://bacdive.dsmz.de/strain/165416\n"
     ]
    },
    {
     "name": "stderr",
     "output_type": "stream",
     "text": [
      "DSMZ Catalogue link Progress:  80%|████████  | 30307/37746 [1:29:11<16:50,  7.37it/s]"
     ]
    },
    {
     "name": "stdout",
     "output_type": "stream",
     "text": [
      "No soup for https://bacdive.dsmz.de/strain/142853No soup for https://bacdive.dsmz.de/strain/165412\n",
      "\n",
      "No soup for https://bacdive.dsmz.de/strain/165397\n",
      "No soup for https://bacdive.dsmz.de/strain/165433\n",
      "No soup for https://bacdive.dsmz.de/strain/165410\n",
      "No soup for https://bacdive.dsmz.de/strain/165348\n",
      "No soup for https://bacdive.dsmz.de/strain/134778\n",
      "No soup for https://bacdive.dsmz.de/strain/165415\n",
      "No soup for https://bacdive.dsmz.de/strain/133242\n",
      "No soup for https://bacdive.dsmz.de/strain/165420\n",
      "No soup for https://bacdive.dsmz.de/strain/165409\n",
      "No soup for https://bacdive.dsmz.de/strain/165418\n",
      "No soup for https://bacdive.dsmz.de/strain/165445\n",
      "No soup for https://bacdive.dsmz.de/strain/165411\n",
      "No soup for https://bacdive.dsmz.de/strain/165436\n",
      "No soup for https://bacdive.dsmz.de/strain/165419\n"
     ]
    },
    {
     "name": "stderr",
     "output_type": "stream",
     "text": [
      "DSMZ Catalogue link Progress:  80%|████████  | 30357/37746 [1:29:12<11:24, 10.80it/s]"
     ]
    },
    {
     "name": "stdout",
     "output_type": "stream",
     "text": [
      "No soup for https://bacdive.dsmz.de/strain/165452No soup for https://bacdive.dsmz.de/strain/165446\n",
      "No soup for https://bacdive.dsmz.de/strain/165447\n",
      "No soup for https://bacdive.dsmz.de/strain/138467\n",
      "No soup for https://bacdive.dsmz.de/strain/165430\n",
      "No soup for https://bacdive.dsmz.de/strain/165417\n",
      "\n",
      "No soup for https://bacdive.dsmz.de/strain/165429\n",
      "No soup for https://bacdive.dsmz.de/strain/165421\n",
      "No soup for https://bacdive.dsmz.de/strain/165442\n",
      "No soup for https://bacdive.dsmz.de/strain/137497\n",
      "No soup for https://bacdive.dsmz.de/strain/165432\n",
      "No soup for https://bacdive.dsmz.de/strain/165408\n",
      "No soup for https://bacdive.dsmz.de/strain/165435\n",
      "No soup for https://bacdive.dsmz.de/strain/165460\n",
      "No soup for https://bacdive.dsmz.de/strain/165414\n",
      "No soup for https://bacdive.dsmz.de/strain/141695\n",
      "No soup for https://bacdive.dsmz.de/strain/165423\n",
      "No soup for https://bacdive.dsmz.de/strain/165444\n",
      "No soup for https://bacdive.dsmz.de/strain/165453\n",
      "No soup for https://bacdive.dsmz.de/strain/165438\n",
      "No soup for https://bacdive.dsmz.de/strain/165455\n",
      "No soup for https://bacdive.dsmz.de/strain/165443\n",
      "No soup for https://bacdive.dsmz.de/strain/165448\n",
      "No soup for https://bacdive.dsmz.de/strain/165459\n",
      "No soup for https://bacdive.dsmz.de/strain/165451\n",
      "No soup for https://bacdive.dsmz.de/strain/165450\n",
      "No soup for https://bacdive.dsmz.de/strain/165440\n",
      "No soup for https://bacdive.dsmz.de/strain/165439\n",
      "No soup for https://bacdive.dsmz.de/strain/165437\n",
      "No soup for https://bacdive.dsmz.de/strain/165427\n",
      "No soup for https://bacdive.dsmz.de/strain/165441\n",
      "No soup for https://bacdive.dsmz.de/strain/165458\n",
      "No soup for https://bacdive.dsmz.de/strain/165457\n",
      "No soup for https://bacdive.dsmz.de/strain/165456\n",
      "No soup for https://bacdive.dsmz.de/strain/165425\n",
      "No soup for https://bacdive.dsmz.de/strain/165428\n",
      "No soup for https://bacdive.dsmz.de/strain/165462\n",
      "No soup for https://bacdive.dsmz.de/strain/165424\n",
      "No soup for https://bacdive.dsmz.de/strain/165461\n",
      "No soup for https://bacdive.dsmz.de/strain/165434\n",
      "No soup for https://bacdive.dsmz.de/strain/165454\n",
      "No soup for https://bacdive.dsmz.de/strain/165431\n",
      "No soup for https://bacdive.dsmz.de/strain/165422\n",
      "No soup for https://bacdive.dsmz.de/strain/165449\n",
      "No soup for https://bacdive.dsmz.de/strain/165426\n",
      "No soup for https://bacdive.dsmz.de/strain/137143\n"
     ]
    },
    {
     "name": "stderr",
     "output_type": "stream",
     "text": [
      "DSMZ Catalogue link Progress:  80%|████████  | 30360/37746 [1:29:12<11:56, 10.30it/s]"
     ]
    },
    {
     "name": "stdout",
     "output_type": "stream",
     "text": [
      "No soup for https://bacdive.dsmz.de/strain/165465\n",
      "No soup for https://bacdive.dsmz.de/strain/165467\n",
      "No soup for https://bacdive.dsmz.de/strain/165466\n",
      "No soup for https://bacdive.dsmz.de/strain/165476\n",
      "No soup for https://bacdive.dsmz.de/strain/165478\n"
     ]
    },
    {
     "name": "stderr",
     "output_type": "stream",
     "text": [
      "DSMZ Catalogue link Progress:  80%|████████  | 30364/37746 [1:29:12<11:08, 11.03it/s]"
     ]
    },
    {
     "name": "stdout",
     "output_type": "stream",
     "text": [
      "No soup for https://bacdive.dsmz.de/strain/165488\n",
      "No soup for https://bacdive.dsmz.de/strain/165482\n",
      "No soup for https://bacdive.dsmz.de/strain/165485\n",
      "No soup for https://bacdive.dsmz.de/strain/135644\n"
     ]
    },
    {
     "name": "stderr",
     "output_type": "stream",
     "text": [
      "DSMZ Catalogue link Progress:  80%|████████  | 30376/37746 [1:29:13<06:35, 18.63it/s]"
     ]
    },
    {
     "name": "stdout",
     "output_type": "stream",
     "text": [
      "No soup for https://bacdive.dsmz.de/strain/138910\n",
      "No soup for https://bacdive.dsmz.de/strain/165486\n",
      "No soup for https://bacdive.dsmz.de/strain/165469\n",
      "No soup for https://bacdive.dsmz.de/strain/165491\n",
      "No soup for https://bacdive.dsmz.de/strain/165487\n",
      "No soup for https://bacdive.dsmz.de/strain/165483\n",
      "No soup for https://bacdive.dsmz.de/strain/165490\n",
      "No soup for https://bacdive.dsmz.de/strain/165475\n",
      "No soup for https://bacdive.dsmz.de/strain/165489\n",
      "No soup for https://bacdive.dsmz.de/strain/165471\n",
      "No soup for https://bacdive.dsmz.de/strain/165474\n",
      "No soup for https://bacdive.dsmz.de/strain/165479\n",
      "No soup for https://bacdive.dsmz.de/strain/165463\n",
      "No soup for https://bacdive.dsmz.de/strain/165473\n",
      "No soup for https://bacdive.dsmz.de/strain/165477\n",
      "No soup for https://bacdive.dsmz.de/strain/165494\n",
      "No soup for https://bacdive.dsmz.de/strain/165464\n",
      "No soup for https://bacdive.dsmz.de/strain/165468\n",
      "No soup for https://bacdive.dsmz.de/strain/165492\n",
      "No soup for https://bacdive.dsmz.de/strain/165495\n",
      "No soup for https://bacdive.dsmz.de/strain/165481\n",
      "No soup for https://bacdive.dsmz.de/strain/165480\n"
     ]
    },
    {
     "name": "stderr",
     "output_type": "stream",
     "text": [
      "DSMZ Catalogue link Progress:  81%|████████  | 30392/37746 [1:29:13<02:29, 49.26it/s]"
     ]
    },
    {
     "name": "stdout",
     "output_type": "stream",
     "text": [
      "No soup for https://bacdive.dsmz.de/strain/165493No soup for https://bacdive.dsmz.de/strain/165472No soup for https://bacdive.dsmz.de/strain/165496\n",
      "\n",
      "\n",
      "No soup for https://bacdive.dsmz.de/strain/165470\n",
      "No soup for https://bacdive.dsmz.de/strain/165484\n",
      "No soup for https://bacdive.dsmz.de/strain/165497\n",
      "No soup for https://bacdive.dsmz.de/strain/165498\n",
      "No soup for https://bacdive.dsmz.de/strain/165499\n"
     ]
    },
    {
     "name": "stderr",
     "output_type": "stream",
     "text": [
      "DSMZ Catalogue link Progress:  81%|████████  | 30398/37746 [1:29:14<04:52, 25.10it/s]"
     ]
    },
    {
     "name": "stdout",
     "output_type": "stream",
     "text": [
      "No soup for https://bacdive.dsmz.de/strain/165504\n",
      "No soup for https://bacdive.dsmz.de/strain/165501\n",
      "No soup for https://bacdive.dsmz.de/strain/165505\n",
      "No soup for https://bacdive.dsmz.de/strain/165509\n",
      "No soup for https://bacdive.dsmz.de/strain/165540\n"
     ]
    },
    {
     "name": "stderr",
     "output_type": "stream",
     "text": [
      "DSMZ Catalogue link Progress:  81%|████████  | 30458/37746 [1:29:16<11:51, 10.24it/s]"
     ]
    },
    {
     "name": "stdout",
     "output_type": "stream",
     "text": [
      "No soup for https://bacdive.dsmz.de/strain/165513No soup for https://bacdive.dsmz.de/strain/165536\n",
      "No soup for https://bacdive.dsmz.de/strain/165534\n",
      "No soup for https://bacdive.dsmz.de/strain/165537\n",
      "No soup for https://bacdive.dsmz.de/strain/165529\n",
      "\n",
      "No soup for https://bacdive.dsmz.de/strain/165502\n",
      "No soup for https://bacdive.dsmz.de/strain/165517\n",
      "No soup for https://bacdive.dsmz.de/strain/165507\n",
      "No soup for https://bacdive.dsmz.de/strain/165521\n",
      "No soup for https://bacdive.dsmz.de/strain/165528\n",
      "No soup for https://bacdive.dsmz.de/strain/165515\n",
      "No soup for https://bacdive.dsmz.de/strain/165523\n",
      "No soup for https://bacdive.dsmz.de/strain/165539\n",
      "No soup for https://bacdive.dsmz.de/strain/165541\n",
      "No soup for https://bacdive.dsmz.de/strain/165530\n",
      "No soup for https://bacdive.dsmz.de/strain/165520\n",
      "No soup for https://bacdive.dsmz.de/strain/165503\n",
      "No soup for https://bacdive.dsmz.de/strain/165527\n",
      "No soup for https://bacdive.dsmz.de/strain/165511\n",
      "No soup for https://bacdive.dsmz.de/strain/165525\n",
      "No soup for https://bacdive.dsmz.de/strain/165519\n",
      "No soup for https://bacdive.dsmz.de/strain/165510\n",
      "No soup for https://bacdive.dsmz.de/strain/165514\n",
      "No soup for https://bacdive.dsmz.de/strain/165506\n",
      "No soup for https://bacdive.dsmz.de/strain/165543\n",
      "No soup for https://bacdive.dsmz.de/strain/165533\n",
      "No soup for https://bacdive.dsmz.de/strain/165551\n",
      "No soup for https://bacdive.dsmz.de/strain/165522\n",
      "No soup for https://bacdive.dsmz.de/strain/165556\n",
      "No soup for https://bacdive.dsmz.de/strain/165526\n",
      "No soup for https://bacdive.dsmz.de/strain/165553\n",
      "No soup for https://bacdive.dsmz.de/strain/165535\n",
      "No soup for https://bacdive.dsmz.de/strain/165524\n",
      "No soup for https://bacdive.dsmz.de/strain/165512\n",
      "No soup for https://bacdive.dsmz.de/strain/165518\n",
      "No soup for https://bacdive.dsmz.de/strain/165545\n",
      "No soup for https://bacdive.dsmz.de/strain/165544\n",
      "No soup for https://bacdive.dsmz.de/strain/165538\n",
      "No soup for https://bacdive.dsmz.de/strain/165549\n",
      "No soup for https://bacdive.dsmz.de/strain/165546\n",
      "No soup for https://bacdive.dsmz.de/strain/165508\n",
      "No soup for https://bacdive.dsmz.de/strain/165550\n",
      "No soup for https://bacdive.dsmz.de/strain/165500\n",
      "No soup for https://bacdive.dsmz.de/strain/165531\n",
      "No soup for https://bacdive.dsmz.de/strain/165561\n",
      "No soup for https://bacdive.dsmz.de/strain/165532\n",
      "No soup for https://bacdive.dsmz.de/strain/165557\n",
      "No soup for https://bacdive.dsmz.de/strain/165542\n",
      "No soup for https://bacdive.dsmz.de/strain/135453\n",
      "No soup for https://bacdive.dsmz.de/strain/165547\n",
      "No soup for https://bacdive.dsmz.de/strain/165559\n",
      "No soup for https://bacdive.dsmz.de/strain/165562\n",
      "No soup for https://bacdive.dsmz.de/strain/165555\n",
      "No soup for https://bacdive.dsmz.de/strain/165548\n",
      "No soup for https://bacdive.dsmz.de/strain/165563\n",
      "No soup for https://bacdive.dsmz.de/strain/165552\n",
      "No soup for https://bacdive.dsmz.de/strain/139500\n"
     ]
    },
    {
     "name": "stderr",
     "output_type": "stream",
     "text": [
      "DSMZ Catalogue link Progress:  81%|████████  | 30461/37746 [1:29:16<12:32,  9.68it/s]"
     ]
    },
    {
     "name": "stdout",
     "output_type": "stream",
     "text": [
      "No soup for https://bacdive.dsmz.de/strain/135230\n",
      "No soup for https://bacdive.dsmz.de/strain/165580\n",
      "No soup for https://bacdive.dsmz.de/strain/165576\n",
      "No soup for https://bacdive.dsmz.de/strain/165579\n"
     ]
    },
    {
     "name": "stderr",
     "output_type": "stream",
     "text": [
      "DSMZ Catalogue link Progress:  81%|████████  | 30470/37746 [1:29:16<05:43, 21.17it/s]"
     ]
    },
    {
     "name": "stdout",
     "output_type": "stream",
     "text": [
      "No soup for https://bacdive.dsmz.de/strain/165566\n",
      "No soup for https://bacdive.dsmz.de/strain/165574\n",
      "No soup for https://bacdive.dsmz.de/strain/137585\n",
      "No soup for https://bacdive.dsmz.de/strain/165554\n",
      "No soup for https://bacdive.dsmz.de/strain/165560\n",
      "No soup for https://bacdive.dsmz.de/strain/165577\n",
      "No soup for https://bacdive.dsmz.de/strain/136206\n",
      "No soup for https://bacdive.dsmz.de/strain/165564\n",
      "No soup for https://bacdive.dsmz.de/strain/165591\n"
     ]
    },
    {
     "name": "stderr",
     "output_type": "stream",
     "text": [
      "DSMZ Catalogue link Progress:  81%|████████  | 30476/37746 [1:29:16<05:25, 22.31it/s]"
     ]
    },
    {
     "name": "stdout",
     "output_type": "stream",
     "text": [
      "No soup for https://bacdive.dsmz.de/strain/165582\n",
      "No soup for https://bacdive.dsmz.de/strain/165599\n",
      "No soup for https://bacdive.dsmz.de/strain/165583\n",
      "No soup for https://bacdive.dsmz.de/strain/139246\n",
      "No soup for https://bacdive.dsmz.de/strain/165516\n",
      "No soup for https://bacdive.dsmz.de/strain/165570\n",
      "No soup for https://bacdive.dsmz.de/strain/165607\n",
      "No soup for https://bacdive.dsmz.de/strain/165609\n",
      "No soup for https://bacdive.dsmz.de/strain/165573\n",
      "No soup for https://bacdive.dsmz.de/strain/165586\n",
      "No soup for https://bacdive.dsmz.de/strain/165568\n",
      "No soup for https://bacdive.dsmz.de/strain/165588\n",
      "No soup for https://bacdive.dsmz.de/strain/165613\n",
      "No soup for https://bacdive.dsmz.de/strain/165589\n",
      "No soup for https://bacdive.dsmz.de/strain/165567\n",
      "No soup for https://bacdive.dsmz.de/strain/165575\n",
      "No soup for https://bacdive.dsmz.de/strain/165578\n",
      "No soup for https://bacdive.dsmz.de/strain/165616\n",
      "No soup for https://bacdive.dsmz.de/strain/165598\n",
      "No soup for https://bacdive.dsmz.de/strain/165604\n",
      "No soup for https://bacdive.dsmz.de/strain/165594\n",
      "No soup for https://bacdive.dsmz.de/strain/165606\n",
      "No soup for https://bacdive.dsmz.de/strain/165558\n",
      "No soup for https://bacdive.dsmz.de/strain/165569\n",
      "No soup for https://bacdive.dsmz.de/strain/165565\n",
      "No soup for https://bacdive.dsmz.de/strain/165571\n",
      "No soup for https://bacdive.dsmz.de/strain/165596\n",
      "No soup for https://bacdive.dsmz.de/strain/165585\n",
      "No soup for https://bacdive.dsmz.de/strain/165592\n",
      "No soup for https://bacdive.dsmz.de/strain/165615\n",
      "No soup for https://bacdive.dsmz.de/strain/165602\n",
      "No soup for https://bacdive.dsmz.de/strain/165603\n",
      "No soup for https://bacdive.dsmz.de/strain/165597\n",
      "No soup for https://bacdive.dsmz.de/strain/165608\n",
      "No soup for https://bacdive.dsmz.de/strain/165610\n",
      "No soup for https://bacdive.dsmz.de/strain/165619\n",
      "No soup for https://bacdive.dsmz.de/strain/165590\n",
      "No soup for https://bacdive.dsmz.de/strain/165595\n",
      "No soup for https://bacdive.dsmz.de/strain/165612\n",
      "No soup for https://bacdive.dsmz.de/strain/165611\n",
      "No soup for https://bacdive.dsmz.de/strain/165601\n",
      "No soup for https://bacdive.dsmz.de/strain/165605\n",
      "No soup for https://bacdive.dsmz.de/strain/165618\n",
      "No soup for https://bacdive.dsmz.de/strain/165581\n",
      "No soup for https://bacdive.dsmz.de/strain/165617\n",
      "No soup for https://bacdive.dsmz.de/strain/165584\n",
      "No soup for https://bacdive.dsmz.de/strain/165614\n",
      "No soup for https://bacdive.dsmz.de/strain/165600\n",
      "No soup for https://bacdive.dsmz.de/strain/165572\n"
     ]
    },
    {
     "name": "stderr",
     "output_type": "stream",
     "text": [
      "DSMZ Catalogue link Progress:  81%|████████  | 30529/37746 [1:29:18<06:26, 18.66it/s]"
     ]
    },
    {
     "name": "stdout",
     "output_type": "stream",
     "text": [
      "No soup for https://bacdive.dsmz.de/strain/165593No soup for https://bacdive.dsmz.de/strain/165620\n",
      "\n",
      "No soup for https://bacdive.dsmz.de/strain/165587\n",
      "No soup for https://bacdive.dsmz.de/strain/144957\n",
      "No soup for https://bacdive.dsmz.de/strain/136692\n",
      "No soup for https://bacdive.dsmz.de/strain/135790\n",
      "No soup for https://bacdive.dsmz.de/strain/135910\n",
      "No soup for https://bacdive.dsmz.de/strain/139466\n",
      "No soup for https://bacdive.dsmz.de/strain/138108\n"
     ]
    },
    {
     "name": "stderr",
     "output_type": "stream",
     "text": [
      "DSMZ Catalogue link Progress:  81%|████████  | 30529/37746 [1:29:18<06:26, 18.66it/s]"
     ]
    },
    {
     "name": "stdout",
     "output_type": "stream",
     "text": [
      "No soup for https://bacdive.dsmz.de/strain/165673\n"
     ]
    },
    {
     "name": "stderr",
     "output_type": "stream",
     "text": [
      "DSMZ Catalogue link Progress:  81%|████████  | 30534/37746 [1:29:19<07:21, 16.34it/s]"
     ]
    },
    {
     "name": "stdout",
     "output_type": "stream",
     "text": [
      "No soup for https://bacdive.dsmz.de/strain/165629\n",
      "No soup for https://bacdive.dsmz.de/strain/165668\n",
      "No soup for https://bacdive.dsmz.de/strain/165678\n",
      "No soup for https://bacdive.dsmz.de/strain/165652\n",
      "No soup for https://bacdive.dsmz.de/strain/165639\n",
      "No soup for https://bacdive.dsmz.de/strain/165648\n"
     ]
    },
    {
     "name": "stderr",
     "output_type": "stream",
     "text": [
      "DSMZ Catalogue link Progress:  81%|████████  | 30542/37746 [1:29:19<05:48, 20.67it/s]"
     ]
    },
    {
     "name": "stdout",
     "output_type": "stream",
     "text": [
      "No soup for https://bacdive.dsmz.de/strain/165654\n",
      "No soup for https://bacdive.dsmz.de/strain/165674\n",
      "No soup for https://bacdive.dsmz.de/strain/165626\n",
      "No soup for https://bacdive.dsmz.de/strain/138397\n",
      "No soup for https://bacdive.dsmz.de/strain/165631\n",
      "No soup for https://bacdive.dsmz.de/strain/165644\n",
      "No soup for https://bacdive.dsmz.de/strain/165657\n",
      "No soup for https://bacdive.dsmz.de/strain/148113\n"
     ]
    },
    {
     "name": "stderr",
     "output_type": "stream",
     "text": [
      "DSMZ Catalogue link Progress:  81%|████████  | 30547/37746 [1:29:19<04:43, 25.43it/s]"
     ]
    },
    {
     "name": "stdout",
     "output_type": "stream",
     "text": [
      "No soup for https://bacdive.dsmz.de/strain/165680No soup for https://bacdive.dsmz.de/strain/165651\n",
      "\n",
      "No soup for https://bacdive.dsmz.de/strain/165624\n",
      "No soup for https://bacdive.dsmz.de/strain/165655\n",
      "No soup for https://bacdive.dsmz.de/strain/165627\n",
      "No soup for https://bacdive.dsmz.de/strain/165636\n",
      "No soup for https://bacdive.dsmz.de/strain/165650\n",
      "No soup for https://bacdive.dsmz.de/strain/165625\n",
      "No soup for https://bacdive.dsmz.de/strain/165649\n",
      "No soup for https://bacdive.dsmz.de/strain/165663\n",
      "No soup for https://bacdive.dsmz.de/strain/165662\n",
      "No soup for https://bacdive.dsmz.de/strain/165671\n",
      "No soup for https://bacdive.dsmz.de/strain/165646\n",
      "No soup for https://bacdive.dsmz.de/strain/165645\n",
      "No soup for https://bacdive.dsmz.de/strain/165681\n",
      "No soup for https://bacdive.dsmz.de/strain/165621\n",
      "No soup for https://bacdive.dsmz.de/strain/165641\n",
      "No soup for https://bacdive.dsmz.de/strain/136189\n",
      "No soup for https://bacdive.dsmz.de/strain/165643\n",
      "No soup for https://bacdive.dsmz.de/strain/165667\n",
      "No soup for https://bacdive.dsmz.de/strain/165666\n",
      "No soup for https://bacdive.dsmz.de/strain/165632\n",
      "No soup for https://bacdive.dsmz.de/strain/165682\n",
      "No soup for https://bacdive.dsmz.de/strain/165640\n",
      "No soup for https://bacdive.dsmz.de/strain/165670\n",
      "No soup for https://bacdive.dsmz.de/strain/165656\n",
      "No soup for https://bacdive.dsmz.de/strain/165684\n",
      "No soup for https://bacdive.dsmz.de/strain/165647\n",
      "No soup for https://bacdive.dsmz.de/strain/165679\n",
      "No soup for https://bacdive.dsmz.de/strain/165675\n",
      "No soup for https://bacdive.dsmz.de/strain/165669\n",
      "No soup for https://bacdive.dsmz.de/strain/165638\n",
      "No soup for https://bacdive.dsmz.de/strain/165622\n",
      "No soup for https://bacdive.dsmz.de/strain/165630\n",
      "No soup for https://bacdive.dsmz.de/strain/165623\n",
      "No soup for https://bacdive.dsmz.de/strain/165672\n",
      "No soup for https://bacdive.dsmz.de/strain/165637\n",
      "No soup for https://bacdive.dsmz.de/strain/165661\n",
      "No soup for https://bacdive.dsmz.de/strain/165653\n",
      "No soup for https://bacdive.dsmz.de/strain/165676\n"
     ]
    },
    {
     "name": "stderr",
     "output_type": "stream",
     "text": [
      "DSMZ Catalogue link Progress:  81%|████████  | 30600/37746 [1:29:21<08:53, 13.39it/s]"
     ]
    },
    {
     "name": "stdout",
     "output_type": "stream",
     "text": [
      "No soup for https://bacdive.dsmz.de/strain/165665No soup for https://bacdive.dsmz.de/strain/165660\n",
      "\n",
      "No soup for https://bacdive.dsmz.de/strain/165642\n",
      "No soup for https://bacdive.dsmz.de/strain/165659\n",
      "No soup for https://bacdive.dsmz.de/strain/165685\n",
      "No soup for https://bacdive.dsmz.de/strain/165628\n",
      "No soup for https://bacdive.dsmz.de/strain/134757\n",
      "No soup for https://bacdive.dsmz.de/strain/165633\n",
      "No soup for https://bacdive.dsmz.de/strain/165683\n",
      "No soup for https://bacdive.dsmz.de/strain/165664\n",
      "No soup for https://bacdive.dsmz.de/strain/135632\n",
      "No soup for https://bacdive.dsmz.de/strain/165690\n",
      "No soup for https://bacdive.dsmz.de/strain/165700\n",
      "No soup for https://bacdive.dsmz.de/strain/148323\n",
      "No soup for https://bacdive.dsmz.de/strain/165728\n",
      "No soup for https://bacdive.dsmz.de/strain/165694\n"
     ]
    },
    {
     "name": "stderr",
     "output_type": "stream",
     "text": [
      "DSMZ Catalogue link Progress:  81%|████████  | 30605/37746 [1:29:21<08:53, 13.39it/s]"
     ]
    },
    {
     "name": "stdout",
     "output_type": "stream",
     "text": [
      "No soup for https://bacdive.dsmz.de/strain/165635\n",
      "No soup for https://bacdive.dsmz.de/strain/165634\n",
      "No soup for https://bacdive.dsmz.de/strain/165687\n",
      "No soup for https://bacdive.dsmz.de/strain/165703\n",
      "No soup for https://bacdive.dsmz.de/strain/165714\n",
      "No soup for https://bacdive.dsmz.de/strain/165697\n"
     ]
    },
    {
     "name": "stderr",
     "output_type": "stream",
     "text": [
      "DSMZ Catalogue link Progress:  81%|████████  | 30608/37746 [1:29:21<09:48, 12.12it/s]"
     ]
    },
    {
     "name": "stdout",
     "output_type": "stream",
     "text": [
      "No soup for https://bacdive.dsmz.de/strain/165709\n",
      "No soup for https://bacdive.dsmz.de/strain/165708\n",
      "No soup for https://bacdive.dsmz.de/strain/165699\n",
      "No soup for https://bacdive.dsmz.de/strain/165698\n",
      "No soup for https://bacdive.dsmz.de/strain/165705\n",
      "No soup for https://bacdive.dsmz.de/strain/165731\n",
      "No soup for https://bacdive.dsmz.de/strain/165696\n",
      "No soup for https://bacdive.dsmz.de/strain/165730\n",
      "No soup for https://bacdive.dsmz.de/strain/165686\n",
      "No soup for https://bacdive.dsmz.de/strain/165677\n"
     ]
    },
    {
     "name": "stderr",
     "output_type": "stream",
     "text": [
      "DSMZ Catalogue link Progress:  81%|████████  | 30626/37746 [1:29:22<03:06, 38.17it/s]"
     ]
    },
    {
     "name": "stdout",
     "output_type": "stream",
     "text": [
      "No soup for https://bacdive.dsmz.de/strain/165658\n",
      "No soup for https://bacdive.dsmz.de/strain/165704\n",
      "No soup for https://bacdive.dsmz.de/strain/165706\n",
      "No soup for https://bacdive.dsmz.de/strain/165707\n",
      "No soup for https://bacdive.dsmz.de/strain/165727\n",
      "No soup for https://bacdive.dsmz.de/strain/165720\n",
      "No soup for https://bacdive.dsmz.de/strain/136477\n",
      "No soup for https://bacdive.dsmz.de/strain/165724\n",
      "No soup for https://bacdive.dsmz.de/strain/165718\n",
      "No soup for https://bacdive.dsmz.de/strain/165710\n",
      "No soup for https://bacdive.dsmz.de/strain/165752\n",
      "No soup for https://bacdive.dsmz.de/strain/165692\n",
      "No soup for https://bacdive.dsmz.de/strain/165711\n",
      "No soup for https://bacdive.dsmz.de/strain/165751\n",
      "No soup for https://bacdive.dsmz.de/strain/165757\n",
      "No soup for https://bacdive.dsmz.de/strain/165726\n",
      "No soup for https://bacdive.dsmz.de/strain/165753\n",
      "No soup for https://bacdive.dsmz.de/strain/165737\n",
      "No soup for https://bacdive.dsmz.de/strain/165748\n",
      "No soup for https://bacdive.dsmz.de/strain/165746\n",
      "No soup for https://bacdive.dsmz.de/strain/165702\n",
      "No soup for https://bacdive.dsmz.de/strain/165713\n",
      "No soup for https://bacdive.dsmz.de/strain/165722\n",
      "No soup for https://bacdive.dsmz.de/strain/165712\n",
      "No soup for https://bacdive.dsmz.de/strain/165725\n",
      "No soup for https://bacdive.dsmz.de/strain/165749\n",
      "No soup for https://bacdive.dsmz.de/strain/165701\n",
      "No soup for https://bacdive.dsmz.de/strain/165742\n",
      "No soup for https://bacdive.dsmz.de/strain/165744\n",
      "No soup for https://bacdive.dsmz.de/strain/165736\n",
      "No soup for https://bacdive.dsmz.de/strain/165689\n",
      "No soup for https://bacdive.dsmz.de/strain/165750\n",
      "No soup for https://bacdive.dsmz.de/strain/165756\n",
      "No soup for https://bacdive.dsmz.de/strain/135161\n",
      "No soup for https://bacdive.dsmz.de/strain/165715\n",
      "No soup for https://bacdive.dsmz.de/strain/165734\n",
      "No soup for https://bacdive.dsmz.de/strain/165739\n",
      "No soup for https://bacdive.dsmz.de/strain/165721\n",
      "No soup for https://bacdive.dsmz.de/strain/165719\n",
      "No soup for https://bacdive.dsmz.de/strain/165754\n",
      "No soup for https://bacdive.dsmz.de/strain/165738\n"
     ]
    },
    {
     "name": "stderr",
     "output_type": "stream",
     "text": [
      "DSMZ Catalogue link Progress:  81%|████████▏ | 30677/37746 [1:29:23<10:29, 11.23it/s]"
     ]
    },
    {
     "name": "stdout",
     "output_type": "stream",
     "text": [
      "No soup for https://bacdive.dsmz.de/strain/165735No soup for https://bacdive.dsmz.de/strain/165716\n",
      "No soup for https://bacdive.dsmz.de/strain/165695\n",
      "No soup for https://bacdive.dsmz.de/strain/165723\n",
      "No soup for https://bacdive.dsmz.de/strain/165745\n",
      "\n",
      "No soup for https://bacdive.dsmz.de/strain/165747\n",
      "No soup for https://bacdive.dsmz.de/strain/165717\n",
      "No soup for https://bacdive.dsmz.de/strain/165755\n",
      "No soup for https://bacdive.dsmz.de/strain/165691\n",
      "No soup for https://bacdive.dsmz.de/strain/165732\n",
      "No soup for https://bacdive.dsmz.de/strain/165729\n",
      "No soup for https://bacdive.dsmz.de/strain/165688\n",
      "No soup for https://bacdive.dsmz.de/strain/165758\n",
      "No soup for https://bacdive.dsmz.de/strain/165733\n",
      "No soup for https://bacdive.dsmz.de/strain/165743\n",
      "No soup for https://bacdive.dsmz.de/strain/134776\n",
      "No soup for https://bacdive.dsmz.de/strain/165693\n",
      "No soup for https://bacdive.dsmz.de/strain/165741\n",
      "No soup for https://bacdive.dsmz.de/strain/148014\n",
      "No soup for https://bacdive.dsmz.de/strain/135276\n"
     ]
    },
    {
     "name": "stderr",
     "output_type": "stream",
     "text": [
      "DSMZ Catalogue link Progress:  81%|████████▏ | 30679/37746 [1:29:23<11:16, 10.45it/s]"
     ]
    },
    {
     "name": "stdout",
     "output_type": "stream",
     "text": [
      "No soup for https://bacdive.dsmz.de/strain/165803\n",
      "No soup for https://bacdive.dsmz.de/strain/165773\n",
      "No soup for https://bacdive.dsmz.de/strain/165796\n",
      "No soup for https://bacdive.dsmz.de/strain/165811\n"
     ]
    },
    {
     "name": "stderr",
     "output_type": "stream",
     "text": [
      "DSMZ Catalogue link Progress:  81%|████████▏ | 30685/37746 [1:29:23<09:33, 12.31it/s]"
     ]
    },
    {
     "name": "stdout",
     "output_type": "stream",
     "text": [
      "No soup for https://bacdive.dsmz.de/strain/165759\n",
      "No soup for https://bacdive.dsmz.de/strain/165775\n",
      "No soup for https://bacdive.dsmz.de/strain/165779\n",
      "No soup for https://bacdive.dsmz.de/strain/165793\n",
      "No soup for https://bacdive.dsmz.de/strain/165807\n",
      "No soup for https://bacdive.dsmz.de/strain/165764\n",
      "No soup for https://bacdive.dsmz.de/strain/165784\n"
     ]
    },
    {
     "name": "stderr",
     "output_type": "stream",
     "text": [
      "DSMZ Catalogue link Progress:  81%|████████▏ | 30690/37746 [1:29:24<08:11, 14.36it/s]"
     ]
    },
    {
     "name": "stdout",
     "output_type": "stream",
     "text": [
      "No soup for https://bacdive.dsmz.de/strain/165785\n",
      "No soup for https://bacdive.dsmz.de/strain/165813\n",
      "No soup for https://bacdive.dsmz.de/strain/165766\n",
      "No soup for https://bacdive.dsmz.de/strain/165791\n"
     ]
    },
    {
     "name": "stderr",
     "output_type": "stream",
     "text": [
      "DSMZ Catalogue link Progress:  81%|████████▏ | 30702/37746 [1:29:24<03:40, 31.94it/s]"
     ]
    },
    {
     "name": "stdout",
     "output_type": "stream",
     "text": [
      "No soup for https://bacdive.dsmz.de/strain/165787\n",
      "No soup for https://bacdive.dsmz.de/strain/165815\n",
      "No soup for https://bacdive.dsmz.de/strain/165808\n",
      "No soup for https://bacdive.dsmz.de/strain/165804\n",
      "No soup for https://bacdive.dsmz.de/strain/165814\n",
      "No soup for https://bacdive.dsmz.de/strain/165798\n",
      "No soup for https://bacdive.dsmz.de/strain/165772\n",
      "No soup for https://bacdive.dsmz.de/strain/165789\n",
      "No soup for https://bacdive.dsmz.de/strain/165812\n",
      "No soup for https://bacdive.dsmz.de/strain/165783\n",
      "No soup for https://bacdive.dsmz.de/strain/165778\n",
      "No soup for https://bacdive.dsmz.de/strain/165806\n",
      "No soup for https://bacdive.dsmz.de/strain/165768\n",
      "No soup for https://bacdive.dsmz.de/strain/165769\n"
     ]
    },
    {
     "name": "stderr",
     "output_type": "stream",
     "text": [
      "DSMZ Catalogue link Progress:  81%|████████▏ | 30713/37746 [1:29:24<03:00, 39.06it/s]"
     ]
    },
    {
     "name": "stdout",
     "output_type": "stream",
     "text": [
      "No soup for https://bacdive.dsmz.de/strain/165763\n",
      "No soup for https://bacdive.dsmz.de/strain/165780\n",
      "No soup for https://bacdive.dsmz.de/strain/165802\n",
      "No soup for https://bacdive.dsmz.de/strain/165816\n",
      "No soup for https://bacdive.dsmz.de/strain/165790\n",
      "No soup for https://bacdive.dsmz.de/strain/165770\n",
      "No soup for https://bacdive.dsmz.de/strain/136351\n",
      "No soup for https://bacdive.dsmz.de/strain/165774\n",
      "No soup for https://bacdive.dsmz.de/strain/165797\n",
      "No soup for https://bacdive.dsmz.de/strain/165801\n"
     ]
    },
    {
     "name": "stderr",
     "output_type": "stream",
     "text": [
      "DSMZ Catalogue link Progress:  81%|████████▏ | 30720/37746 [1:29:24<04:09, 28.19it/s]"
     ]
    },
    {
     "name": "stdout",
     "output_type": "stream",
     "text": [
      "No soup for https://bacdive.dsmz.de/strain/165819\n",
      "No soup for https://bacdive.dsmz.de/strain/165805\n",
      "No soup for https://bacdive.dsmz.de/strain/165788\n",
      "No soup for https://bacdive.dsmz.de/strain/165795\n",
      "No soup for https://bacdive.dsmz.de/strain/165818\n",
      "No soup for https://bacdive.dsmz.de/strain/165792\n",
      "No soup for https://bacdive.dsmz.de/strain/165760\n",
      "No soup for https://bacdive.dsmz.de/strain/165835\n",
      "No soup for https://bacdive.dsmz.de/strain/165761\n",
      "No soup for https://bacdive.dsmz.de/strain/165799\n",
      "No soup for https://bacdive.dsmz.de/strain/165771\n",
      "No soup for https://bacdive.dsmz.de/strain/165777\n",
      "No soup for https://bacdive.dsmz.de/strain/165776\n",
      "No soup for https://bacdive.dsmz.de/strain/165781\n",
      "No soup for https://bacdive.dsmz.de/strain/165794\n",
      "No soup for https://bacdive.dsmz.de/strain/165800\n",
      "No soup for https://bacdive.dsmz.de/strain/165821\n"
     ]
    },
    {
     "name": "stderr",
     "output_type": "stream",
     "text": [
      "DSMZ Catalogue link Progress:  82%|████████▏ | 30766/37746 [1:29:26<07:15, 16.01it/s]"
     ]
    },
    {
     "name": "stdout",
     "output_type": "stream",
     "text": [
      "No soup for https://bacdive.dsmz.de/strain/165786No soup for https://bacdive.dsmz.de/strain/165825\n",
      "No soup for https://bacdive.dsmz.de/strain/165828\n",
      "No soup for https://bacdive.dsmz.de/strain/165834\n",
      "No soup for https://bacdive.dsmz.de/strain/165810\n",
      "No soup for https://bacdive.dsmz.de/strain/165782\n",
      "No soup for https://bacdive.dsmz.de/strain/165855\n",
      "No soup for https://bacdive.dsmz.de/strain/165762\n",
      "No soup for https://bacdive.dsmz.de/strain/165765\n",
      "No soup for https://bacdive.dsmz.de/strain/165767\n",
      "\n",
      "No soup for https://bacdive.dsmz.de/strain/165839\n",
      "No soup for https://bacdive.dsmz.de/strain/165822\n",
      "No soup for https://bacdive.dsmz.de/strain/165817\n",
      "No soup for https://bacdive.dsmz.de/strain/165841\n",
      "No soup for https://bacdive.dsmz.de/strain/156243\n",
      "No soup for https://bacdive.dsmz.de/strain/165826\n",
      "No soup for https://bacdive.dsmz.de/strain/138277\n",
      "No soup for https://bacdive.dsmz.de/strain/165848\n",
      "No soup for https://bacdive.dsmz.de/strain/165831\n",
      "No soup for https://bacdive.dsmz.de/strain/165832\n",
      "No soup for https://bacdive.dsmz.de/strain/165837\n",
      "No soup for https://bacdive.dsmz.de/strain/165849\n",
      "No soup for https://bacdive.dsmz.de/strain/165830\n",
      "No soup for https://bacdive.dsmz.de/strain/165824\n",
      "No soup for https://bacdive.dsmz.de/strain/165850\n",
      "No soup for https://bacdive.dsmz.de/strain/165809\n",
      "No soup for https://bacdive.dsmz.de/strain/165845\n",
      "No soup for https://bacdive.dsmz.de/strain/165860\n",
      "No soup for https://bacdive.dsmz.de/strain/165820\n",
      "No soup for https://bacdive.dsmz.de/strain/165842\n",
      "No soup for https://bacdive.dsmz.de/strain/165829\n",
      "No soup for https://bacdive.dsmz.de/strain/165872\n",
      "No soup for https://bacdive.dsmz.de/strain/165854\n",
      "No soup for https://bacdive.dsmz.de/strain/165833\n"
     ]
    },
    {
     "name": "stderr",
     "output_type": "stream",
     "text": [
      "DSMZ Catalogue link Progress:  82%|████████▏ | 30784/37746 [1:29:26<14:23,  8.06it/s]"
     ]
    },
    {
     "name": "stdout",
     "output_type": "stream",
     "text": [
      "No soup for https://bacdive.dsmz.de/strain/165852\n",
      "No soup for https://bacdive.dsmz.de/strain/165847\n",
      "No soup for https://bacdive.dsmz.de/strain/165881\n",
      "No soup for https://bacdive.dsmz.de/strain/165863\n",
      "No soup for https://bacdive.dsmz.de/strain/165827\n",
      "No soup for https://bacdive.dsmz.de/strain/165823\n",
      "No soup for https://bacdive.dsmz.de/strain/165867\n",
      "No soup for https://bacdive.dsmz.de/strain/165866\n",
      "No soup for https://bacdive.dsmz.de/strain/165871\n",
      "No soup for https://bacdive.dsmz.de/strain/165864\n",
      "No soup for https://bacdive.dsmz.de/strain/165869\n",
      "No soup for https://bacdive.dsmz.de/strain/165843\n",
      "No soup for https://bacdive.dsmz.de/strain/165840\n",
      "No soup for https://bacdive.dsmz.de/strain/165870\n",
      "No soup for https://bacdive.dsmz.de/strain/165846\n",
      "No soup for https://bacdive.dsmz.de/strain/165868\n",
      "No soup for https://bacdive.dsmz.de/strain/165880\n",
      "No soup for https://bacdive.dsmz.de/strain/165886\n",
      "No soup for https://bacdive.dsmz.de/strain/165882\n",
      "No soup for https://bacdive.dsmz.de/strain/165851\n"
     ]
    },
    {
     "name": "stderr",
     "output_type": "stream",
     "text": [
      "DSMZ Catalogue link Progress:  82%|████████▏ | 30796/37746 [1:29:26<18:09,  6.38it/s]"
     ]
    },
    {
     "name": "stdout",
     "output_type": "stream",
     "text": [
      "No soup for https://bacdive.dsmz.de/strain/165857\n",
      "No soup for https://bacdive.dsmz.de/strain/165874\n",
      "No soup for https://bacdive.dsmz.de/strain/165887\n",
      "No soup for https://bacdive.dsmz.de/strain/165884\n",
      "No soup for https://bacdive.dsmz.de/strain/165878\n",
      "No soup for https://bacdive.dsmz.de/strain/165877\n",
      "No soup for https://bacdive.dsmz.de/strain/165861\n",
      "No soup for https://bacdive.dsmz.de/strain/165856\n",
      "No soup for https://bacdive.dsmz.de/strain/165862\n",
      "No soup for https://bacdive.dsmz.de/strain/165883\n",
      "No soup for https://bacdive.dsmz.de/strain/165888\n"
     ]
    },
    {
     "name": "stderr",
     "output_type": "stream",
     "text": [
      "DSMZ Catalogue link Progress:  82%|████████▏ | 30800/37746 [1:29:26<08:57, 12.92it/s]"
     ]
    },
    {
     "name": "stdout",
     "output_type": "stream",
     "text": [
      "No soup for https://bacdive.dsmz.de/strain/165889\n",
      "No soup for https://bacdive.dsmz.de/strain/165875\n",
      "No soup for https://bacdive.dsmz.de/strain/165838\n",
      "No soup for https://bacdive.dsmz.de/strain/165893\n"
     ]
    },
    {
     "name": "stderr",
     "output_type": "stream",
     "text": [
      "DSMZ Catalogue link Progress:  82%|████████▏ | 30808/37746 [1:29:27<06:48, 16.98it/s]"
     ]
    },
    {
     "name": "stdout",
     "output_type": "stream",
     "text": [
      "No soup for https://bacdive.dsmz.de/strain/165865\n",
      "No soup for https://bacdive.dsmz.de/strain/165908\n",
      "No soup for https://bacdive.dsmz.de/strain/165900\n",
      "No soup for https://bacdive.dsmz.de/strain/165911\n",
      "No soup for https://bacdive.dsmz.de/strain/165902\n",
      "No soup for https://bacdive.dsmz.de/strain/165903\n"
     ]
    },
    {
     "name": "stderr",
     "output_type": "stream",
     "text": [
      "DSMZ Catalogue link Progress:  82%|████████▏ | 30812/37746 [1:29:28<14:45,  7.83it/s]"
     ]
    },
    {
     "name": "stdout",
     "output_type": "stream",
     "text": [
      "No soup for https://bacdive.dsmz.de/strain/165892\n",
      "No soup for https://bacdive.dsmz.de/strain/165885\n",
      "No soup for https://bacdive.dsmz.de/strain/165879\n",
      "No soup for https://bacdive.dsmz.de/strain/165896\n",
      "No soup for https://bacdive.dsmz.de/strain/165891\n",
      "No soup for https://bacdive.dsmz.de/strain/165844\n"
     ]
    },
    {
     "name": "stderr",
     "output_type": "stream",
     "text": [
      "DSMZ Catalogue link Progress:  82%|████████▏ | 30853/37746 [1:29:28<15:02,  7.64it/s]"
     ]
    },
    {
     "name": "stdout",
     "output_type": "stream",
     "text": [
      "No soup for https://bacdive.dsmz.de/strain/165922No soup for https://bacdive.dsmz.de/strain/165913\n",
      "No soup for https://bacdive.dsmz.de/strain/165907\n",
      "No soup for https://bacdive.dsmz.de/strain/165923\n",
      "\n",
      "No soup for https://bacdive.dsmz.de/strain/165853\n",
      "No soup for https://bacdive.dsmz.de/strain/165859\n",
      "No soup for https://bacdive.dsmz.de/strain/165929\n",
      "No soup for https://bacdive.dsmz.de/strain/165899\n",
      "No soup for https://bacdive.dsmz.de/strain/165905\n",
      "No soup for https://bacdive.dsmz.de/strain/165912\n",
      "No soup for https://bacdive.dsmz.de/strain/165930\n",
      "No soup for https://bacdive.dsmz.de/strain/165904\n",
      "No soup for https://bacdive.dsmz.de/strain/165894\n",
      "No soup for https://bacdive.dsmz.de/strain/165898\n",
      "No soup for https://bacdive.dsmz.de/strain/165931\n",
      "No soup for https://bacdive.dsmz.de/strain/165916\n",
      "No soup for https://bacdive.dsmz.de/strain/165836\n",
      "No soup for https://bacdive.dsmz.de/strain/165858\n",
      "No soup for https://bacdive.dsmz.de/strain/165927\n",
      "No soup for https://bacdive.dsmz.de/strain/165901\n",
      "No soup for https://bacdive.dsmz.de/strain/165921\n",
      "No soup for https://bacdive.dsmz.de/strain/165914\n",
      "No soup for https://bacdive.dsmz.de/strain/165897\n",
      "No soup for https://bacdive.dsmz.de/strain/165920\n",
      "No soup for https://bacdive.dsmz.de/strain/165918\n",
      "No soup for https://bacdive.dsmz.de/strain/165910\n",
      "No soup for https://bacdive.dsmz.de/strain/165909\n",
      "No soup for https://bacdive.dsmz.de/strain/165917\n",
      "No soup for https://bacdive.dsmz.de/strain/165873\n",
      "No soup for https://bacdive.dsmz.de/strain/165943\n",
      "No soup for https://bacdive.dsmz.de/strain/165876\n",
      "No soup for https://bacdive.dsmz.de/strain/165932\n",
      "No soup for https://bacdive.dsmz.de/strain/165954\n",
      "No soup for https://bacdive.dsmz.de/strain/165934\n",
      "No soup for https://bacdive.dsmz.de/strain/165937\n",
      "No soup for https://bacdive.dsmz.de/strain/165924\n",
      "No soup for https://bacdive.dsmz.de/strain/165933\n",
      "No soup for https://bacdive.dsmz.de/strain/165895\n",
      "No soup for https://bacdive.dsmz.de/strain/165915\n"
     ]
    },
    {
     "name": "stderr",
     "output_type": "stream",
     "text": [
      "DSMZ Catalogue link Progress:  82%|████████▏ | 30859/37746 [1:29:28<13:39,  8.40it/s]"
     ]
    },
    {
     "name": "stdout",
     "output_type": "stream",
     "text": [
      "No soup for https://bacdive.dsmz.de/strain/165919\n",
      "No soup for https://bacdive.dsmz.de/strain/165946\n",
      "No soup for https://bacdive.dsmz.de/strain/165906\n",
      "No soup for https://bacdive.dsmz.de/strain/165926\n",
      "No soup for https://bacdive.dsmz.de/strain/165890\n",
      "No soup for https://bacdive.dsmz.de/strain/165939\n",
      "No soup for https://bacdive.dsmz.de/strain/165925\n",
      "No soup for https://bacdive.dsmz.de/strain/165961\n",
      "No soup for https://bacdive.dsmz.de/strain/165942\n"
     ]
    },
    {
     "name": "stderr",
     "output_type": "stream",
     "text": [
      "DSMZ Catalogue link Progress:  82%|████████▏ | 30866/37746 [1:29:29<07:34, 15.14it/s]"
     ]
    },
    {
     "name": "stdout",
     "output_type": "stream",
     "text": [
      "No soup for https://bacdive.dsmz.de/strain/135331\n",
      "No soup for https://bacdive.dsmz.de/strain/165949\n",
      "No soup for https://bacdive.dsmz.de/strain/165935\n",
      "No soup for https://bacdive.dsmz.de/strain/165952\n",
      "No soup for https://bacdive.dsmz.de/strain/165957\n",
      "No soup for https://bacdive.dsmz.de/strain/165951\n",
      "No soup for https://bacdive.dsmz.de/strain/165940\n",
      "No soup for https://bacdive.dsmz.de/strain/135475\n"
     ]
    },
    {
     "name": "stderr",
     "output_type": "stream",
     "text": [
      "DSMZ Catalogue link Progress:  82%|████████▏ | 30875/37746 [1:29:29<02:27, 46.73it/s]"
     ]
    },
    {
     "name": "stdout",
     "output_type": "stream",
     "text": [
      "No soup for https://bacdive.dsmz.de/strain/165956No soup for https://bacdive.dsmz.de/strain/165948\n",
      "\n",
      "No soup for https://bacdive.dsmz.de/strain/165959\n",
      "No soup for https://bacdive.dsmz.de/strain/165958\n",
      "No soup for https://bacdive.dsmz.de/strain/165964\n",
      "No soup for https://bacdive.dsmz.de/strain/165945\n",
      "No soup for https://bacdive.dsmz.de/strain/165979\n"
     ]
    },
    {
     "name": "stderr",
     "output_type": "stream",
     "text": [
      "DSMZ Catalogue link Progress:  82%|████████▏ | 30884/37746 [1:29:29<03:50, 29.75it/s]"
     ]
    },
    {
     "name": "stdout",
     "output_type": "stream",
     "text": [
      "No soup for https://bacdive.dsmz.de/strain/165963\n",
      "No soup for https://bacdive.dsmz.de/strain/165953\n",
      "No soup for https://bacdive.dsmz.de/strain/165955\n",
      "No soup for https://bacdive.dsmz.de/strain/165960\n",
      "No soup for https://bacdive.dsmz.de/strain/146012\n",
      "No soup for https://bacdive.dsmz.de/strain/135333\n",
      "No soup for https://bacdive.dsmz.de/strain/135332\n",
      "No soup for https://bacdive.dsmz.de/strain/165962\n",
      "No soup for https://bacdive.dsmz.de/strain/135335\n"
     ]
    },
    {
     "name": "stderr",
     "output_type": "stream",
     "text": [
      "DSMZ Catalogue link Progress:  82%|████████▏ | 30893/37746 [1:29:30<03:00, 37.87it/s]"
     ]
    },
    {
     "name": "stdout",
     "output_type": "stream",
     "text": [
      "No soup for https://bacdive.dsmz.de/strain/146548\n",
      "No soup for https://bacdive.dsmz.de/strain/165941\n",
      "No soup for https://bacdive.dsmz.de/strain/165973\n",
      "No soup for https://bacdive.dsmz.de/strain/165970\n",
      "No soup for https://bacdive.dsmz.de/strain/165992\n",
      "No soup for https://bacdive.dsmz.de/strain/146549\n",
      "No soup for https://bacdive.dsmz.de/strain/165974\n",
      "No soup for https://bacdive.dsmz.de/strain/165982\n",
      "No soup for https://bacdive.dsmz.de/strain/165950\n",
      "No soup for https://bacdive.dsmz.de/strain/165971\n",
      "No soup for https://bacdive.dsmz.de/strain/165972\n",
      "No soup for https://bacdive.dsmz.de/strain/165975\n",
      "No soup for https://bacdive.dsmz.de/strain/138142\n",
      "No soup for https://bacdive.dsmz.de/strain/165984\n",
      "No soup for https://bacdive.dsmz.de/strain/165980\n",
      "No soup for https://bacdive.dsmz.de/strain/146013\n",
      "No soup for https://bacdive.dsmz.de/strain/165944\n",
      "No soup for https://bacdive.dsmz.de/strain/165968\n",
      "No soup for https://bacdive.dsmz.de/strain/165988\n",
      "No soup for https://bacdive.dsmz.de/strain/165985\n",
      "No soup for https://bacdive.dsmz.de/strain/165987\n",
      "No soup for https://bacdive.dsmz.de/strain/165966\n",
      "No soup for https://bacdive.dsmz.de/strain/165976\n",
      "No soup for https://bacdive.dsmz.de/strain/165991\n",
      "No soup for https://bacdive.dsmz.de/strain/165983\n",
      "No soup for https://bacdive.dsmz.de/strain/165967\n",
      "No soup for https://bacdive.dsmz.de/strain/146011\n",
      "No soup for https://bacdive.dsmz.de/strain/165965\n",
      "No soup for https://bacdive.dsmz.de/strain/135334\n",
      "No soup for https://bacdive.dsmz.de/strain/165994\n",
      "No soup for https://bacdive.dsmz.de/strain/165936\n",
      "No soup for https://bacdive.dsmz.de/strain/166000\n",
      "No soup for https://bacdive.dsmz.de/strain/165986\n"
     ]
    },
    {
     "name": "stderr",
     "output_type": "stream",
     "text": [
      "DSMZ Catalogue link Progress:  82%|████████▏ | 30942/37746 [1:29:31<25:40,  4.42it/s]"
     ]
    },
    {
     "name": "stdout",
     "output_type": "stream",
     "text": [
      "No soup for https://bacdive.dsmz.de/strain/165977No soup for https://bacdive.dsmz.de/strain/165989\n",
      "\n",
      "No soup for https://bacdive.dsmz.de/strain/136605\n",
      "No soup for https://bacdive.dsmz.de/strain/165928\n",
      "No soup for https://bacdive.dsmz.de/strain/165978\n",
      "No soup for https://bacdive.dsmz.de/strain/166010\n",
      "No soup for https://bacdive.dsmz.de/strain/165997\n",
      "No soup for https://bacdive.dsmz.de/strain/138190\n",
      "No soup for https://bacdive.dsmz.de/strain/136606\n",
      "No soup for https://bacdive.dsmz.de/strain/165998\n",
      "No soup for https://bacdive.dsmz.de/strain/165995\n",
      "No soup for https://bacdive.dsmz.de/strain/136350\n",
      "No soup for https://bacdive.dsmz.de/strain/137420\n",
      "No soup for https://bacdive.dsmz.de/strain/146014\n",
      "No soup for https://bacdive.dsmz.de/strain/165990\n",
      "No soup for https://bacdive.dsmz.de/strain/165947\n",
      "No soup for https://bacdive.dsmz.de/strain/166025\n",
      "No soup for https://bacdive.dsmz.de/strain/138476\n",
      "No soup for https://bacdive.dsmz.de/strain/166011\n",
      "No soup for https://bacdive.dsmz.de/strain/166015\n",
      "No soup for https://bacdive.dsmz.de/strain/166018\n",
      "No soup for https://bacdive.dsmz.de/strain/165996\n",
      "No soup for https://bacdive.dsmz.de/strain/166024\n",
      "No soup for https://bacdive.dsmz.de/strain/165969\n",
      "No soup for https://bacdive.dsmz.de/strain/166016\n",
      "No soup for https://bacdive.dsmz.de/strain/166005\n",
      "No soup for https://bacdive.dsmz.de/strain/166026\n",
      "No soup for https://bacdive.dsmz.de/strain/166036\n"
     ]
    },
    {
     "name": "stderr",
     "output_type": "stream",
     "text": [
      "DSMZ Catalogue link Progress:  82%|████████▏ | 30989/37746 [1:29:33<26:29,  4.25it/s]"
     ]
    },
    {
     "name": "stdout",
     "output_type": "stream",
     "text": [
      "No soup for https://bacdive.dsmz.de/strain/166012\n",
      "No soup for https://bacdive.dsmz.de/strain/165999\n",
      "No soup for https://bacdive.dsmz.de/strain/166006\n",
      "No soup for https://bacdive.dsmz.de/strain/166031\n",
      "No soup for https://bacdive.dsmz.de/strain/146015\n",
      "No soup for https://bacdive.dsmz.de/strain/166019\n",
      "No soup for https://bacdive.dsmz.de/strain/166029\n",
      "No soup for https://bacdive.dsmz.de/strain/166037\n",
      "No soup for https://bacdive.dsmz.de/strain/166040\n",
      "No soup for https://bacdive.dsmz.de/strain/166014\n",
      "No soup for https://bacdive.dsmz.de/strain/166028\n",
      "No soup for https://bacdive.dsmz.de/strain/166049\n",
      "No soup for https://bacdive.dsmz.de/strain/166033\n",
      "No soup for https://bacdive.dsmz.de/strain/166022\n",
      "No soup for https://bacdive.dsmz.de/strain/166043\n",
      "No soup for https://bacdive.dsmz.de/strain/166042\n",
      "No soup for https://bacdive.dsmz.de/strain/166050\n",
      "No soup for https://bacdive.dsmz.de/strain/166021\n",
      "No soup for https://bacdive.dsmz.de/strain/166023\n",
      "No soup for https://bacdive.dsmz.de/strain/166027\n",
      "No soup for https://bacdive.dsmz.de/strain/166044\n",
      "No soup for https://bacdive.dsmz.de/strain/166002\n",
      "No soup for https://bacdive.dsmz.de/strain/166032\n",
      "No soup for https://bacdive.dsmz.de/strain/165993\n",
      "No soup for https://bacdive.dsmz.de/strain/166020\n",
      "No soup for https://bacdive.dsmz.de/strain/166063\n",
      "No soup for https://bacdive.dsmz.de/strain/166051\n",
      "No soup for https://bacdive.dsmz.de/strain/166048\n",
      "No soup for https://bacdive.dsmz.de/strain/166054\n",
      "No soup for https://bacdive.dsmz.de/strain/166046\n",
      "No soup for https://bacdive.dsmz.de/strain/166038\n",
      "No soup for https://bacdive.dsmz.de/strain/166003\n",
      "No soup for https://bacdive.dsmz.de/strain/166035\n",
      "No soup for https://bacdive.dsmz.de/strain/166039\n",
      "No soup for https://bacdive.dsmz.de/strain/166056\n",
      "No soup for https://bacdive.dsmz.de/strain/166034\n",
      "No soup for https://bacdive.dsmz.de/strain/166001\n",
      "No soup for https://bacdive.dsmz.de/strain/166047\n",
      "No soup for https://bacdive.dsmz.de/strain/166045\n",
      "No soup for https://bacdive.dsmz.de/strain/166007\n",
      "No soup for https://bacdive.dsmz.de/strain/166017\n",
      "No soup for https://bacdive.dsmz.de/strain/136894\n",
      "No soup for https://bacdive.dsmz.de/strain/166009\n",
      "No soup for https://bacdive.dsmz.de/strain/166004\n",
      "No soup for https://bacdive.dsmz.de/strain/166055\n",
      "No soup for https://bacdive.dsmz.de/strain/166052\n",
      "No soup for https://bacdive.dsmz.de/strain/166071\n",
      "No soup for https://bacdive.dsmz.de/strain/166008\n",
      "No soup for https://bacdive.dsmz.de/strain/166066\n",
      "No soup for https://bacdive.dsmz.de/strain/166077\n",
      "No soup for https://bacdive.dsmz.de/strain/166080\n",
      "No soup for https://bacdive.dsmz.de/strain/166013\n",
      "No soup for https://bacdive.dsmz.de/strain/166059\n",
      "No soup for https://bacdive.dsmz.de/strain/166065\n",
      "No soup for https://bacdive.dsmz.de/strain/165938\n",
      "No soup for https://bacdive.dsmz.de/strain/166058\n",
      "No soup for https://bacdive.dsmz.de/strain/166068\n",
      "No soup for https://bacdive.dsmz.de/strain/166078\n",
      "No soup for https://bacdive.dsmz.de/strain/166082\n"
     ]
    },
    {
     "name": "stderr",
     "output_type": "stream",
     "text": [
      "DSMZ Catalogue link Progress:  82%|████████▏ | 31034/37746 [1:29:34<29:09,  3.84it/s]"
     ]
    },
    {
     "name": "stdout",
     "output_type": "stream",
     "text": [
      "No soup for https://bacdive.dsmz.de/strain/166076No soup for https://bacdive.dsmz.de/strain/166081\n",
      "No soup for https://bacdive.dsmz.de/strain/166075\n",
      "No soup for https://bacdive.dsmz.de/strain/138210\n",
      "No soup for https://bacdive.dsmz.de/strain/166070\n",
      "No soup for https://bacdive.dsmz.de/strain/166067\n",
      "No soup for https://bacdive.dsmz.de/strain/166041\n",
      "\n",
      "No soup for https://bacdive.dsmz.de/strain/166085\n",
      "No soup for https://bacdive.dsmz.de/strain/166060\n",
      "No soup for https://bacdive.dsmz.de/strain/166072\n",
      "No soup for https://bacdive.dsmz.de/strain/166083\n",
      "No soup for https://bacdive.dsmz.de/strain/166061\n",
      "No soup for https://bacdive.dsmz.de/strain/166030\n",
      "No soup for https://bacdive.dsmz.de/strain/166062\n",
      "No soup for https://bacdive.dsmz.de/strain/166084\n",
      "No soup for https://bacdive.dsmz.de/strain/166074\n",
      "No soup for https://bacdive.dsmz.de/strain/166073\n",
      "No soup for https://bacdive.dsmz.de/strain/166057\n",
      "No soup for https://bacdive.dsmz.de/strain/137305\n",
      "No soup for https://bacdive.dsmz.de/strain/136829\n",
      "No soup for https://bacdive.dsmz.de/strain/166069\n",
      "No soup for https://bacdive.dsmz.de/strain/136825\n",
      "No soup for https://bacdive.dsmz.de/strain/166064\n",
      "No soup for https://bacdive.dsmz.de/strain/160837\n",
      "No soup for https://bacdive.dsmz.de/strain/137304\n",
      "No soup for https://bacdive.dsmz.de/strain/160836\n",
      "No soup for https://bacdive.dsmz.de/strain/137303\n",
      "No soup for https://bacdive.dsmz.de/strain/137273\n"
     ]
    },
    {
     "name": "stderr",
     "output_type": "stream",
     "text": [
      "DSMZ Catalogue link Progress:  82%|████████▏ | 31038/37746 [1:29:35<40:16,  2.78it/s]"
     ]
    },
    {
     "name": "stdout",
     "output_type": "stream",
     "text": [
      "No soup for https://bacdive.dsmz.de/strain/160838\n",
      "No soup for https://bacdive.dsmz.de/strain/160839\n",
      "No soup for https://bacdive.dsmz.de/strain/160841\n",
      "No soup for https://bacdive.dsmz.de/strain/160840\n",
      "No soup for https://bacdive.dsmz.de/strain/137302\n"
     ]
    },
    {
     "name": "stderr",
     "output_type": "stream",
     "text": [
      "DSMZ Catalogue link Progress:  82%|████████▏ | 31045/37746 [1:29:36<1:47:18,  1.04it/s]"
     ]
    },
    {
     "name": "stdout",
     "output_type": "stream",
     "text": [
      "No soup for https://bacdive.dsmz.de/strain/160850\n",
      "No soup for https://bacdive.dsmz.de/strain/160844\n",
      "No soup for https://bacdive.dsmz.de/strain/160847\n",
      "No soup for https://bacdive.dsmz.de/strain/160851\n",
      "No soup for https://bacdive.dsmz.de/strain/160845\n",
      "No soup for https://bacdive.dsmz.de/strain/160848\n",
      "No soup for https://bacdive.dsmz.de/strain/160852\n",
      "No soup for https://bacdive.dsmz.de/strain/128478\n",
      "No soup for https://bacdive.dsmz.de/strain/160854\n",
      "No soup for https://bacdive.dsmz.de/strain/160856\n",
      "No soup for https://bacdive.dsmz.de/strain/160857\n",
      "No soup for https://bacdive.dsmz.de/strain/160858\n"
     ]
    },
    {
     "name": "stderr",
     "output_type": "stream",
     "text": [
      "DSMZ Catalogue link Progress:  82%|████████▏ | 31061/37746 [1:29:38<1:44:07,  1.07it/s]"
     ]
    },
    {
     "name": "stdout",
     "output_type": "stream",
     "text": [
      "No soup for https://bacdive.dsmz.de/strain/160855\n",
      "No soup for https://bacdive.dsmz.de/strain/160842\n",
      "No soup for https://bacdive.dsmz.de/strain/160860\n",
      "No soup for https://bacdive.dsmz.de/strain/160861\n",
      "No soup for https://bacdive.dsmz.de/strain/160843\n",
      "No soup for https://bacdive.dsmz.de/strain/160863\n",
      "No soup for https://bacdive.dsmz.de/strain/160846\n",
      "No soup for https://bacdive.dsmz.de/strain/160859\n",
      "No soup for https://bacdive.dsmz.de/strain/160864\n",
      "No soup for https://bacdive.dsmz.de/strain/160867\n",
      "No soup for https://bacdive.dsmz.de/strain/160868\n",
      "No soup for https://bacdive.dsmz.de/strain/160866\n",
      "No soup for https://bacdive.dsmz.de/strain/160869\n"
     ]
    },
    {
     "name": "stderr",
     "output_type": "stream",
     "text": [
      "DSMZ Catalogue link Progress:  82%|████████▏ | 31066/37746 [1:29:39<2:51:42,  1.54s/it]"
     ]
    },
    {
     "name": "stdout",
     "output_type": "stream",
     "text": [
      "No soup for https://bacdive.dsmz.de/strain/160870\n",
      "No soup for https://bacdive.dsmz.de/strain/160871\n",
      "No soup for https://bacdive.dsmz.de/strain/160872\n",
      "No soup for https://bacdive.dsmz.de/strain/160873\n",
      "No soup for https://bacdive.dsmz.de/strain/160875\n"
     ]
    },
    {
     "name": "stderr",
     "output_type": "stream",
     "text": [
      "DSMZ Catalogue link Progress:  82%|████████▏ | 31069/37746 [1:29:41<3:25:25,  1.85s/it]"
     ]
    },
    {
     "name": "stdout",
     "output_type": "stream",
     "text": [
      "No soup for https://bacdive.dsmz.de/strain/138354\n",
      "No soup for https://bacdive.dsmz.de/strain/160880\n",
      "No soup for https://bacdive.dsmz.de/strain/160881\n",
      "No soup for https://bacdive.dsmz.de/strain/160884\n"
     ]
    },
    {
     "name": "stderr",
     "output_type": "stream",
     "text": [
      "DSMZ Catalogue link Progress:  82%|████████▏ | 31081/37746 [1:29:44<10:07:40,  5.47s/it]"
     ]
    },
    {
     "name": "stdout",
     "output_type": "stream",
     "text": [
      "No soup for https://bacdive.dsmz.de/strain/160876No soup for https://bacdive.dsmz.de/strain/160883\n",
      "\n",
      "No soup for https://bacdive.dsmz.de/strain/160877\n",
      "No soup for https://bacdive.dsmz.de/strain/160885\n",
      "No soup for https://bacdive.dsmz.de/strain/160887\n",
      "No soup for https://bacdive.dsmz.de/strain/160886\n",
      "No soup for https://bacdive.dsmz.de/strain/160889\n",
      "No soup for https://bacdive.dsmz.de/strain/160888\n"
     ]
    },
    {
     "name": "stderr",
     "output_type": "stream",
     "text": [
      "DSMZ Catalogue link Progress:  82%|████████▏ | 31084/37746 [1:29:47<14:37:25,  7.90s/it]"
     ]
    },
    {
     "name": "stdout",
     "output_type": "stream",
     "text": [
      "No soup for https://bacdive.dsmz.de/strain/160890\n",
      "No soup for https://bacdive.dsmz.de/strain/160892\n",
      "No soup for https://bacdive.dsmz.de/strain/160891\n",
      "No soup for https://bacdive.dsmz.de/strain/139656\n"
     ]
    },
    {
     "name": "stderr",
     "output_type": "stream",
     "text": [
      "DSMZ Catalogue link Progress:  82%|████████▏ | 31090/37746 [1:29:52<22:24:25, 12.12s/it]"
     ]
    },
    {
     "name": "stdout",
     "output_type": "stream",
     "text": [
      "No soup for https://bacdive.dsmz.de/strain/160893\n",
      "No soup for https://bacdive.dsmz.de/strain/160896\n",
      "No soup for https://bacdive.dsmz.de/strain/160900\n",
      "No soup for https://bacdive.dsmz.de/strain/160904\n",
      "No soup for https://bacdive.dsmz.de/strain/160901\n",
      "No soup for https://bacdive.dsmz.de/strain/160909\n",
      "No soup for https://bacdive.dsmz.de/strain/135926\n"
     ]
    },
    {
     "name": "stderr",
     "output_type": "stream",
     "text": [
      "DSMZ Catalogue link Progress:  82%|████████▏ | 31096/37746 [1:29:54<21:08:28, 11.44s/it]"
     ]
    },
    {
     "name": "stdout",
     "output_type": "stream",
     "text": [
      "No soup for https://bacdive.dsmz.de/strain/160911\n",
      "No soup for https://bacdive.dsmz.de/strain/160910\n",
      "No soup for https://bacdive.dsmz.de/strain/160912\n",
      "No soup for https://bacdive.dsmz.de/strain/160913\n"
     ]
    },
    {
     "name": "stderr",
     "output_type": "stream",
     "text": [
      "DSMZ Catalogue link Progress:  82%|████████▏ | 31101/37746 [1:29:57<16:45:37,  9.08s/it]"
     ]
    },
    {
     "name": "stdout",
     "output_type": "stream",
     "text": [
      "No soup for https://bacdive.dsmz.de/strain/160916\n",
      "No soup for https://bacdive.dsmz.de/strain/160917\n",
      "No soup for https://bacdive.dsmz.de/strain/160914\n",
      "No soup for https://bacdive.dsmz.de/strain/160918\n",
      "No soup for https://bacdive.dsmz.de/strain/160919\n"
     ]
    },
    {
     "name": "stderr",
     "output_type": "stream",
     "text": [
      "DSMZ Catalogue link Progress:  82%|████████▏ | 31105/37746 [1:29:59<23:52:56, 12.95s/it]"
     ]
    },
    {
     "name": "stdout",
     "output_type": "stream",
     "text": [
      "No soup for https://bacdive.dsmz.de/strain/165981No soup for https://bacdive.dsmz.de/strain/160921\n",
      "\n",
      "No soup for https://bacdive.dsmz.de/strain/160920\n",
      "No soup for https://bacdive.dsmz.de/strain/160922\n",
      "No soup for https://bacdive.dsmz.de/strain/166079\n"
     ]
    },
    {
     "name": "stderr",
     "output_type": "stream",
     "text": [
      "DSMZ Catalogue link Progress:  82%|████████▏ | 31111/37746 [1:30:02<33:54:55, 18.40s/it]"
     ]
    },
    {
     "name": "stdout",
     "output_type": "stream",
     "text": [
      "No soup for https://bacdive.dsmz.de/strain/166053\n",
      "No soup for https://bacdive.dsmz.de/strain/160923\n",
      "No soup for https://bacdive.dsmz.de/strain/160924\n",
      "No soup for https://bacdive.dsmz.de/strain/160833\n",
      "No soup for https://bacdive.dsmz.de/strain/160928\n"
     ]
    },
    {
     "name": "stderr",
     "output_type": "stream",
     "text": [
      "DSMZ Catalogue link Progress:  82%|████████▏ | 31118/37746 [1:30:03<36:54:41, 20.05s/it]"
     ]
    },
    {
     "name": "stdout",
     "output_type": "stream",
     "text": [
      "No soup for https://bacdive.dsmz.de/strain/160926\n",
      "No soup for https://bacdive.dsmz.de/strain/160834\n",
      "No soup for https://bacdive.dsmz.de/strain/160927\n",
      "No soup for https://bacdive.dsmz.de/strain/160930\n",
      "No soup for https://bacdive.dsmz.de/strain/160931\n",
      "No soup for https://bacdive.dsmz.de/strain/160929\n",
      "No soup for https://bacdive.dsmz.de/strain/160932\n"
     ]
    },
    {
     "name": "stderr",
     "output_type": "stream",
     "text": [
      "DSMZ Catalogue link Progress:  82%|████████▏ | 31119/37746 [1:30:05<41:22:07, 22.47s/it]"
     ]
    },
    {
     "name": "stdout",
     "output_type": "stream",
     "text": [
      "No soup for https://bacdive.dsmz.de/strain/160935\n"
     ]
    },
    {
     "name": "stderr",
     "output_type": "stream",
     "text": [
      "DSMZ Catalogue link Progress:  82%|████████▏ | 31127/37746 [1:30:08<30:47:07, 16.74s/it]"
     ]
    },
    {
     "name": "stdout",
     "output_type": "stream",
     "text": [
      "No soup for https://bacdive.dsmz.de/strain/160945\n",
      "No soup for https://bacdive.dsmz.de/strain/160947\n",
      "No soup for https://bacdive.dsmz.de/strain/109271\n",
      "No soup for https://bacdive.dsmz.de/strain/160949\n",
      "No soup for https://bacdive.dsmz.de/strain/160948\n",
      "No soup for https://bacdive.dsmz.de/strain/109270\n",
      "No soup for https://bacdive.dsmz.de/strain/160946\n",
      "No soup for https://bacdive.dsmz.de/strain/160952\n",
      "No soup for https://bacdive.dsmz.de/strain/160953\n",
      "No soup for https://bacdive.dsmz.de/strain/160951\n"
     ]
    },
    {
     "name": "stderr",
     "output_type": "stream",
     "text": [
      "DSMZ Catalogue link Progress:  82%|████████▏ | 31134/37746 [1:30:13<37:03:29, 20.18s/it]"
     ]
    },
    {
     "name": "stdout",
     "output_type": "stream",
     "text": [
      "No soup for https://bacdive.dsmz.de/strain/160957\n",
      "No soup for https://bacdive.dsmz.de/strain/160954\n",
      "No soup for https://bacdive.dsmz.de/strain/160958\n",
      "No soup for https://bacdive.dsmz.de/strain/160965\n",
      "No soup for https://bacdive.dsmz.de/strain/160963\n",
      "No soup for https://bacdive.dsmz.de/strain/160966\n",
      "No soup for https://bacdive.dsmz.de/strain/160969\n"
     ]
    },
    {
     "name": "stderr",
     "output_type": "stream",
     "text": [
      "DSMZ Catalogue link Progress:  83%|████████▎ | 31144/37746 [1:30:19<38:47:27, 21.15s/it]"
     ]
    },
    {
     "name": "stdout",
     "output_type": "stream",
     "text": [
      "No soup for https://bacdive.dsmz.de/strain/160968\n",
      "No soup for https://bacdive.dsmz.de/strain/160970\n",
      "No soup for https://bacdive.dsmz.de/strain/160971\n",
      "No soup for https://bacdive.dsmz.de/strain/160972\n",
      "No soup for https://bacdive.dsmz.de/strain/160973\n",
      "No soup for https://bacdive.dsmz.de/strain/160895\n",
      "No soup for https://bacdive.dsmz.de/strain/160974\n",
      "No soup for https://bacdive.dsmz.de/strain/160975\n",
      "No soup for https://bacdive.dsmz.de/strain/160976\n",
      "No soup for https://bacdive.dsmz.de/strain/160978\n"
     ]
    },
    {
     "name": "stderr",
     "output_type": "stream",
     "text": [
      "DSMZ Catalogue link Progress:  83%|████████▎ | 31148/37746 [1:30:21<40:46:33, 22.25s/it]"
     ]
    },
    {
     "name": "stdout",
     "output_type": "stream",
     "text": [
      "No soup for https://bacdive.dsmz.de/strain/160979\n",
      "No soup for https://bacdive.dsmz.de/strain/160977\n",
      "No soup for https://bacdive.dsmz.de/strain/160980\n",
      "No soup for https://bacdive.dsmz.de/strain/160982\n",
      "No soup for https://bacdive.dsmz.de/strain/160984\n"
     ]
    },
    {
     "name": "stderr",
     "output_type": "stream",
     "text": [
      "DSMZ Catalogue link Progress:  83%|████████▎ | 31154/37746 [1:30:23<37:26:14, 20.45s/it]"
     ]
    },
    {
     "name": "stdout",
     "output_type": "stream",
     "text": [
      "No soup for https://bacdive.dsmz.de/strain/160985\n",
      "No soup for https://bacdive.dsmz.de/strain/160983\n",
      "No soup for https://bacdive.dsmz.de/strain/160986\n",
      "No soup for https://bacdive.dsmz.de/strain/160987\n",
      "No soup for https://bacdive.dsmz.de/strain/160990\n",
      "No soup for https://bacdive.dsmz.de/strain/160988\n"
     ]
    },
    {
     "name": "stderr",
     "output_type": "stream",
     "text": [
      "DSMZ Catalogue link Progress:  83%|████████▎ | 31161/37746 [1:30:26<31:14:47, 17.08s/it]"
     ]
    },
    {
     "name": "stdout",
     "output_type": "stream",
     "text": [
      "No soup for https://bacdive.dsmz.de/strain/160992No soup for https://bacdive.dsmz.de/strain/160991\n",
      "\n",
      "No soup for https://bacdive.dsmz.de/strain/138394\n",
      "No soup for https://bacdive.dsmz.de/strain/160993\n",
      "No soup for https://bacdive.dsmz.de/strain/138793\n",
      "No soup for https://bacdive.dsmz.de/strain/160995\n",
      "No soup for https://bacdive.dsmz.de/strain/160996\n",
      "No soup for https://bacdive.dsmz.de/strain/160994\n"
     ]
    },
    {
     "name": "stderr",
     "output_type": "stream",
     "text": [
      "DSMZ Catalogue link Progress:  83%|████████▎ | 31170/37746 [1:30:32<44:03:21, 24.12s/it]"
     ]
    },
    {
     "name": "stdout",
     "output_type": "stream",
     "text": [
      "No soup for https://bacdive.dsmz.de/strain/160997\n",
      "No soup for https://bacdive.dsmz.de/strain/160998\n",
      "No soup for https://bacdive.dsmz.de/strain/160999\n",
      "No soup for https://bacdive.dsmz.de/strain/161000\n",
      "No soup for https://bacdive.dsmz.de/strain/161001\n",
      "No soup for https://bacdive.dsmz.de/strain/161002\n"
     ]
    },
    {
     "name": "stderr",
     "output_type": "stream",
     "text": [
      "DSMZ Catalogue link Progress:  83%|████████▎ | 31176/37746 [1:30:35<60:15:28, 33.02s/it]"
     ]
    },
    {
     "name": "stdout",
     "output_type": "stream",
     "text": [
      "No soup for https://bacdive.dsmz.de/strain/161003\n",
      "No soup for https://bacdive.dsmz.de/strain/161006\n",
      "No soup for https://bacdive.dsmz.de/strain/161005\n",
      "No soup for https://bacdive.dsmz.de/strain/161007\n",
      "No soup for https://bacdive.dsmz.de/strain/161009\n",
      "No soup for https://bacdive.dsmz.de/strain/161010\n"
     ]
    },
    {
     "name": "stderr",
     "output_type": "stream",
     "text": [
      "DSMZ Catalogue link Progress:  83%|████████▎ | 31181/37746 [1:30:41<93:45:30, 51.41s/it]"
     ]
    },
    {
     "name": "stdout",
     "output_type": "stream",
     "text": [
      "No soup for https://bacdive.dsmz.de/strain/161011\n",
      "No soup for https://bacdive.dsmz.de/strain/161012\n",
      "No soup for https://bacdive.dsmz.de/strain/161013\n",
      "No soup for https://bacdive.dsmz.de/strain/161014\n",
      "No soup for https://bacdive.dsmz.de/strain/161018\n"
     ]
    },
    {
     "name": "stderr",
     "output_type": "stream",
     "text": [
      "DSMZ Catalogue link Progress:  83%|████████▎ | 31185/37746 [1:30:44<88:17:18, 48.44s/it] "
     ]
    },
    {
     "name": "stdout",
     "output_type": "stream",
     "text": [
      "Error fetching link https://www.dsmz.de/collection/catalogue/details/culture/DSM-43930: ('Connection aborted.', RemoteDisconnected('Remote end closed connection without response')). Retrying 1/5...\n",
      "No soup for https://bacdive.dsmz.de/strain/161021\n",
      "No soup for https://bacdive.dsmz.de/strain/161022\n",
      "No soup for https://bacdive.dsmz.de/strain/161023\n"
     ]
    },
    {
     "name": "stderr",
     "output_type": "stream",
     "text": [
      "DSMZ Catalogue link Progress:  83%|████████▎ | 31195/37746 [1:30:47<48:03:23, 26.41s/it]"
     ]
    },
    {
     "name": "stdout",
     "output_type": "stream",
     "text": [
      "No soup for https://bacdive.dsmz.de/strain/160934No soup for https://bacdive.dsmz.de/strain/160933\n",
      "\n",
      "No soup for https://bacdive.dsmz.de/strain/138523\n",
      "No soup for https://bacdive.dsmz.de/strain/161024\n",
      "No soup for https://bacdive.dsmz.de/strain/160937\n",
      "No soup for https://bacdive.dsmz.de/strain/161025\n",
      "No soup for https://bacdive.dsmz.de/strain/161026\n",
      "No soup for https://www.dsmz.de/collection/catalogue/details/culture/DSM-43930\n",
      "No soup for https://bacdive.dsmz.de/strain/160936\n",
      "No soup for https://bacdive.dsmz.de/strain/160941\n",
      "No soup for https://bacdive.dsmz.de/strain/161027\n",
      "No soup for https://bacdive.dsmz.de/strain/161028\n"
     ]
    },
    {
     "name": "stderr",
     "output_type": "stream",
     "text": [
      "DSMZ Catalogue link Progress:  83%|████████▎ | 31201/37746 [1:30:48<24:56:20, 13.72s/it]"
     ]
    },
    {
     "name": "stdout",
     "output_type": "stream",
     "text": [
      "No soup for https://bacdive.dsmz.de/strain/160939No soup for https://bacdive.dsmz.de/strain/160938\n",
      "\n",
      "No soup for https://bacdive.dsmz.de/strain/160940\n",
      "No soup for https://bacdive.dsmz.de/strain/161029\n"
     ]
    },
    {
     "name": "stderr",
     "output_type": "stream",
     "text": [
      "DSMZ Catalogue link Progress:  83%|████████▎ | 31204/37746 [1:30:50<49:11:44, 27.07s/it]"
     ]
    },
    {
     "name": "stdout",
     "output_type": "stream",
     "text": [
      "No soup for https://bacdive.dsmz.de/strain/161030\n",
      "No soup for https://bacdive.dsmz.de/strain/160942\n",
      "No soup for https://bacdive.dsmz.de/strain/161031\n"
     ]
    },
    {
     "name": "stderr",
     "output_type": "stream",
     "text": [
      "DSMZ Catalogue link Progress:  83%|████████▎ | 31206/37746 [1:30:50<70:31:07, 38.82s/it]"
     ]
    },
    {
     "name": "stdout",
     "output_type": "stream",
     "text": [
      "No soup for https://bacdive.dsmz.de/strain/160962\n",
      "No soup for https://bacdive.dsmz.de/strain/161032\n"
     ]
    },
    {
     "name": "stderr",
     "output_type": "stream",
     "text": [
      "DSMZ Catalogue link Progress:  83%|████████▎ | 31207/37746 [1:30:51<80:28:46, 44.31s/it]"
     ]
    },
    {
     "name": "stdout",
     "output_type": "stream",
     "text": [
      "No soup for https://bacdive.dsmz.de/strain/161033\n"
     ]
    },
    {
     "name": "stderr",
     "output_type": "stream",
     "text": [
      "DSMZ Catalogue link Progress:  83%|████████▎ | 31211/37746 [1:30:51<69:29:48, 38.28s/it]"
     ]
    },
    {
     "name": "stdout",
     "output_type": "stream",
     "text": [
      "No soup for https://bacdive.dsmz.de/strain/161035\n",
      "No soup for https://bacdive.dsmz.de/strain/161034\n",
      "No soup for https://bacdive.dsmz.de/strain/161036\n",
      "No soup for https://bacdive.dsmz.de/strain/161037\n"
     ]
    },
    {
     "name": "stderr",
     "output_type": "stream",
     "text": [
      "DSMZ Catalogue link Progress:  83%|████████▎ | 31216/37746 [1:30:51<70:49:57, 39.05s/it]"
     ]
    },
    {
     "name": "stdout",
     "output_type": "stream",
     "text": [
      "No soup for https://bacdive.dsmz.de/strain/161038\n",
      "No soup for https://bacdive.dsmz.de/strain/161040\n",
      "No soup for https://bacdive.dsmz.de/strain/161039\n",
      "No soup for https://bacdive.dsmz.de/strain/161041\n",
      "No soup for https://bacdive.dsmz.de/strain/160989\n"
     ]
    },
    {
     "name": "stderr",
     "output_type": "stream",
     "text": [
      "DSMZ Catalogue link Progress:  83%|████████▎ | 31219/37746 [1:30:53<35:44:07, 19.71s/it]"
     ]
    },
    {
     "name": "stdout",
     "output_type": "stream",
     "text": [
      "No soup for https://bacdive.dsmz.de/strain/161042\n",
      "No soup for https://bacdive.dsmz.de/strain/161043\n",
      "No soup for https://bacdive.dsmz.de/strain/161048\n",
      "No soup for https://bacdive.dsmz.de/strain/161049\n",
      "No soup for https://bacdive.dsmz.de/strain/161051\n"
     ]
    },
    {
     "name": "stderr",
     "output_type": "stream",
     "text": [
      "DSMZ Catalogue link Progress:  83%|████████▎ | 31241/37746 [1:30:54<14:21,  7.55it/s]   "
     ]
    },
    {
     "name": "stdout",
     "output_type": "stream",
     "text": [
      "No soup for https://bacdive.dsmz.de/strain/161045No soup for https://bacdive.dsmz.de/strain/161093\n",
      "No soup for https://bacdive.dsmz.de/strain/161044\n",
      "No soup for https://bacdive.dsmz.de/strain/161105\n",
      "No soup for https://bacdive.dsmz.de/strain/161047\n",
      "\n",
      "No soup for https://bacdive.dsmz.de/strain/161046\n",
      "No soup for https://bacdive.dsmz.de/strain/161104\n",
      "No soup for https://bacdive.dsmz.de/strain/161098\n",
      "No soup for https://bacdive.dsmz.de/strain/161137\n",
      "No soup for https://bacdive.dsmz.de/strain/161050\n",
      "No soup for https://bacdive.dsmz.de/strain/161075\n",
      "No soup for https://bacdive.dsmz.de/strain/161086\n",
      "No soup for https://bacdive.dsmz.de/strain/161109\n",
      "No soup for https://bacdive.dsmz.de/strain/161052\n",
      "No soup for https://bacdive.dsmz.de/strain/161106\n",
      "No soup for https://bacdive.dsmz.de/strain/161083\n",
      "No soup for https://bacdive.dsmz.de/strain/138395\n",
      "No soup for https://bacdive.dsmz.de/strain/136903\n",
      "No soup for https://bacdive.dsmz.de/strain/161102\n",
      "No soup for https://bacdive.dsmz.de/strain/161100\n",
      "No soup for https://bacdive.dsmz.de/strain/137985\n",
      "No soup for https://bacdive.dsmz.de/strain/161130\n",
      "No soup for https://bacdive.dsmz.de/strain/161082\n",
      "No soup for https://bacdive.dsmz.de/strain/161145\n",
      "No soup for https://bacdive.dsmz.de/strain/135443\n"
     ]
    },
    {
     "name": "stderr",
     "output_type": "stream",
     "text": [
      "DSMZ Catalogue link Progress:  83%|████████▎ | 31254/37746 [1:30:54<03:09, 34.33it/s]"
     ]
    },
    {
     "name": "stdout",
     "output_type": "stream",
     "text": [
      "No soup for https://bacdive.dsmz.de/strain/161089\n",
      "No soup for https://bacdive.dsmz.de/strain/161117\n",
      "No soup for https://bacdive.dsmz.de/strain/135033\n",
      "No soup for https://bacdive.dsmz.de/strain/161110\n",
      "No soup for https://bacdive.dsmz.de/strain/161152\n",
      "No soup for https://bacdive.dsmz.de/strain/137805\n",
      "No soup for https://bacdive.dsmz.de/strain/137989\n",
      "No soup for https://bacdive.dsmz.de/strain/135383\n",
      "No soup for https://bacdive.dsmz.de/strain/161135\n",
      "No soup for https://bacdive.dsmz.de/strain/161148\n",
      "No soup for https://bacdive.dsmz.de/strain/161071\n",
      "No soup for https://bacdive.dsmz.de/strain/161064\n"
     ]
    },
    {
     "name": "stderr",
     "output_type": "stream",
     "text": [
      "DSMZ Catalogue link Progress:  83%|████████▎ | 31259/37746 [1:30:55<03:08, 34.33it/s]"
     ]
    },
    {
     "name": "stdout",
     "output_type": "stream",
     "text": [
      "No soup for https://bacdive.dsmz.de/strain/137125\n",
      "No soup for https://bacdive.dsmz.de/strain/161087\n",
      "No soup for https://bacdive.dsmz.de/strain/161107\n",
      "No soup for https://bacdive.dsmz.de/strain/136381\n",
      "No soup for https://bacdive.dsmz.de/strain/161097\n",
      "No soup for https://bacdive.dsmz.de/strain/138873\n",
      "No soup for https://bacdive.dsmz.de/strain/138944\n",
      "No soup for https://bacdive.dsmz.de/strain/134478\n"
     ]
    },
    {
     "name": "stderr",
     "output_type": "stream",
     "text": [
      "DSMZ Catalogue link Progress:  83%|████████▎ | 31272/37746 [1:30:55<05:00, 21.51it/s]"
     ]
    },
    {
     "name": "stdout",
     "output_type": "stream",
     "text": [
      "No soup for https://bacdive.dsmz.de/strain/161076\n",
      "No soup for https://bacdive.dsmz.de/strain/161084\n",
      "No soup for https://bacdive.dsmz.de/strain/161133\n",
      "No soup for https://bacdive.dsmz.de/strain/161053\n",
      "No soup for https://bacdive.dsmz.de/strain/161114\n",
      "No soup for https://bacdive.dsmz.de/strain/161085\n"
     ]
    },
    {
     "name": "stderr",
     "output_type": "stream",
     "text": [
      "DSMZ Catalogue link Progress:  83%|████████▎ | 31284/37746 [1:30:55<02:50, 37.82it/s]"
     ]
    },
    {
     "name": "stdout",
     "output_type": "stream",
     "text": [
      "No soup for https://bacdive.dsmz.de/strain/161069\n",
      "No soup for https://bacdive.dsmz.de/strain/161141\n",
      "No soup for https://bacdive.dsmz.de/strain/161060\n",
      "No soup for https://bacdive.dsmz.de/strain/157138\n",
      "No soup for https://bacdive.dsmz.de/strain/161150\n",
      "No soup for https://bacdive.dsmz.de/strain/161132\n",
      "No soup for https://bacdive.dsmz.de/strain/161143\n",
      "No soup for https://bacdive.dsmz.de/strain/161061\n",
      "No soup for https://bacdive.dsmz.de/strain/161118\n",
      "No soup for https://bacdive.dsmz.de/strain/133983\n",
      "No soup for https://bacdive.dsmz.de/strain/161066\n",
      "No soup for https://bacdive.dsmz.de/strain/161142\n"
     ]
    },
    {
     "name": "stderr",
     "output_type": "stream",
     "text": [
      "DSMZ Catalogue link Progress:  83%|████████▎ | 31293/37746 [1:30:55<02:53, 37.24it/s]"
     ]
    },
    {
     "name": "stdout",
     "output_type": "stream",
     "text": [
      "No soup for https://bacdive.dsmz.de/strain/161125\n",
      "No soup for https://bacdive.dsmz.de/strain/161062\n",
      "No soup for https://bacdive.dsmz.de/strain/161108\n",
      "No soup for https://bacdive.dsmz.de/strain/161077\n",
      "No soup for https://bacdive.dsmz.de/strain/161151\n",
      "No soup for https://bacdive.dsmz.de/strain/161068\n",
      "No soup for https://bacdive.dsmz.de/strain/134607\n",
      "No soup for https://bacdive.dsmz.de/strain/161144\n",
      "No soup for https://bacdive.dsmz.de/strain/161124\n",
      "No soup for https://bacdive.dsmz.de/strain/161136\n"
     ]
    },
    {
     "name": "stderr",
     "output_type": "stream",
     "text": [
      "DSMZ Catalogue link Progress:  83%|████████▎ | 31297/37746 [1:30:56<06:48, 15.80it/s]"
     ]
    },
    {
     "name": "stdout",
     "output_type": "stream",
     "text": [
      "No soup for https://bacdive.dsmz.de/strain/161155\n",
      "No soup for https://bacdive.dsmz.de/strain/161120\n",
      "No soup for https://bacdive.dsmz.de/strain/161121\n",
      "No soup for https://bacdive.dsmz.de/strain/161134\n",
      "No soup for https://bacdive.dsmz.de/strain/161111\n",
      "No soup for https://bacdive.dsmz.de/strain/161067\n",
      "No soup for https://bacdive.dsmz.de/strain/161081\n"
     ]
    },
    {
     "name": "stderr",
     "output_type": "stream",
     "text": [
      "DSMZ Catalogue link Progress:  83%|████████▎ | 31343/37746 [1:30:57<05:55, 17.99it/s]"
     ]
    },
    {
     "name": "stdout",
     "output_type": "stream",
     "text": [
      "No soup for https://bacdive.dsmz.de/strain/161115No soup for https://bacdive.dsmz.de/strain/161094\n",
      "No soup for https://bacdive.dsmz.de/strain/161112\n",
      "No soup for https://bacdive.dsmz.de/strain/161103\n",
      "\n",
      "No soup for https://bacdive.dsmz.de/strain/161091\n",
      "No soup for https://bacdive.dsmz.de/strain/161127\n",
      "No soup for https://bacdive.dsmz.de/strain/161054\n",
      "No soup for https://bacdive.dsmz.de/strain/161140\n",
      "No soup for https://bacdive.dsmz.de/strain/161079\n",
      "No soup for https://bacdive.dsmz.de/strain/161057\n",
      "No soup for https://bacdive.dsmz.de/strain/161073\n",
      "No soup for https://bacdive.dsmz.de/strain/161149\n",
      "No soup for https://bacdive.dsmz.de/strain/161059\n",
      "No soup for https://bacdive.dsmz.de/strain/161055\n",
      "No soup for https://bacdive.dsmz.de/strain/161119\n",
      "No soup for https://bacdive.dsmz.de/strain/161123\n",
      "No soup for https://bacdive.dsmz.de/strain/161065\n",
      "No soup for https://bacdive.dsmz.de/strain/161154\n",
      "No soup for https://bacdive.dsmz.de/strain/161116\n",
      "No soup for https://bacdive.dsmz.de/strain/161101\n",
      "No soup for https://bacdive.dsmz.de/strain/161147\n",
      "No soup for https://bacdive.dsmz.de/strain/161070\n",
      "No soup for https://bacdive.dsmz.de/strain/161138\n",
      "No soup for https://bacdive.dsmz.de/strain/161153\n",
      "No soup for https://bacdive.dsmz.de/strain/161063\n",
      "No soup for https://bacdive.dsmz.de/strain/161088\n",
      "No soup for https://bacdive.dsmz.de/strain/135423\n",
      "No soup for https://bacdive.dsmz.de/strain/161095\n",
      "No soup for https://bacdive.dsmz.de/strain/134503\n",
      "No soup for https://bacdive.dsmz.de/strain/161146\n",
      "No soup for https://bacdive.dsmz.de/strain/143693\n",
      "No soup for https://bacdive.dsmz.de/strain/161058\n",
      "No soup for https://bacdive.dsmz.de/strain/161096\n",
      "No soup for https://bacdive.dsmz.de/strain/161113\n",
      "No soup for https://bacdive.dsmz.de/strain/161072\n",
      "No soup for https://bacdive.dsmz.de/strain/134377\n",
      "No soup for https://bacdive.dsmz.de/strain/161099\n",
      "No soup for https://bacdive.dsmz.de/strain/161166\n",
      "No soup for https://bacdive.dsmz.de/strain/135088\n",
      "No soup for https://bacdive.dsmz.de/strain/139094\n",
      "No soup for https://bacdive.dsmz.de/strain/161139\n",
      "No soup for https://bacdive.dsmz.de/strain/161090\n"
     ]
    },
    {
     "name": "stderr",
     "output_type": "stream",
     "text": [
      "DSMZ Catalogue link Progress:  83%|████████▎ | 31347/37746 [1:30:57<05:55, 17.99it/s]"
     ]
    },
    {
     "name": "stdout",
     "output_type": "stream",
     "text": [
      "No soup for https://bacdive.dsmz.de/strain/161157\n",
      "No soup for https://bacdive.dsmz.de/strain/136627\n",
      "No soup for https://bacdive.dsmz.de/strain/161092\n",
      "No soup for https://bacdive.dsmz.de/strain/161169\n"
     ]
    },
    {
     "name": "stderr",
     "output_type": "stream",
     "text": [
      "DSMZ Catalogue link Progress:  83%|████████▎ | 31349/37746 [1:30:57<06:26, 16.55it/s]"
     ]
    },
    {
     "name": "stdout",
     "output_type": "stream",
     "text": [
      "No soup for https://bacdive.dsmz.de/strain/161168\n",
      "No soup for https://bacdive.dsmz.de/strain/161156\n",
      "No soup for https://bacdive.dsmz.de/strain/161056\n",
      "No soup for https://bacdive.dsmz.de/strain/161175\n",
      "No soup for https://bacdive.dsmz.de/strain/161160\n",
      "No soup for https://bacdive.dsmz.de/strain/161131\n"
     ]
    },
    {
     "name": "stderr",
     "output_type": "stream",
     "text": [
      "DSMZ Catalogue link Progress:  83%|████████▎ | 31357/37746 [1:30:58<06:07, 17.38it/s]"
     ]
    },
    {
     "name": "stdout",
     "output_type": "stream",
     "text": [
      "No soup for https://bacdive.dsmz.de/strain/161162\n",
      "No soup for https://bacdive.dsmz.de/strain/161161\n",
      "No soup for https://bacdive.dsmz.de/strain/134520\n",
      "No soup for https://bacdive.dsmz.de/strain/161158\n",
      "No soup for https://bacdive.dsmz.de/strain/161165\n"
     ]
    },
    {
     "name": "stderr",
     "output_type": "stream",
     "text": [
      "DSMZ Catalogue link Progress:  83%|████████▎ | 31364/37746 [1:30:58<04:59, 21.31it/s]"
     ]
    },
    {
     "name": "stdout",
     "output_type": "stream",
     "text": [
      "No soup for https://bacdive.dsmz.de/strain/161181\n",
      "No soup for https://bacdive.dsmz.de/strain/161163\n",
      "No soup for https://bacdive.dsmz.de/strain/161170\n",
      "No soup for https://bacdive.dsmz.de/strain/161173\n",
      "No soup for https://bacdive.dsmz.de/strain/134653\n",
      "No soup for https://bacdive.dsmz.de/strain/138535\n",
      "No soup for https://bacdive.dsmz.de/strain/161178\n",
      "No soup for https://bacdive.dsmz.de/strain/161185\n",
      "No soup for https://bacdive.dsmz.de/strain/161176\n",
      "No soup for https://bacdive.dsmz.de/strain/161171\n"
     ]
    },
    {
     "name": "stderr",
     "output_type": "stream",
     "text": [
      "DSMZ Catalogue link Progress:  83%|████████▎ | 31380/37746 [1:30:59<12:55,  8.21it/s]"
     ]
    },
    {
     "name": "stdout",
     "output_type": "stream",
     "text": [
      "No soup for https://bacdive.dsmz.de/strain/161189\n",
      "No soup for https://bacdive.dsmz.de/strain/138540\n",
      "No soup for https://bacdive.dsmz.de/strain/161202\n",
      "No soup for https://bacdive.dsmz.de/strain/135090\n",
      "No soup for https://bacdive.dsmz.de/strain/161179\n",
      "No soup for https://bacdive.dsmz.de/strain/161183\n",
      "No soup for https://bacdive.dsmz.de/strain/161193\n",
      "No soup for https://bacdive.dsmz.de/strain/161172\n",
      "No soup for https://bacdive.dsmz.de/strain/161182\n",
      "No soup for https://bacdive.dsmz.de/strain/161180\n",
      "No soup for https://bacdive.dsmz.de/strain/161218\n",
      "No soup for https://bacdive.dsmz.de/strain/134096\n",
      "No soup for https://bacdive.dsmz.de/strain/161206\n",
      "No soup for https://bacdive.dsmz.de/strain/161200\n",
      "No soup for https://bacdive.dsmz.de/strain/138538\n",
      "No soup for https://bacdive.dsmz.de/strain/135094\n",
      "No soup for https://bacdive.dsmz.de/strain/133697\n"
     ]
    },
    {
     "name": "stderr",
     "output_type": "stream",
     "text": [
      "DSMZ Catalogue link Progress:  83%|████████▎ | 31486/37746 [1:31:01<05:46, 18.08it/s]"
     ]
    },
    {
     "name": "stdout",
     "output_type": "stream",
     "text": [
      "No soup for https://bacdive.dsmz.de/strain/138451No soup for https://bacdive.dsmz.de/strain/161205\n",
      "No soup for https://bacdive.dsmz.de/strain/133699\n",
      "No soup for https://bacdive.dsmz.de/strain/161198\n",
      "No soup for https://bacdive.dsmz.de/strain/135017\n",
      "No soup for https://bacdive.dsmz.de/strain/161195\n",
      "\n",
      "No soup for https://bacdive.dsmz.de/strain/161177\n",
      "No soup for https://bacdive.dsmz.de/strain/161191\n",
      "No soup for https://bacdive.dsmz.de/strain/138537\n",
      "No soup for https://bacdive.dsmz.de/strain/138539\n",
      "No soup for https://bacdive.dsmz.de/strain/161216\n",
      "No soup for https://bacdive.dsmz.de/strain/161186\n",
      "No soup for https://bacdive.dsmz.de/strain/161210\n",
      "No soup for https://bacdive.dsmz.de/strain/161196\n",
      "No soup for https://bacdive.dsmz.de/strain/137570\n",
      "No soup for https://bacdive.dsmz.de/strain/135091\n",
      "No soup for https://bacdive.dsmz.de/strain/161211\n",
      "No soup for https://bacdive.dsmz.de/strain/161223\n",
      "No soup for https://bacdive.dsmz.de/strain/161220\n",
      "No soup for https://bacdive.dsmz.de/strain/161204\n",
      "No soup for https://bacdive.dsmz.de/strain/161207\n",
      "No soup for https://bacdive.dsmz.de/strain/161201\n",
      "No soup for https://bacdive.dsmz.de/strain/161227\n",
      "No soup for https://bacdive.dsmz.de/strain/161167\n",
      "No soup for https://bacdive.dsmz.de/strain/134519\n",
      "No soup for https://bacdive.dsmz.de/strain/135934\n",
      "No soup for https://bacdive.dsmz.de/strain/161190\n",
      "No soup for https://bacdive.dsmz.de/strain/134244\n",
      "No soup for https://bacdive.dsmz.de/strain/161226\n",
      "No soup for https://bacdive.dsmz.de/strain/161219\n",
      "No soup for https://bacdive.dsmz.de/strain/161192\n",
      "No soup for https://bacdive.dsmz.de/strain/161208\n",
      "No soup for https://bacdive.dsmz.de/strain/161221\n",
      "No soup for https://bacdive.dsmz.de/strain/161230\n",
      "No soup for https://bacdive.dsmz.de/strain/161225\n",
      "No soup for https://bacdive.dsmz.de/strain/161187\n",
      "No soup for https://bacdive.dsmz.de/strain/161199\n",
      "No soup for https://bacdive.dsmz.de/strain/161203\n",
      "No soup for https://bacdive.dsmz.de/strain/161228\n",
      "No soup for https://bacdive.dsmz.de/strain/161213\n",
      "No soup for https://bacdive.dsmz.de/strain/161215\n",
      "No soup for https://bacdive.dsmz.de/strain/161194\n",
      "No soup for https://bacdive.dsmz.de/strain/137571\n",
      "No soup for https://bacdive.dsmz.de/strain/134113\n",
      "No soup for https://bacdive.dsmz.de/strain/138552\n",
      "No soup for https://bacdive.dsmz.de/strain/161214\n",
      "No soup for https://bacdive.dsmz.de/strain/161217\n",
      "No soup for https://bacdive.dsmz.de/strain/161235\n",
      "No soup for https://bacdive.dsmz.de/strain/161261\n",
      "No soup for https://bacdive.dsmz.de/strain/161236\n",
      "No soup for https://bacdive.dsmz.de/strain/161229\n",
      "No soup for https://bacdive.dsmz.de/strain/161259\n",
      "No soup for https://bacdive.dsmz.de/strain/161224\n",
      "No soup for https://bacdive.dsmz.de/strain/134092\n",
      "No soup for https://bacdive.dsmz.de/strain/161240\n",
      "No soup for https://bacdive.dsmz.de/strain/161266\n",
      "No soup for https://bacdive.dsmz.de/strain/161256\n",
      "No soup for https://bacdive.dsmz.de/strain/161222\n",
      "No soup for https://bacdive.dsmz.de/strain/161238\n",
      "No soup for https://bacdive.dsmz.de/strain/161233\n",
      "No soup for https://bacdive.dsmz.de/strain/161247\n",
      "No soup for https://bacdive.dsmz.de/strain/133654\n",
      "No soup for https://bacdive.dsmz.de/strain/161232\n",
      "No soup for https://bacdive.dsmz.de/strain/135116\n",
      "No soup for https://bacdive.dsmz.de/strain/134134\n",
      "No soup for https://bacdive.dsmz.de/strain/161265\n",
      "No soup for https://bacdive.dsmz.de/strain/133698\n",
      "No soup for https://bacdive.dsmz.de/strain/161252\n",
      "No soup for https://bacdive.dsmz.de/strain/161253\n",
      "No soup for https://bacdive.dsmz.de/strain/161263\n",
      "No soup for https://bacdive.dsmz.de/strain/161250\n",
      "No soup for https://bacdive.dsmz.de/strain/161257\n",
      "No soup for https://bacdive.dsmz.de/strain/161248\n",
      "No soup for https://bacdive.dsmz.de/strain/161237\n",
      "No soup for https://bacdive.dsmz.de/strain/161244\n",
      "No soup for https://bacdive.dsmz.de/strain/161260\n",
      "No soup for https://bacdive.dsmz.de/strain/161249\n",
      "No soup for https://bacdive.dsmz.de/strain/161255\n",
      "No soup for https://bacdive.dsmz.de/strain/134098\n",
      "No soup for https://bacdive.dsmz.de/strain/161242\n",
      "No soup for https://bacdive.dsmz.de/strain/161243\n",
      "No soup for https://bacdive.dsmz.de/strain/161251\n",
      "No soup for https://bacdive.dsmz.de/strain/161270\n",
      "No soup for https://bacdive.dsmz.de/strain/137073\n",
      "No soup for https://bacdive.dsmz.de/strain/161231\n",
      "No soup for https://bacdive.dsmz.de/strain/161267\n",
      "No soup for https://bacdive.dsmz.de/strain/161268\n",
      "No soup for https://bacdive.dsmz.de/strain/161239\n",
      "No soup for https://bacdive.dsmz.de/strain/161264\n",
      "No soup for https://bacdive.dsmz.de/strain/161234\n",
      "No soup for https://bacdive.dsmz.de/strain/161269\n",
      "No soup for https://bacdive.dsmz.de/strain/161241\n",
      "No soup for https://bacdive.dsmz.de/strain/161245\n",
      "No soup for https://bacdive.dsmz.de/strain/161262\n",
      "No soup for https://bacdive.dsmz.de/strain/7476\n",
      "No soup for https://bacdive.dsmz.de/strain/137575\n",
      "No soup for https://bacdive.dsmz.de/strain/136674\n",
      "No soup for https://bacdive.dsmz.de/strain/161276\n",
      "No soup for https://bacdive.dsmz.de/strain/161275\n",
      "No soup for https://bacdive.dsmz.de/strain/161277\n",
      "No soup for https://bacdive.dsmz.de/strain/137369\n",
      "No soup for https://bacdive.dsmz.de/strain/134204\n",
      "No soup for https://bacdive.dsmz.de/strain/139663\n",
      "No soup for https://bacdive.dsmz.de/strain/137386No soup for https://bacdive.dsmz.de/strain/133262\n",
      "\n",
      "No soup for https://bacdive.dsmz.de/strain/134116\n",
      "No soup for https://bacdive.dsmz.de/strain/161274\n",
      "No soup for https://bacdive.dsmz.de/strain/134146\n",
      "No soup for https://bacdive.dsmz.de/strain/134088\n",
      "No soup for https://bacdive.dsmz.de/strain/134176\n",
      "No soup for https://bacdive.dsmz.de/strain/134099\n",
      "No soup for https://bacdive.dsmz.de/strain/134105\n",
      "No soup for https://bacdive.dsmz.de/strain/134115\n",
      "No soup for https://bacdive.dsmz.de/strain/134119\n"
     ]
    },
    {
     "name": "stderr",
     "output_type": "stream",
     "text": [
      "DSMZ Catalogue link Progress:  83%|████████▎ | 31502/37746 [1:31:02<33:30,  3.11it/s]"
     ]
    },
    {
     "name": "stdout",
     "output_type": "stream",
     "text": [
      "No soup for https://bacdive.dsmz.de/strain/161278\n",
      "No soup for https://bacdive.dsmz.de/strain/134141\n"
     ]
    },
    {
     "name": "stderr",
     "output_type": "stream",
     "text": [
      "DSMZ Catalogue link Progress:  83%|████████▎ | 31509/37746 [1:31:04<37:13,  2.79it/s]"
     ]
    },
    {
     "name": "stdout",
     "output_type": "stream",
     "text": [
      "No soup for https://bacdive.dsmz.de/strain/161282\n",
      "No soup for https://bacdive.dsmz.de/strain/161279\n",
      "No soup for https://bacdive.dsmz.de/strain/161280\n",
      "No soup for https://bacdive.dsmz.de/strain/134140\n",
      "No soup for https://bacdive.dsmz.de/strain/161281\n",
      "No soup for https://bacdive.dsmz.de/strain/134154\n",
      "No soup for https://bacdive.dsmz.de/strain/134189\n"
     ]
    },
    {
     "name": "stderr",
     "output_type": "stream",
     "text": [
      "DSMZ Catalogue link Progress:  83%|████████▎ | 31510/37746 [1:31:04<44:47,  2.32it/s]"
     ]
    },
    {
     "name": "stdout",
     "output_type": "stream",
     "text": [
      "No soup for https://bacdive.dsmz.de/strain/137648\n",
      "No soup for https://bacdive.dsmz.de/strain/161370\n",
      "No soup for https://bacdive.dsmz.de/strain/161328\n"
     ]
    },
    {
     "name": "stderr",
     "output_type": "stream",
     "text": [
      "DSMZ Catalogue link Progress:  83%|████████▎ | 31514/37746 [1:31:05<27:55,  3.72it/s]"
     ]
    },
    {
     "name": "stdout",
     "output_type": "stream",
     "text": [
      "No soup for https://bacdive.dsmz.de/strain/161323\n",
      "No soup for https://bacdive.dsmz.de/strain/161379\n",
      "No soup for https://bacdive.dsmz.de/strain/161378\n"
     ]
    },
    {
     "name": "stderr",
     "output_type": "stream",
     "text": [
      "DSMZ Catalogue link Progress:  84%|████████▎ | 31520/37746 [1:31:05<16:01,  6.47it/s]"
     ]
    },
    {
     "name": "stdout",
     "output_type": "stream",
     "text": [
      "No soup for https://bacdive.dsmz.de/strain/161296\n",
      "No soup for https://bacdive.dsmz.de/strain/161376\n",
      "No soup for https://bacdive.dsmz.de/strain/161373\n",
      "No soup for https://bacdive.dsmz.de/strain/161333\n",
      "No soup for https://bacdive.dsmz.de/strain/161294\n",
      "No soup for https://bacdive.dsmz.de/strain/161318\n",
      "No soup for https://bacdive.dsmz.de/strain/161367\n",
      "No soup for https://bacdive.dsmz.de/strain/134187\n"
     ]
    },
    {
     "name": "stderr",
     "output_type": "stream",
     "text": [
      "DSMZ Catalogue link Progress:  84%|████████▎ | 31530/37746 [1:31:05<05:58, 17.32it/s]"
     ]
    },
    {
     "name": "stdout",
     "output_type": "stream",
     "text": [
      "No soup for https://bacdive.dsmz.de/strain/161327\n",
      "No soup for https://bacdive.dsmz.de/strain/161316\n",
      "No soup for https://bacdive.dsmz.de/strain/161353\n",
      "No soup for https://bacdive.dsmz.de/strain/161359\n",
      "No soup for https://bacdive.dsmz.de/strain/161389\n",
      "No soup for https://bacdive.dsmz.de/strain/161338\n",
      "No soup for https://bacdive.dsmz.de/strain/161361\n"
     ]
    },
    {
     "name": "stderr",
     "output_type": "stream",
     "text": [
      "DSMZ Catalogue link Progress:  84%|████████▎ | 31541/37746 [1:31:06<02:28, 41.76it/s]"
     ]
    },
    {
     "name": "stdout",
     "output_type": "stream",
     "text": [
      "No soup for https://bacdive.dsmz.de/strain/161310No soup for https://bacdive.dsmz.de/strain/137824\n",
      "\n",
      "No soup for https://bacdive.dsmz.de/strain/161291\n",
      "No soup for https://bacdive.dsmz.de/strain/161289\n",
      "No soup for https://bacdive.dsmz.de/strain/161312\n",
      "No soup for https://bacdive.dsmz.de/strain/161311\n",
      "No soup for https://bacdive.dsmz.de/strain/161351\n",
      "No soup for https://bacdive.dsmz.de/strain/161308\n",
      "No soup for https://bacdive.dsmz.de/strain/154497\n",
      "No soup for https://bacdive.dsmz.de/strain/134093\n",
      "No soup for https://bacdive.dsmz.de/strain/134110\n",
      "No soup for https://bacdive.dsmz.de/strain/161358\n",
      "No soup for https://bacdive.dsmz.de/strain/161326\n",
      "No soup for https://bacdive.dsmz.de/strain/134179\n"
     ]
    },
    {
     "name": "stderr",
     "output_type": "stream",
     "text": [
      "DSMZ Catalogue link Progress:  84%|████████▎ | 31552/37746 [1:31:06<02:58, 34.61it/s]"
     ]
    },
    {
     "name": "stdout",
     "output_type": "stream",
     "text": [
      "No soup for https://bacdive.dsmz.de/strain/161304\n",
      "No soup for https://bacdive.dsmz.de/strain/161337\n",
      "No soup for https://bacdive.dsmz.de/strain/161305\n",
      "No soup for https://bacdive.dsmz.de/strain/161287\n",
      "No soup for https://bacdive.dsmz.de/strain/161302\n",
      "No soup for https://bacdive.dsmz.de/strain/161344\n",
      "No soup for https://bacdive.dsmz.de/strain/134184\n",
      "No soup for https://bacdive.dsmz.de/strain/161387\n",
      "No soup for https://bacdive.dsmz.de/strain/161374\n",
      "No soup for https://bacdive.dsmz.de/strain/161364\n",
      "No soup for https://bacdive.dsmz.de/strain/161369\n"
     ]
    },
    {
     "name": "stderr",
     "output_type": "stream",
     "text": [
      "DSMZ Catalogue link Progress:  84%|████████▎ | 31560/37746 [1:31:06<02:05, 49.46it/s]"
     ]
    },
    {
     "name": "stdout",
     "output_type": "stream",
     "text": [
      "No soup for https://bacdive.dsmz.de/strain/161371No soup for https://bacdive.dsmz.de/strain/161372\n",
      "\n",
      "No soup for https://bacdive.dsmz.de/strain/161347\n",
      "No soup for https://bacdive.dsmz.de/strain/134202\n",
      "No soup for https://bacdive.dsmz.de/strain/161346\n",
      "No soup for https://bacdive.dsmz.de/strain/134181\n",
      "No soup for https://bacdive.dsmz.de/strain/161363\n",
      "No soup for https://bacdive.dsmz.de/strain/161352\n",
      "No soup for https://bacdive.dsmz.de/strain/134198\n",
      "No soup for https://bacdive.dsmz.de/strain/161325\n"
     ]
    },
    {
     "name": "stderr",
     "output_type": "stream",
     "text": [
      "DSMZ Catalogue link Progress:  84%|████████▎ | 31568/37746 [1:31:06<02:39, 38.73it/s]"
     ]
    },
    {
     "name": "stdout",
     "output_type": "stream",
     "text": [
      "No soup for https://bacdive.dsmz.de/strain/161322\n",
      "No soup for https://bacdive.dsmz.de/strain/161295\n",
      "No soup for https://bacdive.dsmz.de/strain/134197\n",
      "No soup for https://bacdive.dsmz.de/strain/161365\n",
      "No soup for https://bacdive.dsmz.de/strain/134569\n",
      "No soup for https://bacdive.dsmz.de/strain/161285\n"
     ]
    },
    {
     "name": "stderr",
     "output_type": "stream",
     "text": [
      "DSMZ Catalogue link Progress:  84%|████████▎ | 31604/37746 [1:31:08<04:23, 23.31it/s]"
     ]
    },
    {
     "name": "stdout",
     "output_type": "stream",
     "text": [
      "No soup for https://bacdive.dsmz.de/strain/161340No soup for https://bacdive.dsmz.de/strain/161286\n",
      "No soup for https://bacdive.dsmz.de/strain/162958\n",
      "\n",
      "No soup for https://bacdive.dsmz.de/strain/161357\n",
      "No soup for https://bacdive.dsmz.de/strain/161356\n",
      "No soup for https://bacdive.dsmz.de/strain/161388\n",
      "No soup for https://bacdive.dsmz.de/strain/161284\n",
      "No soup for https://bacdive.dsmz.de/strain/161309\n",
      "No soup for https://bacdive.dsmz.de/strain/161342\n",
      "No soup for https://bacdive.dsmz.de/strain/161339\n",
      "No soup for https://bacdive.dsmz.de/strain/161341\n",
      "No soup for https://bacdive.dsmz.de/strain/161290\n",
      "No soup for https://bacdive.dsmz.de/strain/161324\n",
      "No soup for https://bacdive.dsmz.de/strain/161377\n",
      "No soup for https://bacdive.dsmz.de/strain/161350\n",
      "No soup for https://bacdive.dsmz.de/strain/161292\n",
      "No soup for https://bacdive.dsmz.de/strain/161329\n",
      "No soup for https://bacdive.dsmz.de/strain/134188\n",
      "No soup for https://bacdive.dsmz.de/strain/161293\n",
      "No soup for https://bacdive.dsmz.de/strain/161330\n",
      "No soup for https://bacdive.dsmz.de/strain/161298\n",
      "No soup for https://bacdive.dsmz.de/strain/161297\n",
      "No soup for https://bacdive.dsmz.de/strain/134191\n",
      "No soup for https://bacdive.dsmz.de/strain/161303\n",
      "No soup for https://bacdive.dsmz.de/strain/161355\n",
      "No soup for https://bacdive.dsmz.de/strain/136873\n",
      "No soup for https://bacdive.dsmz.de/strain/161331\n",
      "No soup for https://bacdive.dsmz.de/strain/161300\n",
      "No soup for https://bacdive.dsmz.de/strain/161368\n",
      "No soup for https://bacdive.dsmz.de/strain/156140\n",
      "No soup for https://bacdive.dsmz.de/strain/161354\n",
      "No soup for https://bacdive.dsmz.de/strain/134152\n",
      "No soup for https://bacdive.dsmz.de/strain/161321\n",
      "No soup for https://bacdive.dsmz.de/strain/134193\n",
      "No soup for https://bacdive.dsmz.de/strain/161320\n",
      "No soup for https://bacdive.dsmz.de/strain/134200\n",
      "No soup for https://bacdive.dsmz.de/strain/161362\n",
      "No soup for https://bacdive.dsmz.de/strain/161306\n",
      "No soup for https://bacdive.dsmz.de/strain/161319\n",
      "No soup for https://bacdive.dsmz.de/strain/137373\n",
      "No soup for https://bacdive.dsmz.de/strain/141457\n",
      "No soup for https://bacdive.dsmz.de/strain/161307\n",
      "No soup for https://bacdive.dsmz.de/strain/134171\n",
      "No soup for https://bacdive.dsmz.de/strain/161382\n",
      "No soup for https://bacdive.dsmz.de/strain/161403\n",
      "No soup for https://bacdive.dsmz.de/strain/161345\n"
     ]
    },
    {
     "name": "stderr",
     "output_type": "stream",
     "text": [
      "DSMZ Catalogue link Progress:  84%|████████▍ | 31680/37746 [1:31:10<08:54, 11.36it/s]"
     ]
    },
    {
     "name": "stdout",
     "output_type": "stream",
     "text": [
      "No soup for https://bacdive.dsmz.de/strain/134170No soup for https://bacdive.dsmz.de/strain/161335\n",
      "No soup for https://bacdive.dsmz.de/strain/161301\n",
      "No soup for https://bacdive.dsmz.de/strain/161288\n",
      "No soup for https://bacdive.dsmz.de/strain/161391\n",
      "No soup for https://bacdive.dsmz.de/strain/161343\n",
      "No soup for https://bacdive.dsmz.de/strain/161411\n",
      "No soup for https://bacdive.dsmz.de/strain/161400\n",
      "No soup for https://bacdive.dsmz.de/strain/161418\n",
      "No soup for https://bacdive.dsmz.de/strain/161407\n",
      "No soup for https://bacdive.dsmz.de/strain/134201\n",
      "\n",
      "No soup for https://bacdive.dsmz.de/strain/161390\n",
      "No soup for https://bacdive.dsmz.de/strain/161402\n",
      "No soup for https://bacdive.dsmz.de/strain/134177\n",
      "No soup for https://bacdive.dsmz.de/strain/135611\n",
      "No soup for https://bacdive.dsmz.de/strain/161392\n",
      "No soup for https://bacdive.dsmz.de/strain/134175\n",
      "No soup for https://bacdive.dsmz.de/strain/134349\n",
      "No soup for https://bacdive.dsmz.de/strain/161435\n",
      "No soup for https://bacdive.dsmz.de/strain/161440\n",
      "No soup for https://bacdive.dsmz.de/strain/161401\n",
      "No soup for https://bacdive.dsmz.de/strain/161428\n",
      "No soup for https://bacdive.dsmz.de/strain/161414\n",
      "No soup for https://bacdive.dsmz.de/strain/134161\n",
      "No soup for https://bacdive.dsmz.de/strain/134366\n",
      "No soup for https://bacdive.dsmz.de/strain/161436\n",
      "No soup for https://bacdive.dsmz.de/strain/161441\n",
      "No soup for https://bacdive.dsmz.de/strain/161408\n",
      "No soup for https://bacdive.dsmz.de/strain/134229\n",
      "No soup for https://bacdive.dsmz.de/strain/161404\n",
      "No soup for https://bacdive.dsmz.de/strain/161431\n",
      "No soup for https://bacdive.dsmz.de/strain/161422\n",
      "No soup for https://bacdive.dsmz.de/strain/161410\n",
      "No soup for https://bacdive.dsmz.de/strain/161427\n",
      "No soup for https://bacdive.dsmz.de/strain/161413\n",
      "No soup for https://bacdive.dsmz.de/strain/161415\n",
      "No soup for https://bacdive.dsmz.de/strain/161437\n",
      "No soup for https://bacdive.dsmz.de/strain/161419\n",
      "No soup for https://bacdive.dsmz.de/strain/161432\n",
      "No soup for https://bacdive.dsmz.de/strain/161429\n",
      "No soup for https://bacdive.dsmz.de/strain/161444\n",
      "No soup for https://bacdive.dsmz.de/strain/161447\n",
      "No soup for https://bacdive.dsmz.de/strain/161442\n",
      "No soup for https://bacdive.dsmz.de/strain/134230\n",
      "No soup for https://bacdive.dsmz.de/strain/161424\n",
      "No soup for https://bacdive.dsmz.de/strain/161433\n",
      "No soup for https://bacdive.dsmz.de/strain/161417\n",
      "No soup for https://bacdive.dsmz.de/strain/161434\n",
      "No soup for https://bacdive.dsmz.de/strain/161446\n",
      "No soup for https://bacdive.dsmz.de/strain/161416\n",
      "No soup for https://bacdive.dsmz.de/strain/134348\n",
      "No soup for https://bacdive.dsmz.de/strain/161426\n",
      "No soup for https://bacdive.dsmz.de/strain/161443\n",
      "No soup for https://bacdive.dsmz.de/strain/134267\n",
      "No soup for https://bacdive.dsmz.de/strain/161421\n",
      "No soup for https://bacdive.dsmz.de/strain/161445\n",
      "No soup for https://bacdive.dsmz.de/strain/161425\n",
      "No soup for https://bacdive.dsmz.de/strain/161409\n",
      "No soup for https://bacdive.dsmz.de/strain/161420\n",
      "No soup for https://bacdive.dsmz.de/strain/161438\n",
      "No soup for https://bacdive.dsmz.de/strain/161423\n",
      "No soup for https://bacdive.dsmz.de/strain/134211\n",
      "No soup for https://bacdive.dsmz.de/strain/161439\n",
      "No soup for https://bacdive.dsmz.de/strain/134186\n",
      "No soup for https://bacdive.dsmz.de/strain/161430\n",
      "No soup for https://bacdive.dsmz.de/strain/134305\n",
      "No soup for https://bacdive.dsmz.de/strain/136874\n",
      "No soup for https://bacdive.dsmz.de/strain/134236\n",
      "No soup for https://bacdive.dsmz.de/strain/161412\n",
      "No soup for https://bacdive.dsmz.de/strain/154496\n",
      "No soup for https://bacdive.dsmz.de/strain/134238\n"
     ]
    },
    {
     "name": "stderr",
     "output_type": "stream",
     "text": [
      "DSMZ Catalogue link Progress:  84%|████████▍ | 31700/37746 [1:31:10<35:50,  2.81it/s]"
     ]
    },
    {
     "name": "stdout",
     "output_type": "stream",
     "text": [
      "No soup for https://bacdive.dsmz.de/strain/134336No soup for https://bacdive.dsmz.de/strain/133865\n",
      "\n",
      "No soup for https://bacdive.dsmz.de/strain/137379\n",
      "No soup for https://bacdive.dsmz.de/strain/161448\n",
      "No soup for https://bacdive.dsmz.de/strain/134226\n",
      "No soup for https://bacdive.dsmz.de/strain/134220\n",
      "No soup for https://bacdive.dsmz.de/strain/134219\n",
      "No soup for https://bacdive.dsmz.de/strain/133447\n",
      "No soup for https://bacdive.dsmz.de/strain/134568\n",
      "No soup for https://bacdive.dsmz.de/strain/134285\n",
      "No soup for https://bacdive.dsmz.de/strain/161406\n"
     ]
    },
    {
     "name": "stderr",
     "output_type": "stream",
     "text": [
      "DSMZ Catalogue link Progress:  84%|████████▍ | 31704/37746 [1:31:11<1:02:45,  1.60it/s]"
     ]
    },
    {
     "name": "stdout",
     "output_type": "stream",
     "text": [
      "No soup for https://bacdive.dsmz.de/strain/161451\n",
      "No soup for https://bacdive.dsmz.de/strain/161452\n",
      "No soup for https://bacdive.dsmz.de/strain/161450\n",
      "No soup for https://bacdive.dsmz.de/strain/161449\n"
     ]
    },
    {
     "name": "stderr",
     "output_type": "stream",
     "text": [
      "DSMZ Catalogue link Progress:  84%|████████▍ | 31711/37746 [1:31:12<2:05:19,  1.25s/it]"
     ]
    },
    {
     "name": "stdout",
     "output_type": "stream",
     "text": [
      "No soup for https://bacdive.dsmz.de/strain/161454\n",
      "No soup for https://bacdive.dsmz.de/strain/141595\n",
      "No soup for https://bacdive.dsmz.de/strain/134250\n",
      "No soup for https://bacdive.dsmz.de/strain/161453\n",
      "No soup for https://bacdive.dsmz.de/strain/161460\n",
      "No soup for https://bacdive.dsmz.de/strain/161457\n",
      "No soup for https://bacdive.dsmz.de/strain/161455\n",
      "No soup for https://bacdive.dsmz.de/strain/161461\n",
      "No soup for https://bacdive.dsmz.de/strain/161459\n",
      "No soup for https://bacdive.dsmz.de/strain/161466\n",
      "No soup for https://bacdive.dsmz.de/strain/161469\n",
      "No soup for https://bacdive.dsmz.de/strain/161467\n",
      "No soup for https://bacdive.dsmz.de/strain/161463\n",
      "No soup for https://bacdive.dsmz.de/strain/161468\n",
      "No soup for https://bacdive.dsmz.de/strain/161458\n",
      "No soup for https://bacdive.dsmz.de/strain/161471\n"
     ]
    },
    {
     "name": "stderr",
     "output_type": "stream",
     "text": [
      "DSMZ Catalogue link Progress:  84%|████████▍ | 31724/37746 [1:31:13<1:49:20,  1.09s/it]"
     ]
    },
    {
     "name": "stdout",
     "output_type": "stream",
     "text": [
      "No soup for https://bacdive.dsmz.de/strain/134149\n",
      "No soup for https://bacdive.dsmz.de/strain/161456\n",
      "No soup for https://bacdive.dsmz.de/strain/161474\n",
      "No soup for https://bacdive.dsmz.de/strain/161473\n",
      "No soup for https://bacdive.dsmz.de/strain/161477\n",
      "No soup for https://bacdive.dsmz.de/strain/161475\n",
      "No soup for https://bacdive.dsmz.de/strain/134240\n",
      "No soup for https://bacdive.dsmz.de/strain/161478\n",
      "No soup for https://bacdive.dsmz.de/strain/154434\n",
      "No soup for https://bacdive.dsmz.de/strain/134258\n",
      "No soup for https://bacdive.dsmz.de/strain/161464\n",
      "No soup for https://bacdive.dsmz.de/strain/161479\n"
     ]
    },
    {
     "name": "stderr",
     "output_type": "stream",
     "text": [
      "DSMZ Catalogue link Progress:  84%|████████▍ | 31737/37746 [1:31:14<2:07:52,  1.28s/it]"
     ]
    },
    {
     "name": "stdout",
     "output_type": "stream",
     "text": [
      "No soup for https://bacdive.dsmz.de/strain/161462No soup for https://bacdive.dsmz.de/strain/161480\n",
      "\n",
      "No soup for https://www.dsmz.de/collection/catalogue/details/culture/DSM-16509\n",
      "No soup for https://bacdive.dsmz.de/strain/161482\n",
      "No soup for https://bacdive.dsmz.de/strain/161470\n"
     ]
    },
    {
     "name": "stderr",
     "output_type": "stream",
     "text": [
      "DSMZ Catalogue link Progress:  84%|████████▍ | 31740/37746 [1:31:14<2:45:09,  1.65s/it]"
     ]
    },
    {
     "name": "stdout",
     "output_type": "stream",
     "text": [
      "No soup for https://bacdive.dsmz.de/strain/161485\n",
      "No soup for https://bacdive.dsmz.de/strain/161472\n",
      "No soup for https://bacdive.dsmz.de/strain/161484\n",
      "No soup for https://bacdive.dsmz.de/strain/161487\n",
      "No soup for https://bacdive.dsmz.de/strain/161476\n"
     ]
    },
    {
     "name": "stderr",
     "output_type": "stream",
     "text": [
      "DSMZ Catalogue link Progress:  84%|████████▍ | 31748/37746 [1:31:15<2:45:49,  1.66s/it]"
     ]
    },
    {
     "name": "stdout",
     "output_type": "stream",
     "text": [
      "No soup for https://bacdive.dsmz.de/strain/161481No soup for https://bacdive.dsmz.de/strain/161486\n",
      "No soup for https://bacdive.dsmz.de/strain/161483\n",
      "\n",
      "No soup for https://bacdive.dsmz.de/strain/161494\n",
      "No soup for https://bacdive.dsmz.de/strain/161493\n",
      "No soup for https://bacdive.dsmz.de/strain/133863\n",
      "No soup for https://bacdive.dsmz.de/strain/134182\n"
     ]
    },
    {
     "name": "stderr",
     "output_type": "stream",
     "text": [
      "DSMZ Catalogue link Progress:  84%|████████▍ | 31759/37746 [1:31:16<1:52:56,  1.13s/it]"
     ]
    },
    {
     "name": "stdout",
     "output_type": "stream",
     "text": [
      "No soup for https://bacdive.dsmz.de/strain/161503\n",
      "No soup for https://bacdive.dsmz.de/strain/161497\n",
      "No soup for https://bacdive.dsmz.de/strain/161492\n",
      "No soup for https://bacdive.dsmz.de/strain/161502\n",
      "No soup for https://bacdive.dsmz.de/strain/161501\n",
      "No soup for https://bacdive.dsmz.de/strain/161491\n",
      "No soup for https://bacdive.dsmz.de/strain/161490\n",
      "No soup for https://bacdive.dsmz.de/strain/161498\n",
      "No soup for https://bacdive.dsmz.de/strain/161489\n",
      "No soup for https://bacdive.dsmz.de/strain/161504\n",
      "No soup for https://bacdive.dsmz.de/strain/133544\n",
      "No soup for https://bacdive.dsmz.de/strain/161488\n",
      "No soup for https://bacdive.dsmz.de/strain/161496\n",
      "No soup for https://bacdive.dsmz.de/strain/161499\n",
      "No soup for https://bacdive.dsmz.de/strain/161495\n"
     ]
    },
    {
     "name": "stderr",
     "output_type": "stream",
     "text": [
      "DSMZ Catalogue link Progress:  84%|████████▍ | 31770/37746 [1:31:16<2:41:24,  1.62s/it]"
     ]
    },
    {
     "name": "stdout",
     "output_type": "stream",
     "text": [
      "No soup for https://bacdive.dsmz.de/strain/134281No soup for https://bacdive.dsmz.de/strain/161505\n",
      "\n",
      "No soup for https://bacdive.dsmz.de/strain/161500\n",
      "No soup for https://bacdive.dsmz.de/strain/134270\n",
      "No soup for https://bacdive.dsmz.de/strain/134265\n",
      "No soup for https://bacdive.dsmz.de/strain/134271\n"
     ]
    },
    {
     "name": "stderr",
     "output_type": "stream",
     "text": [
      "DSMZ Catalogue link Progress:  84%|████████▍ | 31774/37746 [1:31:17<3:03:47,  1.85s/it]"
     ]
    },
    {
     "name": "stdout",
     "output_type": "stream",
     "text": [
      "No soup for https://bacdive.dsmz.de/strain/134166\n",
      "No soup for https://bacdive.dsmz.de/strain/134269\n",
      "No soup for https://bacdive.dsmz.de/strain/161511\n",
      "No soup for https://bacdive.dsmz.de/strain/161508\n",
      "No soup for https://bacdive.dsmz.de/strain/134335\n",
      "No soup for https://bacdive.dsmz.de/strain/134340\n"
     ]
    },
    {
     "name": "stderr",
     "output_type": "stream",
     "text": [
      "DSMZ Catalogue link Progress:  84%|████████▍ | 31781/37746 [1:31:17<3:37:34,  2.19s/it]"
     ]
    },
    {
     "name": "stdout",
     "output_type": "stream",
     "text": [
      "No soup for https://bacdive.dsmz.de/strain/161405\n",
      "No soup for https://bacdive.dsmz.de/strain/134290\n",
      "No soup for https://bacdive.dsmz.de/strain/161509\n",
      "No soup for https://bacdive.dsmz.de/strain/161512\n",
      "No soup for https://bacdive.dsmz.de/strain/161513\n"
     ]
    },
    {
     "name": "stderr",
     "output_type": "stream",
     "text": [
      "DSMZ Catalogue link Progress:  84%|████████▍ | 31783/37746 [1:31:17<4:32:00,  2.74s/it]"
     ]
    },
    {
     "name": "stdout",
     "output_type": "stream",
     "text": [
      "No soup for https://bacdive.dsmz.de/strain/161514\n",
      "No soup for https://bacdive.dsmz.de/strain/161518\n",
      "No soup for https://bacdive.dsmz.de/strain/161516\n"
     ]
    },
    {
     "name": "stderr",
     "output_type": "stream",
     "text": [
      "DSMZ Catalogue link Progress:  84%|████████▍ | 31789/37746 [1:31:18<50:49,  1.95it/s]  "
     ]
    },
    {
     "name": "stdout",
     "output_type": "stream",
     "text": [
      "No soup for https://bacdive.dsmz.de/strain/161517\n",
      "No soup for https://bacdive.dsmz.de/strain/161521\n",
      "No soup for https://bacdive.dsmz.de/strain/161524\n",
      "No soup for https://bacdive.dsmz.de/strain/161519\n",
      "No soup for https://bacdive.dsmz.de/strain/161523\n",
      "No soup for https://bacdive.dsmz.de/strain/161507\n",
      "No soup for https://bacdive.dsmz.de/strain/161525\n"
     ]
    },
    {
     "name": "stderr",
     "output_type": "stream",
     "text": [
      "DSMZ Catalogue link Progress:  84%|████████▍ | 31795/37746 [1:31:18<17:55,  5.53it/s]"
     ]
    },
    {
     "name": "stdout",
     "output_type": "stream",
     "text": [
      "No soup for https://bacdive.dsmz.de/strain/161526\n",
      "No soup for https://bacdive.dsmz.de/strain/161532\n",
      "No soup for https://bacdive.dsmz.de/strain/134346\n",
      "No soup for https://bacdive.dsmz.de/strain/161527\n",
      "No soup for https://bacdive.dsmz.de/strain/161529\n",
      "No soup for https://bacdive.dsmz.de/strain/161528\n",
      "No soup for https://bacdive.dsmz.de/strain/161535\n"
     ]
    },
    {
     "name": "stderr",
     "output_type": "stream",
     "text": [
      "DSMZ Catalogue link Progress:  84%|████████▍ | 31804/37746 [1:31:18<11:29,  8.62it/s]"
     ]
    },
    {
     "name": "stdout",
     "output_type": "stream",
     "text": [
      "No soup for https://bacdive.dsmz.de/strain/161537\n",
      "No soup for https://bacdive.dsmz.de/strain/161538\n",
      "No soup for https://bacdive.dsmz.de/strain/161536\n",
      "No soup for https://bacdive.dsmz.de/strain/134353\n",
      "No soup for https://bacdive.dsmz.de/strain/161539\n",
      "No soup for https://bacdive.dsmz.de/strain/134319\n",
      "No soup for https://bacdive.dsmz.de/strain/134289\n"
     ]
    },
    {
     "name": "stderr",
     "output_type": "stream",
     "text": [
      "DSMZ Catalogue link Progress:  84%|████████▍ | 31807/37746 [1:31:19<12:35,  7.86it/s]"
     ]
    },
    {
     "name": "stdout",
     "output_type": "stream",
     "text": [
      "No soup for https://bacdive.dsmz.de/strain/161542\n",
      "No soup for https://bacdive.dsmz.de/strain/134356\n",
      "No soup for https://bacdive.dsmz.de/strain/161520\n"
     ]
    },
    {
     "name": "stderr",
     "output_type": "stream",
     "text": [
      "DSMZ Catalogue link Progress:  84%|████████▍ | 31812/37746 [1:31:19<10:57,  9.03it/s]"
     ]
    },
    {
     "name": "stdout",
     "output_type": "stream",
     "text": [
      "No soup for https://bacdive.dsmz.de/strain/161564\n",
      "No soup for https://bacdive.dsmz.de/strain/161558\n",
      "No soup for https://bacdive.dsmz.de/strain/161556\n",
      "No soup for https://bacdive.dsmz.de/strain/133473\n",
      "No soup for https://bacdive.dsmz.de/strain/161541\n"
     ]
    },
    {
     "name": "stderr",
     "output_type": "stream",
     "text": [
      "DSMZ Catalogue link Progress:  84%|████████▍ | 31816/37746 [1:31:19<07:03, 14.01it/s]"
     ]
    },
    {
     "name": "stdout",
     "output_type": "stream",
     "text": [
      "No soup for https://bacdive.dsmz.de/strain/134369\n",
      "No soup for https://bacdive.dsmz.de/strain/134352\n",
      "No soup for https://bacdive.dsmz.de/strain/161551\n",
      "No soup for https://bacdive.dsmz.de/strain/161563\n"
     ]
    },
    {
     "name": "stderr",
     "output_type": "stream",
     "text": [
      "DSMZ Catalogue link Progress:  84%|████████▍ | 31822/37746 [1:31:20<06:38, 14.87it/s]"
     ]
    },
    {
     "name": "stdout",
     "output_type": "stream",
     "text": [
      "No soup for https://bacdive.dsmz.de/strain/161561\n",
      "No soup for https://bacdive.dsmz.de/strain/161522\n",
      "No soup for https://bacdive.dsmz.de/strain/134357\n",
      "No soup for https://bacdive.dsmz.de/strain/133521\n",
      "No soup for https://bacdive.dsmz.de/strain/134362\n",
      "No soup for https://bacdive.dsmz.de/strain/134351\n",
      "No soup for https://bacdive.dsmz.de/strain/161554\n",
      "No soup for https://bacdive.dsmz.de/strain/134358\n"
     ]
    },
    {
     "name": "stderr",
     "output_type": "stream",
     "text": [
      "DSMZ Catalogue link Progress:  84%|████████▍ | 31832/37746 [1:31:20<03:16, 30.04it/s]"
     ]
    },
    {
     "name": "stdout",
     "output_type": "stream",
     "text": [
      "No soup for https://bacdive.dsmz.de/strain/161540\n",
      "No soup for https://bacdive.dsmz.de/strain/133426\n",
      "No soup for https://bacdive.dsmz.de/strain/161543\n",
      "No soup for https://bacdive.dsmz.de/strain/161552\n",
      "No soup for https://bacdive.dsmz.de/strain/133459\n",
      "No soup for https://bacdive.dsmz.de/strain/134368\n",
      "No soup for https://bacdive.dsmz.de/strain/161545\n",
      "No soup for https://bacdive.dsmz.de/strain/161566\n",
      "No soup for https://bacdive.dsmz.de/strain/161577\n",
      "No soup for https://bacdive.dsmz.de/strain/134363\n"
     ]
    },
    {
     "name": "stderr",
     "output_type": "stream",
     "text": [
      "DSMZ Catalogue link Progress:  84%|████████▍ | 31849/37746 [1:31:21<08:19, 11.81it/s]"
     ]
    },
    {
     "name": "stdout",
     "output_type": "stream",
     "text": [
      "No soup for https://bacdive.dsmz.de/strain/161550\n",
      "No soup for https://bacdive.dsmz.de/strain/134339\n",
      "No soup for https://bacdive.dsmz.de/strain/161553\n",
      "No soup for https://bacdive.dsmz.de/strain/161578\n",
      "No soup for https://bacdive.dsmz.de/strain/161565\n",
      "No soup for https://bacdive.dsmz.de/strain/161568\n",
      "No soup for https://bacdive.dsmz.de/strain/133545\n",
      "No soup for https://bacdive.dsmz.de/strain/133464\n",
      "No soup for https://bacdive.dsmz.de/strain/134364\n",
      "No soup for https://bacdive.dsmz.de/strain/161580\n",
      "No soup for https://bacdive.dsmz.de/strain/161567\n",
      "No soup for https://bacdive.dsmz.de/strain/133427\n",
      "No soup for https://bacdive.dsmz.de/strain/161572\n",
      "No soup for https://bacdive.dsmz.de/strain/161591\n",
      "No soup for https://bacdive.dsmz.de/strain/161601\n",
      "No soup for https://bacdive.dsmz.de/strain/161596\n",
      "No soup for https://bacdive.dsmz.de/strain/134347\n",
      "No soup for https://bacdive.dsmz.de/strain/161576\n",
      "No soup for https://bacdive.dsmz.de/strain/133456\n",
      "No soup for https://bacdive.dsmz.de/strain/161562\n",
      "No soup for https://bacdive.dsmz.de/strain/161570\n",
      "No soup for https://bacdive.dsmz.de/strain/161581\n",
      "No soup for https://bacdive.dsmz.de/strain/161531\n",
      "No soup for https://bacdive.dsmz.de/strain/161571\n",
      "No soup for https://bacdive.dsmz.de/strain/161575\n",
      "No soup for https://bacdive.dsmz.de/strain/134084\n",
      "No soup for https://bacdive.dsmz.de/strain/161573\n",
      "No soup for https://bacdive.dsmz.de/strain/136131\n",
      "No soup for https://bacdive.dsmz.de/strain/133419\n",
      "No soup for https://bacdive.dsmz.de/strain/161602\n",
      "No soup for https://bacdive.dsmz.de/strain/154665\n",
      "No soup for https://bacdive.dsmz.de/strain/161579\n",
      "No soup for https://bacdive.dsmz.de/strain/161594\n",
      "No soup for https://bacdive.dsmz.de/strain/161587\n",
      "No soup for https://bacdive.dsmz.de/strain/161584\n",
      "No soup for https://bacdive.dsmz.de/strain/161589\n",
      "No soup for https://bacdive.dsmz.de/strain/161574\n",
      "No soup for https://bacdive.dsmz.de/strain/161606\n",
      "No soup for https://bacdive.dsmz.de/strain/134311\n",
      "No soup for https://bacdive.dsmz.de/strain/133486\n",
      "No soup for https://bacdive.dsmz.de/strain/161582\n",
      "No soup for https://bacdive.dsmz.de/strain/133599\n",
      "No soup for https://bacdive.dsmz.de/strain/161593\n",
      "No soup for https://bacdive.dsmz.de/strain/161586\n",
      "No soup for https://bacdive.dsmz.de/strain/161592\n",
      "No soup for https://bacdive.dsmz.de/strain/161590\n",
      "No soup for https://bacdive.dsmz.de/strain/161607\n",
      "No soup for https://bacdive.dsmz.de/strain/161605\n",
      "No soup for https://bacdive.dsmz.de/strain/161583\n",
      "No soup for https://bacdive.dsmz.de/strain/133558\n",
      "No soup for https://bacdive.dsmz.de/strain/134337\n",
      "No soup for https://bacdive.dsmz.de/strain/161588\n",
      "No soup for https://bacdive.dsmz.de/strain/161598\n",
      "No soup for https://bacdive.dsmz.de/strain/133886\n"
     ]
    },
    {
     "name": "stderr",
     "output_type": "stream",
     "text": [
      "DSMZ Catalogue link Progress:  85%|████████▍ | 31973/37746 [1:31:24<12:43,  7.56it/s]"
     ]
    },
    {
     "name": "stdout",
     "output_type": "stream",
     "text": [
      "No soup for https://bacdive.dsmz.de/strain/161614No soup for https://bacdive.dsmz.de/strain/161620\n",
      "No soup for https://bacdive.dsmz.de/strain/161597\n",
      "No soup for https://bacdive.dsmz.de/strain/161599\n",
      "No soup for https://bacdive.dsmz.de/strain/161585\n",
      "No soup for https://bacdive.dsmz.de/strain/161595\n",
      "No soup for https://bacdive.dsmz.de/strain/133448\n",
      "No soup for https://bacdive.dsmz.de/strain/134370\n",
      "No soup for https://bacdive.dsmz.de/strain/133509\n",
      "No soup for https://bacdive.dsmz.de/strain/133471\n",
      "No soup for https://bacdive.dsmz.de/strain/133453\n",
      "No soup for https://bacdive.dsmz.de/strain/133651\n",
      "No soup for https://bacdive.dsmz.de/strain/133479\n",
      "No soup for https://bacdive.dsmz.de/strain/133451\n",
      "No soup for https://bacdive.dsmz.de/strain/133485\n",
      "No soup for https://bacdive.dsmz.de/strain/161534\n",
      "No soup for https://bacdive.dsmz.de/strain/133467\n",
      "No soup for https://bacdive.dsmz.de/strain/134354\n",
      "No soup for https://bacdive.dsmz.de/strain/138458\n",
      "No soup for https://bacdive.dsmz.de/strain/161604\n",
      "No soup for https://bacdive.dsmz.de/strain/133487\n",
      "No soup for https://bacdive.dsmz.de/strain/161611\n",
      "No soup for https://bacdive.dsmz.de/strain/161608\n",
      "No soup for https://bacdive.dsmz.de/strain/161609\n",
      "No soup for https://bacdive.dsmz.de/strain/161616\n",
      "No soup for https://bacdive.dsmz.de/strain/138800\n",
      "No soup for https://bacdive.dsmz.de/strain/133597\n",
      "No soup for https://bacdive.dsmz.de/strain/161627\n",
      "No soup for https://bacdive.dsmz.de/strain/161615\n",
      "\n",
      "No soup for https://bacdive.dsmz.de/strain/134085\n",
      "No soup for https://bacdive.dsmz.de/strain/161631\n",
      "No soup for https://bacdive.dsmz.de/strain/133645\n",
      "No soup for https://bacdive.dsmz.de/strain/161629\n",
      "No soup for https://bacdive.dsmz.de/strain/134086\n",
      "No soup for https://bacdive.dsmz.de/strain/134058\n",
      "No soup for https://bacdive.dsmz.de/strain/161613\n",
      "No soup for https://bacdive.dsmz.de/strain/133577\n",
      "No soup for https://bacdive.dsmz.de/strain/161626\n",
      "No soup for https://bacdive.dsmz.de/strain/161621\n",
      "No soup for https://bacdive.dsmz.de/strain/133445\n",
      "No soup for https://bacdive.dsmz.de/strain/133466\n",
      "No soup for https://bacdive.dsmz.de/strain/161635\n",
      "No soup for https://bacdive.dsmz.de/strain/161619\n",
      "No soup for https://bacdive.dsmz.de/strain/133484\n",
      "No soup for https://bacdive.dsmz.de/strain/133480\n",
      "No soup for https://bacdive.dsmz.de/strain/161640\n",
      "No soup for https://bacdive.dsmz.de/strain/134312\n",
      "No soup for https://bacdive.dsmz.de/strain/161617\n",
      "No soup for https://bacdive.dsmz.de/strain/161625\n",
      "No soup for https://bacdive.dsmz.de/strain/161624\n",
      "No soup for https://bacdive.dsmz.de/strain/161623\n",
      "No soup for https://bacdive.dsmz.de/strain/161618\n",
      "No soup for https://bacdive.dsmz.de/strain/133525\n",
      "No soup for https://bacdive.dsmz.de/strain/133499\n",
      "No soup for https://bacdive.dsmz.de/strain/161634\n",
      "No soup for https://bacdive.dsmz.de/strain/133542\n",
      "No soup for https://bacdive.dsmz.de/strain/133624\n",
      "No soup for https://bacdive.dsmz.de/strain/161637\n",
      "No soup for https://bacdive.dsmz.de/strain/133623\n",
      "No soup for https://bacdive.dsmz.de/strain/161610\n",
      "No soup for https://bacdive.dsmz.de/strain/161632\n",
      "No soup for https://bacdive.dsmz.de/strain/161636\n",
      "No soup for https://bacdive.dsmz.de/strain/161630\n",
      "No soup for https://bacdive.dsmz.de/strain/133504\n",
      "No soup for https://bacdive.dsmz.de/strain/133506\n",
      "No soup for https://bacdive.dsmz.de/strain/133565\n",
      "No soup for https://bacdive.dsmz.de/strain/161633\n",
      "No soup for https://bacdive.dsmz.de/strain/161628\n",
      "No soup for https://bacdive.dsmz.de/strain/139432\n",
      "No soup for https://bacdive.dsmz.de/strain/133592\n",
      "No soup for https://bacdive.dsmz.de/strain/133723\n",
      "No soup for https://bacdive.dsmz.de/strain/133607\n",
      "No soup for https://bacdive.dsmz.de/strain/133478\n",
      "No soup for https://bacdive.dsmz.de/strain/161638\n",
      "No soup for https://bacdive.dsmz.de/strain/133508\n",
      "No soup for https://bacdive.dsmz.de/strain/133856\n",
      "No soup for https://bacdive.dsmz.de/strain/161641\n",
      "No soup for https://bacdive.dsmz.de/strain/133529\n",
      "No soup for https://bacdive.dsmz.de/strain/133568\n",
      "No soup for https://bacdive.dsmz.de/strain/133612\n",
      "No soup for https://bacdive.dsmz.de/strain/133561\n",
      "No soup for https://bacdive.dsmz.de/strain/133566\n",
      "No soup for https://bacdive.dsmz.de/strain/134268\n",
      "No soup for https://bacdive.dsmz.de/strain/161622\n",
      "No soup for https://bacdive.dsmz.de/strain/133489\n",
      "No soup for https://bacdive.dsmz.de/strain/133490\n"
     ]
    },
    {
     "name": "stderr",
     "output_type": "stream",
     "text": [
      "DSMZ Catalogue link Progress:  85%|████████▍ | 31976/37746 [1:31:25<17:39,  5.44it/s]"
     ]
    },
    {
     "name": "stdout",
     "output_type": "stream",
     "text": [
      "No soup for https://bacdive.dsmz.de/strain/161639\n"
     ]
    },
    {
     "name": "stderr",
     "output_type": "stream",
     "text": [
      "DSMZ Catalogue link Progress:  85%|████████▍ | 31977/37746 [1:31:25<18:14,  5.27it/s]"
     ]
    },
    {
     "name": "stdout",
     "output_type": "stream",
     "text": [
      "No soup for https://bacdive.dsmz.de/strain/161643\n",
      "No soup for https://bacdive.dsmz.de/strain/161642\n"
     ]
    },
    {
     "name": "stderr",
     "output_type": "stream",
     "text": [
      "DSMZ Catalogue link Progress:  85%|████████▍ | 31979/37746 [1:31:25<18:50,  5.10it/s]"
     ]
    },
    {
     "name": "stdout",
     "output_type": "stream",
     "text": [
      "No soup for https://bacdive.dsmz.de/strain/161644\n"
     ]
    },
    {
     "name": "stderr",
     "output_type": "stream",
     "text": [
      "DSMZ Catalogue link Progress:  85%|████████▍ | 31980/37746 [1:31:26<21:55,  4.38it/s]"
     ]
    },
    {
     "name": "stdout",
     "output_type": "stream",
     "text": [
      "No soup for https://bacdive.dsmz.de/strain/161648\n",
      "No soup for https://bacdive.dsmz.de/strain/161662\n",
      "No soup for https://bacdive.dsmz.de/strain/161655\n"
     ]
    },
    {
     "name": "stderr",
     "output_type": "stream",
     "text": [
      "DSMZ Catalogue link Progress:  85%|████████▍ | 31987/37746 [1:31:27<13:23,  7.17it/s]"
     ]
    },
    {
     "name": "stdout",
     "output_type": "stream",
     "text": [
      "No soup for https://bacdive.dsmz.de/strain/161653\n",
      "No soup for https://bacdive.dsmz.de/strain/161661\n",
      "No soup for https://bacdive.dsmz.de/strain/161686\n",
      "No soup for https://bacdive.dsmz.de/strain/161646\n",
      "No soup for https://bacdive.dsmz.de/strain/161672\n"
     ]
    },
    {
     "name": "stderr",
     "output_type": "stream",
     "text": [
      "DSMZ Catalogue link Progress:  85%|████████▍ | 31995/37746 [1:31:27<08:15, 11.60it/s]"
     ]
    },
    {
     "name": "stdout",
     "output_type": "stream",
     "text": [
      "No soup for https://bacdive.dsmz.de/strain/161685\n",
      "No soup for https://bacdive.dsmz.de/strain/161683\n",
      "No soup for https://bacdive.dsmz.de/strain/161680\n",
      "No soup for https://bacdive.dsmz.de/strain/161690\n",
      "No soup for https://bacdive.dsmz.de/strain/161657\n",
      "No soup for https://bacdive.dsmz.de/strain/161663\n",
      "No soup for https://bacdive.dsmz.de/strain/161668\n",
      "No soup for https://bacdive.dsmz.de/strain/161692\n"
     ]
    },
    {
     "name": "stderr",
     "output_type": "stream",
     "text": [
      "DSMZ Catalogue link Progress:  85%|████████▍ | 31999/37746 [1:31:27<07:22, 12.99it/s]"
     ]
    },
    {
     "name": "stdout",
     "output_type": "stream",
     "text": [
      "No soup for https://bacdive.dsmz.de/strain/161649\n",
      "No soup for https://bacdive.dsmz.de/strain/161688\n",
      "No soup for https://bacdive.dsmz.de/strain/161664\n",
      "No soup for https://bacdive.dsmz.de/strain/134344\n",
      "No soup for https://bacdive.dsmz.de/strain/161674\n"
     ]
    },
    {
     "name": "stderr",
     "output_type": "stream",
     "text": [
      "DSMZ Catalogue link Progress:  85%|████████▍ | 32010/37746 [1:31:27<02:14, 42.75it/s]"
     ]
    },
    {
     "name": "stdout",
     "output_type": "stream",
     "text": [
      "No soup for https://bacdive.dsmz.de/strain/161647\n",
      "No soup for https://bacdive.dsmz.de/strain/161666\n",
      "No soup for https://bacdive.dsmz.de/strain/161673\n",
      "No soup for https://bacdive.dsmz.de/strain/161660\n",
      "No soup for https://bacdive.dsmz.de/strain/161654\n",
      "No soup for https://bacdive.dsmz.de/strain/161684\n",
      "No soup for https://bacdive.dsmz.de/strain/161675\n",
      "No soup for https://bacdive.dsmz.de/strain/161698\n",
      "No soup for https://bacdive.dsmz.de/strain/161665\n",
      "No soup for https://bacdive.dsmz.de/strain/161645\n",
      "No soup for https://bacdive.dsmz.de/strain/161678\n",
      "No soup for https://bacdive.dsmz.de/strain/161659\n",
      "No soup for https://bacdive.dsmz.de/strain/161705\n",
      "No soup for https://bacdive.dsmz.de/strain/161689\n"
     ]
    },
    {
     "name": "stderr",
     "output_type": "stream",
     "text": [
      "DSMZ Catalogue link Progress:  85%|████████▍ | 32040/37746 [1:31:29<05:35, 16.99it/s]"
     ]
    },
    {
     "name": "stdout",
     "output_type": "stream",
     "text": [
      "No soup for https://bacdive.dsmz.de/strain/161695\n",
      "No soup for https://bacdive.dsmz.de/strain/161669\n",
      "No soup for https://bacdive.dsmz.de/strain/161682\n",
      "No soup for https://bacdive.dsmz.de/strain/161658\n",
      "No soup for https://bacdive.dsmz.de/strain/161677\n",
      "No soup for https://bacdive.dsmz.de/strain/161697\n",
      "No soup for https://bacdive.dsmz.de/strain/161707\n",
      "No soup for https://bacdive.dsmz.de/strain/161706\n",
      "No soup for https://bacdive.dsmz.de/strain/161652\n",
      "No soup for https://bacdive.dsmz.de/strain/161676\n",
      "No soup for https://bacdive.dsmz.de/strain/161702\n",
      "No soup for https://bacdive.dsmz.de/strain/161681\n",
      "No soup for https://bacdive.dsmz.de/strain/161704\n",
      "No soup for https://bacdive.dsmz.de/strain/161696\n",
      "No soup for https://bacdive.dsmz.de/strain/161694\n",
      "No soup for https://bacdive.dsmz.de/strain/161703\n",
      "No soup for https://bacdive.dsmz.de/strain/161700\n",
      "No soup for https://bacdive.dsmz.de/strain/161699\n",
      "No soup for https://bacdive.dsmz.de/strain/133594\n",
      "No soup for https://bacdive.dsmz.de/strain/133961\n",
      "No soup for https://bacdive.dsmz.de/strain/161687\n",
      "No soup for https://bacdive.dsmz.de/strain/161656\n",
      "No soup for https://bacdive.dsmz.de/strain/134233\n",
      "No soup for https://bacdive.dsmz.de/strain/161712\n",
      "No soup for https://bacdive.dsmz.de/strain/161720\n",
      "No soup for https://bacdive.dsmz.de/strain/161717\n",
      "No soup for https://bacdive.dsmz.de/strain/161714\n",
      "No soup for https://bacdive.dsmz.de/strain/161679\n",
      "No soup for https://bacdive.dsmz.de/strain/161650\n",
      "No soup for https://bacdive.dsmz.de/strain/161722\n",
      "No soup for https://bacdive.dsmz.de/strain/161710\n",
      "No soup for https://bacdive.dsmz.de/strain/133687\n",
      "No soup for https://bacdive.dsmz.de/strain/161745\n",
      "No soup for https://bacdive.dsmz.de/strain/161667\n",
      "No soup for https://bacdive.dsmz.de/strain/133591\n",
      "No soup for https://bacdive.dsmz.de/strain/161711\n",
      "No soup for https://bacdive.dsmz.de/strain/161718\n",
      "No soup for https://bacdive.dsmz.de/strain/161726\n",
      "No soup for https://bacdive.dsmz.de/strain/161742\n",
      "No soup for https://bacdive.dsmz.de/strain/161725\n",
      "No soup for https://bacdive.dsmz.de/strain/161713\n",
      "No soup for https://bacdive.dsmz.de/strain/161716\n",
      "No soup for https://bacdive.dsmz.de/strain/133563\n",
      "No soup for https://bacdive.dsmz.de/strain/161721\n",
      "No soup for https://bacdive.dsmz.de/strain/133423\n",
      "No soup for https://bacdive.dsmz.de/strain/161741\n",
      "No soup for https://bacdive.dsmz.de/strain/133540\n",
      "No soup for https://bacdive.dsmz.de/strain/152858\n",
      "No soup for https://bacdive.dsmz.de/strain/161737\n",
      "No soup for https://bacdive.dsmz.de/strain/150673\n",
      "No soup for https://bacdive.dsmz.de/strain/161723\n",
      "No soup for https://bacdive.dsmz.de/strain/133780\n",
      "No soup for https://bacdive.dsmz.de/strain/133686\n"
     ]
    },
    {
     "name": "stderr",
     "output_type": "stream",
     "text": [
      "DSMZ Catalogue link Progress:  85%|████████▌ | 32106/37746 [1:31:30<18:13,  5.16it/s]"
     ]
    },
    {
     "name": "stdout",
     "output_type": "stream",
     "text": [
      "No soup for https://bacdive.dsmz.de/strain/161719No soup for https://bacdive.dsmz.de/strain/161731\n",
      "\n",
      "No soup for https://bacdive.dsmz.de/strain/133576\n",
      "No soup for https://bacdive.dsmz.de/strain/161744\n",
      "No soup for https://bacdive.dsmz.de/strain/161733\n",
      "No soup for https://bacdive.dsmz.de/strain/133552\n",
      "No soup for https://bacdive.dsmz.de/strain/161746\n",
      "No soup for https://bacdive.dsmz.de/strain/133621\n",
      "No soup for https://bacdive.dsmz.de/strain/161693\n",
      "No soup for https://bacdive.dsmz.de/strain/161715\n",
      "No soup for https://bacdive.dsmz.de/strain/161734\n",
      "No soup for https://bacdive.dsmz.de/strain/134217\n",
      "No soup for https://bacdive.dsmz.de/strain/133808\n",
      "No soup for https://bacdive.dsmz.de/strain/161670\n",
      "No soup for https://bacdive.dsmz.de/strain/161724\n",
      "No soup for https://bacdive.dsmz.de/strain/133653\n",
      "No soup for https://bacdive.dsmz.de/strain/161747\n",
      "No soup for https://bacdive.dsmz.de/strain/161708\n",
      "No soup for https://bacdive.dsmz.de/strain/161732\n",
      "No soup for https://bacdive.dsmz.de/strain/161651\n",
      "No soup for https://bacdive.dsmz.de/strain/161736\n",
      "No soup for https://bacdive.dsmz.de/strain/161735\n",
      "No soup for https://bacdive.dsmz.de/strain/161743\n",
      "No soup for https://bacdive.dsmz.de/strain/161730\n",
      "No soup for https://bacdive.dsmz.de/strain/161728\n",
      "No soup for https://bacdive.dsmz.de/strain/161691\n",
      "No soup for https://bacdive.dsmz.de/strain/161754\n",
      "No soup for https://bacdive.dsmz.de/strain/161748\n",
      "No soup for https://bacdive.dsmz.de/strain/161671\n",
      "No soup for https://bacdive.dsmz.de/strain/161757\n",
      "No soup for https://bacdive.dsmz.de/strain/161738\n",
      "No soup for https://bacdive.dsmz.de/strain/161767\n",
      "No soup for https://bacdive.dsmz.de/strain/148888\n",
      "No soup for https://bacdive.dsmz.de/strain/137052\n",
      "No soup for https://bacdive.dsmz.de/strain/161769\n",
      "No soup for https://bacdive.dsmz.de/strain/161749\n",
      "No soup for https://bacdive.dsmz.de/strain/161758\n",
      "No soup for https://bacdive.dsmz.de/strain/161764\n",
      "No soup for https://bacdive.dsmz.de/strain/161756\n",
      "No soup for https://bacdive.dsmz.de/strain/161763\n",
      "No soup for https://bacdive.dsmz.de/strain/161759\n",
      "No soup for https://bacdive.dsmz.de/strain/161709\n",
      "No soup for https://bacdive.dsmz.de/strain/161750\n",
      "No soup for https://bacdive.dsmz.de/strain/161727\n",
      "No soup for https://bacdive.dsmz.de/strain/161701\n",
      "No soup for https://bacdive.dsmz.de/strain/161771\n",
      "No soup for https://bacdive.dsmz.de/strain/161753\n",
      "No soup for https://bacdive.dsmz.de/strain/161740\n",
      "No soup for https://bacdive.dsmz.de/strain/161739\n",
      "No soup for https://bacdive.dsmz.de/strain/161768\n"
     ]
    },
    {
     "name": "stderr",
     "output_type": "stream",
     "text": [
      "DSMZ Catalogue link Progress:  85%|████████▌ | 32144/37746 [1:31:31<25:21,  3.68it/s]"
     ]
    },
    {
     "name": "stdout",
     "output_type": "stream",
     "text": [
      "No soup for https://bacdive.dsmz.de/strain/133538\n",
      "No soup for https://bacdive.dsmz.de/strain/161770\n",
      "No soup for https://bacdive.dsmz.de/strain/161751\n",
      "No soup for https://bacdive.dsmz.de/strain/161755\n",
      "No soup for https://bacdive.dsmz.de/strain/161772\n",
      "No soup for https://bacdive.dsmz.de/strain/133646\n",
      "No soup for https://bacdive.dsmz.de/strain/161752\n",
      "No soup for https://bacdive.dsmz.de/strain/143590\n",
      "No soup for https://bacdive.dsmz.de/strain/161765\n",
      "No soup for https://bacdive.dsmz.de/strain/133585\n",
      "No soup for https://bacdive.dsmz.de/strain/161766\n",
      "No soup for https://bacdive.dsmz.de/strain/161762\n",
      "No soup for https://bacdive.dsmz.de/strain/161760\n",
      "No soup for https://bacdive.dsmz.de/strain/161761\n",
      "No soup for https://bacdive.dsmz.de/strain/161775\n",
      "No soup for https://bacdive.dsmz.de/strain/161773\n",
      "No soup for https://bacdive.dsmz.de/strain/133584\n",
      "No soup for https://bacdive.dsmz.de/strain/161774\n",
      "No soup for https://bacdive.dsmz.de/strain/161778\n",
      "No soup for https://bacdive.dsmz.de/strain/134070\n",
      "No soup for https://bacdive.dsmz.de/strain/133555\n",
      "No soup for https://bacdive.dsmz.de/strain/161779\n",
      "No soup for https://bacdive.dsmz.de/strain/161776\n",
      "No soup for https://bacdive.dsmz.de/strain/133573\n",
      "No soup for https://bacdive.dsmz.de/strain/133617\n",
      "No soup for https://bacdive.dsmz.de/strain/141873\n",
      "No soup for https://bacdive.dsmz.de/strain/133574\n",
      "No soup for https://bacdive.dsmz.de/strain/133618\n",
      "No soup for https://bacdive.dsmz.de/strain/133620\n"
     ]
    },
    {
     "name": "stderr",
     "output_type": "stream",
     "text": [
      "DSMZ Catalogue link Progress:  85%|████████▌ | 32147/37746 [1:31:31<33:29,  2.79it/s]"
     ]
    },
    {
     "name": "stdout",
     "output_type": "stream",
     "text": [
      "No soup for https://bacdive.dsmz.de/strain/161780\n",
      "No soup for https://bacdive.dsmz.de/strain/161781\n"
     ]
    },
    {
     "name": "stderr",
     "output_type": "stream",
     "text": [
      "DSMZ Catalogue link Progress:  85%|████████▌ | 32150/37746 [1:31:32<33:28,  2.79it/s]"
     ]
    },
    {
     "name": "stdout",
     "output_type": "stream",
     "text": [
      "No soup for https://bacdive.dsmz.de/strain/161783\n",
      "No soup for https://bacdive.dsmz.de/strain/161777\n"
     ]
    },
    {
     "name": "stderr",
     "output_type": "stream",
     "text": [
      "DSMZ Catalogue link Progress:  85%|████████▌ | 32162/37746 [1:31:33<52:42,  1.77it/s]"
     ]
    },
    {
     "name": "stdout",
     "output_type": "stream",
     "text": [
      "No soup for https://bacdive.dsmz.de/strain/161784\n",
      "No soup for https://bacdive.dsmz.de/strain/161785\n",
      "No soup for https://bacdive.dsmz.de/strain/161782\n",
      "No soup for https://bacdive.dsmz.de/strain/161786\n",
      "No soup for https://bacdive.dsmz.de/strain/161788\n",
      "No soup for https://bacdive.dsmz.de/strain/161797\n",
      "No soup for https://bacdive.dsmz.de/strain/139521\n",
      "No soup for https://bacdive.dsmz.de/strain/161787\n",
      "No soup for https://bacdive.dsmz.de/strain/161789\n",
      "No soup for https://bacdive.dsmz.de/strain/161790\n",
      "No soup for https://bacdive.dsmz.de/strain/161800\n",
      "No soup for https://bacdive.dsmz.de/strain/161796\n",
      "No soup for https://bacdive.dsmz.de/strain/161791\n",
      "No soup for https://bacdive.dsmz.de/strain/161805\n",
      "No soup for https://bacdive.dsmz.de/strain/161799\n",
      "No soup for https://bacdive.dsmz.de/strain/133726\n",
      "No soup for https://bacdive.dsmz.de/strain/161803\n",
      "No soup for https://bacdive.dsmz.de/strain/161792\n"
     ]
    },
    {
     "name": "stderr",
     "output_type": "stream",
     "text": [
      "DSMZ Catalogue link Progress:  85%|████████▌ | 32186/37746 [1:31:33<59:32,  1.56it/s]"
     ]
    },
    {
     "name": "stdout",
     "output_type": "stream",
     "text": [
      "No soup for https://bacdive.dsmz.de/strain/161804No soup for https://bacdive.dsmz.de/strain/161802\n",
      "No soup for https://bacdive.dsmz.de/strain/161794\n",
      "No soup for https://bacdive.dsmz.de/strain/161806\n",
      "No soup for https://bacdive.dsmz.de/strain/161798\n",
      "\n",
      "No soup for https://bacdive.dsmz.de/strain/161795\n",
      "No soup for https://bacdive.dsmz.de/strain/161793\n",
      "No soup for https://bacdive.dsmz.de/strain/155796\n",
      "No soup for https://bacdive.dsmz.de/strain/161801\n",
      "No soup for https://bacdive.dsmz.de/strain/161812\n",
      "No soup for https://bacdive.dsmz.de/strain/161808\n",
      "No soup for https://bacdive.dsmz.de/strain/161807\n",
      "No soup for https://bacdive.dsmz.de/strain/161813\n",
      "No soup for https://bacdive.dsmz.de/strain/161814\n",
      "No soup for https://bacdive.dsmz.de/strain/161815\n",
      "No soup for https://bacdive.dsmz.de/strain/161816\n",
      "No soup for https://bacdive.dsmz.de/strain/161817\n",
      "No soup for https://bacdive.dsmz.de/strain/133630\n"
     ]
    },
    {
     "name": "stderr",
     "output_type": "stream",
     "text": [
      "DSMZ Catalogue link Progress:  85%|████████▌ | 32189/37746 [1:31:34<59:30,  1.56it/s]"
     ]
    },
    {
     "name": "stdout",
     "output_type": "stream",
     "text": [
      "No soup for https://bacdive.dsmz.de/strain/161809\n",
      "No soup for https://bacdive.dsmz.de/strain/161822\n",
      "No soup for https://bacdive.dsmz.de/strain/161821\n"
     ]
    },
    {
     "name": "stderr",
     "output_type": "stream",
     "text": [
      "DSMZ Catalogue link Progress:  85%|████████▌ | 32197/37746 [1:31:34<1:11:58,  1.28it/s]"
     ]
    },
    {
     "name": "stdout",
     "output_type": "stream",
     "text": [
      "No soup for https://bacdive.dsmz.de/strain/155979\n",
      "No soup for https://bacdive.dsmz.de/strain/161827\n",
      "No soup for https://bacdive.dsmz.de/strain/161810\n",
      "No soup for https://bacdive.dsmz.de/strain/161820\n",
      "No soup for https://bacdive.dsmz.de/strain/161819\n",
      "No soup for https://bacdive.dsmz.de/strain/161825\n",
      "No soup for https://bacdive.dsmz.de/strain/161811\n",
      "No soup for https://bacdive.dsmz.de/strain/161826\n",
      "No soup for https://bacdive.dsmz.de/strain/161828\n",
      "No soup for https://bacdive.dsmz.de/strain/161830\n",
      "No soup for https://bacdive.dsmz.de/strain/161829\n",
      "No soup for https://bacdive.dsmz.de/strain/161818\n",
      "No soup for https://bacdive.dsmz.de/strain/161832\n",
      "No soup for https://bacdive.dsmz.de/strain/133769\n",
      "No soup for https://bacdive.dsmz.de/strain/161831\n"
     ]
    },
    {
     "name": "stderr",
     "output_type": "stream",
     "text": [
      "DSMZ Catalogue link Progress:  85%|████████▌ | 32221/37746 [1:31:35<1:50:43,  1.20s/it]"
     ]
    },
    {
     "name": "stdout",
     "output_type": "stream",
     "text": [
      "No soup for https://bacdive.dsmz.de/strain/161836\n",
      "No soup for https://bacdive.dsmz.de/strain/161835\n",
      "No soup for https://bacdive.dsmz.de/strain/161837\n",
      "No soup for https://bacdive.dsmz.de/strain/161843\n",
      "No soup for https://bacdive.dsmz.de/strain/161823\n",
      "No soup for https://bacdive.dsmz.de/strain/133999\n",
      "No soup for https://bacdive.dsmz.de/strain/161834\n",
      "No soup for https://bacdive.dsmz.de/strain/161844\n",
      "No soup for https://bacdive.dsmz.de/strain/161833\n",
      "No soup for https://bacdive.dsmz.de/strain/161845\n",
      "No soup for https://bacdive.dsmz.de/strain/156203\n",
      "No soup for https://bacdive.dsmz.de/strain/161824\n",
      "No soup for https://bacdive.dsmz.de/strain/161847\n",
      "No soup for https://bacdive.dsmz.de/strain/161849\n",
      "No soup for https://bacdive.dsmz.de/strain/161850\n",
      "No soup for https://bacdive.dsmz.de/strain/161853\n",
      "No soup for https://bacdive.dsmz.de/strain/161854\n"
     ]
    },
    {
     "name": "stderr",
     "output_type": "stream",
     "text": [
      "DSMZ Catalogue link Progress:  85%|████████▌ | 32237/37746 [1:31:37<2:02:57,  1.34s/it]"
     ]
    },
    {
     "name": "stdout",
     "output_type": "stream",
     "text": [
      "No soup for https://bacdive.dsmz.de/strain/157136\n",
      "No soup for https://bacdive.dsmz.de/strain/161856\n",
      "No soup for https://bacdive.dsmz.de/strain/161859\n",
      "No soup for https://bacdive.dsmz.de/strain/161838\n",
      "No soup for https://bacdive.dsmz.de/strain/133810\n",
      "No soup for https://bacdive.dsmz.de/strain/161860\n",
      "No soup for https://bacdive.dsmz.de/strain/161839\n",
      "No soup for https://bacdive.dsmz.de/strain/161861\n",
      "No soup for https://bacdive.dsmz.de/strain/134367\n",
      "No soup for https://bacdive.dsmz.de/strain/133428\n",
      "No soup for https://bacdive.dsmz.de/strain/161846\n",
      "No soup for https://bacdive.dsmz.de/strain/133796\n",
      "No soup for https://bacdive.dsmz.de/strain/161857\n",
      "No soup for https://bacdive.dsmz.de/strain/133754\n",
      "No soup for https://bacdive.dsmz.de/strain/161848\n",
      "No soup for https://bacdive.dsmz.de/strain/133641\n"
     ]
    },
    {
     "name": "stderr",
     "output_type": "stream",
     "text": [
      "DSMZ Catalogue link Progress:  85%|████████▌ | 32253/37746 [1:31:38<2:55:41,  1.92s/it]"
     ]
    },
    {
     "name": "stdout",
     "output_type": "stream",
     "text": [
      "No soup for https://bacdive.dsmz.de/strain/161876\n",
      "No soup for https://bacdive.dsmz.de/strain/161871\n",
      "No soup for https://bacdive.dsmz.de/strain/161852\n",
      "No soup for https://bacdive.dsmz.de/strain/161864\n",
      "No soup for https://bacdive.dsmz.de/strain/161865\n",
      "No soup for https://bacdive.dsmz.de/strain/161858\n",
      "No soup for https://bacdive.dsmz.de/strain/161867\n",
      "No soup for https://bacdive.dsmz.de/strain/161863\n",
      "No soup for https://bacdive.dsmz.de/strain/161877\n",
      "No soup for https://bacdive.dsmz.de/strain/161870\n",
      "No soup for https://bacdive.dsmz.de/strain/135559\n",
      "No soup for https://bacdive.dsmz.de/strain/161862\n",
      "No soup for https://bacdive.dsmz.de/strain/161851\n",
      "No soup for https://bacdive.dsmz.de/strain/161855\n",
      "No soup for https://bacdive.dsmz.de/strain/161874\n",
      "No soup for https://bacdive.dsmz.de/strain/161873\n",
      "No soup for https://bacdive.dsmz.de/strain/140736\n",
      "No soup for https://bacdive.dsmz.de/strain/133709\n",
      "No soup for https://bacdive.dsmz.de/strain/134016\n"
     ]
    },
    {
     "name": "stderr",
     "output_type": "stream",
     "text": [
      "DSMZ Catalogue link Progress:  85%|████████▌ | 32263/37746 [1:31:38<2:22:29,  1.56s/it]"
     ]
    },
    {
     "name": "stdout",
     "output_type": "stream",
     "text": [
      "No soup for https://bacdive.dsmz.de/strain/140666No soup for https://bacdive.dsmz.de/strain/140656\n",
      "\n",
      "No soup for https://bacdive.dsmz.de/strain/161866\n",
      "No soup for https://bacdive.dsmz.de/strain/140621\n",
      "No soup for https://bacdive.dsmz.de/strain/133720\n",
      "No soup for https://bacdive.dsmz.de/strain/161880\n",
      "No soup for https://bacdive.dsmz.de/strain/161881\n",
      "No soup for https://bacdive.dsmz.de/strain/161729\n",
      "No soup for https://bacdive.dsmz.de/strain/24191\n"
     ]
    },
    {
     "name": "stderr",
     "output_type": "stream",
     "text": [
      "DSMZ Catalogue link Progress:  85%|████████▌ | 32269/37746 [1:31:39<7:42:42,  5.07s/it]"
     ]
    },
    {
     "name": "stdout",
     "output_type": "stream",
     "text": [
      "No soup for https://bacdive.dsmz.de/strain/161888\n",
      "No soup for https://bacdive.dsmz.de/strain/161884\n",
      "No soup for https://bacdive.dsmz.de/strain/161885\n",
      "No soup for https://bacdive.dsmz.de/strain/161889\n"
     ]
    },
    {
     "name": "stderr",
     "output_type": "stream",
     "text": [
      "DSMZ Catalogue link Progress:  86%|████████▌ | 32273/37746 [1:31:39<3:10:29,  2.09s/it]"
     ]
    },
    {
     "name": "stdout",
     "output_type": "stream",
     "text": [
      "No soup for https://bacdive.dsmz.de/strain/161891\n",
      "No soup for https://bacdive.dsmz.de/strain/133963\n",
      "No soup for https://bacdive.dsmz.de/strain/155906\n",
      "No soup for https://bacdive.dsmz.de/strain/161878\n"
     ]
    },
    {
     "name": "stderr",
     "output_type": "stream",
     "text": [
      "DSMZ Catalogue link Progress:  86%|████████▌ | 32277/37746 [1:31:39<1:30:59,  1.00it/s]"
     ]
    },
    {
     "name": "stdout",
     "output_type": "stream",
     "text": [
      "No soup for https://bacdive.dsmz.de/strain/161894No soup for https://bacdive.dsmz.de/strain/155907\n",
      "\n",
      "No soup for https://bacdive.dsmz.de/strain/161895\n",
      "No soup for https://bacdive.dsmz.de/strain/161882\n",
      "No soup for https://bacdive.dsmz.de/strain/161893\n",
      "No soup for https://bacdive.dsmz.de/strain/140490\n"
     ]
    },
    {
     "name": "stderr",
     "output_type": "stream",
     "text": [
      "DSMZ Catalogue link Progress:  86%|████████▌ | 32283/37746 [1:31:39<42:03,  2.17it/s]  "
     ]
    },
    {
     "name": "stdout",
     "output_type": "stream",
     "text": [
      "No soup for https://bacdive.dsmz.de/strain/161879\n",
      "No soup for https://bacdive.dsmz.de/strain/161883\n",
      "No soup for https://bacdive.dsmz.de/strain/161896\n",
      "No soup for https://bacdive.dsmz.de/strain/161897\n"
     ]
    },
    {
     "name": "stderr",
     "output_type": "stream",
     "text": [
      "DSMZ Catalogue link Progress:  86%|████████▌ | 32285/37746 [1:31:40<34:49,  2.61it/s]"
     ]
    },
    {
     "name": "stdout",
     "output_type": "stream",
     "text": [
      "No soup for https://bacdive.dsmz.de/strain/161898\n",
      "No soup for https://bacdive.dsmz.de/strain/161890\n",
      "No soup for https://bacdive.dsmz.de/strain/161899\n"
     ]
    },
    {
     "name": "stderr",
     "output_type": "stream",
     "text": [
      "DSMZ Catalogue link Progress:  86%|████████▌ | 32290/37746 [1:31:40<22:05,  4.12it/s]"
     ]
    },
    {
     "name": "stdout",
     "output_type": "stream",
     "text": [
      "No soup for https://bacdive.dsmz.de/strain/161904\n",
      "No soup for https://bacdive.dsmz.de/strain/161913\n",
      "No soup for https://bacdive.dsmz.de/strain/161902\n",
      "No soup for https://bacdive.dsmz.de/strain/161928\n"
     ]
    },
    {
     "name": "stderr",
     "output_type": "stream",
     "text": [
      "DSMZ Catalogue link Progress:  86%|████████▌ | 32292/37746 [1:31:41<18:35,  4.89it/s]"
     ]
    },
    {
     "name": "stdout",
     "output_type": "stream",
     "text": [
      "No soup for https://bacdive.dsmz.de/strain/161912\n",
      "No soup for https://bacdive.dsmz.de/strain/161906\n"
     ]
    },
    {
     "name": "stderr",
     "output_type": "stream",
     "text": [
      "DSMZ Catalogue link Progress:  86%|████████▌ | 32295/37746 [1:31:41<13:44,  6.61it/s]"
     ]
    },
    {
     "name": "stdout",
     "output_type": "stream",
     "text": [
      "No soup for https://bacdive.dsmz.de/strain/161927\n",
      "No soup for https://bacdive.dsmz.de/strain/161923\n",
      "No soup for https://bacdive.dsmz.de/strain/161924\n",
      "No soup for https://bacdive.dsmz.de/strain/133476\n",
      "No soup for https://bacdive.dsmz.de/strain/133717\n",
      "No soup for https://bacdive.dsmz.de/strain/161921\n",
      "No soup for https://bacdive.dsmz.de/strain/161929\n",
      "No soup for https://bacdive.dsmz.de/strain/161926\n",
      "No soup for https://bacdive.dsmz.de/strain/161900\n"
     ]
    },
    {
     "name": "stderr",
     "output_type": "stream",
     "text": [
      "DSMZ Catalogue link Progress:  86%|████████▌ | 32328/37746 [1:31:41<02:20, 38.58it/s]"
     ]
    },
    {
     "name": "stdout",
     "output_type": "stream",
     "text": [
      "No soup for https://bacdive.dsmz.de/strain/161920No soup for https://bacdive.dsmz.de/strain/161930\n",
      "\n",
      "No soup for https://bacdive.dsmz.de/strain/133667\n",
      "No soup for https://bacdive.dsmz.de/strain/161934\n",
      "No soup for https://bacdive.dsmz.de/strain/161905\n",
      "No soup for https://bacdive.dsmz.de/strain/161901\n",
      "No soup for https://bacdive.dsmz.de/strain/161931\n",
      "No soup for https://bacdive.dsmz.de/strain/161935\n",
      "No soup for https://bacdive.dsmz.de/strain/161903\n",
      "No soup for https://bacdive.dsmz.de/strain/161911\n",
      "No soup for https://bacdive.dsmz.de/strain/133734\n",
      "No soup for https://bacdive.dsmz.de/strain/161919\n",
      "No soup for https://bacdive.dsmz.de/strain/161915\n",
      "No soup for https://bacdive.dsmz.de/strain/161909\n",
      "No soup for https://bacdive.dsmz.de/strain/161922\n",
      "No soup for https://bacdive.dsmz.de/strain/161908\n",
      "No soup for https://bacdive.dsmz.de/strain/161917\n",
      "No soup for https://bacdive.dsmz.de/strain/161933\n",
      "No soup for https://bacdive.dsmz.de/strain/161937\n",
      "No soup for https://bacdive.dsmz.de/strain/161941\n",
      "No soup for https://bacdive.dsmz.de/strain/161932\n",
      "No soup for https://bacdive.dsmz.de/strain/133735\n",
      "No soup for https://bacdive.dsmz.de/strain/161925\n",
      "No soup for https://bacdive.dsmz.de/strain/161918\n",
      "No soup for https://bacdive.dsmz.de/strain/168722\n",
      "No soup for https://bacdive.dsmz.de/strain/161944\n",
      "No soup for https://bacdive.dsmz.de/strain/161936\n"
     ]
    },
    {
     "name": "stderr",
     "output_type": "stream",
     "text": [
      "DSMZ Catalogue link Progress:  86%|████████▌ | 32332/37746 [1:31:42<02:54, 30.97it/s]"
     ]
    },
    {
     "name": "stdout",
     "output_type": "stream",
     "text": [
      "No soup for https://bacdive.dsmz.de/strain/161907\n",
      "No soup for https://bacdive.dsmz.de/strain/133807\n",
      "No soup for https://bacdive.dsmz.de/strain/158582\n",
      "No soup for https://bacdive.dsmz.de/strain/161939\n",
      "No soup for https://bacdive.dsmz.de/strain/133477\n",
      "No soup for https://bacdive.dsmz.de/strain/161914\n",
      "No soup for https://bacdive.dsmz.de/strain/161952\n",
      "No soup for https://bacdive.dsmz.de/strain/161943\n",
      "No soup for https://bacdive.dsmz.de/strain/161953\n",
      "No soup for https://bacdive.dsmz.de/strain/161983\n",
      "No soup for https://bacdive.dsmz.de/strain/161972\n",
      "No soup for https://bacdive.dsmz.de/strain/161942\n",
      "No soup for https://bacdive.dsmz.de/strain/161976\n",
      "No soup for https://bacdive.dsmz.de/strain/161971\n",
      "No soup for https://bacdive.dsmz.de/strain/161948\n",
      "No soup for https://bacdive.dsmz.de/strain/161992\n",
      "No soup for https://bacdive.dsmz.de/strain/161940\n",
      "No soup for https://bacdive.dsmz.de/strain/161969\n"
     ]
    },
    {
     "name": "stderr",
     "output_type": "stream",
     "text": [
      "DSMZ Catalogue link Progress:  86%|████████▌ | 32389/37746 [1:31:43<05:37, 15.86it/s]"
     ]
    },
    {
     "name": "stdout",
     "output_type": "stream",
     "text": [
      "No soup for https://bacdive.dsmz.de/strain/161966No soup for https://bacdive.dsmz.de/strain/161964\n",
      "No soup for https://bacdive.dsmz.de/strain/161965\n",
      "No soup for https://bacdive.dsmz.de/strain/161962\n",
      "No soup for https://bacdive.dsmz.de/strain/161981\n",
      "No soup for https://bacdive.dsmz.de/strain/161967\n",
      "No soup for https://bacdive.dsmz.de/strain/161947\n",
      "No soup for https://bacdive.dsmz.de/strain/161950\n",
      "No soup for https://bacdive.dsmz.de/strain/161979\n",
      "No soup for https://bacdive.dsmz.de/strain/161975\n",
      "No soup for https://bacdive.dsmz.de/strain/161946\n",
      "No soup for https://bacdive.dsmz.de/strain/161980\n",
      "No soup for https://bacdive.dsmz.de/strain/161970\n",
      "No soup for https://bacdive.dsmz.de/strain/161951\n",
      "No soup for https://bacdive.dsmz.de/strain/161955\n",
      "No soup for https://bacdive.dsmz.de/strain/161977\n",
      "No soup for https://bacdive.dsmz.de/strain/161963\n",
      "No soup for https://bacdive.dsmz.de/strain/161960\n",
      "No soup for https://bacdive.dsmz.de/strain/161957\n",
      "No soup for https://bacdive.dsmz.de/strain/161958\n",
      "No soup for https://bacdive.dsmz.de/strain/161973\n",
      "No soup for https://bacdive.dsmz.de/strain/161949\n",
      "No soup for https://bacdive.dsmz.de/strain/161989\n",
      "No soup for https://bacdive.dsmz.de/strain/161978\n",
      "\n",
      "No soup for https://bacdive.dsmz.de/strain/133655\n",
      "No soup for https://bacdive.dsmz.de/strain/161968\n",
      "No soup for https://bacdive.dsmz.de/strain/161986\n",
      "No soup for https://bacdive.dsmz.de/strain/161996\n",
      "No soup for https://bacdive.dsmz.de/strain/161982\n",
      "No soup for https://bacdive.dsmz.de/strain/161974\n",
      "No soup for https://bacdive.dsmz.de/strain/161938\n",
      "No soup for https://bacdive.dsmz.de/strain/133713\n",
      "No soup for https://bacdive.dsmz.de/strain/161993\n",
      "No soup for https://bacdive.dsmz.de/strain/161984\n",
      "No soup for https://bacdive.dsmz.de/strain/133656\n",
      "No soup for https://bacdive.dsmz.de/strain/161954\n",
      "No soup for https://bacdive.dsmz.de/strain/161961\n",
      "No soup for https://bacdive.dsmz.de/strain/161988\n",
      "No soup for https://bacdive.dsmz.de/strain/133732\n",
      "No soup for https://bacdive.dsmz.de/strain/161945\n",
      "No soup for https://bacdive.dsmz.de/strain/162009\n",
      "No soup for https://bacdive.dsmz.de/strain/162010\n",
      "No soup for https://bacdive.dsmz.de/strain/162039\n",
      "No soup for https://bacdive.dsmz.de/strain/161990\n",
      "No soup for https://bacdive.dsmz.de/strain/161991\n",
      "No soup for https://bacdive.dsmz.de/strain/161994\n",
      "No soup for https://bacdive.dsmz.de/strain/134075\n",
      "No soup for https://bacdive.dsmz.de/strain/161959\n",
      "No soup for https://bacdive.dsmz.de/strain/162011\n",
      "No soup for https://bacdive.dsmz.de/strain/161998\n",
      "No soup for https://bacdive.dsmz.de/strain/162013\n",
      "No soup for https://bacdive.dsmz.de/strain/162003\n"
     ]
    },
    {
     "name": "stderr",
     "output_type": "stream",
     "text": [
      "DSMZ Catalogue link Progress:  86%|████████▌ | 32403/37746 [1:31:44<13:16,  6.70it/s]"
     ]
    },
    {
     "name": "stdout",
     "output_type": "stream",
     "text": [
      "No soup for https://bacdive.dsmz.de/strain/162006\n",
      "No soup for https://bacdive.dsmz.de/strain/162001\n",
      "No soup for https://bacdive.dsmz.de/strain/133714\n",
      "No soup for https://bacdive.dsmz.de/strain/133753\n",
      "No soup for https://bacdive.dsmz.de/strain/162015\n"
     ]
    },
    {
     "name": "stderr",
     "output_type": "stream",
     "text": [
      "DSMZ Catalogue link Progress:  86%|████████▌ | 32409/37746 [1:31:44<09:00,  9.87it/s]"
     ]
    },
    {
     "name": "stdout",
     "output_type": "stream",
     "text": [
      "No soup for https://bacdive.dsmz.de/strain/162005\n",
      "No soup for https://bacdive.dsmz.de/strain/161916\n",
      "No soup for https://bacdive.dsmz.de/strain/133700\n",
      "No soup for https://bacdive.dsmz.de/strain/162032\n",
      "No soup for https://bacdive.dsmz.de/strain/162018\n",
      "No soup for https://bacdive.dsmz.de/strain/162004\n",
      "No soup for https://bacdive.dsmz.de/strain/161910\n"
     ]
    },
    {
     "name": "stderr",
     "output_type": "stream",
     "text": [
      "DSMZ Catalogue link Progress:  86%|████████▌ | 32412/37746 [1:31:44<07:48, 11.39it/s]"
     ]
    },
    {
     "name": "stdout",
     "output_type": "stream",
     "text": [
      "No soup for https://bacdive.dsmz.de/strain/161999\n",
      "No soup for https://bacdive.dsmz.de/strain/161995\n",
      "No soup for https://bacdive.dsmz.de/strain/162000\n",
      "No soup for https://bacdive.dsmz.de/strain/161997\n",
      "No soup for https://bacdive.dsmz.de/strain/162026\n",
      "No soup for https://bacdive.dsmz.de/strain/161985\n",
      "No soup for https://bacdive.dsmz.de/strain/162035\n",
      "No soup for https://bacdive.dsmz.de/strain/162017\n"
     ]
    },
    {
     "name": "stderr",
     "output_type": "stream",
     "text": [
      "DSMZ Catalogue link Progress:  86%|████████▌ | 32463/37746 [1:31:46<02:42, 32.51it/s]"
     ]
    },
    {
     "name": "stdout",
     "output_type": "stream",
     "text": [
      "No soup for https://bacdive.dsmz.de/strain/162040No soup for https://bacdive.dsmz.de/strain/161987\n",
      "No soup for https://bacdive.dsmz.de/strain/162030\n",
      "No soup for https://bacdive.dsmz.de/strain/162042\n",
      "No soup for https://bacdive.dsmz.de/strain/162020\n",
      "No soup for https://bacdive.dsmz.de/strain/162037\n",
      "\n",
      "No soup for https://bacdive.dsmz.de/strain/162041\n",
      "No soup for https://bacdive.dsmz.de/strain/162043\n",
      "No soup for https://bacdive.dsmz.de/strain/133673\n",
      "No soup for https://bacdive.dsmz.de/strain/162012\n",
      "No soup for https://bacdive.dsmz.de/strain/162045\n",
      "No soup for https://bacdive.dsmz.de/strain/162034\n",
      "No soup for https://bacdive.dsmz.de/strain/162027\n",
      "No soup for https://bacdive.dsmz.de/strain/162019\n",
      "No soup for https://bacdive.dsmz.de/strain/162033\n",
      "No soup for https://bacdive.dsmz.de/strain/162036\n",
      "No soup for https://bacdive.dsmz.de/strain/162024\n",
      "No soup for https://bacdive.dsmz.de/strain/134059\n",
      "No soup for https://bacdive.dsmz.de/strain/162022\n",
      "No soup for https://bacdive.dsmz.de/strain/133669\n",
      "No soup for https://bacdive.dsmz.de/strain/162002\n",
      "No soup for https://bacdive.dsmz.de/strain/133906\n",
      "No soup for https://bacdive.dsmz.de/strain/133725\n",
      "No soup for https://bacdive.dsmz.de/strain/162021\n",
      "No soup for https://bacdive.dsmz.de/strain/162044\n",
      "No soup for https://bacdive.dsmz.de/strain/133819\n",
      "No soup for https://bacdive.dsmz.de/strain/162029\n",
      "No soup for https://bacdive.dsmz.de/strain/134076\n",
      "No soup for https://bacdive.dsmz.de/strain/133672\n",
      "No soup for https://bacdive.dsmz.de/strain/133929\n",
      "No soup for https://bacdive.dsmz.de/strain/133861\n",
      "No soup for https://bacdive.dsmz.de/strain/133768\n",
      "No soup for https://bacdive.dsmz.de/strain/162025\n",
      "No soup for https://bacdive.dsmz.de/strain/162038\n",
      "No soup for https://bacdive.dsmz.de/strain/162031\n",
      "No soup for https://bacdive.dsmz.de/strain/133890\n",
      "No soup for https://bacdive.dsmz.de/strain/133772\n",
      "No soup for https://bacdive.dsmz.de/strain/134144\n",
      "No soup for https://bacdive.dsmz.de/strain/162028\n",
      "No soup for https://bacdive.dsmz.de/strain/133879\n",
      "No soup for https://bacdive.dsmz.de/strain/162016\n",
      "No soup for https://bacdive.dsmz.de/strain/133755\n",
      "No soup for https://bacdive.dsmz.de/strain/133756\n",
      "No soup for https://bacdive.dsmz.de/strain/133677\n",
      "No soup for https://bacdive.dsmz.de/strain/140978\n"
     ]
    },
    {
     "name": "stderr",
     "output_type": "stream",
     "text": [
      "DSMZ Catalogue link Progress:  86%|████████▌ | 32467/37746 [1:31:46<03:04, 28.65it/s]"
     ]
    },
    {
     "name": "stdout",
     "output_type": "stream",
     "text": [
      "No soup for https://bacdive.dsmz.de/strain/162084\n",
      "No soup for https://bacdive.dsmz.de/strain/162063\n",
      "No soup for https://bacdive.dsmz.de/strain/162076\n",
      "No soup for https://bacdive.dsmz.de/strain/162059\n"
     ]
    },
    {
     "name": "stderr",
     "output_type": "stream",
     "text": [
      "DSMZ Catalogue link Progress:  86%|████████▌ | 32476/37746 [1:31:47<02:58, 29.53it/s]"
     ]
    },
    {
     "name": "stdout",
     "output_type": "stream",
     "text": [
      "No soup for https://bacdive.dsmz.de/strain/162083No soup for https://bacdive.dsmz.de/strain/162096\n",
      "\n",
      "No soup for https://bacdive.dsmz.de/strain/162049\n",
      "No soup for https://bacdive.dsmz.de/strain/162068\n",
      "No soup for https://bacdive.dsmz.de/strain/162078\n",
      "No soup for https://bacdive.dsmz.de/strain/162091\n",
      "No soup for https://bacdive.dsmz.de/strain/162058\n",
      "No soup for https://bacdive.dsmz.de/strain/133782\n",
      "No soup for https://bacdive.dsmz.de/strain/162054\n",
      "No soup for https://bacdive.dsmz.de/strain/162060\n"
     ]
    },
    {
     "name": "stderr",
     "output_type": "stream",
     "text": [
      "DSMZ Catalogue link Progress:  86%|████████▌ | 32483/37746 [1:31:47<02:45, 31.81it/s]"
     ]
    },
    {
     "name": "stdout",
     "output_type": "stream",
     "text": [
      "No soup for https://bacdive.dsmz.de/strain/162101\n",
      "No soup for https://bacdive.dsmz.de/strain/162088\n",
      "No soup for https://bacdive.dsmz.de/strain/162073\n",
      "No soup for https://bacdive.dsmz.de/strain/162056\n",
      "No soup for https://bacdive.dsmz.de/strain/162089\n",
      "No soup for https://bacdive.dsmz.de/strain/162080\n",
      "No soup for https://bacdive.dsmz.de/strain/162070\n",
      "No soup for https://bacdive.dsmz.de/strain/162103\n"
     ]
    },
    {
     "name": "stderr",
     "output_type": "stream",
     "text": [
      "DSMZ Catalogue link Progress:  86%|████████▌ | 32493/37746 [1:31:47<02:47, 31.43it/s]"
     ]
    },
    {
     "name": "stdout",
     "output_type": "stream",
     "text": [
      "No soup for https://bacdive.dsmz.de/strain/133606\n",
      "No soup for https://bacdive.dsmz.de/strain/162090\n",
      "No soup for https://bacdive.dsmz.de/strain/162064\n",
      "No soup for https://bacdive.dsmz.de/strain/162057\n",
      "No soup for https://bacdive.dsmz.de/strain/162093\n",
      "No soup for https://bacdive.dsmz.de/strain/162095\n",
      "No soup for https://bacdive.dsmz.de/strain/162081\n",
      "No soup for https://bacdive.dsmz.de/strain/162069\n",
      "No soup for https://bacdive.dsmz.de/strain/162100\n",
      "No soup for https://bacdive.dsmz.de/strain/162098\n",
      "No soup for https://bacdive.dsmz.de/strain/162066\n",
      "No soup for https://bacdive.dsmz.de/strain/162065\n",
      "No soup for https://bacdive.dsmz.de/strain/162051\n",
      "No soup for https://bacdive.dsmz.de/strain/133812\n"
     ]
    },
    {
     "name": "stderr",
     "output_type": "stream",
     "text": [
      "DSMZ Catalogue link Progress:  86%|████████▌ | 32531/37746 [1:31:48<02:48, 30.93it/s]"
     ]
    },
    {
     "name": "stdout",
     "output_type": "stream",
     "text": [
      "No soup for https://bacdive.dsmz.de/strain/162053No soup for https://bacdive.dsmz.de/strain/162067\n",
      "\n",
      "No soup for https://bacdive.dsmz.de/strain/162055\n",
      "No soup for https://bacdive.dsmz.de/strain/162052\n",
      "No soup for https://bacdive.dsmz.de/strain/162087\n",
      "No soup for https://bacdive.dsmz.de/strain/162074\n",
      "No soup for https://bacdive.dsmz.de/strain/162061\n",
      "No soup for https://bacdive.dsmz.de/strain/162062\n",
      "No soup for https://bacdive.dsmz.de/strain/162071\n",
      "No soup for https://bacdive.dsmz.de/strain/162072\n",
      "No soup for https://bacdive.dsmz.de/strain/133783\n",
      "No soup for https://bacdive.dsmz.de/strain/162094\n",
      "No soup for https://bacdive.dsmz.de/strain/133845\n",
      "No soup for https://bacdive.dsmz.de/strain/133745\n",
      "No soup for https://bacdive.dsmz.de/strain/162102\n",
      "No soup for https://bacdive.dsmz.de/strain/162085\n",
      "No soup for https://bacdive.dsmz.de/strain/162092\n",
      "No soup for https://bacdive.dsmz.de/strain/162086\n",
      "No soup for https://bacdive.dsmz.de/strain/162104\n",
      "No soup for https://bacdive.dsmz.de/strain/133920\n",
      "No soup for https://bacdive.dsmz.de/strain/162082\n",
      "No soup for https://bacdive.dsmz.de/strain/133850\n",
      "No soup for https://bacdive.dsmz.de/strain/162048\n",
      "No soup for https://bacdive.dsmz.de/strain/162106\n",
      "No soup for https://bacdive.dsmz.de/strain/162046\n",
      "No soup for https://bacdive.dsmz.de/strain/162075\n",
      "No soup for https://bacdive.dsmz.de/strain/133747\n",
      "No soup for https://bacdive.dsmz.de/strain/133869\n",
      "No soup for https://bacdive.dsmz.de/strain/162077\n",
      "No soup for https://bacdive.dsmz.de/strain/162097\n",
      "No soup for https://bacdive.dsmz.de/strain/133788\n",
      "No soup for https://bacdive.dsmz.de/strain/162127\n",
      "No soup for https://bacdive.dsmz.de/strain/162050\n",
      "No soup for https://bacdive.dsmz.de/strain/133887\n",
      "No soup for https://bacdive.dsmz.de/strain/162113\n",
      "No soup for https://bacdive.dsmz.de/strain/134002\n",
      "No soup for https://bacdive.dsmz.de/strain/162107\n",
      "No soup for https://bacdive.dsmz.de/strain/133581\n",
      "No soup for https://bacdive.dsmz.de/strain/140616\n"
     ]
    },
    {
     "name": "stderr",
     "output_type": "stream",
     "text": [
      "DSMZ Catalogue link Progress:  86%|████████▌ | 32542/37746 [1:31:49<05:01, 17.24it/s]"
     ]
    },
    {
     "name": "stdout",
     "output_type": "stream",
     "text": [
      "No soup for https://bacdive.dsmz.de/strain/162099\n",
      "No soup for https://bacdive.dsmz.de/strain/133746\n",
      "No soup for https://bacdive.dsmz.de/strain/162112\n",
      "No soup for https://bacdive.dsmz.de/strain/162116\n",
      "No soup for https://bacdive.dsmz.de/strain/162109\n",
      "No soup for https://bacdive.dsmz.de/strain/162105\n"
     ]
    },
    {
     "name": "stderr",
     "output_type": "stream",
     "text": [
      "DSMZ Catalogue link Progress:  86%|████████▌ | 32549/37746 [1:31:49<05:02, 17.16it/s]"
     ]
    },
    {
     "name": "stdout",
     "output_type": "stream",
     "text": [
      "No soup for https://bacdive.dsmz.de/strain/162124\n",
      "No soup for https://bacdive.dsmz.de/strain/162111\n",
      "No soup for https://bacdive.dsmz.de/strain/162123\n",
      "No soup for https://bacdive.dsmz.de/strain/133787\n",
      "No soup for https://bacdive.dsmz.de/strain/162133\n",
      "No soup for https://bacdive.dsmz.de/strain/162108\n"
     ]
    },
    {
     "name": "stderr",
     "output_type": "stream",
     "text": [
      "DSMZ Catalogue link Progress:  86%|████████▌ | 32555/37746 [1:31:49<03:23, 25.49it/s]"
     ]
    },
    {
     "name": "stdout",
     "output_type": "stream",
     "text": [
      "No soup for https://bacdive.dsmz.de/strain/133798No soup for https://bacdive.dsmz.de/strain/162117\n",
      "\n",
      "No soup for https://bacdive.dsmz.de/strain/134031\n",
      "No soup for https://bacdive.dsmz.de/strain/133758\n",
      "No soup for https://bacdive.dsmz.de/strain/133784\n",
      "No soup for https://bacdive.dsmz.de/strain/162130\n",
      "No soup for https://bacdive.dsmz.de/strain/162114\n",
      "No soup for https://bacdive.dsmz.de/strain/133790\n",
      "No soup for https://bacdive.dsmz.de/strain/133864\n",
      "No soup for https://bacdive.dsmz.de/strain/133708\n",
      "No soup for https://bacdive.dsmz.de/strain/162132\n",
      "No soup for https://bacdive.dsmz.de/strain/133744\n",
      "No soup for https://bacdive.dsmz.de/strain/162131\n",
      "No soup for https://bacdive.dsmz.de/strain/162118\n",
      "No soup for https://bacdive.dsmz.de/strain/162125\n",
      "No soup for https://bacdive.dsmz.de/strain/162126\n",
      "No soup for https://bacdive.dsmz.de/strain/162135\n",
      "No soup for https://bacdive.dsmz.de/strain/162119\n"
     ]
    },
    {
     "name": "stderr",
     "output_type": "stream",
     "text": [
      "DSMZ Catalogue link Progress:  86%|████████▋ | 32572/37746 [1:31:49<02:24, 35.79it/s]"
     ]
    },
    {
     "name": "stdout",
     "output_type": "stream",
     "text": [
      "No soup for https://bacdive.dsmz.de/strain/162128\n",
      "No soup for https://bacdive.dsmz.de/strain/140482\n",
      "No soup for https://bacdive.dsmz.de/strain/162129\n",
      "No soup for https://bacdive.dsmz.de/strain/162120\n",
      "No soup for https://bacdive.dsmz.de/strain/133811\n",
      "No soup for https://bacdive.dsmz.de/strain/133743\n",
      "No soup for https://bacdive.dsmz.de/strain/162156\n",
      "No soup for https://bacdive.dsmz.de/strain/133791\n",
      "No soup for https://bacdive.dsmz.de/strain/133814\n",
      "No soup for https://bacdive.dsmz.de/strain/162143\n",
      "No soup for https://bacdive.dsmz.de/strain/133847\n",
      "No soup for https://bacdive.dsmz.de/strain/133966\n",
      "No soup for https://bacdive.dsmz.de/strain/133277\n",
      "No soup for https://bacdive.dsmz.de/strain/162158\n",
      "No soup for https://bacdive.dsmz.de/strain/140406\n",
      "No soup for https://bacdive.dsmz.de/strain/162138\n",
      "No soup for https://bacdive.dsmz.de/strain/162142\n",
      "No soup for https://bacdive.dsmz.de/strain/134072\n",
      "No soup for https://bacdive.dsmz.de/strain/134030\n",
      "No soup for https://bacdive.dsmz.de/strain/162121\n",
      "No soup for https://bacdive.dsmz.de/strain/133762\n",
      "No soup for https://bacdive.dsmz.de/strain/134066\n",
      "No soup for https://bacdive.dsmz.de/strain/162153\n",
      "No soup for https://bacdive.dsmz.de/strain/133848\n",
      "No soup for https://bacdive.dsmz.de/strain/133835\n",
      "No soup for https://bacdive.dsmz.de/strain/162144\n",
      "No soup for https://bacdive.dsmz.de/strain/162140\n",
      "No soup for https://bacdive.dsmz.de/strain/140464\n",
      "No soup for https://bacdive.dsmz.de/strain/162110\n",
      "No soup for https://bacdive.dsmz.de/strain/162155\n",
      "No soup for https://bacdive.dsmz.de/strain/133789\n",
      "No soup for https://bacdive.dsmz.de/strain/162122\n",
      "No soup for https://bacdive.dsmz.de/strain/162150\n",
      "No soup for https://bacdive.dsmz.de/strain/133943\n",
      "No soup for https://bacdive.dsmz.de/strain/162141\n",
      "No soup for https://bacdive.dsmz.de/strain/162167\n",
      "No soup for https://bacdive.dsmz.de/strain/162149\n",
      "No soup for https://bacdive.dsmz.de/strain/133822\n",
      "No soup for https://bacdive.dsmz.de/strain/162139\n",
      "No soup for https://bacdive.dsmz.de/strain/162134\n",
      "No soup for https://bacdive.dsmz.de/strain/162146\n",
      "No soup for https://bacdive.dsmz.de/strain/162136\n",
      "No soup for https://bacdive.dsmz.de/strain/133838\n",
      "No soup for https://bacdive.dsmz.de/strain/133127\n",
      "No soup for https://bacdive.dsmz.de/strain/133901\n",
      "No soup for https://bacdive.dsmz.de/strain/162172\n",
      "No soup for https://bacdive.dsmz.de/strain/162147\n",
      "No soup for https://bacdive.dsmz.de/strain/162168\n",
      "No soup for https://bacdive.dsmz.de/strain/133995\n",
      "No soup for https://bacdive.dsmz.de/strain/162159\n",
      "No soup for https://bacdive.dsmz.de/strain/134054\n",
      "No soup for https://bacdive.dsmz.de/strain/133824\n",
      "No soup for https://bacdive.dsmz.de/strain/162151\n",
      "No soup for https://bacdive.dsmz.de/strain/162148\n",
      "No soup for https://bacdive.dsmz.de/strain/162152\n"
     ]
    },
    {
     "name": "stderr",
     "output_type": "stream",
     "text": [
      "DSMZ Catalogue link Progress:  86%|████████▋ | 32638/37746 [1:31:51<13:51,  6.15it/s]"
     ]
    },
    {
     "name": "stdout",
     "output_type": "stream",
     "text": [
      "No soup for https://bacdive.dsmz.de/strain/162162No soup for https://bacdive.dsmz.de/strain/162169\n",
      "No soup for https://bacdive.dsmz.de/strain/162154\n",
      "No soup for https://bacdive.dsmz.de/strain/162163\n",
      "No soup for https://bacdive.dsmz.de/strain/162137\n",
      "No soup for https://bacdive.dsmz.de/strain/162176\n",
      "No soup for https://bacdive.dsmz.de/strain/134053\n",
      "\n",
      "No soup for https://bacdive.dsmz.de/strain/162161\n",
      "No soup for https://bacdive.dsmz.de/strain/162145\n",
      "No soup for https://bacdive.dsmz.de/strain/162165\n",
      "No soup for https://bacdive.dsmz.de/strain/162164\n",
      "No soup for https://bacdive.dsmz.de/strain/162157\n",
      "No soup for https://bacdive.dsmz.de/strain/162166\n",
      "No soup for https://bacdive.dsmz.de/strain/162160\n",
      "No soup for https://bacdive.dsmz.de/strain/162177\n"
     ]
    },
    {
     "name": "stderr",
     "output_type": "stream",
     "text": [
      "DSMZ Catalogue link Progress:  86%|████████▋ | 32641/37746 [1:31:52<30:12,  2.82it/s]"
     ]
    },
    {
     "name": "stdout",
     "output_type": "stream",
     "text": [
      "No soup for https://bacdive.dsmz.de/strain/162181\n",
      "No soup for https://bacdive.dsmz.de/strain/162170\n",
      "No soup for https://bacdive.dsmz.de/strain/162171\n",
      "No soup for https://bacdive.dsmz.de/strain/162182\n",
      "No soup for https://bacdive.dsmz.de/strain/162186\n",
      "No soup for https://bacdive.dsmz.de/strain/162178\n",
      "No soup for https://bacdive.dsmz.de/strain/162183\n",
      "No soup for https://bacdive.dsmz.de/strain/162189\n",
      "No soup for https://bacdive.dsmz.de/strain/162180\n",
      "No soup for https://bacdive.dsmz.de/strain/162202\n",
      "No soup for https://bacdive.dsmz.de/strain/162192\n",
      "No soup for https://bacdive.dsmz.de/strain/162193\n",
      "No soup for https://bacdive.dsmz.de/strain/162173\n",
      "No soup for https://bacdive.dsmz.de/strain/162197\n"
     ]
    },
    {
     "name": "stderr",
     "output_type": "stream",
     "text": [
      "DSMZ Catalogue link Progress:  87%|████████▋ | 32704/37746 [1:31:53<48:05,  1.75it/s]"
     ]
    },
    {
     "name": "stdout",
     "output_type": "stream",
     "text": [
      "No soup for https://bacdive.dsmz.de/strain/162175No soup for https://bacdive.dsmz.de/strain/162190\n",
      "No soup for https://bacdive.dsmz.de/strain/162198\n",
      "No soup for https://bacdive.dsmz.de/strain/162185\n",
      "No soup for https://bacdive.dsmz.de/strain/162184\n",
      "\n",
      "No soup for https://bacdive.dsmz.de/strain/162174\n",
      "No soup for https://bacdive.dsmz.de/strain/162195\n",
      "No soup for https://bacdive.dsmz.de/strain/162199\n",
      "No soup for https://bacdive.dsmz.de/strain/162188\n",
      "No soup for https://bacdive.dsmz.de/strain/162205\n",
      "No soup for https://bacdive.dsmz.de/strain/162194\n",
      "No soup for https://bacdive.dsmz.de/strain/162187\n",
      "No soup for https://bacdive.dsmz.de/strain/162196\n",
      "No soup for https://bacdive.dsmz.de/strain/162191\n",
      "No soup for https://bacdive.dsmz.de/strain/133832\n",
      "No soup for https://bacdive.dsmz.de/strain/133559\n",
      "No soup for https://bacdive.dsmz.de/strain/133806\n",
      "No soup for https://bacdive.dsmz.de/strain/141119\n",
      "No soup for https://bacdive.dsmz.de/strain/141139\n",
      "No soup for https://bacdive.dsmz.de/strain/141138\n",
      "No soup for https://bacdive.dsmz.de/strain/133560\n",
      "No soup for https://bacdive.dsmz.de/strain/133873\n",
      "No soup for https://bacdive.dsmz.de/strain/133878\n",
      "No soup for https://bacdive.dsmz.de/strain/162212\n",
      "No soup for https://bacdive.dsmz.de/strain/133932\n",
      "No soup for https://bacdive.dsmz.de/strain/133931\n",
      "No soup for https://bacdive.dsmz.de/strain/133924\n",
      "No soup for https://bacdive.dsmz.de/strain/162214\n",
      "No soup for https://bacdive.dsmz.de/strain/162220\n",
      "No soup for https://bacdive.dsmz.de/strain/162217\n",
      "No soup for https://bacdive.dsmz.de/strain/162208\n",
      "No soup for https://bacdive.dsmz.de/strain/133949\n",
      "No soup for https://bacdive.dsmz.de/strain/162211\n",
      "No soup for https://bacdive.dsmz.de/strain/133638\n",
      "No soup for https://bacdive.dsmz.de/strain/162218\n",
      "No soup for https://bacdive.dsmz.de/strain/133880\n",
      "No soup for https://bacdive.dsmz.de/strain/133979\n",
      "No soup for https://bacdive.dsmz.de/strain/162209\n",
      "No soup for https://bacdive.dsmz.de/strain/162216\n",
      "No soup for https://bacdive.dsmz.de/strain/158810\n",
      "No soup for https://bacdive.dsmz.de/strain/159786\n",
      "No soup for https://bacdive.dsmz.de/strain/162210\n",
      "No soup for https://bacdive.dsmz.de/strain/162221\n",
      "No soup for https://bacdive.dsmz.de/strain/162207\n",
      "No soup for https://bacdive.dsmz.de/strain/162222\n",
      "No soup for https://bacdive.dsmz.de/strain/162215\n",
      "No soup for https://bacdive.dsmz.de/strain/133550\n",
      "No soup for https://bacdive.dsmz.de/strain/134029\n",
      "No soup for https://bacdive.dsmz.de/strain/162203\n",
      "No soup for https://bacdive.dsmz.de/strain/133907\n",
      "No soup for https://bacdive.dsmz.de/strain/133925\n",
      "No soup for https://bacdive.dsmz.de/strain/162204\n"
     ]
    },
    {
     "name": "stderr",
     "output_type": "stream",
     "text": [
      "DSMZ Catalogue link Progress:  87%|████████▋ | 32708/37746 [1:31:54<1:13:56,  1.14it/s]"
     ]
    },
    {
     "name": "stdout",
     "output_type": "stream",
     "text": [
      "No soup for https://bacdive.dsmz.de/strain/162219No soup for https://bacdive.dsmz.de/strain/162206\n",
      "\n",
      "No soup for https://bacdive.dsmz.de/strain/162213\n",
      "No soup for https://bacdive.dsmz.de/strain/162223\n",
      "No soup for https://bacdive.dsmz.de/strain/162224\n",
      "No soup for https://bacdive.dsmz.de/strain/134021\n"
     ]
    },
    {
     "name": "stderr",
     "output_type": "stream",
     "text": [
      "DSMZ Catalogue link Progress:  87%|████████▋ | 32711/37746 [1:31:55<1:27:01,  1.04s/it]"
     ]
    },
    {
     "name": "stdout",
     "output_type": "stream",
     "text": [
      "No soup for https://bacdive.dsmz.de/strain/134020\n"
     ]
    },
    {
     "name": "stderr",
     "output_type": "stream",
     "text": [
      "DSMZ Catalogue link Progress:  87%|████████▋ | 32718/37746 [1:31:55<1:59:54,  1.43s/it]"
     ]
    },
    {
     "name": "stdout",
     "output_type": "stream",
     "text": [
      "No soup for https://bacdive.dsmz.de/strain/162226\n",
      "No soup for https://bacdive.dsmz.de/strain/162227\n",
      "No soup for https://bacdive.dsmz.de/strain/162230\n",
      "No soup for https://bacdive.dsmz.de/strain/162228\n",
      "No soup for https://bacdive.dsmz.de/strain/133938\n",
      "No soup for https://bacdive.dsmz.de/strain/162229\n",
      "No soup for https://bacdive.dsmz.de/strain/133851\n",
      "No soup for https://bacdive.dsmz.de/strain/162231\n"
     ]
    },
    {
     "name": "stderr",
     "output_type": "stream",
     "text": [
      "DSMZ Catalogue link Progress:  87%|████████▋ | 32721/37746 [1:31:56<2:04:48,  1.49s/it]"
     ]
    },
    {
     "name": "stdout",
     "output_type": "stream",
     "text": [
      "No soup for https://bacdive.dsmz.de/strain/162225\n",
      "No soup for https://bacdive.dsmz.de/strain/162232\n"
     ]
    },
    {
     "name": "stderr",
     "output_type": "stream",
     "text": [
      "DSMZ Catalogue link Progress:  87%|████████▋ | 32723/37746 [1:31:56<2:04:45,  1.49s/it]"
     ]
    },
    {
     "name": "stdout",
     "output_type": "stream",
     "text": [
      "No soup for https://bacdive.dsmz.de/strain/162234\n",
      "No soup for https://bacdive.dsmz.de/strain/162236\n",
      "No soup for https://bacdive.dsmz.de/strain/162235\n",
      "No soup for https://bacdive.dsmz.de/strain/133300\n",
      "No soup for https://bacdive.dsmz.de/strain/162237\n",
      "No soup for https://bacdive.dsmz.de/strain/162240\n"
     ]
    },
    {
     "name": "stderr",
     "output_type": "stream",
     "text": [
      "DSMZ Catalogue link Progress:  87%|████████▋ | 32732/37746 [1:31:57<2:21:38,  1.69s/it]"
     ]
    },
    {
     "name": "stdout",
     "output_type": "stream",
     "text": [
      "No soup for https://bacdive.dsmz.de/strain/162239\n",
      "No soup for https://bacdive.dsmz.de/strain/162238\n",
      "No soup for https://bacdive.dsmz.de/strain/134047\n",
      "No soup for https://bacdive.dsmz.de/strain/162241\n",
      "No soup for https://bacdive.dsmz.de/strain/133255\n",
      "No soup for https://bacdive.dsmz.de/strain/133937\n"
     ]
    },
    {
     "name": "stderr",
     "output_type": "stream",
     "text": [
      "DSMZ Catalogue link Progress:  87%|████████▋ | 32742/37746 [1:31:57<2:07:39,  1.53s/it]"
     ]
    },
    {
     "name": "stdout",
     "output_type": "stream",
     "text": [
      "No soup for https://bacdive.dsmz.de/strain/160740\n",
      "No soup for https://bacdive.dsmz.de/strain/133908\n",
      "No soup for https://bacdive.dsmz.de/strain/133958\n",
      "No soup for https://bacdive.dsmz.de/strain/162233\n",
      "No soup for https://bacdive.dsmz.de/strain/133985\n",
      "No soup for https://bacdive.dsmz.de/strain/133945\n",
      "No soup for https://bacdive.dsmz.de/strain/162242\n",
      "No soup for https://bacdive.dsmz.de/strain/162243\n",
      "No soup for https://bacdive.dsmz.de/strain/133980\n",
      "No soup for https://bacdive.dsmz.de/strain/162244\n",
      "No soup for https://bacdive.dsmz.de/strain/162246\n"
     ]
    },
    {
     "name": "stderr",
     "output_type": "stream",
     "text": [
      "DSMZ Catalogue link Progress:  87%|████████▋ | 32750/37746 [1:31:57<1:52:36,  1.35s/it]"
     ]
    },
    {
     "name": "stdout",
     "output_type": "stream",
     "text": [
      "No soup for https://bacdive.dsmz.de/strain/133940\n",
      "No soup for https://bacdive.dsmz.de/strain/162245\n",
      "No soup for https://bacdive.dsmz.de/strain/162247\n",
      "No soup for https://bacdive.dsmz.de/strain/133941\n",
      "No soup for https://bacdive.dsmz.de/strain/162248\n",
      "No soup for https://bacdive.dsmz.de/strain/162249\n",
      "No soup for https://bacdive.dsmz.de/strain/133952\n"
     ]
    },
    {
     "name": "stderr",
     "output_type": "stream",
     "text": [
      "DSMZ Catalogue link Progress:  87%|████████▋ | 32765/37746 [1:31:58<4:30:02,  3.25s/it]"
     ]
    },
    {
     "name": "stdout",
     "output_type": "stream",
     "text": [
      "No soup for https://bacdive.dsmz.de/strain/134028\n",
      "No soup for https://bacdive.dsmz.de/strain/133955\n",
      "No soup for https://bacdive.dsmz.de/strain/134039\n",
      "No soup for https://bacdive.dsmz.de/strain/162250\n",
      "No soup for https://bacdive.dsmz.de/strain/162253\n",
      "No soup for https://bacdive.dsmz.de/strain/162251\n",
      "No soup for https://bacdive.dsmz.de/strain/162256\n",
      "No soup for https://bacdive.dsmz.de/strain/162252\n",
      "No soup for https://bacdive.dsmz.de/strain/162255\n",
      "No soup for https://bacdive.dsmz.de/strain/162257\n",
      "No soup for https://bacdive.dsmz.de/strain/162259\n",
      "No soup for https://bacdive.dsmz.de/strain/160724\n",
      "No soup for https://bacdive.dsmz.de/strain/162261\n",
      "No soup for https://bacdive.dsmz.de/strain/162254\n",
      "No soup for https://bacdive.dsmz.de/strain/162262\n"
     ]
    },
    {
     "name": "stderr",
     "output_type": "stream",
     "text": [
      "DSMZ Catalogue link Progress:  87%|████████▋ | 32771/37746 [1:31:58<6:54:51,  5.00s/it]"
     ]
    },
    {
     "name": "stdout",
     "output_type": "stream",
     "text": [
      "No soup for https://bacdive.dsmz.de/strain/162258\n",
      "No soup for https://bacdive.dsmz.de/strain/133942\n",
      "No soup for https://bacdive.dsmz.de/strain/162115\n",
      "No soup for https://bacdive.dsmz.de/strain/162260\n",
      "No soup for https://bacdive.dsmz.de/strain/133954\n"
     ]
    },
    {
     "name": "stderr",
     "output_type": "stream",
     "text": [
      "DSMZ Catalogue link Progress:  87%|████████▋ | 32776/37746 [1:31:59<3:18:39,  2.40s/it]"
     ]
    },
    {
     "name": "stdout",
     "output_type": "stream",
     "text": [
      "No soup for https://bacdive.dsmz.de/strain/134067\n",
      "No soup for https://bacdive.dsmz.de/strain/133853\n",
      "No soup for https://bacdive.dsmz.de/strain/134068\n",
      "No soup for https://bacdive.dsmz.de/strain/133939\n",
      "No soup for https://bacdive.dsmz.de/strain/162263\n"
     ]
    },
    {
     "name": "stderr",
     "output_type": "stream",
     "text": [
      "DSMZ Catalogue link Progress:  87%|████████▋ | 32780/37746 [1:31:59<1:31:18,  1.10s/it]"
     ]
    },
    {
     "name": "stdout",
     "output_type": "stream",
     "text": [
      "No soup for https://bacdive.dsmz.de/strain/134012\n",
      "No soup for https://bacdive.dsmz.de/strain/134074\n",
      "No soup for https://bacdive.dsmz.de/strain/162265\n",
      "No soup for https://bacdive.dsmz.de/strain/133944\n",
      "No soup for https://bacdive.dsmz.de/strain/134025\n"
     ]
    },
    {
     "name": "stderr",
     "output_type": "stream",
     "text": [
      "DSMZ Catalogue link Progress:  87%|████████▋ | 32793/37746 [1:32:00<10:30,  7.85it/s]  "
     ]
    },
    {
     "name": "stdout",
     "output_type": "stream",
     "text": [
      "No soup for https://bacdive.dsmz.de/strain/162270\n",
      "No soup for https://bacdive.dsmz.de/strain/162271\n",
      "No soup for https://bacdive.dsmz.de/strain/162276\n",
      "No soup for https://bacdive.dsmz.de/strain/162264\n",
      "No soup for https://bacdive.dsmz.de/strain/162267\n",
      "No soup for https://bacdive.dsmz.de/strain/162268\n",
      "No soup for https://bacdive.dsmz.de/strain/133959\n",
      "No soup for https://bacdive.dsmz.de/strain/133998\n",
      "No soup for https://bacdive.dsmz.de/strain/162266\n",
      "No soup for https://bacdive.dsmz.de/strain/134005\n",
      "No soup for https://bacdive.dsmz.de/strain/134043\n",
      "No soup for https://bacdive.dsmz.de/strain/134044\n"
     ]
    },
    {
     "name": "stderr",
     "output_type": "stream",
     "text": [
      "DSMZ Catalogue link Progress:  87%|████████▋ | 32794/37746 [1:32:01<13:11,  6.26it/s]"
     ]
    },
    {
     "name": "stdout",
     "output_type": "stream",
     "text": [
      "No soup for https://bacdive.dsmz.de/strain/162333\n"
     ]
    },
    {
     "name": "stderr",
     "output_type": "stream",
     "text": [
      "DSMZ Catalogue link Progress:  87%|████████▋ | 32799/37746 [1:32:01<10:58,  7.51it/s]"
     ]
    },
    {
     "name": "stdout",
     "output_type": "stream",
     "text": [
      "No soup for https://bacdive.dsmz.de/strain/162327\n",
      "No soup for https://bacdive.dsmz.de/strain/162316\n",
      "No soup for https://bacdive.dsmz.de/strain/162306\n",
      "No soup for https://bacdive.dsmz.de/strain/162334\n",
      "No soup for https://bacdive.dsmz.de/strain/162340\n",
      "No soup for https://bacdive.dsmz.de/strain/162299\n"
     ]
    },
    {
     "name": "stderr",
     "output_type": "stream",
     "text": [
      "DSMZ Catalogue link Progress:  87%|████████▋ | 32803/37746 [1:32:01<08:47,  9.37it/s]"
     ]
    },
    {
     "name": "stdout",
     "output_type": "stream",
     "text": [
      "No soup for https://bacdive.dsmz.de/strain/162273\n",
      "No soup for https://bacdive.dsmz.de/strain/162312\n",
      "No soup for https://bacdive.dsmz.de/strain/134035\n"
     ]
    },
    {
     "name": "stderr",
     "output_type": "stream",
     "text": [
      "DSMZ Catalogue link Progress:  87%|████████▋ | 32812/37746 [1:32:02<04:16, 19.20it/s]"
     ]
    },
    {
     "name": "stdout",
     "output_type": "stream",
     "text": [
      "No soup for https://bacdive.dsmz.de/strain/162290\n",
      "No soup for https://bacdive.dsmz.de/strain/162365\n",
      "No soup for https://bacdive.dsmz.de/strain/162336\n",
      "No soup for https://bacdive.dsmz.de/strain/162272\n",
      "No soup for https://bacdive.dsmz.de/strain/162330\n",
      "No soup for https://bacdive.dsmz.de/strain/162289\n",
      "No soup for https://bacdive.dsmz.de/strain/162297\n",
      "No soup for https://bacdive.dsmz.de/strain/162274\n",
      "No soup for https://bacdive.dsmz.de/strain/158578\n",
      "No soup for https://bacdive.dsmz.de/strain/162360\n",
      "No soup for https://bacdive.dsmz.de/strain/162354\n",
      "No soup for https://bacdive.dsmz.de/strain/133498\n"
     ]
    },
    {
     "name": "stderr",
     "output_type": "stream",
     "text": [
      "DSMZ Catalogue link Progress:  87%|████████▋ | 32821/37746 [1:32:02<02:14, 36.73it/s]"
     ]
    },
    {
     "name": "stdout",
     "output_type": "stream",
     "text": [
      "No soup for https://bacdive.dsmz.de/strain/140937\n",
      "No soup for https://bacdive.dsmz.de/strain/162332\n",
      "No soup for https://bacdive.dsmz.de/strain/140926\n",
      "No soup for https://bacdive.dsmz.de/strain/162337\n",
      "No soup for https://bacdive.dsmz.de/strain/162310\n",
      "No soup for https://bacdive.dsmz.de/strain/162301\n",
      "No soup for https://bacdive.dsmz.de/strain/162275\n",
      "No soup for https://bacdive.dsmz.de/strain/162269\n",
      "No soup for https://bacdive.dsmz.de/strain/162314\n",
      "No soup for https://bacdive.dsmz.de/strain/133991\n",
      "No soup for https://bacdive.dsmz.de/strain/134055\n"
     ]
    },
    {
     "name": "stderr",
     "output_type": "stream",
     "text": [
      "DSMZ Catalogue link Progress:  87%|████████▋ | 32835/37746 [1:32:02<02:01, 40.52it/s]"
     ]
    },
    {
     "name": "stdout",
     "output_type": "stream",
     "text": [
      "No soup for https://bacdive.dsmz.de/strain/162319\n",
      "No soup for https://bacdive.dsmz.de/strain/162308\n",
      "No soup for https://bacdive.dsmz.de/strain/162338\n",
      "No soup for https://bacdive.dsmz.de/strain/162358\n",
      "No soup for https://bacdive.dsmz.de/strain/133922\n",
      "No soup for https://bacdive.dsmz.de/strain/162303\n",
      "No soup for https://bacdive.dsmz.de/strain/162347\n",
      "No soup for https://bacdive.dsmz.de/strain/162298\n",
      "No soup for https://bacdive.dsmz.de/strain/162285\n",
      "No soup for https://bacdive.dsmz.de/strain/157122\n",
      "No soup for https://bacdive.dsmz.de/strain/134015\n"
     ]
    },
    {
     "name": "stderr",
     "output_type": "stream",
     "text": [
      "DSMZ Catalogue link Progress:  87%|████████▋ | 32838/37746 [1:32:02<02:20, 34.96it/s]"
     ]
    },
    {
     "name": "stdout",
     "output_type": "stream",
     "text": [
      "No soup for https://bacdive.dsmz.de/strain/162282\n",
      "No soup for https://bacdive.dsmz.de/strain/162281\n",
      "No soup for https://bacdive.dsmz.de/strain/162326\n",
      "No soup for https://bacdive.dsmz.de/strain/162364\n",
      "No soup for https://bacdive.dsmz.de/strain/162351\n",
      "No soup for https://bacdive.dsmz.de/strain/162293\n"
     ]
    },
    {
     "name": "stderr",
     "output_type": "stream",
     "text": [
      "DSMZ Catalogue link Progress:  87%|████████▋ | 32849/37746 [1:32:03<02:54, 28.10it/s]"
     ]
    },
    {
     "name": "stdout",
     "output_type": "stream",
     "text": [
      "No soup for https://bacdive.dsmz.de/strain/162321\n",
      "No soup for https://bacdive.dsmz.de/strain/162344\n",
      "No soup for https://bacdive.dsmz.de/strain/162283\n",
      "No soup for https://bacdive.dsmz.de/strain/162320\n",
      "No soup for https://bacdive.dsmz.de/strain/134051\n",
      "No soup for https://bacdive.dsmz.de/strain/162363\n",
      "No soup for https://bacdive.dsmz.de/strain/162280\n"
     ]
    },
    {
     "name": "stderr",
     "output_type": "stream",
     "text": [
      "DSMZ Catalogue link Progress:  87%|████████▋ | 32853/37746 [1:32:03<03:12, 25.36it/s]"
     ]
    },
    {
     "name": "stdout",
     "output_type": "stream",
     "text": [
      "No soup for https://bacdive.dsmz.de/strain/162315\n",
      "No soup for https://bacdive.dsmz.de/strain/134073\n",
      "No soup for https://bacdive.dsmz.de/strain/162292\n",
      "No soup for https://bacdive.dsmz.de/strain/133973\n",
      "No soup for https://bacdive.dsmz.de/strain/134022\n"
     ]
    },
    {
     "name": "stderr",
     "output_type": "stream",
     "text": [
      "DSMZ Catalogue link Progress:  87%|████████▋ | 32857/37746 [1:32:03<03:10, 25.68it/s]"
     ]
    },
    {
     "name": "stdout",
     "output_type": "stream",
     "text": [
      "No soup for https://bacdive.dsmz.de/strain/162291\n",
      "No soup for https://bacdive.dsmz.de/strain/162304\n",
      "No soup for https://bacdive.dsmz.de/strain/162367\n"
     ]
    },
    {
     "name": "stderr",
     "output_type": "stream",
     "text": [
      "DSMZ Catalogue link Progress:  87%|████████▋ | 32860/37746 [1:32:04<07:00, 11.61it/s]"
     ]
    },
    {
     "name": "stdout",
     "output_type": "stream",
     "text": [
      "No soup for https://bacdive.dsmz.de/strain/162302\n",
      "No soup for https://bacdive.dsmz.de/strain/162342\n",
      "No soup for https://bacdive.dsmz.de/strain/162341\n",
      "No soup for https://bacdive.dsmz.de/strain/162286\n",
      "No soup for https://bacdive.dsmz.de/strain/162313\n",
      "No soup for https://bacdive.dsmz.de/strain/162278\n",
      "No soup for https://bacdive.dsmz.de/strain/162318\n",
      "No soup for https://bacdive.dsmz.de/strain/162339\n",
      "No soup for https://bacdive.dsmz.de/strain/162317\n",
      "No soup for https://bacdive.dsmz.de/strain/162277\n",
      "No soup for https://bacdive.dsmz.de/strain/162307\n",
      "No soup for https://bacdive.dsmz.de/strain/162288\n",
      "No soup for https://bacdive.dsmz.de/strain/162328\n",
      "No soup for https://bacdive.dsmz.de/strain/162287\n",
      "No soup for https://bacdive.dsmz.de/strain/162356\n",
      "No soup for https://bacdive.dsmz.de/strain/162346\n",
      "No soup for https://bacdive.dsmz.de/strain/162305\n",
      "No soup for https://bacdive.dsmz.de/strain/162300\n",
      "No soup for https://bacdive.dsmz.de/strain/162384\n",
      "No soup for https://bacdive.dsmz.de/strain/162348\n",
      "No soup for https://bacdive.dsmz.de/strain/162294\n",
      "No soup for https://bacdive.dsmz.de/strain/162322\n",
      "No soup for https://bacdive.dsmz.de/strain/162343\n",
      "No soup for https://bacdive.dsmz.de/strain/162349\n",
      "No soup for https://bacdive.dsmz.de/strain/162362\n",
      "No soup for https://bacdive.dsmz.de/strain/162329\n",
      "No soup for https://bacdive.dsmz.de/strain/140896\n",
      "No soup for https://bacdive.dsmz.de/strain/162296\n",
      "No soup for https://bacdive.dsmz.de/strain/162350\n",
      "No soup for https://bacdive.dsmz.de/strain/162377\n",
      "No soup for https://bacdive.dsmz.de/strain/162279\n",
      "No soup for https://bacdive.dsmz.de/strain/162311\n"
     ]
    },
    {
     "name": "stderr",
     "output_type": "stream",
     "text": [
      "DSMZ Catalogue link Progress:  87%|████████▋ | 32906/37746 [1:32:04<13:53,  5.81it/s]"
     ]
    },
    {
     "name": "stdout",
     "output_type": "stream",
     "text": [
      "No soup for https://bacdive.dsmz.de/strain/162353\n",
      "No soup for https://bacdive.dsmz.de/strain/162324\n",
      "No soup for https://bacdive.dsmz.de/strain/162386\n",
      "No soup for https://bacdive.dsmz.de/strain/156900\n",
      "No soup for https://bacdive.dsmz.de/strain/134013\n",
      "No soup for https://bacdive.dsmz.de/strain/162331\n",
      "No soup for https://bacdive.dsmz.de/strain/162295\n",
      "No soup for https://bacdive.dsmz.de/strain/162323\n",
      "No soup for https://bacdive.dsmz.de/strain/162361\n",
      "No soup for https://bacdive.dsmz.de/strain/162309\n",
      "No soup for https://bacdive.dsmz.de/strain/162380\n",
      "No soup for https://bacdive.dsmz.de/strain/162375\n",
      "No soup for https://bacdive.dsmz.de/strain/162345\n",
      "No soup for https://bacdive.dsmz.de/strain/162385\n",
      "No soup for https://bacdive.dsmz.de/strain/134069\n",
      "No soup for https://bacdive.dsmz.de/strain/162368\n"
     ]
    },
    {
     "name": "stderr",
     "output_type": "stream",
     "text": [
      "DSMZ Catalogue link Progress:  87%|████████▋ | 32909/37746 [1:32:05<18:18,  4.40it/s]"
     ]
    },
    {
     "name": "stdout",
     "output_type": "stream",
     "text": [
      "No soup for https://bacdive.dsmz.de/strain/162366\n",
      "No soup for https://bacdive.dsmz.de/strain/162374\n",
      "No soup for https://bacdive.dsmz.de/strain/162352\n",
      "No soup for https://bacdive.dsmz.de/strain/162411\n",
      "No soup for https://bacdive.dsmz.de/strain/162335\n",
      "No soup for https://bacdive.dsmz.de/strain/162370\n",
      "No soup for https://bacdive.dsmz.de/strain/162284\n",
      "No soup for https://bacdive.dsmz.de/strain/162357\n",
      "No soup for https://bacdive.dsmz.de/strain/162378\n",
      "No soup for https://bacdive.dsmz.de/strain/162392\n"
     ]
    },
    {
     "name": "stderr",
     "output_type": "stream",
     "text": [
      "DSMZ Catalogue link Progress:  87%|████████▋ | 32978/37746 [1:32:07<21:23,  3.72it/s]"
     ]
    },
    {
     "name": "stdout",
     "output_type": "stream",
     "text": [
      "No soup for https://bacdive.dsmz.de/strain/162372No soup for https://bacdive.dsmz.de/strain/162406\n",
      "\n",
      "No soup for https://bacdive.dsmz.de/strain/162355\n",
      "No soup for https://bacdive.dsmz.de/strain/162413\n",
      "No soup for https://bacdive.dsmz.de/strain/162398\n",
      "No soup for https://bacdive.dsmz.de/strain/162396\n",
      "No soup for https://bacdive.dsmz.de/strain/162359\n",
      "No soup for https://bacdive.dsmz.de/strain/162403\n",
      "No soup for https://bacdive.dsmz.de/strain/162415\n",
      "No soup for https://bacdive.dsmz.de/strain/162402\n",
      "No soup for https://bacdive.dsmz.de/strain/162373\n",
      "No soup for https://bacdive.dsmz.de/strain/162393\n",
      "No soup for https://bacdive.dsmz.de/strain/162383\n",
      "No soup for https://bacdive.dsmz.de/strain/162381\n",
      "No soup for https://bacdive.dsmz.de/strain/162424\n",
      "No soup for https://bacdive.dsmz.de/strain/162395\n",
      "No soup for https://bacdive.dsmz.de/strain/162404\n",
      "No soup for https://bacdive.dsmz.de/strain/162428\n",
      "No soup for https://bacdive.dsmz.de/strain/162369\n",
      "No soup for https://bacdive.dsmz.de/strain/162399\n",
      "No soup for https://bacdive.dsmz.de/strain/162420\n",
      "No soup for https://bacdive.dsmz.de/strain/162405\n",
      "No soup for https://bacdive.dsmz.de/strain/162400\n",
      "No soup for https://bacdive.dsmz.de/strain/162408\n",
      "No soup for https://bacdive.dsmz.de/strain/162376\n",
      "No soup for https://bacdive.dsmz.de/strain/162431\n",
      "No soup for https://bacdive.dsmz.de/strain/162416\n",
      "No soup for https://bacdive.dsmz.de/strain/162427\n",
      "No soup for https://bacdive.dsmz.de/strain/162397\n",
      "No soup for https://bacdive.dsmz.de/strain/134057\n",
      "No soup for https://bacdive.dsmz.de/strain/162410\n",
      "No soup for https://bacdive.dsmz.de/strain/133268\n",
      "No soup for https://bacdive.dsmz.de/strain/162407\n",
      "No soup for https://bacdive.dsmz.de/strain/162412\n",
      "No soup for https://bacdive.dsmz.de/strain/162430\n",
      "No soup for https://bacdive.dsmz.de/strain/162429\n",
      "No soup for https://bacdive.dsmz.de/strain/162417\n",
      "No soup for https://bacdive.dsmz.de/strain/162409\n",
      "No soup for https://bacdive.dsmz.de/strain/162379\n",
      "No soup for https://bacdive.dsmz.de/strain/162371\n",
      "No soup for https://bacdive.dsmz.de/strain/162394\n",
      "No soup for https://bacdive.dsmz.de/strain/134019\n",
      "No soup for https://bacdive.dsmz.de/strain/162439\n",
      "No soup for https://bacdive.dsmz.de/strain/162421\n",
      "No soup for https://bacdive.dsmz.de/strain/134017\n",
      "No soup for https://bacdive.dsmz.de/strain/162432\n",
      "No soup for https://bacdive.dsmz.de/strain/162422\n",
      "No soup for https://bacdive.dsmz.de/strain/162436\n",
      "No soup for https://bacdive.dsmz.de/strain/162423\n",
      "No soup for https://bacdive.dsmz.de/strain/162434\n",
      "No soup for https://bacdive.dsmz.de/strain/162401\n",
      "No soup for https://bacdive.dsmz.de/strain/162437\n",
      "No soup for https://bacdive.dsmz.de/strain/162414\n",
      "No soup for https://bacdive.dsmz.de/strain/162442\n",
      "No soup for https://bacdive.dsmz.de/strain/162426\n",
      "No soup for https://bacdive.dsmz.de/strain/162438\n",
      "No soup for https://bacdive.dsmz.de/strain/162435\n",
      "No soup for https://bacdive.dsmz.de/strain/162390\n",
      "No soup for https://bacdive.dsmz.de/strain/162443\n",
      "No soup for https://bacdive.dsmz.de/strain/162452\n",
      "No soup for https://bacdive.dsmz.de/strain/162418\n",
      "No soup for https://bacdive.dsmz.de/strain/162453\n",
      "No soup for https://bacdive.dsmz.de/strain/162419\n",
      "No soup for https://bacdive.dsmz.de/strain/162458\n",
      "No soup for https://bacdive.dsmz.de/strain/162446\n",
      "No soup for https://bacdive.dsmz.de/strain/162445\n",
      "No soup for https://bacdive.dsmz.de/strain/162388\n",
      "No soup for https://bacdive.dsmz.de/strain/162387\n",
      "No soup for https://bacdive.dsmz.de/strain/162440\n",
      "No soup for https://bacdive.dsmz.de/strain/162391\n",
      "No soup for https://bacdive.dsmz.de/strain/158577\n",
      "No soup for https://bacdive.dsmz.de/strain/162433\n",
      "No soup for https://bacdive.dsmz.de/strain/162425\n",
      "No soup for https://bacdive.dsmz.de/strain/162444\n",
      "No soup for https://bacdive.dsmz.de/strain/162451\n",
      "No soup for https://bacdive.dsmz.de/strain/162449\n",
      "No soup for https://bacdive.dsmz.de/strain/162447\n",
      "No soup for https://bacdive.dsmz.de/strain/162450\n",
      "No soup for https://bacdive.dsmz.de/strain/162441\n"
     ]
    },
    {
     "name": "stderr",
     "output_type": "stream",
     "text": [
      "DSMZ Catalogue link Progress:  87%|████████▋ | 33005/37746 [1:32:08<37:13,  2.12it/s]"
     ]
    },
    {
     "name": "stdout",
     "output_type": "stream",
     "text": [
      "No soup for https://bacdive.dsmz.de/strain/134018\n",
      "No soup for https://bacdive.dsmz.de/strain/162459\n",
      "No soup for https://bacdive.dsmz.de/strain/162448\n",
      "No soup for https://bacdive.dsmz.de/strain/141089\n",
      "No soup for https://bacdive.dsmz.de/strain/162462\n",
      "No soup for https://bacdive.dsmz.de/strain/162389\n",
      "No soup for https://bacdive.dsmz.de/strain/140665\n",
      "No soup for https://bacdive.dsmz.de/strain/162461\n",
      "No soup for https://bacdive.dsmz.de/strain/162382\n",
      "No soup for https://bacdive.dsmz.de/strain/162463\n"
     ]
    },
    {
     "name": "stderr",
     "output_type": "stream",
     "text": [
      "DSMZ Catalogue link Progress:  87%|████████▋ | 33007/37746 [1:32:09<37:12,  2.12it/s]"
     ]
    },
    {
     "name": "stdout",
     "output_type": "stream",
     "text": [
      "No soup for https://bacdive.dsmz.de/strain/162466\n",
      "No soup for https://bacdive.dsmz.de/strain/158783\n"
     ]
    },
    {
     "name": "stderr",
     "output_type": "stream",
     "text": [
      "DSMZ Catalogue link Progress:  87%|████████▋ | 33010/37746 [1:32:09<53:04,  1.49it/s]"
     ]
    },
    {
     "name": "stdout",
     "output_type": "stream",
     "text": [
      "No soup for https://bacdive.dsmz.de/strain/162468\n",
      "No soup for https://bacdive.dsmz.de/strain/162470\n",
      "No soup for https://bacdive.dsmz.de/strain/162469\n",
      "No soup for https://bacdive.dsmz.de/strain/162475\n",
      "No soup for https://bacdive.dsmz.de/strain/162472\n"
     ]
    },
    {
     "name": "stderr",
     "output_type": "stream",
     "text": [
      "DSMZ Catalogue link Progress:  87%|████████▋ | 33021/37746 [1:32:10<2:33:50,  1.95s/it]"
     ]
    },
    {
     "name": "stdout",
     "output_type": "stream",
     "text": [
      "No soup for https://bacdive.dsmz.de/strain/162471\n",
      "No soup for https://bacdive.dsmz.de/strain/162473\n",
      "No soup for https://bacdive.dsmz.de/strain/162477\n",
      "No soup for https://bacdive.dsmz.de/strain/162476\n",
      "No soup for https://bacdive.dsmz.de/strain/162480\n",
      "No soup for https://bacdive.dsmz.de/strain/162479\n",
      "No soup for https://bacdive.dsmz.de/strain/162478\n",
      "No soup for https://bacdive.dsmz.de/strain/162481\n",
      "No soup for https://bacdive.dsmz.de/strain/162483\n"
     ]
    },
    {
     "name": "stderr",
     "output_type": "stream",
     "text": [
      "DSMZ Catalogue link Progress:  88%|████████▊ | 33028/37746 [1:32:10<2:54:20,  2.22s/it]"
     ]
    },
    {
     "name": "stdout",
     "output_type": "stream",
     "text": [
      "No soup for https://bacdive.dsmz.de/strain/162482\n",
      "No soup for https://bacdive.dsmz.de/strain/162486\n",
      "No soup for https://bacdive.dsmz.de/strain/140898\n",
      "No soup for https://bacdive.dsmz.de/strain/162485\n",
      "No soup for https://bacdive.dsmz.de/strain/162487\n",
      "No soup for https://bacdive.dsmz.de/strain/162484\n",
      "No soup for https://bacdive.dsmz.de/strain/162489\n"
     ]
    },
    {
     "name": "stderr",
     "output_type": "stream",
     "text": [
      "DSMZ Catalogue link Progress:  88%|████████▊ | 33035/37746 [1:32:11<3:03:48,  2.34s/it]"
     ]
    },
    {
     "name": "stdout",
     "output_type": "stream",
     "text": [
      "No soup for https://bacdive.dsmz.de/strain/162493\n",
      "No soup for https://bacdive.dsmz.de/strain/140855\n",
      "No soup for https://bacdive.dsmz.de/strain/162490\n",
      "No soup for https://bacdive.dsmz.de/strain/162494\n",
      "No soup for https://bacdive.dsmz.de/strain/162492\n",
      "No soup for https://bacdive.dsmz.de/strain/162491\n",
      "No soup for https://bacdive.dsmz.de/strain/162495\n",
      "No soup for https://bacdive.dsmz.de/strain/162498\n",
      "No soup for https://bacdive.dsmz.de/strain/162496\n",
      "No soup for https://bacdive.dsmz.de/strain/162499\n"
     ]
    },
    {
     "name": "stderr",
     "output_type": "stream",
     "text": [
      "DSMZ Catalogue link Progress:  88%|████████▊ | 33042/37746 [1:32:11<2:40:10,  2.04s/it]"
     ]
    },
    {
     "name": "stdout",
     "output_type": "stream",
     "text": [
      "No soup for https://bacdive.dsmz.de/strain/162501No soup for https://bacdive.dsmz.de/strain/162500\n",
      "\n",
      "No soup for https://bacdive.dsmz.de/strain/162497\n",
      "No soup for https://bacdive.dsmz.de/strain/162488\n",
      "No soup for https://bacdive.dsmz.de/strain/162502\n"
     ]
    },
    {
     "name": "stderr",
     "output_type": "stream",
     "text": [
      "DSMZ Catalogue link Progress:  88%|████████▊ | 33047/37746 [1:32:12<5:23:03,  4.13s/it]"
     ]
    },
    {
     "name": "stdout",
     "output_type": "stream",
     "text": [
      "No soup for https://bacdive.dsmz.de/strain/162504No soup for https://bacdive.dsmz.de/strain/162503\n",
      "\n",
      "No soup for https://bacdive.dsmz.de/strain/162506\n",
      "No soup for https://bacdive.dsmz.de/strain/162505\n",
      "No soup for https://bacdive.dsmz.de/strain/162507\n"
     ]
    },
    {
     "name": "stderr",
     "output_type": "stream",
     "text": [
      "DSMZ Catalogue link Progress:  88%|████████▊ | 33052/37746 [1:32:12<5:50:09,  4.48s/it]"
     ]
    },
    {
     "name": "stdout",
     "output_type": "stream",
     "text": [
      "No soup for https://bacdive.dsmz.de/strain/162508\n",
      "No soup for https://bacdive.dsmz.de/strain/162325\n",
      "No soup for https://bacdive.dsmz.de/strain/162509\n",
      "No soup for https://bacdive.dsmz.de/strain/162510\n"
     ]
    },
    {
     "name": "stderr",
     "output_type": "stream",
     "text": [
      "DSMZ Catalogue link Progress:  88%|████████▊ | 33059/37746 [1:32:13<1:11:48,  1.09it/s]"
     ]
    },
    {
     "name": "stdout",
     "output_type": "stream",
     "text": [
      "No soup for https://bacdive.dsmz.de/strain/162513\n",
      "No soup for https://bacdive.dsmz.de/strain/162518\n",
      "No soup for https://bacdive.dsmz.de/strain/162512\n",
      "No soup for https://bacdive.dsmz.de/strain/162516\n",
      "No soup for https://bacdive.dsmz.de/strain/162515\n",
      "No soup for https://bacdive.dsmz.de/strain/162514\n",
      "No soup for https://bacdive.dsmz.de/strain/162511\n"
     ]
    },
    {
     "name": "stderr",
     "output_type": "stream",
     "text": [
      "DSMZ Catalogue link Progress:  88%|████████▊ | 33063/37746 [1:32:15<46:06,  1.69it/s]  "
     ]
    },
    {
     "name": "stdout",
     "output_type": "stream",
     "text": [
      "No soup for https://bacdive.dsmz.de/strain/162555\n",
      "No soup for https://bacdive.dsmz.de/strain/162568\n",
      "No soup for https://bacdive.dsmz.de/strain/162563\n"
     ]
    },
    {
     "name": "stderr",
     "output_type": "stream",
     "text": [
      "DSMZ Catalogue link Progress:  88%|████████▊ | 33070/37746 [1:32:15<18:21,  4.25it/s]"
     ]
    },
    {
     "name": "stdout",
     "output_type": "stream",
     "text": [
      "No soup for https://bacdive.dsmz.de/strain/162536\n",
      "No soup for https://bacdive.dsmz.de/strain/162619\n",
      "No soup for https://bacdive.dsmz.de/strain/162570\n",
      "No soup for https://bacdive.dsmz.de/strain/162595\n",
      "No soup for https://bacdive.dsmz.de/strain/162573\n",
      "No soup for https://bacdive.dsmz.de/strain/162551\n",
      "No soup for https://bacdive.dsmz.de/strain/162577\n"
     ]
    },
    {
     "name": "stderr",
     "output_type": "stream",
     "text": [
      "DSMZ Catalogue link Progress:  88%|████████▊ | 33076/37746 [1:32:15<09:56,  7.84it/s]"
     ]
    },
    {
     "name": "stdout",
     "output_type": "stream",
     "text": [
      "No soup for https://bacdive.dsmz.de/strain/162559\n",
      "No soup for https://bacdive.dsmz.de/strain/162593\n",
      "No soup for https://bacdive.dsmz.de/strain/162521\n",
      "No soup for https://bacdive.dsmz.de/strain/162569\n",
      "No soup for https://bacdive.dsmz.de/strain/162527\n",
      "No soup for https://bacdive.dsmz.de/strain/162548\n",
      "No soup for https://bacdive.dsmz.de/strain/162604\n",
      "No soup for https://bacdive.dsmz.de/strain/162525\n",
      "No soup for https://bacdive.dsmz.de/strain/162615\n",
      "No soup for https://bacdive.dsmz.de/strain/162592\n",
      "No soup for https://bacdive.dsmz.de/strain/162542\n"
     ]
    },
    {
     "name": "stderr",
     "output_type": "stream",
     "text": [
      "DSMZ Catalogue link Progress:  88%|████████▊ | 33103/37746 [1:32:16<04:04, 19.02it/s]"
     ]
    },
    {
     "name": "stdout",
     "output_type": "stream",
     "text": [
      "No soup for https://bacdive.dsmz.de/strain/162524No soup for https://bacdive.dsmz.de/strain/162537\n",
      "\n",
      "No soup for https://bacdive.dsmz.de/strain/162566\n",
      "No soup for https://bacdive.dsmz.de/strain/162553\n",
      "No soup for https://bacdive.dsmz.de/strain/162576\n",
      "No soup for https://bacdive.dsmz.de/strain/162572\n",
      "No soup for https://bacdive.dsmz.de/strain/133294\n",
      "No soup for https://bacdive.dsmz.de/strain/162567\n",
      "No soup for https://bacdive.dsmz.de/strain/162580\n",
      "No soup for https://bacdive.dsmz.de/strain/162583\n",
      "No soup for https://bacdive.dsmz.de/strain/162609\n",
      "No soup for https://bacdive.dsmz.de/strain/162596\n",
      "No soup for https://bacdive.dsmz.de/strain/162630\n",
      "No soup for https://bacdive.dsmz.de/strain/162560\n",
      "No soup for https://bacdive.dsmz.de/strain/162605\n",
      "No soup for https://bacdive.dsmz.de/strain/140614\n",
      "No soup for https://bacdive.dsmz.de/strain/162585\n",
      "No soup for https://bacdive.dsmz.de/strain/162565\n",
      "No soup for https://bacdive.dsmz.de/strain/162586\n",
      "No soup for https://bacdive.dsmz.de/strain/162558\n",
      "No soup for https://bacdive.dsmz.de/strain/162562\n",
      "No soup for https://bacdive.dsmz.de/strain/133244\n",
      "No soup for https://bacdive.dsmz.de/strain/162532\n",
      "No soup for https://bacdive.dsmz.de/strain/140881\n"
     ]
    },
    {
     "name": "stderr",
     "output_type": "stream",
     "text": [
      "DSMZ Catalogue link Progress:  88%|████████▊ | 33110/37746 [1:32:16<05:20, 14.49it/s]"
     ]
    },
    {
     "name": "stdout",
     "output_type": "stream",
     "text": [
      "No soup for https://bacdive.dsmz.de/strain/162575\n",
      "No soup for https://bacdive.dsmz.de/strain/162574\n",
      "No soup for https://bacdive.dsmz.de/strain/162588\n",
      "No soup for https://bacdive.dsmz.de/strain/162552\n",
      "No soup for https://bacdive.dsmz.de/strain/162531\n",
      "No soup for https://bacdive.dsmz.de/strain/162601\n"
     ]
    },
    {
     "name": "stderr",
     "output_type": "stream",
     "text": [
      "DSMZ Catalogue link Progress:  88%|████████▊ | 33116/37746 [1:32:16<04:26, 17.38it/s]"
     ]
    },
    {
     "name": "stdout",
     "output_type": "stream",
     "text": [
      "No soup for https://bacdive.dsmz.de/strain/162611\n",
      "No soup for https://bacdive.dsmz.de/strain/162541\n",
      "No soup for https://bacdive.dsmz.de/strain/162543\n",
      "No soup for https://bacdive.dsmz.de/strain/162578\n",
      "No soup for https://bacdive.dsmz.de/strain/158547\n",
      "No soup for https://bacdive.dsmz.de/strain/158548\n"
     ]
    },
    {
     "name": "stderr",
     "output_type": "stream",
     "text": [
      "DSMZ Catalogue link Progress:  88%|████████▊ | 33124/37746 [1:32:16<03:37, 21.30it/s]"
     ]
    },
    {
     "name": "stdout",
     "output_type": "stream",
     "text": [
      "No soup for https://bacdive.dsmz.de/strain/133195No soup for https://bacdive.dsmz.de/strain/162622\n",
      "\n",
      "No soup for https://bacdive.dsmz.de/strain/162517\n",
      "No soup for https://bacdive.dsmz.de/strain/162533\n",
      "No soup for https://bacdive.dsmz.de/strain/140907\n",
      "No soup for https://bacdive.dsmz.de/strain/162547\n",
      "No soup for https://bacdive.dsmz.de/strain/162632\n",
      "No soup for https://bacdive.dsmz.de/strain/162561\n"
     ]
    },
    {
     "name": "stderr",
     "output_type": "stream",
     "text": [
      "DSMZ Catalogue link Progress:  88%|████████▊ | 33131/37746 [1:32:17<03:16, 23.49it/s]"
     ]
    },
    {
     "name": "stdout",
     "output_type": "stream",
     "text": [
      "No soup for https://bacdive.dsmz.de/strain/162523\n",
      "No soup for https://bacdive.dsmz.de/strain/162550\n",
      "No soup for https://bacdive.dsmz.de/strain/162545\n",
      "No soup for https://bacdive.dsmz.de/strain/162529\n",
      "No soup for https://bacdive.dsmz.de/strain/162539\n",
      "No soup for https://bacdive.dsmz.de/strain/162554\n",
      "No soup for https://bacdive.dsmz.de/strain/162616\n",
      "No soup for https://bacdive.dsmz.de/strain/162603\n",
      "No soup for https://bacdive.dsmz.de/strain/162571\n",
      "No soup for https://bacdive.dsmz.de/strain/162540\n"
     ]
    },
    {
     "name": "stderr",
     "output_type": "stream",
     "text": [
      "DSMZ Catalogue link Progress:  88%|████████▊ | 33172/37746 [1:32:18<03:47, 20.07it/s]"
     ]
    },
    {
     "name": "stdout",
     "output_type": "stream",
     "text": [
      "No soup for https://bacdive.dsmz.de/strain/162520\n",
      "No soup for https://bacdive.dsmz.de/strain/162549\n",
      "No soup for https://bacdive.dsmz.de/strain/162628\n",
      "No soup for https://bacdive.dsmz.de/strain/162535\n",
      "No soup for https://bacdive.dsmz.de/strain/162519\n",
      "No soup for https://bacdive.dsmz.de/strain/162522\n",
      "No soup for https://bacdive.dsmz.de/strain/162557\n",
      "No soup for https://bacdive.dsmz.de/strain/162544\n",
      "No soup for https://bacdive.dsmz.de/strain/162564\n",
      "No soup for https://bacdive.dsmz.de/strain/162607\n",
      "No soup for https://bacdive.dsmz.de/strain/162594\n",
      "No soup for https://bacdive.dsmz.de/strain/162538\n",
      "No soup for https://bacdive.dsmz.de/strain/162606\n",
      "No soup for https://bacdive.dsmz.de/strain/162526\n",
      "No soup for https://bacdive.dsmz.de/strain/162582\n",
      "No soup for https://bacdive.dsmz.de/strain/162626\n",
      "No soup for https://bacdive.dsmz.de/strain/162642\n",
      "No soup for https://bacdive.dsmz.de/strain/162589\n",
      "No soup for https://bacdive.dsmz.de/strain/162599\n",
      "No soup for https://bacdive.dsmz.de/strain/162614\n",
      "No soup for https://bacdive.dsmz.de/strain/162528\n",
      "No soup for https://bacdive.dsmz.de/strain/162627\n",
      "No soup for https://bacdive.dsmz.de/strain/133335\n",
      "No soup for https://bacdive.dsmz.de/strain/133240\n",
      "No soup for https://bacdive.dsmz.de/strain/162617\n",
      "No soup for https://bacdive.dsmz.de/strain/162546\n",
      "No soup for https://bacdive.dsmz.de/strain/162641\n",
      "No soup for https://bacdive.dsmz.de/strain/162584\n",
      "No soup for https://bacdive.dsmz.de/strain/162618\n",
      "No soup for https://bacdive.dsmz.de/strain/162556\n",
      "No soup for https://bacdive.dsmz.de/strain/162598\n",
      "No soup for https://bacdive.dsmz.de/strain/140774\n",
      "No soup for https://bacdive.dsmz.de/strain/141068\n",
      "No soup for https://bacdive.dsmz.de/strain/140648\n",
      "No soup for https://bacdive.dsmz.de/strain/162638\n",
      "No soup for https://bacdive.dsmz.de/strain/162534\n",
      "No soup for https://bacdive.dsmz.de/strain/162634\n",
      "No soup for https://bacdive.dsmz.de/strain/133308\n",
      "No soup for https://bacdive.dsmz.de/strain/162643\n",
      "No soup for https://bacdive.dsmz.de/strain/162633\n",
      "No soup for https://bacdive.dsmz.de/strain/162530\n",
      "No soup for https://bacdive.dsmz.de/strain/158575\n"
     ]
    },
    {
     "name": "stderr",
     "output_type": "stream",
     "text": [
      "DSMZ Catalogue link Progress:  88%|████████▊ | 33194/37746 [1:32:18<16:08,  4.70it/s]"
     ]
    },
    {
     "name": "stdout",
     "output_type": "stream",
     "text": [
      "No soup for https://bacdive.dsmz.de/strain/131283No soup for https://bacdive.dsmz.de/strain/140848\n",
      "No soup for https://bacdive.dsmz.de/strain/162656\n",
      "\n",
      "No soup for https://bacdive.dsmz.de/strain/162662\n",
      "No soup for https://bacdive.dsmz.de/strain/162636\n",
      "No soup for https://bacdive.dsmz.de/strain/162624\n",
      "No soup for https://bacdive.dsmz.de/strain/162671\n",
      "No soup for https://bacdive.dsmz.de/strain/162587\n",
      "No soup for https://bacdive.dsmz.de/strain/162635\n",
      "No soup for https://bacdive.dsmz.de/strain/162655\n",
      "No soup for https://bacdive.dsmz.de/strain/162640\n",
      "No soup for https://bacdive.dsmz.de/strain/162672\n",
      "No soup for https://bacdive.dsmz.de/strain/162664\n",
      "No soup for https://bacdive.dsmz.de/strain/162665\n",
      "No soup for https://bacdive.dsmz.de/strain/162646\n",
      "No soup for https://bacdive.dsmz.de/strain/162591\n",
      "No soup for https://bacdive.dsmz.de/strain/162645\n"
     ]
    },
    {
     "name": "stderr",
     "output_type": "stream",
     "text": [
      "DSMZ Catalogue link Progress:  88%|████████▊ | 33200/37746 [1:32:19<09:02,  8.39it/s]"
     ]
    },
    {
     "name": "stdout",
     "output_type": "stream",
     "text": [
      "No soup for https://bacdive.dsmz.de/strain/162600\n",
      "No soup for https://bacdive.dsmz.de/strain/162663\n",
      "No soup for https://bacdive.dsmz.de/strain/162654\n",
      "No soup for https://bacdive.dsmz.de/strain/162668\n",
      "No soup for https://bacdive.dsmz.de/strain/162675\n",
      "No soup for https://bacdive.dsmz.de/strain/162610\n",
      "No soup for https://bacdive.dsmz.de/strain/162669\n",
      "No soup for https://bacdive.dsmz.de/strain/162629\n"
     ]
    },
    {
     "name": "stderr",
     "output_type": "stream",
     "text": [
      "DSMZ Catalogue link Progress:  88%|████████▊ | 33204/37746 [1:32:19<07:02, 10.75it/s]"
     ]
    },
    {
     "name": "stdout",
     "output_type": "stream",
     "text": [
      "No soup for https://bacdive.dsmz.de/strain/162676\n",
      "No soup for https://bacdive.dsmz.de/strain/162649\n",
      "No soup for https://bacdive.dsmz.de/strain/162659\n",
      "No soup for https://bacdive.dsmz.de/strain/162658\n"
     ]
    },
    {
     "name": "stderr",
     "output_type": "stream",
     "text": [
      "DSMZ Catalogue link Progress:  88%|████████▊ | 33262/37746 [1:32:21<03:02, 24.55it/s]"
     ]
    },
    {
     "name": "stdout",
     "output_type": "stream",
     "text": [
      "No soup for https://bacdive.dsmz.de/strain/162657No soup for https://bacdive.dsmz.de/strain/140938\n",
      "No soup for https://bacdive.dsmz.de/strain/162673\n",
      "\n",
      "No soup for https://bacdive.dsmz.de/strain/162677\n",
      "No soup for https://bacdive.dsmz.de/strain/162652\n",
      "No soup for https://bacdive.dsmz.de/strain/162682\n",
      "No soup for https://bacdive.dsmz.de/strain/162667\n",
      "No soup for https://bacdive.dsmz.de/strain/162692\n",
      "No soup for https://bacdive.dsmz.de/strain/162679\n",
      "No soup for https://bacdive.dsmz.de/strain/162666\n",
      "No soup for https://bacdive.dsmz.de/strain/162698\n",
      "No soup for https://bacdive.dsmz.de/strain/162705\n",
      "No soup for https://bacdive.dsmz.de/strain/162688\n",
      "No soup for https://bacdive.dsmz.de/strain/162697\n",
      "No soup for https://bacdive.dsmz.de/strain/133128\n",
      "No soup for https://bacdive.dsmz.de/strain/162670\n",
      "No soup for https://bacdive.dsmz.de/strain/162691\n",
      "No soup for https://bacdive.dsmz.de/strain/162647\n",
      "No soup for https://bacdive.dsmz.de/strain/162709\n",
      "No soup for https://bacdive.dsmz.de/strain/162683\n",
      "No soup for https://bacdive.dsmz.de/strain/162684\n",
      "No soup for https://bacdive.dsmz.de/strain/162651\n",
      "No soup for https://bacdive.dsmz.de/strain/162696\n",
      "No soup for https://bacdive.dsmz.de/strain/162704\n",
      "No soup for https://bacdive.dsmz.de/strain/162639\n",
      "No soup for https://bacdive.dsmz.de/strain/162680\n",
      "No soup for https://bacdive.dsmz.de/strain/140790\n",
      "No soup for https://bacdive.dsmz.de/strain/162653\n",
      "No soup for https://bacdive.dsmz.de/strain/162694\n",
      "No soup for https://bacdive.dsmz.de/strain/162678\n",
      "No soup for https://bacdive.dsmz.de/strain/162699\n",
      "No soup for https://bacdive.dsmz.de/strain/162674\n",
      "No soup for https://bacdive.dsmz.de/strain/162700\n",
      "No soup for https://bacdive.dsmz.de/strain/162702\n",
      "No soup for https://bacdive.dsmz.de/strain/162710\n",
      "No soup for https://bacdive.dsmz.de/strain/162660\n",
      "No soup for https://bacdive.dsmz.de/strain/162695\n",
      "No soup for https://bacdive.dsmz.de/strain/162681\n",
      "No soup for https://bacdive.dsmz.de/strain/162650\n",
      "No soup for https://bacdive.dsmz.de/strain/162708\n",
      "No soup for https://bacdive.dsmz.de/strain/162701\n",
      "No soup for https://bacdive.dsmz.de/strain/162685\n",
      "No soup for https://bacdive.dsmz.de/strain/162686\n",
      "No soup for https://bacdive.dsmz.de/strain/140917\n",
      "No soup for https://bacdive.dsmz.de/strain/162661\n",
      "No soup for https://bacdive.dsmz.de/strain/133146\n",
      "No soup for https://bacdive.dsmz.de/strain/162690\n",
      "No soup for https://bacdive.dsmz.de/strain/133809\n",
      "No soup for https://bacdive.dsmz.de/strain/162703\n",
      "No soup for https://bacdive.dsmz.de/strain/162689\n",
      "No soup for https://bacdive.dsmz.de/strain/162706\n",
      "No soup for https://bacdive.dsmz.de/strain/162693\n",
      "No soup for https://bacdive.dsmz.de/strain/162687\n",
      "No soup for https://bacdive.dsmz.de/strain/136375\n",
      "No soup for https://bacdive.dsmz.de/strain/162707\n",
      "No soup for https://bacdive.dsmz.de/strain/140505\n"
     ]
    },
    {
     "name": "stderr",
     "output_type": "stream",
     "text": [
      "DSMZ Catalogue link Progress:  88%|████████▊ | 33262/37746 [1:32:21<03:02, 24.55it/s]"
     ]
    },
    {
     "name": "stdout",
     "output_type": "stream",
     "text": [
      "No soup for https://bacdive.dsmz.de/strain/162772\n",
      "No soup for https://bacdive.dsmz.de/strain/162720\n",
      "No soup for https://bacdive.dsmz.de/strain/162759\n",
      "No soup for https://bacdive.dsmz.de/strain/162725\n",
      "No soup for https://bacdive.dsmz.de/strain/162721\n",
      "No soup for https://bacdive.dsmz.de/strain/162750\n",
      "No soup for https://bacdive.dsmz.de/strain/162726\n",
      "No soup for https://bacdive.dsmz.de/strain/162734\n",
      "No soup for https://bacdive.dsmz.de/strain/162756\n",
      "No soup for https://bacdive.dsmz.de/strain/162761\n",
      "No soup for https://bacdive.dsmz.de/strain/162758\n",
      "No soup for https://bacdive.dsmz.de/strain/162716\n",
      "No soup for https://bacdive.dsmz.de/strain/162729\n",
      "No soup for https://bacdive.dsmz.de/strain/162904\n",
      "No soup for https://bacdive.dsmz.de/strain/162767\n",
      "No soup for https://bacdive.dsmz.de/strain/162746\n",
      "No soup for https://bacdive.dsmz.de/strain/162719\n",
      "No soup for https://bacdive.dsmz.de/strain/162757\n",
      "No soup for https://bacdive.dsmz.de/strain/162717\n",
      "No soup for https://bacdive.dsmz.de/strain/162764\n",
      "No soup for https://bacdive.dsmz.de/strain/162771\n",
      "No soup for https://bacdive.dsmz.de/strain/162754\n",
      "No soup for https://bacdive.dsmz.de/strain/162735\n",
      "No soup for https://bacdive.dsmz.de/strain/162728\n",
      "No soup for https://bacdive.dsmz.de/strain/162722\n"
     ]
    },
    {
     "name": "stderr",
     "output_type": "stream",
     "text": [
      "DSMZ Catalogue link Progress:  88%|████████▊ | 33334/37746 [1:32:24<30:50,  2.38it/s]"
     ]
    },
    {
     "name": "stdout",
     "output_type": "stream",
     "text": [
      "No soup for https://bacdive.dsmz.de/strain/162743\n",
      "No soup for https://bacdive.dsmz.de/strain/162765\n",
      "No soup for https://bacdive.dsmz.de/strain/162745\n",
      "No soup for https://bacdive.dsmz.de/strain/162731\n",
      "No soup for https://bacdive.dsmz.de/strain/162760\n",
      "No soup for https://bacdive.dsmz.de/strain/162753\n",
      "No soup for https://bacdive.dsmz.de/strain/162732\n",
      "No soup for https://bacdive.dsmz.de/strain/162738\n",
      "No soup for https://bacdive.dsmz.de/strain/162744\n",
      "No soup for https://bacdive.dsmz.de/strain/162768\n",
      "No soup for https://bacdive.dsmz.de/strain/162762\n",
      "No soup for https://bacdive.dsmz.de/strain/162711\n",
      "No soup for https://bacdive.dsmz.de/strain/162774\n",
      "No soup for https://bacdive.dsmz.de/strain/162713\n",
      "No soup for https://bacdive.dsmz.de/strain/162741\n",
      "No soup for https://bacdive.dsmz.de/strain/162712\n",
      "No soup for https://bacdive.dsmz.de/strain/162749\n",
      "No soup for https://bacdive.dsmz.de/strain/162751\n",
      "No soup for https://bacdive.dsmz.de/strain/162775\n",
      "No soup for https://bacdive.dsmz.de/strain/162740\n",
      "No soup for https://bacdive.dsmz.de/strain/162769\n",
      "No soup for https://bacdive.dsmz.de/strain/162766\n",
      "No soup for https://bacdive.dsmz.de/strain/162737\n",
      "No soup for https://bacdive.dsmz.de/strain/162773\n",
      "No soup for https://bacdive.dsmz.de/strain/162747\n",
      "No soup for https://bacdive.dsmz.de/strain/162783\n",
      "No soup for https://bacdive.dsmz.de/strain/162752\n",
      "No soup for https://bacdive.dsmz.de/strain/162724\n",
      "No soup for https://bacdive.dsmz.de/strain/162785\n",
      "No soup for https://bacdive.dsmz.de/strain/162715\n",
      "No soup for https://bacdive.dsmz.de/strain/162733\n",
      "No soup for https://bacdive.dsmz.de/strain/162723\n",
      "No soup for https://bacdive.dsmz.de/strain/162782\n",
      "No soup for https://bacdive.dsmz.de/strain/162781\n",
      "No soup for https://bacdive.dsmz.de/strain/162784\n",
      "No soup for https://bacdive.dsmz.de/strain/162748\n",
      "No soup for https://bacdive.dsmz.de/strain/162718\n",
      "No soup for https://bacdive.dsmz.de/strain/162739\n",
      "No soup for https://bacdive.dsmz.de/strain/162779\n",
      "No soup for https://bacdive.dsmz.de/strain/162755\n",
      "No soup for https://bacdive.dsmz.de/strain/162736\n",
      "No soup for https://bacdive.dsmz.de/strain/162714\n",
      "No soup for https://bacdive.dsmz.de/strain/162777\n",
      "No soup for https://bacdive.dsmz.de/strain/162787\n",
      "No soup for https://bacdive.dsmz.de/strain/162763\n",
      "No soup for https://bacdive.dsmz.de/strain/162776\n",
      "No soup for https://bacdive.dsmz.de/strain/139158\n"
     ]
    },
    {
     "name": "stderr",
     "output_type": "stream",
     "text": [
      "DSMZ Catalogue link Progress:  88%|████████▊ | 33339/37746 [1:32:24<1:45:09,  1.43s/it]"
     ]
    },
    {
     "name": "stdout",
     "output_type": "stream",
     "text": [
      "No soup for https://bacdive.dsmz.de/strain/144695\n",
      "No soup for https://bacdive.dsmz.de/strain/162778\n",
      "No soup for https://bacdive.dsmz.de/strain/162727\n",
      "No soup for https://bacdive.dsmz.de/strain/162770\n",
      "No soup for https://bacdive.dsmz.de/strain/162788\n"
     ]
    },
    {
     "name": "stderr",
     "output_type": "stream",
     "text": [
      "DSMZ Catalogue link Progress:  88%|████████▊ | 33340/37746 [1:32:25<1:45:07,  1.43s/it]"
     ]
    },
    {
     "name": "stdout",
     "output_type": "stream",
     "text": [
      "No soup for https://bacdive.dsmz.de/strain/162789\n"
     ]
    },
    {
     "name": "stderr",
     "output_type": "stream",
     "text": [
      "DSMZ Catalogue link Progress:  88%|████████▊ | 33341/37746 [1:32:26<1:45:06,  1.43s/it]"
     ]
    },
    {
     "name": "stdout",
     "output_type": "stream",
     "text": [
      "No soup for https://bacdive.dsmz.de/strain/139251\n",
      "No soup for https://bacdive.dsmz.de/strain/162794\n",
      "No soup for https://bacdive.dsmz.de/strain/134588\n",
      "No soup for https://bacdive.dsmz.de/strain/162792\n",
      "No soup for https://bacdive.dsmz.de/strain/162791\n",
      "No soup for https://bacdive.dsmz.de/strain/162797\n"
     ]
    },
    {
     "name": "stderr",
     "output_type": "stream",
     "text": [
      "DSMZ Catalogue link Progress:  88%|████████▊ | 33349/37746 [1:32:26<1:37:58,  1.34s/it]"
     ]
    },
    {
     "name": "stdout",
     "output_type": "stream",
     "text": [
      "No soup for https://bacdive.dsmz.de/strain/162796\n",
      "No soup for https://bacdive.dsmz.de/strain/162793\n",
      "No soup for https://bacdive.dsmz.de/strain/162799\n"
     ]
    },
    {
     "name": "stderr",
     "output_type": "stream",
     "text": [
      "DSMZ Catalogue link Progress:  88%|████████▊ | 33354/37746 [1:32:26<1:37:51,  1.34s/it]"
     ]
    },
    {
     "name": "stdout",
     "output_type": "stream",
     "text": [
      "No soup for https://bacdive.dsmz.de/strain/162800\n",
      "No soup for https://bacdive.dsmz.de/strain/162806\n",
      "No soup for https://bacdive.dsmz.de/strain/162798\n",
      "No soup for https://bacdive.dsmz.de/strain/162803\n",
      "No soup for https://bacdive.dsmz.de/strain/162804\n",
      "No soup for https://bacdive.dsmz.de/strain/162808\n",
      "No soup for https://bacdive.dsmz.de/strain/162807\n",
      "No soup for https://bacdive.dsmz.de/strain/134979\n"
     ]
    },
    {
     "name": "stderr",
     "output_type": "stream",
     "text": [
      "DSMZ Catalogue link Progress:  88%|████████▊ | 33370/37746 [1:32:27<1:46:53,  1.47s/it]"
     ]
    },
    {
     "name": "stdout",
     "output_type": "stream",
     "text": [
      "No soup for https://bacdive.dsmz.de/strain/138934\n",
      "No soup for https://bacdive.dsmz.de/strain/162813\n",
      "No soup for https://bacdive.dsmz.de/strain/162802\n",
      "No soup for https://bacdive.dsmz.de/strain/162819\n",
      "No soup for https://bacdive.dsmz.de/strain/162811\n",
      "No soup for https://bacdive.dsmz.de/strain/162814\n",
      "No soup for https://bacdive.dsmz.de/strain/162817\n",
      "No soup for https://bacdive.dsmz.de/strain/162820\n",
      "No soup for https://bacdive.dsmz.de/strain/139082\n",
      "No soup for https://bacdive.dsmz.de/strain/136296\n",
      "No soup for https://bacdive.dsmz.de/strain/162821\n",
      "No soup for https://bacdive.dsmz.de/strain/162815\n",
      "No soup for https://bacdive.dsmz.de/strain/162810\n"
     ]
    },
    {
     "name": "stderr",
     "output_type": "stream",
     "text": [
      "DSMZ Catalogue link Progress:  88%|████████▊ | 33375/37746 [1:32:27<1:53:18,  1.56s/it]"
     ]
    },
    {
     "name": "stdout",
     "output_type": "stream",
     "text": [
      "No soup for https://bacdive.dsmz.de/strain/162825\n",
      "No soup for https://bacdive.dsmz.de/strain/162822\n",
      "No soup for https://bacdive.dsmz.de/strain/162823\n",
      "No soup for https://bacdive.dsmz.de/strain/162824\n",
      "No soup for https://bacdive.dsmz.de/strain/162826\n",
      "No soup for https://bacdive.dsmz.de/strain/162827\n",
      "No soup for https://bacdive.dsmz.de/strain/162834\n",
      "No soup for https://bacdive.dsmz.de/strain/162828\n",
      "No soup for https://bacdive.dsmz.de/strain/162835\n",
      "No soup for https://bacdive.dsmz.de/strain/162829\n"
     ]
    },
    {
     "name": "stderr",
     "output_type": "stream",
     "text": [
      "DSMZ Catalogue link Progress:  88%|████████▊ | 33396/37746 [1:32:29<1:46:33,  1.47s/it]"
     ]
    },
    {
     "name": "stdout",
     "output_type": "stream",
     "text": [
      "No soup for https://bacdive.dsmz.de/strain/162833\n",
      "No soup for https://bacdive.dsmz.de/strain/162830\n",
      "No soup for https://bacdive.dsmz.de/strain/162832\n",
      "No soup for https://bacdive.dsmz.de/strain/162836\n",
      "No soup for https://bacdive.dsmz.de/strain/162837\n",
      "No soup for https://bacdive.dsmz.de/strain/135986\n",
      "No soup for https://bacdive.dsmz.de/strain/135985\n",
      "No soup for https://bacdive.dsmz.de/strain/162842\n",
      "No soup for https://bacdive.dsmz.de/strain/150693\n",
      "No soup for https://bacdive.dsmz.de/strain/135988\n",
      "No soup for https://bacdive.dsmz.de/strain/162844\n",
      "No soup for https://bacdive.dsmz.de/strain/162840\n",
      "No soup for https://bacdive.dsmz.de/strain/162845\n",
      "No soup for https://bacdive.dsmz.de/strain/138094\n",
      "No soup for https://bacdive.dsmz.de/strain/139194\n",
      "No soup for https://bacdive.dsmz.de/strain/162838\n"
     ]
    },
    {
     "name": "stderr",
     "output_type": "stream",
     "text": [
      "DSMZ Catalogue link Progress:  88%|████████▊ | 33400/37746 [1:32:29<4:06:17,  3.40s/it]"
     ]
    },
    {
     "name": "stdout",
     "output_type": "stream",
     "text": [
      "No soup for https://bacdive.dsmz.de/strain/162861\n",
      "No soup for https://bacdive.dsmz.de/strain/162851\n",
      "No soup for https://bacdive.dsmz.de/strain/162849\n",
      "No soup for https://bacdive.dsmz.de/strain/162866\n"
     ]
    },
    {
     "name": "stderr",
     "output_type": "stream",
     "text": [
      "DSMZ Catalogue link Progress:  89%|████████▊ | 33415/37746 [1:32:30<3:26:42,  2.86s/it]"
     ]
    },
    {
     "name": "stdout",
     "output_type": "stream",
     "text": [
      "No soup for https://bacdive.dsmz.de/strain/162841\n",
      "No soup for https://bacdive.dsmz.de/strain/136130\n",
      "No soup for https://bacdive.dsmz.de/strain/162597\n",
      "No soup for https://bacdive.dsmz.de/strain/162854\n",
      "No soup for https://bacdive.dsmz.de/strain/162864\n",
      "No soup for https://bacdive.dsmz.de/strain/162862\n",
      "No soup for https://bacdive.dsmz.de/strain/162852\n",
      "No soup for https://bacdive.dsmz.de/strain/162859\n",
      "No soup for https://bacdive.dsmz.de/strain/162853\n",
      "No soup for https://bacdive.dsmz.de/strain/162858\n",
      "No soup for https://bacdive.dsmz.de/strain/162846\n",
      "No soup for https://bacdive.dsmz.de/strain/162857\n",
      "No soup for https://bacdive.dsmz.de/strain/162848\n",
      "No soup for https://bacdive.dsmz.de/strain/162863\n",
      "No soup for https://bacdive.dsmz.de/strain/135987\n",
      "No soup for https://bacdive.dsmz.de/strain/162868\n",
      "No soup for https://bacdive.dsmz.de/strain/162867\n"
     ]
    },
    {
     "name": "stderr",
     "output_type": "stream",
     "text": [
      "DSMZ Catalogue link Progress:  89%|████████▊ | 33419/37746 [1:32:30<5:12:16,  4.33s/it]"
     ]
    },
    {
     "name": "stdout",
     "output_type": "stream",
     "text": [
      "No soup for https://bacdive.dsmz.de/strain/162850\n",
      "No soup for https://bacdive.dsmz.de/strain/162856\n",
      "No soup for https://bacdive.dsmz.de/strain/162870\n"
     ]
    },
    {
     "name": "stderr",
     "output_type": "stream",
     "text": [
      "DSMZ Catalogue link Progress:  89%|████████▊ | 33422/37746 [1:32:30<2:35:00,  2.15s/it]"
     ]
    },
    {
     "name": "stdout",
     "output_type": "stream",
     "text": [
      "No soup for https://bacdive.dsmz.de/strain/162869\n",
      "No soup for https://bacdive.dsmz.de/strain/162871\n"
     ]
    },
    {
     "name": "stderr",
     "output_type": "stream",
     "text": [
      "DSMZ Catalogue link Progress:  89%|████████▊ | 33423/37746 [1:32:30<2:04:50,  1.73s/it]"
     ]
    },
    {
     "name": "stdout",
     "output_type": "stream",
     "text": [
      "No soup for https://bacdive.dsmz.de/strain/162872\n",
      "No soup for https://bacdive.dsmz.de/strain/162873\n"
     ]
    },
    {
     "name": "stderr",
     "output_type": "stream",
     "text": [
      "DSMZ Catalogue link Progress:  89%|████████▊ | 33425/37746 [1:32:31<1:22:35,  1.15s/it]"
     ]
    },
    {
     "name": "stdout",
     "output_type": "stream",
     "text": [
      "No soup for https://bacdive.dsmz.de/strain/136591\n",
      "No soup for https://bacdive.dsmz.de/strain/162875\n",
      "No soup for https://bacdive.dsmz.de/strain/162876\n"
     ]
    },
    {
     "name": "stderr",
     "output_type": "stream",
     "text": [
      "DSMZ Catalogue link Progress:  89%|████████▊ | 33428/37746 [1:32:31<49:18,  1.46it/s]  "
     ]
    },
    {
     "name": "stdout",
     "output_type": "stream",
     "text": [
      "No soup for https://bacdive.dsmz.de/strain/139093\n"
     ]
    },
    {
     "name": "stderr",
     "output_type": "stream",
     "text": [
      "DSMZ Catalogue link Progress:  89%|████████▊ | 33429/37746 [1:32:31<44:24,  1.62it/s]"
     ]
    },
    {
     "name": "stdout",
     "output_type": "stream",
     "text": [
      "No soup for https://bacdive.dsmz.de/strain/162881\n"
     ]
    },
    {
     "name": "stderr",
     "output_type": "stream",
     "text": [
      "DSMZ Catalogue link Progress:  89%|████████▊ | 33433/37746 [1:32:32<15:47,  4.55it/s]"
     ]
    },
    {
     "name": "stdout",
     "output_type": "stream",
     "text": [
      "No soup for https://bacdive.dsmz.de/strain/162879\n",
      "No soup for https://bacdive.dsmz.de/strain/162898\n",
      "No soup for https://bacdive.dsmz.de/strain/162877\n",
      "No soup for https://bacdive.dsmz.de/strain/162880\n",
      "No soup for https://bacdive.dsmz.de/strain/162900\n",
      "No soup for https://bacdive.dsmz.de/strain/162891\n"
     ]
    },
    {
     "name": "stderr",
     "output_type": "stream",
     "text": [
      "DSMZ Catalogue link Progress:  89%|████████▊ | 33440/37746 [1:32:32<07:52,  9.11it/s]"
     ]
    },
    {
     "name": "stdout",
     "output_type": "stream",
     "text": [
      "No soup for https://bacdive.dsmz.de/strain/139121No soup for https://bacdive.dsmz.de/strain/162896\n",
      "\n",
      "No soup for https://bacdive.dsmz.de/strain/162922\n",
      "No soup for https://bacdive.dsmz.de/strain/162921\n",
      "No soup for https://bacdive.dsmz.de/strain/162913\n",
      "No soup for https://bacdive.dsmz.de/strain/135372\n",
      "No soup for https://bacdive.dsmz.de/strain/162915\n",
      "No soup for https://bacdive.dsmz.de/strain/162886\n"
     ]
    },
    {
     "name": "stderr",
     "output_type": "stream",
     "text": [
      "DSMZ Catalogue link Progress:  89%|████████▊ | 33449/37746 [1:32:32<03:38, 19.67it/s]"
     ]
    },
    {
     "name": "stdout",
     "output_type": "stream",
     "text": [
      "No soup for https://bacdive.dsmz.de/strain/162892\n",
      "No soup for https://bacdive.dsmz.de/strain/162894\n",
      "No soup for https://bacdive.dsmz.de/strain/162924\n",
      "No soup for https://bacdive.dsmz.de/strain/162885\n",
      "No soup for https://bacdive.dsmz.de/strain/162878\n",
      "No soup for https://bacdive.dsmz.de/strain/162883\n",
      "No soup for https://bacdive.dsmz.de/strain/162908\n",
      "No soup for https://bacdive.dsmz.de/strain/162895\n",
      "No soup for https://bacdive.dsmz.de/strain/162893\n",
      "No soup for https://bacdive.dsmz.de/strain/162914\n",
      "No soup for https://bacdive.dsmz.de/strain/162884\n",
      "No soup for https://bacdive.dsmz.de/strain/162901\n",
      "No soup for https://bacdive.dsmz.de/strain/162923\n",
      "No soup for https://bacdive.dsmz.de/strain/162890\n",
      "No soup for https://bacdive.dsmz.de/strain/162926\n",
      "No soup for https://bacdive.dsmz.de/strain/162897\n"
     ]
    },
    {
     "name": "stderr",
     "output_type": "stream",
     "text": [
      "DSMZ Catalogue link Progress:  89%|████████▊ | 33489/37746 [1:32:34<13:07,  5.41it/s]"
     ]
    },
    {
     "name": "stdout",
     "output_type": "stream",
     "text": [
      "No soup for https://bacdive.dsmz.de/strain/162911\n",
      "No soup for https://bacdive.dsmz.de/strain/162931\n",
      "No soup for https://bacdive.dsmz.de/strain/162930\n",
      "No soup for https://bacdive.dsmz.de/strain/162928\n",
      "No soup for https://bacdive.dsmz.de/strain/141278\n",
      "No soup for https://bacdive.dsmz.de/strain/144043\n",
      "No soup for https://bacdive.dsmz.de/strain/162882\n",
      "No soup for https://bacdive.dsmz.de/strain/162918\n",
      "No soup for https://bacdive.dsmz.de/strain/162935\n",
      "No soup for https://bacdive.dsmz.de/strain/162938\n",
      "No soup for https://bacdive.dsmz.de/strain/162917\n",
      "No soup for https://bacdive.dsmz.de/strain/162919\n",
      "No soup for https://bacdive.dsmz.de/strain/162937\n",
      "No soup for https://bacdive.dsmz.de/strain/162932\n",
      "No soup for https://bacdive.dsmz.de/strain/162902\n",
      "No soup for https://bacdive.dsmz.de/strain/162942\n",
      "No soup for https://bacdive.dsmz.de/strain/162925\n",
      "No soup for https://bacdive.dsmz.de/strain/162981\n",
      "No soup for https://bacdive.dsmz.de/strain/162941\n",
      "No soup for https://bacdive.dsmz.de/strain/162974\n",
      "No soup for https://bacdive.dsmz.de/strain/162949\n",
      "No soup for https://bacdive.dsmz.de/strain/162966\n",
      "No soup for https://bacdive.dsmz.de/strain/162969\n",
      "No soup for https://bacdive.dsmz.de/strain/162905\n",
      "No soup for https://bacdive.dsmz.de/strain/162962\n",
      "No soup for https://bacdive.dsmz.de/strain/162959\n",
      "No soup for https://bacdive.dsmz.de/strain/162967\n",
      "No soup for https://bacdive.dsmz.de/strain/162971\n",
      "No soup for https://bacdive.dsmz.de/strain/162952\n",
      "No soup for https://bacdive.dsmz.de/strain/162939\n",
      "No soup for https://bacdive.dsmz.de/strain/162947\n",
      "No soup for https://bacdive.dsmz.de/strain/162977\n",
      "No soup for https://bacdive.dsmz.de/strain/136496\n",
      "No soup for https://bacdive.dsmz.de/strain/162980\n",
      "No soup for https://bacdive.dsmz.de/strain/162955\n",
      "No soup for https://bacdive.dsmz.de/strain/162956\n",
      "No soup for https://bacdive.dsmz.de/strain/162957\n",
      "No soup for https://bacdive.dsmz.de/strain/162945\n",
      "No soup for https://bacdive.dsmz.de/strain/162972\n",
      "No soup for https://bacdive.dsmz.de/strain/141589\n",
      "No soup for https://bacdive.dsmz.de/strain/162961\n",
      "No soup for https://bacdive.dsmz.de/strain/162984\n",
      "No soup for https://bacdive.dsmz.de/strain/162946\n",
      "No soup for https://bacdive.dsmz.de/strain/162960\n",
      "No soup for https://bacdive.dsmz.de/strain/162929\n",
      "No soup for https://bacdive.dsmz.de/strain/162950\n",
      "No soup for https://bacdive.dsmz.de/strain/162982\n",
      "No soup for https://bacdive.dsmz.de/strain/138422\n",
      "No soup for https://bacdive.dsmz.de/strain/138860\n",
      "No soup for https://bacdive.dsmz.de/strain/162936\n",
      "No soup for https://bacdive.dsmz.de/strain/162953\n",
      "No soup for https://bacdive.dsmz.de/strain/162979\n",
      "No soup for https://bacdive.dsmz.de/strain/162916\n",
      "No soup for https://bacdive.dsmz.de/strain/162993\n",
      "No soup for https://bacdive.dsmz.de/strain/162999\n",
      "No soup for https://bacdive.dsmz.de/strain/162943\n",
      "No soup for https://bacdive.dsmz.de/strain/162933\n",
      "No soup for https://bacdive.dsmz.de/strain/162940\n",
      "No soup for https://bacdive.dsmz.de/strain/162985\n",
      "No soup for https://bacdive.dsmz.de/strain/162927\n",
      "No soup for https://bacdive.dsmz.de/strain/162992\n",
      "No soup for https://bacdive.dsmz.de/strain/162973\n",
      "No soup for https://bacdive.dsmz.de/strain/136761\n",
      "No soup for https://bacdive.dsmz.de/strain/162944\n",
      "No soup for https://bacdive.dsmz.de/strain/162965\n",
      "No soup for https://bacdive.dsmz.de/strain/162975\n",
      "No soup for https://bacdive.dsmz.de/strain/162978\n",
      "No soup for https://bacdive.dsmz.de/strain/162986\n",
      "No soup for https://bacdive.dsmz.de/strain/162951\n",
      "No soup for https://bacdive.dsmz.de/strain/162995\n",
      "No soup for https://bacdive.dsmz.de/strain/162912\n",
      "No soup for https://bacdive.dsmz.de/strain/162983\n",
      "No soup for https://bacdive.dsmz.de/strain/162920\n",
      "No soup for https://bacdive.dsmz.de/strain/162887\n",
      "No soup for https://bacdive.dsmz.de/strain/162970\n",
      "No soup for https://bacdive.dsmz.de/strain/162963\n",
      "No soup for https://bacdive.dsmz.de/strain/138895\n",
      "No soup for https://bacdive.dsmz.de/strain/162991\n",
      "No soup for https://bacdive.dsmz.de/strain/141490\n",
      "No soup for https://bacdive.dsmz.de/strain/162906\n",
      "No soup for https://bacdive.dsmz.de/strain/136750\n",
      "No soup for https://bacdive.dsmz.de/strain/136807\n",
      "No soup for https://bacdive.dsmz.de/strain/162994\n",
      "No soup for https://bacdive.dsmz.de/strain/162989\n",
      "No soup for https://bacdive.dsmz.de/strain/143013\n",
      "No soup for https://bacdive.dsmz.de/strain/162987\n",
      "No soup for https://bacdive.dsmz.de/strain/162948\n",
      "No soup for https://bacdive.dsmz.de/strain/162907\n",
      "No soup for https://bacdive.dsmz.de/strain/162968\n",
      "No soup for https://bacdive.dsmz.de/strain/162998\n",
      "No soup for https://bacdive.dsmz.de/strain/23202\n",
      "No soup for https://bacdive.dsmz.de/strain/162899\n",
      "No soup for https://bacdive.dsmz.de/strain/162910\n",
      "No soup for https://bacdive.dsmz.de/strain/137734\n",
      "No soup for https://bacdive.dsmz.de/strain/163002\n",
      "No soup for https://bacdive.dsmz.de/strain/162996\n",
      "No soup for https://bacdive.dsmz.de/strain/163001\n",
      "No soup for https://bacdive.dsmz.de/strain/162988\n",
      "No soup for https://bacdive.dsmz.de/strain/137476\n",
      "No soup for https://bacdive.dsmz.de/strain/162964\n",
      "No soup for https://bacdive.dsmz.de/strain/163000\n",
      "No soup for https://bacdive.dsmz.de/strain/162997\n",
      "No soup for https://bacdive.dsmz.de/strain/162976\n",
      "No soup for https://bacdive.dsmz.de/strain/136823\n",
      "No soup for https://bacdive.dsmz.de/strain/162888\n",
      "No soup for https://bacdive.dsmz.de/strain/136806\n",
      "No soup for https://bacdive.dsmz.de/strain/162934\n",
      "No soup for https://bacdive.dsmz.de/strain/163004\n",
      "No soup for https://bacdive.dsmz.de/strain/136808\n",
      "No soup for https://bacdive.dsmz.de/strain/162990\n",
      "No soup for https://bacdive.dsmz.de/strain/163007\n",
      "No soup for https://bacdive.dsmz.de/strain/163005\n",
      "No soup for https://bacdive.dsmz.de/strain/139570\n",
      "No soup for https://bacdive.dsmz.de/strain/163006\n",
      "No soup for https://bacdive.dsmz.de/strain/136286\n",
      "No soup for https://bacdive.dsmz.de/strain/162889\n",
      "No soup for https://bacdive.dsmz.de/strain/162903\n"
     ]
    },
    {
     "name": "stderr",
     "output_type": "stream",
     "text": [
      "DSMZ Catalogue link Progress:  89%|████████▉ | 33582/37746 [1:32:37<13:31,  5.13it/s]"
     ]
    },
    {
     "name": "stdout",
     "output_type": "stream",
     "text": [
      "No soup for https://bacdive.dsmz.de/strain/156468\n",
      "No soup for https://bacdive.dsmz.de/strain/137565\n",
      "No soup for https://bacdive.dsmz.de/strain/137474\n",
      "No soup for https://bacdive.dsmz.de/strain/135951\n",
      "No soup for https://bacdive.dsmz.de/strain/162909\n",
      "No soup for https://bacdive.dsmz.de/strain/163003\n"
     ]
    },
    {
     "name": "stderr",
     "output_type": "stream",
     "text": [
      "DSMZ Catalogue link Progress:  89%|████████▉ | 33583/37746 [1:32:37<16:54,  4.11it/s]"
     ]
    },
    {
     "name": "stdout",
     "output_type": "stream",
     "text": [
      "No soup for https://bacdive.dsmz.de/strain/163008\n"
     ]
    },
    {
     "name": "stderr",
     "output_type": "stream",
     "text": [
      "DSMZ Catalogue link Progress:  89%|████████▉ | 33584/37746 [1:32:37<17:11,  4.03it/s]"
     ]
    },
    {
     "name": "stdout",
     "output_type": "stream",
     "text": [
      "No soup for https://www.dsmz.de/collection/catalogue/details/culture/DSM-30202\n"
     ]
    },
    {
     "name": "stderr",
     "output_type": "stream",
     "text": [
      "DSMZ Catalogue link Progress:  89%|████████▉ | 33586/37746 [1:32:38<17:12,  4.03it/s]"
     ]
    },
    {
     "name": "stdout",
     "output_type": "stream",
     "text": [
      "No soup for https://bacdive.dsmz.de/strain/163011No soup for https://bacdive.dsmz.de/strain/144086\n",
      "\n"
     ]
    },
    {
     "name": "stderr",
     "output_type": "stream",
     "text": [
      "DSMZ Catalogue link Progress:  89%|████████▉ | 33589/37746 [1:32:38<16:00,  4.33it/s]"
     ]
    },
    {
     "name": "stdout",
     "output_type": "stream",
     "text": [
      "No soup for https://bacdive.dsmz.de/strain/163010\n",
      "No soup for https://bacdive.dsmz.de/strain/163013\n",
      "No soup for https://bacdive.dsmz.de/strain/148168\n"
     ]
    },
    {
     "name": "stderr",
     "output_type": "stream",
     "text": [
      "DSMZ Catalogue link Progress:  89%|████████▉ | 33593/37746 [1:32:39<11:18,  6.12it/s]"
     ]
    },
    {
     "name": "stdout",
     "output_type": "stream",
     "text": [
      "No soup for https://bacdive.dsmz.de/strain/163012\n",
      "No soup for https://bacdive.dsmz.de/strain/163014\n",
      "No soup for https://bacdive.dsmz.de/strain/136344\n",
      "No soup for https://bacdive.dsmz.de/strain/163025\n"
     ]
    },
    {
     "name": "stderr",
     "output_type": "stream",
     "text": [
      "DSMZ Catalogue link Progress:  89%|████████▉ | 33598/37746 [1:32:39<08:50,  7.82it/s]"
     ]
    },
    {
     "name": "stdout",
     "output_type": "stream",
     "text": [
      "No soup for https://bacdive.dsmz.de/strain/163031\n",
      "No soup for https://bacdive.dsmz.de/strain/163015\n",
      "No soup for https://bacdive.dsmz.de/strain/163052\n",
      "No soup for https://bacdive.dsmz.de/strain/163028\n",
      "No soup for https://bacdive.dsmz.de/strain/163023\n",
      "No soup for https://bacdive.dsmz.de/strain/163026\n",
      "No soup for https://bacdive.dsmz.de/strain/163020\n"
     ]
    },
    {
     "name": "stderr",
     "output_type": "stream",
     "text": [
      "DSMZ Catalogue link Progress:  89%|████████▉ | 33605/37746 [1:32:39<04:21, 15.82it/s]"
     ]
    },
    {
     "name": "stdout",
     "output_type": "stream",
     "text": [
      "No soup for https://bacdive.dsmz.de/strain/163061\n",
      "No soup for https://bacdive.dsmz.de/strain/150238\n",
      "No soup for https://bacdive.dsmz.de/strain/163049\n",
      "No soup for https://bacdive.dsmz.de/strain/163030\n",
      "No soup for https://bacdive.dsmz.de/strain/163067\n",
      "No soup for https://bacdive.dsmz.de/strain/163056\n"
     ]
    },
    {
     "name": "stderr",
     "output_type": "stream",
     "text": [
      "DSMZ Catalogue link Progress:  89%|████████▉ | 33615/37746 [1:32:40<02:56, 23.46it/s]"
     ]
    },
    {
     "name": "stdout",
     "output_type": "stream",
     "text": [
      "No soup for https://bacdive.dsmz.de/strain/163035\n",
      "No soup for https://bacdive.dsmz.de/strain/163043\n",
      "No soup for https://bacdive.dsmz.de/strain/163038\n",
      "No soup for https://bacdive.dsmz.de/strain/163076\n",
      "No soup for https://bacdive.dsmz.de/strain/163033\n",
      "No soup for https://bacdive.dsmz.de/strain/163051\n",
      "No soup for https://bacdive.dsmz.de/strain/163044\n",
      "No soup for https://bacdive.dsmz.de/strain/163032\n",
      "No soup for https://bacdive.dsmz.de/strain/163029\n",
      "No soup for https://bacdive.dsmz.de/strain/163048\n",
      "No soup for https://bacdive.dsmz.de/strain/163027\n",
      "No soup for https://bacdive.dsmz.de/strain/163062\n",
      "No soup for https://bacdive.dsmz.de/strain/163059\n",
      "No soup for https://bacdive.dsmz.de/strain/163034\n"
     ]
    },
    {
     "name": "stderr",
     "output_type": "stream",
     "text": [
      "DSMZ Catalogue link Progress:  89%|████████▉ | 33629/37746 [1:32:40<01:42, 40.33it/s]"
     ]
    },
    {
     "name": "stdout",
     "output_type": "stream",
     "text": [
      "No soup for https://bacdive.dsmz.de/strain/150237\n",
      "No soup for https://bacdive.dsmz.de/strain/163058\n",
      "No soup for https://bacdive.dsmz.de/strain/163018\n",
      "No soup for https://bacdive.dsmz.de/strain/163021\n",
      "No soup for https://bacdive.dsmz.de/strain/163024\n",
      "No soup for https://bacdive.dsmz.de/strain/163050\n",
      "No soup for https://bacdive.dsmz.de/strain/163053\n",
      "No soup for https://bacdive.dsmz.de/strain/163074\n",
      "No soup for https://bacdive.dsmz.de/strain/163065\n",
      "No soup for https://bacdive.dsmz.de/strain/142996\n",
      "No soup for https://bacdive.dsmz.de/strain/163022\n"
     ]
    },
    {
     "name": "stderr",
     "output_type": "stream",
     "text": [
      "DSMZ Catalogue link Progress:  89%|████████▉ | 33687/37746 [1:32:42<03:46, 17.93it/s]"
     ]
    },
    {
     "name": "stdout",
     "output_type": "stream",
     "text": [
      "No soup for https://bacdive.dsmz.de/strain/163098\n",
      "No soup for https://bacdive.dsmz.de/strain/163057\n",
      "No soup for https://bacdive.dsmz.de/strain/163097\n",
      "No soup for https://bacdive.dsmz.de/strain/163075\n",
      "No soup for https://bacdive.dsmz.de/strain/143006\n",
      "No soup for https://bacdive.dsmz.de/strain/163080\n",
      "No soup for https://bacdive.dsmz.de/strain/163068\n",
      "No soup for https://bacdive.dsmz.de/strain/163099\n",
      "No soup for https://bacdive.dsmz.de/strain/163083\n",
      "No soup for https://bacdive.dsmz.de/strain/163039\n",
      "No soup for https://bacdive.dsmz.de/strain/163047\n",
      "No soup for https://bacdive.dsmz.de/strain/163087\n",
      "No soup for https://bacdive.dsmz.de/strain/163093\n",
      "No soup for https://bacdive.dsmz.de/strain/163019\n",
      "No soup for https://bacdive.dsmz.de/strain/163063\n",
      "No soup for https://bacdive.dsmz.de/strain/163078\n",
      "No soup for https://bacdive.dsmz.de/strain/163091\n",
      "No soup for https://bacdive.dsmz.de/strain/163077\n",
      "No soup for https://bacdive.dsmz.de/strain/163094\n",
      "No soup for https://bacdive.dsmz.de/strain/163037\n",
      "No soup for https://bacdive.dsmz.de/strain/163090\n",
      "No soup for https://bacdive.dsmz.de/strain/163088\n",
      "No soup for https://bacdive.dsmz.de/strain/163101\n",
      "No soup for https://bacdive.dsmz.de/strain/163081\n",
      "No soup for https://bacdive.dsmz.de/strain/163071\n",
      "No soup for https://bacdive.dsmz.de/strain/163096\n",
      "No soup for https://bacdive.dsmz.de/strain/139239\n",
      "No soup for https://bacdive.dsmz.de/strain/163102\n",
      "No soup for https://bacdive.dsmz.de/strain/163073\n",
      "No soup for https://bacdive.dsmz.de/strain/163113\n",
      "No soup for https://bacdive.dsmz.de/strain/163070\n",
      "No soup for https://bacdive.dsmz.de/strain/163016\n",
      "No soup for https://bacdive.dsmz.de/strain/163054\n",
      "No soup for https://bacdive.dsmz.de/strain/143000\n",
      "No soup for https://bacdive.dsmz.de/strain/163084\n",
      "No soup for https://bacdive.dsmz.de/strain/163079\n",
      "No soup for https://bacdive.dsmz.de/strain/163082\n",
      "No soup for https://bacdive.dsmz.de/strain/163086\n",
      "No soup for https://bacdive.dsmz.de/strain/163064\n",
      "No soup for https://bacdive.dsmz.de/strain/163055\n",
      "No soup for https://bacdive.dsmz.de/strain/163109\n",
      "No soup for https://bacdive.dsmz.de/strain/163115\n",
      "No soup for https://bacdive.dsmz.de/strain/163106\n",
      "No soup for https://bacdive.dsmz.de/strain/163111\n",
      "No soup for https://bacdive.dsmz.de/strain/163116\n",
      "No soup for https://bacdive.dsmz.de/strain/163072\n",
      "No soup for https://bacdive.dsmz.de/strain/163107\n",
      "No soup for https://bacdive.dsmz.de/strain/163100\n",
      "No soup for https://bacdive.dsmz.de/strain/163041\n",
      "No soup for https://bacdive.dsmz.de/strain/163119\n",
      "No soup for https://bacdive.dsmz.de/strain/163118\n",
      "No soup for https://bacdive.dsmz.de/strain/163092\n",
      "No soup for https://bacdive.dsmz.de/strain/163060\n",
      "No soup for https://bacdive.dsmz.de/strain/163120\n",
      "No soup for https://bacdive.dsmz.de/strain/163104\n",
      "No soup for https://bacdive.dsmz.de/strain/155175\n",
      "No soup for https://bacdive.dsmz.de/strain/163085\n",
      "No soup for https://bacdive.dsmz.de/strain/163110\n",
      "No soup for https://bacdive.dsmz.de/strain/163042\n",
      "No soup for https://bacdive.dsmz.de/strain/163105\n",
      "No soup for https://bacdive.dsmz.de/strain/163069\n",
      "No soup for https://bacdive.dsmz.de/strain/163103\n",
      "No soup for https://bacdive.dsmz.de/strain/163095\n"
     ]
    },
    {
     "name": "stderr",
     "output_type": "stream",
     "text": [
      "DSMZ Catalogue link Progress:  89%|████████▉ | 33751/37746 [1:32:44<02:53, 23.02it/s]"
     ]
    },
    {
     "name": "stdout",
     "output_type": "stream",
     "text": [
      "No soup for https://bacdive.dsmz.de/strain/163040\n",
      "No soup for https://bacdive.dsmz.de/strain/163128\n",
      "No soup for https://bacdive.dsmz.de/strain/163066\n",
      "No soup for https://bacdive.dsmz.de/strain/163045\n",
      "No soup for https://bacdive.dsmz.de/strain/134139\n",
      "No soup for https://bacdive.dsmz.de/strain/163126\n",
      "No soup for https://bacdive.dsmz.de/strain/163123\n",
      "No soup for https://bacdive.dsmz.de/strain/163017\n",
      "No soup for https://bacdive.dsmz.de/strain/136183\n",
      "No soup for https://bacdive.dsmz.de/strain/163150\n",
      "No soup for https://bacdive.dsmz.de/strain/163036\n",
      "No soup for https://bacdive.dsmz.de/strain/163144\n",
      "No soup for https://bacdive.dsmz.de/strain/163152\n",
      "No soup for https://bacdive.dsmz.de/strain/163137\n",
      "No soup for https://bacdive.dsmz.de/strain/163173\n",
      "No soup for https://bacdive.dsmz.de/strain/163163\n",
      "No soup for https://bacdive.dsmz.de/strain/163136\n",
      "No soup for https://bacdive.dsmz.de/strain/163147\n",
      "No soup for https://bacdive.dsmz.de/strain/163114\n",
      "No soup for https://bacdive.dsmz.de/strain/163140\n",
      "No soup for https://bacdive.dsmz.de/strain/163138\n",
      "No soup for https://bacdive.dsmz.de/strain/163117\n",
      "No soup for https://bacdive.dsmz.de/strain/163130\n",
      "No soup for https://bacdive.dsmz.de/strain/163162\n",
      "No soup for https://bacdive.dsmz.de/strain/163131\n",
      "No soup for https://bacdive.dsmz.de/strain/163133\n",
      "No soup for https://bacdive.dsmz.de/strain/163154\n",
      "No soup for https://bacdive.dsmz.de/strain/163142\n",
      "No soup for https://bacdive.dsmz.de/strain/163168\n",
      "No soup for https://bacdive.dsmz.de/strain/163145\n",
      "No soup for https://bacdive.dsmz.de/strain/163159\n",
      "No soup for https://bacdive.dsmz.de/strain/163161\n",
      "No soup for https://bacdive.dsmz.de/strain/139339\n",
      "No soup for https://bacdive.dsmz.de/strain/163134\n",
      "No soup for https://bacdive.dsmz.de/strain/163141\n",
      "No soup for https://bacdive.dsmz.de/strain/163170\n",
      "No soup for https://bacdive.dsmz.de/strain/163169\n",
      "No soup for https://bacdive.dsmz.de/strain/139662\n",
      "No soup for https://bacdive.dsmz.de/strain/136437\n",
      "No soup for https://bacdive.dsmz.de/strain/163153\n",
      "No soup for https://bacdive.dsmz.de/strain/163165\n",
      "No soup for https://bacdive.dsmz.de/strain/163148\n",
      "No soup for https://bacdive.dsmz.de/strain/137320\n",
      "No soup for https://bacdive.dsmz.de/strain/163112\n",
      "No soup for https://bacdive.dsmz.de/strain/163157\n",
      "No soup for https://bacdive.dsmz.de/strain/163171\n",
      "No soup for https://bacdive.dsmz.de/strain/163175\n",
      "No soup for https://bacdive.dsmz.de/strain/138248\n",
      "No soup for https://bacdive.dsmz.de/strain/163172\n",
      "No soup for https://bacdive.dsmz.de/strain/163089\n",
      "No soup for https://bacdive.dsmz.de/strain/163135\n",
      "No soup for https://bacdive.dsmz.de/strain/163139\n",
      "No soup for https://bacdive.dsmz.de/strain/163156\n",
      "No soup for https://bacdive.dsmz.de/strain/163046\n",
      "No soup for https://bacdive.dsmz.de/strain/135528\n",
      "No soup for https://bacdive.dsmz.de/strain/163166\n",
      "No soup for https://bacdive.dsmz.de/strain/163176\n",
      "No soup for https://bacdive.dsmz.de/strain/163149\n",
      "No soup for https://bacdive.dsmz.de/strain/163158\n",
      "No soup for https://bacdive.dsmz.de/strain/163155\n",
      "No soup for https://bacdive.dsmz.de/strain/163146\n",
      "No soup for https://bacdive.dsmz.de/strain/136497\n",
      "No soup for https://bacdive.dsmz.de/strain/138334\n",
      "No soup for https://bacdive.dsmz.de/strain/134476\n",
      "No soup for https://bacdive.dsmz.de/strain/139338\n"
     ]
    },
    {
     "name": "stderr",
     "output_type": "stream",
     "text": [
      "DSMZ Catalogue link Progress:  89%|████████▉ | 33760/37746 [1:32:44<16:23,  4.05it/s]"
     ]
    },
    {
     "name": "stdout",
     "output_type": "stream",
     "text": [
      "No soup for https://bacdive.dsmz.de/strain/137673\n"
     ]
    },
    {
     "name": "stderr",
     "output_type": "stream",
     "text": [
      "DSMZ Catalogue link Progress:  89%|████████▉ | 33761/37746 [1:32:44<16:41,  3.98it/s]"
     ]
    },
    {
     "name": "stdout",
     "output_type": "stream",
     "text": [
      "No soup for https://bacdive.dsmz.de/strain/163177\n"
     ]
    },
    {
     "name": "stderr",
     "output_type": "stream",
     "text": [
      "DSMZ Catalogue link Progress:  89%|████████▉ | 33764/37746 [1:32:45<15:24,  4.31it/s]"
     ]
    },
    {
     "name": "stdout",
     "output_type": "stream",
     "text": [
      "No soup for https://bacdive.dsmz.de/strain/163179\n",
      "No soup for https://bacdive.dsmz.de/strain/163180\n",
      "No soup for https://bacdive.dsmz.de/strain/163178\n",
      "No soup for https://bacdive.dsmz.de/strain/163185\n",
      "No soup for https://bacdive.dsmz.de/strain/163182\n"
     ]
    },
    {
     "name": "stderr",
     "output_type": "stream",
     "text": [
      "DSMZ Catalogue link Progress:  89%|████████▉ | 33768/37746 [1:32:46<14:44,  4.50it/s]"
     ]
    },
    {
     "name": "stdout",
     "output_type": "stream",
     "text": [
      "No soup for https://bacdive.dsmz.de/strain/134675\n",
      "No soup for https://bacdive.dsmz.de/strain/163187\n"
     ]
    },
    {
     "name": "stderr",
     "output_type": "stream",
     "text": [
      "DSMZ Catalogue link Progress:  89%|████████▉ | 33769/37746 [1:32:46<14:19,  4.63it/s]"
     ]
    },
    {
     "name": "stdout",
     "output_type": "stream",
     "text": [
      "No soup for https://bacdive.dsmz.de/strain/163191\n",
      "No soup for https://bacdive.dsmz.de/strain/163195\n"
     ]
    },
    {
     "name": "stderr",
     "output_type": "stream",
     "text": [
      "DSMZ Catalogue link Progress:  89%|████████▉ | 33773/37746 [1:32:46<11:12,  5.91it/s]"
     ]
    },
    {
     "name": "stdout",
     "output_type": "stream",
     "text": [
      "No soup for https://bacdive.dsmz.de/strain/163199\n",
      "No soup for https://bacdive.dsmz.de/strain/163237\n",
      "No soup for https://bacdive.dsmz.de/strain/163207\n",
      "No soup for https://bacdive.dsmz.de/strain/163243\n",
      "No soup for https://bacdive.dsmz.de/strain/163220\n"
     ]
    },
    {
     "name": "stderr",
     "output_type": "stream",
     "text": [
      "DSMZ Catalogue link Progress:  90%|████████▉ | 33793/37746 [1:32:47<01:48, 36.57it/s]"
     ]
    },
    {
     "name": "stdout",
     "output_type": "stream",
     "text": [
      "No soup for https://bacdive.dsmz.de/strain/163226\n",
      "No soup for https://bacdive.dsmz.de/strain/152594\n",
      "No soup for https://bacdive.dsmz.de/strain/163192\n",
      "No soup for https://bacdive.dsmz.de/strain/163203\n",
      "No soup for https://bacdive.dsmz.de/strain/163225\n",
      "No soup for https://bacdive.dsmz.de/strain/163194\n",
      "No soup for https://bacdive.dsmz.de/strain/153395\n",
      "No soup for https://bacdive.dsmz.de/strain/163216\n",
      "No soup for https://bacdive.dsmz.de/strain/163214\n",
      "No soup for https://bacdive.dsmz.de/strain/163200\n",
      "No soup for https://bacdive.dsmz.de/strain/163204\n",
      "No soup for https://bacdive.dsmz.de/strain/163212\n",
      "No soup for https://bacdive.dsmz.de/strain/163239\n",
      "No soup for https://bacdive.dsmz.de/strain/163224\n",
      "No soup for https://bacdive.dsmz.de/strain/163229\n",
      "No soup for https://bacdive.dsmz.de/strain/163193\n",
      "No soup for https://bacdive.dsmz.de/strain/163218\n",
      "No soup for https://bacdive.dsmz.de/strain/163228\n"
     ]
    },
    {
     "name": "stderr",
     "output_type": "stream",
     "text": [
      "DSMZ Catalogue link Progress:  90%|████████▉ | 33797/37746 [1:32:48<04:44, 13.86it/s]"
     ]
    },
    {
     "name": "stdout",
     "output_type": "stream",
     "text": [
      "No soup for https://bacdive.dsmz.de/strain/163210\n",
      "No soup for https://bacdive.dsmz.de/strain/163213\n",
      "No soup for https://bacdive.dsmz.de/strain/163198\n",
      "No soup for https://bacdive.dsmz.de/strain/163223\n",
      "No soup for https://bacdive.dsmz.de/strain/163202\n",
      "No soup for https://bacdive.dsmz.de/strain/163215\n",
      "No soup for https://bacdive.dsmz.de/strain/163248\n",
      "No soup for https://bacdive.dsmz.de/strain/163244\n",
      "No soup for https://bacdive.dsmz.de/strain/163250\n",
      "No soup for https://bacdive.dsmz.de/strain/163201\n",
      "No soup for https://bacdive.dsmz.de/strain/163247\n",
      "No soup for https://bacdive.dsmz.de/strain/163217\n",
      "No soup for https://bacdive.dsmz.de/strain/163219\n",
      "No soup for https://bacdive.dsmz.de/strain/163235\n",
      "No soup for https://bacdive.dsmz.de/strain/163231\n",
      "No soup for https://bacdive.dsmz.de/strain/163240\n",
      "No soup for https://bacdive.dsmz.de/strain/163301\n",
      "No soup for https://bacdive.dsmz.de/strain/163269\n",
      "No soup for https://bacdive.dsmz.de/strain/163222\n",
      "No soup for https://bacdive.dsmz.de/strain/163241\n",
      "No soup for https://bacdive.dsmz.de/strain/134698\n",
      "No soup for https://bacdive.dsmz.de/strain/163211\n",
      "No soup for https://bacdive.dsmz.de/strain/163246\n",
      "No soup for https://bacdive.dsmz.de/strain/163197\n",
      "No soup for https://bacdive.dsmz.de/strain/163310\n",
      "No soup for https://bacdive.dsmz.de/strain/163221\n",
      "No soup for https://bacdive.dsmz.de/strain/163255\n",
      "No soup for https://bacdive.dsmz.de/strain/153569\n",
      "No soup for https://bacdive.dsmz.de/strain/135266\n",
      "No soup for https://bacdive.dsmz.de/strain/134117\n"
     ]
    },
    {
     "name": "stderr",
     "output_type": "stream",
     "text": [
      "DSMZ Catalogue link Progress:  90%|████████▉ | 33884/37746 [1:32:50<06:47,  9.47it/s]"
     ]
    },
    {
     "name": "stdout",
     "output_type": "stream",
     "text": [
      "No soup for https://bacdive.dsmz.de/strain/135526No soup for https://bacdive.dsmz.de/strain/163319\n",
      "\n",
      "No soup for https://bacdive.dsmz.de/strain/134118\n",
      "No soup for https://bacdive.dsmz.de/strain/163245\n",
      "No soup for https://bacdive.dsmz.de/strain/136047\n",
      "No soup for https://bacdive.dsmz.de/strain/163318\n",
      "No soup for https://bacdive.dsmz.de/strain/163282\n",
      "No soup for https://bacdive.dsmz.de/strain/133657\n",
      "No soup for https://bacdive.dsmz.de/strain/134180\n",
      "No soup for https://bacdive.dsmz.de/strain/163298\n",
      "No soup for https://bacdive.dsmz.de/strain/163286\n",
      "No soup for https://bacdive.dsmz.de/strain/126509\n",
      "No soup for https://bacdive.dsmz.de/strain/163308\n",
      "No soup for https://bacdive.dsmz.de/strain/163299\n",
      "No soup for https://bacdive.dsmz.de/strain/163281\n",
      "No soup for https://bacdive.dsmz.de/strain/137388\n",
      "No soup for https://bacdive.dsmz.de/strain/163311\n",
      "No soup for https://bacdive.dsmz.de/strain/163274\n",
      "No soup for https://bacdive.dsmz.de/strain/134247\n",
      "No soup for https://bacdive.dsmz.de/strain/163321\n",
      "No soup for https://bacdive.dsmz.de/strain/163323\n",
      "No soup for https://bacdive.dsmz.de/strain/134304\n",
      "No soup for https://bacdive.dsmz.de/strain/163279\n",
      "No soup for https://bacdive.dsmz.de/strain/163254\n",
      "No soup for https://bacdive.dsmz.de/strain/163320\n",
      "No soup for https://bacdive.dsmz.de/strain/163315\n",
      "No soup for https://bacdive.dsmz.de/strain/134196\n",
      "No soup for https://bacdive.dsmz.de/strain/163283\n",
      "No soup for https://bacdive.dsmz.de/strain/163313\n",
      "No soup for https://bacdive.dsmz.de/strain/163314\n",
      "No soup for https://bacdive.dsmz.de/strain/163306\n",
      "No soup for https://bacdive.dsmz.de/strain/138767\n",
      "No soup for https://bacdive.dsmz.de/strain/134235\n",
      "No soup for https://bacdive.dsmz.de/strain/163312\n",
      "No soup for https://bacdive.dsmz.de/strain/163300\n",
      "No soup for https://bacdive.dsmz.de/strain/163307\n",
      "No soup for https://bacdive.dsmz.de/strain/163322\n",
      "No soup for https://bacdive.dsmz.de/strain/163230\n",
      "No soup for https://bacdive.dsmz.de/strain/163305\n",
      "No soup for https://bacdive.dsmz.de/strain/163316\n",
      "No soup for https://bacdive.dsmz.de/strain/134255\n",
      "No soup for https://bacdive.dsmz.de/strain/163256\n",
      "No soup for https://bacdive.dsmz.de/strain/163325\n",
      "No soup for https://bacdive.dsmz.de/strain/163348\n",
      "No soup for https://bacdive.dsmz.de/strain/163238\n",
      "No soup for https://bacdive.dsmz.de/strain/163304\n",
      "No soup for https://bacdive.dsmz.de/strain/163354\n",
      "No soup for https://bacdive.dsmz.de/strain/163302\n",
      "No soup for https://bacdive.dsmz.de/strain/163309\n",
      "No soup for https://bacdive.dsmz.de/strain/163251\n",
      "No soup for https://bacdive.dsmz.de/strain/163346\n",
      "No soup for https://bacdive.dsmz.de/strain/163280\n",
      "No soup for https://bacdive.dsmz.de/strain/163285\n",
      "No soup for https://bacdive.dsmz.de/strain/163234\n",
      "No soup for https://bacdive.dsmz.de/strain/163326\n",
      "No soup for https://bacdive.dsmz.de/strain/163233\n",
      "No soup for https://bacdive.dsmz.de/strain/163358\n",
      "No soup for https://bacdive.dsmz.de/strain/163253\n",
      "No soup for https://bacdive.dsmz.de/strain/134242\n",
      "No soup for https://bacdive.dsmz.de/strain/163190\n",
      "No soup for https://bacdive.dsmz.de/strain/163205\n",
      "No soup for https://bacdive.dsmz.de/strain/163303\n",
      "No soup for https://bacdive.dsmz.de/strain/134147\n",
      "No soup for https://bacdive.dsmz.de/strain/134243\n",
      "No soup for https://bacdive.dsmz.de/strain/163189\n",
      "No soup for https://bacdive.dsmz.de/strain/163284\n",
      "No soup for https://bacdive.dsmz.de/strain/163445\n",
      "No soup for https://bacdive.dsmz.de/strain/163242\n",
      "No soup for https://bacdive.dsmz.de/strain/163328\n",
      "No soup for https://bacdive.dsmz.de/strain/134246\n",
      "No soup for https://bacdive.dsmz.de/strain/163443\n",
      "No soup for https://bacdive.dsmz.de/strain/163335\n",
      "No soup for https://bacdive.dsmz.de/strain/163357\n",
      "No soup for https://bacdive.dsmz.de/strain/163329\n",
      "No soup for https://bacdive.dsmz.de/strain/163349\n",
      "No soup for https://bacdive.dsmz.de/strain/163236\n",
      "No soup for https://bacdive.dsmz.de/strain/163324\n",
      "No soup for https://bacdive.dsmz.de/strain/163327\n",
      "No soup for https://bacdive.dsmz.de/strain/163334\n",
      "No soup for https://bacdive.dsmz.de/strain/163337\n",
      "No soup for https://bacdive.dsmz.de/strain/163330\n",
      "No soup for https://bacdive.dsmz.de/strain/163353\n"
     ]
    },
    {
     "name": "stderr",
     "output_type": "stream",
     "text": [
      "DSMZ Catalogue link Progress:  90%|████████▉ | 33927/37746 [1:32:51<15:16,  4.17it/s]"
     ]
    },
    {
     "name": "stdout",
     "output_type": "stream",
     "text": [
      "No soup for https://bacdive.dsmz.de/strain/163450\n",
      "No soup for https://bacdive.dsmz.de/strain/163351\n",
      "No soup for https://bacdive.dsmz.de/strain/163317\n",
      "No soup for https://bacdive.dsmz.de/strain/163333\n",
      "No soup for https://bacdive.dsmz.de/strain/163338\n",
      "No soup for https://bacdive.dsmz.de/strain/163344\n",
      "No soup for https://bacdive.dsmz.de/strain/163442\n",
      "No soup for https://bacdive.dsmz.de/strain/163448\n",
      "No soup for https://bacdive.dsmz.de/strain/134199\n",
      "No soup for https://bacdive.dsmz.de/strain/134231\n",
      "No soup for https://bacdive.dsmz.de/strain/163441\n",
      "No soup for https://bacdive.dsmz.de/strain/138785\n",
      "No soup for https://bacdive.dsmz.de/strain/163331\n",
      "No soup for https://bacdive.dsmz.de/strain/163332\n",
      "No soup for https://bacdive.dsmz.de/strain/163455\n",
      "No soup for https://bacdive.dsmz.de/strain/163457\n",
      "No soup for https://bacdive.dsmz.de/strain/137389\n",
      "No soup for https://bacdive.dsmz.de/strain/163458\n",
      "No soup for https://bacdive.dsmz.de/strain/134628\n",
      "No soup for https://bacdive.dsmz.de/strain/163454\n",
      "No soup for https://bacdive.dsmz.de/strain/163451\n",
      "No soup for https://bacdive.dsmz.de/strain/133271\n"
     ]
    },
    {
     "name": "stderr",
     "output_type": "stream",
     "text": [
      "DSMZ Catalogue link Progress:  90%|████████▉ | 33928/37746 [1:32:51<15:53,  4.00it/s]"
     ]
    },
    {
     "name": "stdout",
     "output_type": "stream",
     "text": [
      "No soup for https://bacdive.dsmz.de/strain/163456\n"
     ]
    },
    {
     "name": "stderr",
     "output_type": "stream",
     "text": [
      "DSMZ Catalogue link Progress:  90%|████████▉ | 33930/37746 [1:32:53<20:10,  3.15it/s]"
     ]
    },
    {
     "name": "stdout",
     "output_type": "stream",
     "text": [
      "No soup for https://bacdive.dsmz.de/strain/163459\n",
      "No soup for https://bacdive.dsmz.de/strain/163471\n",
      "No soup for https://bacdive.dsmz.de/strain/163461\n",
      "No soup for https://bacdive.dsmz.de/strain/163464\n",
      "No soup for https://bacdive.dsmz.de/strain/163473\n"
     ]
    },
    {
     "name": "stderr",
     "output_type": "stream",
     "text": [
      "DSMZ Catalogue link Progress:  90%|████████▉ | 33937/37746 [1:32:53<12:58,  4.89it/s]"
     ]
    },
    {
     "name": "stdout",
     "output_type": "stream",
     "text": [
      "No soup for https://bacdive.dsmz.de/strain/163538\n",
      "No soup for https://bacdive.dsmz.de/strain/163475\n",
      "No soup for https://bacdive.dsmz.de/strain/163528\n",
      "No soup for https://bacdive.dsmz.de/strain/163474\n",
      "No soup for https://bacdive.dsmz.de/strain/163544\n",
      "No soup for https://bacdive.dsmz.de/strain/163476\n",
      "No soup for https://bacdive.dsmz.de/strain/163541\n",
      "No soup for https://bacdive.dsmz.de/strain/163503\n"
     ]
    },
    {
     "name": "stderr",
     "output_type": "stream",
     "text": [
      "DSMZ Catalogue link Progress:  90%|████████▉ | 33965/37746 [1:32:54<14:45,  4.27it/s]"
     ]
    },
    {
     "name": "stdout",
     "output_type": "stream",
     "text": [
      "No soup for https://bacdive.dsmz.de/strain/163462\n",
      "No soup for https://bacdive.dsmz.de/strain/163497\n",
      "No soup for https://bacdive.dsmz.de/strain/163479\n",
      "No soup for https://bacdive.dsmz.de/strain/163537\n",
      "No soup for https://bacdive.dsmz.de/strain/163533\n",
      "No soup for https://bacdive.dsmz.de/strain/163563\n",
      "No soup for https://bacdive.dsmz.de/strain/163550\n",
      "No soup for https://bacdive.dsmz.de/strain/163496\n",
      "No soup for https://bacdive.dsmz.de/strain/163478\n",
      "No soup for https://bacdive.dsmz.de/strain/163495\n",
      "No soup for https://bacdive.dsmz.de/strain/163493\n",
      "No soup for https://bacdive.dsmz.de/strain/163485\n",
      "No soup for https://bacdive.dsmz.de/strain/163500\n",
      "No soup for https://bacdive.dsmz.de/strain/163534\n",
      "No soup for https://bacdive.dsmz.de/strain/163483\n",
      "No soup for https://bacdive.dsmz.de/strain/163530\n",
      "No soup for https://bacdive.dsmz.de/strain/163489\n",
      "No soup for https://bacdive.dsmz.de/strain/163465\n",
      "No soup for https://bacdive.dsmz.de/strain/163556\n",
      "No soup for https://bacdive.dsmz.de/strain/163535\n",
      "No soup for https://bacdive.dsmz.de/strain/163472\n",
      "No soup for https://bacdive.dsmz.de/strain/163539\n",
      "No soup for https://bacdive.dsmz.de/strain/163546\n",
      "No soup for https://bacdive.dsmz.de/strain/163548\n",
      "No soup for https://bacdive.dsmz.de/strain/163560\n",
      "No soup for https://bacdive.dsmz.de/strain/163494\n",
      "No soup for https://bacdive.dsmz.de/strain/163502\n",
      "No soup for https://bacdive.dsmz.de/strain/163551\n",
      "No soup for https://bacdive.dsmz.de/strain/163575\n",
      "No soup for https://bacdive.dsmz.de/strain/163470\n",
      "No soup for https://bacdive.dsmz.de/strain/163499\n",
      "No soup for https://bacdive.dsmz.de/strain/163486\n"
     ]
    },
    {
     "name": "stderr",
     "output_type": "stream",
     "text": [
      "DSMZ Catalogue link Progress:  90%|█████████ | 34016/37746 [1:32:56<11:29,  5.41it/s]"
     ]
    },
    {
     "name": "stdout",
     "output_type": "stream",
     "text": [
      "No soup for https://bacdive.dsmz.de/strain/163554\n",
      "No soup for https://bacdive.dsmz.de/strain/163466\n",
      "No soup for https://bacdive.dsmz.de/strain/163542\n",
      "No soup for https://bacdive.dsmz.de/strain/163504\n",
      "No soup for https://bacdive.dsmz.de/strain/163491\n",
      "No soup for https://bacdive.dsmz.de/strain/163579\n",
      "No soup for https://bacdive.dsmz.de/strain/163480\n",
      "No soup for https://bacdive.dsmz.de/strain/163501\n",
      "No soup for https://bacdive.dsmz.de/strain/163572\n",
      "No soup for https://bacdive.dsmz.de/strain/163487\n",
      "No soup for https://bacdive.dsmz.de/strain/163549\n",
      "No soup for https://bacdive.dsmz.de/strain/163492\n",
      "No soup for https://bacdive.dsmz.de/strain/163577\n",
      "No soup for https://bacdive.dsmz.de/strain/163568\n",
      "No soup for https://bacdive.dsmz.de/strain/163581\n",
      "No soup for https://bacdive.dsmz.de/strain/163561\n",
      "No soup for https://bacdive.dsmz.de/strain/163573\n",
      "No soup for https://bacdive.dsmz.de/strain/163576\n",
      "No soup for https://bacdive.dsmz.de/strain/163559\n",
      "No soup for https://bacdive.dsmz.de/strain/163589\n",
      "No soup for https://bacdive.dsmz.de/strain/163596\n",
      "No soup for https://bacdive.dsmz.de/strain/163482\n",
      "No soup for https://bacdive.dsmz.de/strain/163571\n",
      "No soup for https://bacdive.dsmz.de/strain/163562\n",
      "No soup for https://bacdive.dsmz.de/strain/163574\n",
      "No soup for https://bacdive.dsmz.de/strain/163557\n",
      "No soup for https://bacdive.dsmz.de/strain/163580\n",
      "No soup for https://bacdive.dsmz.de/strain/163594\n",
      "No soup for https://bacdive.dsmz.de/strain/163613\n",
      "No soup for https://bacdive.dsmz.de/strain/163588\n",
      "No soup for https://bacdive.dsmz.de/strain/163612\n",
      "No soup for https://bacdive.dsmz.de/strain/163569\n",
      "No soup for https://bacdive.dsmz.de/strain/163593\n",
      "No soup for https://bacdive.dsmz.de/strain/163526\n",
      "No soup for https://bacdive.dsmz.de/strain/163590\n",
      "No soup for https://bacdive.dsmz.de/strain/163606\n",
      "No soup for https://bacdive.dsmz.de/strain/163603\n",
      "No soup for https://bacdive.dsmz.de/strain/163592\n",
      "No soup for https://bacdive.dsmz.de/strain/163527\n",
      "No soup for https://bacdive.dsmz.de/strain/163611\n",
      "No soup for https://bacdive.dsmz.de/strain/163598\n",
      "No soup for https://bacdive.dsmz.de/strain/163586\n",
      "No soup for https://bacdive.dsmz.de/strain/163597\n",
      "No soup for https://bacdive.dsmz.de/strain/163585\n",
      "No soup for https://bacdive.dsmz.de/strain/163553\n",
      "No soup for https://bacdive.dsmz.de/strain/163619\n",
      "No soup for https://bacdive.dsmz.de/strain/163610\n",
      "No soup for https://bacdive.dsmz.de/strain/163587\n",
      "No soup for https://bacdive.dsmz.de/strain/163604\n",
      "No soup for https://bacdive.dsmz.de/strain/163608\n",
      "No soup for https://bacdive.dsmz.de/strain/163623\n",
      "No soup for https://bacdive.dsmz.de/strain/163583\n",
      "No soup for https://bacdive.dsmz.de/strain/163595\n",
      "No soup for https://bacdive.dsmz.de/strain/163591\n",
      "No soup for https://bacdive.dsmz.de/strain/163624\n",
      "No soup for https://bacdive.dsmz.de/strain/163498\n",
      "No soup for https://bacdive.dsmz.de/strain/163600\n",
      "No soup for https://bacdive.dsmz.de/strain/163599\n",
      "No soup for https://bacdive.dsmz.de/strain/163601\n",
      "No soup for https://bacdive.dsmz.de/strain/163552\n",
      "No soup for https://bacdive.dsmz.de/strain/163555\n",
      "No soup for https://bacdive.dsmz.de/strain/163566\n",
      "No soup for https://bacdive.dsmz.de/strain/163628\n",
      "No soup for https://bacdive.dsmz.de/strain/163620\n",
      "No soup for https://bacdive.dsmz.de/strain/163621\n",
      "No soup for https://bacdive.dsmz.de/strain/163531\n",
      "No soup for https://bacdive.dsmz.de/strain/163543\n"
     ]
    },
    {
     "name": "stderr",
     "output_type": "stream",
     "text": [
      "DSMZ Catalogue link Progress:  90%|█████████ | 34048/37746 [1:32:57<28:43,  2.15it/s]"
     ]
    },
    {
     "name": "stdout",
     "output_type": "stream",
     "text": [
      "No soup for https://bacdive.dsmz.de/strain/163614\n",
      "No soup for https://bacdive.dsmz.de/strain/163609\n",
      "No soup for https://bacdive.dsmz.de/strain/163602\n",
      "No soup for https://bacdive.dsmz.de/strain/163622\n",
      "No soup for https://bacdive.dsmz.de/strain/163605\n",
      "No soup for https://bacdive.dsmz.de/strain/163626\n",
      "No soup for https://bacdive.dsmz.de/strain/163607\n",
      "No soup for https://bacdive.dsmz.de/strain/163625\n",
      "No soup for https://bacdive.dsmz.de/strain/163617\n",
      "No soup for https://bacdive.dsmz.de/strain/163629\n",
      "No soup for https://bacdive.dsmz.de/strain/163616\n",
      "No soup for https://bacdive.dsmz.de/strain/163618\n",
      "No soup for https://bacdive.dsmz.de/strain/163627\n"
     ]
    },
    {
     "name": "stderr",
     "output_type": "stream",
     "text": [
      "DSMZ Catalogue link Progress:  90%|█████████ | 34054/37746 [1:32:58<1:10:57,  1.15s/it]"
     ]
    },
    {
     "name": "stdout",
     "output_type": "stream",
     "text": [
      "No soup for https://bacdive.dsmz.de/strain/163631\n",
      "No soup for https://bacdive.dsmz.de/strain/163632\n"
     ]
    },
    {
     "name": "stderr",
     "output_type": "stream",
     "text": [
      "DSMZ Catalogue link Progress:  90%|█████████ | 34056/37746 [1:33:00<1:47:26,  1.75s/it]"
     ]
    },
    {
     "name": "stdout",
     "output_type": "stream",
     "text": [
      "No soup for https://bacdive.dsmz.de/strain/163633\n",
      "No soup for https://bacdive.dsmz.de/strain/163634\n"
     ]
    },
    {
     "name": "stderr",
     "output_type": "stream",
     "text": [
      "DSMZ Catalogue link Progress:  90%|█████████ | 34064/37746 [1:33:02<2:07:10,  2.07s/it]"
     ]
    },
    {
     "name": "stdout",
     "output_type": "stream",
     "text": [
      "No soup for https://bacdive.dsmz.de/strain/163635\n",
      "No soup for https://bacdive.dsmz.de/strain/163639\n",
      "No soup for https://bacdive.dsmz.de/strain/163637\n",
      "No soup for https://bacdive.dsmz.de/strain/163638\n",
      "No soup for https://bacdive.dsmz.de/strain/163636\n",
      "No soup for https://bacdive.dsmz.de/strain/163640\n",
      "No soup for https://bacdive.dsmz.de/strain/163641\n",
      "No soup for https://bacdive.dsmz.de/strain/140585\n",
      "No soup for https://bacdive.dsmz.de/strain/163642\n",
      "No soup for https://bacdive.dsmz.de/strain/163643\n"
     ]
    },
    {
     "name": "stderr",
     "output_type": "stream",
     "text": [
      "DSMZ Catalogue link Progress:  90%|█████████ | 34069/37746 [1:33:05<5:15:49,  5.15s/it]"
     ]
    },
    {
     "name": "stdout",
     "output_type": "stream",
     "text": [
      "No soup for https://bacdive.dsmz.de/strain/163644\n",
      "No soup for https://bacdive.dsmz.de/strain/163645\n",
      "No soup for https://bacdive.dsmz.de/strain/163647\n",
      "No soup for https://bacdive.dsmz.de/strain/163646\n",
      "No soup for https://bacdive.dsmz.de/strain/163648\n"
     ]
    },
    {
     "name": "stderr",
     "output_type": "stream",
     "text": [
      "DSMZ Catalogue link Progress:  90%|█████████ | 34075/37746 [1:33:09<8:16:10,  8.11s/it]"
     ]
    },
    {
     "name": "stdout",
     "output_type": "stream",
     "text": [
      "No soup for https://bacdive.dsmz.de/strain/163649\n",
      "No soup for https://bacdive.dsmz.de/strain/163650\n",
      "No soup for https://bacdive.dsmz.de/strain/163653\n",
      "No soup for https://bacdive.dsmz.de/strain/163651\n",
      "No soup for https://bacdive.dsmz.de/strain/163652\n"
     ]
    },
    {
     "name": "stderr",
     "output_type": "stream",
     "text": [
      "DSMZ Catalogue link Progress:  90%|█████████ | 34081/37746 [1:33:12<9:39:02,  9.48s/it]"
     ]
    },
    {
     "name": "stdout",
     "output_type": "stream",
     "text": [
      "No soup for https://bacdive.dsmz.de/strain/163654No soup for https://bacdive.dsmz.de/strain/163656\n",
      "\n",
      "No soup for https://bacdive.dsmz.de/strain/163658\n",
      "No soup for https://bacdive.dsmz.de/strain/163657\n",
      "No soup for https://bacdive.dsmz.de/strain/163659\n",
      "No soup for https://bacdive.dsmz.de/strain/163660\n"
     ]
    },
    {
     "name": "stderr",
     "output_type": "stream",
     "text": [
      "DSMZ Catalogue link Progress:  90%|█████████ | 34083/37746 [1:33:14<10:36:35, 10.43s/it]"
     ]
    },
    {
     "name": "stdout",
     "output_type": "stream",
     "text": [
      "No soup for https://bacdive.dsmz.de/strain/163661\n",
      "No soup for https://bacdive.dsmz.de/strain/163662\n"
     ]
    },
    {
     "name": "stderr",
     "output_type": "stream",
     "text": [
      "DSMZ Catalogue link Progress:  90%|█████████ | 34088/37746 [1:33:17<13:46:54, 13.56s/it]"
     ]
    },
    {
     "name": "stdout",
     "output_type": "stream",
     "text": [
      "No soup for https://bacdive.dsmz.de/strain/163663\n",
      "No soup for https://bacdive.dsmz.de/strain/163664\n",
      "No soup for https://bacdive.dsmz.de/strain/163665\n"
     ]
    },
    {
     "name": "stderr",
     "output_type": "stream",
     "text": [
      "DSMZ Catalogue link Progress:  90%|█████████ | 34093/37746 [1:33:19<15:56:30, 15.71s/it]"
     ]
    },
    {
     "name": "stdout",
     "output_type": "stream",
     "text": [
      "No soup for https://bacdive.dsmz.de/strain/163666\n",
      "No soup for https://bacdive.dsmz.de/strain/163449\n",
      "No soup for https://bacdive.dsmz.de/strain/163667\n",
      "No soup for https://bacdive.dsmz.de/strain/163668\n",
      "No soup for https://bacdive.dsmz.de/strain/163669\n",
      "No soup for https://bacdive.dsmz.de/strain/163453\n"
     ]
    },
    {
     "name": "stderr",
     "output_type": "stream",
     "text": [
      "DSMZ Catalogue link Progress:  90%|█████████ | 34099/37746 [1:33:22<17:21:07, 17.13s/it]"
     ]
    },
    {
     "name": "stdout",
     "output_type": "stream",
     "text": [
      "No soup for https://bacdive.dsmz.de/strain/163670\n",
      "No soup for https://bacdive.dsmz.de/strain/163671\n",
      "No soup for https://bacdive.dsmz.de/strain/163672\n",
      "No soup for https://bacdive.dsmz.de/strain/163673\n",
      "No soup for https://bacdive.dsmz.de/strain/163674\n",
      "No soup for https://bacdive.dsmz.de/strain/163684\n"
     ]
    },
    {
     "name": "stderr",
     "output_type": "stream",
     "text": [
      "DSMZ Catalogue link Progress:  90%|█████████ | 34105/37746 [1:33:25<19:40:30, 19.45s/it]"
     ]
    },
    {
     "name": "stdout",
     "output_type": "stream",
     "text": [
      "No soup for https://bacdive.dsmz.de/strain/163675\n",
      "No soup for https://bacdive.dsmz.de/strain/163685\n",
      "No soup for https://bacdive.dsmz.de/strain/163686\n",
      "No soup for https://bacdive.dsmz.de/strain/163687\n",
      "No soup for https://bacdive.dsmz.de/strain/163689\n"
     ]
    },
    {
     "name": "stderr",
     "output_type": "stream",
     "text": [
      "DSMZ Catalogue link Progress:  90%|█████████ | 34107/37746 [1:33:26<14:32:36, 14.39s/it]"
     ]
    },
    {
     "name": "stdout",
     "output_type": "stream",
     "text": [
      "No soup for https://bacdive.dsmz.de/strain/163688\n",
      "No soup for https://bacdive.dsmz.de/strain/163690\n",
      "No soup for https://bacdive.dsmz.de/strain/163691\n"
     ]
    },
    {
     "name": "stderr",
     "output_type": "stream",
     "text": [
      "DSMZ Catalogue link Progress:  90%|█████████ | 34111/37746 [1:33:28<25:15:14, 25.01s/it]"
     ]
    },
    {
     "name": "stdout",
     "output_type": "stream",
     "text": [
      "No soup for https://bacdive.dsmz.de/strain/163692\n",
      "No soup for https://bacdive.dsmz.de/strain/140643\n",
      "No soup for https://bacdive.dsmz.de/strain/163565\n",
      "No soup for https://bacdive.dsmz.de/strain/163547\n",
      "No soup for https://bacdive.dsmz.de/strain/163693\n"
     ]
    },
    {
     "name": "stderr",
     "output_type": "stream",
     "text": [
      "DSMZ Catalogue link Progress:  90%|█████████ | 34115/37746 [1:33:29<21:52:35, 21.69s/it]"
     ]
    },
    {
     "name": "stdout",
     "output_type": "stream",
     "text": [
      "No soup for https://bacdive.dsmz.de/strain/158814\n",
      "No soup for https://bacdive.dsmz.de/strain/163694\n",
      "No soup for https://bacdive.dsmz.de/strain/141038\n",
      "No soup for https://bacdive.dsmz.de/strain/163536\n",
      "No soup for https://bacdive.dsmz.de/strain/163695\n"
     ]
    },
    {
     "name": "stderr",
     "output_type": "stream",
     "text": [
      "DSMZ Catalogue link Progress:  90%|█████████ | 34122/37746 [1:33:30<22:05:47, 21.95s/it]"
     ]
    },
    {
     "name": "stdout",
     "output_type": "stream",
     "text": [
      "No soup for https://bacdive.dsmz.de/strain/163529\n",
      "No soup for https://bacdive.dsmz.de/strain/163558\n",
      "No soup for https://bacdive.dsmz.de/strain/163696\n",
      "No soup for https://bacdive.dsmz.de/strain/163582\n"
     ]
    },
    {
     "name": "stderr",
     "output_type": "stream",
     "text": [
      "DSMZ Catalogue link Progress:  90%|█████████ | 34123/37746 [1:33:30<17:22:53, 17.27s/it]"
     ]
    },
    {
     "name": "stdout",
     "output_type": "stream",
     "text": [
      "No soup for https://bacdive.dsmz.de/strain/163697\n"
     ]
    },
    {
     "name": "stderr",
     "output_type": "stream",
     "text": [
      "DSMZ Catalogue link Progress:  90%|█████████ | 34124/37746 [1:33:30<13:20:01, 13.25s/it]"
     ]
    },
    {
     "name": "stdout",
     "output_type": "stream",
     "text": [
      "No soup for https://bacdive.dsmz.de/strain/163698\n"
     ]
    },
    {
     "name": "stderr",
     "output_type": "stream",
     "text": [
      "DSMZ Catalogue link Progress:  90%|█████████ | 34125/37746 [1:33:31<10:05:14, 10.03s/it]"
     ]
    },
    {
     "name": "stdout",
     "output_type": "stream",
     "text": [
      "No soup for https://bacdive.dsmz.de/strain/133183\n"
     ]
    },
    {
     "name": "stderr",
     "output_type": "stream",
     "text": [
      "DSMZ Catalogue link Progress:  90%|█████████ | 34127/37746 [1:33:31<5:29:58,  5.47s/it] "
     ]
    },
    {
     "name": "stdout",
     "output_type": "stream",
     "text": [
      "No soup for https://bacdive.dsmz.de/strain/133287\n",
      "No soup for https://bacdive.dsmz.de/strain/163707\n"
     ]
    },
    {
     "name": "stderr",
     "output_type": "stream",
     "text": [
      "DSMZ Catalogue link Progress:  90%|█████████ | 34132/37746 [1:33:32<1:11:04,  1.18s/it]"
     ]
    },
    {
     "name": "stdout",
     "output_type": "stream",
     "text": [
      "No soup for https://bacdive.dsmz.de/strain/163701\n",
      "No soup for https://bacdive.dsmz.de/strain/163725\n",
      "No soup for https://bacdive.dsmz.de/strain/163700\n",
      "No soup for https://bacdive.dsmz.de/strain/163712\n",
      "No soup for https://bacdive.dsmz.de/strain/140872\n",
      "No soup for https://bacdive.dsmz.de/strain/163702\n"
     ]
    },
    {
     "name": "stderr",
     "output_type": "stream",
     "text": [
      "DSMZ Catalogue link Progress:  90%|█████████ | 34139/37746 [1:33:32<10:34,  5.69it/s]  "
     ]
    },
    {
     "name": "stdout",
     "output_type": "stream",
     "text": [
      "No soup for https://bacdive.dsmz.de/strain/163718\n",
      "No soup for https://bacdive.dsmz.de/strain/163706\n",
      "No soup for https://bacdive.dsmz.de/strain/163721\n",
      "No soup for https://bacdive.dsmz.de/strain/163717\n",
      "No soup for https://bacdive.dsmz.de/strain/163715\n",
      "No soup for https://bacdive.dsmz.de/strain/163704\n",
      "No soup for https://bacdive.dsmz.de/strain/163723\n",
      "No soup for https://bacdive.dsmz.de/strain/163719\n",
      "No soup for https://bacdive.dsmz.de/strain/163729\n",
      "No soup for https://bacdive.dsmz.de/strain/163710\n"
     ]
    },
    {
     "name": "stderr",
     "output_type": "stream",
     "text": [
      "DSMZ Catalogue link Progress:  91%|█████████ | 34163/37746 [1:33:33<01:52, 31.96it/s]"
     ]
    },
    {
     "name": "stdout",
     "output_type": "stream",
     "text": [
      "No soup for https://bacdive.dsmz.de/strain/140846No soup for https://bacdive.dsmz.de/strain/163708\n",
      "No soup for https://bacdive.dsmz.de/strain/163714\n",
      "No soup for https://bacdive.dsmz.de/strain/163741\n",
      "\n",
      "No soup for https://bacdive.dsmz.de/strain/163705\n",
      "No soup for https://bacdive.dsmz.de/strain/163731\n",
      "No soup for https://bacdive.dsmz.de/strain/163703\n",
      "No soup for https://bacdive.dsmz.de/strain/163722\n",
      "No soup for https://bacdive.dsmz.de/strain/163727\n",
      "No soup for https://bacdive.dsmz.de/strain/163713\n",
      "No soup for https://bacdive.dsmz.de/strain/163711\n",
      "No soup for https://bacdive.dsmz.de/strain/163730\n",
      "No soup for https://bacdive.dsmz.de/strain/163732\n",
      "No soup for https://bacdive.dsmz.de/strain/140951\n",
      "No soup for https://bacdive.dsmz.de/strain/163716\n",
      "No soup for https://bacdive.dsmz.de/strain/140921\n",
      "No soup for https://bacdive.dsmz.de/strain/140630\n",
      "No soup for https://bacdive.dsmz.de/strain/163745\n",
      "No soup for https://bacdive.dsmz.de/strain/133319\n",
      "No soup for https://bacdive.dsmz.de/strain/163734\n"
     ]
    },
    {
     "name": "stderr",
     "output_type": "stream",
     "text": [
      "DSMZ Catalogue link Progress:  91%|█████████ | 34169/37746 [1:33:33<02:45, 21.56it/s]"
     ]
    },
    {
     "name": "stdout",
     "output_type": "stream",
     "text": [
      "No soup for https://bacdive.dsmz.de/strain/141044\n",
      "No soup for https://bacdive.dsmz.de/strain/163754\n",
      "No soup for https://bacdive.dsmz.de/strain/163758\n",
      "No soup for https://bacdive.dsmz.de/strain/163744\n",
      "No soup for https://bacdive.dsmz.de/strain/163737\n",
      "No soup for https://bacdive.dsmz.de/strain/163755\n",
      "No soup for https://bacdive.dsmz.de/strain/163740\n",
      "No soup for https://bacdive.dsmz.de/strain/163748\n",
      "No soup for https://bacdive.dsmz.de/strain/133357\n",
      "No soup for https://bacdive.dsmz.de/strain/163766\n"
     ]
    },
    {
     "name": "stderr",
     "output_type": "stream",
     "text": [
      "DSMZ Catalogue link Progress:  91%|█████████ | 34180/37746 [1:33:33<03:11, 18.58it/s]"
     ]
    },
    {
     "name": "stdout",
     "output_type": "stream",
     "text": [
      "No soup for https://bacdive.dsmz.de/strain/163738\n",
      "No soup for https://bacdive.dsmz.de/strain/133222\n",
      "No soup for https://bacdive.dsmz.de/strain/163743\n",
      "No soup for https://bacdive.dsmz.de/strain/163742\n",
      "No soup for https://bacdive.dsmz.de/strain/163746\n",
      "No soup for https://bacdive.dsmz.de/strain/163759\n",
      "No soup for https://bacdive.dsmz.de/strain/163752\n",
      "No soup for https://bacdive.dsmz.de/strain/163726\n",
      "No soup for https://bacdive.dsmz.de/strain/163733\n"
     ]
    },
    {
     "name": "stderr",
     "output_type": "stream",
     "text": [
      "DSMZ Catalogue link Progress:  91%|█████████ | 34192/37746 [1:33:33<02:09, 27.38it/s]"
     ]
    },
    {
     "name": "stdout",
     "output_type": "stream",
     "text": [
      "No soup for https://bacdive.dsmz.de/strain/163772\n",
      "No soup for https://bacdive.dsmz.de/strain/163750\n",
      "No soup for https://bacdive.dsmz.de/strain/163756\n",
      "No soup for https://bacdive.dsmz.de/strain/163769\n",
      "No soup for https://bacdive.dsmz.de/strain/163757\n",
      "No soup for https://bacdive.dsmz.de/strain/163736\n",
      "No soup for https://bacdive.dsmz.de/strain/163749\n",
      "No soup for https://bacdive.dsmz.de/strain/163735\n",
      "No soup for https://bacdive.dsmz.de/strain/158533\n",
      "No soup for https://bacdive.dsmz.de/strain/136000\n",
      "No soup for https://bacdive.dsmz.de/strain/163764\n"
     ]
    },
    {
     "name": "stderr",
     "output_type": "stream",
     "text": [
      "DSMZ Catalogue link Progress:  91%|█████████ | 34199/37746 [1:33:34<02:01, 29.26it/s]"
     ]
    },
    {
     "name": "stdout",
     "output_type": "stream",
     "text": [
      "No soup for https://bacdive.dsmz.de/strain/163760\n",
      "No soup for https://bacdive.dsmz.de/strain/140925\n",
      "No soup for https://bacdive.dsmz.de/strain/163761\n",
      "No soup for https://bacdive.dsmz.de/strain/163778\n",
      "No soup for https://bacdive.dsmz.de/strain/163762\n",
      "No soup for https://bacdive.dsmz.de/strain/163747\n",
      "No soup for https://bacdive.dsmz.de/strain/163751\n",
      "No soup for https://bacdive.dsmz.de/strain/141067\n",
      "No soup for https://bacdive.dsmz.de/strain/140570No soup for https://bacdive.dsmz.de/strain/163787\n",
      "\n",
      "No soup for https://bacdive.dsmz.de/strain/163753\n"
     ]
    },
    {
     "name": "stderr",
     "output_type": "stream",
     "text": [
      "DSMZ Catalogue link Progress:  91%|█████████ | 34279/37746 [1:33:37<02:24, 24.00it/s]"
     ]
    },
    {
     "name": "stdout",
     "output_type": "stream",
     "text": [
      "No soup for https://bacdive.dsmz.de/strain/163828\n",
      "No soup for https://bacdive.dsmz.de/strain/163776\n",
      "No soup for https://bacdive.dsmz.de/strain/163780\n",
      "No soup for https://bacdive.dsmz.de/strain/163788\n",
      "No soup for https://bacdive.dsmz.de/strain/163819\n",
      "No soup for https://bacdive.dsmz.de/strain/163783\n",
      "No soup for https://bacdive.dsmz.de/strain/163728\n",
      "No soup for https://bacdive.dsmz.de/strain/163807\n",
      "No soup for https://bacdive.dsmz.de/strain/163795\n",
      "No soup for https://bacdive.dsmz.de/strain/163763\n",
      "No soup for https://bacdive.dsmz.de/strain/163801\n",
      "No soup for https://bacdive.dsmz.de/strain/163790\n",
      "No soup for https://bacdive.dsmz.de/strain/163779\n",
      "No soup for https://bacdive.dsmz.de/strain/163806\n",
      "No soup for https://bacdive.dsmz.de/strain/163802\n",
      "No soup for https://bacdive.dsmz.de/strain/163827\n",
      "No soup for https://bacdive.dsmz.de/strain/163826\n",
      "No soup for https://bacdive.dsmz.de/strain/163792\n",
      "No soup for https://bacdive.dsmz.de/strain/156908\n",
      "No soup for https://bacdive.dsmz.de/strain/163770\n",
      "No soup for https://bacdive.dsmz.de/strain/163785\n",
      "No soup for https://bacdive.dsmz.de/strain/163782\n",
      "No soup for https://bacdive.dsmz.de/strain/163774\n",
      "No soup for https://bacdive.dsmz.de/strain/163784\n",
      "No soup for https://bacdive.dsmz.de/strain/163777\n",
      "No soup for https://bacdive.dsmz.de/strain/163800\n",
      "No soup for https://bacdive.dsmz.de/strain/163765\n",
      "No soup for https://bacdive.dsmz.de/strain/140777\n",
      "No soup for https://bacdive.dsmz.de/strain/163821\n",
      "No soup for https://bacdive.dsmz.de/strain/141090\n",
      "No soup for https://bacdive.dsmz.de/strain/163773\n",
      "No soup for https://bacdive.dsmz.de/strain/163833\n",
      "No soup for https://bacdive.dsmz.de/strain/163834\n",
      "No soup for https://bacdive.dsmz.de/strain/163812\n",
      "No soup for https://bacdive.dsmz.de/strain/163811\n",
      "No soup for https://bacdive.dsmz.de/strain/163798\n",
      "No soup for https://bacdive.dsmz.de/strain/163816\n",
      "No soup for https://bacdive.dsmz.de/strain/163809\n",
      "No soup for https://bacdive.dsmz.de/strain/163824\n",
      "No soup for https://bacdive.dsmz.de/strain/163789\n",
      "No soup for https://bacdive.dsmz.de/strain/140676\n",
      "No soup for https://bacdive.dsmz.de/strain/140902\n",
      "No soup for https://bacdive.dsmz.de/strain/163832\n",
      "No soup for https://bacdive.dsmz.de/strain/163823\n",
      "No soup for https://bacdive.dsmz.de/strain/163793\n",
      "No soup for https://bacdive.dsmz.de/strain/163815\n",
      "No soup for https://bacdive.dsmz.de/strain/163768\n",
      "No soup for https://bacdive.dsmz.de/strain/163808\n",
      "No soup for https://bacdive.dsmz.de/strain/163739\n",
      "No soup for https://bacdive.dsmz.de/strain/163786\n",
      "No soup for https://bacdive.dsmz.de/strain/163835\n",
      "No soup for https://bacdive.dsmz.de/strain/163813\n",
      "No soup for https://bacdive.dsmz.de/strain/140885\n",
      "No soup for https://bacdive.dsmz.de/strain/163804\n",
      "No soup for https://bacdive.dsmz.de/strain/163818\n",
      "No soup for https://bacdive.dsmz.de/strain/163791\n",
      "No soup for https://bacdive.dsmz.de/strain/163767\n",
      "No soup for https://bacdive.dsmz.de/strain/140764\n",
      "No soup for https://bacdive.dsmz.de/strain/163830\n",
      "No soup for https://bacdive.dsmz.de/strain/163822\n",
      "No soup for https://bacdive.dsmz.de/strain/133185\n",
      "No soup for https://bacdive.dsmz.de/strain/163814\n",
      "No soup for https://bacdive.dsmz.de/strain/133417\n",
      "No soup for https://bacdive.dsmz.de/strain/163825\n",
      "No soup for https://bacdive.dsmz.de/strain/133106\n",
      "No soup for https://bacdive.dsmz.de/strain/133245\n",
      "No soup for https://bacdive.dsmz.de/strain/140935\n",
      "No soup for https://bacdive.dsmz.de/strain/163775\n",
      "No soup for https://bacdive.dsmz.de/strain/163810\n",
      "No soup for https://bacdive.dsmz.de/strain/163831\n",
      "No soup for https://bacdive.dsmz.de/strain/163771\n",
      "No soup for https://bacdive.dsmz.de/strain/159721\n",
      "No soup for https://bacdive.dsmz.de/strain/140549\n",
      "No soup for https://bacdive.dsmz.de/strain/163799\n",
      "No soup for https://bacdive.dsmz.de/strain/163803\n",
      "No soup for https://bacdive.dsmz.de/strain/163842\n",
      "No soup for https://bacdive.dsmz.de/strain/141144\n",
      "No soup for https://bacdive.dsmz.de/strain/163845\n",
      "No soup for https://bacdive.dsmz.de/strain/140895\n",
      "No soup for https://bacdive.dsmz.de/strain/133184\n",
      "No soup for https://bacdive.dsmz.de/strain/163841\n",
      "No soup for https://bacdive.dsmz.de/strain/163853\n",
      "No soup for https://bacdive.dsmz.de/strain/163838\n",
      "No soup for https://bacdive.dsmz.de/strain/158566\n",
      "No soup for https://bacdive.dsmz.de/strain/140473\n",
      "No soup for https://bacdive.dsmz.de/strain/163847\n",
      "No soup for https://bacdive.dsmz.de/strain/163837\n",
      "No soup for https://bacdive.dsmz.de/strain/163857\n",
      "No soup for https://bacdive.dsmz.de/strain/163850\n",
      "No soup for https://bacdive.dsmz.de/strain/163859\n",
      "No soup for https://bacdive.dsmz.de/strain/163846\n",
      "No soup for https://bacdive.dsmz.de/strain/140939\n",
      "No soup for https://bacdive.dsmz.de/strain/163843\n",
      "No soup for https://bacdive.dsmz.de/strain/163836\n",
      "No soup for https://bacdive.dsmz.de/strain/163805\n",
      "No soup for https://bacdive.dsmz.de/strain/163854\n",
      "No soup for https://bacdive.dsmz.de/strain/163856\n",
      "No soup for https://bacdive.dsmz.de/strain/163849\n",
      "No soup for https://bacdive.dsmz.de/strain/140913\n",
      "No soup for https://bacdive.dsmz.de/strain/133140\n",
      "No soup for https://bacdive.dsmz.de/strain/133265\n",
      "No soup for https://bacdive.dsmz.de/strain/163848\n",
      "No soup for https://bacdive.dsmz.de/strain/163839\n",
      "No soup for https://bacdive.dsmz.de/strain/163781\n",
      "No soup for https://bacdive.dsmz.de/strain/141129\n",
      "No soup for https://bacdive.dsmz.de/strain/133276\n",
      "No soup for https://bacdive.dsmz.de/strain/141006\n",
      "No soup for https://bacdive.dsmz.de/strain/163851\n"
     ]
    },
    {
     "name": "stderr",
     "output_type": "stream",
     "text": [
      "DSMZ Catalogue link Progress:  91%|█████████ | 34331/37746 [1:33:39<13:10,  4.32it/s]"
     ]
    },
    {
     "name": "stdout",
     "output_type": "stream",
     "text": [
      "No soup for https://bacdive.dsmz.de/strain/140637No soup for https://bacdive.dsmz.de/strain/163861\n",
      "\n",
      "No soup for https://bacdive.dsmz.de/strain/163820\n",
      "No soup for https://bacdive.dsmz.de/strain/133386\n",
      "No soup for https://bacdive.dsmz.de/strain/163855\n",
      "No soup for https://bacdive.dsmz.de/strain/163840\n",
      "No soup for https://bacdive.dsmz.de/strain/141055\n",
      "No soup for https://bacdive.dsmz.de/strain/141092\n",
      "No soup for https://bacdive.dsmz.de/strain/141091\n",
      "No soup for https://bacdive.dsmz.de/strain/133409\n",
      "No soup for https://bacdive.dsmz.de/strain/163860\n",
      "No soup for https://bacdive.dsmz.de/strain/140641\n",
      "No soup for https://bacdive.dsmz.de/strain/133130\n",
      "No soup for https://bacdive.dsmz.de/strain/163852\n",
      "No soup for https://bacdive.dsmz.de/strain/140834\n",
      "No soup for https://bacdive.dsmz.de/strain/140847\n",
      "No soup for https://bacdive.dsmz.de/strain/140845\n",
      "No soup for https://bacdive.dsmz.de/strain/141115\n",
      "No soup for https://bacdive.dsmz.de/strain/140492\n"
     ]
    },
    {
     "name": "stderr",
     "output_type": "stream",
     "text": [
      "DSMZ Catalogue link Progress:  91%|█████████ | 34332/37746 [1:33:39<14:19,  3.97it/s]"
     ]
    },
    {
     "name": "stdout",
     "output_type": "stream",
     "text": [
      "No soup for https://bacdive.dsmz.de/strain/163862\n"
     ]
    },
    {
     "name": "stderr",
     "output_type": "stream",
     "text": [
      "DSMZ Catalogue link Progress:  91%|█████████ | 34333/37746 [1:33:40<14:41,  3.87it/s]"
     ]
    },
    {
     "name": "stdout",
     "output_type": "stream",
     "text": [
      "No soup for https://bacdive.dsmz.de/strain/140644\n"
     ]
    },
    {
     "name": "stderr",
     "output_type": "stream",
     "text": [
      "DSMZ Catalogue link Progress:  91%|█████████ | 34335/37746 [1:33:40<13:29,  4.22it/s]"
     ]
    },
    {
     "name": "stdout",
     "output_type": "stream",
     "text": [
      "No soup for https://bacdive.dsmz.de/strain/133406\n",
      "No soup for https://bacdive.dsmz.de/strain/163863\n",
      "No soup for https://bacdive.dsmz.de/strain/140915\n"
     ]
    },
    {
     "name": "stderr",
     "output_type": "stream",
     "text": [
      "DSMZ Catalogue link Progress:  91%|█████████ | 34337/37746 [1:33:40<12:49,  4.43it/s]"
     ]
    },
    {
     "name": "stdout",
     "output_type": "stream",
     "text": [
      "No soup for https://bacdive.dsmz.de/strain/163864\n",
      "No soup for https://bacdive.dsmz.de/strain/163868\n",
      "No soup for https://bacdive.dsmz.de/strain/163870\n"
     ]
    },
    {
     "name": "stderr",
     "output_type": "stream",
     "text": [
      "DSMZ Catalogue link Progress:  91%|█████████ | 34342/37746 [1:33:41<09:14,  6.14it/s]"
     ]
    },
    {
     "name": "stdout",
     "output_type": "stream",
     "text": [
      "No soup for https://bacdive.dsmz.de/strain/163888\n",
      "No soup for https://bacdive.dsmz.de/strain/163886\n",
      "No soup for https://bacdive.dsmz.de/strain/141131\n"
     ]
    },
    {
     "name": "stderr",
     "output_type": "stream",
     "text": [
      "DSMZ Catalogue link Progress:  91%|█████████ | 34343/37746 [1:33:41<08:49,  6.42it/s]"
     ]
    },
    {
     "name": "stdout",
     "output_type": "stream",
     "text": [
      "No soup for https://bacdive.dsmz.de/strain/133523\n",
      "No soup for https://bacdive.dsmz.de/strain/163865\n"
     ]
    },
    {
     "name": "stderr",
     "output_type": "stream",
     "text": [
      "DSMZ Catalogue link Progress:  91%|█████████ | 34345/37746 [1:33:42<14:38,  3.87it/s]"
     ]
    },
    {
     "name": "stdout",
     "output_type": "stream",
     "text": [
      "No soup for https://bacdive.dsmz.de/strain/163892\n",
      "No soup for https://bacdive.dsmz.de/strain/163885\n",
      "No soup for https://bacdive.dsmz.de/strain/163880\n",
      "No soup for https://bacdive.dsmz.de/strain/141069\n",
      "No soup for https://bacdive.dsmz.de/strain/163873\n",
      "No soup for https://bacdive.dsmz.de/strain/163895\n",
      "No soup for https://bacdive.dsmz.de/strain/163893\n",
      "No soup for https://bacdive.dsmz.de/strain/163875\n",
      "No soup for https://bacdive.dsmz.de/strain/163878\n",
      "No soup for https://bacdive.dsmz.de/strain/163879\n",
      "No soup for https://bacdive.dsmz.de/strain/163890\n",
      "No soup for https://bacdive.dsmz.de/strain/163876\n",
      "No soup for https://bacdive.dsmz.de/strain/133132\n",
      "No soup for https://bacdive.dsmz.de/strain/163883\n",
      "No soup for https://bacdive.dsmz.de/strain/163901\n",
      "No soup for https://bacdive.dsmz.de/strain/163881\n",
      "No soup for https://bacdive.dsmz.de/strain/163882\n",
      "No soup for https://bacdive.dsmz.de/strain/163897\n",
      "No soup for https://bacdive.dsmz.de/strain/163891\n",
      "No soup for https://bacdive.dsmz.de/strain/163902\n",
      "No soup for https://bacdive.dsmz.de/strain/140838\n",
      "No soup for https://bacdive.dsmz.de/strain/133209\n",
      "No soup for https://bacdive.dsmz.de/strain/133342\n",
      "No soup for https://bacdive.dsmz.de/strain/163889\n",
      "No soup for https://bacdive.dsmz.de/strain/163898\n",
      "No soup for https://bacdive.dsmz.de/strain/163896\n",
      "No soup for https://bacdive.dsmz.de/strain/163914\n",
      "No soup for https://bacdive.dsmz.de/strain/140903\n",
      "No soup for https://bacdive.dsmz.de/strain/163894\n",
      "No soup for https://bacdive.dsmz.de/strain/140531\n",
      "No soup for https://bacdive.dsmz.de/strain/163866\n",
      "No soup for https://bacdive.dsmz.de/strain/163909\n",
      "No soup for https://bacdive.dsmz.de/strain/163928\n",
      "No soup for https://bacdive.dsmz.de/strain/140893\n",
      "No soup for https://bacdive.dsmz.de/strain/163905\n",
      "No soup for https://bacdive.dsmz.de/strain/163874\n",
      "No soup for https://bacdive.dsmz.de/strain/163872\n",
      "No soup for https://bacdive.dsmz.de/strain/163907\n",
      "No soup for https://bacdive.dsmz.de/strain/133198\n",
      "No soup for https://bacdive.dsmz.de/strain/140877\n",
      "No soup for https://bacdive.dsmz.de/strain/163923\n",
      "No soup for https://bacdive.dsmz.de/strain/163906\n",
      "No soup for https://bacdive.dsmz.de/strain/140835\n",
      "No soup for https://bacdive.dsmz.de/strain/163884\n",
      "No soup for https://bacdive.dsmz.de/strain/158589\n",
      "No soup for https://bacdive.dsmz.de/strain/163915\n",
      "No soup for https://bacdive.dsmz.de/strain/141099\n",
      "No soup for https://bacdive.dsmz.de/strain/163913\n",
      "No soup for https://bacdive.dsmz.de/strain/133398\n",
      "No soup for https://bacdive.dsmz.de/strain/163900\n",
      "No soup for https://bacdive.dsmz.de/strain/140816\n",
      "No soup for https://bacdive.dsmz.de/strain/141126\n",
      "No soup for https://bacdive.dsmz.de/strain/163871\n",
      "No soup for https://bacdive.dsmz.de/strain/163908\n",
      "No soup for https://bacdive.dsmz.de/strain/163899\n",
      "No soup for https://bacdive.dsmz.de/strain/141062\n",
      "No soup for https://bacdive.dsmz.de/strain/163887\n"
     ]
    },
    {
     "name": "stderr",
     "output_type": "stream",
     "text": [
      "DSMZ Catalogue link Progress:  91%|█████████▏| 34469/37746 [1:33:46<03:57, 13.82it/s]"
     ]
    },
    {
     "name": "stdout",
     "output_type": "stream",
     "text": [
      "No soup for https://bacdive.dsmz.de/strain/140810\n",
      "No soup for https://bacdive.dsmz.de/strain/133173\n",
      "No soup for https://bacdive.dsmz.de/strain/163922\n",
      "No soup for https://bacdive.dsmz.de/strain/141142\n",
      "No soup for https://bacdive.dsmz.de/strain/163927\n",
      "No soup for https://bacdive.dsmz.de/strain/137411\n",
      "No soup for https://bacdive.dsmz.de/strain/133239\n",
      "No soup for https://bacdive.dsmz.de/strain/163925\n",
      "No soup for https://bacdive.dsmz.de/strain/163934\n",
      "No soup for https://bacdive.dsmz.de/strain/163910\n",
      "No soup for https://bacdive.dsmz.de/strain/163944\n",
      "No soup for https://bacdive.dsmz.de/strain/163932\n",
      "No soup for https://bacdive.dsmz.de/strain/133193\n",
      "No soup for https://bacdive.dsmz.de/strain/163933\n",
      "No soup for https://bacdive.dsmz.de/strain/163935\n",
      "No soup for https://bacdive.dsmz.de/strain/163939\n",
      "No soup for https://bacdive.dsmz.de/strain/163911\n",
      "No soup for https://bacdive.dsmz.de/strain/163936\n",
      "No soup for https://bacdive.dsmz.de/strain/163921\n",
      "No soup for https://bacdive.dsmz.de/strain/133194\n",
      "No soup for https://bacdive.dsmz.de/strain/163943\n",
      "No soup for https://bacdive.dsmz.de/strain/163947\n",
      "No soup for https://bacdive.dsmz.de/strain/163924\n",
      "No soup for https://bacdive.dsmz.de/strain/163926\n",
      "No soup for https://bacdive.dsmz.de/strain/140513\n",
      "No soup for https://bacdive.dsmz.de/strain/140819\n",
      "No soup for https://bacdive.dsmz.de/strain/134061\n",
      "No soup for https://bacdive.dsmz.de/strain/163912\n",
      "No soup for https://bacdive.dsmz.de/strain/163931\n",
      "No soup for https://bacdive.dsmz.de/strain/163940\n",
      "No soup for https://bacdive.dsmz.de/strain/163930\n",
      "No soup for https://bacdive.dsmz.de/strain/163938\n",
      "No soup for https://bacdive.dsmz.de/strain/163920\n",
      "No soup for https://bacdive.dsmz.de/strain/163953\n",
      "No soup for https://bacdive.dsmz.de/strain/163917\n",
      "No soup for https://bacdive.dsmz.de/strain/163952\n",
      "No soup for https://bacdive.dsmz.de/strain/163951\n",
      "No soup for https://bacdive.dsmz.de/strain/163946\n",
      "No soup for https://bacdive.dsmz.de/strain/133401\n",
      "No soup for https://bacdive.dsmz.de/strain/163945\n",
      "No soup for https://bacdive.dsmz.de/strain/140781\n",
      "No soup for https://bacdive.dsmz.de/strain/163937\n",
      "No soup for https://bacdive.dsmz.de/strain/159885\n",
      "No soup for https://bacdive.dsmz.de/strain/163919\n",
      "No soup for https://bacdive.dsmz.de/strain/133241\n",
      "No soup for https://bacdive.dsmz.de/strain/133174\n",
      "No soup for https://bacdive.dsmz.de/strain/153568\n",
      "No soup for https://bacdive.dsmz.de/strain/140823\n",
      "No soup for https://bacdive.dsmz.de/strain/140871\n",
      "No soup for https://bacdive.dsmz.de/strain/140504\n",
      "No soup for https://bacdive.dsmz.de/strain/140815\n",
      "No soup for https://bacdive.dsmz.de/strain/133158\n",
      "No soup for https://bacdive.dsmz.de/strain/163950\n",
      "No soup for https://bacdive.dsmz.de/strain/163941\n",
      "No soup for https://bacdive.dsmz.de/strain/140604\n",
      "No soup for https://bacdive.dsmz.de/strain/133281\n",
      "No soup for https://bacdive.dsmz.de/strain/140825\n",
      "No soup for https://bacdive.dsmz.de/strain/133402\n",
      "No soup for https://bacdive.dsmz.de/strain/163904\n",
      "No soup for https://bacdive.dsmz.de/strain/140919\n",
      "No soup for https://bacdive.dsmz.de/strain/163929\n",
      "No soup for https://bacdive.dsmz.de/strain/140908\n",
      "No soup for https://bacdive.dsmz.de/strain/133170\n",
      "No soup for https://bacdive.dsmz.de/strain/140642\n",
      "No soup for https://bacdive.dsmz.de/strain/140520\n",
      "No soup for https://bacdive.dsmz.de/strain/140556\n"
     ]
    },
    {
     "name": "stderr",
     "output_type": "stream",
     "text": [
      "DSMZ Catalogue link Progress:  91%|█████████▏| 34470/37746 [1:33:47<03:57, 13.82it/s]"
     ]
    },
    {
     "name": "stdout",
     "output_type": "stream",
     "text": [
      "No soup for https://bacdive.dsmz.de/strain/136355\n"
     ]
    },
    {
     "name": "stderr",
     "output_type": "stream",
     "text": [
      "DSMZ Catalogue link Progress:  91%|█████████▏| 34476/37746 [1:33:47<16:59,  3.21it/s]"
     ]
    },
    {
     "name": "stdout",
     "output_type": "stream",
     "text": [
      "No soup for https://bacdive.dsmz.de/strain/163958\n",
      "No soup for https://bacdive.dsmz.de/strain/163959\n",
      "No soup for https://bacdive.dsmz.de/strain/163961\n",
      "No soup for https://bacdive.dsmz.de/strain/163955\n",
      "No soup for https://bacdive.dsmz.de/strain/163957\n",
      "No soup for https://bacdive.dsmz.de/strain/163956\n",
      "No soup for https://bacdive.dsmz.de/strain/163962\n",
      "No soup for https://bacdive.dsmz.de/strain/163960\n",
      "No soup for https://bacdive.dsmz.de/strain/163954\n"
     ]
    },
    {
     "name": "stderr",
     "output_type": "stream",
     "text": [
      "DSMZ Catalogue link Progress:  91%|█████████▏| 34485/37746 [1:33:48<58:21,  1.07s/it]"
     ]
    },
    {
     "name": "stdout",
     "output_type": "stream",
     "text": [
      "No soup for https://bacdive.dsmz.de/strain/163963\n",
      "No soup for https://bacdive.dsmz.de/strain/140702\n",
      "No soup for https://bacdive.dsmz.de/strain/159714\n",
      "No soup for https://bacdive.dsmz.de/strain/159749\n",
      "No soup for https://bacdive.dsmz.de/strain/140892\n",
      "No soup for https://bacdive.dsmz.de/strain/159836\n"
     ]
    },
    {
     "name": "stderr",
     "output_type": "stream",
     "text": [
      "DSMZ Catalogue link Progress:  91%|█████████▏| 34486/37746 [1:33:49<58:20,  1.07s/it]"
     ]
    },
    {
     "name": "stdout",
     "output_type": "stream",
     "text": [
      "No soup for https://bacdive.dsmz.de/strain/140859\n",
      "No soup for https://bacdive.dsmz.de/strain/158632\n"
     ]
    },
    {
     "name": "stderr",
     "output_type": "stream",
     "text": [
      "DSMZ Catalogue link Progress:  91%|█████████▏| 34497/37746 [1:33:50<50:39,  1.07it/s]  "
     ]
    },
    {
     "name": "stdout",
     "output_type": "stream",
     "text": [
      "No soup for https://bacdive.dsmz.de/strain/140499No soup for https://bacdive.dsmz.de/strain/140811\n",
      "\n",
      "No soup for https://bacdive.dsmz.de/strain/140817\n",
      "No soup for https://bacdive.dsmz.de/strain/140623\n",
      "No soup for https://bacdive.dsmz.de/strain/140618\n",
      "No soup for https://bacdive.dsmz.de/strain/140806\n",
      "No soup for https://bacdive.dsmz.de/strain/133332\n",
      "No soup for https://bacdive.dsmz.de/strain/133366\n",
      "No soup for https://bacdive.dsmz.de/strain/133208\n",
      "No soup for https://bacdive.dsmz.de/strain/140826\n"
     ]
    },
    {
     "name": "stderr",
     "output_type": "stream",
     "text": [
      "DSMZ Catalogue link Progress:  91%|█████████▏| 34501/37746 [1:33:51<1:28:13,  1.63s/it]"
     ]
    },
    {
     "name": "stdout",
     "output_type": "stream",
     "text": [
      "No soup for https://bacdive.dsmz.de/strain/140716\n",
      "No soup for https://bacdive.dsmz.de/strain/133159\n",
      "No soup for https://bacdive.dsmz.de/strain/140548\n",
      "No soup for https://bacdive.dsmz.de/strain/133161\n",
      "No soup for https://bacdive.dsmz.de/strain/140766\n"
     ]
    },
    {
     "name": "stderr",
     "output_type": "stream",
     "text": [
      "DSMZ Catalogue link Progress:  91%|█████████▏| 34504/37746 [1:33:51<1:49:46,  2.03s/it]"
     ]
    },
    {
     "name": "stdout",
     "output_type": "stream",
     "text": [
      "No soup for https://bacdive.dsmz.de/strain/158760\n",
      "No soup for https://bacdive.dsmz.de/strain/163966\n"
     ]
    },
    {
     "name": "stderr",
     "output_type": "stream",
     "text": [
      "DSMZ Catalogue link Progress:  91%|█████████▏| 34509/37746 [1:33:52<1:49:36,  2.03s/it]"
     ]
    },
    {
     "name": "stdout",
     "output_type": "stream",
     "text": [
      "No soup for https://bacdive.dsmz.de/strain/163967\n",
      "No soup for https://bacdive.dsmz.de/strain/140762\n",
      "No soup for https://bacdive.dsmz.de/strain/140539\n",
      "No soup for https://bacdive.dsmz.de/strain/158768\n",
      "No soup for https://bacdive.dsmz.de/strain/157032\n"
     ]
    },
    {
     "name": "stderr",
     "output_type": "stream",
     "text": [
      "DSMZ Catalogue link Progress:  91%|█████████▏| 34513/37746 [1:33:53<2:07:02,  2.36s/it]"
     ]
    },
    {
     "name": "stdout",
     "output_type": "stream",
     "text": [
      "No soup for https://bacdive.dsmz.de/strain/133150\n",
      "No soup for https://bacdive.dsmz.de/strain/140705\n",
      "No soup for https://bacdive.dsmz.de/strain/133318\n",
      "No soup for https://bacdive.dsmz.de/strain/133102\n",
      "No soup for https://bacdive.dsmz.de/strain/140495\n",
      "No soup for https://bacdive.dsmz.de/strain/141037\n",
      "No soup for https://bacdive.dsmz.de/strain/163968\n"
     ]
    },
    {
     "name": "stderr",
     "output_type": "stream",
     "text": [
      "DSMZ Catalogue link Progress:  91%|█████████▏| 34517/37746 [1:33:54<2:22:43,  2.65s/it]"
     ]
    },
    {
     "name": "stdout",
     "output_type": "stream",
     "text": [
      "No soup for https://bacdive.dsmz.de/strain/133317\n",
      "No soup for https://bacdive.dsmz.de/strain/133395\n",
      "No soup for https://bacdive.dsmz.de/strain/163969\n"
     ]
    },
    {
     "name": "stderr",
     "output_type": "stream",
     "text": [
      "DSMZ Catalogue link Progress:  91%|█████████▏| 34527/37746 [1:33:55<2:07:18,  2.37s/it]"
     ]
    },
    {
     "name": "stdout",
     "output_type": "stream",
     "text": [
      "No soup for https://bacdive.dsmz.de/strain/133309\n",
      "No soup for https://bacdive.dsmz.de/strain/140560\n",
      "No soup for https://bacdive.dsmz.de/strain/158555\n",
      "No soup for https://bacdive.dsmz.de/strain/133292\n",
      "No soup for https://bacdive.dsmz.de/strain/133221\n",
      "No soup for https://bacdive.dsmz.de/strain/133361\n",
      "No soup for https://bacdive.dsmz.de/strain/163970\n",
      "No soup for https://bacdive.dsmz.de/strain/158581\n",
      "No soup for https://bacdive.dsmz.de/strain/163977\n",
      "No soup for https://bacdive.dsmz.de/strain/163976\n",
      "No soup for https://bacdive.dsmz.de/strain/163972\n"
     ]
    },
    {
     "name": "stderr",
     "output_type": "stream",
     "text": [
      "DSMZ Catalogue link Progress:  92%|█████████▏| 34548/37746 [1:33:57<2:12:42,  2.49s/it]"
     ]
    },
    {
     "name": "stdout",
     "output_type": "stream",
     "text": [
      "No soup for https://bacdive.dsmz.de/strain/163978\n",
      "No soup for https://bacdive.dsmz.de/strain/163979\n",
      "No soup for https://bacdive.dsmz.de/strain/133167\n",
      "No soup for https://bacdive.dsmz.de/strain/140546\n",
      "No soup for https://bacdive.dsmz.de/strain/163980\n",
      "No soup for https://bacdive.dsmz.de/strain/133210\n",
      "No soup for https://bacdive.dsmz.de/strain/163973\n",
      "No soup for https://bacdive.dsmz.de/strain/163983\n",
      "No soup for https://bacdive.dsmz.de/strain/163984\n",
      "No soup for https://bacdive.dsmz.de/strain/163987\n",
      "No soup for https://bacdive.dsmz.de/strain/163989\n",
      "No soup for https://bacdive.dsmz.de/strain/163986\n",
      "No soup for https://bacdive.dsmz.de/strain/163988\n",
      "No soup for https://bacdive.dsmz.de/strain/163982\n",
      "No soup for https://bacdive.dsmz.de/strain/163981\n",
      "No soup for https://bacdive.dsmz.de/strain/163974\n",
      "No soup for https://bacdive.dsmz.de/strain/163991\n",
      "No soup for https://bacdive.dsmz.de/strain/163992\n"
     ]
    },
    {
     "name": "stderr",
     "output_type": "stream",
     "text": [
      "DSMZ Catalogue link Progress:  92%|█████████▏| 34549/37746 [1:33:57<2:56:36,  3.31s/it]"
     ]
    },
    {
     "name": "stdout",
     "output_type": "stream",
     "text": [
      "No soup for https://bacdive.dsmz.de/strain/163990\n"
     ]
    },
    {
     "name": "stderr",
     "output_type": "stream",
     "text": [
      "DSMZ Catalogue link Progress:  92%|█████████▏| 34552/37746 [1:33:58<4:52:40,  5.50s/it]"
     ]
    },
    {
     "name": "stdout",
     "output_type": "stream",
     "text": [
      "No soup for https://bacdive.dsmz.de/strain/163903\n",
      "No soup for https://bacdive.dsmz.de/strain/163916\n",
      "No soup for https://bacdive.dsmz.de/strain/163993\n"
     ]
    },
    {
     "name": "stderr",
     "output_type": "stream",
     "text": [
      "DSMZ Catalogue link Progress:  92%|█████████▏| 34554/37746 [1:33:58<3:28:59,  3.93s/it]"
     ]
    },
    {
     "name": "stdout",
     "output_type": "stream",
     "text": [
      "No soup for https://bacdive.dsmz.de/strain/163994\n",
      "No soup for https://bacdive.dsmz.de/strain/163995\n"
     ]
    },
    {
     "name": "stderr",
     "output_type": "stream",
     "text": [
      "DSMZ Catalogue link Progress:  92%|█████████▏| 34555/37746 [1:33:58<2:49:44,  3.19s/it]"
     ]
    },
    {
     "name": "stdout",
     "output_type": "stream",
     "text": [
      "No soup for https://bacdive.dsmz.de/strain/163997\n"
     ]
    },
    {
     "name": "stderr",
     "output_type": "stream",
     "text": [
      "DSMZ Catalogue link Progress:  92%|█████████▏| 34557/37746 [1:33:59<1:44:21,  1.96s/it]"
     ]
    },
    {
     "name": "stdout",
     "output_type": "stream",
     "text": [
      "No soup for https://bacdive.dsmz.de/strain/163998\n",
      "No soup for https://bacdive.dsmz.de/strain/140565\n"
     ]
    },
    {
     "name": "stderr",
     "output_type": "stream",
     "text": [
      "DSMZ Catalogue link Progress:  92%|█████████▏| 34559/37746 [1:33:59<1:02:10,  1.17s/it]"
     ]
    },
    {
     "name": "stdout",
     "output_type": "stream",
     "text": [
      "No soup for https://bacdive.dsmz.de/strain/133385\n",
      "No soup for https://bacdive.dsmz.de/strain/164000\n"
     ]
    },
    {
     "name": "stderr",
     "output_type": "stream",
     "text": [
      "DSMZ Catalogue link Progress:  92%|█████████▏| 34562/37746 [1:33:59<28:01,  1.89it/s]  "
     ]
    },
    {
     "name": "stdout",
     "output_type": "stream",
     "text": [
      "No soup for https://bacdive.dsmz.de/strain/158692\n",
      "No soup for https://bacdive.dsmz.de/strain/164030\n",
      "No soup for https://bacdive.dsmz.de/strain/164014\n"
     ]
    },
    {
     "name": "stderr",
     "output_type": "stream",
     "text": [
      "DSMZ Catalogue link Progress:  92%|█████████▏| 34570/37746 [1:34:00<04:21, 12.15it/s]"
     ]
    },
    {
     "name": "stdout",
     "output_type": "stream",
     "text": [
      "No soup for https://bacdive.dsmz.de/strain/133168\n",
      "No soup for https://bacdive.dsmz.de/strain/164009\n",
      "No soup for https://bacdive.dsmz.de/strain/140758\n",
      "No soup for https://bacdive.dsmz.de/strain/164025\n",
      "No soup for https://bacdive.dsmz.de/strain/133230\n",
      "No soup for https://bacdive.dsmz.de/strain/164037\n",
      "No soup for https://bacdive.dsmz.de/strain/164022\n",
      "No soup for https://bacdive.dsmz.de/strain/164024\n",
      "No soup for https://bacdive.dsmz.de/strain/164010\n"
     ]
    },
    {
     "name": "stderr",
     "output_type": "stream",
     "text": [
      "DSMZ Catalogue link Progress:  92%|█████████▏| 34582/37746 [1:34:00<01:01, 51.62it/s]"
     ]
    },
    {
     "name": "stdout",
     "output_type": "stream",
     "text": [
      "No soup for https://bacdive.dsmz.de/strain/164012\n",
      "No soup for https://bacdive.dsmz.de/strain/164001\n",
      "No soup for https://bacdive.dsmz.de/strain/164003\n",
      "No soup for https://bacdive.dsmz.de/strain/133269\n",
      "No soup for https://bacdive.dsmz.de/strain/140782\n",
      "No soup for https://bacdive.dsmz.de/strain/164017\n",
      "No soup for https://bacdive.dsmz.de/strain/164013\n",
      "No soup for https://bacdive.dsmz.de/strain/164027\n",
      "No soup for https://bacdive.dsmz.de/strain/164026\n",
      "No soup for https://bacdive.dsmz.de/strain/164011\n",
      "No soup for https://bacdive.dsmz.de/strain/133359\n",
      "No soup for https://bacdive.dsmz.de/strain/164028\n",
      "No soup for https://bacdive.dsmz.de/strain/164005\n",
      "No soup for https://bacdive.dsmz.de/strain/164015\n",
      "No soup for https://bacdive.dsmz.de/strain/164006\n"
     ]
    },
    {
     "name": "stderr",
     "output_type": "stream",
     "text": [
      "DSMZ Catalogue link Progress:  92%|█████████▏| 34592/37746 [1:34:00<01:25, 36.82it/s]"
     ]
    },
    {
     "name": "stdout",
     "output_type": "stream",
     "text": [
      "No soup for https://bacdive.dsmz.de/strain/164002No soup for https://bacdive.dsmz.de/strain/164019\n",
      "\n",
      "No soup for https://bacdive.dsmz.de/strain/140626\n",
      "No soup for https://bacdive.dsmz.de/strain/140771\n",
      "No soup for https://bacdive.dsmz.de/strain/164007\n",
      "No soup for https://bacdive.dsmz.de/strain/164018\n",
      "No soup for https://bacdive.dsmz.de/strain/164032\n",
      "No soup for https://bacdive.dsmz.de/strain/159789\n"
     ]
    },
    {
     "name": "stderr",
     "output_type": "stream",
     "text": [
      "DSMZ Catalogue link Progress:  92%|█████████▏| 34603/37746 [1:34:01<01:42, 30.65it/s]"
     ]
    },
    {
     "name": "stdout",
     "output_type": "stream",
     "text": [
      "No soup for https://bacdive.dsmz.de/strain/164039No soup for https://bacdive.dsmz.de/strain/133190\n",
      "\n",
      "No soup for https://bacdive.dsmz.de/strain/133314\n",
      "No soup for https://bacdive.dsmz.de/strain/140671\n",
      "No soup for https://bacdive.dsmz.de/strain/164021\n",
      "No soup for https://bacdive.dsmz.de/strain/164020\n",
      "No soup for https://bacdive.dsmz.de/strain/164045\n",
      "No soup for https://bacdive.dsmz.de/strain/164016\n"
     ]
    },
    {
     "name": "stderr",
     "output_type": "stream",
     "text": [
      "DSMZ Catalogue link Progress:  92%|█████████▏| 34615/37746 [1:34:01<01:44, 30.08it/s]"
     ]
    },
    {
     "name": "stdout",
     "output_type": "stream",
     "text": [
      "No soup for https://bacdive.dsmz.de/strain/133368\n",
      "No soup for https://bacdive.dsmz.de/strain/164038\n",
      "No soup for https://bacdive.dsmz.de/strain/164029\n",
      "No soup for https://bacdive.dsmz.de/strain/164057\n",
      "No soup for https://bacdive.dsmz.de/strain/140511\n",
      "No soup for https://bacdive.dsmz.de/strain/164034\n",
      "No soup for https://bacdive.dsmz.de/strain/164033\n",
      "No soup for https://bacdive.dsmz.de/strain/164047\n",
      "No soup for https://bacdive.dsmz.de/strain/133191\n",
      "No soup for https://bacdive.dsmz.de/strain/140700\n",
      "No soup for https://bacdive.dsmz.de/strain/164041\n",
      "No soup for https://bacdive.dsmz.de/strain/140970\n",
      "No soup for https://bacdive.dsmz.de/strain/164023\n",
      "No soup for https://bacdive.dsmz.de/strain/133331\n",
      "No soup for https://bacdive.dsmz.de/strain/164046\n"
     ]
    },
    {
     "name": "stderr",
     "output_type": "stream",
     "text": [
      "DSMZ Catalogue link Progress:  92%|█████████▏| 34627/37746 [1:34:01<03:41, 14.07it/s]"
     ]
    },
    {
     "name": "stdout",
     "output_type": "stream",
     "text": [
      "No soup for https://bacdive.dsmz.de/strain/133349\n",
      "No soup for https://bacdive.dsmz.de/strain/164044\n",
      "No soup for https://bacdive.dsmz.de/strain/140526\n",
      "No soup for https://bacdive.dsmz.de/strain/164040\n",
      "No soup for https://bacdive.dsmz.de/strain/164031\n",
      "No soup for https://bacdive.dsmz.de/strain/164048\n",
      "No soup for https://bacdive.dsmz.de/strain/164052\n",
      "No soup for https://bacdive.dsmz.de/strain/164049\n",
      "No soup for https://bacdive.dsmz.de/strain/164059\n",
      "No soup for https://bacdive.dsmz.de/strain/164054\n",
      "No soup for https://bacdive.dsmz.de/strain/164042\n",
      "No soup for https://bacdive.dsmz.de/strain/164051\n",
      "No soup for https://bacdive.dsmz.de/strain/140619\n",
      "No soup for https://bacdive.dsmz.de/strain/164077\n",
      "No soup for https://bacdive.dsmz.de/strain/164060\n",
      "No soup for https://bacdive.dsmz.de/strain/164073\n",
      "No soup for https://bacdive.dsmz.de/strain/164063\n"
     ]
    },
    {
     "name": "stderr",
     "output_type": "stream",
     "text": [
      "DSMZ Catalogue link Progress:  92%|█████████▏| 34747/37746 [1:34:07<21:52,  2.28it/s]"
     ]
    },
    {
     "name": "stdout",
     "output_type": "stream",
     "text": [
      "No soup for https://bacdive.dsmz.de/strain/164035No soup for https://bacdive.dsmz.de/strain/164055\n",
      "No soup for https://bacdive.dsmz.de/strain/164068\n",
      "No soup for https://bacdive.dsmz.de/strain/164050\n",
      "\n",
      "No soup for https://bacdive.dsmz.de/strain/164084\n",
      "No soup for https://bacdive.dsmz.de/strain/164072\n",
      "No soup for https://bacdive.dsmz.de/strain/133252\n",
      "No soup for https://bacdive.dsmz.de/strain/164066\n",
      "No soup for https://bacdive.dsmz.de/strain/164095\n",
      "No soup for https://bacdive.dsmz.de/strain/164062\n",
      "No soup for https://bacdive.dsmz.de/strain/164056\n",
      "No soup for https://bacdive.dsmz.de/strain/164053\n",
      "No soup for https://bacdive.dsmz.de/strain/164067\n",
      "No soup for https://bacdive.dsmz.de/strain/164075\n",
      "No soup for https://bacdive.dsmz.de/strain/164074\n",
      "No soup for https://bacdive.dsmz.de/strain/164036\n",
      "No soup for https://bacdive.dsmz.de/strain/140543\n",
      "No soup for https://bacdive.dsmz.de/strain/164086\n",
      "No soup for https://bacdive.dsmz.de/strain/133189\n",
      "No soup for https://bacdive.dsmz.de/strain/140567\n",
      "No soup for https://bacdive.dsmz.de/strain/164061\n",
      "No soup for https://bacdive.dsmz.de/strain/164071\n",
      "No soup for https://bacdive.dsmz.de/strain/164076\n",
      "No soup for https://bacdive.dsmz.de/strain/159763\n",
      "No soup for https://bacdive.dsmz.de/strain/164080\n",
      "No soup for https://bacdive.dsmz.de/strain/164058\n",
      "No soup for https://bacdive.dsmz.de/strain/133363\n",
      "No soup for https://bacdive.dsmz.de/strain/158747\n",
      "No soup for https://bacdive.dsmz.de/strain/164091\n",
      "No soup for https://bacdive.dsmz.de/strain/140555\n",
      "No soup for https://bacdive.dsmz.de/strain/164094\n",
      "No soup for https://bacdive.dsmz.de/strain/164081\n",
      "No soup for https://bacdive.dsmz.de/strain/133343\n",
      "No soup for https://bacdive.dsmz.de/strain/158594\n",
      "No soup for https://bacdive.dsmz.de/strain/164082\n",
      "No soup for https://bacdive.dsmz.de/strain/164070\n",
      "No soup for https://bacdive.dsmz.de/strain/133243\n",
      "No soup for https://bacdive.dsmz.de/strain/164065\n",
      "No soup for https://bacdive.dsmz.de/strain/164096\n",
      "No soup for https://bacdive.dsmz.de/strain/133310\n",
      "No soup for https://bacdive.dsmz.de/strain/164088\n",
      "No soup for https://bacdive.dsmz.de/strain/164083\n",
      "No soup for https://bacdive.dsmz.de/strain/164098\n",
      "No soup for https://bacdive.dsmz.de/strain/164097\n",
      "No soup for https://bacdive.dsmz.de/strain/133962\n",
      "No soup for https://bacdive.dsmz.de/strain/164099\n",
      "No soup for https://bacdive.dsmz.de/strain/164087\n",
      "No soup for https://bacdive.dsmz.de/strain/164111\n",
      "No soup for https://bacdive.dsmz.de/strain/164078\n",
      "No soup for https://bacdive.dsmz.de/strain/164085\n",
      "No soup for https://bacdive.dsmz.de/strain/164100\n",
      "No soup for https://bacdive.dsmz.de/strain/159710\n",
      "No soup for https://bacdive.dsmz.de/strain/140979\n",
      "No soup for https://bacdive.dsmz.de/strain/164079\n",
      "No soup for https://bacdive.dsmz.de/strain/133403\n",
      "No soup for https://bacdive.dsmz.de/strain/133397\n",
      "No soup for https://bacdive.dsmz.de/strain/164110\n",
      "No soup for https://bacdive.dsmz.de/strain/158746\n",
      "No soup for https://bacdive.dsmz.de/strain/133393\n",
      "No soup for https://bacdive.dsmz.de/strain/164064\n",
      "No soup for https://bacdive.dsmz.de/strain/140977\n",
      "No soup for https://bacdive.dsmz.de/strain/158773\n",
      "No soup for https://bacdive.dsmz.de/strain/164106\n",
      "No soup for https://bacdive.dsmz.de/strain/164112\n",
      "No soup for https://bacdive.dsmz.de/strain/164089\n",
      "No soup for https://bacdive.dsmz.de/strain/164103\n",
      "No soup for https://bacdive.dsmz.de/strain/140527\n",
      "No soup for https://bacdive.dsmz.de/strain/159759\n",
      "No soup for https://bacdive.dsmz.de/strain/133122\n",
      "No soup for https://bacdive.dsmz.de/strain/158576\n",
      "No soup for https://bacdive.dsmz.de/strain/164101\n",
      "No soup for https://bacdive.dsmz.de/strain/140538\n",
      "No soup for https://bacdive.dsmz.de/strain/158685\n",
      "No soup for https://bacdive.dsmz.de/strain/164090\n",
      "No soup for https://bacdive.dsmz.de/strain/141040\n",
      "No soup for https://bacdive.dsmz.de/strain/164104\n",
      "No soup for https://bacdive.dsmz.de/strain/133365\n",
      "No soup for https://bacdive.dsmz.de/strain/159828\n",
      "No soup for https://bacdive.dsmz.de/strain/140975\n",
      "No soup for https://bacdive.dsmz.de/strain/164102\n",
      "No soup for https://bacdive.dsmz.de/strain/158774\n",
      "No soup for https://bacdive.dsmz.de/strain/164105\n",
      "No soup for https://bacdive.dsmz.de/strain/140475\n",
      "No soup for https://bacdive.dsmz.de/strain/159733\n",
      "No soup for https://bacdive.dsmz.de/strain/159867\n",
      "No soup for https://bacdive.dsmz.de/strain/163630\n",
      "No soup for https://bacdive.dsmz.de/strain/136795\n",
      "No soup for https://bacdive.dsmz.de/strain/140587\n",
      "No soup for https://bacdive.dsmz.de/strain/164092\n",
      "No soup for https://bacdive.dsmz.de/strain/140575\n",
      "No soup for https://bacdive.dsmz.de/strain/133347\n",
      "No soup for https://bacdive.dsmz.de/strain/158560\n",
      "No soup for https://bacdive.dsmz.de/strain/133339\n",
      "No soup for https://bacdive.dsmz.de/strain/164093\n",
      "No soup for https://bacdive.dsmz.de/strain/133348\n",
      "No soup for https://bacdive.dsmz.de/strain/158592\n",
      "No soup for https://bacdive.dsmz.de/strain/140486\n",
      "No soup for https://bacdive.dsmz.de/strain/158621\n",
      "No soup for https://bacdive.dsmz.de/strain/164069\n",
      "No soup for https://bacdive.dsmz.de/strain/140670\n",
      "No soup for https://bacdive.dsmz.de/strain/141160\n",
      "No soup for https://bacdive.dsmz.de/strain/140976\n",
      "No soup for https://bacdive.dsmz.de/strain/140552\n",
      "No soup for https://bacdive.dsmz.de/strain/158763\n",
      "No soup for https://bacdive.dsmz.de/strain/158792\n",
      "No soup for https://bacdive.dsmz.de/strain/140474\n",
      "No soup for https://bacdive.dsmz.de/strain/164113\n",
      "No soup for https://bacdive.dsmz.de/strain/158600\n",
      "No soup for https://bacdive.dsmz.de/strain/140958\n",
      "No soup for https://bacdive.dsmz.de/strain/140677\n",
      "No soup for https://bacdive.dsmz.de/strain/133416\n",
      "No soup for https://bacdive.dsmz.de/strain/133364\n",
      "No soup for https://bacdive.dsmz.de/strain/140710\n",
      "No soup for https://bacdive.dsmz.de/strain/140767\n",
      "No soup for https://bacdive.dsmz.de/strain/133119\n",
      "No soup for https://bacdive.dsmz.de/strain/140561\n",
      "No soup for https://bacdive.dsmz.de/strain/133120\n"
     ]
    },
    {
     "name": "stderr",
     "output_type": "stream",
     "text": [
      "DSMZ Catalogue link Progress:  92%|█████████▏| 34753/37746 [1:34:08<39:17,  1.27it/s]"
     ]
    },
    {
     "name": "stdout",
     "output_type": "stream",
     "text": [
      "No soup for https://bacdive.dsmz.de/strain/164114\n"
     ]
    },
    {
     "name": "stderr",
     "output_type": "stream",
     "text": [
      "DSMZ Catalogue link Progress:  92%|█████████▏| 34755/37746 [1:34:09<1:08:44,  1.38s/it]"
     ]
    },
    {
     "name": "stdout",
     "output_type": "stream",
     "text": [
      "No soup for https://bacdive.dsmz.de/strain/164115\n",
      "No soup for https://bacdive.dsmz.de/strain/164116\n",
      "No soup for https://bacdive.dsmz.de/strain/140986\n"
     ]
    },
    {
     "name": "stderr",
     "output_type": "stream",
     "text": [
      "DSMZ Catalogue link Progress:  92%|█████████▏| 34764/37746 [1:34:10<2:18:10,  2.78s/it]"
     ]
    },
    {
     "name": "stdout",
     "output_type": "stream",
     "text": [
      "No soup for https://bacdive.dsmz.de/strain/158786No soup for https://bacdive.dsmz.de/strain/158764\n",
      "No soup for https://bacdive.dsmz.de/strain/164117\n",
      "No soup for https://bacdive.dsmz.de/strain/140564\n",
      "\n",
      "No soup for https://bacdive.dsmz.de/strain/140698\n",
      "No soup for https://bacdive.dsmz.de/strain/140763\n",
      "No soup for https://bacdive.dsmz.de/strain/164118\n",
      "No soup for https://bacdive.dsmz.de/strain/140477\n",
      "No soup for https://bacdive.dsmz.de/strain/140984\n",
      "No soup for https://bacdive.dsmz.de/strain/164119\n"
     ]
    },
    {
     "name": "stderr",
     "output_type": "stream",
     "text": [
      "DSMZ Catalogue link Progress:  92%|█████████▏| 34772/37746 [1:34:10<2:34:46,  3.12s/it]"
     ]
    },
    {
     "name": "stdout",
     "output_type": "stream",
     "text": [
      "No soup for https://bacdive.dsmz.de/strain/140957\n",
      "No soup for https://bacdive.dsmz.de/strain/141041\n",
      "No soup for https://bacdive.dsmz.de/strain/164120\n",
      "No soup for https://bacdive.dsmz.de/strain/164121\n",
      "No soup for https://bacdive.dsmz.de/strain/164122\n",
      "No soup for https://bacdive.dsmz.de/strain/140759\n",
      "No soup for https://bacdive.dsmz.de/strain/164123\n"
     ]
    },
    {
     "name": "stderr",
     "output_type": "stream",
     "text": [
      "DSMZ Catalogue link Progress:  92%|█████████▏| 34779/37746 [1:34:11<3:44:30,  4.54s/it]"
     ]
    },
    {
     "name": "stdout",
     "output_type": "stream",
     "text": [
      "No soup for https://bacdive.dsmz.de/strain/158537\n",
      "No soup for https://bacdive.dsmz.de/strain/158536\n",
      "No soup for https://bacdive.dsmz.de/strain/158785\n",
      "No soup for https://bacdive.dsmz.de/strain/164124\n",
      "No soup for https://bacdive.dsmz.de/strain/140947\n",
      "No soup for https://bacdive.dsmz.de/strain/140590\n",
      "No soup for https://bacdive.dsmz.de/strain/141074\n"
     ]
    },
    {
     "name": "stderr",
     "output_type": "stream",
     "text": [
      "DSMZ Catalogue link Progress:  92%|█████████▏| 34784/37746 [1:34:12<3:33:48,  4.33s/it]"
     ]
    },
    {
     "name": "stdout",
     "output_type": "stream",
     "text": [
      "No soup for https://bacdive.dsmz.de/strain/164125\n",
      "No soup for https://bacdive.dsmz.de/strain/141143\n",
      "No soup for https://bacdive.dsmz.de/strain/158710\n",
      "No soup for https://bacdive.dsmz.de/strain/158759\n",
      "No soup for https://bacdive.dsmz.de/strain/164127\n"
     ]
    },
    {
     "name": "stderr",
     "output_type": "stream",
     "text": [
      "DSMZ Catalogue link Progress:  92%|█████████▏| 34789/37746 [1:34:12<3:59:52,  4.87s/it]"
     ]
    },
    {
     "name": "stdout",
     "output_type": "stream",
     "text": [
      "No soup for https://bacdive.dsmz.de/strain/164128\n",
      "No soup for https://bacdive.dsmz.de/strain/164004\n",
      "No soup for https://bacdive.dsmz.de/strain/140865\n",
      "No soup for https://bacdive.dsmz.de/strain/140557\n"
     ]
    },
    {
     "name": "stderr",
     "output_type": "stream",
     "text": [
      "DSMZ Catalogue link Progress:  92%|█████████▏| 34791/37746 [1:34:13<3:42:38,  4.52s/it]"
     ]
    },
    {
     "name": "stdout",
     "output_type": "stream",
     "text": [
      "No soup for https://bacdive.dsmz.de/strain/158740\n",
      "No soup for https://bacdive.dsmz.de/strain/141039\n",
      "No soup for https://bacdive.dsmz.de/strain/140991\n",
      "No soup for https://bacdive.dsmz.de/strain/159825\n",
      "No soup for https://bacdive.dsmz.de/strain/158674\n",
      "No soup for https://bacdive.dsmz.de/strain/158648\n",
      "No soup for https://bacdive.dsmz.de/strain/140956\n",
      "No soup for https://bacdive.dsmz.de/strain/140738\n",
      "No soup for https://bacdive.dsmz.de/strain/140712\n"
     ]
    },
    {
     "name": "stderr",
     "output_type": "stream",
     "text": [
      "DSMZ Catalogue link Progress:  92%|█████████▏| 34799/37746 [1:34:13<1:30:02,  1.83s/it]"
     ]
    },
    {
     "name": "stdout",
     "output_type": "stream",
     "text": [
      "No soup for https://bacdive.dsmz.de/strain/140955\n"
     ]
    },
    {
     "name": "stderr",
     "output_type": "stream",
     "text": [
      "DSMZ Catalogue link Progress:  92%|█████████▏| 34801/37746 [1:34:14<1:14:15,  1.51s/it]"
     ]
    },
    {
     "name": "stdout",
     "output_type": "stream",
     "text": [
      "No soup for https://bacdive.dsmz.de/strain/164134\n",
      "No soup for https://bacdive.dsmz.de/strain/164159\n"
     ]
    },
    {
     "name": "stderr",
     "output_type": "stream",
     "text": [
      "DSMZ Catalogue link Progress:  92%|█████████▏| 34807/37746 [1:34:14<20:58,  2.34it/s]  "
     ]
    },
    {
     "name": "stdout",
     "output_type": "stream",
     "text": [
      "No soup for https://bacdive.dsmz.de/strain/164169\n",
      "No soup for https://bacdive.dsmz.de/strain/164155\n",
      "No soup for https://bacdive.dsmz.de/strain/164137\n",
      "No soup for https://bacdive.dsmz.de/strain/164141\n",
      "No soup for https://bacdive.dsmz.de/strain/158649\n",
      "No soup for https://bacdive.dsmz.de/strain/158626\n",
      "No soup for https://bacdive.dsmz.de/strain/164147\n",
      "No soup for https://bacdive.dsmz.de/strain/140780\n"
     ]
    },
    {
     "name": "stderr",
     "output_type": "stream",
     "text": [
      "DSMZ Catalogue link Progress:  92%|█████████▏| 34815/37746 [1:34:15<09:46,  5.00it/s]"
     ]
    },
    {
     "name": "stdout",
     "output_type": "stream",
     "text": [
      "No soup for https://bacdive.dsmz.de/strain/141002\n",
      "No soup for https://bacdive.dsmz.de/strain/164142\n",
      "No soup for https://bacdive.dsmz.de/strain/164157\n",
      "No soup for https://bacdive.dsmz.de/strain/164168\n",
      "No soup for https://bacdive.dsmz.de/strain/158542\n",
      "No soup for https://bacdive.dsmz.de/strain/164150\n",
      "No soup for https://bacdive.dsmz.de/strain/164139\n"
     ]
    },
    {
     "name": "stderr",
     "output_type": "stream",
     "text": [
      "DSMZ Catalogue link Progress:  92%|█████████▏| 34833/37746 [1:34:15<01:25, 34.02it/s]"
     ]
    },
    {
     "name": "stdout",
     "output_type": "stream",
     "text": [
      "No soup for https://bacdive.dsmz.de/strain/140685No soup for https://bacdive.dsmz.de/strain/164136\n",
      "\n",
      "No soup for https://bacdive.dsmz.de/strain/164151\n",
      "No soup for https://bacdive.dsmz.de/strain/164138\n",
      "No soup for https://bacdive.dsmz.de/strain/164145\n",
      "No soup for https://bacdive.dsmz.de/strain/164163\n",
      "No soup for https://bacdive.dsmz.de/strain/164140\n",
      "No soup for https://bacdive.dsmz.de/strain/164166\n",
      "No soup for https://bacdive.dsmz.de/strain/164162\n",
      "No soup for https://bacdive.dsmz.de/strain/164149\n",
      "No soup for https://bacdive.dsmz.de/strain/158751\n",
      "No soup for https://bacdive.dsmz.de/strain/164131\n",
      "No soup for https://bacdive.dsmz.de/strain/164160\n",
      "No soup for https://bacdive.dsmz.de/strain/164170\n",
      "No soup for https://bacdive.dsmz.de/strain/164135\n",
      "No soup for https://bacdive.dsmz.de/strain/164130\n",
      "No soup for https://bacdive.dsmz.de/strain/140791\n",
      "No soup for https://bacdive.dsmz.de/strain/164148\n",
      "No soup for https://bacdive.dsmz.de/strain/158545\n",
      "No soup for https://bacdive.dsmz.de/strain/158696\n",
      "No soup for https://bacdive.dsmz.de/strain/134042\n",
      "No soup for https://bacdive.dsmz.de/strain/141098\n",
      "No soup for https://bacdive.dsmz.de/strain/158543\n"
     ]
    },
    {
     "name": "stderr",
     "output_type": "stream",
     "text": [
      "DSMZ Catalogue link Progress:  92%|█████████▏| 34852/37746 [1:34:16<03:47, 12.70it/s]"
     ]
    },
    {
     "name": "stdout",
     "output_type": "stream",
     "text": [
      "No soup for https://bacdive.dsmz.de/strain/140718\n",
      "No soup for https://bacdive.dsmz.de/strain/158691\n",
      "No soup for https://bacdive.dsmz.de/strain/159827\n",
      "No soup for https://bacdive.dsmz.de/strain/164129\n",
      "No soup for https://bacdive.dsmz.de/strain/164167\n",
      "No soup for https://bacdive.dsmz.de/strain/158809\n",
      "No soup for https://bacdive.dsmz.de/strain/140724\n",
      "No soup for https://bacdive.dsmz.de/strain/164161\n",
      "No soup for https://bacdive.dsmz.de/strain/164172\n",
      "No soup for https://bacdive.dsmz.de/strain/164156\n",
      "No soup for https://bacdive.dsmz.de/strain/164144\n",
      "No soup for https://bacdive.dsmz.de/strain/164152\n",
      "No soup for https://bacdive.dsmz.de/strain/164158\n",
      "No soup for https://bacdive.dsmz.de/strain/140754\n"
     ]
    },
    {
     "name": "stderr",
     "output_type": "stream",
     "text": [
      "DSMZ Catalogue link Progress:  92%|█████████▏| 34854/37746 [1:34:16<03:48, 12.65it/s]"
     ]
    },
    {
     "name": "stdout",
     "output_type": "stream",
     "text": [
      "No soup for https://bacdive.dsmz.de/strain/141113\n",
      "No soup for https://bacdive.dsmz.de/strain/164154\n",
      "No soup for https://bacdive.dsmz.de/strain/164146\n",
      "No soup for https://bacdive.dsmz.de/strain/133133\n",
      "No soup for https://bacdive.dsmz.de/strain/141151\n",
      "No soup for https://bacdive.dsmz.de/strain/158539\n"
     ]
    },
    {
     "name": "stderr",
     "output_type": "stream",
     "text": [
      "DSMZ Catalogue link Progress:  92%|█████████▏| 34859/37746 [1:34:16<02:34, 18.69it/s]"
     ]
    },
    {
     "name": "stdout",
     "output_type": "stream",
     "text": [
      "No soup for https://bacdive.dsmz.de/strain/158591No soup for https://bacdive.dsmz.de/strain/141159\n",
      "No soup for https://bacdive.dsmz.de/strain/164182\n",
      "No soup for https://bacdive.dsmz.de/strain/164171\n",
      "No soup for https://bacdive.dsmz.de/strain/164177\n",
      "\n",
      "No soup for https://bacdive.dsmz.de/strain/164178\n",
      "No soup for https://bacdive.dsmz.de/strain/164173\n",
      "No soup for https://bacdive.dsmz.de/strain/164193\n",
      "No soup for https://bacdive.dsmz.de/strain/157214\n",
      "No soup for https://bacdive.dsmz.de/strain/158687\n",
      "No soup for https://bacdive.dsmz.de/strain/164186\n",
      "No soup for https://bacdive.dsmz.de/strain/164189\n",
      "No soup for https://bacdive.dsmz.de/strain/164175\n",
      "No soup for https://bacdive.dsmz.de/strain/140732\n",
      "No soup for https://bacdive.dsmz.de/strain/164181\n",
      "No soup for https://bacdive.dsmz.de/strain/159853\n",
      "No soup for https://bacdive.dsmz.de/strain/157213\n",
      "No soup for https://bacdive.dsmz.de/strain/164203\n",
      "No soup for https://bacdive.dsmz.de/strain/158656\n",
      "No soup for https://bacdive.dsmz.de/strain/164188\n",
      "No soup for https://bacdive.dsmz.de/strain/164201\n",
      "No soup for https://bacdive.dsmz.de/strain/140795\n",
      "No soup for https://bacdive.dsmz.de/strain/164191\n",
      "No soup for https://bacdive.dsmz.de/strain/164176\n",
      "No soup for https://bacdive.dsmz.de/strain/159837\n",
      "No soup for https://bacdive.dsmz.de/strain/164174\n",
      "No soup for https://bacdive.dsmz.de/strain/164195\n",
      "No soup for https://bacdive.dsmz.de/strain/158699\n",
      "No soup for https://bacdive.dsmz.de/strain/159863\n",
      "No soup for https://bacdive.dsmz.de/strain/164185\n",
      "No soup for https://bacdive.dsmz.de/strain/158647\n",
      "No soup for https://bacdive.dsmz.de/strain/164183\n",
      "No soup for https://bacdive.dsmz.de/strain/158698\n",
      "No soup for https://bacdive.dsmz.de/strain/164187\n",
      "No soup for https://bacdive.dsmz.de/strain/159826\n",
      "No soup for https://bacdive.dsmz.de/strain/141167\n",
      "No soup for https://bacdive.dsmz.de/strain/164198\n",
      "No soup for https://bacdive.dsmz.de/strain/164200\n",
      "No soup for https://bacdive.dsmz.de/strain/164199\n",
      "No soup for https://bacdive.dsmz.de/strain/133860\n",
      "No soup for https://bacdive.dsmz.de/strain/158697\n",
      "No soup for https://bacdive.dsmz.de/strain/164217\n",
      "No soup for https://bacdive.dsmz.de/strain/159728\n",
      "No soup for https://bacdive.dsmz.de/strain/141162\n",
      "No soup for https://bacdive.dsmz.de/strain/164209\n",
      "No soup for https://bacdive.dsmz.de/strain/164190\n",
      "No soup for https://bacdive.dsmz.de/strain/133905\n",
      "No soup for https://bacdive.dsmz.de/strain/164212\n",
      "No soup for https://bacdive.dsmz.de/strain/158776\n",
      "No soup for https://bacdive.dsmz.de/strain/141163\n",
      "No soup for https://bacdive.dsmz.de/strain/164206\n",
      "No soup for https://bacdive.dsmz.de/strain/164202\n",
      "No soup for https://bacdive.dsmz.de/strain/164180\n",
      "No soup for https://bacdive.dsmz.de/strain/158561\n",
      "No soup for https://bacdive.dsmz.de/strain/164211\n",
      "No soup for https://bacdive.dsmz.de/strain/158641\n",
      "No soup for https://bacdive.dsmz.de/strain/159718\n",
      "No soup for https://bacdive.dsmz.de/strain/158613\n",
      "No soup for https://bacdive.dsmz.de/strain/164213\n",
      "No soup for https://bacdive.dsmz.de/strain/158538\n",
      "No soup for https://bacdive.dsmz.de/strain/155616\n",
      "No soup for https://bacdive.dsmz.de/strain/158725\n",
      "No soup for https://bacdive.dsmz.de/strain/164216\n",
      "No soup for https://bacdive.dsmz.de/strain/164204\n",
      "No soup for https://bacdive.dsmz.de/strain/164192\n",
      "No soup for https://bacdive.dsmz.de/strain/164207\n",
      "No soup for https://bacdive.dsmz.de/strain/158635\n",
      "No soup for https://bacdive.dsmz.de/strain/158817\n",
      "No soup for https://bacdive.dsmz.de/strain/158638\n",
      "No soup for https://bacdive.dsmz.de/strain/158622\n",
      "No soup for https://bacdive.dsmz.de/strain/164232\n",
      "No soup for https://bacdive.dsmz.de/strain/164215\n",
      "No soup for https://bacdive.dsmz.de/strain/164218\n",
      "No soup for https://bacdive.dsmz.de/strain/164226\n",
      "No soup for https://bacdive.dsmz.de/strain/159877\n",
      "No soup for https://bacdive.dsmz.de/strain/164234\n",
      "No soup for https://bacdive.dsmz.de/strain/158570\n",
      "No soup for https://bacdive.dsmz.de/strain/164231\n",
      "No soup for https://bacdive.dsmz.de/strain/164194\n",
      "No soup for https://bacdive.dsmz.de/strain/141112\n",
      "No soup for https://bacdive.dsmz.de/strain/164228\n",
      "No soup for https://bacdive.dsmz.de/strain/164224\n",
      "No soup for https://bacdive.dsmz.de/strain/164179\n",
      "No soup for https://bacdive.dsmz.de/strain/159862\n",
      "No soup for https://bacdive.dsmz.de/strain/164227\n",
      "No soup for https://bacdive.dsmz.de/strain/164219\n",
      "No soup for https://bacdive.dsmz.de/strain/164214\n",
      "No soup for https://bacdive.dsmz.de/strain/164220\n",
      "No soup for https://bacdive.dsmz.de/strain/164223\n",
      "No soup for https://bacdive.dsmz.de/strain/159746\n",
      "No soup for https://bacdive.dsmz.de/strain/164208\n",
      "No soup for https://bacdive.dsmz.de/strain/164229\n",
      "No soup for https://bacdive.dsmz.de/strain/159717\n",
      "No soup for https://bacdive.dsmz.de/strain/164222\n",
      "No soup for https://bacdive.dsmz.de/strain/164205\n",
      "No soup for https://bacdive.dsmz.de/strain/158765\n",
      "No soup for https://bacdive.dsmz.de/strain/159707\n"
     ]
    },
    {
     "name": "stderr",
     "output_type": "stream",
     "text": [
      "DSMZ Catalogue link Progress:  93%|█████████▎| 34982/37746 [1:34:22<03:46, 12.22it/s]"
     ]
    },
    {
     "name": "stdout",
     "output_type": "stream",
     "text": [
      "No soup for https://bacdive.dsmz.de/strain/158787No soup for https://bacdive.dsmz.de/strain/158601\n",
      "No soup for https://bacdive.dsmz.de/strain/164210\n",
      "No soup for https://bacdive.dsmz.de/strain/164230\n",
      "No soup for https://bacdive.dsmz.de/strain/159729\n",
      "No soup for https://bacdive.dsmz.de/strain/158727\n",
      "No soup for https://bacdive.dsmz.de/strain/133575\n",
      "No soup for https://bacdive.dsmz.de/strain/159702\n",
      "No soup for https://bacdive.dsmz.de/strain/158612\n",
      "No soup for https://bacdive.dsmz.de/strain/158820\n",
      "No soup for https://bacdive.dsmz.de/strain/159881\n",
      "No soup for https://bacdive.dsmz.de/strain/158608\n",
      "No soup for https://bacdive.dsmz.de/strain/158624\n",
      "No soup for https://bacdive.dsmz.de/strain/158777\n",
      "No soup for https://bacdive.dsmz.de/strain/159795\n",
      "No soup for https://bacdive.dsmz.de/strain/158724\n",
      "\n",
      "No soup for https://bacdive.dsmz.de/strain/159796\n",
      "No soup for https://bacdive.dsmz.de/strain/158731\n",
      "No soup for https://bacdive.dsmz.de/strain/164233\n",
      "No soup for https://bacdive.dsmz.de/strain/164225\n",
      "No soup for https://bacdive.dsmz.de/strain/164221\n",
      "No soup for https://bacdive.dsmz.de/strain/159883\n",
      "No soup for https://bacdive.dsmz.de/strain/159745\n",
      "No soup for https://bacdive.dsmz.de/strain/164197\n",
      "No soup for https://bacdive.dsmz.de/strain/158819\n",
      "No soup for https://bacdive.dsmz.de/strain/159887\n"
     ]
    },
    {
     "name": "stderr",
     "output_type": "stream",
     "text": [
      "DSMZ Catalogue link Progress:  93%|█████████▎| 34982/37746 [1:34:22<03:46, 12.22it/s]"
     ]
    },
    {
     "name": "stdout",
     "output_type": "stream",
     "text": [
      "No soup for https://bacdive.dsmz.de/strain/157948\n"
     ]
    },
    {
     "name": "stderr",
     "output_type": "stream",
     "text": [
      "DSMZ Catalogue link Progress:  93%|█████████▎| 34985/37746 [1:34:23<04:02, 11.37it/s]"
     ]
    },
    {
     "name": "stdout",
     "output_type": "stream",
     "text": [
      "No soup for https://bacdive.dsmz.de/strain/158780\n"
     ]
    },
    {
     "name": "stderr",
     "output_type": "stream",
     "text": [
      "DSMZ Catalogue link Progress:  93%|█████████▎| 34986/37746 [1:34:23<04:16, 10.75it/s]"
     ]
    },
    {
     "name": "stdout",
     "output_type": "stream",
     "text": [
      "No soup for https://bacdive.dsmz.de/strain/164235\n",
      "No soup for https://bacdive.dsmz.de/strain/164236\n"
     ]
    },
    {
     "name": "stderr",
     "output_type": "stream",
     "text": [
      "DSMZ Catalogue link Progress:  93%|█████████▎| 34994/37746 [1:34:24<04:47,  9.56it/s]"
     ]
    },
    {
     "name": "stdout",
     "output_type": "stream",
     "text": [
      "No soup for https://bacdive.dsmz.de/strain/158642\n",
      "No soup for https://bacdive.dsmz.de/strain/164256\n",
      "No soup for https://bacdive.dsmz.de/strain/158637\n",
      "No soup for https://bacdive.dsmz.de/strain/158805\n",
      "No soup for https://bacdive.dsmz.de/strain/156802\n",
      "No soup for https://bacdive.dsmz.de/strain/159741\n",
      "No soup for https://bacdive.dsmz.de/strain/164237\n",
      "No soup for https://bacdive.dsmz.de/strain/164253\n"
     ]
    },
    {
     "name": "stderr",
     "output_type": "stream",
     "text": [
      "DSMZ Catalogue link Progress:  93%|█████████▎| 35000/37746 [1:34:24<03:56, 11.62it/s]"
     ]
    },
    {
     "name": "stdout",
     "output_type": "stream",
     "text": [
      "No soup for https://bacdive.dsmz.de/strain/164250\n",
      "No soup for https://bacdive.dsmz.de/strain/164263\n",
      "No soup for https://bacdive.dsmz.de/strain/159753\n",
      "No soup for https://bacdive.dsmz.de/strain/164255\n",
      "No soup for https://bacdive.dsmz.de/strain/159816\n"
     ]
    },
    {
     "name": "stderr",
     "output_type": "stream",
     "text": [
      "DSMZ Catalogue link Progress:  93%|█████████▎| 35008/37746 [1:34:24<01:33, 29.18it/s]"
     ]
    },
    {
     "name": "stdout",
     "output_type": "stream",
     "text": [
      "No soup for https://bacdive.dsmz.de/strain/164242\n",
      "No soup for https://bacdive.dsmz.de/strain/164258\n",
      "No soup for https://bacdive.dsmz.de/strain/164266\n",
      "No soup for https://bacdive.dsmz.de/strain/156903\n",
      "No soup for https://bacdive.dsmz.de/strain/164239\n",
      "No soup for https://bacdive.dsmz.de/strain/164267\n",
      "No soup for https://bacdive.dsmz.de/strain/164245\n",
      "No soup for https://bacdive.dsmz.de/strain/159739\n",
      "No soup for https://bacdive.dsmz.de/strain/159764\n"
     ]
    },
    {
     "name": "stderr",
     "output_type": "stream",
     "text": [
      "DSMZ Catalogue link Progress:  93%|█████████▎| 35013/37746 [1:34:25<01:35, 28.48it/s]"
     ]
    },
    {
     "name": "stdout",
     "output_type": "stream",
     "text": [
      "No soup for https://bacdive.dsmz.de/strain/164257\n",
      "No soup for https://bacdive.dsmz.de/strain/164271\n",
      "No soup for https://bacdive.dsmz.de/strain/164246\n",
      "No soup for https://bacdive.dsmz.de/strain/164252\n",
      "No soup for https://bacdive.dsmz.de/strain/164241\n",
      "No soup for https://bacdive.dsmz.de/strain/159732\n",
      "No soup for https://bacdive.dsmz.de/strain/164268\n",
      "No soup for https://bacdive.dsmz.de/strain/159740\n",
      "No soup for https://bacdive.dsmz.de/strain/159845\n",
      "No soup for https://bacdive.dsmz.de/strain/156803\n",
      "No soup for https://bacdive.dsmz.de/strain/164254\n"
     ]
    },
    {
     "name": "stderr",
     "output_type": "stream",
     "text": [
      "DSMZ Catalogue link Progress:  93%|█████████▎| 35033/37746 [1:34:25<01:32, 29.18it/s]"
     ]
    },
    {
     "name": "stdout",
     "output_type": "stream",
     "text": [
      "No soup for https://bacdive.dsmz.de/strain/164249No soup for https://bacdive.dsmz.de/strain/164259\n",
      "No soup for https://bacdive.dsmz.de/strain/164238\n",
      "\n",
      "No soup for https://bacdive.dsmz.de/strain/164243\n",
      "No soup for https://bacdive.dsmz.de/strain/164282\n",
      "No soup for https://bacdive.dsmz.de/strain/164269\n",
      "No soup for https://bacdive.dsmz.de/strain/164286\n",
      "No soup for https://bacdive.dsmz.de/strain/164261\n",
      "No soup for https://bacdive.dsmz.de/strain/164262\n",
      "No soup for https://bacdive.dsmz.de/strain/159823\n",
      "No soup for https://bacdive.dsmz.de/strain/164273\n",
      "No soup for https://bacdive.dsmz.de/strain/164248\n",
      "No soup for https://bacdive.dsmz.de/strain/164247\n",
      "No soup for https://bacdive.dsmz.de/strain/164251\n",
      "No soup for https://bacdive.dsmz.de/strain/164265\n",
      "No soup for https://bacdive.dsmz.de/strain/164240\n",
      "No soup for https://bacdive.dsmz.de/strain/164288\n",
      "No soup for https://bacdive.dsmz.de/strain/164279\n",
      "No soup for https://bacdive.dsmz.de/strain/158708\n",
      "No soup for https://bacdive.dsmz.de/strain/164280\n",
      "No soup for https://bacdive.dsmz.de/strain/159857\n",
      "No soup for https://bacdive.dsmz.de/strain/164283\n",
      "No soup for https://bacdive.dsmz.de/strain/164295\n"
     ]
    },
    {
     "name": "stderr",
     "output_type": "stream",
     "text": [
      "DSMZ Catalogue link Progress:  93%|█████████▎| 35050/37746 [1:34:25<03:22, 13.29it/s]"
     ]
    },
    {
     "name": "stdout",
     "output_type": "stream",
     "text": [
      "No soup for https://bacdive.dsmz.de/strain/133328\n",
      "No soup for https://bacdive.dsmz.de/strain/164277\n",
      "No soup for https://bacdive.dsmz.de/strain/164270\n",
      "No soup for https://bacdive.dsmz.de/strain/164275\n",
      "No soup for https://bacdive.dsmz.de/strain/164290\n",
      "No soup for https://bacdive.dsmz.de/strain/159775\n",
      "No soup for https://bacdive.dsmz.de/strain/164291\n"
     ]
    },
    {
     "name": "stderr",
     "output_type": "stream",
     "text": [
      "DSMZ Catalogue link Progress:  93%|█████████▎| 35052/37746 [1:34:26<03:40, 12.23it/s]"
     ]
    },
    {
     "name": "stdout",
     "output_type": "stream",
     "text": [
      "No soup for https://bacdive.dsmz.de/strain/164278\n",
      "No soup for https://bacdive.dsmz.de/strain/164272\n",
      "No soup for https://bacdive.dsmz.de/strain/164296\n",
      "No soup for https://bacdive.dsmz.de/strain/164274\n",
      "No soup for https://bacdive.dsmz.de/strain/164289\n",
      "No soup for https://bacdive.dsmz.de/strain/164301\n",
      "No soup for https://bacdive.dsmz.de/strain/140714\n",
      "No soup for https://bacdive.dsmz.de/strain/164281\n",
      "No soup for https://bacdive.dsmz.de/strain/164285\n"
     ]
    },
    {
     "name": "stderr",
     "output_type": "stream",
     "text": [
      "DSMZ Catalogue link Progress:  93%|█████████▎| 35060/37746 [1:34:26<01:27, 30.67it/s]"
     ]
    },
    {
     "name": "stdout",
     "output_type": "stream",
     "text": [
      "No soup for https://bacdive.dsmz.de/strain/164297\n",
      "No soup for https://bacdive.dsmz.de/strain/164276\n",
      "No soup for https://bacdive.dsmz.de/strain/164334\n"
     ]
    },
    {
     "name": "stderr",
     "output_type": "stream",
     "text": [
      "DSMZ Catalogue link Progress:  93%|█████████▎| 35065/37746 [1:34:26<01:53, 23.53it/s]"
     ]
    },
    {
     "name": "stdout",
     "output_type": "stream",
     "text": [
      "No soup for https://bacdive.dsmz.de/strain/159821\n",
      "No soup for https://bacdive.dsmz.de/strain/164306\n",
      "No soup for https://bacdive.dsmz.de/strain/164310\n",
      "No soup for https://bacdive.dsmz.de/strain/164305\n",
      "No soup for https://bacdive.dsmz.de/strain/164287\n",
      "No soup for https://bacdive.dsmz.de/strain/164264\n"
     ]
    },
    {
     "name": "stderr",
     "output_type": "stream",
     "text": [
      "DSMZ Catalogue link Progress:  93%|█████████▎| 35097/37746 [1:34:28<06:12,  7.12it/s]"
     ]
    },
    {
     "name": "stdout",
     "output_type": "stream",
     "text": [
      "No soup for https://bacdive.dsmz.de/strain/164311No soup for https://bacdive.dsmz.de/strain/164294\n",
      "\n",
      "No soup for https://bacdive.dsmz.de/strain/164322\n",
      "No soup for https://bacdive.dsmz.de/strain/164313\n",
      "No soup for https://bacdive.dsmz.de/strain/157232\n",
      "No soup for https://bacdive.dsmz.de/strain/164315\n",
      "No soup for https://bacdive.dsmz.de/strain/164298\n",
      "No soup for https://bacdive.dsmz.de/strain/164326\n",
      "No soup for https://bacdive.dsmz.de/strain/164316\n",
      "No soup for https://bacdive.dsmz.de/strain/164299\n",
      "No soup for https://bacdive.dsmz.de/strain/164325\n",
      "No soup for https://bacdive.dsmz.de/strain/164312\n",
      "No soup for https://bacdive.dsmz.de/strain/164324\n",
      "No soup for https://bacdive.dsmz.de/strain/164284\n",
      "No soup for https://bacdive.dsmz.de/strain/164342\n",
      "No soup for https://bacdive.dsmz.de/strain/164335\n",
      "No soup for https://bacdive.dsmz.de/strain/164336\n",
      "No soup for https://bacdive.dsmz.de/strain/159838\n",
      "No soup for https://bacdive.dsmz.de/strain/164300\n",
      "No soup for https://bacdive.dsmz.de/strain/164314\n",
      "No soup for https://bacdive.dsmz.de/strain/164321\n",
      "No soup for https://bacdive.dsmz.de/strain/164338\n",
      "No soup for https://bacdive.dsmz.de/strain/164360\n",
      "No soup for https://bacdive.dsmz.de/strain/164368\n",
      "No soup for https://bacdive.dsmz.de/strain/164364\n",
      "No soup for https://bacdive.dsmz.de/strain/164302\n",
      "No soup for https://bacdive.dsmz.de/strain/159850\n",
      "No soup for https://bacdive.dsmz.de/strain/164327\n",
      "No soup for https://bacdive.dsmz.de/strain/164378\n",
      "No soup for https://bacdive.dsmz.de/strain/164323\n",
      "No soup for https://bacdive.dsmz.de/strain/164318\n",
      "No soup for https://bacdive.dsmz.de/strain/157233\n",
      "No soup for https://bacdive.dsmz.de/strain/164347\n",
      "No soup for https://bacdive.dsmz.de/strain/159791\n",
      "No soup for https://bacdive.dsmz.de/strain/164337\n",
      "No soup for https://bacdive.dsmz.de/strain/164333\n",
      "No soup for https://bacdive.dsmz.de/strain/133267\n",
      "No soup for https://bacdive.dsmz.de/strain/157229\n",
      "No soup for https://bacdive.dsmz.de/strain/159842\n",
      "No soup for https://bacdive.dsmz.de/strain/164309\n",
      "No soup for https://bacdive.dsmz.de/strain/164345\n",
      "No soup for https://bacdive.dsmz.de/strain/164362\n",
      "No soup for https://bacdive.dsmz.de/strain/164343\n",
      "No soup for https://bacdive.dsmz.de/strain/164340\n",
      "No soup for https://bacdive.dsmz.de/strain/164391\n",
      "No soup for https://bacdive.dsmz.de/strain/159744\n",
      "No soup for https://bacdive.dsmz.de/strain/157230\n",
      "No soup for https://bacdive.dsmz.de/strain/164349\n",
      "No soup for https://bacdive.dsmz.de/strain/164382\n",
      "No soup for https://bacdive.dsmz.de/strain/164331\n",
      "No soup for https://bacdive.dsmz.de/strain/164363\n",
      "No soup for https://bacdive.dsmz.de/strain/164341\n",
      "No soup for https://bacdive.dsmz.de/strain/164320\n",
      "No soup for https://bacdive.dsmz.de/strain/164353\n",
      "No soup for https://bacdive.dsmz.de/strain/164381\n",
      "No soup for https://bacdive.dsmz.de/strain/164354\n",
      "No soup for https://bacdive.dsmz.de/strain/159742\n",
      "No soup for https://bacdive.dsmz.de/strain/159815\n",
      "No soup for https://bacdive.dsmz.de/strain/164384\n",
      "No soup for https://bacdive.dsmz.de/strain/158797\n",
      "No soup for https://bacdive.dsmz.de/strain/164376\n",
      "No soup for https://bacdive.dsmz.de/strain/157228\n"
     ]
    },
    {
     "name": "stderr",
     "output_type": "stream",
     "text": [
      "DSMZ Catalogue link Progress:  93%|█████████▎| 35198/37746 [1:34:31<05:19,  7.99it/s]"
     ]
    },
    {
     "name": "stdout",
     "output_type": "stream",
     "text": [
      "No soup for https://bacdive.dsmz.de/strain/164383No soup for https://bacdive.dsmz.de/strain/164375\n",
      "No soup for https://bacdive.dsmz.de/strain/164387\n",
      "No soup for https://bacdive.dsmz.de/strain/164346\n",
      "No soup for https://bacdive.dsmz.de/strain/164308\n",
      "No soup for https://bacdive.dsmz.de/strain/164355\n",
      "\n",
      "No soup for https://bacdive.dsmz.de/strain/164348\n",
      "No soup for https://bacdive.dsmz.de/strain/164380\n",
      "No soup for https://bacdive.dsmz.de/strain/159858\n",
      "No soup for https://bacdive.dsmz.de/strain/164317\n",
      "No soup for https://bacdive.dsmz.de/strain/164328\n",
      "No soup for https://bacdive.dsmz.de/strain/164367\n",
      "No soup for https://bacdive.dsmz.de/strain/164377\n",
      "No soup for https://bacdive.dsmz.de/strain/164372\n",
      "No soup for https://bacdive.dsmz.de/strain/164403\n",
      "No soup for https://bacdive.dsmz.de/strain/164392\n",
      "No soup for https://bacdive.dsmz.de/strain/164339\n",
      "No soup for https://bacdive.dsmz.de/strain/164332\n",
      "No soup for https://bacdive.dsmz.de/strain/164408\n",
      "No soup for https://bacdive.dsmz.de/strain/164371\n",
      "No soup for https://bacdive.dsmz.de/strain/159817\n",
      "No soup for https://bacdive.dsmz.de/strain/164388\n",
      "No soup for https://bacdive.dsmz.de/strain/164407\n",
      "No soup for https://bacdive.dsmz.de/strain/164379\n",
      "No soup for https://bacdive.dsmz.de/strain/164352\n",
      "No soup for https://bacdive.dsmz.de/strain/164395\n",
      "No soup for https://bacdive.dsmz.de/strain/164385\n",
      "No soup for https://bacdive.dsmz.de/strain/164389\n",
      "No soup for https://bacdive.dsmz.de/strain/164397\n",
      "No soup for https://bacdive.dsmz.de/strain/164386\n",
      "No soup for https://bacdive.dsmz.de/strain/164357\n",
      "No soup for https://bacdive.dsmz.de/strain/164409\n",
      "No soup for https://bacdive.dsmz.de/strain/164358\n",
      "No soup for https://bacdive.dsmz.de/strain/164365\n",
      "No soup for https://bacdive.dsmz.de/strain/164329\n",
      "No soup for https://bacdive.dsmz.de/strain/164393\n",
      "No soup for https://bacdive.dsmz.de/strain/164398\n",
      "No soup for https://bacdive.dsmz.de/strain/164401\n",
      "No soup for https://bacdive.dsmz.de/strain/164394\n",
      "No soup for https://bacdive.dsmz.de/strain/159814\n",
      "No soup for https://bacdive.dsmz.de/strain/164399\n",
      "No soup for https://bacdive.dsmz.de/strain/164369\n",
      "No soup for https://bacdive.dsmz.de/strain/164411\n",
      "No soup for https://bacdive.dsmz.de/strain/158625\n",
      "No soup for https://bacdive.dsmz.de/strain/164400\n",
      "No soup for https://bacdive.dsmz.de/strain/164374\n",
      "No soup for https://bacdive.dsmz.de/strain/164390\n",
      "No soup for https://bacdive.dsmz.de/strain/164412\n",
      "No soup for https://bacdive.dsmz.de/strain/164396\n",
      "No soup for https://bacdive.dsmz.de/strain/164373\n",
      "No soup for https://bacdive.dsmz.de/strain/164350\n",
      "No soup for https://bacdive.dsmz.de/strain/164366\n",
      "No soup for https://bacdive.dsmz.de/strain/164406\n",
      "No soup for https://bacdive.dsmz.de/strain/164405\n",
      "No soup for https://bacdive.dsmz.de/strain/164410\n",
      "No soup for https://bacdive.dsmz.de/strain/164370\n",
      "No soup for https://bacdive.dsmz.de/strain/133237\n",
      "No soup for https://bacdive.dsmz.de/strain/164413\n",
      "No soup for https://bacdive.dsmz.de/strain/157231\n",
      "No soup for https://bacdive.dsmz.de/strain/164417\n",
      "No soup for https://bacdive.dsmz.de/strain/164402\n",
      "No soup for https://bacdive.dsmz.de/strain/164351\n",
      "No soup for https://bacdive.dsmz.de/strain/164415\n",
      "No soup for https://bacdive.dsmz.de/strain/158643\n",
      "No soup for https://bacdive.dsmz.de/strain/164404\n",
      "No soup for https://bacdive.dsmz.de/strain/164414\n",
      "No soup for https://bacdive.dsmz.de/strain/164420\n",
      "No soup for https://bacdive.dsmz.de/strain/164418\n"
     ]
    },
    {
     "name": "stderr",
     "output_type": "stream",
     "text": [
      "DSMZ Catalogue link Progress:  93%|█████████▎| 35199/37746 [1:34:31<05:26,  7.80it/s]"
     ]
    },
    {
     "name": "stdout",
     "output_type": "stream",
     "text": [
      "No soup for https://bacdive.dsmz.de/strain/164419\n",
      "No soup for https://bacdive.dsmz.de/strain/164421\n"
     ]
    },
    {
     "name": "stderr",
     "output_type": "stream",
     "text": [
      "DSMZ Catalogue link Progress:  93%|█████████▎| 35204/37746 [1:34:32<05:39,  7.48it/s]"
     ]
    },
    {
     "name": "stdout",
     "output_type": "stream",
     "text": [
      "No soup for https://bacdive.dsmz.de/strain/164422\n",
      "No soup for https://bacdive.dsmz.de/strain/164423\n",
      "No soup for https://bacdive.dsmz.de/strain/164425\n",
      "No soup for https://bacdive.dsmz.de/strain/164424\n"
     ]
    },
    {
     "name": "stderr",
     "output_type": "stream",
     "text": [
      "DSMZ Catalogue link Progress:  93%|█████████▎| 35206/37746 [1:34:32<05:57,  7.10it/s]"
     ]
    },
    {
     "name": "stdout",
     "output_type": "stream",
     "text": [
      "No soup for https://bacdive.dsmz.de/strain/164436\n"
     ]
    },
    {
     "name": "stderr",
     "output_type": "stream",
     "text": [
      "DSMZ Catalogue link Progress:  93%|█████████▎| 35209/37746 [1:34:33<05:35,  7.57it/s]"
     ]
    },
    {
     "name": "stdout",
     "output_type": "stream",
     "text": [
      "No soup for https://bacdive.dsmz.de/strain/164438\n",
      "No soup for https://bacdive.dsmz.de/strain/164433\n",
      "No soup for https://bacdive.dsmz.de/strain/164428\n",
      "No soup for https://bacdive.dsmz.de/strain/164454\n"
     ]
    },
    {
     "name": "stderr",
     "output_type": "stream",
     "text": [
      "DSMZ Catalogue link Progress:  93%|█████████▎| 35219/37746 [1:34:33<02:49, 14.88it/s]"
     ]
    },
    {
     "name": "stdout",
     "output_type": "stream",
     "text": [
      "No soup for https://bacdive.dsmz.de/strain/164427\n",
      "No soup for https://bacdive.dsmz.de/strain/164429\n",
      "No soup for https://bacdive.dsmz.de/strain/164473\n",
      "No soup for https://bacdive.dsmz.de/strain/164443\n",
      "No soup for https://bacdive.dsmz.de/strain/164445\n",
      "No soup for https://bacdive.dsmz.de/strain/164477\n",
      "No soup for https://bacdive.dsmz.de/strain/164460\n",
      "No soup for https://bacdive.dsmz.de/strain/164452\n",
      "No soup for https://bacdive.dsmz.de/strain/164434\n",
      "No soup for https://bacdive.dsmz.de/strain/164442\n"
     ]
    },
    {
     "name": "stderr",
     "output_type": "stream",
     "text": [
      "DSMZ Catalogue link Progress:  93%|█████████▎| 35231/37746 [1:34:33<01:50, 22.74it/s]"
     ]
    },
    {
     "name": "stdout",
     "output_type": "stream",
     "text": [
      "No soup for https://bacdive.dsmz.de/strain/164435\n",
      "No soup for https://bacdive.dsmz.de/strain/164448\n",
      "No soup for https://bacdive.dsmz.de/strain/164475\n",
      "No soup for https://bacdive.dsmz.de/strain/164487\n",
      "No soup for https://bacdive.dsmz.de/strain/164453\n",
      "No soup for https://bacdive.dsmz.de/strain/164458\n",
      "No soup for https://bacdive.dsmz.de/strain/164450\n",
      "No soup for https://bacdive.dsmz.de/strain/164447\n",
      "No soup for https://bacdive.dsmz.de/strain/164478\n",
      "No soup for https://bacdive.dsmz.de/strain/164459\n",
      "No soup for https://bacdive.dsmz.de/strain/164446\n",
      "No soup for https://bacdive.dsmz.de/strain/164455\n",
      "No soup for https://bacdive.dsmz.de/strain/164466\n"
     ]
    },
    {
     "name": "stderr",
     "output_type": "stream",
     "text": [
      "DSMZ Catalogue link Progress:  93%|█████████▎| 35238/37746 [1:34:34<01:12, 34.43it/s]"
     ]
    },
    {
     "name": "stdout",
     "output_type": "stream",
     "text": [
      "No soup for https://bacdive.dsmz.de/strain/164437No soup for https://bacdive.dsmz.de/strain/164489\n",
      "\n",
      "No soup for https://bacdive.dsmz.de/strain/164464\n",
      "No soup for https://bacdive.dsmz.de/strain/164485\n",
      "No soup for https://bacdive.dsmz.de/strain/164481\n",
      "No soup for https://bacdive.dsmz.de/strain/164469\n",
      "No soup for https://bacdive.dsmz.de/strain/164439\n",
      "No soup for https://bacdive.dsmz.de/strain/164444\n"
     ]
    },
    {
     "name": "stderr",
     "output_type": "stream",
     "text": [
      "DSMZ Catalogue link Progress:  93%|█████████▎| 35242/37746 [1:34:34<01:20, 30.94it/s]"
     ]
    },
    {
     "name": "stdout",
     "output_type": "stream",
     "text": [
      "No soup for https://bacdive.dsmz.de/strain/164480No soup for https://bacdive.dsmz.de/strain/164490\n",
      "\n",
      "No soup for https://bacdive.dsmz.de/strain/164462\n",
      "No soup for https://bacdive.dsmz.de/strain/164483\n",
      "No soup for https://bacdive.dsmz.de/strain/164522\n",
      "No soup for https://bacdive.dsmz.de/strain/164463\n",
      "No soup for https://bacdive.dsmz.de/strain/164472\n",
      "No soup for https://bacdive.dsmz.de/strain/164494\n",
      "No soup for https://bacdive.dsmz.de/strain/164441\n",
      "No soup for https://bacdive.dsmz.de/strain/164492\n",
      "No soup for https://bacdive.dsmz.de/strain/164515\n",
      "No soup for https://bacdive.dsmz.de/strain/164496\n",
      "No soup for https://bacdive.dsmz.de/strain/164493\n",
      "No soup for https://bacdive.dsmz.de/strain/164482\n",
      "No soup for https://bacdive.dsmz.de/strain/164470\n",
      "No soup for https://bacdive.dsmz.de/strain/164500\n",
      "No soup for https://bacdive.dsmz.de/strain/164426\n",
      "No soup for https://bacdive.dsmz.de/strain/164449\n",
      "No soup for https://bacdive.dsmz.de/strain/164524\n",
      "No soup for https://bacdive.dsmz.de/strain/164468\n",
      "No soup for https://bacdive.dsmz.de/strain/164536\n",
      "No soup for https://bacdive.dsmz.de/strain/164523\n",
      "No soup for https://bacdive.dsmz.de/strain/164498\n",
      "No soup for https://bacdive.dsmz.de/strain/141116\n",
      "No soup for https://bacdive.dsmz.de/strain/164548\n",
      "No soup for https://bacdive.dsmz.de/strain/164476\n",
      "No soup for https://bacdive.dsmz.de/strain/164507\n",
      "No soup for https://bacdive.dsmz.de/strain/164519\n",
      "No soup for https://bacdive.dsmz.de/strain/164465\n",
      "No soup for https://bacdive.dsmz.de/strain/164509\n",
      "No soup for https://bacdive.dsmz.de/strain/164484\n",
      "No soup for https://bacdive.dsmz.de/strain/164526\n",
      "No soup for https://bacdive.dsmz.de/strain/164510\n",
      "No soup for https://bacdive.dsmz.de/strain/164440\n",
      "No soup for https://bacdive.dsmz.de/strain/164501\n",
      "No soup for https://bacdive.dsmz.de/strain/164488\n",
      "No soup for https://bacdive.dsmz.de/strain/164467\n",
      "No soup for https://bacdive.dsmz.de/strain/164538\n",
      "No soup for https://bacdive.dsmz.de/strain/164521\n",
      "No soup for https://bacdive.dsmz.de/strain/164456\n",
      "No soup for https://bacdive.dsmz.de/strain/164537\n",
      "No soup for https://bacdive.dsmz.de/strain/164513\n",
      "No soup for https://bacdive.dsmz.de/strain/164514\n",
      "No soup for https://bacdive.dsmz.de/strain/164520\n",
      "No soup for https://bacdive.dsmz.de/strain/164512\n",
      "No soup for https://bacdive.dsmz.de/strain/164506\n",
      "No soup for https://bacdive.dsmz.de/strain/164479\n",
      "No soup for https://bacdive.dsmz.de/strain/164486\n",
      "No soup for https://bacdive.dsmz.de/strain/164508\n",
      "No soup for https://bacdive.dsmz.de/strain/133692\n",
      "No soup for https://bacdive.dsmz.de/strain/164535\n",
      "No soup for https://bacdive.dsmz.de/strain/164495\n",
      "No soup for https://bacdive.dsmz.de/strain/164504\n",
      "No soup for https://bacdive.dsmz.de/strain/164502\n",
      "No soup for https://bacdive.dsmz.de/strain/164549\n",
      "No soup for https://bacdive.dsmz.de/strain/164543\n",
      "No soup for https://bacdive.dsmz.de/strain/164461\n",
      "No soup for https://bacdive.dsmz.de/strain/164530\n",
      "No soup for https://bacdive.dsmz.de/strain/164518\n"
     ]
    },
    {
     "name": "stderr",
     "output_type": "stream",
     "text": [
      "DSMZ Catalogue link Progress:  94%|█████████▎| 35303/37746 [1:34:36<01:25, 28.51it/s]"
     ]
    },
    {
     "name": "stdout",
     "output_type": "stream",
     "text": [
      "No soup for https://bacdive.dsmz.de/strain/164545No soup for https://bacdive.dsmz.de/strain/164544\n",
      "No soup for https://bacdive.dsmz.de/strain/164576\n",
      "No soup for https://bacdive.dsmz.de/strain/164542\n",
      "No soup for https://bacdive.dsmz.de/strain/164555\n",
      "No soup for https://bacdive.dsmz.de/strain/164457\n",
      "No soup for https://bacdive.dsmz.de/strain/164556\n",
      "No soup for https://bacdive.dsmz.de/strain/159716\n",
      "No soup for https://bacdive.dsmz.de/strain/164516\n",
      "No soup for https://bacdive.dsmz.de/strain/164582\n",
      "\n",
      "No soup for https://bacdive.dsmz.de/strain/164550\n",
      "No soup for https://bacdive.dsmz.de/strain/164517\n",
      "No soup for https://bacdive.dsmz.de/strain/164583\n",
      "No soup for https://bacdive.dsmz.de/strain/164578\n",
      "No soup for https://bacdive.dsmz.de/strain/164528\n",
      "No soup for https://bacdive.dsmz.de/strain/164534\n",
      "No soup for https://bacdive.dsmz.de/strain/164546\n",
      "No soup for https://bacdive.dsmz.de/strain/164590\n",
      "No soup for https://bacdive.dsmz.de/strain/164562\n",
      "No soup for https://bacdive.dsmz.de/strain/164565\n",
      "No soup for https://bacdive.dsmz.de/strain/164531\n",
      "No soup for https://bacdive.dsmz.de/strain/164553\n",
      "No soup for https://bacdive.dsmz.de/strain/164568\n",
      "No soup for https://bacdive.dsmz.de/strain/164584\n",
      "No soup for https://bacdive.dsmz.de/strain/164587\n",
      "No soup for https://bacdive.dsmz.de/strain/164588\n",
      "No soup for https://bacdive.dsmz.de/strain/164561\n",
      "No soup for https://bacdive.dsmz.de/strain/164581\n",
      "No soup for https://bacdive.dsmz.de/strain/164505\n",
      "No soup for https://bacdive.dsmz.de/strain/164529\n",
      "No soup for https://bacdive.dsmz.de/strain/164560\n",
      "No soup for https://bacdive.dsmz.de/strain/164533\n",
      "No soup for https://bacdive.dsmz.de/strain/164589\n",
      "No soup for https://bacdive.dsmz.de/strain/164575\n",
      "No soup for https://bacdive.dsmz.de/strain/164491\n",
      "No soup for https://bacdive.dsmz.de/strain/164559\n",
      "No soup for https://bacdive.dsmz.de/strain/164525\n",
      "No soup for https://bacdive.dsmz.de/strain/164569\n",
      "No soup for https://bacdive.dsmz.de/strain/164573\n",
      "No soup for https://bacdive.dsmz.de/strain/164527\n",
      "No soup for https://bacdive.dsmz.de/strain/159889\n",
      "No soup for https://bacdive.dsmz.de/strain/164558\n",
      "No soup for https://bacdive.dsmz.de/strain/164547\n",
      "No soup for https://bacdive.dsmz.de/strain/164451\n",
      "No soup for https://bacdive.dsmz.de/strain/164592\n",
      "No soup for https://bacdive.dsmz.de/strain/164586\n",
      "No soup for https://bacdive.dsmz.de/strain/164563\n",
      "No soup for https://bacdive.dsmz.de/strain/164552\n",
      "No soup for https://bacdive.dsmz.de/strain/164594\n",
      "No soup for https://bacdive.dsmz.de/strain/164532\n",
      "No soup for https://bacdive.dsmz.de/strain/164579\n",
      "No soup for https://bacdive.dsmz.de/strain/164572\n",
      "No soup for https://bacdive.dsmz.de/strain/164585\n",
      "No soup for https://bacdive.dsmz.de/strain/164593\n",
      "No soup for https://bacdive.dsmz.de/strain/164554\n",
      "No soup for https://bacdive.dsmz.de/strain/164567\n",
      "No soup for https://bacdive.dsmz.de/strain/164564\n"
     ]
    },
    {
     "name": "stderr",
     "output_type": "stream",
     "text": [
      "DSMZ Catalogue link Progress:  94%|█████████▎| 35369/37746 [1:34:38<07:09,  5.53it/s]"
     ]
    },
    {
     "name": "stdout",
     "output_type": "stream",
     "text": [
      "No soup for https://bacdive.dsmz.de/strain/164591\n",
      "No soup for https://bacdive.dsmz.de/strain/159799\n",
      "No soup for https://bacdive.dsmz.de/strain/164566\n",
      "No soup for https://bacdive.dsmz.de/strain/164551\n",
      "No soup for https://bacdive.dsmz.de/strain/164596\n",
      "No soup for https://bacdive.dsmz.de/strain/164580\n",
      "No soup for https://bacdive.dsmz.de/strain/164571\n",
      "No soup for https://bacdive.dsmz.de/strain/164574\n",
      "No soup for https://bacdive.dsmz.de/strain/164595\n"
     ]
    },
    {
     "name": "stderr",
     "output_type": "stream",
     "text": [
      "DSMZ Catalogue link Progress:  94%|█████████▎| 35371/37746 [1:34:39<09:31,  4.15it/s]"
     ]
    },
    {
     "name": "stdout",
     "output_type": "stream",
     "text": [
      "No soup for https://bacdive.dsmz.de/strain/164598\n",
      "No soup for https://bacdive.dsmz.de/strain/164603\n",
      "No soup for https://bacdive.dsmz.de/strain/164599\n",
      "No soup for https://bacdive.dsmz.de/strain/164600\n"
     ]
    },
    {
     "name": "stderr",
     "output_type": "stream",
     "text": [
      "DSMZ Catalogue link Progress:  94%|█████████▎| 35375/37746 [1:34:40<09:10,  4.30it/s]"
     ]
    },
    {
     "name": "stdout",
     "output_type": "stream",
     "text": [
      "No soup for https://bacdive.dsmz.de/strain/164619\n",
      "No soup for https://bacdive.dsmz.de/strain/164627\n"
     ]
    },
    {
     "name": "stderr",
     "output_type": "stream",
     "text": [
      "DSMZ Catalogue link Progress:  94%|█████████▎| 35377/37746 [1:34:40<08:16,  4.77it/s]"
     ]
    },
    {
     "name": "stdout",
     "output_type": "stream",
     "text": [
      "No soup for https://bacdive.dsmz.de/strain/164607\n",
      "No soup for https://bacdive.dsmz.de/strain/164633\n",
      "No soup for https://bacdive.dsmz.de/strain/164606\n"
     ]
    },
    {
     "name": "stderr",
     "output_type": "stream",
     "text": [
      "DSMZ Catalogue link Progress:  94%|█████████▍| 35489/37746 [1:34:43<02:42, 13.89it/s]"
     ]
    },
    {
     "name": "stdout",
     "output_type": "stream",
     "text": [
      "No soup for https://bacdive.dsmz.de/strain/164626\n",
      "No soup for https://bacdive.dsmz.de/strain/164636\n",
      "No soup for https://bacdive.dsmz.de/strain/164614\n",
      "No soup for https://bacdive.dsmz.de/strain/164625\n",
      "No soup for https://bacdive.dsmz.de/strain/164642\n",
      "No soup for https://bacdive.dsmz.de/strain/164635\n",
      "No soup for https://bacdive.dsmz.de/strain/164605\n",
      "No soup for https://bacdive.dsmz.de/strain/164646\n",
      "No soup for https://bacdive.dsmz.de/strain/164641\n",
      "No soup for https://bacdive.dsmz.de/strain/164609\n",
      "No soup for https://bacdive.dsmz.de/strain/164644\n",
      "No soup for https://bacdive.dsmz.de/strain/164648\n",
      "No soup for https://bacdive.dsmz.de/strain/164615\n",
      "No soup for https://bacdive.dsmz.de/strain/164631\n",
      "No soup for https://bacdive.dsmz.de/strain/164655\n",
      "No soup for https://bacdive.dsmz.de/strain/164604\n",
      "No soup for https://bacdive.dsmz.de/strain/164656\n",
      "No soup for https://bacdive.dsmz.de/strain/164670\n",
      "No soup for https://bacdive.dsmz.de/strain/164611\n",
      "No soup for https://bacdive.dsmz.de/strain/164645\n",
      "No soup for https://bacdive.dsmz.de/strain/164643\n",
      "No soup for https://bacdive.dsmz.de/strain/133246\n",
      "No soup for https://bacdive.dsmz.de/strain/164637\n",
      "No soup for https://bacdive.dsmz.de/strain/164654\n",
      "No soup for https://bacdive.dsmz.de/strain/164653\n",
      "No soup for https://bacdive.dsmz.de/strain/164657\n",
      "No soup for https://bacdive.dsmz.de/strain/164617\n",
      "No soup for https://bacdive.dsmz.de/strain/164684\n",
      "No soup for https://bacdive.dsmz.de/strain/164649\n",
      "No soup for https://bacdive.dsmz.de/strain/164610\n",
      "No soup for https://bacdive.dsmz.de/strain/164640\n",
      "No soup for https://bacdive.dsmz.de/strain/164608\n",
      "No soup for https://bacdive.dsmz.de/strain/164650\n",
      "No soup for https://bacdive.dsmz.de/strain/164613\n",
      "No soup for https://bacdive.dsmz.de/strain/164624\n",
      "No soup for https://bacdive.dsmz.de/strain/164618\n",
      "No soup for https://bacdive.dsmz.de/strain/158702\n",
      "No soup for https://bacdive.dsmz.de/strain/164634\n",
      "No soup for https://bacdive.dsmz.de/strain/164661\n",
      "No soup for https://bacdive.dsmz.de/strain/164666\n",
      "No soup for https://bacdive.dsmz.de/strain/164622\n",
      "No soup for https://bacdive.dsmz.de/strain/164659\n",
      "No soup for https://bacdive.dsmz.de/strain/164682\n",
      "No soup for https://bacdive.dsmz.de/strain/164629\n",
      "No soup for https://bacdive.dsmz.de/strain/164668\n",
      "No soup for https://bacdive.dsmz.de/strain/164623\n",
      "No soup for https://bacdive.dsmz.de/strain/164638\n",
      "No soup for https://bacdive.dsmz.de/strain/164647\n",
      "No soup for https://bacdive.dsmz.de/strain/164719\n",
      "No soup for https://bacdive.dsmz.de/strain/164717\n",
      "No soup for https://bacdive.dsmz.de/strain/164639\n",
      "No soup for https://bacdive.dsmz.de/strain/164696\n",
      "No soup for https://bacdive.dsmz.de/strain/164632\n",
      "No soup for https://bacdive.dsmz.de/strain/164616\n",
      "No soup for https://bacdive.dsmz.de/strain/164662\n",
      "No soup for https://bacdive.dsmz.de/strain/164694\n",
      "No soup for https://bacdive.dsmz.de/strain/164714\n",
      "No soup for https://bacdive.dsmz.de/strain/164621\n",
      "No soup for https://bacdive.dsmz.de/strain/164675\n",
      "No soup for https://bacdive.dsmz.de/strain/164679\n",
      "No soup for https://bacdive.dsmz.de/strain/164663\n",
      "No soup for https://bacdive.dsmz.de/strain/164681\n",
      "No soup for https://bacdive.dsmz.de/strain/164687\n",
      "No soup for https://bacdive.dsmz.de/strain/164692\n",
      "No soup for https://bacdive.dsmz.de/strain/164691\n",
      "No soup for https://bacdive.dsmz.de/strain/164673\n",
      "No soup for https://bacdive.dsmz.de/strain/164678\n",
      "No soup for https://bacdive.dsmz.de/strain/164700\n",
      "No soup for https://bacdive.dsmz.de/strain/164665\n",
      "No soup for https://bacdive.dsmz.de/strain/164672\n",
      "No soup for https://bacdive.dsmz.de/strain/164690\n",
      "No soup for https://bacdive.dsmz.de/strain/164739\n",
      "No soup for https://bacdive.dsmz.de/strain/164723\n",
      "No soup for https://bacdive.dsmz.de/strain/164693\n",
      "No soup for https://bacdive.dsmz.de/strain/164728\n",
      "No soup for https://bacdive.dsmz.de/strain/164737\n",
      "No soup for https://bacdive.dsmz.de/strain/164669\n",
      "No soup for https://bacdive.dsmz.de/strain/164724\n",
      "No soup for https://bacdive.dsmz.de/strain/164727\n",
      "No soup for https://bacdive.dsmz.de/strain/164711\n",
      "No soup for https://bacdive.dsmz.de/strain/166598\n",
      "No soup for https://bacdive.dsmz.de/strain/164713\n",
      "No soup for https://bacdive.dsmz.de/strain/164741\n",
      "No soup for https://bacdive.dsmz.de/strain/164716\n",
      "No soup for https://bacdive.dsmz.de/strain/164720\n",
      "No soup for https://bacdive.dsmz.de/strain/164651\n",
      "No soup for https://bacdive.dsmz.de/strain/164722\n",
      "No soup for https://bacdive.dsmz.de/strain/164689\n",
      "No soup for https://bacdive.dsmz.de/strain/164686\n",
      "No soup for https://bacdive.dsmz.de/strain/164726\n",
      "No soup for https://bacdive.dsmz.de/strain/164729\n",
      "No soup for https://bacdive.dsmz.de/strain/164708\n",
      "No soup for https://bacdive.dsmz.de/strain/164704\n",
      "No soup for https://bacdive.dsmz.de/strain/164688\n",
      "No soup for https://bacdive.dsmz.de/strain/164715\n",
      "No soup for https://bacdive.dsmz.de/strain/164721\n",
      "No soup for https://bacdive.dsmz.de/strain/164734\n",
      "No soup for https://bacdive.dsmz.de/strain/164718\n",
      "No soup for https://bacdive.dsmz.de/strain/164698\n",
      "No soup for https://bacdive.dsmz.de/strain/164733\n",
      "No soup for https://bacdive.dsmz.de/strain/164667\n",
      "No soup for https://bacdive.dsmz.de/strain/164725\n",
      "No soup for https://bacdive.dsmz.de/strain/164695\n",
      "No soup for https://bacdive.dsmz.de/strain/164738\n",
      "No soup for https://bacdive.dsmz.de/strain/164671\n",
      "No soup for https://bacdive.dsmz.de/strain/164712\n",
      "No soup for https://bacdive.dsmz.de/strain/164703\n",
      "No soup for https://bacdive.dsmz.de/strain/164740\n",
      "No soup for https://bacdive.dsmz.de/strain/164658\n",
      "No soup for https://bacdive.dsmz.de/strain/164702\n",
      "No soup for https://bacdive.dsmz.de/strain/164664\n",
      "No soup for https://bacdive.dsmz.de/strain/164680\n",
      "No soup for https://bacdive.dsmz.de/strain/164706\n",
      "No soup for https://bacdive.dsmz.de/strain/164683\n",
      "No soup for https://bacdive.dsmz.de/strain/164660\n",
      "No soup for https://bacdive.dsmz.de/strain/164677\n",
      "No soup for https://bacdive.dsmz.de/strain/164705\n",
      "No soup for https://bacdive.dsmz.de/strain/164685\n",
      "No soup for https://bacdive.dsmz.de/strain/164730\n",
      "No soup for https://bacdive.dsmz.de/strain/164735\n",
      "No soup for https://bacdive.dsmz.de/strain/164676\n",
      "No soup for https://bacdive.dsmz.de/strain/164732\n",
      "No soup for https://bacdive.dsmz.de/strain/164710\n",
      "No soup for https://bacdive.dsmz.de/strain/164674\n",
      "No soup for https://bacdive.dsmz.de/strain/164709\n",
      "No soup for https://bacdive.dsmz.de/strain/164731\n",
      "No soup for https://bacdive.dsmz.de/strain/164701\n"
     ]
    },
    {
     "name": "stderr",
     "output_type": "stream",
     "text": [
      "DSMZ Catalogue link Progress:  94%|█████████▍| 35506/37746 [1:34:44<07:54,  4.72it/s]"
     ]
    },
    {
     "name": "stdout",
     "output_type": "stream",
     "text": [
      "No soup for https://bacdive.dsmz.de/strain/164742\n"
     ]
    },
    {
     "name": "stderr",
     "output_type": "stream",
     "text": [
      "DSMZ Catalogue link Progress:  94%|█████████▍| 35512/37746 [1:34:45<11:07,  3.35it/s]"
     ]
    },
    {
     "name": "stdout",
     "output_type": "stream",
     "text": [
      "No soup for https://bacdive.dsmz.de/strain/164744\n",
      "No soup for https://bacdive.dsmz.de/strain/164743\n",
      "No soup for https://bacdive.dsmz.de/strain/164757\n",
      "No soup for https://bacdive.dsmz.de/strain/164748\n",
      "No soup for https://bacdive.dsmz.de/strain/164747\n",
      "No soup for https://bacdive.dsmz.de/strain/164752\n",
      "No soup for https://bacdive.dsmz.de/strain/164754\n",
      "No soup for https://bacdive.dsmz.de/strain/164867\n",
      "No soup for https://bacdive.dsmz.de/strain/164749\n",
      "No soup for https://bacdive.dsmz.de/strain/164751\n"
     ]
    },
    {
     "name": "stderr",
     "output_type": "stream",
     "text": [
      "DSMZ Catalogue link Progress:  94%|█████████▍| 35527/37746 [1:34:46<00:39, 55.90it/s]"
     ]
    },
    {
     "name": "stdout",
     "output_type": "stream",
     "text": [
      "No soup for https://bacdive.dsmz.de/strain/164868\n",
      "No soup for https://bacdive.dsmz.de/strain/164870\n",
      "No soup for https://bacdive.dsmz.de/strain/164758\n",
      "No soup for https://bacdive.dsmz.de/strain/164746\n",
      "No soup for https://bacdive.dsmz.de/strain/164755\n",
      "No soup for https://bacdive.dsmz.de/strain/164761\n",
      "No soup for https://bacdive.dsmz.de/strain/164759\n",
      "No soup for https://bacdive.dsmz.de/strain/164745\n",
      "No soup for https://bacdive.dsmz.de/strain/164760\n",
      "No soup for https://bacdive.dsmz.de/strain/159820\n",
      "No soup for https://bacdive.dsmz.de/strain/164750No soup for https://bacdive.dsmz.de/strain/158899\n",
      "\n"
     ]
    },
    {
     "name": "stderr",
     "output_type": "stream",
     "text": [
      "DSMZ Catalogue link Progress:  94%|█████████▍| 35539/37746 [1:34:47<02:02, 18.01it/s]"
     ]
    },
    {
     "name": "stdout",
     "output_type": "stream",
     "text": [
      "No soup for https://www.dsmz.de/collection/catalogue/details/culture/DSM-112858\n"
     ]
    },
    {
     "name": "stderr",
     "output_type": "stream",
     "text": [
      "DSMZ Catalogue link Progress:  94%|█████████▍| 35566/37746 [1:34:52<06:36,  5.50it/s]"
     ]
    },
    {
     "name": "stdout",
     "output_type": "stream",
     "text": [
      "No soup for https://www.dsmz.de/collection/catalogue/details/culture/DSM-9178\n"
     ]
    },
    {
     "name": "stderr",
     "output_type": "stream",
     "text": [
      "DSMZ Catalogue link Progress:  95%|█████████▍| 35726/37746 [1:35:18<05:26,  6.18it/s]"
     ]
    },
    {
     "name": "stdout",
     "output_type": "stream",
     "text": [
      "No soup for https://www.dsmz.de/collection/catalogue/details/culture/DSM-24824\n"
     ]
    },
    {
     "name": "stderr",
     "output_type": "stream",
     "text": [
      "DSMZ Catalogue link Progress:  95%|█████████▍| 35752/37746 [1:35:23<04:58,  6.68it/s]"
     ]
    },
    {
     "name": "stdout",
     "output_type": "stream",
     "text": [
      "No soup for https://www.dsmz.de/collection/catalogue/details/culture/DSM-21523\n"
     ]
    },
    {
     "name": "stderr",
     "output_type": "stream",
     "text": [
      "DSMZ Catalogue link Progress:  95%|█████████▍| 35811/37746 [1:35:32<04:02,  7.98it/s]"
     ]
    },
    {
     "name": "stdout",
     "output_type": "stream",
     "text": [
      "No soup for https://www.dsmz.de/collection/catalogue/details/culture/DSM-27070\n"
     ]
    },
    {
     "name": "stderr",
     "output_type": "stream",
     "text": [
      "DSMZ Catalogue link Progress:  95%|█████████▌| 35923/37746 [1:35:51<04:40,  6.50it/s]"
     ]
    },
    {
     "name": "stdout",
     "output_type": "stream",
     "text": [
      "No soup for https://www.dsmz.de/collection/catalogue/details/culture/DSM-100171\n"
     ]
    },
    {
     "name": "stderr",
     "output_type": "stream",
     "text": [
      "DSMZ Catalogue link Progress:  95%|█████████▌| 36004/37746 [1:36:04<04:19,  6.72it/s]"
     ]
    },
    {
     "name": "stdout",
     "output_type": "stream",
     "text": [
      "No soup for https://www.dsmz.de/collection/catalogue/details/culture/DSM-102110\n"
     ]
    },
    {
     "name": "stderr",
     "output_type": "stream",
     "text": [
      "DSMZ Catalogue link Progress:  96%|█████████▌| 36059/37746 [1:36:13<06:30,  4.32it/s]"
     ]
    },
    {
     "name": "stdout",
     "output_type": "stream",
     "text": [
      "more genbank key than value in \"Coleofasciculus chthonoplastes(Thuret ex Gomont 1892) Siegesmund et al. 2008\"\n"
     ]
    },
    {
     "name": "stderr",
     "output_type": "stream",
     "text": [
      "DSMZ Catalogue link Progress:  96%|█████████▌| 36112/37746 [1:36:23<04:01,  6.76it/s]"
     ]
    },
    {
     "name": "stdout",
     "output_type": "stream",
     "text": [
      "No soup for https://www.dsmz.de/collection/catalogue/details/culture/DSM-112174\n"
     ]
    },
    {
     "name": "stderr",
     "output_type": "stream",
     "text": [
      "DSMZ Catalogue link Progress:  96%|█████████▌| 36138/37746 [1:36:27<03:55,  6.83it/s]"
     ]
    },
    {
     "name": "stdout",
     "output_type": "stream",
     "text": [
      "No soup for https://www.dsmz.de/collection/catalogue/details/culture/DSM-103931\n"
     ]
    },
    {
     "name": "stderr",
     "output_type": "stream",
     "text": [
      "DSMZ Catalogue link Progress:  96%|█████████▌| 36214/37746 [1:36:40<05:02,  5.07it/s]"
     ]
    },
    {
     "name": "stdout",
     "output_type": "stream",
     "text": [
      "more genbank key than value in \"Hypoxylon rickiiY.M. Ju & J.D. Rogers\"\n",
      "more genbank key than value in \"Hypoxylon rickiiY.M. Ju & J.D. Rogers\"\n",
      "more genbank key than value in \"Jackrogersella multiformisL. Wendt, Kuhnert & M. Stadler\"\n",
      "more genbank key than value in \"Jackrogersella multiformisL. Wendt, Kuhnert & M. Stadler\"\n",
      "more genbank key than value in \"Pyrenopolyporus hunteriLloyd\"\n"
     ]
    },
    {
     "name": "stderr",
     "output_type": "stream",
     "text": [
      "DSMZ Catalogue link Progress:  96%|█████████▌| 36217/37746 [1:36:40<04:37,  5.50it/s]"
     ]
    },
    {
     "name": "stdout",
     "output_type": "stream",
     "text": [
      "more genbank key than value in \"Xylaria hypoxylon(Linnaeus) Greville\"\n",
      "more genbank key than value in \"Xylaria hypoxylon(Linnaeus) Greville\"\n"
     ]
    },
    {
     "name": "stderr",
     "output_type": "stream",
     "text": [
      "DSMZ Catalogue link Progress:  96%|█████████▌| 36237/37746 [1:36:43<03:41,  6.82it/s]"
     ]
    },
    {
     "name": "stdout",
     "output_type": "stream",
     "text": [
      "No soup for https://www.dsmz.de/collection/catalogue/details/culture/DSM-105244\n"
     ]
    },
    {
     "name": "stderr",
     "output_type": "stream",
     "text": [
      "DSMZ Catalogue link Progress:  96%|█████████▋| 36397/37746 [1:37:11<05:17,  4.25it/s]"
     ]
    },
    {
     "name": "stdout",
     "output_type": "stream",
     "text": [
      "Error fetching link https://www.dsmz.de/collection/catalogue/details/culture/DSM-109878: ('Connection aborted.', RemoteDisconnected('Remote end closed connection without response')). Retrying 1/5...\n"
     ]
    },
    {
     "name": "stderr",
     "output_type": "stream",
     "text": [
      "DSMZ Catalogue link Progress:  97%|█████████▋| 36466/37746 [1:37:23<02:45,  7.74it/s]"
     ]
    },
    {
     "name": "stdout",
     "output_type": "stream",
     "text": [
      "No soup for https://www.dsmz.de/collection/catalogue/details/culture/DSM-109007\n"
     ]
    },
    {
     "name": "stderr",
     "output_type": "stream",
     "text": [
      "DSMZ Catalogue link Progress:  97%|█████████▋| 36639/37746 [1:37:52<02:34,  7.15it/s]"
     ]
    },
    {
     "name": "stdout",
     "output_type": "stream",
     "text": [
      "No soup for https://www.dsmz.de/collection/catalogue/details/culture/DSM-111004\n"
     ]
    },
    {
     "name": "stderr",
     "output_type": "stream",
     "text": [
      "DSMZ Catalogue link Progress:  97%|█████████▋| 36659/37746 [1:37:55<02:41,  6.74it/s]"
     ]
    },
    {
     "name": "stdout",
     "output_type": "stream",
     "text": [
      "No soup for https://www.dsmz.de/collection/catalogue/details/culture/DSM-111058\n",
      "No soup for https://www.dsmz.de/collection/catalogue/details/culture/DSM-109878\n"
     ]
    },
    {
     "name": "stderr",
     "output_type": "stream",
     "text": [
      "DSMZ Catalogue link Progress:  97%|█████████▋| 36714/37746 [1:38:04<03:23,  5.07it/s]"
     ]
    },
    {
     "name": "stdout",
     "output_type": "stream",
     "text": [
      "No soup for https://www.dsmz.de/collection/catalogue/details/culture/DSM-111479\n"
     ]
    },
    {
     "name": "stderr",
     "output_type": "stream",
     "text": [
      "DSMZ Catalogue link Progress:  97%|█████████▋| 36760/37746 [1:38:11<01:49,  9.02it/s]"
     ]
    },
    {
     "name": "stdout",
     "output_type": "stream",
     "text": [
      "No soup for https://www.dsmz.de/collection/catalogue/details/culture/DSM-111777\n"
     ]
    },
    {
     "name": "stderr",
     "output_type": "stream",
     "text": [
      "DSMZ Catalogue link Progress:  98%|█████████▊| 36826/37746 [1:38:23<03:04,  4.98it/s]"
     ]
    },
    {
     "name": "stdout",
     "output_type": "stream",
     "text": [
      "No soup for https://www.dsmz.de/collection/catalogue/details/culture/DSM-112128\n"
     ]
    },
    {
     "name": "stderr",
     "output_type": "stream",
     "text": [
      "DSMZ Catalogue link Progress:  98%|█████████▊| 36961/37746 [1:38:46<02:10,  6.01it/s]"
     ]
    },
    {
     "name": "stdout",
     "output_type": "stream",
     "text": [
      "No soup for https://www.dsmz.de/collection/catalogue/details/culture/DSM-112881\n"
     ]
    },
    {
     "name": "stderr",
     "output_type": "stream",
     "text": [
      "DSMZ Catalogue link Progress:  99%|█████████▊| 37184/37746 [1:39:24<01:28,  6.33it/s]"
     ]
    },
    {
     "name": "stdout",
     "output_type": "stream",
     "text": [
      "No soup for https://www.dsmz.de/collection/catalogue/details/culture/DSM-113706\n"
     ]
    },
    {
     "name": "stderr",
     "output_type": "stream",
     "text": [
      "DSMZ Catalogue link Progress:  99%|█████████▉| 37547/37746 [1:40:26<00:32,  6.07it/s]"
     ]
    },
    {
     "name": "stdout",
     "output_type": "stream",
     "text": [
      "No soup for https://www.dsmz.de/collection/catalogue/details/culture/DSM-115343\n"
     ]
    },
    {
     "name": "stderr",
     "output_type": "stream",
     "text": [
      "DSMZ Catalogue link Progress: 100%|█████████▉| 37563/37746 [1:40:29<00:22,  8.12it/s]"
     ]
    },
    {
     "name": "stdout",
     "output_type": "stream",
     "text": [
      "No soup for https://www.dsmz.de/collection/catalogue/details/culture/DSM-115398\n",
      "No soup for https://www.dsmz.de/collection/catalogue/details/culture/DSM-115400\n"
     ]
    },
    {
     "name": "stderr",
     "output_type": "stream",
     "text": [
      "DSMZ Catalogue link Progress: 100%|█████████▉| 37580/37746 [1:40:31<00:22,  7.35it/s]"
     ]
    },
    {
     "name": "stdout",
     "output_type": "stream",
     "text": [
      "No soup for https://www.dsmz.de/collection/catalogue/details/culture/DSM-115427\n"
     ]
    },
    {
     "name": "stderr",
     "output_type": "stream",
     "text": [
      "DSMZ Catalogue link Progress: 100%|█████████▉| 37612/37746 [1:40:36<00:14,  9.20it/s]"
     ]
    },
    {
     "name": "stdout",
     "output_type": "stream",
     "text": [
      "No soup for https://www.dsmz.de/collection/catalogue/details/culture/DSM-115593\n",
      "No soup for https://www.dsmz.de/collection/catalogue/details/culture/DSM-115595\n",
      "No soup for https://www.dsmz.de/collection/catalogue/details/culture/DSM-115594\n"
     ]
    },
    {
     "name": "stderr",
     "output_type": "stream",
     "text": [
      "DSMZ Catalogue link Progress: 100%|█████████▉| 37615/37746 [1:40:36<00:13,  9.91it/s]"
     ]
    },
    {
     "name": "stdout",
     "output_type": "stream",
     "text": [
      "No soup for https://www.dsmz.de/collection/catalogue/details/culture/DSM-115596\n",
      "No soup for https://www.dsmz.de/collection/catalogue/details/culture/DSM-115601\n",
      "No soup for https://www.dsmz.de/collection/catalogue/details/culture/DSM-115603\n"
     ]
    },
    {
     "name": "stderr",
     "output_type": "stream",
     "text": [
      "DSMZ Catalogue link Progress: 100%|█████████▉| 37686/37746 [1:40:48<00:08,  7.23it/s]"
     ]
    },
    {
     "name": "stdout",
     "output_type": "stream",
     "text": [
      "No soup for https://www.dsmz.de/collection/catalogue/details/culture/DSM-116179\n"
     ]
    },
    {
     "name": "stderr",
     "output_type": "stream",
     "text": [
      "DSMZ Catalogue link Progress: 100%|█████████▉| 37730/37746 [1:40:54<00:01, 10.15it/s]"
     ]
    },
    {
     "name": "stdout",
     "output_type": "stream",
     "text": [
      "No soup for https://www.dsmz.de/collection/catalogue/details/culture/DSM-116277\n"
     ]
    },
    {
     "name": "stderr",
     "output_type": "stream",
     "text": [
      "DSMZ Catalogue link Progress: 100%|██████████| 37746/37746 [1:40:58<00:00,  6.23it/s]\n"
     ]
    },
    {
     "data": {
      "text/plain": [
       "      Organism Group                                               Name  \\\n",
       "0          Bacterium                       Heyndrickxia coagulans DSM 1   \n",
       "1          Bacterium  Paenibacillus macquariensis subsp. macquariens...   \n",
       "2          Bacterium                    Sporosarcina psychrophila DSM 3   \n",
       "3          Bacterium                      Sporosarcina globispora DSM 4   \n",
       "4          Bacterium                    Psychrobacillus insolitus DSM 5   \n",
       "...              ...                                                ...   \n",
       "46258                                         Phage (phagum) DSM 117437   \n",
       "46259                                         Phage (phagum) DSM 117679   \n",
       "46260                                         Phage (phagum) DSM 117680   \n",
       "46261                             Staphylococcus epidermidis DSM 117681   \n",
       "46262                             Staphylococcus epidermidis DSM 117682   \n",
       "\n",
       "                                               Name Link DSM No.  \\\n",
       "0           https://mediadive.dsmz.de/strains/view/DSM 1       1   \n",
       "1           https://mediadive.dsmz.de/strains/view/DSM 2       2   \n",
       "2           https://mediadive.dsmz.de/strains/view/DSM 3       3   \n",
       "3           https://mediadive.dsmz.de/strains/view/DSM 4       4   \n",
       "4           https://mediadive.dsmz.de/strains/view/DSM 5       5   \n",
       "...                                                  ...     ...   \n",
       "46258  https://mediadive.dsmz.de/strains/view/DSM 117437  117437   \n",
       "46259  https://mediadive.dsmz.de/strains/view/DSM 117679  117679   \n",
       "46260  https://mediadive.dsmz.de/strains/view/DSM 117680  117680   \n",
       "46261  https://mediadive.dsmz.de/strains/view/DSM 117681  117681   \n",
       "46262  https://mediadive.dsmz.de/strains/view/DSM 117682  117682   \n",
       "\n",
       "                                           Taxonomy Link   Growth media  \\\n",
       "0      https://mediadive.dsmz.de/taxonomy?level=speci...  [453, 1, J22]   \n",
       "1      https://mediadive.dsmz.de/taxonomy?level=speci...            [1]   \n",
       "2      https://mediadive.dsmz.de/taxonomy?level=speci...       [1, J22]   \n",
       "3      https://mediadive.dsmz.de/taxonomy?level=speci...     [514, J22]   \n",
       "4      https://mediadive.dsmz.de/taxonomy?level=speci...          [123]   \n",
       "...                                                  ...            ...   \n",
       "46258                                               None          [381]   \n",
       "46259                                               None           [92]   \n",
       "46260                                               None           [92]   \n",
       "46261                                               None           [92]   \n",
       "46262                                               None           [92]   \n",
       "\n",
       "                                      Growth Media Links  \\\n",
       "0      [https://mediadive.dsmz.de/medium/453, https:/...   \n",
       "1                   [https://mediadive.dsmz.de/medium/1]   \n",
       "2      [https://mediadive.dsmz.de/medium/1, https://m...   \n",
       "3      [https://mediadive.dsmz.de/medium/514, https:/...   \n",
       "4                 [https://mediadive.dsmz.de/medium/123]   \n",
       "...                                                  ...   \n",
       "46258             [https://mediadive.dsmz.de/medium/381]   \n",
       "46259              [https://mediadive.dsmz.de/medium/92]   \n",
       "46260              [https://mediadive.dsmz.de/medium/92]   \n",
       "46261              [https://mediadive.dsmz.de/medium/92]   \n",
       "46262              [https://mediadive.dsmz.de/medium/92]   \n",
       "\n",
       "                                          external links  \\\n",
       "0      [https://www.dsmz.de/collection/catalogue/deta...   \n",
       "1      [https://www.dsmz.de/collection/catalogue/deta...   \n",
       "2      [https://www.dsmz.de/collection/catalogue/deta...   \n",
       "3      [https://www.dsmz.de/collection/catalogue/deta...   \n",
       "4      [https://www.dsmz.de/collection/catalogue/deta...   \n",
       "...                                                  ...   \n",
       "46258  [https://www.dsmz.de/collection/catalogue/deta...   \n",
       "46259  [https://www.dsmz.de/collection/catalogue/deta...   \n",
       "46260  [https://www.dsmz.de/collection/catalogue/deta...   \n",
       "46261  [https://www.dsmz.de/collection/catalogue/deta...   \n",
       "46262  [https://www.dsmz.de/collection/catalogue/deta...   \n",
       "\n",
       "                                          DSMZ Catalogue  \\\n",
       "0      https://www.dsmz.de/collection/catalogue/detai...   \n",
       "1      https://www.dsmz.de/collection/catalogue/detai...   \n",
       "2      https://www.dsmz.de/collection/catalogue/detai...   \n",
       "3      https://www.dsmz.de/collection/catalogue/detai...   \n",
       "4      https://www.dsmz.de/collection/catalogue/detai...   \n",
       "...                                                  ...   \n",
       "46258  https://www.dsmz.de/collection/catalogue/detai...   \n",
       "46259  https://www.dsmz.de/collection/catalogue/detai...   \n",
       "46260  https://www.dsmz.de/collection/catalogue/detai...   \n",
       "46261  https://www.dsmz.de/collection/catalogue/detai...   \n",
       "46262  https://www.dsmz.de/collection/catalogue/detai...   \n",
       "\n",
       "                               Bacdive Link  ...  \\\n",
       "0        https://bacdive.dsmz.de/strain/654  ...   \n",
       "1      https://bacdive.dsmz.de/strain/11477  ...   \n",
       "2      https://bacdive.dsmz.de/strain/11984  ...   \n",
       "3      https://bacdive.dsmz.de/strain/11976  ...   \n",
       "4       https://bacdive.dsmz.de/strain/1565  ...   \n",
       "...                                     ...  ...   \n",
       "46258                                  None  ...   \n",
       "46259                                  None  ...   \n",
       "46260                                  None  ...   \n",
       "46261                                  None  ...   \n",
       "46262                                  None  ...   \n",
       "\n",
       "                                          Literature Wink compendium  \\\n",
       "0              \"1026,1300,3394,3396,3768,6519,40750\"            None   \n",
       "1           \"72,1300,3768,5192,5201,5225,6615,13437\"            None   \n",
       "2        \"61,263,1300,1381,1382,3397,3768,4619,8102\"            None   \n",
       "3        \"61,263,1300,1381,1382,3397,3768,4619,8102\"            None   \n",
       "4      \"61,263,1300,3768,3807,7349,8670,15859,15931\"            None   \n",
       "...                                              ...             ...   \n",
       "46258                                        \"40948\"            None   \n",
       "46259                                           None            None   \n",
       "46260                                           None            None   \n",
       "46261                                           None            None   \n",
       "46262                                           None            None   \n",
       "\n",
       "      Wink compendium link                                    Supplied as raw  \\\n",
       "0                     None  \"Delivery formPricesFreeze Dried100,- €Active ...   \n",
       "1                     None  \"Delivery formPricesFreeze Dried100,- €Active ...   \n",
       "2                     None  \"Delivery formPricesFreeze Dried100,- €Active ...   \n",
       "3                     None  \"Delivery formPricesFreeze Dried100,- €Active ...   \n",
       "4                     None  \"Delivery formPricesFreeze Dried100,- €Active ...   \n",
       "...                    ...                                                ...   \n",
       "46258                 None  \"Delivery formPricesLiquid Suspension160,- €Pr...   \n",
       "46259                 None  \"Delivery formPricesLiquid Suspension160,- €Pr...   \n",
       "46260                 None  \"Delivery formPricesLiquid Suspension160,- €Pr...   \n",
       "46261                 None  \"Delivery formPricesFreeze Dried100,- €Active ...   \n",
       "46262                 None  \"Delivery formPricesFreeze Dried100,- €Active ...   \n",
       "\n",
       "                                        Supplied as dict  \\\n",
       "0      {'Freeze Dried': '100,- €', 'Active culture on...   \n",
       "1      {'Freeze Dried': '100,- €', 'Active culture on...   \n",
       "2      {'Freeze Dried': '100,- €', 'Active culture on...   \n",
       "3      {'Freeze Dried': '100,- €', 'Active culture on...   \n",
       "4      {'Freeze Dried': '100,- €', 'Active culture on...   \n",
       "...                                                  ...   \n",
       "46258                   {'Liquid Suspension': '160,- €'}   \n",
       "46259                   {'Liquid Suspension': '160,- €'}   \n",
       "46260                   {'Liquid Suspension': '160,- €'}   \n",
       "46261  {'Freeze Dried': '100,- €', 'Active culture on...   \n",
       "46262  {'Freeze Dried': '100,- €', 'Active culture on...   \n",
       "\n",
       "      Price of Freeze Dried Price of Active culture on request Price of DNA  \\\n",
       "0                   100,- €                            240,- €      150,- €   \n",
       "1                   100,- €                            240,- €      150,- €   \n",
       "2                   100,- €                            240,- €      150,- €   \n",
       "3                   100,- €                            240,- €      150,- €   \n",
       "4                   100,- €                            240,- €      150,- €   \n",
       "...                     ...                                ...          ...   \n",
       "46258                  None                               None         None   \n",
       "46259                  None                               None         None   \n",
       "46260                  None                               None         None   \n",
       "46261               100,- €                            240,- €      150,- €   \n",
       "46262               100,- €                            240,- €      150,- €   \n",
       "\n",
       "      Price Category                                       Culture link  \n",
       "0                  1  https://www.dsmz.de/search?tx_kesearch_pi1[swo...  \n",
       "1                  1  https://www.dsmz.de/search?tx_kesearch_pi1[swo...  \n",
       "2                  1  https://www.dsmz.de/search?tx_kesearch_pi1[swo...  \n",
       "3                  1  https://www.dsmz.de/search?tx_kesearch_pi1[swo...  \n",
       "4                  1  https://www.dsmz.de/search?tx_kesearch_pi1[swo...  \n",
       "...              ...                                                ...  \n",
       "46258              6                                               None  \n",
       "46259              6                                               None  \n",
       "46260              6                                               None  \n",
       "46261              1  https://www.dsmz.de/search?tx_kesearch_pi1[swo...  \n",
       "46262              1  https://www.dsmz.de/search?tx_kesearch_pi1[swo...  \n",
       "\n",
       "[46263 rows x 41 columns]"
      ],
      "text/html": [
       "<div>\n",
       "<style scoped>\n",
       "    .dataframe tbody tr th:only-of-type {\n",
       "        vertical-align: middle;\n",
       "    }\n",
       "\n",
       "    .dataframe tbody tr th {\n",
       "        vertical-align: top;\n",
       "    }\n",
       "\n",
       "    .dataframe thead th {\n",
       "        text-align: right;\n",
       "    }\n",
       "</style>\n",
       "<table border=\"1\" class=\"dataframe\">\n",
       "  <thead>\n",
       "    <tr style=\"text-align: right;\">\n",
       "      <th></th>\n",
       "      <th>Organism Group</th>\n",
       "      <th>Name</th>\n",
       "      <th>Name Link</th>\n",
       "      <th>DSM No.</th>\n",
       "      <th>Taxonomy Link</th>\n",
       "      <th>Growth media</th>\n",
       "      <th>Growth Media Links</th>\n",
       "      <th>external links</th>\n",
       "      <th>DSMZ Catalogue</th>\n",
       "      <th>Bacdive Link</th>\n",
       "      <th>...</th>\n",
       "      <th>Literature</th>\n",
       "      <th>Wink compendium</th>\n",
       "      <th>Wink compendium link</th>\n",
       "      <th>Supplied as raw</th>\n",
       "      <th>Supplied as dict</th>\n",
       "      <th>Price of Freeze Dried</th>\n",
       "      <th>Price of Active culture on request</th>\n",
       "      <th>Price of DNA</th>\n",
       "      <th>Price Category</th>\n",
       "      <th>Culture link</th>\n",
       "    </tr>\n",
       "  </thead>\n",
       "  <tbody>\n",
       "    <tr>\n",
       "      <th>0</th>\n",
       "      <td>Bacterium</td>\n",
       "      <td>Heyndrickxia coagulans DSM 1</td>\n",
       "      <td>https://mediadive.dsmz.de/strains/view/DSM 1</td>\n",
       "      <td>1</td>\n",
       "      <td>https://mediadive.dsmz.de/taxonomy?level=speci...</td>\n",
       "      <td>[453, 1, J22]</td>\n",
       "      <td>[https://mediadive.dsmz.de/medium/453, https:/...</td>\n",
       "      <td>[https://www.dsmz.de/collection/catalogue/deta...</td>\n",
       "      <td>https://www.dsmz.de/collection/catalogue/detai...</td>\n",
       "      <td>https://bacdive.dsmz.de/strain/654</td>\n",
       "      <td>...</td>\n",
       "      <td>\"1026,1300,3394,3396,3768,6519,40750\"</td>\n",
       "      <td>None</td>\n",
       "      <td>None</td>\n",
       "      <td>\"Delivery formPricesFreeze Dried100,- €Active ...</td>\n",
       "      <td>{'Freeze Dried': '100,- €', 'Active culture on...</td>\n",
       "      <td>100,- €</td>\n",
       "      <td>240,- €</td>\n",
       "      <td>150,- €</td>\n",
       "      <td>1</td>\n",
       "      <td>https://www.dsmz.de/search?tx_kesearch_pi1[swo...</td>\n",
       "    </tr>\n",
       "    <tr>\n",
       "      <th>1</th>\n",
       "      <td>Bacterium</td>\n",
       "      <td>Paenibacillus macquariensis subsp. macquariens...</td>\n",
       "      <td>https://mediadive.dsmz.de/strains/view/DSM 2</td>\n",
       "      <td>2</td>\n",
       "      <td>https://mediadive.dsmz.de/taxonomy?level=speci...</td>\n",
       "      <td>[1]</td>\n",
       "      <td>[https://mediadive.dsmz.de/medium/1]</td>\n",
       "      <td>[https://www.dsmz.de/collection/catalogue/deta...</td>\n",
       "      <td>https://www.dsmz.de/collection/catalogue/detai...</td>\n",
       "      <td>https://bacdive.dsmz.de/strain/11477</td>\n",
       "      <td>...</td>\n",
       "      <td>\"72,1300,3768,5192,5201,5225,6615,13437\"</td>\n",
       "      <td>None</td>\n",
       "      <td>None</td>\n",
       "      <td>\"Delivery formPricesFreeze Dried100,- €Active ...</td>\n",
       "      <td>{'Freeze Dried': '100,- €', 'Active culture on...</td>\n",
       "      <td>100,- €</td>\n",
       "      <td>240,- €</td>\n",
       "      <td>150,- €</td>\n",
       "      <td>1</td>\n",
       "      <td>https://www.dsmz.de/search?tx_kesearch_pi1[swo...</td>\n",
       "    </tr>\n",
       "    <tr>\n",
       "      <th>2</th>\n",
       "      <td>Bacterium</td>\n",
       "      <td>Sporosarcina psychrophila DSM 3</td>\n",
       "      <td>https://mediadive.dsmz.de/strains/view/DSM 3</td>\n",
       "      <td>3</td>\n",
       "      <td>https://mediadive.dsmz.de/taxonomy?level=speci...</td>\n",
       "      <td>[1, J22]</td>\n",
       "      <td>[https://mediadive.dsmz.de/medium/1, https://m...</td>\n",
       "      <td>[https://www.dsmz.de/collection/catalogue/deta...</td>\n",
       "      <td>https://www.dsmz.de/collection/catalogue/detai...</td>\n",
       "      <td>https://bacdive.dsmz.de/strain/11984</td>\n",
       "      <td>...</td>\n",
       "      <td>\"61,263,1300,1381,1382,3397,3768,4619,8102\"</td>\n",
       "      <td>None</td>\n",
       "      <td>None</td>\n",
       "      <td>\"Delivery formPricesFreeze Dried100,- €Active ...</td>\n",
       "      <td>{'Freeze Dried': '100,- €', 'Active culture on...</td>\n",
       "      <td>100,- €</td>\n",
       "      <td>240,- €</td>\n",
       "      <td>150,- €</td>\n",
       "      <td>1</td>\n",
       "      <td>https://www.dsmz.de/search?tx_kesearch_pi1[swo...</td>\n",
       "    </tr>\n",
       "    <tr>\n",
       "      <th>3</th>\n",
       "      <td>Bacterium</td>\n",
       "      <td>Sporosarcina globispora DSM 4</td>\n",
       "      <td>https://mediadive.dsmz.de/strains/view/DSM 4</td>\n",
       "      <td>4</td>\n",
       "      <td>https://mediadive.dsmz.de/taxonomy?level=speci...</td>\n",
       "      <td>[514, J22]</td>\n",
       "      <td>[https://mediadive.dsmz.de/medium/514, https:/...</td>\n",
       "      <td>[https://www.dsmz.de/collection/catalogue/deta...</td>\n",
       "      <td>https://www.dsmz.de/collection/catalogue/detai...</td>\n",
       "      <td>https://bacdive.dsmz.de/strain/11976</td>\n",
       "      <td>...</td>\n",
       "      <td>\"61,263,1300,1381,1382,3397,3768,4619,8102\"</td>\n",
       "      <td>None</td>\n",
       "      <td>None</td>\n",
       "      <td>\"Delivery formPricesFreeze Dried100,- €Active ...</td>\n",
       "      <td>{'Freeze Dried': '100,- €', 'Active culture on...</td>\n",
       "      <td>100,- €</td>\n",
       "      <td>240,- €</td>\n",
       "      <td>150,- €</td>\n",
       "      <td>1</td>\n",
       "      <td>https://www.dsmz.de/search?tx_kesearch_pi1[swo...</td>\n",
       "    </tr>\n",
       "    <tr>\n",
       "      <th>4</th>\n",
       "      <td>Bacterium</td>\n",
       "      <td>Psychrobacillus insolitus DSM 5</td>\n",
       "      <td>https://mediadive.dsmz.de/strains/view/DSM 5</td>\n",
       "      <td>5</td>\n",
       "      <td>https://mediadive.dsmz.de/taxonomy?level=speci...</td>\n",
       "      <td>[123]</td>\n",
       "      <td>[https://mediadive.dsmz.de/medium/123]</td>\n",
       "      <td>[https://www.dsmz.de/collection/catalogue/deta...</td>\n",
       "      <td>https://www.dsmz.de/collection/catalogue/detai...</td>\n",
       "      <td>https://bacdive.dsmz.de/strain/1565</td>\n",
       "      <td>...</td>\n",
       "      <td>\"61,263,1300,3768,3807,7349,8670,15859,15931\"</td>\n",
       "      <td>None</td>\n",
       "      <td>None</td>\n",
       "      <td>\"Delivery formPricesFreeze Dried100,- €Active ...</td>\n",
       "      <td>{'Freeze Dried': '100,- €', 'Active culture on...</td>\n",
       "      <td>100,- €</td>\n",
       "      <td>240,- €</td>\n",
       "      <td>150,- €</td>\n",
       "      <td>1</td>\n",
       "      <td>https://www.dsmz.de/search?tx_kesearch_pi1[swo...</td>\n",
       "    </tr>\n",
       "    <tr>\n",
       "      <th>...</th>\n",
       "      <td>...</td>\n",
       "      <td>...</td>\n",
       "      <td>...</td>\n",
       "      <td>...</td>\n",
       "      <td>...</td>\n",
       "      <td>...</td>\n",
       "      <td>...</td>\n",
       "      <td>...</td>\n",
       "      <td>...</td>\n",
       "      <td>...</td>\n",
       "      <td>...</td>\n",
       "      <td>...</td>\n",
       "      <td>...</td>\n",
       "      <td>...</td>\n",
       "      <td>...</td>\n",
       "      <td>...</td>\n",
       "      <td>...</td>\n",
       "      <td>...</td>\n",
       "      <td>...</td>\n",
       "      <td>...</td>\n",
       "      <td>...</td>\n",
       "    </tr>\n",
       "    <tr>\n",
       "      <th>46258</th>\n",
       "      <td></td>\n",
       "      <td>Phage (phagum) DSM 117437</td>\n",
       "      <td>https://mediadive.dsmz.de/strains/view/DSM 117437</td>\n",
       "      <td>117437</td>\n",
       "      <td>None</td>\n",
       "      <td>[381]</td>\n",
       "      <td>[https://mediadive.dsmz.de/medium/381]</td>\n",
       "      <td>[https://www.dsmz.de/collection/catalogue/deta...</td>\n",
       "      <td>https://www.dsmz.de/collection/catalogue/detai...</td>\n",
       "      <td>None</td>\n",
       "      <td>...</td>\n",
       "      <td>\"40948\"</td>\n",
       "      <td>None</td>\n",
       "      <td>None</td>\n",
       "      <td>\"Delivery formPricesLiquid Suspension160,- €Pr...</td>\n",
       "      <td>{'Liquid Suspension': '160,- €'}</td>\n",
       "      <td>None</td>\n",
       "      <td>None</td>\n",
       "      <td>None</td>\n",
       "      <td>6</td>\n",
       "      <td>None</td>\n",
       "    </tr>\n",
       "    <tr>\n",
       "      <th>46259</th>\n",
       "      <td></td>\n",
       "      <td>Phage (phagum) DSM 117679</td>\n",
       "      <td>https://mediadive.dsmz.de/strains/view/DSM 117679</td>\n",
       "      <td>117679</td>\n",
       "      <td>None</td>\n",
       "      <td>[92]</td>\n",
       "      <td>[https://mediadive.dsmz.de/medium/92]</td>\n",
       "      <td>[https://www.dsmz.de/collection/catalogue/deta...</td>\n",
       "      <td>https://www.dsmz.de/collection/catalogue/detai...</td>\n",
       "      <td>None</td>\n",
       "      <td>...</td>\n",
       "      <td>None</td>\n",
       "      <td>None</td>\n",
       "      <td>None</td>\n",
       "      <td>\"Delivery formPricesLiquid Suspension160,- €Pr...</td>\n",
       "      <td>{'Liquid Suspension': '160,- €'}</td>\n",
       "      <td>None</td>\n",
       "      <td>None</td>\n",
       "      <td>None</td>\n",
       "      <td>6</td>\n",
       "      <td>None</td>\n",
       "    </tr>\n",
       "    <tr>\n",
       "      <th>46260</th>\n",
       "      <td></td>\n",
       "      <td>Phage (phagum) DSM 117680</td>\n",
       "      <td>https://mediadive.dsmz.de/strains/view/DSM 117680</td>\n",
       "      <td>117680</td>\n",
       "      <td>None</td>\n",
       "      <td>[92]</td>\n",
       "      <td>[https://mediadive.dsmz.de/medium/92]</td>\n",
       "      <td>[https://www.dsmz.de/collection/catalogue/deta...</td>\n",
       "      <td>https://www.dsmz.de/collection/catalogue/detai...</td>\n",
       "      <td>None</td>\n",
       "      <td>...</td>\n",
       "      <td>None</td>\n",
       "      <td>None</td>\n",
       "      <td>None</td>\n",
       "      <td>\"Delivery formPricesLiquid Suspension160,- €Pr...</td>\n",
       "      <td>{'Liquid Suspension': '160,- €'}</td>\n",
       "      <td>None</td>\n",
       "      <td>None</td>\n",
       "      <td>None</td>\n",
       "      <td>6</td>\n",
       "      <td>None</td>\n",
       "    </tr>\n",
       "    <tr>\n",
       "      <th>46261</th>\n",
       "      <td></td>\n",
       "      <td>Staphylococcus epidermidis DSM 117681</td>\n",
       "      <td>https://mediadive.dsmz.de/strains/view/DSM 117681</td>\n",
       "      <td>117681</td>\n",
       "      <td>None</td>\n",
       "      <td>[92]</td>\n",
       "      <td>[https://mediadive.dsmz.de/medium/92]</td>\n",
       "      <td>[https://www.dsmz.de/collection/catalogue/deta...</td>\n",
       "      <td>https://www.dsmz.de/collection/catalogue/detai...</td>\n",
       "      <td>None</td>\n",
       "      <td>...</td>\n",
       "      <td>None</td>\n",
       "      <td>None</td>\n",
       "      <td>None</td>\n",
       "      <td>\"Delivery formPricesFreeze Dried100,- €Active ...</td>\n",
       "      <td>{'Freeze Dried': '100,- €', 'Active culture on...</td>\n",
       "      <td>100,- €</td>\n",
       "      <td>240,- €</td>\n",
       "      <td>150,- €</td>\n",
       "      <td>1</td>\n",
       "      <td>https://www.dsmz.de/search?tx_kesearch_pi1[swo...</td>\n",
       "    </tr>\n",
       "    <tr>\n",
       "      <th>46262</th>\n",
       "      <td></td>\n",
       "      <td>Staphylococcus epidermidis DSM 117682</td>\n",
       "      <td>https://mediadive.dsmz.de/strains/view/DSM 117682</td>\n",
       "      <td>117682</td>\n",
       "      <td>None</td>\n",
       "      <td>[92]</td>\n",
       "      <td>[https://mediadive.dsmz.de/medium/92]</td>\n",
       "      <td>[https://www.dsmz.de/collection/catalogue/deta...</td>\n",
       "      <td>https://www.dsmz.de/collection/catalogue/detai...</td>\n",
       "      <td>None</td>\n",
       "      <td>...</td>\n",
       "      <td>None</td>\n",
       "      <td>None</td>\n",
       "      <td>None</td>\n",
       "      <td>\"Delivery formPricesFreeze Dried100,- €Active ...</td>\n",
       "      <td>{'Freeze Dried': '100,- €', 'Active culture on...</td>\n",
       "      <td>100,- €</td>\n",
       "      <td>240,- €</td>\n",
       "      <td>150,- €</td>\n",
       "      <td>1</td>\n",
       "      <td>https://www.dsmz.de/search?tx_kesearch_pi1[swo...</td>\n",
       "    </tr>\n",
       "  </tbody>\n",
       "</table>\n",
       "<p>46263 rows × 41 columns</p>\n",
       "</div>"
      ]
     },
     "execution_count": 8,
     "metadata": {},
     "output_type": "execute_result"
    }
   ],
   "execution_count": 8
  },
  {
   "metadata": {
    "ExecuteTime": {
     "end_time": "2024-06-14T19:50:26.851334Z",
     "start_time": "2024-06-14T18:41:51.314290Z"
    }
   },
   "cell_type": "code",
   "source": [
    "def bacdiv_method(bacdivlink, soup, retries=5):\n",
    "    if soup is None:\n",
    "        return None\n",
    "    link_div = soup.find('td', class_=\"bold_valigntop width180_valigntop\", string=\"Synonym\") if soup.find('td', class_=\"bold_valigntop width180_valigntop\", string=\"Synonym\") else None\n",
    "    if link_div:  \n",
    "        href = link_div.find_next_sibling('td').find('a')['href']\n",
    "    else:\n",
    "        return [bacdivlink, None]\n",
    "    for attempt in range(retries):\n",
    "        try:\n",
    "            response = requests.get(href)\n",
    "            response.raise_for_status()\n",
    "            soup_2 = BeautifulSoup(response.content, 'html.parser')\n",
    "            synonyms_full = soup_2.find('p').get_text(strip=True).split(':')[-1] if \"Name\" in soup_2.find('p').get_text(strip=True) else None\n",
    "            return [bacdivlink, synonyms_full]\n",
    "        except (requests.exceptions.RequestException, ConnectionResetError) as e:\n",
    "            print(f\"Error fetching link {href}: {e}. Retrying {attempt + 1}/{retries}...\")\n",
    "            time.sleep(1)  # Wait before retrying\n",
    "    return [bacdivlink, href]\n",
    "\n",
    "merged_merged_merged_df = scrape_link(merged_merged_df, 'Bacdive Link', bacdiv_method, [\"Bacdive Link\", \"Synonyms Full\"])\n",
    "\n",
    "merged_merged_merged_df"
   ],
   "id": "87ccf0e169e5d9b6",
   "outputs": [
    {
     "name": "stderr",
     "output_type": "stream",
     "text": [
      "Bacdive Link link Progress:  32%|███▏      | 8709/26965 [12:32<2:04:30,  2.44it/s] "
     ]
    },
    {
     "name": "stdout",
     "output_type": "stream",
     "text": [
      "Error fetching link https://bacdive.dsmz.de/strain/24482: HTTPSConnectionPool(host='bacdive.dsmz.de', port=443): Max retries exceeded with url: /strain/24482 (Caused by NameResolutionError(\"<urllib3.connection.HTTPSConnection object at 0x3a0c05e70>: Failed to resolve 'bacdive.dsmz.de' ([Errno 8] nodename nor servname provided, or not known)\")). Retrying 1/5...\n"
     ]
    },
    {
     "name": "stderr",
     "output_type": "stream",
     "text": [
      "Bacdive Link link Progress:  58%|█████▊    | 15683/26965 [27:05<134:57:07, 43.06s/it] "
     ]
    },
    {
     "name": "stdout",
     "output_type": "stream",
     "text": [
      "Error fetching link https://bacdive.dsmz.de/strain/15734: ('Connection broken: IncompleteRead(3968 bytes read, 6272 more expected)', IncompleteRead(3968 bytes read, 6272 more expected)). Retrying 1/5...\n"
     ]
    },
    {
     "name": "stderr",
     "output_type": "stream",
     "text": [
      "Bacdive Link link Progress:  58%|█████▊    | 15691/26965 [27:14<159:26:18, 50.91s/it]"
     ]
    },
    {
     "name": "stdout",
     "output_type": "stream",
     "text": [
      "Error fetching link https://bacdive.dsmz.de/strain/15737: ('Connection broken: IncompleteRead(7057 bytes read, 3183 more expected)', IncompleteRead(7057 bytes read, 3183 more expected)). Retrying 1/5...\n"
     ]
    },
    {
     "name": "stderr",
     "output_type": "stream",
     "text": [
      "Bacdive Link link Progress:  58%|█████▊    | 15718/26965 [27:49<173:28:39, 55.53s/it]"
     ]
    },
    {
     "name": "stdout",
     "output_type": "stream",
     "text": [
      "Error fetching link https://bacdive.dsmz.de/strain/15745: ('Connection broken: IncompleteRead(905 bytes read, 9335 more expected)', IncompleteRead(905 bytes read, 9335 more expected)). Retrying 1/5...\n"
     ]
    },
    {
     "name": "stderr",
     "output_type": "stream",
     "text": [
      "Bacdive Link link Progress:  59%|█████▊    | 15794/26965 [29:38<212:59:05, 68.64s/it] "
     ]
    },
    {
     "name": "stdout",
     "output_type": "stream",
     "text": [
      "Error fetching link https://bacdive.dsmz.de/strain/16249: ('Connection broken: IncompleteRead(905 bytes read, 9335 more expected)', IncompleteRead(905 bytes read, 9335 more expected)). Retrying 1/5...\n"
     ]
    },
    {
     "name": "stderr",
     "output_type": "stream",
     "text": [
      "Bacdive Link link Progress:  59%|█████▊    | 15808/26965 [29:52<222:07:23, 71.67s/it]"
     ]
    },
    {
     "name": "stdout",
     "output_type": "stream",
     "text": [
      "Error fetching link https://bacdive.dsmz.de/strain/16249: ('Connection broken: IncompleteRead(9476 bytes read, 764 more expected)', IncompleteRead(9476 bytes read, 764 more expected)). Retrying 2/5...\n"
     ]
    },
    {
     "name": "stderr",
     "output_type": "stream",
     "text": [
      "Bacdive Link link Progress:  59%|█████▉    | 15848/26965 [30:21<285:48:54, 92.56s/it] "
     ]
    },
    {
     "name": "stdout",
     "output_type": "stream",
     "text": [
      "Error fetching link https://bacdive.dsmz.de/strain/15768: ('Connection broken: IncompleteRead(6136 bytes read, 4104 more expected)', IncompleteRead(6136 bytes read, 4104 more expected)). Retrying 1/5...\n"
     ]
    },
    {
     "name": "stderr",
     "output_type": "stream",
     "text": [
      "Bacdive Link link Progress:  59%|█████▉    | 15866/26965 [30:48<288:31:35, 93.58s/it] "
     ]
    },
    {
     "name": "stdout",
     "output_type": "stream",
     "text": [
      "Error fetching link https://bacdive.dsmz.de/strain/15725: ('Connection broken: IncompleteRead(10112 bytes read, 128 more expected)', IncompleteRead(10112 bytes read, 128 more expected)). Retrying 1/5...\n"
     ]
    },
    {
     "name": "stderr",
     "output_type": "stream",
     "text": [
      "Bacdive Link link Progress:  60%|█████▉    | 16046/26965 [33:15<3:49:45,  1.26s/it]   "
     ]
    },
    {
     "name": "stdout",
     "output_type": "stream",
     "text": [
      "Error fetching link https://bacdive.dsmz.de/strain/15914: ('Connection broken: IncompleteRead(905 bytes read, 9335 more expected)', IncompleteRead(905 bytes read, 9335 more expected)). Retrying 1/5...\n"
     ]
    },
    {
     "name": "stderr",
     "output_type": "stream",
     "text": [
      "Bacdive Link link Progress:  60%|█████▉    | 16048/26965 [40:26<249:27:29, 82.26s/it] IOStream.flush timed out\n",
      "Bacdive Link link Progress:  60%|█████▉    | 16177/26965 [42:58<31:37:10, 10.55s/it] "
     ]
    },
    {
     "name": "stdout",
     "output_type": "stream",
     "text": [
      "Error fetching link https://bacdive.dsmz.de/strain/15934: ('Connection broken: IncompleteRead(6136 bytes read, 4104 more expected)', IncompleteRead(6136 bytes read, 4104 more expected)). Retrying 1/5...\n"
     ]
    },
    {
     "name": "stderr",
     "output_type": "stream",
     "text": [
      "Bacdive Link link Progress:  60%|██████    | 16189/26965 [43:09<62:34:41, 20.91s/it]"
     ]
    },
    {
     "name": "stdout",
     "output_type": "stream",
     "text": [
      "Error fetching link https://bacdive.dsmz.de/strain/15935: ('Connection broken: IncompleteRead(905 bytes read, 9335 more expected)', IncompleteRead(905 bytes read, 9335 more expected)). Retrying 1/5...\n"
     ]
    },
    {
     "name": "stderr",
     "output_type": "stream",
     "text": [
      "Bacdive Link link Progress:  60%|██████    | 16249/26965 [43:55<116:53:53, 39.27s/it]"
     ]
    },
    {
     "name": "stdout",
     "output_type": "stream",
     "text": [
      "Error fetching link https://bacdive.dsmz.de/strain/15946: ('Connection broken: IncompleteRead(3968 bytes read, 6272 more expected)', IncompleteRead(3968 bytes read, 6272 more expected)). Retrying 1/5...\n"
     ]
    },
    {
     "name": "stderr",
     "output_type": "stream",
     "text": [
      "Bacdive Link link Progress:  60%|██████    | 16265/26965 [44:37<215:19:32, 72.45s/it]"
     ]
    },
    {
     "name": "stdout",
     "output_type": "stream",
     "text": [
      "Error fetching link https://bacdive.dsmz.de/strain/15322: 408 Client Error: Request Time-out for url: https://bacdive.dsmz.de/strain/15322. Retrying 1/5...\n"
     ]
    },
    {
     "name": "stderr",
     "output_type": "stream",
     "text": [
      "Bacdive Link link Progress:  61%|██████    | 16406/26965 [45:32<2:25:28,  1.21it/s]   "
     ]
    },
    {
     "name": "stdout",
     "output_type": "stream",
     "text": [
      "Error fetching link https://bacdive.dsmz.de/strain/15948: ('Connection broken: IncompleteRead(3968 bytes read, 6272 more expected)', IncompleteRead(3968 bytes read, 6272 more expected)). Retrying 1/5...\n"
     ]
    },
    {
     "name": "stderr",
     "output_type": "stream",
     "text": [
      "Bacdive Link link Progress:  61%|██████    | 16447/26965 [45:42<20:03:30,  6.87s/it]"
     ]
    },
    {
     "name": "stdout",
     "output_type": "stream",
     "text": [
      "Error fetching link https://bacdive.dsmz.de/strain/159105: ('Connection broken: IncompleteRead(3526 bytes read, 6714 more expected)', IncompleteRead(3526 bytes read, 6714 more expected)). Retrying 1/5...\n",
      "Error fetching link https://bacdive.dsmz.de/strain/15970: ('Connection broken: IncompleteRead(9497 bytes read, 743 more expected)', IncompleteRead(9497 bytes read, 743 more expected)). Retrying 1/5...\n",
      "Error fetching link https://bacdive.dsmz.de/strain/15968: ('Connection broken: IncompleteRead(0 bytes read, 2 more expected)', IncompleteRead(0 bytes read, 2 more expected)). Retrying 1/5...\n"
     ]
    },
    {
     "name": "stderr",
     "output_type": "stream",
     "text": [
      "Bacdive Link link Progress:  62%|██████▏   | 16604/26965 [49:03<248:25:48, 86.32s/it] "
     ]
    },
    {
     "name": "stdout",
     "output_type": "stream",
     "text": [
      "Error fetching link https://bacdive.dsmz.de/strain/160238: ('Connection broken: IncompleteRead(3535 bytes read, 6705 more expected)', IncompleteRead(3535 bytes read, 6705 more expected)). Retrying 1/5...\n"
     ]
    },
    {
     "name": "stderr",
     "output_type": "stream",
     "text": [
      "Bacdive Link link Progress:  62%|██████▏   | 16734/26965 [51:59<323:47:02, 113.93s/it]"
     ]
    },
    {
     "name": "stdout",
     "output_type": "stream",
     "text": [
      "Error fetching link https://bacdive.dsmz.de/strain/159142: ('Connection broken: IncompleteRead(6136 bytes read, 4104 more expected)', IncompleteRead(6136 bytes read, 4104 more expected)). Retrying 1/5...\n"
     ]
    },
    {
     "name": "stderr",
     "output_type": "stream",
     "text": [
      "Bacdive Link link Progress:  62%|██████▏   | 16780/26965 [52:57<133:40:13, 47.25s/it] "
     ]
    },
    {
     "name": "stdout",
     "output_type": "stream",
     "text": [
      "Error fetching link https://bacdive.dsmz.de/strain/160278: ('Connection broken: IncompleteRead(6136 bytes read, 4104 more expected)', IncompleteRead(6136 bytes read, 4104 more expected)). Retrying 1/5...\n"
     ]
    },
    {
     "name": "stderr",
     "output_type": "stream",
     "text": [
      "Bacdive Link link Progress:  70%|██████▉   | 18784/26965 [56:32<28:41,  4.75it/s]     "
     ]
    },
    {
     "name": "stdout",
     "output_type": "stream",
     "text": [
      "Error fetching link https://lpsn.dsmz.de/genus/excellospora: HTTPSConnectionPool(host='lpsn.dsmz.de', port=443): Read timed out. (read timeout=None). Retrying 1/5...\n"
     ]
    },
    {
     "name": "stderr",
     "output_type": "stream",
     "text": [
      "Bacdive Link link Progress:  71%|███████▏  | 19244/26965 [56:58<1:10:08,  1.83it/s]"
     ]
    },
    {
     "name": "stdout",
     "output_type": "stream",
     "text": [
      "Error fetching link https://lpsn.dsmz.de/species/gordona-bronchialis-1: HTTPSConnectionPool(host='lpsn.dsmz.de', port=443): Max retries exceeded with url: /species/gordona-bronchialis-1 (Caused by NameResolutionError(\"<urllib3.connection.HTTPSConnection object at 0x16a3888b0>: Failed to resolve 'lpsn.dsmz.de' ([Errno 8] nodename nor servname provided, or not known)\")). Retrying 1/5...\n"
     ]
    },
    {
     "name": "stderr",
     "output_type": "stream",
     "text": [
      "Bacdive Link link Progress: 100%|██████████| 26965/26965 [1:08:35<00:00,  6.55it/s]   \n"
     ]
    },
    {
     "data": {
      "text/plain": [
       "      Organism Group                                               Name  \\\n",
       "0          Bacterium                       Heyndrickxia coagulans DSM 1   \n",
       "1          Bacterium  Paenibacillus macquariensis subsp. macquariens...   \n",
       "2          Bacterium                    Sporosarcina psychrophila DSM 3   \n",
       "3          Bacterium                      Sporosarcina globispora DSM 4   \n",
       "4          Bacterium                    Psychrobacillus insolitus DSM 5   \n",
       "...              ...                                                ...   \n",
       "46258                                         Phage (phagum) DSM 117437   \n",
       "46259                                         Phage (phagum) DSM 117679   \n",
       "46260                                         Phage (phagum) DSM 117680   \n",
       "46261                             Staphylococcus epidermidis DSM 117681   \n",
       "46262                             Staphylococcus epidermidis DSM 117682   \n",
       "\n",
       "                                               Name Link DSM No.  \\\n",
       "0           https://mediadive.dsmz.de/strains/view/DSM 1       1   \n",
       "1           https://mediadive.dsmz.de/strains/view/DSM 2       2   \n",
       "2           https://mediadive.dsmz.de/strains/view/DSM 3       3   \n",
       "3           https://mediadive.dsmz.de/strains/view/DSM 4       4   \n",
       "4           https://mediadive.dsmz.de/strains/view/DSM 5       5   \n",
       "...                                                  ...     ...   \n",
       "46258  https://mediadive.dsmz.de/strains/view/DSM 117437  117437   \n",
       "46259  https://mediadive.dsmz.de/strains/view/DSM 117679  117679   \n",
       "46260  https://mediadive.dsmz.de/strains/view/DSM 117680  117680   \n",
       "46261  https://mediadive.dsmz.de/strains/view/DSM 117681  117681   \n",
       "46262  https://mediadive.dsmz.de/strains/view/DSM 117682  117682   \n",
       "\n",
       "                                           Taxonomy Link   Growth media  \\\n",
       "0      https://mediadive.dsmz.de/taxonomy?level=speci...  [453, 1, J22]   \n",
       "1      https://mediadive.dsmz.de/taxonomy?level=speci...            [1]   \n",
       "2      https://mediadive.dsmz.de/taxonomy?level=speci...       [1, J22]   \n",
       "3      https://mediadive.dsmz.de/taxonomy?level=speci...     [514, J22]   \n",
       "4      https://mediadive.dsmz.de/taxonomy?level=speci...          [123]   \n",
       "...                                                  ...            ...   \n",
       "46258                                               None          [381]   \n",
       "46259                                               None           [92]   \n",
       "46260                                               None           [92]   \n",
       "46261                                               None           [92]   \n",
       "46262                                               None           [92]   \n",
       "\n",
       "                                      Growth Media Links  \\\n",
       "0      [https://mediadive.dsmz.de/medium/453, https:/...   \n",
       "1                   [https://mediadive.dsmz.de/medium/1]   \n",
       "2      [https://mediadive.dsmz.de/medium/1, https://m...   \n",
       "3      [https://mediadive.dsmz.de/medium/514, https:/...   \n",
       "4                 [https://mediadive.dsmz.de/medium/123]   \n",
       "...                                                  ...   \n",
       "46258             [https://mediadive.dsmz.de/medium/381]   \n",
       "46259              [https://mediadive.dsmz.de/medium/92]   \n",
       "46260              [https://mediadive.dsmz.de/medium/92]   \n",
       "46261              [https://mediadive.dsmz.de/medium/92]   \n",
       "46262              [https://mediadive.dsmz.de/medium/92]   \n",
       "\n",
       "                                          external links  \\\n",
       "0      [https://www.dsmz.de/collection/catalogue/deta...   \n",
       "1      [https://www.dsmz.de/collection/catalogue/deta...   \n",
       "2      [https://www.dsmz.de/collection/catalogue/deta...   \n",
       "3      [https://www.dsmz.de/collection/catalogue/deta...   \n",
       "4      [https://www.dsmz.de/collection/catalogue/deta...   \n",
       "...                                                  ...   \n",
       "46258  [https://www.dsmz.de/collection/catalogue/deta...   \n",
       "46259  [https://www.dsmz.de/collection/catalogue/deta...   \n",
       "46260  [https://www.dsmz.de/collection/catalogue/deta...   \n",
       "46261  [https://www.dsmz.de/collection/catalogue/deta...   \n",
       "46262  [https://www.dsmz.de/collection/catalogue/deta...   \n",
       "\n",
       "                                          DSMZ Catalogue  \\\n",
       "0      https://www.dsmz.de/collection/catalogue/detai...   \n",
       "1      https://www.dsmz.de/collection/catalogue/detai...   \n",
       "2      https://www.dsmz.de/collection/catalogue/detai...   \n",
       "3      https://www.dsmz.de/collection/catalogue/detai...   \n",
       "4      https://www.dsmz.de/collection/catalogue/detai...   \n",
       "...                                                  ...   \n",
       "46258  https://www.dsmz.de/collection/catalogue/detai...   \n",
       "46259  https://www.dsmz.de/collection/catalogue/detai...   \n",
       "46260  https://www.dsmz.de/collection/catalogue/detai...   \n",
       "46261  https://www.dsmz.de/collection/catalogue/detai...   \n",
       "46262  https://www.dsmz.de/collection/catalogue/detai...   \n",
       "\n",
       "                               Bacdive Link  ... Wink compendium  \\\n",
       "0        https://bacdive.dsmz.de/strain/654  ...            None   \n",
       "1      https://bacdive.dsmz.de/strain/11477  ...            None   \n",
       "2      https://bacdive.dsmz.de/strain/11984  ...            None   \n",
       "3      https://bacdive.dsmz.de/strain/11976  ...            None   \n",
       "4       https://bacdive.dsmz.de/strain/1565  ...            None   \n",
       "...                                     ...  ...             ...   \n",
       "46258                                  None  ...            None   \n",
       "46259                                  None  ...            None   \n",
       "46260                                  None  ...            None   \n",
       "46261                                  None  ...            None   \n",
       "46262                                  None  ...            None   \n",
       "\n",
       "      Wink compendium link                                    Supplied as raw  \\\n",
       "0                     None  \"Delivery formPricesFreeze Dried100,- €Active ...   \n",
       "1                     None  \"Delivery formPricesFreeze Dried100,- €Active ...   \n",
       "2                     None  \"Delivery formPricesFreeze Dried100,- €Active ...   \n",
       "3                     None  \"Delivery formPricesFreeze Dried100,- €Active ...   \n",
       "4                     None  \"Delivery formPricesFreeze Dried100,- €Active ...   \n",
       "...                    ...                                                ...   \n",
       "46258                 None  \"Delivery formPricesLiquid Suspension160,- €Pr...   \n",
       "46259                 None  \"Delivery formPricesLiquid Suspension160,- €Pr...   \n",
       "46260                 None  \"Delivery formPricesLiquid Suspension160,- €Pr...   \n",
       "46261                 None  \"Delivery formPricesFreeze Dried100,- €Active ...   \n",
       "46262                 None  \"Delivery formPricesFreeze Dried100,- €Active ...   \n",
       "\n",
       "                                        Supplied as dict  \\\n",
       "0      {'Freeze Dried': '100,- €', 'Active culture on...   \n",
       "1      {'Freeze Dried': '100,- €', 'Active culture on...   \n",
       "2      {'Freeze Dried': '100,- €', 'Active culture on...   \n",
       "3      {'Freeze Dried': '100,- €', 'Active culture on...   \n",
       "4      {'Freeze Dried': '100,- €', 'Active culture on...   \n",
       "...                                                  ...   \n",
       "46258                   {'Liquid Suspension': '160,- €'}   \n",
       "46259                   {'Liquid Suspension': '160,- €'}   \n",
       "46260                   {'Liquid Suspension': '160,- €'}   \n",
       "46261  {'Freeze Dried': '100,- €', 'Active culture on...   \n",
       "46262  {'Freeze Dried': '100,- €', 'Active culture on...   \n",
       "\n",
       "      Price of Freeze Dried Price of Active culture on request Price of DNA  \\\n",
       "0                   100,- €                            240,- €      150,- €   \n",
       "1                   100,- €                            240,- €      150,- €   \n",
       "2                   100,- €                            240,- €      150,- €   \n",
       "3                   100,- €                            240,- €      150,- €   \n",
       "4                   100,- €                            240,- €      150,- €   \n",
       "...                     ...                                ...          ...   \n",
       "46258                  None                               None         None   \n",
       "46259                  None                               None         None   \n",
       "46260                  None                               None         None   \n",
       "46261               100,- €                            240,- €      150,- €   \n",
       "46262               100,- €                            240,- €      150,- €   \n",
       "\n",
       "      Price Category                                       Culture link  \\\n",
       "0                  1  https://www.dsmz.de/search?tx_kesearch_pi1[swo...   \n",
       "1                  1  https://www.dsmz.de/search?tx_kesearch_pi1[swo...   \n",
       "2                  1  https://www.dsmz.de/search?tx_kesearch_pi1[swo...   \n",
       "3                  1  https://www.dsmz.de/search?tx_kesearch_pi1[swo...   \n",
       "4                  1  https://www.dsmz.de/search?tx_kesearch_pi1[swo...   \n",
       "...              ...                                                ...   \n",
       "46258              6                                               None   \n",
       "46259              6                                               None   \n",
       "46260              6                                               None   \n",
       "46261              1  https://www.dsmz.de/search?tx_kesearch_pi1[swo...   \n",
       "46262              1  https://www.dsmz.de/search?tx_kesearch_pi1[swo...   \n",
       "\n",
       "                                           Synonyms Full  \n",
       "0      BacilluscoagulansHammer 1915 (Approved Lists 1...  \n",
       "1      BacillusmacquariensisMarshall and Ohye 1966 (A...  \n",
       "2      Bacilluspsychrophilus(exLarkin and Stokes 1967...  \n",
       "3      BacillusglobisporusLarkin and Stokes 1967 (App...  \n",
       "4      BacillusinsolitusLarkin and Stokes 1967 (Appro...  \n",
       "...                                                  ...  \n",
       "46258                                                NaN  \n",
       "46259                                                NaN  \n",
       "46260                                                NaN  \n",
       "46261                                                NaN  \n",
       "46262                                                NaN  \n",
       "\n",
       "[46263 rows x 42 columns]"
      ],
      "text/html": [
       "<div>\n",
       "<style scoped>\n",
       "    .dataframe tbody tr th:only-of-type {\n",
       "        vertical-align: middle;\n",
       "    }\n",
       "\n",
       "    .dataframe tbody tr th {\n",
       "        vertical-align: top;\n",
       "    }\n",
       "\n",
       "    .dataframe thead th {\n",
       "        text-align: right;\n",
       "    }\n",
       "</style>\n",
       "<table border=\"1\" class=\"dataframe\">\n",
       "  <thead>\n",
       "    <tr style=\"text-align: right;\">\n",
       "      <th></th>\n",
       "      <th>Organism Group</th>\n",
       "      <th>Name</th>\n",
       "      <th>Name Link</th>\n",
       "      <th>DSM No.</th>\n",
       "      <th>Taxonomy Link</th>\n",
       "      <th>Growth media</th>\n",
       "      <th>Growth Media Links</th>\n",
       "      <th>external links</th>\n",
       "      <th>DSMZ Catalogue</th>\n",
       "      <th>Bacdive Link</th>\n",
       "      <th>...</th>\n",
       "      <th>Wink compendium</th>\n",
       "      <th>Wink compendium link</th>\n",
       "      <th>Supplied as raw</th>\n",
       "      <th>Supplied as dict</th>\n",
       "      <th>Price of Freeze Dried</th>\n",
       "      <th>Price of Active culture on request</th>\n",
       "      <th>Price of DNA</th>\n",
       "      <th>Price Category</th>\n",
       "      <th>Culture link</th>\n",
       "      <th>Synonyms Full</th>\n",
       "    </tr>\n",
       "  </thead>\n",
       "  <tbody>\n",
       "    <tr>\n",
       "      <th>0</th>\n",
       "      <td>Bacterium</td>\n",
       "      <td>Heyndrickxia coagulans DSM 1</td>\n",
       "      <td>https://mediadive.dsmz.de/strains/view/DSM 1</td>\n",
       "      <td>1</td>\n",
       "      <td>https://mediadive.dsmz.de/taxonomy?level=speci...</td>\n",
       "      <td>[453, 1, J22]</td>\n",
       "      <td>[https://mediadive.dsmz.de/medium/453, https:/...</td>\n",
       "      <td>[https://www.dsmz.de/collection/catalogue/deta...</td>\n",
       "      <td>https://www.dsmz.de/collection/catalogue/detai...</td>\n",
       "      <td>https://bacdive.dsmz.de/strain/654</td>\n",
       "      <td>...</td>\n",
       "      <td>None</td>\n",
       "      <td>None</td>\n",
       "      <td>\"Delivery formPricesFreeze Dried100,- €Active ...</td>\n",
       "      <td>{'Freeze Dried': '100,- €', 'Active culture on...</td>\n",
       "      <td>100,- €</td>\n",
       "      <td>240,- €</td>\n",
       "      <td>150,- €</td>\n",
       "      <td>1</td>\n",
       "      <td>https://www.dsmz.de/search?tx_kesearch_pi1[swo...</td>\n",
       "      <td>BacilluscoagulansHammer 1915 (Approved Lists 1...</td>\n",
       "    </tr>\n",
       "    <tr>\n",
       "      <th>1</th>\n",
       "      <td>Bacterium</td>\n",
       "      <td>Paenibacillus macquariensis subsp. macquariens...</td>\n",
       "      <td>https://mediadive.dsmz.de/strains/view/DSM 2</td>\n",
       "      <td>2</td>\n",
       "      <td>https://mediadive.dsmz.de/taxonomy?level=speci...</td>\n",
       "      <td>[1]</td>\n",
       "      <td>[https://mediadive.dsmz.de/medium/1]</td>\n",
       "      <td>[https://www.dsmz.de/collection/catalogue/deta...</td>\n",
       "      <td>https://www.dsmz.de/collection/catalogue/detai...</td>\n",
       "      <td>https://bacdive.dsmz.de/strain/11477</td>\n",
       "      <td>...</td>\n",
       "      <td>None</td>\n",
       "      <td>None</td>\n",
       "      <td>\"Delivery formPricesFreeze Dried100,- €Active ...</td>\n",
       "      <td>{'Freeze Dried': '100,- €', 'Active culture on...</td>\n",
       "      <td>100,- €</td>\n",
       "      <td>240,- €</td>\n",
       "      <td>150,- €</td>\n",
       "      <td>1</td>\n",
       "      <td>https://www.dsmz.de/search?tx_kesearch_pi1[swo...</td>\n",
       "      <td>BacillusmacquariensisMarshall and Ohye 1966 (A...</td>\n",
       "    </tr>\n",
       "    <tr>\n",
       "      <th>2</th>\n",
       "      <td>Bacterium</td>\n",
       "      <td>Sporosarcina psychrophila DSM 3</td>\n",
       "      <td>https://mediadive.dsmz.de/strains/view/DSM 3</td>\n",
       "      <td>3</td>\n",
       "      <td>https://mediadive.dsmz.de/taxonomy?level=speci...</td>\n",
       "      <td>[1, J22]</td>\n",
       "      <td>[https://mediadive.dsmz.de/medium/1, https://m...</td>\n",
       "      <td>[https://www.dsmz.de/collection/catalogue/deta...</td>\n",
       "      <td>https://www.dsmz.de/collection/catalogue/detai...</td>\n",
       "      <td>https://bacdive.dsmz.de/strain/11984</td>\n",
       "      <td>...</td>\n",
       "      <td>None</td>\n",
       "      <td>None</td>\n",
       "      <td>\"Delivery formPricesFreeze Dried100,- €Active ...</td>\n",
       "      <td>{'Freeze Dried': '100,- €', 'Active culture on...</td>\n",
       "      <td>100,- €</td>\n",
       "      <td>240,- €</td>\n",
       "      <td>150,- €</td>\n",
       "      <td>1</td>\n",
       "      <td>https://www.dsmz.de/search?tx_kesearch_pi1[swo...</td>\n",
       "      <td>Bacilluspsychrophilus(exLarkin and Stokes 1967...</td>\n",
       "    </tr>\n",
       "    <tr>\n",
       "      <th>3</th>\n",
       "      <td>Bacterium</td>\n",
       "      <td>Sporosarcina globispora DSM 4</td>\n",
       "      <td>https://mediadive.dsmz.de/strains/view/DSM 4</td>\n",
       "      <td>4</td>\n",
       "      <td>https://mediadive.dsmz.de/taxonomy?level=speci...</td>\n",
       "      <td>[514, J22]</td>\n",
       "      <td>[https://mediadive.dsmz.de/medium/514, https:/...</td>\n",
       "      <td>[https://www.dsmz.de/collection/catalogue/deta...</td>\n",
       "      <td>https://www.dsmz.de/collection/catalogue/detai...</td>\n",
       "      <td>https://bacdive.dsmz.de/strain/11976</td>\n",
       "      <td>...</td>\n",
       "      <td>None</td>\n",
       "      <td>None</td>\n",
       "      <td>\"Delivery formPricesFreeze Dried100,- €Active ...</td>\n",
       "      <td>{'Freeze Dried': '100,- €', 'Active culture on...</td>\n",
       "      <td>100,- €</td>\n",
       "      <td>240,- €</td>\n",
       "      <td>150,- €</td>\n",
       "      <td>1</td>\n",
       "      <td>https://www.dsmz.de/search?tx_kesearch_pi1[swo...</td>\n",
       "      <td>BacillusglobisporusLarkin and Stokes 1967 (App...</td>\n",
       "    </tr>\n",
       "    <tr>\n",
       "      <th>4</th>\n",
       "      <td>Bacterium</td>\n",
       "      <td>Psychrobacillus insolitus DSM 5</td>\n",
       "      <td>https://mediadive.dsmz.de/strains/view/DSM 5</td>\n",
       "      <td>5</td>\n",
       "      <td>https://mediadive.dsmz.de/taxonomy?level=speci...</td>\n",
       "      <td>[123]</td>\n",
       "      <td>[https://mediadive.dsmz.de/medium/123]</td>\n",
       "      <td>[https://www.dsmz.de/collection/catalogue/deta...</td>\n",
       "      <td>https://www.dsmz.de/collection/catalogue/detai...</td>\n",
       "      <td>https://bacdive.dsmz.de/strain/1565</td>\n",
       "      <td>...</td>\n",
       "      <td>None</td>\n",
       "      <td>None</td>\n",
       "      <td>\"Delivery formPricesFreeze Dried100,- €Active ...</td>\n",
       "      <td>{'Freeze Dried': '100,- €', 'Active culture on...</td>\n",
       "      <td>100,- €</td>\n",
       "      <td>240,- €</td>\n",
       "      <td>150,- €</td>\n",
       "      <td>1</td>\n",
       "      <td>https://www.dsmz.de/search?tx_kesearch_pi1[swo...</td>\n",
       "      <td>BacillusinsolitusLarkin and Stokes 1967 (Appro...</td>\n",
       "    </tr>\n",
       "    <tr>\n",
       "      <th>...</th>\n",
       "      <td>...</td>\n",
       "      <td>...</td>\n",
       "      <td>...</td>\n",
       "      <td>...</td>\n",
       "      <td>...</td>\n",
       "      <td>...</td>\n",
       "      <td>...</td>\n",
       "      <td>...</td>\n",
       "      <td>...</td>\n",
       "      <td>...</td>\n",
       "      <td>...</td>\n",
       "      <td>...</td>\n",
       "      <td>...</td>\n",
       "      <td>...</td>\n",
       "      <td>...</td>\n",
       "      <td>...</td>\n",
       "      <td>...</td>\n",
       "      <td>...</td>\n",
       "      <td>...</td>\n",
       "      <td>...</td>\n",
       "      <td>...</td>\n",
       "    </tr>\n",
       "    <tr>\n",
       "      <th>46258</th>\n",
       "      <td></td>\n",
       "      <td>Phage (phagum) DSM 117437</td>\n",
       "      <td>https://mediadive.dsmz.de/strains/view/DSM 117437</td>\n",
       "      <td>117437</td>\n",
       "      <td>None</td>\n",
       "      <td>[381]</td>\n",
       "      <td>[https://mediadive.dsmz.de/medium/381]</td>\n",
       "      <td>[https://www.dsmz.de/collection/catalogue/deta...</td>\n",
       "      <td>https://www.dsmz.de/collection/catalogue/detai...</td>\n",
       "      <td>None</td>\n",
       "      <td>...</td>\n",
       "      <td>None</td>\n",
       "      <td>None</td>\n",
       "      <td>\"Delivery formPricesLiquid Suspension160,- €Pr...</td>\n",
       "      <td>{'Liquid Suspension': '160,- €'}</td>\n",
       "      <td>None</td>\n",
       "      <td>None</td>\n",
       "      <td>None</td>\n",
       "      <td>6</td>\n",
       "      <td>None</td>\n",
       "      <td>NaN</td>\n",
       "    </tr>\n",
       "    <tr>\n",
       "      <th>46259</th>\n",
       "      <td></td>\n",
       "      <td>Phage (phagum) DSM 117679</td>\n",
       "      <td>https://mediadive.dsmz.de/strains/view/DSM 117679</td>\n",
       "      <td>117679</td>\n",
       "      <td>None</td>\n",
       "      <td>[92]</td>\n",
       "      <td>[https://mediadive.dsmz.de/medium/92]</td>\n",
       "      <td>[https://www.dsmz.de/collection/catalogue/deta...</td>\n",
       "      <td>https://www.dsmz.de/collection/catalogue/detai...</td>\n",
       "      <td>None</td>\n",
       "      <td>...</td>\n",
       "      <td>None</td>\n",
       "      <td>None</td>\n",
       "      <td>\"Delivery formPricesLiquid Suspension160,- €Pr...</td>\n",
       "      <td>{'Liquid Suspension': '160,- €'}</td>\n",
       "      <td>None</td>\n",
       "      <td>None</td>\n",
       "      <td>None</td>\n",
       "      <td>6</td>\n",
       "      <td>None</td>\n",
       "      <td>NaN</td>\n",
       "    </tr>\n",
       "    <tr>\n",
       "      <th>46260</th>\n",
       "      <td></td>\n",
       "      <td>Phage (phagum) DSM 117680</td>\n",
       "      <td>https://mediadive.dsmz.de/strains/view/DSM 117680</td>\n",
       "      <td>117680</td>\n",
       "      <td>None</td>\n",
       "      <td>[92]</td>\n",
       "      <td>[https://mediadive.dsmz.de/medium/92]</td>\n",
       "      <td>[https://www.dsmz.de/collection/catalogue/deta...</td>\n",
       "      <td>https://www.dsmz.de/collection/catalogue/detai...</td>\n",
       "      <td>None</td>\n",
       "      <td>...</td>\n",
       "      <td>None</td>\n",
       "      <td>None</td>\n",
       "      <td>\"Delivery formPricesLiquid Suspension160,- €Pr...</td>\n",
       "      <td>{'Liquid Suspension': '160,- €'}</td>\n",
       "      <td>None</td>\n",
       "      <td>None</td>\n",
       "      <td>None</td>\n",
       "      <td>6</td>\n",
       "      <td>None</td>\n",
       "      <td>NaN</td>\n",
       "    </tr>\n",
       "    <tr>\n",
       "      <th>46261</th>\n",
       "      <td></td>\n",
       "      <td>Staphylococcus epidermidis DSM 117681</td>\n",
       "      <td>https://mediadive.dsmz.de/strains/view/DSM 117681</td>\n",
       "      <td>117681</td>\n",
       "      <td>None</td>\n",
       "      <td>[92]</td>\n",
       "      <td>[https://mediadive.dsmz.de/medium/92]</td>\n",
       "      <td>[https://www.dsmz.de/collection/catalogue/deta...</td>\n",
       "      <td>https://www.dsmz.de/collection/catalogue/detai...</td>\n",
       "      <td>None</td>\n",
       "      <td>...</td>\n",
       "      <td>None</td>\n",
       "      <td>None</td>\n",
       "      <td>\"Delivery formPricesFreeze Dried100,- €Active ...</td>\n",
       "      <td>{'Freeze Dried': '100,- €', 'Active culture on...</td>\n",
       "      <td>100,- €</td>\n",
       "      <td>240,- €</td>\n",
       "      <td>150,- €</td>\n",
       "      <td>1</td>\n",
       "      <td>https://www.dsmz.de/search?tx_kesearch_pi1[swo...</td>\n",
       "      <td>NaN</td>\n",
       "    </tr>\n",
       "    <tr>\n",
       "      <th>46262</th>\n",
       "      <td></td>\n",
       "      <td>Staphylococcus epidermidis DSM 117682</td>\n",
       "      <td>https://mediadive.dsmz.de/strains/view/DSM 117682</td>\n",
       "      <td>117682</td>\n",
       "      <td>None</td>\n",
       "      <td>[92]</td>\n",
       "      <td>[https://mediadive.dsmz.de/medium/92]</td>\n",
       "      <td>[https://www.dsmz.de/collection/catalogue/deta...</td>\n",
       "      <td>https://www.dsmz.de/collection/catalogue/detai...</td>\n",
       "      <td>None</td>\n",
       "      <td>...</td>\n",
       "      <td>None</td>\n",
       "      <td>None</td>\n",
       "      <td>\"Delivery formPricesFreeze Dried100,- €Active ...</td>\n",
       "      <td>{'Freeze Dried': '100,- €', 'Active culture on...</td>\n",
       "      <td>100,- €</td>\n",
       "      <td>240,- €</td>\n",
       "      <td>150,- €</td>\n",
       "      <td>1</td>\n",
       "      <td>https://www.dsmz.de/search?tx_kesearch_pi1[swo...</td>\n",
       "      <td>NaN</td>\n",
       "    </tr>\n",
       "  </tbody>\n",
       "</table>\n",
       "<p>46263 rows × 42 columns</p>\n",
       "</div>"
      ]
     },
     "execution_count": 9,
     "metadata": {},
     "output_type": "execute_result"
    }
   ],
   "execution_count": 9
  },
  {
   "metadata": {
    "ExecuteTime": {
     "end_time": "2024-06-14T19:54:41.369367Z",
     "start_time": "2024-06-14T19:54:40.568231Z"
    }
   },
   "cell_type": "code",
   "source": "merged_merged_merged_df.to_csv(\"strains.csv\", index=False)",
   "id": "d0623d452f035a82",
   "outputs": [],
   "execution_count": 11
  },
  {
   "metadata": {},
   "cell_type": "code",
   "source": "",
   "id": "e2a28a91bae035ae",
   "outputs": [],
   "execution_count": null
  }
 ],
 "metadata": {
  "kernelspec": {
   "display_name": "Python 3",
   "language": "python",
   "name": "python3"
  },
  "language_info": {
   "codemirror_mode": {
    "name": "ipython",
    "version": 2
   },
   "file_extension": ".py",
   "mimetype": "text/x-python",
   "name": "python",
   "nbconvert_exporter": "python",
   "pygments_lexer": "ipython2",
   "version": "2.7.6"
  }
 },
 "nbformat": 4,
 "nbformat_minor": 5
}
