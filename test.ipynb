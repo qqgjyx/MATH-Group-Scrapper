{
 "cells": [
  {
   "cell_type": "code",
   "id": "initial_id",
   "metadata": {
    "collapsed": true,
    "ExecuteTime": {
     "end_time": "2024-05-29T07:30:00.528775Z",
     "start_time": "2024-05-29T07:29:58.669219Z"
    }
   },
   "source": [
    "import requests\n",
    "\n",
    "url = \"https://mediadive.dsmz.de/strains\"\n",
    "response = requests.get(url)\n",
    "\n",
    "if response.status_code == 200:\n",
    "    print(\"Successfully fetched the webpage\")\n",
    "else:\n",
    "    print(\"Failed to fetch the webpage\")"
   ],
   "execution_count": 1,
   "outputs": []
  },
  {
   "metadata": {
    "ExecuteTime": {
     "end_time": "2024-05-29T07:30:01.492884Z",
     "start_time": "2024-05-29T07:30:01.433324Z"
    }
   },
   "cell_type": "code",
   "source": [
    "from bs4 import BeautifulSoup\n",
    "\n",
    "soup = BeautifulSoup(response.content, 'html.parser')\n",
    "print(soup.prettify())  # This will print the HTML structure of the page"
   ],
   "id": "f1c6248cd6a481c7",
   "execution_count": 2,
   "outputs": []
  },
  {
   "metadata": {
    "ExecuteTime": {
     "end_time": "2024-05-29T18:27:35.617426Z",
     "start_time": "2024-05-29T18:27:34.032840Z"
    }
   },
   "cell_type": "code",
   "source": [
    "import requests\n",
    "from bs4 import BeautifulSoup\n",
    "\n",
    "# Example Name Link\n",
    "example_name_link = \"https://mediadive.dsmz.de/strains/view/DSM%201\"  # Replace with an actual link\n",
    "\n",
    "# Function to fetch and print the HTML structure of a given URL\n",
    "def fetch_html_structure(url):\n",
    "    try:\n",
    "        response = requests.get(url)\n",
    "        response.raise_for_status()\n",
    "        soup = BeautifulSoup(response.content, 'html.parser')\n",
    "        print(soup.prettify())  # Print the formatted HTML structure\n",
    "    except requests.exceptions.RequestException as e:\n",
    "        print(f\"Error fetching HTML content from {url}: {e}\")\n",
    "\n",
    "# Fetch and print the HTML structure of the example Name Link\n",
    "fetch_html_structure(example_name_link)"
   ],
   "id": "cd34145e29a9f91f",
   "execution_count": 4,
   "outputs": []
  },
  {
   "metadata": {
    "ExecuteTime": {
     "end_time": "2024-05-29T19:37:24.683150Z",
     "start_time": "2024-05-29T19:37:23.086953Z"
    }
   },
   "cell_type": "code",
   "source": [
    "import requests\n",
    "from bs4 import BeautifulSoup\n",
    "\n",
    "# Example Name Link\n",
    "example_name_link = \"https://mediadive.dsmz.de/strains/view/DSM%201\"  # Replace with an actual link\n",
    "\n",
    "# Function to fetch and print the HTML structure of a given URL\n",
    "def fetch_html_structure(url):\n",
    "    try:\n",
    "        response = requests.get(url)\n",
    "        response.raise_for_status()\n",
    "        soup = BeautifulSoup(response.content, 'html.parser')\n",
    "        return soup\n",
    "    except requests.exceptions.RequestException as e:\n",
    "        print(f\"Error fetching HTML content from {url}: {e}\")\n",
    "        return None\n",
    "\n",
    "# Function to extract key data from the HTML structure\n",
    "def extract_key_data(soup):\n",
    "    # Extracting the title\n",
    "    title = soup.find('title').text.strip() if soup.find('title') else 'N/A'\n",
    "\n",
    "    # Extracting the strain name\n",
    "    strain_name = soup.find('h2').text.strip() if soup.find('h2') else 'N/A'\n",
    "\n",
    "    # Extracting the synonyms\n",
    "    synonyms = []\n",
    "    paragraphs = soup.find_all('p')\n",
    "    for p in paragraphs:\n",
    "        bold_text = p.find('b', string='Synonyms:')\n",
    "        if bold_text:\n",
    "            for content in p.contents:\n",
    "                if content.name == 'a':\n",
    "                    synonyms.append(content.get_text(strip=True))\n",
    "                    synonyms.append('href: '+content.get('href'))\n",
    "                elif isinstance(content, str) and content.strip():\n",
    "                    synonyms.extend(content.split(', '))\n",
    "            break\n",
    "    \n",
    "    # Extracting growth media details\n",
    "    media_details = []\n",
    "    media_boxes = soup.find_all('div', class_='box')\n",
    "\n",
    "    for box in media_boxes:\n",
    "        media_title = box.find('h3', class_='title').text.strip() if box.find('h3', class_='title') else 'N/A'\n",
    "        media_link = box.find('a', class_='link colorless')['href'] if box.find('a', class_='link colorless') else 'N/A'\n",
    "        \n",
    "        # Corrected logic to check for growth observation\n",
    "        growth_observed = 'Yes' if box.find('i', class_='ph ph-lg ph-check text-success') else 'No'\n",
    "        \n",
    "        growth_conditions = box.find('span', class_='badge danger').text.strip() if box.find('span', class_='badge danger') else 'N/A'\n",
    "        \n",
    "        media_details.append({\n",
    "            'media_title': media_title,\n",
    "            'media_link': media_link,\n",
    "            'growth_observed': growth_observed,\n",
    "            'growth_conditions': growth_conditions\n",
    "        })\n",
    "\n",
    "    # Displaying the extracted data\n",
    "    print(f\"Title: {title}\")\n",
    "    print(f\"Strain Name: {strain_name}\")\n",
    "    print(f\"Synonyms: {', '.join(synonyms)}\")\n",
    "    print(\"Media Details:\")\n",
    "    for media in media_details:\n",
    "        print(f\"  - Media Title: {media['media_title']}\")\n",
    "        print(f\"    Media Link: {media['media_link']}\")\n",
    "        print(f\"    Growth Observed: {media['growth_observed']}\")\n",
    "        print(f\"    Growth Conditions: {media['growth_conditions']}\")\n",
    "\n",
    "# Fetch the HTML structure of the example Name Link\n",
    "soup = fetch_html_structure(example_name_link)\n",
    "\n",
    "# Extract and print key data if the HTML was successfully fetched\n",
    "if soup:\n",
    "    extract_key_data(soup)"
   ],
   "id": "2faf6b2cf0466c2b",
   "execution_count": 32,
   "outputs": []
  },
  {
   "metadata": {},
   "cell_type": "code",
   "execution_count": null,
   "source": "",
   "id": "a9042002745da92f",
   "outputs": []
  }
 ],
 "metadata": {
  "kernelspec": {
   "display_name": "Python 3",
   "language": "python",
   "name": "python3"
  },
  "language_info": {
   "codemirror_mode": {
    "name": "ipython",
    "version": 2
   },
   "file_extension": ".py",
   "mimetype": "text/x-python",
   "name": "python",
   "nbconvert_exporter": "python",
   "pygments_lexer": "ipython2",
   "version": "2.7.6"
  }
 },
 "nbformat": 4,
 "nbformat_minor": 5
}
